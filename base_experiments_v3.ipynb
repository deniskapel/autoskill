{
 "cells": [
  {
   "cell_type": "code",
   "execution_count": 1,
   "id": "9863d095-2c51-49b6-9b00-45f0f045141a",
   "metadata": {},
   "outputs": [],
   "source": [
    "import json\n",
    "import pickle\n",
    "import statistics\n",
    "\n",
    "from collections import Counter\n",
    "\n",
    "import torch\n",
    "import numpy as np\n",
    "\n",
    "from catboost import CatBoostClassifier, Pool\n",
    "from spacy.lang.en import English\n",
    "from sklearn.linear_model import LogisticRegression\n",
    "from sklearn.ensemble import RandomForestClassifier\n",
    "from sklearn.model_selection import train_test_split\n",
    "from sklearn.metrics import f1_score, accuracy_score\n",
    "from torch.utils.data import DataLoader\n",
    "from torch import nn\n",
    "from tqdm.notebook import tqdm\n",
    "\n",
    "from utils.preprocessing import spacy_tokenize, dummy_fn\n",
    "# from utils.autoskill_torch import SkillDataset, collate_fn \n",
    "from utils.base_torch_utils import train_single_model, evaluate_single_model, BaseModel"
   ]
  },
  {
   "cell_type": "code",
   "execution_count": 2,
   "id": "8faf20ea-606d-4757-ab23-be00cc772aaa",
   "metadata": {},
   "outputs": [],
   "source": [
    "Midas2ID = {\n",
    "    \"appreciation\": 0, \"command\": 1, \"comment\": 2,\"complaint\": 3,\n",
    "    \"dev_command\": 4, \"neg_answer\": 5, \"open_question_factual\": 6,\n",
    "    \"open_question_opinion\": 7, \"opinion\": 8, \"other_answers\": 9,\n",
    "    \"pos_answer\": 10, \"statement\": 11, \"yes_no_question\": 12,\n",
    "}\n",
    "\n",
    "ID2Midas = list(Midas2ID.keys())\n",
    "\n",
    "Entity2ID = {'misc': 0, 'product': 1, 'food': 2, 'location': 3, 'business': 4,\n",
    "             'event': 5, 'work_of_art': 6, 'org': 7, 'occupation': 8, 'fac': 9,\n",
    "             'academic_discipline': 10, 'law': 11, 'film': 12, 'person': 13,\n",
    "             'language': 14, 'type_of_sport': 15, 'nation': 16, 'literary_work': 17,\n",
    "             'norp': 18, 'music_genre': 19, 'sports_event': 20, 'song': 21,\n",
    "             'animal': 22, 'sports_venue': 23, 'sports_season': 24,\n",
    "             'chemical_element': 25, 'political_party': 26, 'sport_team': 27,\n",
    "             'national': 28, 'championship': 29, 'association_football_club': 30,\n",
    "             'sports_league': 31}\n",
    "\n",
    "EntityTargets2ID = {'product': 0, 'food': 1, 'location': 2, 'business': 3,\n",
    "                    'event': 4, 'work_of_art': 5, 'org': 6, 'occupation': 7,\n",
    "                    'fac': 8, 'academic_discipline': 9, 'law': 10, 'person': 11,\n",
    "                    'language': 12, 'type_of_sport': 13, 'nation': 14,\n",
    "                    'norp': 15, 'music_genre': 16, 'sports_event': 17,\n",
    "                    'animal': 18, 'sports_venue': 19, 'sports_season': 20,\n",
    "                    'chemical_element': 21, 'political_party': 22,\n",
    "                    'sport_team': 23, 'national': 24, 'championship': 25,\n",
    "                    'association_football_club': 26, 'sports_league': 27}\n",
    "\n",
    "from itertools import product\n",
    "midas_entity2id = list(product(list(Midas2ID.keys()), list(EntityTargets2ID.keys())))\n",
    "midas_entity2id = {f'{labels[0]}_{labels[1]}': i for i, labels in enumerate(midas_entity2id)}\n",
    "\n",
    "labels_map = { \n",
    "    'midas2id': Midas2ID,\n",
    "    'entities2id': Entity2ID,\n",
    "    'target_entity2id': EntityTargets2ID,\n",
    "    'target_midas2id': Midas2ID,\n",
    "    'target_midas_and_entity2id': midas_entity2id\n",
    "}"
   ]
  },
  {
   "cell_type": "code",
   "execution_count": 3,
   "id": "2572fdcd-cfc0-4925-aeec-6386514a8d6a",
   "metadata": {},
   "outputs": [
    {
     "name": "stdout",
     "output_type": "stream",
     "text": [
      "statement_product\n"
     ]
    }
   ],
   "source": [
    "print(list(midas_entity2id.keys())[list(midas_entity2id.values()).index(308)])"
   ]
  },
  {
   "cell_type": "code",
   "execution_count": 4,
   "id": "63afd115-9912-41d3-a934-7524581d3419",
   "metadata": {},
   "outputs": [],
   "source": [
    "DEVICE = torch.device('cuda' if torch.cuda.is_available() else 'cpu')"
   ]
  },
  {
   "cell_type": "code",
   "execution_count": 5,
   "id": "d774e017-d814-47d9-b7ba-0b402f675284",
   "metadata": {},
   "outputs": [],
   "source": [
    "with open('data/single_entity_daily_dataset_v3.json', 'r', encoding=\"utf8\") as f:\n",
    "    daily = json.load(f)"
   ]
  },
  {
   "cell_type": "code",
   "execution_count": 6,
   "id": "127cd224-6382-44fb-baf0-3f9d4c6853ff",
   "metadata": {},
   "outputs": [],
   "source": [
    "with open('data/single_entity_topical_dataset_v3.json', 'r', encoding=\"utf8\") as f:\n",
    "    topical = json.load(f)"
   ]
  },
  {
   "cell_type": "code",
   "execution_count": 7,
   "id": "7eac4e59-21f6-4bad-b4da-62ddf27ee9b3",
   "metadata": {},
   "outputs": [],
   "source": [
    "tokenizer = English().tokenizer"
   ]
  },
  {
   "cell_type": "code",
   "execution_count": 8,
   "id": "85444da0-e02e-430f-a0f0-1bd3e4ed03fc",
   "metadata": {},
   "outputs": [],
   "source": [
    "import numpy as np\n",
    "import torch\n",
    "\n",
    "\n",
    "class SkillDataset(torch.utils.data.Dataset):\n",
    "    \n",
    "    \"\"\" customized Dataset class from torch \"\"\"\n",
    "    \n",
    "    def __init__(self, data: list, vars2id: dict, tokenizer, tfidf_model):\n",
    "        self.data = data\n",
    "        self.vars2id = vars2id\n",
    "        self.tokenizer = tokenizer\n",
    "        self.tfidf_model = tfidf_model\n",
    "        \n",
    "    def __len__(self):\n",
    "        return len(self.data)\n",
    "    \n",
    "    def __getitem__(self, index):\n",
    "        \"\"\" shape each sample into a proper \"\"\"\n",
    "        sample = self.data[index]\n",
    "        \n",
    "        x_tfidf = self.__vectorize(sample['previous_text'])\n",
    "        x_midas = self.__norm_midas(sample['midas_vectors'])\n",
    "        x_entities = self.__ohencode(sample['previous_entities'])\n",
    "        x_i = self.__concat_vecs(x_tfidf, x_midas, x_entities)\n",
    "        \n",
    "        y_midas = self.data[index]['predict']['midas']\n",
    "        y_entity = self.data[index]['predict']['entities'][0]['label']\n",
    "        y_i = self.__encode_labels(y_midas, y_entity)\n",
    "        \n",
    "        return x_i, y_i\n",
    "        \n",
    "    \n",
    "    def __norm_midas(self, midas_vectors: list) -> np.array:\n",
    "        \"\"\" \n",
    "        takes midas vectors of all sentences in the utterance\n",
    "        averages them and then applies softmax\n",
    "        \"\"\"\n",
    "        vecs = np.zeros((len(midas_vectors), 13))\n",
    "        \n",
    "        for i, vec in enumerate(midas_vectors):\n",
    "            # get max probability per each midas labels\n",
    "            vecs[i] = np.max(np.array(vec), axis=0)\n",
    "\n",
    "        # return normalized\n",
    "        return vecs\n",
    "    \n",
    "    def __tokenize(self, texts: list) -> list:\n",
    "        \"\"\" transform list of strings into a list of list of tokens using spaCy \"\"\"\n",
    "        return [[token.lower_ for token in self.tokenizer(\" \".join(ut))] for ut in texts]\n",
    "    \n",
    "    def __vectorize(self, texts: list) -> np.array:\n",
    "        \"\"\" \n",
    "        Using tfidf, vectorize each utterance in the sample\n",
    "        \n",
    "        return matrix N_utterances * vocab_size of tfidf_model \n",
    "        \n",
    "        input:\n",
    "        texts: list - list of strings\n",
    "        \n",
    "        output:\n",
    "        matrix - np.array\n",
    "        \"\"\"\n",
    "        texts = self.__tokenize(texts)\n",
    "        matrix = self.tfidf_model.transform(texts)\n",
    "        return matrix.todense()\n",
    "    \n",
    "    def __ohencode(self, entities) -> torch.Tensor:\n",
    "        \"\"\" one-hot encoding of entities per each sample \"\"\"\n",
    "        entities = [[ent['label'] for sent in ut for ent in sent] for ut in entities]\n",
    "        ohe_vec = np.zeros((len(entities), len(self.vars2id['entities2id'])))\n",
    "        \n",
    "        for i, ut in enumerate(entities):\n",
    "            for ent in set(ut):\n",
    "                ohe_vec[i][self.vars2id['entities2id'][ent]] = 1\n",
    "        \n",
    "        return ohe_vec\n",
    "    \n",
    "    def __concat_vecs(self, tfidf_vec, midas_vec, ohe_vec) -> np.array:\n",
    "        \"\"\" \n",
    "        Takes tfidf, midas and one-hot encoded entities vectors and\n",
    "        transforms them into (1, vec_size). \n",
    "        \n",
    "        Vec_size comes from:\n",
    "        1. [tfidf utterance(i-2)]\n",
    "        2. [midas proba distribution utterance(i-2)]\n",
    "        3. [entity type one-hot utterance(i-2)]\n",
    "        4. [tfidf (i-1)]\n",
    "        5. [midas (i-1)][entity (i-1)]\n",
    "        6. [tfidf (i)] \n",
    "        7. [midas (i)]\n",
    "        8. [entity (i)]\n",
    "\n",
    "        vec_size = n_utterances * (tfidf.shape[1] + midas.shape[1] + ohe.shape[1])\n",
    "        \"\"\"\n",
    "        assert tfidf_vec.shape[0] == midas_vec.shape[0] == ohe_vec.shape[0]\n",
    "\n",
    "        n_ut = tfidf_vec.shape[0]\n",
    "        ut_vec_size = tfidf_vec.shape[1] + midas_vec.shape[1] + ohe_vec.shape[1]\n",
    "\n",
    "        vecs = np.zeros((n_ut, ut_vec_size))\n",
    "\n",
    "        vecs[:,:tfidf_vec.shape[1]] = tfidf_vec\n",
    "        vecs[:,tfidf_vec.shape[1]:tfidf_vec.shape[1]+midas_vec.shape[1]] = midas_vec\n",
    "        vecs[:,tfidf_vec.shape[1]+midas_vec.shape[1]:] = ohe_vec\n",
    "\n",
    "        # concat utterance vectors into a sample vector\n",
    "        return vecs.reshape(-1)\n",
    "    \n",
    "    def __encode_labels(self, midas_label: str, entity_label: str) -> tuple:\n",
    "        \"\"\" \n",
    "        Returns idx of midas label, entity label and their concatenation.\n",
    "        \n",
    "        the first two will be used when a separate classifier is applied\n",
    "        \n",
    "        while their concatenation is used with a universal classifier\n",
    "        \n",
    "        output:\n",
    "        [target_midas_id: int, target_entity_id: int], concatenation_id: int\n",
    "        \"\"\"\n",
    "        midas_id = self.vars2id['target_midas2id'][midas_label]\n",
    "        entity_id = self.vars2id['target_entity2id'][entity_label]\n",
    "        concat_id = self.vars2id['target_midas_and_entity2id'][f\"{midas_label}_{entity_label}\"]\n",
    "        \n",
    "        return [midas_id, entity_id, concat_id]\n",
    "    \n",
    "    \n",
    "def collate_fn(batch) -> tuple:\n",
    "    \"\"\" a custom collate function to shape a batch properly \"\"\"\n",
    "    \n",
    "    batch_size = len(batch)\n",
    "    # create empty Tensors to concatenate vectorized utterances and labels\n",
    "    X_batch = torch.zeros(batch_size, batch[0][0].shape[0])\n",
    "    y_batch = torch.zeros(batch_size, 3).type(torch.long)\n",
    "    \n",
    "    for i, sample in enumerate(batch):\n",
    "        X_batch[i] = torch.Tensor(batch[i][0]).type(torch.float32)\n",
    "        y_batch[i] = torch.Tensor(batch[i][1])\n",
    "        \n",
    "    return X_batch, y_batch"
   ]
  },
  {
   "cell_type": "markdown",
   "id": "bb6827dc-e87a-4df1-8e95-812a02d94fc3",
   "metadata": {
    "tags": []
   },
   "source": [
    "# TFIDF + Linear_ReLu_Linear"
   ]
  },
  {
   "cell_type": "markdown",
   "id": "90cc69c0-82ab-4537-9564-ce773a24c597",
   "metadata": {
    "tags": []
   },
   "source": [
    "## Daily Dataset"
   ]
  },
  {
   "cell_type": "code",
   "execution_count": 44,
   "id": "2cd5e4d1-ffa6-4e83-9d42-f809f27ad5f8",
   "metadata": {},
   "outputs": [
    {
     "data": {
      "text/plain": [
       "(3115, 779)"
      ]
     },
     "execution_count": 44,
     "metadata": {},
     "output_type": "execute_result"
    }
   ],
   "source": [
    "daily_train, daily_test = train_test_split(daily, test_size=0.2, random_state=42)\n",
    "len(daily_train), len(daily_test)"
   ]
  },
  {
   "cell_type": "code",
   "execution_count": 23,
   "id": "0f105e35-8d25-48aa-b198-0e6283103ad9",
   "metadata": {},
   "outputs": [
    {
     "data": {
      "text/plain": [
       "TfidfVectorizer(lowercase=False, max_df=0.7, max_features=300, min_df=3,\n",
       "                preprocessor=<function dummy_fn at 0x0000020EC41E14C0>,\n",
       "                token_pattern=None,\n",
       "                tokenizer=<function dummy_fn at 0x0000020EC41E14C0>)"
      ]
     },
     "execution_count": 40,
     "metadata": {},
     "output_type": "execute_result"
    }
   ],
   "source": [
    "daily_tfidf = pickle.load(open(\"models/daily_tfidf_3_08_300.pkl\", 'rb'))\n",
    "daily_tfidf"
   ]
  },
  {
   "cell_type": "code",
   "execution_count": 46,
   "id": "1126fcc8-922e-431f-8b56-3dfb4e455728",
   "metadata": {},
   "outputs": [
    {
     "data": {
      "text/plain": [
       "3115"
      ]
     },
     "execution_count": 46,
     "metadata": {},
     "output_type": "execute_result"
    }
   ],
   "source": [
    "daily_train_dataset = SkillDataset(\n",
    "    daily_train, labels_map, \n",
    "    tokenizer=tokenizer,\n",
    "    tfidf_model=daily_tfidf\n",
    ")\n",
    "\n",
    "len(daily_train_dataset)"
   ]
  },
  {
   "cell_type": "code",
   "execution_count": 47,
   "id": "f7579c4a-1542-45f0-a04c-b00e7bfe4498",
   "metadata": {},
   "outputs": [
    {
     "name": "stdout",
     "output_type": "stream",
     "text": [
      "(1035,) \n",
      "\n",
      "[12, 0, 336] \n",
      "\n"
     ]
    }
   ],
   "source": [
    "print(daily_train_dataset[42][0].shape, '\\n') # x_vec\n",
    "print(daily_train_dataset[42][1], '\\n') # y labels: ([midas_id, entity_id], midas_and_entity_id)"
   ]
  },
  {
   "cell_type": "code",
   "execution_count": 49,
   "id": "6c7638ec-6684-448d-83dc-1ba266c2f92f",
   "metadata": {},
   "outputs": [
    {
     "data": {
      "text/plain": [
       "779"
      ]
     },
     "execution_count": 49,
     "metadata": {},
     "output_type": "execute_result"
    }
   ],
   "source": [
    "daily_test_dataset = SkillDataset(\n",
    "    daily_test, labels_map, \n",
    "    tokenizer=tokenizer,\n",
    "    tfidf_model=daily_tfidf\n",
    ")\n",
    "\n",
    "len(daily_test_dataset)"
   ]
  },
  {
   "cell_type": "code",
   "execution_count": 50,
   "id": "a080b7c5-37ef-437a-8b85-b9c74874a0e8",
   "metadata": {},
   "outputs": [],
   "source": [
    "daily_train_loader = DataLoader(\n",
    "    daily_train_dataset, batch_size=32, \n",
    "    shuffle=True, collate_fn=collate_fn)\n",
    "\n",
    "daily_test_loader = DataLoader(\n",
    "    daily_test_dataset, batch_size=32, \n",
    "    shuffle=False, collate_fn=collate_fn)"
   ]
  },
  {
   "cell_type": "code",
   "execution_count": 52,
   "id": "641218ad-fb6b-40f0-9065-f3bacdb2e028",
   "metadata": {},
   "outputs": [
    {
     "data": {
      "text/plain": [
       "(torch.Size([32, 1035]), torch.Size([32, 3]))"
      ]
     },
     "execution_count": 52,
     "metadata": {},
     "output_type": "execute_result"
    }
   ],
   "source": [
    "for x, y in daily_train_loader:\n",
    "    break\n",
    "\n",
    "x.shape, y.shape"
   ]
  },
  {
   "cell_type": "code",
   "execution_count": 53,
   "id": "bde54de5-ec1e-4471-95a7-b51872a6982c",
   "metadata": {},
   "outputs": [
    {
     "data": {
      "application/vnd.jupyter.widget-view+json": {
       "model_id": "ee77406055c84b6ca165ec9ffb4f98ef",
       "version_major": 2,
       "version_minor": 0
      },
      "text/plain": [
       "Testing:   0%|          | 0/3115 [00:00<?, ?it/s]"
      ]
     },
     "metadata": {},
     "output_type": "display_data"
    }
   ],
   "source": [
    "progress_bar = tqdm(total=len(daily_train_loader.dataset), desc='Testing')\n",
    "\n",
    "for batch in daily_train_loader:\n",
    "    progress_bar.update(batch[0].size(0))\n",
    "    \n",
    "progress_bar.close()"
   ]
  },
  {
   "cell_type": "code",
   "execution_count": 54,
   "id": "ff0b4410-008d-4f6c-98a8-aa45a55d182e",
   "metadata": {},
   "outputs": [
    {
     "data": {
      "application/vnd.jupyter.widget-view+json": {
       "model_id": "2df7a8bfbaf94d28ba56ef3fc810a198",
       "version_major": 2,
       "version_minor": 0
      },
      "text/plain": [
       "Testing:   0%|          | 0/779 [00:00<?, ?it/s]"
      ]
     },
     "metadata": {},
     "output_type": "display_data"
    }
   ],
   "source": [
    "progress_bar = tqdm(total=len(daily_test_loader.dataset), desc='Testing')\n",
    "\n",
    "for batch in daily_test_loader:\n",
    "    progress_bar.update(batch[0].size(0))\n",
    "    \n",
    "progress_bar.close()"
   ]
  },
  {
   "cell_type": "markdown",
   "id": "497b4f30-3f43-499d-be5e-b30c591057e9",
   "metadata": {
    "tags": []
   },
   "source": [
    "### Midas"
   ]
  },
  {
   "cell_type": "code",
   "execution_count": 56,
   "id": "941f3175-4ec8-4bcd-a214-283243b1dceb",
   "metadata": {},
   "outputs": [
    {
     "data": {
      "text/plain": [
       "BaseModel(\n",
       "  (linear_in): Linear(in_features=1035, out_features=512, bias=True)\n",
       "  (relu): ReLU()\n",
       "  (clf): Linear(in_features=512, out_features=13, bias=True)\n",
       ")"
      ]
     },
     "execution_count": 56,
     "metadata": {},
     "output_type": "execute_result"
    }
   ],
   "source": [
    "model = BaseModel(\n",
    "    input_size=batch[0].shape[1],\n",
    "    hidden_size=512,\n",
    "    n_classes=len(labels_map['target_midas2id']),\n",
    "    batch_size=daily_train_loader.batch_size\n",
    ")\n",
    "\n",
    "model.to(DEVICE)"
   ]
  },
  {
   "cell_type": "code",
   "execution_count": 57,
   "id": "72e22da2-7fc0-429e-98dd-510e59cf1ca1",
   "metadata": {},
   "outputs": [],
   "source": [
    "criterion = nn.CrossEntropyLoss()\n",
    "optimizer = torch.optim.Adam(params=model.parameters())"
   ]
  },
  {
   "cell_type": "code",
   "execution_count": 58,
   "id": "c8eb8fb1-4b0a-4ce6-893b-393b566d779a",
   "metadata": {},
   "outputs": [],
   "source": [
    "# train loop\n",
    "NUM_EPOCHS = 10  # Задайте количество эпох\n",
    "\n",
    "TRAIN_SIZE = int(np.ceil(len(daily_train_loader.dataset) / daily_train_loader.batch_size))\n",
    "TEST_SIZE = int(np.ceil(len(daily_test_loader.dataset) / daily_test_loader.batch_size))\n",
    "\n",
    "train_losses = list()\n",
    "test_losses = list()\n",
    "\n",
    "test_f1 = list()\n",
    "test_acc = list()"
   ]
  },
  {
   "cell_type": "code",
   "execution_count": 59,
   "id": "cacdf8d4-e6f9-4b39-bffe-2340b65e2338",
   "metadata": {
    "tags": []
   },
   "outputs": [
    {
     "data": {
      "application/vnd.jupyter.widget-view+json": {
       "model_id": "25f2c2228fc74ca7a45ef918740ba822",
       "version_major": 2,
       "version_minor": 0
      },
      "text/plain": [
       "Train epoch 1:   0%|          | 0/98 [00:00<?, ?it/s]"
      ]
     },
     "metadata": {},
     "output_type": "display_data"
    },
    {
     "data": {
      "application/vnd.jupyter.widget-view+json": {
       "model_id": "59957a85760a49d996f8c5096558ed3d",
       "version_major": 2,
       "version_minor": 0
      },
      "text/plain": [
       "Val epoch 1:   0%|          | 0/25 [00:00<?, ?it/s]"
      ]
     },
     "metadata": {},
     "output_type": "display_data"
    },
    {
     "name": "stdout",
     "output_type": "stream",
     "text": [
      "Epoch: 1\n",
      "Train loss - 1.7462 | Test loss - 1.5095\n",
      "TEST: f1 weighted - 0.3900 | accuracy - 0.4557\n",
      "\n"
     ]
    },
    {
     "data": {
      "application/vnd.jupyter.widget-view+json": {
       "model_id": "92a96c59f4664f9194cc044407bbdf60",
       "version_major": 2,
       "version_minor": 0
      },
      "text/plain": [
       "Train epoch 2:   0%|          | 0/98 [00:00<?, ?it/s]"
      ]
     },
     "metadata": {},
     "output_type": "display_data"
    },
    {
     "data": {
      "application/vnd.jupyter.widget-view+json": {
       "model_id": "db2f280224d546c48241169b7a92dffa",
       "version_major": 2,
       "version_minor": 0
      },
      "text/plain": [
       "Val epoch 2:   0%|          | 0/25 [00:00<?, ?it/s]"
      ]
     },
     "metadata": {},
     "output_type": "display_data"
    },
    {
     "name": "stdout",
     "output_type": "stream",
     "text": [
      "Epoch: 2\n",
      "Train loss - 1.3846 | Test loss - 1.4631\n",
      "TEST: f1 weighted - 0.4069 | accuracy - 0.4531\n",
      "\n"
     ]
    },
    {
     "data": {
      "application/vnd.jupyter.widget-view+json": {
       "model_id": "1a4e7d9157d746b093588bfdffa179e4",
       "version_major": 2,
       "version_minor": 0
      },
      "text/plain": [
       "Train epoch 3:   0%|          | 0/98 [00:00<?, ?it/s]"
      ]
     },
     "metadata": {},
     "output_type": "display_data"
    },
    {
     "data": {
      "application/vnd.jupyter.widget-view+json": {
       "model_id": "4b938d3b1a584c878b531b1865a9c7b8",
       "version_major": 2,
       "version_minor": 0
      },
      "text/plain": [
       "Val epoch 3:   0%|          | 0/25 [00:00<?, ?it/s]"
      ]
     },
     "metadata": {},
     "output_type": "display_data"
    },
    {
     "name": "stdout",
     "output_type": "stream",
     "text": [
      "Epoch: 3\n",
      "Train loss - 1.1630 | Test loss - 1.4804\n",
      "TEST: f1 weighted - 0.4091 | accuracy - 0.4621\n",
      "\n"
     ]
    },
    {
     "data": {
      "application/vnd.jupyter.widget-view+json": {
       "model_id": "0bc4f1d01709455e894a426a62dda79b",
       "version_major": 2,
       "version_minor": 0
      },
      "text/plain": [
       "Train epoch 4:   0%|          | 0/98 [00:00<?, ?it/s]"
      ]
     },
     "metadata": {},
     "output_type": "display_data"
    },
    {
     "data": {
      "application/vnd.jupyter.widget-view+json": {
       "model_id": "2fe1348d263c406c9c867b16a9585146",
       "version_major": 2,
       "version_minor": 0
      },
      "text/plain": [
       "Val epoch 4:   0%|          | 0/25 [00:00<?, ?it/s]"
      ]
     },
     "metadata": {},
     "output_type": "display_data"
    },
    {
     "name": "stdout",
     "output_type": "stream",
     "text": [
      "Epoch: 4\n",
      "Train loss - 0.9598 | Test loss - 1.5107\n",
      "TEST: f1 weighted - 0.4456 | accuracy - 0.4814\n",
      "\n"
     ]
    },
    {
     "data": {
      "application/vnd.jupyter.widget-view+json": {
       "model_id": "9b78e953e54349fea355137eb6f2e17a",
       "version_major": 2,
       "version_minor": 0
      },
      "text/plain": [
       "Train epoch 5:   0%|          | 0/98 [00:00<?, ?it/s]"
      ]
     },
     "metadata": {},
     "output_type": "display_data"
    },
    {
     "data": {
      "application/vnd.jupyter.widget-view+json": {
       "model_id": "c7b59e8e079b4ab3b475db821c4dfefa",
       "version_major": 2,
       "version_minor": 0
      },
      "text/plain": [
       "Val epoch 5:   0%|          | 0/25 [00:00<?, ?it/s]"
      ]
     },
     "metadata": {},
     "output_type": "display_data"
    },
    {
     "name": "stdout",
     "output_type": "stream",
     "text": [
      "Epoch: 5\n",
      "Train loss - 0.7563 | Test loss - 1.5750\n",
      "TEST: f1 weighted - 0.4731 | accuracy - 0.4942\n",
      "\n"
     ]
    },
    {
     "data": {
      "application/vnd.jupyter.widget-view+json": {
       "model_id": "cd57581208474228991ad66686665496",
       "version_major": 2,
       "version_minor": 0
      },
      "text/plain": [
       "Train epoch 6:   0%|          | 0/98 [00:00<?, ?it/s]"
      ]
     },
     "metadata": {},
     "output_type": "display_data"
    },
    {
     "data": {
      "application/vnd.jupyter.widget-view+json": {
       "model_id": "808b8bd0709c4a8f94b87815a7602c98",
       "version_major": 2,
       "version_minor": 0
      },
      "text/plain": [
       "Val epoch 6:   0%|          | 0/25 [00:00<?, ?it/s]"
      ]
     },
     "metadata": {},
     "output_type": "display_data"
    },
    {
     "name": "stdout",
     "output_type": "stream",
     "text": [
      "Epoch: 6\n",
      "Train loss - 0.5817 | Test loss - 1.6446\n",
      "TEST: f1 weighted - 0.4912 | accuracy - 0.5019\n",
      "\n"
     ]
    },
    {
     "data": {
      "application/vnd.jupyter.widget-view+json": {
       "model_id": "e29ba3d6961d4e82a0198f03f6678fa4",
       "version_major": 2,
       "version_minor": 0
      },
      "text/plain": [
       "Train epoch 7:   0%|          | 0/98 [00:00<?, ?it/s]"
      ]
     },
     "metadata": {},
     "output_type": "display_data"
    },
    {
     "data": {
      "application/vnd.jupyter.widget-view+json": {
       "model_id": "b1db36f6891243e7a9967838221ded50",
       "version_major": 2,
       "version_minor": 0
      },
      "text/plain": [
       "Val epoch 7:   0%|          | 0/25 [00:00<?, ?it/s]"
      ]
     },
     "metadata": {},
     "output_type": "display_data"
    },
    {
     "name": "stdout",
     "output_type": "stream",
     "text": [
      "Epoch: 7\n",
      "Train loss - 0.4274 | Test loss - 1.7210\n",
      "TEST: f1 weighted - 0.5018 | accuracy - 0.5109\n",
      "\n"
     ]
    },
    {
     "data": {
      "application/vnd.jupyter.widget-view+json": {
       "model_id": "229054e215334de59cb51daf3e93fc71",
       "version_major": 2,
       "version_minor": 0
      },
      "text/plain": [
       "Train epoch 8:   0%|          | 0/98 [00:00<?, ?it/s]"
      ]
     },
     "metadata": {},
     "output_type": "display_data"
    },
    {
     "data": {
      "application/vnd.jupyter.widget-view+json": {
       "model_id": "132cc1b952714e82b7f45a6c4625bd38",
       "version_major": 2,
       "version_minor": 0
      },
      "text/plain": [
       "Val epoch 8:   0%|          | 0/25 [00:00<?, ?it/s]"
      ]
     },
     "metadata": {},
     "output_type": "display_data"
    },
    {
     "name": "stdout",
     "output_type": "stream",
     "text": [
      "Epoch: 8\n",
      "Train loss - 0.3047 | Test loss - 1.8189\n",
      "TEST: f1 weighted - 0.5006 | accuracy - 0.5071\n",
      "\n"
     ]
    },
    {
     "data": {
      "application/vnd.jupyter.widget-view+json": {
       "model_id": "689555cba2064aa096e7c6df4ac06f58",
       "version_major": 2,
       "version_minor": 0
      },
      "text/plain": [
       "Train epoch 9:   0%|          | 0/98 [00:00<?, ?it/s]"
      ]
     },
     "metadata": {},
     "output_type": "display_data"
    },
    {
     "data": {
      "application/vnd.jupyter.widget-view+json": {
       "model_id": "2ab3da7422b44fb0ae4e5bfafc2c71b3",
       "version_major": 2,
       "version_minor": 0
      },
      "text/plain": [
       "Val epoch 9:   0%|          | 0/25 [00:00<?, ?it/s]"
      ]
     },
     "metadata": {},
     "output_type": "display_data"
    },
    {
     "name": "stdout",
     "output_type": "stream",
     "text": [
      "Epoch: 9\n",
      "Train loss - 0.2121 | Test loss - 1.9273\n",
      "TEST: f1 weighted - 0.5080 | accuracy - 0.5160\n",
      "\n"
     ]
    },
    {
     "data": {
      "application/vnd.jupyter.widget-view+json": {
       "model_id": "ae9e5439717947b0b4d76ff3ff44ea28",
       "version_major": 2,
       "version_minor": 0
      },
      "text/plain": [
       "Train epoch 10:   0%|          | 0/98 [00:00<?, ?it/s]"
      ]
     },
     "metadata": {},
     "output_type": "display_data"
    },
    {
     "data": {
      "application/vnd.jupyter.widget-view+json": {
       "model_id": "b61382156e1d4c9dbb834c01813760a0",
       "version_major": 2,
       "version_minor": 0
      },
      "text/plain": [
       "Val epoch 10:   0%|          | 0/25 [00:00<?, ?it/s]"
      ]
     },
     "metadata": {},
     "output_type": "display_data"
    },
    {
     "name": "stdout",
     "output_type": "stream",
     "text": [
      "Epoch: 10\n",
      "Train loss - 0.1423 | Test loss - 2.0273\n",
      "TEST: f1 weighted - 0.5070 | accuracy - 0.5122\n",
      "\n"
     ]
    }
   ],
   "source": [
    "for e in range(1, NUM_EPOCHS+1):\n",
    "    \n",
    "    epoch_train_losses = train_single_model(\n",
    "        model=model, device=DEVICE, dataloader=daily_train_loader, \n",
    "        n_batches=TRAIN_SIZE, epoch=e,\n",
    "        loss_fn=criterion, optimizer=optimizer,\n",
    "        clip=3., label_type='midas')\n",
    "    \n",
    "    epoch_test_losses, epoch_f1, epoch_acc = evaluate_single_model(\n",
    "        model=model, device=DEVICE, dataloader=daily_test_loader, \n",
    "        n_batches=TEST_SIZE, epoch=e, loss_fn=criterion, label_type='midas')\n",
    "    \n",
    "    message = f'Epoch: {e}\\n'\n",
    "    message += f'Train loss - {np.mean(epoch_train_losses):.4f} | Test loss - {np.mean(epoch_test_losses):.4f}\\n'\n",
    "    message += f'TEST: f1 weighted - {epoch_f1:.4f} | accuracy - {epoch_acc:.4f}\\n'\n",
    "\n",
    "    print(message)"
   ]
  },
  {
   "cell_type": "markdown",
   "id": "80aa6c3a-59f7-4efb-878f-f5fe4e091360",
   "metadata": {
    "tags": []
   },
   "source": [
    "### Entity"
   ]
  },
  {
   "cell_type": "code",
   "execution_count": 60,
   "id": "8205c039-fdfc-4a8f-8d81-63f0215b1516",
   "metadata": {},
   "outputs": [
    {
     "data": {
      "text/plain": [
       "BaseModel(\n",
       "  (linear_in): Linear(in_features=1035, out_features=512, bias=True)\n",
       "  (relu): ReLU()\n",
       "  (clf): Linear(in_features=512, out_features=28, bias=True)\n",
       ")"
      ]
     },
     "execution_count": 60,
     "metadata": {},
     "output_type": "execute_result"
    }
   ],
   "source": [
    "model = BaseModel(\n",
    "    input_size=batch[0].shape[1],\n",
    "    hidden_size=512,\n",
    "    n_classes=len(labels_map['target_entity2id']),\n",
    "    batch_size=daily_train_loader.batch_size\n",
    ")\n",
    "\n",
    "model.to(DEVICE)"
   ]
  },
  {
   "cell_type": "code",
   "execution_count": 61,
   "id": "65b3a434-df84-404b-9d71-b7e503b67c36",
   "metadata": {},
   "outputs": [],
   "source": [
    "criterion = nn.CrossEntropyLoss()\n",
    "optimizer = torch.optim.Adam(params=model.parameters())"
   ]
  },
  {
   "cell_type": "code",
   "execution_count": 62,
   "id": "810f284b-d557-4ccb-bd6a-65f5fdd45172",
   "metadata": {},
   "outputs": [],
   "source": [
    "# train loop\n",
    "NUM_EPOCHS = 10  # Задайте количество эпох\n",
    "\n",
    "TRAIN_SIZE = int(np.ceil(len(daily_train_loader.dataset) / daily_train_loader.batch_size))\n",
    "TEST_SIZE = int(np.ceil(len(daily_test_loader.dataset) / daily_test_loader.batch_size))\n",
    "\n",
    "train_losses = list()\n",
    "test_losses = list()\n",
    "\n",
    "test_f1 = list()\n",
    "test_acc = list()"
   ]
  },
  {
   "cell_type": "code",
   "execution_count": 63,
   "id": "c0ba566b-5140-43c6-ba01-624e4762e247",
   "metadata": {
    "tags": []
   },
   "outputs": [
    {
     "data": {
      "application/vnd.jupyter.widget-view+json": {
       "model_id": "21a924e2da144f718de7dde47e262360",
       "version_major": 2,
       "version_minor": 0
      },
      "text/plain": [
       "Train epoch 1:   0%|          | 0/98 [00:00<?, ?it/s]"
      ]
     },
     "metadata": {},
     "output_type": "display_data"
    },
    {
     "data": {
      "application/vnd.jupyter.widget-view+json": {
       "model_id": "efb051073f1c48dc9dd4a7cd490bbcee",
       "version_major": 2,
       "version_minor": 0
      },
      "text/plain": [
       "Val epoch 1:   0%|          | 0/25 [00:00<?, ?it/s]"
      ]
     },
     "metadata": {},
     "output_type": "display_data"
    },
    {
     "name": "stdout",
     "output_type": "stream",
     "text": [
      "Epoch: 1\n",
      "Train loss - 2.2947 | Test loss - 1.9740\n",
      "TEST: f1 weighted - 0.3226 | accuracy - 0.4403\n",
      "\n"
     ]
    },
    {
     "data": {
      "application/vnd.jupyter.widget-view+json": {
       "model_id": "e1384c1d130d4531bad52089badca9cf",
       "version_major": 2,
       "version_minor": 0
      },
      "text/plain": [
       "Train epoch 2:   0%|          | 0/98 [00:00<?, ?it/s]"
      ]
     },
     "metadata": {},
     "output_type": "display_data"
    },
    {
     "data": {
      "application/vnd.jupyter.widget-view+json": {
       "model_id": "b3a3b38d0d4b400b87ca5eaa46345da5",
       "version_major": 2,
       "version_minor": 0
      },
      "text/plain": [
       "Val epoch 2:   0%|          | 0/25 [00:00<?, ?it/s]"
      ]
     },
     "metadata": {},
     "output_type": "display_data"
    },
    {
     "name": "stdout",
     "output_type": "stream",
     "text": [
      "Epoch: 2\n",
      "Train loss - 1.7177 | Test loss - 1.8124\n",
      "TEST: f1 weighted - 0.3972 | accuracy - 0.4801\n",
      "\n"
     ]
    },
    {
     "data": {
      "application/vnd.jupyter.widget-view+json": {
       "model_id": "5f558b1170fa4ac4a64dcf2c6abc9a5d",
       "version_major": 2,
       "version_minor": 0
      },
      "text/plain": [
       "Train epoch 3:   0%|          | 0/98 [00:00<?, ?it/s]"
      ]
     },
     "metadata": {},
     "output_type": "display_data"
    },
    {
     "data": {
      "application/vnd.jupyter.widget-view+json": {
       "model_id": "e906223669ee476ba0325a3b355feeac",
       "version_major": 2,
       "version_minor": 0
      },
      "text/plain": [
       "Val epoch 3:   0%|          | 0/25 [00:00<?, ?it/s]"
      ]
     },
     "metadata": {},
     "output_type": "display_data"
    },
    {
     "name": "stdout",
     "output_type": "stream",
     "text": [
      "Epoch: 3\n",
      "Train loss - 1.4090 | Test loss - 1.7533\n",
      "TEST: f1 weighted - 0.4624 | accuracy - 0.5045\n",
      "\n"
     ]
    },
    {
     "data": {
      "application/vnd.jupyter.widget-view+json": {
       "model_id": "6dec9e46577343f7b98f096df93a32e2",
       "version_major": 2,
       "version_minor": 0
      },
      "text/plain": [
       "Train epoch 4:   0%|          | 0/98 [00:00<?, ?it/s]"
      ]
     },
     "metadata": {},
     "output_type": "display_data"
    },
    {
     "data": {
      "application/vnd.jupyter.widget-view+json": {
       "model_id": "92ea2a80b8ba40cfaad4209aec6a275b",
       "version_major": 2,
       "version_minor": 0
      },
      "text/plain": [
       "Val epoch 4:   0%|          | 0/25 [00:00<?, ?it/s]"
      ]
     },
     "metadata": {},
     "output_type": "display_data"
    },
    {
     "name": "stdout",
     "output_type": "stream",
     "text": [
      "Epoch: 4\n",
      "Train loss - 1.1312 | Test loss - 1.7070\n",
      "TEST: f1 weighted - 0.4788 | accuracy - 0.5186\n",
      "\n"
     ]
    },
    {
     "data": {
      "application/vnd.jupyter.widget-view+json": {
       "model_id": "94db1e41451649cba5fe40246359461f",
       "version_major": 2,
       "version_minor": 0
      },
      "text/plain": [
       "Train epoch 5:   0%|          | 0/98 [00:00<?, ?it/s]"
      ]
     },
     "metadata": {},
     "output_type": "display_data"
    },
    {
     "data": {
      "application/vnd.jupyter.widget-view+json": {
       "model_id": "82db886871f2419da04ce266856c33f4",
       "version_major": 2,
       "version_minor": 0
      },
      "text/plain": [
       "Val epoch 5:   0%|          | 0/25 [00:00<?, ?it/s]"
      ]
     },
     "metadata": {},
     "output_type": "display_data"
    },
    {
     "name": "stdout",
     "output_type": "stream",
     "text": [
      "Epoch: 5\n",
      "Train loss - 0.8829 | Test loss - 1.7543\n",
      "TEST: f1 weighted - 0.4905 | accuracy - 0.5109\n",
      "\n"
     ]
    },
    {
     "data": {
      "application/vnd.jupyter.widget-view+json": {
       "model_id": "8e15dc4956a34aa385c1f2c394563747",
       "version_major": 2,
       "version_minor": 0
      },
      "text/plain": [
       "Train epoch 6:   0%|          | 0/98 [00:00<?, ?it/s]"
      ]
     },
     "metadata": {},
     "output_type": "display_data"
    },
    {
     "data": {
      "application/vnd.jupyter.widget-view+json": {
       "model_id": "f71fedf6ac4c487c8e0a31f4913ec203",
       "version_major": 2,
       "version_minor": 0
      },
      "text/plain": [
       "Val epoch 6:   0%|          | 0/25 [00:00<?, ?it/s]"
      ]
     },
     "metadata": {},
     "output_type": "display_data"
    },
    {
     "name": "stdout",
     "output_type": "stream",
     "text": [
      "Epoch: 6\n",
      "Train loss - 0.6799 | Test loss - 1.8124\n",
      "TEST: f1 weighted - 0.4862 | accuracy - 0.5135\n",
      "\n"
     ]
    },
    {
     "data": {
      "application/vnd.jupyter.widget-view+json": {
       "model_id": "c2ab3255efc9419c857c6a84686912e0",
       "version_major": 2,
       "version_minor": 0
      },
      "text/plain": [
       "Train epoch 7:   0%|          | 0/98 [00:00<?, ?it/s]"
      ]
     },
     "metadata": {},
     "output_type": "display_data"
    },
    {
     "data": {
      "application/vnd.jupyter.widget-view+json": {
       "model_id": "5631ef7354b1465f9e0a0747ad9b11fd",
       "version_major": 2,
       "version_minor": 0
      },
      "text/plain": [
       "Val epoch 7:   0%|          | 0/25 [00:00<?, ?it/s]"
      ]
     },
     "metadata": {},
     "output_type": "display_data"
    },
    {
     "name": "stdout",
     "output_type": "stream",
     "text": [
      "Epoch: 7\n",
      "Train loss - 0.5113 | Test loss - 1.8851\n",
      "TEST: f1 weighted - 0.5079 | accuracy - 0.5250\n",
      "\n"
     ]
    },
    {
     "data": {
      "application/vnd.jupyter.widget-view+json": {
       "model_id": "b9df4caa60a144df8a7c8cfc9230b877",
       "version_major": 2,
       "version_minor": 0
      },
      "text/plain": [
       "Train epoch 8:   0%|          | 0/98 [00:00<?, ?it/s]"
      ]
     },
     "metadata": {},
     "output_type": "display_data"
    },
    {
     "data": {
      "application/vnd.jupyter.widget-view+json": {
       "model_id": "5000a8ab0abc441f954811f9ac0de133",
       "version_major": 2,
       "version_minor": 0
      },
      "text/plain": [
       "Val epoch 8:   0%|          | 0/25 [00:00<?, ?it/s]"
      ]
     },
     "metadata": {},
     "output_type": "display_data"
    },
    {
     "name": "stdout",
     "output_type": "stream",
     "text": [
      "Epoch: 8\n",
      "Train loss - 0.3730 | Test loss - 1.9726\n",
      "TEST: f1 weighted - 0.5000 | accuracy - 0.5186\n",
      "\n"
     ]
    },
    {
     "data": {
      "application/vnd.jupyter.widget-view+json": {
       "model_id": "1dfbcedc7dd3482bb9c8d6b86a01f017",
       "version_major": 2,
       "version_minor": 0
      },
      "text/plain": [
       "Train epoch 9:   0%|          | 0/98 [00:00<?, ?it/s]"
      ]
     },
     "metadata": {},
     "output_type": "display_data"
    },
    {
     "data": {
      "application/vnd.jupyter.widget-view+json": {
       "model_id": "5d482e9ac59b428dbb0a443f0271a034",
       "version_major": 2,
       "version_minor": 0
      },
      "text/plain": [
       "Val epoch 9:   0%|          | 0/25 [00:00<?, ?it/s]"
      ]
     },
     "metadata": {},
     "output_type": "display_data"
    },
    {
     "name": "stdout",
     "output_type": "stream",
     "text": [
      "Epoch: 9\n",
      "Train loss - 0.2753 | Test loss - 2.0850\n",
      "TEST: f1 weighted - 0.4936 | accuracy - 0.5173\n",
      "\n"
     ]
    },
    {
     "data": {
      "application/vnd.jupyter.widget-view+json": {
       "model_id": "917259d6eeb64aae8298f64607c80d16",
       "version_major": 2,
       "version_minor": 0
      },
      "text/plain": [
       "Train epoch 10:   0%|          | 0/98 [00:00<?, ?it/s]"
      ]
     },
     "metadata": {},
     "output_type": "display_data"
    },
    {
     "data": {
      "application/vnd.jupyter.widget-view+json": {
       "model_id": "52ec63288652439e9fb739b9b25cd3e5",
       "version_major": 2,
       "version_minor": 0
      },
      "text/plain": [
       "Val epoch 10:   0%|          | 0/25 [00:00<?, ?it/s]"
      ]
     },
     "metadata": {},
     "output_type": "display_data"
    },
    {
     "name": "stdout",
     "output_type": "stream",
     "text": [
      "Epoch: 10\n",
      "Train loss - 0.1951 | Test loss - 2.1631\n",
      "TEST: f1 weighted - 0.4846 | accuracy - 0.4994\n",
      "\n"
     ]
    }
   ],
   "source": [
    "for e in range(1, NUM_EPOCHS+1):\n",
    "    \n",
    "    epoch_train_losses = train_single_model(\n",
    "        model=model, device=DEVICE, dataloader=daily_train_loader, \n",
    "        n_batches=TRAIN_SIZE, epoch=e,\n",
    "        loss_fn=criterion, optimizer=optimizer,\n",
    "        clip=3., label_type='entity')\n",
    "    \n",
    "    epoch_test_losses, epoch_f1, epoch_acc = evaluate_single_model(\n",
    "        model=model, device=DEVICE, dataloader=daily_test_loader, \n",
    "        n_batches=TEST_SIZE, epoch=e, loss_fn=criterion, label_type='entity')\n",
    "    \n",
    "    message = f'Epoch: {e}\\n'\n",
    "    message += f'Train loss - {np.mean(epoch_train_losses):.4f} | Test loss - {np.mean(epoch_test_losses):.4f}\\n'\n",
    "    message += f'TEST: f1 weighted - {epoch_f1:.4f} | accuracy - {epoch_acc:.4f}\\n'\n",
    "\n",
    "    print(message)"
   ]
  },
  {
   "cell_type": "markdown",
   "id": "5a5f70d8-d2b5-47cd-b59d-014886b5abcd",
   "metadata": {
    "tags": []
   },
   "source": [
    "### Concatenation"
   ]
  },
  {
   "cell_type": "code",
   "execution_count": 64,
   "id": "2fceb433-f197-413e-a5d6-5eebb73090ef",
   "metadata": {},
   "outputs": [
    {
     "data": {
      "text/plain": [
       "BaseModel(\n",
       "  (linear_in): Linear(in_features=1035, out_features=512, bias=True)\n",
       "  (relu): ReLU()\n",
       "  (clf): Linear(in_features=512, out_features=364, bias=True)\n",
       ")"
      ]
     },
     "execution_count": 64,
     "metadata": {},
     "output_type": "execute_result"
    }
   ],
   "source": [
    "model = BaseModel(\n",
    "    input_size=batch[0].shape[1],\n",
    "    hidden_size=512,\n",
    "    n_classes=len(labels_map['target_midas_and_entity2id']),\n",
    "    batch_size=daily_train_loader.batch_size\n",
    ")\n",
    "\n",
    "model.to(DEVICE)"
   ]
  },
  {
   "cell_type": "code",
   "execution_count": 65,
   "id": "8b52f1f6-2304-460b-9485-482f022ed4b8",
   "metadata": {},
   "outputs": [],
   "source": [
    "criterion = nn.CrossEntropyLoss()\n",
    "optimizer = torch.optim.Adam(params=model.parameters())"
   ]
  },
  {
   "cell_type": "code",
   "execution_count": 66,
   "id": "ac2a58d1-3ccc-4f6d-a87f-6885aa1796cb",
   "metadata": {},
   "outputs": [],
   "source": [
    "# train loop\n",
    "NUM_EPOCHS = 10  # Задайте количество эпох\n",
    "\n",
    "TRAIN_SIZE = int(np.ceil(len(daily_train_loader.dataset) / daily_train_loader.batch_size))\n",
    "TEST_SIZE = int(np.ceil(len(daily_test_loader.dataset) / daily_test_loader.batch_size))\n",
    "\n",
    "train_losses = list()\n",
    "test_losses = list()\n",
    "\n",
    "test_f1 = list()\n",
    "test_acc = list()"
   ]
  },
  {
   "cell_type": "code",
   "execution_count": 67,
   "id": "904935d7-e77f-4798-928f-da792b66c196",
   "metadata": {
    "tags": []
   },
   "outputs": [
    {
     "data": {
      "application/vnd.jupyter.widget-view+json": {
       "model_id": "69b945c899774f55826717a4e58d31fe",
       "version_major": 2,
       "version_minor": 0
      },
      "text/plain": [
       "Train epoch 1:   0%|          | 0/98 [00:00<?, ?it/s]"
      ]
     },
     "metadata": {},
     "output_type": "display_data"
    },
    {
     "data": {
      "application/vnd.jupyter.widget-view+json": {
       "model_id": "1c3b822153af4385a487891858e509d2",
       "version_major": 2,
       "version_minor": 0
      },
      "text/plain": [
       "Val epoch 1:   0%|          | 0/25 [00:00<?, ?it/s]"
      ]
     },
     "metadata": {},
     "output_type": "display_data"
    },
    {
     "name": "stdout",
     "output_type": "stream",
     "text": [
      "Epoch: 1\n",
      "Train loss - 4.3210 | Test loss - 3.7844\n",
      "TEST: f1 weighted - 0.0699 | accuracy - 0.1772\n",
      "\n"
     ]
    },
    {
     "data": {
      "application/vnd.jupyter.widget-view+json": {
       "model_id": "db976a9560dd4f98a359d0bb999d7c22",
       "version_major": 2,
       "version_minor": 0
      },
      "text/plain": [
       "Train epoch 2:   0%|          | 0/98 [00:00<?, ?it/s]"
      ]
     },
     "metadata": {},
     "output_type": "display_data"
    },
    {
     "data": {
      "application/vnd.jupyter.widget-view+json": {
       "model_id": "93b99c0c7f5f4e728fd051572532ec15",
       "version_major": 2,
       "version_minor": 0
      },
      "text/plain": [
       "Val epoch 2:   0%|          | 0/25 [00:00<?, ?it/s]"
      ]
     },
     "metadata": {},
     "output_type": "display_data"
    },
    {
     "name": "stdout",
     "output_type": "stream",
     "text": [
      "Epoch: 2\n",
      "Train loss - 3.3991 | Test loss - 3.5015\n",
      "TEST: f1 weighted - 0.0920 | accuracy - 0.1938\n",
      "\n"
     ]
    },
    {
     "data": {
      "application/vnd.jupyter.widget-view+json": {
       "model_id": "1345ee837de34feeaba74181b9091973",
       "version_major": 2,
       "version_minor": 0
      },
      "text/plain": [
       "Train epoch 3:   0%|          | 0/98 [00:00<?, ?it/s]"
      ]
     },
     "metadata": {},
     "output_type": "display_data"
    },
    {
     "data": {
      "application/vnd.jupyter.widget-view+json": {
       "model_id": "67f044c7b31741eeb4fbaa23f109b947",
       "version_major": 2,
       "version_minor": 0
      },
      "text/plain": [
       "Val epoch 3:   0%|          | 0/25 [00:00<?, ?it/s]"
      ]
     },
     "metadata": {},
     "output_type": "display_data"
    },
    {
     "name": "stdout",
     "output_type": "stream",
     "text": [
      "Epoch: 3\n",
      "Train loss - 2.9141 | Test loss - 3.3518\n",
      "TEST: f1 weighted - 0.1545 | accuracy - 0.2169\n",
      "\n"
     ]
    },
    {
     "data": {
      "application/vnd.jupyter.widget-view+json": {
       "model_id": "1a5e5cca40354339aef454ecf9501fee",
       "version_major": 2,
       "version_minor": 0
      },
      "text/plain": [
       "Train epoch 4:   0%|          | 0/98 [00:00<?, ?it/s]"
      ]
     },
     "metadata": {},
     "output_type": "display_data"
    },
    {
     "data": {
      "application/vnd.jupyter.widget-view+json": {
       "model_id": "049fd4ae185749d29bce709f4f30f6de",
       "version_major": 2,
       "version_minor": 0
      },
      "text/plain": [
       "Val epoch 4:   0%|          | 0/25 [00:00<?, ?it/s]"
      ]
     },
     "metadata": {},
     "output_type": "display_data"
    },
    {
     "name": "stdout",
     "output_type": "stream",
     "text": [
      "Epoch: 4\n",
      "Train loss - 2.4540 | Test loss - 3.2736\n",
      "TEST: f1 weighted - 0.1881 | accuracy - 0.2465\n",
      "\n"
     ]
    },
    {
     "data": {
      "application/vnd.jupyter.widget-view+json": {
       "model_id": "b387c8b46f744502801cd93c6f1dbdb8",
       "version_major": 2,
       "version_minor": 0
      },
      "text/plain": [
       "Train epoch 5:   0%|          | 0/98 [00:00<?, ?it/s]"
      ]
     },
     "metadata": {},
     "output_type": "display_data"
    },
    {
     "data": {
      "application/vnd.jupyter.widget-view+json": {
       "model_id": "02aeb1de15f34ecfa360a765d16e722c",
       "version_major": 2,
       "version_minor": 0
      },
      "text/plain": [
       "Val epoch 5:   0%|          | 0/25 [00:00<?, ?it/s]"
      ]
     },
     "metadata": {},
     "output_type": "display_data"
    },
    {
     "name": "stdout",
     "output_type": "stream",
     "text": [
      "Epoch: 5\n",
      "Train loss - 1.9958 | Test loss - 3.2268\n",
      "TEST: f1 weighted - 0.2111 | accuracy - 0.2516\n",
      "\n"
     ]
    },
    {
     "data": {
      "application/vnd.jupyter.widget-view+json": {
       "model_id": "b210b1e66e1140bf82a0d5ae9a998e4e",
       "version_major": 2,
       "version_minor": 0
      },
      "text/plain": [
       "Train epoch 6:   0%|          | 0/98 [00:00<?, ?it/s]"
      ]
     },
     "metadata": {},
     "output_type": "display_data"
    },
    {
     "data": {
      "application/vnd.jupyter.widget-view+json": {
       "model_id": "1751a5afe96a4eeda7150a17f359aa8a",
       "version_major": 2,
       "version_minor": 0
      },
      "text/plain": [
       "Val epoch 6:   0%|          | 0/25 [00:00<?, ?it/s]"
      ]
     },
     "metadata": {},
     "output_type": "display_data"
    },
    {
     "name": "stdout",
     "output_type": "stream",
     "text": [
      "Epoch: 6\n",
      "Train loss - 1.5759 | Test loss - 3.2322\n",
      "TEST: f1 weighted - 0.2443 | accuracy - 0.2760\n",
      "\n"
     ]
    },
    {
     "data": {
      "application/vnd.jupyter.widget-view+json": {
       "model_id": "87d5ae1ff9834addbb2670205214cd98",
       "version_major": 2,
       "version_minor": 0
      },
      "text/plain": [
       "Train epoch 7:   0%|          | 0/98 [00:00<?, ?it/s]"
      ]
     },
     "metadata": {},
     "output_type": "display_data"
    },
    {
     "data": {
      "application/vnd.jupyter.widget-view+json": {
       "model_id": "647d7946e3294f0a8cbc6a0b3db213e6",
       "version_major": 2,
       "version_minor": 0
      },
      "text/plain": [
       "Val epoch 7:   0%|          | 0/25 [00:00<?, ?it/s]"
      ]
     },
     "metadata": {},
     "output_type": "display_data"
    },
    {
     "name": "stdout",
     "output_type": "stream",
     "text": [
      "Epoch: 7\n",
      "Train loss - 1.2058 | Test loss - 3.2802\n",
      "TEST: f1 weighted - 0.2697 | accuracy - 0.3017\n",
      "\n"
     ]
    },
    {
     "data": {
      "application/vnd.jupyter.widget-view+json": {
       "model_id": "8ee886afee1f4dcb9b5cc10dce82ad95",
       "version_major": 2,
       "version_minor": 0
      },
      "text/plain": [
       "Train epoch 8:   0%|          | 0/98 [00:00<?, ?it/s]"
      ]
     },
     "metadata": {},
     "output_type": "display_data"
    },
    {
     "data": {
      "application/vnd.jupyter.widget-view+json": {
       "model_id": "7118e493bcca49e38f1124d247e6b3dd",
       "version_major": 2,
       "version_minor": 0
      },
      "text/plain": [
       "Val epoch 8:   0%|          | 0/25 [00:00<?, ?it/s]"
      ]
     },
     "metadata": {},
     "output_type": "display_data"
    },
    {
     "name": "stdout",
     "output_type": "stream",
     "text": [
      "Epoch: 8\n",
      "Train loss - 0.8861 | Test loss - 3.3080\n",
      "TEST: f1 weighted - 0.2881 | accuracy - 0.3119\n",
      "\n"
     ]
    },
    {
     "data": {
      "application/vnd.jupyter.widget-view+json": {
       "model_id": "709dab6a01fb47229bfc9ec627b2978b",
       "version_major": 2,
       "version_minor": 0
      },
      "text/plain": [
       "Train epoch 9:   0%|          | 0/98 [00:00<?, ?it/s]"
      ]
     },
     "metadata": {},
     "output_type": "display_data"
    },
    {
     "data": {
      "application/vnd.jupyter.widget-view+json": {
       "model_id": "2c65e40837c84771836c2d4295539a9e",
       "version_major": 2,
       "version_minor": 0
      },
      "text/plain": [
       "Val epoch 9:   0%|          | 0/25 [00:00<?, ?it/s]"
      ]
     },
     "metadata": {},
     "output_type": "display_data"
    },
    {
     "name": "stdout",
     "output_type": "stream",
     "text": [
      "Epoch: 9\n",
      "Train loss - 0.6457 | Test loss - 3.4075\n",
      "TEST: f1 weighted - 0.2933 | accuracy - 0.3158\n",
      "\n"
     ]
    },
    {
     "data": {
      "application/vnd.jupyter.widget-view+json": {
       "model_id": "ff1d16b9203f4e37ad65a6996aeab983",
       "version_major": 2,
       "version_minor": 0
      },
      "text/plain": [
       "Train epoch 10:   0%|          | 0/98 [00:00<?, ?it/s]"
      ]
     },
     "metadata": {},
     "output_type": "display_data"
    },
    {
     "data": {
      "application/vnd.jupyter.widget-view+json": {
       "model_id": "f3f3a7535a9f4ab5bfd103a0db04f0c2",
       "version_major": 2,
       "version_minor": 0
      },
      "text/plain": [
       "Val epoch 10:   0%|          | 0/25 [00:00<?, ?it/s]"
      ]
     },
     "metadata": {},
     "output_type": "display_data"
    },
    {
     "name": "stdout",
     "output_type": "stream",
     "text": [
      "Epoch: 10\n",
      "Train loss - 0.4614 | Test loss - 3.4966\n",
      "TEST: f1 weighted - 0.2990 | accuracy - 0.3209\n",
      "\n"
     ]
    }
   ],
   "source": [
    "for e in range(1, NUM_EPOCHS+1):\n",
    "    \n",
    "    epoch_train_losses = train_single_model(\n",
    "        model=model, device=DEVICE, dataloader=daily_train_loader, \n",
    "        n_batches=TRAIN_SIZE, epoch=e,\n",
    "        loss_fn=criterion, optimizer=optimizer,\n",
    "        clip=3., label_type='concatenation')\n",
    "    \n",
    "    epoch_test_losses, epoch_f1, epoch_acc = evaluate_single_model(\n",
    "        model=model, device=DEVICE, dataloader=daily_test_loader, \n",
    "        n_batches=TEST_SIZE, epoch=e, loss_fn=criterion, label_type='concatenation')\n",
    "    \n",
    "    message = f'Epoch: {e}\\n'\n",
    "    message += f'Train loss - {np.mean(epoch_train_losses):.4f} | Test loss - {np.mean(epoch_test_losses):.4f}\\n'\n",
    "    message += f'TEST: f1 weighted - {epoch_f1:.4f} | accuracy - {epoch_acc:.4f}\\n'\n",
    "\n",
    "    print(message)"
   ]
  },
  {
   "cell_type": "markdown",
   "id": "4a423b2d-f4b4-4aab-8199-4f0477e2d882",
   "metadata": {
    "tags": []
   },
   "source": [
    "## Topical Chat"
   ]
  },
  {
   "cell_type": "code",
   "execution_count": 69,
   "id": "72abec03-9429-4f2c-ad47-518288f99660",
   "metadata": {},
   "outputs": [
    {
     "data": {
      "text/plain": [
       "(6240, 1560)"
      ]
     },
     "execution_count": 69,
     "metadata": {},
     "output_type": "execute_result"
    }
   ],
   "source": [
    "topical_train, topical_test = train_test_split(topical, test_size=0.2, random_state=42)\n",
    "len(topical_train), len(topical_test)"
   ]
  },
  {
   "cell_type": "code",
   "execution_count": 70,
   "id": "f4c1c4af-ce28-4b8e-9ba0-87fda2796af4",
   "metadata": {},
   "outputs": [
    {
     "data": {
      "text/plain": [
       "TfidfVectorizer(lowercase=False, max_df=0.7, max_features=300, min_df=3,\n",
       "                preprocessor=<function dummy_fn at 0x0000020EC41E14C0>,\n",
       "                token_pattern=None,\n",
       "                tokenizer=<function dummy_fn at 0x0000020EC41E14C0>)"
      ]
     },
     "execution_count": 70,
     "metadata": {},
     "output_type": "execute_result"
    }
   ],
   "source": [
    "tokenizer = English().tokenizer\n",
    "topical_tfidf = pickle.load(open(\"models/topical_tfidf_3_08_300.pkl\", 'rb'))\n",
    "topical_tfidf"
   ]
  },
  {
   "cell_type": "code",
   "execution_count": 72,
   "id": "47bd6109-0fa1-441a-b8eb-a1bc2b28e7f4",
   "metadata": {},
   "outputs": [
    {
     "data": {
      "text/plain": [
       "6240"
      ]
     },
     "execution_count": 72,
     "metadata": {},
     "output_type": "execute_result"
    }
   ],
   "source": [
    "topical_train_dataset = SkillDataset(\n",
    "    topical_train, labels_map, \n",
    "    tokenizer=tokenizer,\n",
    "    tfidf_model=topical_tfidf\n",
    ")\n",
    "\n",
    "len(topical_train_dataset)"
   ]
  },
  {
   "cell_type": "code",
   "execution_count": 73,
   "id": "09f551cd-69f6-47e7-a60c-0212e9736693",
   "metadata": {},
   "outputs": [
    {
     "name": "stdout",
     "output_type": "stream",
     "text": [
      "(1035,) \n",
      "\n",
      "[11, 2, 310] \n",
      "\n"
     ]
    }
   ],
   "source": [
    "print(topical_train_dataset[42][0].shape, '\\n') # x_vec\n",
    "print(topical_train_dataset[42][1], '\\n') # y labels: ([midas_id, entity_id], midas_and_entity_id)"
   ]
  },
  {
   "cell_type": "code",
   "execution_count": 74,
   "id": "e4d23db6-57f4-485f-9136-2d6eb9157c4c",
   "metadata": {},
   "outputs": [
    {
     "data": {
      "text/plain": [
       "1560"
      ]
     },
     "execution_count": 74,
     "metadata": {},
     "output_type": "execute_result"
    }
   ],
   "source": [
    "topical_test_dataset = SkillDataset(\n",
    "    topical_test, labels_map, \n",
    "    tokenizer=tokenizer,\n",
    "    tfidf_model=topical_tfidf\n",
    ")\n",
    "\n",
    "len(topical_test_dataset)"
   ]
  },
  {
   "cell_type": "code",
   "execution_count": 75,
   "id": "db30d9a6-9a7e-48f6-8a07-6255e54d5fd2",
   "metadata": {},
   "outputs": [],
   "source": [
    "topical_train_loader = DataLoader(\n",
    "    topical_train_dataset, batch_size=32, \n",
    "    shuffle=True, collate_fn=collate_fn)\n",
    "\n",
    "topical_test_loader = DataLoader(\n",
    "    topical_test_dataset, batch_size=32, \n",
    "    shuffle=False, collate_fn=collate_fn)"
   ]
  },
  {
   "cell_type": "code",
   "execution_count": 76,
   "id": "b8e200d1-3ae6-4010-9922-c51b3b4c9b72",
   "metadata": {},
   "outputs": [
    {
     "data": {
      "text/plain": [
       "(torch.Size([32, 1035]), torch.Size([32, 3]))"
      ]
     },
     "execution_count": 76,
     "metadata": {},
     "output_type": "execute_result"
    }
   ],
   "source": [
    "for x, y in topical_train_loader:\n",
    "    break\n",
    "\n",
    "x.shape, y.shape"
   ]
  },
  {
   "cell_type": "code",
   "execution_count": 77,
   "id": "b140f3a4-faed-4c22-9b4d-e9353f2b356d",
   "metadata": {},
   "outputs": [
    {
     "data": {
      "application/vnd.jupyter.widget-view+json": {
       "model_id": "2cc2165f544944aea54989c7e91fb476",
       "version_major": 2,
       "version_minor": 0
      },
      "text/plain": [
       "Testing:   0%|          | 0/6240 [00:00<?, ?it/s]"
      ]
     },
     "metadata": {},
     "output_type": "display_data"
    }
   ],
   "source": [
    "progress_bar = tqdm(total=len(topical_train_loader.dataset), desc='Testing')\n",
    "\n",
    "for batch in topical_train_loader:\n",
    "    progress_bar.update(batch[0].size(0))\n",
    "    \n",
    "progress_bar.close()"
   ]
  },
  {
   "cell_type": "code",
   "execution_count": 78,
   "id": "7eb6087a-d92c-4ff2-bc74-00488c5ea4fe",
   "metadata": {},
   "outputs": [
    {
     "data": {
      "application/vnd.jupyter.widget-view+json": {
       "model_id": "118e05b824b24a238182c577c2a1e7b3",
       "version_major": 2,
       "version_minor": 0
      },
      "text/plain": [
       "Testing:   0%|          | 0/1560 [00:00<?, ?it/s]"
      ]
     },
     "metadata": {},
     "output_type": "display_data"
    }
   ],
   "source": [
    "progress_bar = tqdm(total=len(topical_test_loader.dataset), desc='Testing')\n",
    "\n",
    "for batch in topical_test_loader:\n",
    "    progress_bar.update(batch[0].size(0))\n",
    "    \n",
    "progress_bar.close()"
   ]
  },
  {
   "cell_type": "markdown",
   "id": "dcd35380-4f8b-4567-ae7c-49be57b4e5c3",
   "metadata": {
    "tags": []
   },
   "source": [
    "### MIDAS"
   ]
  },
  {
   "cell_type": "code",
   "execution_count": 80,
   "id": "13f4a572-790d-4104-86bd-37eb32964fe9",
   "metadata": {},
   "outputs": [
    {
     "data": {
      "text/plain": [
       "BaseModel(\n",
       "  (linear_in): Linear(in_features=1035, out_features=512, bias=True)\n",
       "  (relu): ReLU()\n",
       "  (clf): Linear(in_features=512, out_features=13, bias=True)\n",
       ")"
      ]
     },
     "execution_count": 80,
     "metadata": {},
     "output_type": "execute_result"
    }
   ],
   "source": [
    "model = BaseModel(\n",
    "    input_size=batch[0].shape[1],\n",
    "    hidden_size=512,\n",
    "    n_classes=len(labels_map['target_midas2id']),\n",
    "    batch_size=topical_train_loader.batch_size\n",
    ")\n",
    "\n",
    "model.to(DEVICE)"
   ]
  },
  {
   "cell_type": "code",
   "execution_count": 81,
   "id": "6ab6bdb6-3811-4485-b405-5aa05273d170",
   "metadata": {},
   "outputs": [],
   "source": [
    "criterion = nn.CrossEntropyLoss()\n",
    "optimizer = torch.optim.Adam(params=model.parameters())"
   ]
  },
  {
   "cell_type": "code",
   "execution_count": 83,
   "id": "513cf1ae-0204-490c-a54a-dbcc4fe02b80",
   "metadata": {},
   "outputs": [],
   "source": [
    "# train loop\n",
    "NUM_EPOCHS = 10\n",
    "\n",
    "TRAIN_SIZE = int(np.ceil(len(topical_train_loader.dataset) / topical_train_loader.batch_size))\n",
    "TEST_SIZE = int(np.ceil(len(topical_test_loader.dataset) / topical_test_loader.batch_size))\n",
    "\n",
    "train_losses = list()\n",
    "test_losses = list()\n",
    "\n",
    "test_f1 = list()\n",
    "test_acc = list()"
   ]
  },
  {
   "cell_type": "code",
   "execution_count": 84,
   "id": "57ae2caf-d1f3-4f89-9a51-78efd702fa5b",
   "metadata": {
    "tags": []
   },
   "outputs": [
    {
     "data": {
      "application/vnd.jupyter.widget-view+json": {
       "model_id": "58256fce71444843bee70f966530ba29",
       "version_major": 2,
       "version_minor": 0
      },
      "text/plain": [
       "Train epoch 1:   0%|          | 0/195 [00:00<?, ?it/s]"
      ]
     },
     "metadata": {},
     "output_type": "display_data"
    },
    {
     "data": {
      "application/vnd.jupyter.widget-view+json": {
       "model_id": "7102f8e34e304e6383928039df377c68",
       "version_major": 2,
       "version_minor": 0
      },
      "text/plain": [
       "Val epoch 1:   0%|          | 0/49 [00:00<?, ?it/s]"
      ]
     },
     "metadata": {},
     "output_type": "display_data"
    },
    {
     "name": "stdout",
     "output_type": "stream",
     "text": [
      "Epoch: 1\n",
      "Train loss - 1.4306 | Test loss - 1.3691\n",
      "TEST: f1 weighted - 0.4127 | accuracy - 0.4647\n",
      "\n"
     ]
    },
    {
     "data": {
      "application/vnd.jupyter.widget-view+json": {
       "model_id": "72c27529d4f444188cb7f9d458fd5f7b",
       "version_major": 2,
       "version_minor": 0
      },
      "text/plain": [
       "Train epoch 2:   0%|          | 0/195 [00:00<?, ?it/s]"
      ]
     },
     "metadata": {},
     "output_type": "display_data"
    },
    {
     "data": {
      "application/vnd.jupyter.widget-view+json": {
       "model_id": "26b04076428c4bbdb33c690b51aa8eb0",
       "version_major": 2,
       "version_minor": 0
      },
      "text/plain": [
       "Val epoch 2:   0%|          | 0/49 [00:00<?, ?it/s]"
      ]
     },
     "metadata": {},
     "output_type": "display_data"
    },
    {
     "name": "stdout",
     "output_type": "stream",
     "text": [
      "Epoch: 2\n",
      "Train loss - 1.2616 | Test loss - 1.3555\n",
      "TEST: f1 weighted - 0.4006 | accuracy - 0.4506\n",
      "\n"
     ]
    },
    {
     "data": {
      "application/vnd.jupyter.widget-view+json": {
       "model_id": "6e0e768a344c49e59a6ffb5bd63f1519",
       "version_major": 2,
       "version_minor": 0
      },
      "text/plain": [
       "Train epoch 3:   0%|          | 0/195 [00:00<?, ?it/s]"
      ]
     },
     "metadata": {},
     "output_type": "display_data"
    },
    {
     "data": {
      "application/vnd.jupyter.widget-view+json": {
       "model_id": "be0770b71528427a9963fe9da3ac20d0",
       "version_major": 2,
       "version_minor": 0
      },
      "text/plain": [
       "Val epoch 3:   0%|          | 0/49 [00:00<?, ?it/s]"
      ]
     },
     "metadata": {},
     "output_type": "display_data"
    },
    {
     "name": "stdout",
     "output_type": "stream",
     "text": [
      "Epoch: 3\n",
      "Train loss - 1.1586 | Test loss - 1.3765\n",
      "TEST: f1 weighted - 0.4185 | accuracy - 0.4603\n",
      "\n"
     ]
    },
    {
     "data": {
      "application/vnd.jupyter.widget-view+json": {
       "model_id": "e822da887e934bbe9c5c40fd9b6780dd",
       "version_major": 2,
       "version_minor": 0
      },
      "text/plain": [
       "Train epoch 4:   0%|          | 0/195 [00:00<?, ?it/s]"
      ]
     },
     "metadata": {},
     "output_type": "display_data"
    },
    {
     "data": {
      "application/vnd.jupyter.widget-view+json": {
       "model_id": "bd47a5d2ae2d46feb4b9a58edebcb84e",
       "version_major": 2,
       "version_minor": 0
      },
      "text/plain": [
       "Val epoch 4:   0%|          | 0/49 [00:00<?, ?it/s]"
      ]
     },
     "metadata": {},
     "output_type": "display_data"
    },
    {
     "name": "stdout",
     "output_type": "stream",
     "text": [
      "Epoch: 4\n",
      "Train loss - 1.0394 | Test loss - 1.4053\n",
      "TEST: f1 weighted - 0.4189 | accuracy - 0.4596\n",
      "\n"
     ]
    },
    {
     "data": {
      "application/vnd.jupyter.widget-view+json": {
       "model_id": "0b413c1397e345c3a064d1db2dca414d",
       "version_major": 2,
       "version_minor": 0
      },
      "text/plain": [
       "Train epoch 5:   0%|          | 0/195 [00:00<?, ?it/s]"
      ]
     },
     "metadata": {},
     "output_type": "display_data"
    },
    {
     "data": {
      "application/vnd.jupyter.widget-view+json": {
       "model_id": "dd48f621d36c4dad965552a8cccb883a",
       "version_major": 2,
       "version_minor": 0
      },
      "text/plain": [
       "Val epoch 5:   0%|          | 0/49 [00:00<?, ?it/s]"
      ]
     },
     "metadata": {},
     "output_type": "display_data"
    },
    {
     "name": "stdout",
     "output_type": "stream",
     "text": [
      "Epoch: 5\n",
      "Train loss - 0.8868 | Test loss - 1.5015\n",
      "TEST: f1 weighted - 0.4097 | accuracy - 0.4519\n",
      "\n"
     ]
    },
    {
     "data": {
      "application/vnd.jupyter.widget-view+json": {
       "model_id": "a2aaefdc56114081b426900d01e7a9a5",
       "version_major": 2,
       "version_minor": 0
      },
      "text/plain": [
       "Train epoch 6:   0%|          | 0/195 [00:00<?, ?it/s]"
      ]
     },
     "metadata": {},
     "output_type": "display_data"
    },
    {
     "data": {
      "application/vnd.jupyter.widget-view+json": {
       "model_id": "ebcd6839438946dba943fadb4c035f0f",
       "version_major": 2,
       "version_minor": 0
      },
      "text/plain": [
       "Val epoch 6:   0%|          | 0/49 [00:00<?, ?it/s]"
      ]
     },
     "metadata": {},
     "output_type": "display_data"
    },
    {
     "name": "stdout",
     "output_type": "stream",
     "text": [
      "Epoch: 6\n",
      "Train loss - 0.6938 | Test loss - 1.5611\n",
      "TEST: f1 weighted - 0.4098 | accuracy - 0.4417\n",
      "\n"
     ]
    },
    {
     "data": {
      "application/vnd.jupyter.widget-view+json": {
       "model_id": "7cbfef8809ea4bd5a1e214831957d622",
       "version_major": 2,
       "version_minor": 0
      },
      "text/plain": [
       "Train epoch 7:   0%|          | 0/195 [00:00<?, ?it/s]"
      ]
     },
     "metadata": {},
     "output_type": "display_data"
    },
    {
     "data": {
      "application/vnd.jupyter.widget-view+json": {
       "model_id": "701753bf122f4faf9bd292dc26a8e303",
       "version_major": 2,
       "version_minor": 0
      },
      "text/plain": [
       "Val epoch 7:   0%|          | 0/49 [00:00<?, ?it/s]"
      ]
     },
     "metadata": {},
     "output_type": "display_data"
    },
    {
     "name": "stdout",
     "output_type": "stream",
     "text": [
      "Epoch: 7\n",
      "Train loss - 0.4905 | Test loss - 1.6563\n",
      "TEST: f1 weighted - 0.4000 | accuracy - 0.4199\n",
      "\n"
     ]
    },
    {
     "data": {
      "application/vnd.jupyter.widget-view+json": {
       "model_id": "77e792be07c84c1ba5328a1bd398daaa",
       "version_major": 2,
       "version_minor": 0
      },
      "text/plain": [
       "Train epoch 8:   0%|          | 0/195 [00:00<?, ?it/s]"
      ]
     },
     "metadata": {},
     "output_type": "display_data"
    },
    {
     "data": {
      "application/vnd.jupyter.widget-view+json": {
       "model_id": "a3dc0665ab8846b4bb5c8b57254b46b0",
       "version_major": 2,
       "version_minor": 0
      },
      "text/plain": [
       "Val epoch 8:   0%|          | 0/49 [00:00<?, ?it/s]"
      ]
     },
     "metadata": {},
     "output_type": "display_data"
    },
    {
     "name": "stdout",
     "output_type": "stream",
     "text": [
      "Epoch: 8\n",
      "Train loss - 0.3187 | Test loss - 1.8041\n",
      "TEST: f1 weighted - 0.4056 | accuracy - 0.4301\n",
      "\n"
     ]
    },
    {
     "data": {
      "application/vnd.jupyter.widget-view+json": {
       "model_id": "6750a64d6b8f481eb5df7b08c8e824bc",
       "version_major": 2,
       "version_minor": 0
      },
      "text/plain": [
       "Train epoch 9:   0%|          | 0/195 [00:00<?, ?it/s]"
      ]
     },
     "metadata": {},
     "output_type": "display_data"
    },
    {
     "data": {
      "application/vnd.jupyter.widget-view+json": {
       "model_id": "710dec7fa1cb4c9892d903aa3eb33e62",
       "version_major": 2,
       "version_minor": 0
      },
      "text/plain": [
       "Val epoch 9:   0%|          | 0/49 [00:00<?, ?it/s]"
      ]
     },
     "metadata": {},
     "output_type": "display_data"
    },
    {
     "name": "stdout",
     "output_type": "stream",
     "text": [
      "Epoch: 9\n",
      "Train loss - 0.1952 | Test loss - 1.9315\n",
      "TEST: f1 weighted - 0.4095 | accuracy - 0.4372\n",
      "\n"
     ]
    },
    {
     "data": {
      "application/vnd.jupyter.widget-view+json": {
       "model_id": "1aa4b53eb7c14e17a460e9e613a2612f",
       "version_major": 2,
       "version_minor": 0
      },
      "text/plain": [
       "Train epoch 10:   0%|          | 0/195 [00:00<?, ?it/s]"
      ]
     },
     "metadata": {},
     "output_type": "display_data"
    },
    {
     "data": {
      "application/vnd.jupyter.widget-view+json": {
       "model_id": "5d13965809344e3db4cd4cf86f75d979",
       "version_major": 2,
       "version_minor": 0
      },
      "text/plain": [
       "Val epoch 10:   0%|          | 0/49 [00:00<?, ?it/s]"
      ]
     },
     "metadata": {},
     "output_type": "display_data"
    },
    {
     "name": "stdout",
     "output_type": "stream",
     "text": [
      "Epoch: 10\n",
      "Train loss - 0.1161 | Test loss - 2.0090\n",
      "TEST: f1 weighted - 0.4017 | accuracy - 0.4199\n",
      "\n"
     ]
    }
   ],
   "source": [
    "for e in range(1, NUM_EPOCHS+1):\n",
    "    \n",
    "    epoch_train_losses = train_single_model(\n",
    "        model=model, device=DEVICE, dataloader=topical_train_loader, \n",
    "        n_batches=TRAIN_SIZE, epoch=e,\n",
    "        loss_fn=criterion, optimizer=optimizer,\n",
    "        clip=3., label_type='midas')\n",
    "    \n",
    "    epoch_test_losses, epoch_f1, epoch_acc = evaluate_single_model(\n",
    "        model=model, device=DEVICE, dataloader=topical_test_loader, \n",
    "        n_batches=TEST_SIZE, epoch=e, loss_fn=criterion, label_type='midas')\n",
    "    \n",
    "    message = f'Epoch: {e}\\n'\n",
    "    message += f'Train loss - {np.mean(epoch_train_losses):.4f} | Test loss - {np.mean(epoch_test_losses):.4f}\\n'\n",
    "    message += f'TEST: f1 weighted - {epoch_f1:.4f} | accuracy - {epoch_acc:.4f}\\n'\n",
    "\n",
    "    print(message)"
   ]
  },
  {
   "cell_type": "markdown",
   "id": "1216407e-24e5-49db-b09a-df5ff1c16d75",
   "metadata": {
    "tags": []
   },
   "source": [
    "### Entity"
   ]
  },
  {
   "cell_type": "code",
   "execution_count": 85,
   "id": "dc8299a8-6d0c-49bd-b7b9-e18624909f5d",
   "metadata": {},
   "outputs": [
    {
     "data": {
      "text/plain": [
       "BaseModel(\n",
       "  (linear_in): Linear(in_features=1035, out_features=512, bias=True)\n",
       "  (relu): ReLU()\n",
       "  (clf): Linear(in_features=512, out_features=28, bias=True)\n",
       ")"
      ]
     },
     "execution_count": 85,
     "metadata": {},
     "output_type": "execute_result"
    }
   ],
   "source": [
    "model = BaseModel(\n",
    "    input_size=batch[0].shape[1],\n",
    "    hidden_size=512,\n",
    "    n_classes=len(labels_map['target_entity2id']),\n",
    "    batch_size=topical_train_loader.batch_size\n",
    ")\n",
    "\n",
    "model.to(DEVICE)"
   ]
  },
  {
   "cell_type": "code",
   "execution_count": 86,
   "id": "e4ef7057-9c70-4feb-962d-40399aa2f07b",
   "metadata": {},
   "outputs": [],
   "source": [
    "criterion = nn.CrossEntropyLoss()\n",
    "optimizer = torch.optim.Adam(params=model.parameters())"
   ]
  },
  {
   "cell_type": "code",
   "execution_count": 88,
   "id": "acdd5bfb-7c77-4199-a0a3-86144557962f",
   "metadata": {},
   "outputs": [],
   "source": [
    "# train loop\n",
    "NUM_EPOCHS = 10  # Задайте количество эпох\n",
    "\n",
    "TRAIN_SIZE = int(np.ceil(len(topical_train_loader.dataset) / topical_train_loader.batch_size))\n",
    "TEST_SIZE = int(np.ceil(len(topical_test_loader.dataset) / topical_test_loader.batch_size))\n",
    "\n",
    "train_losses = list()\n",
    "test_losses = list()\n",
    "\n",
    "test_f1 = list()\n",
    "test_acc = list()"
   ]
  },
  {
   "cell_type": "code",
   "execution_count": 89,
   "id": "e1ed258c-7370-40f4-815f-f73344fd3879",
   "metadata": {
    "tags": []
   },
   "outputs": [
    {
     "data": {
      "application/vnd.jupyter.widget-view+json": {
       "model_id": "c69acfa770e24816b6d1b3506c044ea1",
       "version_major": 2,
       "version_minor": 0
      },
      "text/plain": [
       "Train epoch 1:   0%|          | 0/195 [00:00<?, ?it/s]"
      ]
     },
     "metadata": {},
     "output_type": "display_data"
    },
    {
     "data": {
      "application/vnd.jupyter.widget-view+json": {
       "model_id": "6518cea23c464fbf97bb30d969360d3e",
       "version_major": 2,
       "version_minor": 0
      },
      "text/plain": [
       "Val epoch 1:   0%|          | 0/49 [00:00<?, ?it/s]"
      ]
     },
     "metadata": {},
     "output_type": "display_data"
    },
    {
     "name": "stdout",
     "output_type": "stream",
     "text": [
      "Epoch: 1\n",
      "Train loss - 2.4103 | Test loss - 2.1734\n",
      "TEST: f1 weighted - 0.2955 | accuracy - 0.3692\n",
      "\n"
     ]
    },
    {
     "data": {
      "application/vnd.jupyter.widget-view+json": {
       "model_id": "dae9b141d514418cb7f92e71818fc255",
       "version_major": 2,
       "version_minor": 0
      },
      "text/plain": [
       "Train epoch 2:   0%|          | 0/195 [00:00<?, ?it/s]"
      ]
     },
     "metadata": {},
     "output_type": "display_data"
    },
    {
     "data": {
      "application/vnd.jupyter.widget-view+json": {
       "model_id": "df229356cb40424ead253002deb9d9b5",
       "version_major": 2,
       "version_minor": 0
      },
      "text/plain": [
       "Val epoch 2:   0%|          | 0/49 [00:00<?, ?it/s]"
      ]
     },
     "metadata": {},
     "output_type": "display_data"
    },
    {
     "name": "stdout",
     "output_type": "stream",
     "text": [
      "Epoch: 2\n",
      "Train loss - 1.9962 | Test loss - 2.0809\n",
      "TEST: f1 weighted - 0.3462 | accuracy - 0.3833\n",
      "\n"
     ]
    },
    {
     "data": {
      "application/vnd.jupyter.widget-view+json": {
       "model_id": "0261c533d6f840068419b38246eea747",
       "version_major": 2,
       "version_minor": 0
      },
      "text/plain": [
       "Train epoch 3:   0%|          | 0/195 [00:00<?, ?it/s]"
      ]
     },
     "metadata": {},
     "output_type": "display_data"
    },
    {
     "data": {
      "application/vnd.jupyter.widget-view+json": {
       "model_id": "0efc9c2637304cdbab66b6835b24a9d7",
       "version_major": 2,
       "version_minor": 0
      },
      "text/plain": [
       "Val epoch 3:   0%|          | 0/49 [00:00<?, ?it/s]"
      ]
     },
     "metadata": {},
     "output_type": "display_data"
    },
    {
     "name": "stdout",
     "output_type": "stream",
     "text": [
      "Epoch: 3\n",
      "Train loss - 1.7571 | Test loss - 2.0842\n",
      "TEST: f1 weighted - 0.3541 | accuracy - 0.3853\n",
      "\n"
     ]
    },
    {
     "data": {
      "application/vnd.jupyter.widget-view+json": {
       "model_id": "001711f751634cdfbca23775bf2c2c52",
       "version_major": 2,
       "version_minor": 0
      },
      "text/plain": [
       "Train epoch 4:   0%|          | 0/195 [00:00<?, ?it/s]"
      ]
     },
     "metadata": {},
     "output_type": "display_data"
    },
    {
     "data": {
      "application/vnd.jupyter.widget-view+json": {
       "model_id": "059baa7eba9640c7acaccc23aeb3ac6b",
       "version_major": 2,
       "version_minor": 0
      },
      "text/plain": [
       "Val epoch 4:   0%|          | 0/49 [00:00<?, ?it/s]"
      ]
     },
     "metadata": {},
     "output_type": "display_data"
    },
    {
     "name": "stdout",
     "output_type": "stream",
     "text": [
      "Epoch: 4\n",
      "Train loss - 1.5391 | Test loss - 2.1518\n",
      "TEST: f1 weighted - 0.3437 | accuracy - 0.3744\n",
      "\n"
     ]
    },
    {
     "data": {
      "application/vnd.jupyter.widget-view+json": {
       "model_id": "3d522101e26a46da8f575bac11284509",
       "version_major": 2,
       "version_minor": 0
      },
      "text/plain": [
       "Train epoch 5:   0%|          | 0/195 [00:00<?, ?it/s]"
      ]
     },
     "metadata": {},
     "output_type": "display_data"
    },
    {
     "data": {
      "application/vnd.jupyter.widget-view+json": {
       "model_id": "70c464efa8da40409cd57f55bfd4431b",
       "version_major": 2,
       "version_minor": 0
      },
      "text/plain": [
       "Val epoch 5:   0%|          | 0/49 [00:00<?, ?it/s]"
      ]
     },
     "metadata": {},
     "output_type": "display_data"
    },
    {
     "name": "stdout",
     "output_type": "stream",
     "text": [
      "Epoch: 5\n",
      "Train loss - 1.3208 | Test loss - 2.2852\n",
      "TEST: f1 weighted - 0.3383 | accuracy - 0.3577\n",
      "\n"
     ]
    },
    {
     "data": {
      "application/vnd.jupyter.widget-view+json": {
       "model_id": "9d2c22ed9e3e4904a0d46be3855191c5",
       "version_major": 2,
       "version_minor": 0
      },
      "text/plain": [
       "Train epoch 6:   0%|          | 0/195 [00:00<?, ?it/s]"
      ]
     },
     "metadata": {},
     "output_type": "display_data"
    },
    {
     "data": {
      "application/vnd.jupyter.widget-view+json": {
       "model_id": "37ed13077d9047c1908b6f6db4396dd0",
       "version_major": 2,
       "version_minor": 0
      },
      "text/plain": [
       "Val epoch 6:   0%|          | 0/49 [00:00<?, ?it/s]"
      ]
     },
     "metadata": {},
     "output_type": "display_data"
    },
    {
     "name": "stdout",
     "output_type": "stream",
     "text": [
      "Epoch: 6\n",
      "Train loss - 1.1084 | Test loss - 2.3595\n",
      "TEST: f1 weighted - 0.3299 | accuracy - 0.3532\n",
      "\n"
     ]
    },
    {
     "data": {
      "application/vnd.jupyter.widget-view+json": {
       "model_id": "b1a1e33a78bb4cd9b32c7a8ed377651f",
       "version_major": 2,
       "version_minor": 0
      },
      "text/plain": [
       "Train epoch 7:   0%|          | 0/195 [00:00<?, ?it/s]"
      ]
     },
     "metadata": {},
     "output_type": "display_data"
    },
    {
     "data": {
      "application/vnd.jupyter.widget-view+json": {
       "model_id": "db1b2128c8924a62968c495c3cbf37ba",
       "version_major": 2,
       "version_minor": 0
      },
      "text/plain": [
       "Val epoch 7:   0%|          | 0/49 [00:00<?, ?it/s]"
      ]
     },
     "metadata": {},
     "output_type": "display_data"
    },
    {
     "name": "stdout",
     "output_type": "stream",
     "text": [
      "Epoch: 7\n",
      "Train loss - 0.8956 | Test loss - 2.4658\n",
      "TEST: f1 weighted - 0.3309 | accuracy - 0.3487\n",
      "\n"
     ]
    },
    {
     "data": {
      "application/vnd.jupyter.widget-view+json": {
       "model_id": "520ea93f549543fb8c048d94a0b35dd7",
       "version_major": 2,
       "version_minor": 0
      },
      "text/plain": [
       "Train epoch 8:   0%|          | 0/195 [00:00<?, ?it/s]"
      ]
     },
     "metadata": {},
     "output_type": "display_data"
    },
    {
     "data": {
      "application/vnd.jupyter.widget-view+json": {
       "model_id": "9642c82c577f4676a496571d541adc7d",
       "version_major": 2,
       "version_minor": 0
      },
      "text/plain": [
       "Val epoch 8:   0%|          | 0/49 [00:00<?, ?it/s]"
      ]
     },
     "metadata": {},
     "output_type": "display_data"
    },
    {
     "name": "stdout",
     "output_type": "stream",
     "text": [
      "Epoch: 8\n",
      "Train loss - 0.7059 | Test loss - 2.5846\n",
      "TEST: f1 weighted - 0.3267 | accuracy - 0.3404\n",
      "\n"
     ]
    },
    {
     "data": {
      "application/vnd.jupyter.widget-view+json": {
       "model_id": "b22b7c3b19db4a6aa77a8aa9285b403e",
       "version_major": 2,
       "version_minor": 0
      },
      "text/plain": [
       "Train epoch 9:   0%|          | 0/195 [00:00<?, ?it/s]"
      ]
     },
     "metadata": {},
     "output_type": "display_data"
    },
    {
     "data": {
      "application/vnd.jupyter.widget-view+json": {
       "model_id": "5a6e2a6804c04370918c0e4326ad1544",
       "version_major": 2,
       "version_minor": 0
      },
      "text/plain": [
       "Val epoch 9:   0%|          | 0/49 [00:00<?, ?it/s]"
      ]
     },
     "metadata": {},
     "output_type": "display_data"
    },
    {
     "name": "stdout",
     "output_type": "stream",
     "text": [
      "Epoch: 9\n",
      "Train loss - 0.5334 | Test loss - 2.7520\n",
      "TEST: f1 weighted - 0.3145 | accuracy - 0.3231\n",
      "\n"
     ]
    },
    {
     "data": {
      "application/vnd.jupyter.widget-view+json": {
       "model_id": "896eca110cb54e24b50720f9772e2b5b",
       "version_major": 2,
       "version_minor": 0
      },
      "text/plain": [
       "Train epoch 10:   0%|          | 0/195 [00:00<?, ?it/s]"
      ]
     },
     "metadata": {},
     "output_type": "display_data"
    },
    {
     "data": {
      "application/vnd.jupyter.widget-view+json": {
       "model_id": "6741ed0adc0e4191a61027bb4a34c0f1",
       "version_major": 2,
       "version_minor": 0
      },
      "text/plain": [
       "Val epoch 10:   0%|          | 0/49 [00:00<?, ?it/s]"
      ]
     },
     "metadata": {},
     "output_type": "display_data"
    },
    {
     "name": "stdout",
     "output_type": "stream",
     "text": [
      "Epoch: 10\n",
      "Train loss - 0.3888 | Test loss - 2.8923\n",
      "TEST: f1 weighted - 0.3246 | accuracy - 0.3429\n",
      "\n"
     ]
    }
   ],
   "source": [
    "for e in range(1, NUM_EPOCHS+1):\n",
    "    \n",
    "    epoch_train_losses = train_single_model(\n",
    "        model=model, device=DEVICE, dataloader=topical_train_loader, \n",
    "        n_batches=TRAIN_SIZE, epoch=e,\n",
    "        loss_fn=criterion, optimizer=optimizer,\n",
    "        clip=3., label_type='entity')\n",
    "    \n",
    "    epoch_test_losses, epoch_f1, epoch_acc = evaluate_single_model(\n",
    "        model=model, device=DEVICE, dataloader=topical_test_loader, \n",
    "        n_batches=TEST_SIZE, epoch=e, loss_fn=criterion, label_type='entity')\n",
    "    \n",
    "    message = f'Epoch: {e}\\n'\n",
    "    message += f'Train loss - {np.mean(epoch_train_losses):.4f} | Test loss - {np.mean(epoch_test_losses):.4f}\\n'\n",
    "    message += f'TEST: f1 weighted - {epoch_f1:.4f} | accuracy - {epoch_acc:.4f}\\n'\n",
    "\n",
    "    print(message)"
   ]
  },
  {
   "cell_type": "markdown",
   "id": "3e5c84fb-aa07-489f-b180-ac8d43819314",
   "metadata": {
    "tags": []
   },
   "source": [
    "### Concatenation"
   ]
  },
  {
   "cell_type": "code",
   "execution_count": 90,
   "id": "1c9a9750-d539-41b9-866e-9ec197e62ff1",
   "metadata": {},
   "outputs": [
    {
     "data": {
      "text/plain": [
       "BaseModel(\n",
       "  (linear_in): Linear(in_features=1035, out_features=512, bias=True)\n",
       "  (relu): ReLU()\n",
       "  (clf): Linear(in_features=512, out_features=364, bias=True)\n",
       ")"
      ]
     },
     "execution_count": 90,
     "metadata": {},
     "output_type": "execute_result"
    }
   ],
   "source": [
    "model = BaseModel(\n",
    "    input_size=batch[0].shape[1],\n",
    "    hidden_size=512,\n",
    "    n_classes=len(labels_map['target_midas_and_entity2id']),\n",
    "    batch_size=topical_train_loader.batch_size\n",
    ")\n",
    "\n",
    "model.to(DEVICE)"
   ]
  },
  {
   "cell_type": "code",
   "execution_count": 91,
   "id": "7cea124b-df3f-413b-ac8b-ca2503212c19",
   "metadata": {},
   "outputs": [],
   "source": [
    "criterion = nn.CrossEntropyLoss()\n",
    "optimizer = torch.optim.Adam(params=model.parameters())"
   ]
  },
  {
   "cell_type": "code",
   "execution_count": 92,
   "id": "cb66c902-ad0d-4063-882c-ee962fc40a60",
   "metadata": {},
   "outputs": [],
   "source": [
    "# train loop\n",
    "NUM_EPOCHS = 10  # Задайте количество эпох\n",
    "\n",
    "TRAIN_SIZE = int(np.ceil(len(topical_train_loader.dataset) / topical_train_loader.batch_size))\n",
    "TEST_SIZE = int(np.ceil(len(topical_test_loader.dataset) / topical_test_loader.batch_size))\n",
    "\n",
    "train_losses = list()\n",
    "test_losses = list()\n",
    "\n",
    "test_f1 = list()\n",
    "test_acc = list()"
   ]
  },
  {
   "cell_type": "code",
   "execution_count": 93,
   "id": "633078a2-832b-4247-8527-a0668131a05a",
   "metadata": {
    "tags": []
   },
   "outputs": [
    {
     "data": {
      "application/vnd.jupyter.widget-view+json": {
       "model_id": "d91eb22c9ce14f7fb4e1f2190b64208f",
       "version_major": 2,
       "version_minor": 0
      },
      "text/plain": [
       "Train epoch 1:   0%|          | 0/195 [00:00<?, ?it/s]"
      ]
     },
     "metadata": {},
     "output_type": "display_data"
    },
    {
     "data": {
      "application/vnd.jupyter.widget-view+json": {
       "model_id": "398a08551aa349b38b614b7d93cdbf9d",
       "version_major": 2,
       "version_minor": 0
      },
      "text/plain": [
       "Val epoch 1:   0%|          | 0/49 [00:00<?, ?it/s]"
      ]
     },
     "metadata": {},
     "output_type": "display_data"
    },
    {
     "name": "stdout",
     "output_type": "stream",
     "text": [
      "Epoch: 1\n",
      "Train loss - 4.0227 | Test loss - 3.6634\n",
      "TEST: f1 weighted - 0.0835 | accuracy - 0.1545\n",
      "\n"
     ]
    },
    {
     "data": {
      "application/vnd.jupyter.widget-view+json": {
       "model_id": "0c8abe50be9545ed9f2958c7225f13b1",
       "version_major": 2,
       "version_minor": 0
      },
      "text/plain": [
       "Train epoch 2:   0%|          | 0/195 [00:00<?, ?it/s]"
      ]
     },
     "metadata": {},
     "output_type": "display_data"
    },
    {
     "data": {
      "application/vnd.jupyter.widget-view+json": {
       "model_id": "5d42045cc9db4dc2b26a3c29ea38ec3e",
       "version_major": 2,
       "version_minor": 0
      },
      "text/plain": [
       "Val epoch 2:   0%|          | 0/49 [00:00<?, ?it/s]"
      ]
     },
     "metadata": {},
     "output_type": "display_data"
    },
    {
     "name": "stdout",
     "output_type": "stream",
     "text": [
      "Epoch: 2\n",
      "Train loss - 3.3871 | Test loss - 3.5370\n",
      "TEST: f1 weighted - 0.1391 | accuracy - 0.1846\n",
      "\n"
     ]
    },
    {
     "data": {
      "application/vnd.jupyter.widget-view+json": {
       "model_id": "84f38dcd404045809d86ac0dbbb7630f",
       "version_major": 2,
       "version_minor": 0
      },
      "text/plain": [
       "Train epoch 3:   0%|          | 0/195 [00:00<?, ?it/s]"
      ]
     },
     "metadata": {},
     "output_type": "display_data"
    },
    {
     "data": {
      "application/vnd.jupyter.widget-view+json": {
       "model_id": "8bfa88d5eba8440ca1702ada41527346",
       "version_major": 2,
       "version_minor": 0
      },
      "text/plain": [
       "Val epoch 3:   0%|          | 0/49 [00:00<?, ?it/s]"
      ]
     },
     "metadata": {},
     "output_type": "display_data"
    },
    {
     "name": "stdout",
     "output_type": "stream",
     "text": [
      "Epoch: 3\n",
      "Train loss - 3.0217 | Test loss - 3.5035\n",
      "TEST: f1 weighted - 0.1368 | accuracy - 0.1846\n",
      "\n"
     ]
    },
    {
     "data": {
      "application/vnd.jupyter.widget-view+json": {
       "model_id": "19af783d64dd437482c1a0420b06441b",
       "version_major": 2,
       "version_minor": 0
      },
      "text/plain": [
       "Train epoch 4:   0%|          | 0/195 [00:00<?, ?it/s]"
      ]
     },
     "metadata": {},
     "output_type": "display_data"
    },
    {
     "data": {
      "application/vnd.jupyter.widget-view+json": {
       "model_id": "9e1e8c69a5c5480c92099270f98ad047",
       "version_major": 2,
       "version_minor": 0
      },
      "text/plain": [
       "Val epoch 4:   0%|          | 0/49 [00:00<?, ?it/s]"
      ]
     },
     "metadata": {},
     "output_type": "display_data"
    },
    {
     "name": "stdout",
     "output_type": "stream",
     "text": [
      "Epoch: 4\n",
      "Train loss - 2.6613 | Test loss - 3.5438\n",
      "TEST: f1 weighted - 0.1429 | accuracy - 0.1801\n",
      "\n"
     ]
    },
    {
     "data": {
      "application/vnd.jupyter.widget-view+json": {
       "model_id": "6920546241c342529798239cf542a904",
       "version_major": 2,
       "version_minor": 0
      },
      "text/plain": [
       "Train epoch 5:   0%|          | 0/195 [00:00<?, ?it/s]"
      ]
     },
     "metadata": {},
     "output_type": "display_data"
    },
    {
     "data": {
      "application/vnd.jupyter.widget-view+json": {
       "model_id": "29e28a31663944cb855d542a823d209b",
       "version_major": 2,
       "version_minor": 0
      },
      "text/plain": [
       "Val epoch 5:   0%|          | 0/49 [00:00<?, ?it/s]"
      ]
     },
     "metadata": {},
     "output_type": "display_data"
    },
    {
     "name": "stdout",
     "output_type": "stream",
     "text": [
      "Epoch: 5\n",
      "Train loss - 2.2836 | Test loss - 3.6031\n",
      "TEST: f1 weighted - 0.1532 | accuracy - 0.1904\n",
      "\n"
     ]
    },
    {
     "data": {
      "application/vnd.jupyter.widget-view+json": {
       "model_id": "e142b13aed994f4dbfb0ca0d1a7e9f19",
       "version_major": 2,
       "version_minor": 0
      },
      "text/plain": [
       "Train epoch 6:   0%|          | 0/195 [00:00<?, ?it/s]"
      ]
     },
     "metadata": {},
     "output_type": "display_data"
    },
    {
     "data": {
      "application/vnd.jupyter.widget-view+json": {
       "model_id": "8d3973d7973a446180bd79d3edc0672b",
       "version_major": 2,
       "version_minor": 0
      },
      "text/plain": [
       "Val epoch 6:   0%|          | 0/49 [00:00<?, ?it/s]"
      ]
     },
     "metadata": {},
     "output_type": "display_data"
    },
    {
     "name": "stdout",
     "output_type": "stream",
     "text": [
      "Epoch: 6\n",
      "Train loss - 1.8879 | Test loss - 3.7537\n",
      "TEST: f1 weighted - 0.1446 | accuracy - 0.1744\n",
      "\n"
     ]
    },
    {
     "data": {
      "application/vnd.jupyter.widget-view+json": {
       "model_id": "c2fd494b04464d1b89ea43a8c356a4e5",
       "version_major": 2,
       "version_minor": 0
      },
      "text/plain": [
       "Train epoch 7:   0%|          | 0/195 [00:00<?, ?it/s]"
      ]
     },
     "metadata": {},
     "output_type": "display_data"
    },
    {
     "data": {
      "application/vnd.jupyter.widget-view+json": {
       "model_id": "0888730190714d09acca5ad5b11bf868",
       "version_major": 2,
       "version_minor": 0
      },
      "text/plain": [
       "Val epoch 7:   0%|          | 0/49 [00:00<?, ?it/s]"
      ]
     },
     "metadata": {},
     "output_type": "display_data"
    },
    {
     "name": "stdout",
     "output_type": "stream",
     "text": [
      "Epoch: 7\n",
      "Train loss - 1.5001 | Test loss - 3.9175\n",
      "TEST: f1 weighted - 0.1457 | accuracy - 0.1750\n",
      "\n"
     ]
    },
    {
     "data": {
      "application/vnd.jupyter.widget-view+json": {
       "model_id": "eaca26b98c7141f981498b03d56a0f81",
       "version_major": 2,
       "version_minor": 0
      },
      "text/plain": [
       "Train epoch 8:   0%|          | 0/195 [00:00<?, ?it/s]"
      ]
     },
     "metadata": {},
     "output_type": "display_data"
    },
    {
     "data": {
      "application/vnd.jupyter.widget-view+json": {
       "model_id": "05ddce2adaf648beb6e8395438411f9d",
       "version_major": 2,
       "version_minor": 0
      },
      "text/plain": [
       "Val epoch 8:   0%|          | 0/49 [00:00<?, ?it/s]"
      ]
     },
     "metadata": {},
     "output_type": "display_data"
    },
    {
     "name": "stdout",
     "output_type": "stream",
     "text": [
      "Epoch: 8\n",
      "Train loss - 1.1509 | Test loss - 4.0875\n",
      "TEST: f1 weighted - 0.1399 | accuracy - 0.1609\n",
      "\n"
     ]
    },
    {
     "data": {
      "application/vnd.jupyter.widget-view+json": {
       "model_id": "73398a163ed044c2833222c8cde2f838",
       "version_major": 2,
       "version_minor": 0
      },
      "text/plain": [
       "Train epoch 9:   0%|          | 0/195 [00:00<?, ?it/s]"
      ]
     },
     "metadata": {},
     "output_type": "display_data"
    },
    {
     "data": {
      "application/vnd.jupyter.widget-view+json": {
       "model_id": "84781c7f4e5b4d1ea25260e6e4cfa30d",
       "version_major": 2,
       "version_minor": 0
      },
      "text/plain": [
       "Val epoch 9:   0%|          | 0/49 [00:00<?, ?it/s]"
      ]
     },
     "metadata": {},
     "output_type": "display_data"
    },
    {
     "name": "stdout",
     "output_type": "stream",
     "text": [
      "Epoch: 9\n",
      "Train loss - 0.8594 | Test loss - 4.2629\n",
      "TEST: f1 weighted - 0.1412 | accuracy - 0.1667\n",
      "\n"
     ]
    },
    {
     "data": {
      "application/vnd.jupyter.widget-view+json": {
       "model_id": "d04e0530737a4cb0ad834f70725888ce",
       "version_major": 2,
       "version_minor": 0
      },
      "text/plain": [
       "Train epoch 10:   0%|          | 0/195 [00:00<?, ?it/s]"
      ]
     },
     "metadata": {},
     "output_type": "display_data"
    },
    {
     "data": {
      "application/vnd.jupyter.widget-view+json": {
       "model_id": "69d98861420943af9de7850013cead77",
       "version_major": 2,
       "version_minor": 0
      },
      "text/plain": [
       "Val epoch 10:   0%|          | 0/49 [00:00<?, ?it/s]"
      ]
     },
     "metadata": {},
     "output_type": "display_data"
    },
    {
     "name": "stdout",
     "output_type": "stream",
     "text": [
      "Epoch: 10\n",
      "Train loss - 0.6292 | Test loss - 4.4815\n",
      "TEST: f1 weighted - 0.1321 | accuracy - 0.1538\n",
      "\n"
     ]
    }
   ],
   "source": [
    "for e in range(1, NUM_EPOCHS+1):\n",
    "    \n",
    "    epoch_train_losses = train_single_model(\n",
    "        model=model, device=DEVICE, dataloader=topical_train_loader, \n",
    "        n_batches=TRAIN_SIZE, epoch=e,\n",
    "        loss_fn=criterion, optimizer=optimizer,\n",
    "        clip=3., label_type='concatenation')\n",
    "    \n",
    "    epoch_test_losses, epoch_f1, epoch_acc = evaluate_single_model(\n",
    "        model=model, device=DEVICE, dataloader=topical_test_loader, \n",
    "        n_batches=TEST_SIZE, epoch=e, loss_fn=criterion, label_type='concatenation')\n",
    "    \n",
    "    message = f'Epoch: {e}\\n'\n",
    "    message += f'Train loss - {np.mean(epoch_train_losses):.4f} | Test loss - {np.mean(epoch_test_losses):.4f}\\n'\n",
    "    message += f'TEST: f1 weighted - {epoch_f1:.4f} | accuracy - {epoch_acc:.4f}\\n'\n",
    "\n",
    "    print(message)"
   ]
  },
  {
   "cell_type": "markdown",
   "id": "0ab75a92-0bf7-4ee0-9a9d-6a4156a29f47",
   "metadata": {
    "tags": []
   },
   "source": [
    "# TFIDF + Catboost / LinearRegression / RandomForest"
   ]
  },
  {
   "cell_type": "markdown",
   "id": "ce2cb024-9bdc-457f-b2ce-7fdec356451f",
   "metadata": {
    "jp-MarkdownHeadingCollapsed": true,
    "tags": []
   },
   "source": [
    "## DailyDialog"
   ]
  },
  {
   "cell_type": "code",
   "execution_count": 9,
   "id": "0d73ad42-99b0-48fd-b32c-e6ecc8cd563b",
   "metadata": {},
   "outputs": [
    {
     "data": {
      "text/plain": [
       "TfidfVectorizer(lowercase=False, max_df=0.7, max_features=300, min_df=3,\n",
       "                preprocessor=<function dummy_fn at 0x000002153191F550>,\n",
       "                token_pattern=None,\n",
       "                tokenizer=<function dummy_fn at 0x000002153191F550>)"
      ]
     },
     "execution_count": 9,
     "metadata": {},
     "output_type": "execute_result"
    }
   ],
   "source": [
    "daily_tfidf = pickle.load(open(\"models/daily_tfidf_3_08_300.pkl\", 'rb'))\n",
    "daily_tfidf"
   ]
  },
  {
   "cell_type": "code",
   "execution_count": 10,
   "id": "2a53cf3e-d228-4f2c-b5e2-13f14089347f",
   "metadata": {},
   "outputs": [],
   "source": [
    "daily_dataset = SkillDataset(\n",
    "    daily, labels_map, \n",
    "    tokenizer=tokenizer,\n",
    "    tfidf_model=daily_tfidf\n",
    ")"
   ]
  },
  {
   "cell_type": "code",
   "execution_count": 11,
   "id": "8538554c-117a-442c-bbd9-6ce8d04d4930",
   "metadata": {},
   "outputs": [],
   "source": [
    "daily_loader = DataLoader(\n",
    "    daily_dataset, batch_size=len(daily_dataset), \n",
    "    shuffle=False, collate_fn=collate_fn)"
   ]
  },
  {
   "cell_type": "code",
   "execution_count": 12,
   "id": "724d9868-5a1b-421e-975d-41982cef341e",
   "metadata": {},
   "outputs": [],
   "source": [
    "for X, y in daily_loader:\n",
    "    break"
   ]
  },
  {
   "cell_type": "code",
   "execution_count": 13,
   "id": "153c1727-c2bc-42aa-8355-7407ad7af6ea",
   "metadata": {},
   "outputs": [
    {
     "data": {
      "text/plain": [
       "(torch.Size([3894, 1035]), torch.Size([3894, 3]))"
      ]
     },
     "execution_count": 13,
     "metadata": {},
     "output_type": "execute_result"
    }
   ],
   "source": [
    "X.shape, y.shape"
   ]
  },
  {
   "cell_type": "code",
   "execution_count": 14,
   "id": "ffc28cc8-f477-4b36-9d75-03a59ff23ebd",
   "metadata": {},
   "outputs": [],
   "source": [
    "X, y = X.numpy(), y.numpy()\n",
    "X_train, X_test, y_train, y_test = train_test_split(X, y, test_size=0.2, random_state=42)"
   ]
  },
  {
   "cell_type": "code",
   "execution_count": 15,
   "id": "675dd61e-a25c-48b7-a260-99004f6094ed",
   "metadata": {},
   "outputs": [],
   "source": [
    "y_train_midas, y_train_entity, y_train_concat = y_train[:,0], y_train[:,1], y_train[:,2]\n",
    "y_test_midas, y_test_entity, y_test_concat = y_test[:,0], y_test[:,1], y_test[:,2]"
   ]
  },
  {
   "cell_type": "markdown",
   "id": "2cbf2789-95c5-4a67-89b9-3b660e64ea8e",
   "metadata": {
    "tags": []
   },
   "source": [
    "### Midas"
   ]
  },
  {
   "cell_type": "code",
   "execution_count": 16,
   "id": "725bcfcb-3761-4f18-af95-8ff527af8391",
   "metadata": {},
   "outputs": [
    {
     "data": {
      "text/plain": [
       "array([6.67736758e-02, 1.85903984e-02, 7.96731359e-03, 1.21406683e-02,\n",
       "       1.36582519e-02, 7.43615935e-02, 0.00000000e+00, 5.95651539e-02,\n",
       "       2.64059536e-01, 3.79395885e-04, 1.17612724e-02, 4.95491026e-01,\n",
       "       1.57069896e-01])"
      ]
     },
     "execution_count": 16,
     "metadata": {},
     "output_type": "execute_result"
    }
   ],
   "source": [
    "n_bins = len(labels_map['target_midas2id'])\n",
    "class_weights, _ = np.histogram(y_train_midas, bins=n_bins, density=True)\n",
    "class_weights"
   ]
  },
  {
   "cell_type": "markdown",
   "id": "8a682129-2ea1-47da-a742-92ad3a5765aa",
   "metadata": {},
   "source": [
    "#### Catboost"
   ]
  },
  {
   "cell_type": "code",
   "execution_count": 59,
   "id": "2f53ada7-4cd3-462d-a941-65c2302031f7",
   "metadata": {},
   "outputs": [
    {
     "name": "stdout",
     "output_type": "stream",
     "text": [
      "Learning rate set to 0.5\n",
      "0:\tlearn: 0.4375602\ttest: 0.4133504\tbest: 0.4133504 (0)\ttotal: 432ms\tremaining: 6.04s\n",
      "1:\tlearn: 0.4439807\ttest: 0.4223363\tbest: 0.4223363 (1)\ttotal: 844ms\tremaining: 5.49s\n",
      "2:\tlearn: 0.4520064\ttest: 0.4146341\tbest: 0.4223363 (1)\ttotal: 1.32s\tremaining: 5.29s\n",
      "3:\tlearn: 0.4577849\ttest: 0.4133504\tbest: 0.4223363 (1)\ttotal: 1.78s\tremaining: 4.89s\n",
      "4:\tlearn: 0.4648475\ttest: 0.4159178\tbest: 0.4223363 (1)\ttotal: 2.22s\tremaining: 4.45s\n",
      "5:\tlearn: 0.4789727\ttest: 0.4287548\tbest: 0.4287548 (5)\ttotal: 2.65s\tremaining: 3.97s\n",
      "6:\tlearn: 0.4853933\ttest: 0.4326059\tbest: 0.4326059 (6)\ttotal: 3.06s\tremaining: 3.5s\n",
      "7:\tlearn: 0.4837881\ttest: 0.4287548\tbest: 0.4326059 (6)\ttotal: 3.48s\tremaining: 3.05s\n",
      "8:\tlearn: 0.4860353\ttest: 0.4184852\tbest: 0.4326059 (6)\ttotal: 3.91s\tremaining: 2.61s\n",
      "9:\tlearn: 0.4886035\ttest: 0.4274711\tbest: 0.4326059 (6)\ttotal: 4.38s\tremaining: 2.19s\n",
      "10:\tlearn: 0.4991974\ttest: 0.4261874\tbest: 0.4326059 (6)\ttotal: 4.81s\tremaining: 1.75s\n",
      "11:\tlearn: 0.5036918\ttest: 0.4313222\tbest: 0.4326059 (6)\ttotal: 5.23s\tremaining: 1.31s\n",
      "Stopped by overfitting detector  (5 iterations wait)\n",
      "\n",
      "bestTest = 0.432605905\n",
      "bestIteration = 6\n",
      "\n",
      "Shrink model to first 7 iterations.\n",
      "class =  (779, 1)\n"
     ]
    }
   ],
   "source": [
    "cb_train = Pool(X_train, label=y_train_midas)\n",
    "cb_eval = Pool(X_test, label=y_test_midas)\n",
    "\n",
    "model_params = {\n",
    "    'task_type': 'CPU',\n",
    "    'iterations': 15,\n",
    "    'verbose': True,\n",
    "    'loss_function': 'MultiClass',\n",
    "    'eval_metric': 'Accuracy',\n",
    "    'use_best_model': True,\n",
    "    # 'class_weights': class_weights\n",
    "}\n",
    "\n",
    "fit_params = {\n",
    "    'use_best_model': True,\n",
    "    'early_stopping_rounds': 5,\n",
    "}\n",
    "\n",
    "model = CatBoostClassifier(**model_params)\n",
    "model.fit(cb_train, eval_set=cb_eval, **fit_params)\n",
    "\n",
    "cb_pred = model.predict(cb_eval)\n",
    "print(\"class = \", cb_pred.shape)"
   ]
  },
  {
   "cell_type": "code",
   "execution_count": 60,
   "id": "c2427389-cfe6-4e93-a4ac-7181b46598a5",
   "metadata": {},
   "outputs": [
    {
     "name": "stdout",
     "output_type": "stream",
     "text": [
      "class =  (779, 1)\n"
     ]
    }
   ],
   "source": [
    "cb_pred = model.predict(cb_eval)\n",
    "print(\"class = \", cb_pred.shape)"
   ]
  },
  {
   "cell_type": "code",
   "execution_count": 61,
   "id": "9d82e573-4412-40f9-86ac-99de7196db09",
   "metadata": {},
   "outputs": [
    {
     "data": {
      "text/plain": [
       "Counter({11: 532, 8: 162, 12: 85})"
      ]
     },
     "execution_count": 61,
     "metadata": {},
     "output_type": "execute_result"
    }
   ],
   "source": [
    "Counter(cb_pred.squeeze())"
   ]
  },
  {
   "cell_type": "code",
   "execution_count": 62,
   "id": "3986c09a-03ce-4ffc-9473-a4bf614e5df6",
   "metadata": {},
   "outputs": [
    {
     "data": {
      "text/plain": [
       "0.4326059050064185"
      ]
     },
     "execution_count": 62,
     "metadata": {},
     "output_type": "execute_result"
    }
   ],
   "source": [
    "accuracy_score(y_test_midas, cb_pred.squeeze())"
   ]
  },
  {
   "cell_type": "code",
   "execution_count": 63,
   "id": "1b9879ef-0f0f-4596-9d88-8c0f1aa6a05a",
   "metadata": {},
   "outputs": [
    {
     "data": {
      "text/plain": [
       "0.4326059050064185"
      ]
     },
     "execution_count": 63,
     "metadata": {},
     "output_type": "execute_result"
    }
   ],
   "source": [
    "model.score(cb_eval)"
   ]
  },
  {
   "cell_type": "code",
   "execution_count": 64,
   "id": "3adc68f1-68de-4e70-a14c-0a4bcb2e3faf",
   "metadata": {},
   "outputs": [
    {
     "data": {
      "text/plain": [
       "0.36064206475430116"
      ]
     },
     "execution_count": 64,
     "metadata": {},
     "output_type": "execute_result"
    }
   ],
   "source": [
    "f1_score(y_test_midas, cb_pred.squeeze(), average='weighted')"
   ]
  },
  {
   "cell_type": "markdown",
   "id": "49dcb8db-414a-44df-ab4c-e3036574a84d",
   "metadata": {},
   "source": [
    "#### LogReg"
   ]
  },
  {
   "cell_type": "code",
   "execution_count": 23,
   "id": "a215cc32-a449-43ab-8f9b-b8ab8d689025",
   "metadata": {
    "tags": []
   },
   "outputs": [
    {
     "data": {
      "text/plain": [
       "LogisticRegression(max_iter=500, random_state=42)"
      ]
     },
     "execution_count": 23,
     "metadata": {},
     "output_type": "execute_result"
    }
   ],
   "source": [
    "lg = LogisticRegression(random_state=42, max_iter=500)\n",
    "lg.fit(X_train, y_train_midas)"
   ]
  },
  {
   "cell_type": "code",
   "execution_count": 24,
   "id": "fb84b8e4-7b30-4f36-966b-3144fa811596",
   "metadata": {},
   "outputs": [],
   "source": [
    "logreg_pred = lg.predict(X_test)"
   ]
  },
  {
   "cell_type": "code",
   "execution_count": 25,
   "id": "fb8b1250-df59-4bcd-a0cc-3b95bbe85144",
   "metadata": {},
   "outputs": [
    {
     "data": {
      "text/plain": [
       "Counter({8: 184,\n",
       "         11: 425,\n",
       "         12: 96,\n",
       "         7: 21,\n",
       "         6: 32,\n",
       "         1: 10,\n",
       "         2: 4,\n",
       "         10: 3,\n",
       "         5: 3,\n",
       "         4: 1})"
      ]
     },
     "execution_count": 25,
     "metadata": {},
     "output_type": "execute_result"
    }
   ],
   "source": [
    "Counter(logreg_pred)"
   ]
  },
  {
   "cell_type": "code",
   "execution_count": 26,
   "id": "bec77712-069d-4aee-9d30-eff3f028cbcc",
   "metadata": {},
   "outputs": [
    {
     "data": {
      "text/plain": [
       "0.4762516046213094"
      ]
     },
     "execution_count": 26,
     "metadata": {},
     "output_type": "execute_result"
    }
   ],
   "source": [
    "accuracy_score(y_test_midas, logreg_pred)"
   ]
  },
  {
   "cell_type": "code",
   "execution_count": 27,
   "id": "cf4cf1e9-ebca-454e-afd9-7ba1c8d28301",
   "metadata": {},
   "outputs": [
    {
     "data": {
      "text/plain": [
       "0.45340793576035904"
      ]
     },
     "execution_count": 27,
     "metadata": {},
     "output_type": "execute_result"
    }
   ],
   "source": [
    "f1_score(y_test_midas, logreg_pred, average='weighted')"
   ]
  },
  {
   "cell_type": "markdown",
   "id": "111ab568-210f-44bf-a0d0-6a2e8ad19c36",
   "metadata": {},
   "source": [
    "#### RandomForest"
   ]
  },
  {
   "cell_type": "code",
   "execution_count": 28,
   "id": "ec2f01a6-71c3-4371-8ef0-43754af8a4f0",
   "metadata": {},
   "outputs": [],
   "source": [
    "rf = RandomForestClassifier(max_depth=10, random_state=42)"
   ]
  },
  {
   "cell_type": "code",
   "execution_count": 29,
   "id": "5710b144-ee0e-4acf-b060-f0abd5f5e833",
   "metadata": {},
   "outputs": [
    {
     "data": {
      "text/plain": [
       "RandomForestClassifier(max_depth=10, random_state=42)"
      ]
     },
     "execution_count": 29,
     "metadata": {},
     "output_type": "execute_result"
    }
   ],
   "source": [
    "rf.fit(X_train, y_train_midas)"
   ]
  },
  {
   "cell_type": "code",
   "execution_count": 30,
   "id": "0561fab7-dff1-49fe-b024-b58a6cc616df",
   "metadata": {},
   "outputs": [],
   "source": [
    "rf_preds = rf.predict(X_test)"
   ]
  },
  {
   "cell_type": "code",
   "execution_count": 31,
   "id": "976e8c5d-9592-4fd1-8afb-d7d4dedcbf83",
   "metadata": {
    "tags": []
   },
   "outputs": [
    {
     "data": {
      "text/plain": [
       "Counter({11: 680, 8: 50, 7: 3, 12: 45, 2: 1})"
      ]
     },
     "execution_count": 31,
     "metadata": {},
     "output_type": "execute_result"
    }
   ],
   "source": [
    "Counter(rf_preds)"
   ]
  },
  {
   "cell_type": "code",
   "execution_count": 32,
   "id": "510247d4-34c9-45b5-92a4-821e89a04423",
   "metadata": {},
   "outputs": [
    {
     "data": {
      "text/plain": [
       "0.4672657252888318"
      ]
     },
     "execution_count": 32,
     "metadata": {},
     "output_type": "execute_result"
    }
   ],
   "source": [
    "accuracy_score(y_test_midas, rf_preds)"
   ]
  },
  {
   "cell_type": "code",
   "execution_count": 33,
   "id": "71113f3d-c77f-484b-af3f-0017382761e3",
   "metadata": {},
   "outputs": [
    {
     "data": {
      "text/plain": [
       "0.3626381153058806"
      ]
     },
     "execution_count": 33,
     "metadata": {},
     "output_type": "execute_result"
    }
   ],
   "source": [
    "f1_score(y_test_midas, rf_preds, average='weighted')"
   ]
  },
  {
   "cell_type": "markdown",
   "id": "fa7347d5-e794-475b-8098-f47045c824a8",
   "metadata": {
    "tags": []
   },
   "source": [
    "### Entity"
   ]
  },
  {
   "cell_type": "code",
   "execution_count": 34,
   "id": "0518036f-c911-4896-b707-56525fb76c1e",
   "metadata": {},
   "outputs": [
    {
     "data": {
      "text/plain": [
       "array([0.3974597 , 0.17117733, 0.16336102, 0.07464582, 0.05236932,\n",
       "       0.        , 0.05627748, 0.06331216, 0.0371275 , 0.03790914,\n",
       "       0.0246214 , 0.        , 0.04064485, 0.02305813, 0.03165608,\n",
       "       0.01211529, 0.        , 0.00547142, 0.01133366, 0.00273571,\n",
       "       0.00390816, 0.00195408, 0.        , 0.00156326, 0.00117245,\n",
       "       0.00078163, 0.00078163, 0.00195408])"
      ]
     },
     "execution_count": 34,
     "metadata": {},
     "output_type": "execute_result"
    }
   ],
   "source": [
    "n_bins = len(labels_map['target_entity2id'])\n",
    "class_weights, _ = np.histogram(y_train_entity, bins=n_bins, density=True)\n",
    "class_weights"
   ]
  },
  {
   "cell_type": "markdown",
   "id": "6c5ab458-e2e9-48e2-99a1-1445994d6bd8",
   "metadata": {},
   "source": [
    "#### Catboost"
   ]
  },
  {
   "cell_type": "code",
   "execution_count": 65,
   "id": "57fed2b2-62b4-4505-8a37-5817dc603f77",
   "metadata": {},
   "outputs": [
    {
     "name": "stdout",
     "output_type": "stream",
     "text": [
      "Learning rate set to 0.5\n",
      "0:\tlearn: 0.4086677\ttotal: 883ms\tremaining: 12.4s\n",
      "1:\tlearn: 0.4208668\ttotal: 1.85s\tremaining: 12.1s\n",
      "2:\tlearn: 0.4279294\ttotal: 2.73s\tremaining: 10.9s\n",
      "3:\tlearn: 0.4430177\ttotal: 3.61s\tremaining: 9.93s\n",
      "4:\tlearn: 0.4420546\ttotal: 4.48s\tremaining: 8.96s\n",
      "5:\tlearn: 0.4459069\ttotal: 5.38s\tremaining: 8.06s\n",
      "6:\tlearn: 0.4484751\ttotal: 6.28s\tremaining: 7.18s\n",
      "7:\tlearn: 0.4516854\ttotal: 7.17s\tremaining: 6.28s\n",
      "8:\tlearn: 0.4565008\ttotal: 8.05s\tremaining: 5.37s\n",
      "9:\tlearn: 0.4574639\ttotal: 8.92s\tremaining: 4.46s\n",
      "10:\tlearn: 0.4577849\ttotal: 9.79s\tremaining: 3.56s\n",
      "11:\tlearn: 0.4568218\ttotal: 10.7s\tremaining: 2.67s\n",
      "12:\tlearn: 0.4674157\ttotal: 11.6s\tremaining: 1.78s\n",
      "13:\tlearn: 0.4674157\ttotal: 12.5s\tremaining: 890ms\n",
      "14:\tlearn: 0.4738363\ttotal: 13.4s\tremaining: 0us\n",
      "class =  (779, 1)\n"
     ]
    }
   ],
   "source": [
    "cb_train = Pool(X_train, label=y_train_entity)\n",
    "cb_eval = Pool(X_test, label=y_test_entity)\n",
    "\n",
    "model_params = {\n",
    "    'task_type': 'CPU',\n",
    "    'iterations': 15,\n",
    "    'verbose': True,\n",
    "    'loss_function': 'MultiClass',\n",
    "    'eval_metric': 'Accuracy',\n",
    "    # 'use_best_model': True,\n",
    "    # 'class_weights': class_weights\n",
    "}\n",
    "\n",
    "fit_params = {\n",
    "    # 'use_best_model': True,\n",
    "    'early_stopping_rounds': 5,\n",
    "    # 'eval_set': cb_eval, \n",
    "}\n",
    "\n",
    "model = CatBoostClassifier(**model_params)\n",
    "model.fit(cb_train, **fit_params)\n",
    "\n",
    "cb_pred = model.predict(cb_eval)\n",
    "print(\"class = \", cb_pred.shape)"
   ]
  },
  {
   "cell_type": "code",
   "execution_count": 66,
   "id": "5d10498e-3778-490d-b791-82f502651d8f",
   "metadata": {},
   "outputs": [
    {
     "name": "stdout",
     "output_type": "stream",
     "text": [
      "class =  (779, 1)\n"
     ]
    }
   ],
   "source": [
    "cb_pred = model.predict(cb_eval)\n",
    "print(\"class = \", cb_pred.shape)"
   ]
  },
  {
   "cell_type": "code",
   "execution_count": 67,
   "id": "3fad91d6-160f-4c8b-8ee8-08250b768b0c",
   "metadata": {},
   "outputs": [
    {
     "data": {
      "text/plain": [
       "Counter({2: 85,\n",
       "         0: 544,\n",
       "         3: 30,\n",
       "         1: 84,\n",
       "         6: 12,\n",
       "         12: 13,\n",
       "         5: 3,\n",
       "         9: 1,\n",
       "         10: 3,\n",
       "         7: 2,\n",
       "         4: 2})"
      ]
     },
     "execution_count": 67,
     "metadata": {},
     "output_type": "execute_result"
    }
   ],
   "source": [
    "Counter(cb_pred.squeeze())"
   ]
  },
  {
   "cell_type": "code",
   "execution_count": 68,
   "id": "71d58b5b-0074-48c2-a9d7-8a78655ae570",
   "metadata": {},
   "outputs": [
    {
     "data": {
      "text/plain": [
       "0.4287548138639281"
      ]
     },
     "execution_count": 68,
     "metadata": {},
     "output_type": "execute_result"
    }
   ],
   "source": [
    "accuracy_score(y_test_entity, cb_pred.squeeze())"
   ]
  },
  {
   "cell_type": "code",
   "execution_count": 69,
   "id": "2e554da7-3b73-47e9-bc7e-c8026692e12e",
   "metadata": {},
   "outputs": [
    {
     "data": {
      "text/plain": [
       "0.4287548138639281"
      ]
     },
     "execution_count": 69,
     "metadata": {},
     "output_type": "execute_result"
    }
   ],
   "source": [
    "model.score(cb_eval)"
   ]
  },
  {
   "cell_type": "code",
   "execution_count": 70,
   "id": "083cc4df-9b08-4fa8-a060-6ca839f8808d",
   "metadata": {},
   "outputs": [
    {
     "data": {
      "text/plain": [
       "0.34967552857158113"
      ]
     },
     "execution_count": 70,
     "metadata": {},
     "output_type": "execute_result"
    }
   ],
   "source": [
    "f1_score(y_test_entity, cb_pred.squeeze(), average='weighted')"
   ]
  },
  {
   "cell_type": "markdown",
   "id": "ee233f38-8b9d-4eb5-8e2a-9952cd36394d",
   "metadata": {},
   "source": [
    "#### LogReg"
   ]
  },
  {
   "cell_type": "code",
   "execution_count": 42,
   "id": "df17ab72-814b-41d3-bb95-4b46d0d153ba",
   "metadata": {
    "tags": []
   },
   "outputs": [
    {
     "data": {
      "text/plain": [
       "LogisticRegression(max_iter=500, random_state=42)"
      ]
     },
     "execution_count": 42,
     "metadata": {},
     "output_type": "execute_result"
    }
   ],
   "source": [
    "lg = LogisticRegression(random_state=42, max_iter=500)\n",
    "lg.fit(X_train, y_train_entity)"
   ]
  },
  {
   "cell_type": "code",
   "execution_count": 43,
   "id": "af06370c-9c74-43c5-b3c9-eedcb1a8f0ed",
   "metadata": {},
   "outputs": [],
   "source": [
    "logreg_pred = lg.predict(X_test)"
   ]
  },
  {
   "cell_type": "code",
   "execution_count": 44,
   "id": "953bb3d7-b493-4fe7-8b5f-ba625fd3e37b",
   "metadata": {},
   "outputs": [
    {
     "data": {
      "text/plain": [
       "Counter({2: 129,\n",
       "         0: 361,\n",
       "         3: 35,\n",
       "         1: 115,\n",
       "         4: 25,\n",
       "         11: 8,\n",
       "         6: 34,\n",
       "         8: 8,\n",
       "         5: 22,\n",
       "         10: 8,\n",
       "         12: 18,\n",
       "         7: 6,\n",
       "         16: 1,\n",
       "         13: 4,\n",
       "         9: 5})"
      ]
     },
     "execution_count": 44,
     "metadata": {},
     "output_type": "execute_result"
    }
   ],
   "source": [
    "Counter(logreg_pred)"
   ]
  },
  {
   "cell_type": "code",
   "execution_count": 45,
   "id": "1a2df24d-e883-4d82-a890-104a1862b67a",
   "metadata": {},
   "outputs": [
    {
     "data": {
      "text/plain": [
       "0.503209242618742"
      ]
     },
     "execution_count": 45,
     "metadata": {},
     "output_type": "execute_result"
    }
   ],
   "source": [
    "accuracy_score(y_test_entity, logreg_pred)"
   ]
  },
  {
   "cell_type": "code",
   "execution_count": 46,
   "id": "701db29c-88e7-4737-8353-05de863c204c",
   "metadata": {},
   "outputs": [
    {
     "data": {
      "text/plain": [
       "0.4683790779119247"
      ]
     },
     "execution_count": 46,
     "metadata": {},
     "output_type": "execute_result"
    }
   ],
   "source": [
    "f1_score(y_test_entity, logreg_pred, average='weighted')"
   ]
  },
  {
   "cell_type": "markdown",
   "id": "d155dfeb-e443-483b-9ce7-bb464088f62c",
   "metadata": {},
   "source": [
    "#### RandomForest"
   ]
  },
  {
   "cell_type": "code",
   "execution_count": 47,
   "id": "bb739fba-d88a-48b2-80df-d2457f816107",
   "metadata": {},
   "outputs": [],
   "source": [
    "rf = RandomForestClassifier(max_depth=10, random_state=42)"
   ]
  },
  {
   "cell_type": "code",
   "execution_count": 48,
   "id": "ea2df68d-72a5-4a09-9615-e8cf838925b1",
   "metadata": {},
   "outputs": [
    {
     "data": {
      "text/plain": [
       "RandomForestClassifier(max_depth=10, random_state=42)"
      ]
     },
     "execution_count": 48,
     "metadata": {},
     "output_type": "execute_result"
    }
   ],
   "source": [
    "rf.fit(X_train, y_train_entity)"
   ]
  },
  {
   "cell_type": "code",
   "execution_count": 49,
   "id": "ce03898a-6b8b-4d83-9485-c28f742e4bb2",
   "metadata": {},
   "outputs": [],
   "source": [
    "rf_preds = rf.predict(X_test)"
   ]
  },
  {
   "cell_type": "code",
   "execution_count": 50,
   "id": "a8b123a0-fba5-4079-b73f-b38434a3b864",
   "metadata": {
    "tags": []
   },
   "outputs": [
    {
     "data": {
      "text/plain": [
       "Counter({2: 39, 0: 641, 1: 89, 12: 9, 3: 1})"
      ]
     },
     "execution_count": 50,
     "metadata": {},
     "output_type": "execute_result"
    }
   ],
   "source": [
    "Counter(rf_preds)"
   ]
  },
  {
   "cell_type": "code",
   "execution_count": 51,
   "id": "27d44e0b-3892-4003-9ea3-caa5a86925a9",
   "metadata": {},
   "outputs": [
    {
     "data": {
      "text/plain": [
       "0.4249037227214377"
      ]
     },
     "execution_count": 51,
     "metadata": {},
     "output_type": "execute_result"
    }
   ],
   "source": [
    "accuracy_score(y_test_entity, rf_preds)"
   ]
  },
  {
   "cell_type": "code",
   "execution_count": 52,
   "id": "e6e852ad-d882-465a-a117-3b603b5d6db4",
   "metadata": {},
   "outputs": [
    {
     "data": {
      "text/plain": [
       "0.3201967718051575"
      ]
     },
     "execution_count": 52,
     "metadata": {},
     "output_type": "execute_result"
    }
   ],
   "source": [
    "f1_score(y_test_entity, rf_preds, average='weighted')"
   ]
  },
  {
   "cell_type": "markdown",
   "id": "18ba26cf-c96e-4b14-92d6-8d6ef454f61c",
   "metadata": {
    "tags": []
   },
   "source": [
    "### Concatenation"
   ]
  },
  {
   "cell_type": "code",
   "execution_count": 53,
   "id": "791a6e1d-8fad-482a-9141-a0c64b148d06",
   "metadata": {},
   "outputs": [
    {
     "data": {
      "text/plain": [
       "array([0.02471231, 0.01270919, 0.00494246, 0.0031773 , 0.00141213,\n",
       "       0.00494246, 0.0021182 , 0.00141213, 0.0010591 , 0.00176517,\n",
       "       0.0021182 , 0.        , 0.00141213, 0.        , 0.        ,\n",
       "       0.        , 0.        , 0.        , 0.        , 0.        ,\n",
       "       0.00035303, 0.        , 0.        , 0.        , 0.        ,\n",
       "       0.        , 0.        , 0.        , 0.        , 0.        ,\n",
       "       0.00564853, 0.00282426, 0.00282426, 0.        , 0.00035303,\n",
       "       0.0010591 , 0.00035303, 0.00070607, 0.00247123, 0.        ,\n",
       "       0.00035303, 0.        , 0.        , 0.00035303, 0.        ,\n",
       "       0.00035303, 0.        , 0.        , 0.        , 0.        ,\n",
       "       0.        , 0.        , 0.        , 0.        , 0.        ,\n",
       "       0.        , 0.        , 0.        , 0.        , 0.        ,\n",
       "       0.        , 0.00353033, 0.00035303, 0.        , 0.        ,\n",
       "       0.00070607, 0.        , 0.00070607, 0.00035303, 0.        ,\n",
       "       0.00070607, 0.        , 0.        , 0.        , 0.        ,\n",
       "       0.        , 0.        , 0.        , 0.00035303, 0.        ,\n",
       "       0.00070607, 0.        , 0.        , 0.        , 0.        ,\n",
       "       0.        , 0.        , 0.        , 0.        , 0.        ,\n",
       "       0.        , 0.        , 0.00811976, 0.00070607, 0.00141213,\n",
       "       0.        , 0.        , 0.        , 0.        , 0.        ,\n",
       "       0.        , 0.00035303, 0.        , 0.00035303, 0.        ,\n",
       "       0.        , 0.        , 0.        , 0.        , 0.00035303,\n",
       "       0.        , 0.        , 0.        , 0.        , 0.        ,\n",
       "       0.        , 0.        , 0.        , 0.        , 0.        ,\n",
       "       0.        , 0.        , 0.        , 0.0031773 , 0.00247123,\n",
       "       0.00282426, 0.00035303, 0.0010591 , 0.        , 0.00035303,\n",
       "       0.        , 0.00035303, 0.        , 0.        , 0.00070607,\n",
       "       0.00035303, 0.00035303, 0.00035303, 0.00035303, 0.        ,\n",
       "       0.        , 0.        , 0.        , 0.        , 0.        ,\n",
       "       0.        , 0.        , 0.        , 0.        , 0.        ,\n",
       "       0.        , 0.        , 0.        , 0.02082895, 0.        ,\n",
       "       0.00388336, 0.01059099, 0.00494246, 0.0031773 , 0.00247123,\n",
       "       0.00494246, 0.00247123, 0.00176517, 0.00247123, 0.00741369,\n",
       "       0.        , 0.        , 0.00176517, 0.00070607, 0.        ,\n",
       "       0.00035303, 0.        , 0.00070607, 0.        , 0.        ,\n",
       "       0.00070607, 0.        , 0.        , 0.        , 0.        ,\n",
       "       0.        , 0.        , 0.        , 0.        , 0.01871075,\n",
       "       0.01341526, 0.00564853, 0.        , 0.00388336, 0.00176517,\n",
       "       0.00141213, 0.00353033, 0.00070607, 0.00070607, 0.00070607,\n",
       "       0.00035303, 0.00070607, 0.0021182 , 0.        , 0.00035303,\n",
       "       0.        , 0.00035303, 0.        , 0.00035303, 0.        ,\n",
       "       0.        , 0.        , 0.        , 0.        , 0.        ,\n",
       "       0.00070607, 0.        , 0.        , 0.        , 0.        ,\n",
       "       0.06460504, 0.05048372, 0.02541838, 0.01376829, 0.01376829,\n",
       "       0.        , 0.01553345, 0.01306222, 0.01059099, 0.0052955 ,\n",
       "       0.00741369, 0.00282426, 0.00353033, 0.00635459, 0.00600156,\n",
       "       0.00035303, 0.        , 0.00353033, 0.0010591 , 0.0010591 ,\n",
       "       0.        , 0.00035303, 0.        , 0.        , 0.        ,\n",
       "       0.00070607, 0.        , 0.        , 0.        , 0.        ,\n",
       "       0.        , 0.        , 0.        , 0.        , 0.        ,\n",
       "       0.        , 0.        , 0.        , 0.        , 0.        ,\n",
       "       0.        , 0.        , 0.00035303, 0.        , 0.        ,\n",
       "       0.        , 0.        , 0.        , 0.        , 0.        ,\n",
       "       0.        , 0.        , 0.        , 0.        , 0.        ,\n",
       "       0.        , 0.        , 0.        , 0.        , 0.        ,\n",
       "       0.        , 0.        , 0.00388336, 0.00353033, 0.0010591 ,\n",
       "       0.0010591 , 0.        , 0.        , 0.00070607, 0.        ,\n",
       "       0.        , 0.        , 0.        , 0.00035303, 0.        ,\n",
       "       0.        , 0.        , 0.        , 0.00035303, 0.        ,\n",
       "       0.        , 0.        , 0.        , 0.        , 0.        ,\n",
       "       0.        , 0.        , 0.        , 0.        , 0.        ,\n",
       "       0.        , 0.        , 0.15745273, 0.        , 0.042717  ,\n",
       "       0.0759021 , 0.03212601, 0.01659255, 0.02047592, 0.02330018,\n",
       "       0.01270919, 0.01871075, 0.00811976, 0.01412132, 0.        ,\n",
       "       0.01412132, 0.01235616, 0.00141213, 0.00247123, 0.00388336,\n",
       "       0.0010591 , 0.00035303, 0.00070607, 0.00070607, 0.00035303,\n",
       "       0.        , 0.00070607, 0.00070607, 0.        , 0.        ,\n",
       "       0.        , 0.        , 0.        , 0.04836552, 0.02153501,\n",
       "       0.01694559, 0.        , 0.00776673, 0.00776673, 0.00494246,\n",
       "       0.00811976, 0.0031773 , 0.0052955 , 0.00141213, 0.00811976,\n",
       "       0.00070607, 0.0052955 , 0.        , 0.00176517, 0.00176517,\n",
       "       0.00141213, 0.        , 0.00035303, 0.0010591 , 0.        ,\n",
       "       0.        , 0.        , 0.        , 0.00035303])"
      ]
     },
     "execution_count": 53,
     "metadata": {},
     "output_type": "execute_result"
    }
   ],
   "source": [
    "n_bins = len(labels_map['target_midas_and_entity2id'])\n",
    "class_weights, _ = np.histogram(y_train_concat, bins=n_bins, density=True)\n",
    "class_weights"
   ]
  },
  {
   "cell_type": "markdown",
   "id": "5b80e8dc-c2f3-493b-ada7-ff2277ee1963",
   "metadata": {},
   "source": [
    "#### Catboost"
   ]
  },
  {
   "cell_type": "code",
   "execution_count": 71,
   "id": "36fe1649-5a7d-49ec-8579-b553ed81bfc1",
   "metadata": {},
   "outputs": [
    {
     "name": "stdout",
     "output_type": "stream",
     "text": [
      "Learning rate set to 0.5\n",
      "0:\tlearn: 0.1666132\ttotal: 5.93s\tremaining: 1m 23s\n",
      "1:\tlearn: 0.1235955\ttotal: 12s\tremaining: 1m 18s\n",
      "2:\tlearn: 0.1441413\ttotal: 18.8s\tremaining: 1m 15s\n",
      "3:\tlearn: 0.1566613\ttotal: 25.3s\tremaining: 1m 9s\n",
      "4:\tlearn: 0.1617978\ttotal: 31.7s\tremaining: 1m 3s\n",
      "5:\tlearn: 0.1778491\ttotal: 38.1s\tremaining: 57.1s\n",
      "6:\tlearn: 0.1865169\ttotal: 44.4s\tremaining: 50.8s\n",
      "7:\tlearn: 0.1939005\ttotal: 50.8s\tremaining: 44.5s\n",
      "8:\tlearn: 0.2105939\ttotal: 57.5s\tremaining: 38.3s\n",
      "9:\tlearn: 0.2218299\ttotal: 1m 4s\tremaining: 32.2s\n",
      "10:\tlearn: 0.2288925\ttotal: 1m 10s\tremaining: 25.8s\n",
      "11:\tlearn: 0.2333868\ttotal: 1m 17s\tremaining: 19.4s\n",
      "12:\tlearn: 0.2382022\ttotal: 1m 24s\tremaining: 12.9s\n",
      "13:\tlearn: 0.2439807\ttotal: 1m 30s\tremaining: 6.47s\n",
      "14:\tlearn: 0.2510433\ttotal: 1m 37s\tremaining: 0us\n",
      "class =  (779, 1)\n"
     ]
    }
   ],
   "source": [
    "cb_train = Pool(X_train, label=y_train_concat)\n",
    "cb_eval = Pool(X_test, label=y_test_concat)\n",
    "\n",
    "model_params = {\n",
    "    'task_type': 'CPU',\n",
    "    'iterations': 15,\n",
    "    'verbose': True,\n",
    "    'loss_function': 'MultiClass',\n",
    "    'eval_metric': 'Accuracy',\n",
    "    # 'use_best_model': True,\n",
    "    # 'class_weights': class_weights\n",
    "}\n",
    "\n",
    "fit_params = {\n",
    "    # 'use_best_model': True,\n",
    "    # 'early_stopping_rounds': 5,\n",
    "    # 'eval_set': cb_eval, \n",
    "}\n",
    "\n",
    "model = CatBoostClassifier(**model_params)\n",
    "model.fit(cb_train, **fit_params)\n",
    "\n",
    "cb_pred = model.predict(cb_eval)\n",
    "print(\"class = \", cb_pred.shape)"
   ]
  },
  {
   "cell_type": "code",
   "execution_count": 72,
   "id": "4dd9f222-5f1b-4577-bdc9-d6fdab178aad",
   "metadata": {},
   "outputs": [
    {
     "name": "stdout",
     "output_type": "stream",
     "text": [
      "class =  (779, 1)\n"
     ]
    }
   ],
   "source": [
    "cb_pred = model.predict(cb_eval)\n",
    "print(\"class = \", cb_pred.shape)"
   ]
  },
  {
   "cell_type": "code",
   "execution_count": 73,
   "id": "50e9793e-6634-4e05-a924-26abb340c680",
   "metadata": {},
   "outputs": [
    {
     "data": {
      "text/plain": [
       "Counter({308: 275,\n",
       "         338: 16,\n",
       "         319: 1,\n",
       "         28: 10,\n",
       "         310: 112,\n",
       "         314: 14,\n",
       "         336: 60,\n",
       "         224: 68,\n",
       "         339: 2,\n",
       "         309: 25,\n",
       "         225: 59,\n",
       "         311: 12,\n",
       "         168: 11,\n",
       "         316: 13,\n",
       "         348: 3,\n",
       "         228: 5,\n",
       "         340: 1,\n",
       "         226: 12,\n",
       "         337: 16,\n",
       "         318: 9,\n",
       "         196: 11,\n",
       "         315: 4,\n",
       "         312: 3,\n",
       "         231: 3,\n",
       "         170: 14,\n",
       "         227: 1,\n",
       "         197: 6,\n",
       "         29: 1,\n",
       "         342: 2,\n",
       "         202: 2,\n",
       "         230: 2,\n",
       "         313: 2,\n",
       "         320: 1,\n",
       "         237: 1,\n",
       "         346: 2})"
      ]
     },
     "execution_count": 73,
     "metadata": {},
     "output_type": "execute_result"
    }
   ],
   "source": [
    "Counter(cb_pred.squeeze())"
   ]
  },
  {
   "cell_type": "code",
   "execution_count": 74,
   "id": "8d7bd29d-98ef-4216-b408-a66f086d3001",
   "metadata": {},
   "outputs": [
    {
     "data": {
      "text/plain": [
       "0.1386392811296534"
      ]
     },
     "execution_count": 74,
     "metadata": {},
     "output_type": "execute_result"
    }
   ],
   "source": [
    "accuracy_score(y_test_concat, cb_pred.squeeze())"
   ]
  },
  {
   "cell_type": "code",
   "execution_count": 75,
   "id": "c7ab1eeb-66cd-4318-ad08-a329b6426899",
   "metadata": {},
   "outputs": [
    {
     "data": {
      "text/plain": [
       "0.1386392811296534"
      ]
     },
     "execution_count": 75,
     "metadata": {},
     "output_type": "execute_result"
    }
   ],
   "source": [
    "model.score(cb_eval)"
   ]
  },
  {
   "cell_type": "code",
   "execution_count": 76,
   "id": "2a3daea7-5b71-4cc2-b0ef-912070987d2c",
   "metadata": {},
   "outputs": [
    {
     "data": {
      "text/plain": [
       "0.09746762093343321"
      ]
     },
     "execution_count": 76,
     "metadata": {},
     "output_type": "execute_result"
    }
   ],
   "source": [
    "f1_score(y_test_concat, cb_pred.squeeze(), average='weighted')"
   ]
  },
  {
   "cell_type": "markdown",
   "id": "3f957b72-eab5-45fa-9e02-e2f3c59817db",
   "metadata": {},
   "source": [
    "#### LogReg"
   ]
  },
  {
   "cell_type": "code",
   "execution_count": 77,
   "id": "5fdda689-0881-49f3-8b90-888acefbbc85",
   "metadata": {
    "tags": []
   },
   "outputs": [
    {
     "data": {
      "text/plain": [
       "LogisticRegression(max_iter=500, random_state=42)"
      ]
     },
     "execution_count": 77,
     "metadata": {},
     "output_type": "execute_result"
    }
   ],
   "source": [
    "lg = LogisticRegression(random_state=42, max_iter=500)\n",
    "lg.fit(X_train, y_train_concat)"
   ]
  },
  {
   "cell_type": "code",
   "execution_count": 78,
   "id": "e80273d2-3140-43ae-8a38-83db0c7e07da",
   "metadata": {},
   "outputs": [],
   "source": [
    "logreg_pred = lg.predict(X_test)"
   ]
  },
  {
   "cell_type": "code",
   "execution_count": 79,
   "id": "e32d7506-6301-4b29-8f8e-5dbb1835bf1a",
   "metadata": {},
   "outputs": [
    {
     "data": {
      "text/plain": [
       "Counter({310: 79,\n",
       "         308: 247,\n",
       "         224: 57,\n",
       "         28: 16,\n",
       "         311: 22,\n",
       "         168: 7,\n",
       "         204: 1,\n",
       "         225: 43,\n",
       "         337: 9,\n",
       "         233: 3,\n",
       "         336: 42,\n",
       "         199: 1,\n",
       "         29: 5,\n",
       "         231: 2,\n",
       "         309: 36,\n",
       "         319: 9,\n",
       "         178: 3,\n",
       "         316: 7,\n",
       "         229: 4,\n",
       "         228: 9,\n",
       "         312: 8,\n",
       "         313: 10,\n",
       "         236: 10,\n",
       "         314: 21,\n",
       "         226: 24,\n",
       "         197: 11,\n",
       "         315: 2,\n",
       "         232: 2,\n",
       "         196: 6,\n",
       "         324: 1,\n",
       "         174: 1,\n",
       "         170: 10,\n",
       "         338: 7,\n",
       "         237: 3,\n",
       "         227: 5,\n",
       "         348: 2,\n",
       "         171: 4,\n",
       "         33: 1,\n",
       "         342: 4,\n",
       "         181: 1,\n",
       "         344: 1,\n",
       "         320: 7,\n",
       "         339: 3,\n",
       "         198: 3,\n",
       "         30: 1,\n",
       "         230: 7,\n",
       "         341: 1,\n",
       "         59: 1,\n",
       "         346: 1,\n",
       "         63: 1,\n",
       "         112: 2,\n",
       "         318: 3,\n",
       "         180: 1,\n",
       "         200: 1,\n",
       "         280: 1,\n",
       "         340: 2,\n",
       "         172: 1,\n",
       "         202: 1,\n",
       "         114: 1,\n",
       "         56: 1,\n",
       "         176: 1,\n",
       "         281: 2,\n",
       "         144: 1})"
      ]
     },
     "execution_count": 79,
     "metadata": {},
     "output_type": "execute_result"
    }
   ],
   "source": [
    "Counter(logreg_pred)"
   ]
  },
  {
   "cell_type": "code",
   "execution_count": 80,
   "id": "15e6ab68-a206-4361-ad04-19ebb964cb62",
   "metadata": {},
   "outputs": [
    {
     "data": {
      "text/plain": [
       "0.2862644415917843"
      ]
     },
     "execution_count": 80,
     "metadata": {},
     "output_type": "execute_result"
    }
   ],
   "source": [
    "accuracy_score(y_test_concat, logreg_pred)"
   ]
  },
  {
   "cell_type": "code",
   "execution_count": 81,
   "id": "92d4d3fb-6531-47a6-9597-afb0703c26d7",
   "metadata": {},
   "outputs": [
    {
     "data": {
      "text/plain": [
       "0.26027189200954154"
      ]
     },
     "execution_count": 81,
     "metadata": {},
     "output_type": "execute_result"
    }
   ],
   "source": [
    "f1_score(y_test_concat, logreg_pred, average='weighted')"
   ]
  },
  {
   "cell_type": "markdown",
   "id": "3e36bbde-589f-4695-9167-1aa9458d290d",
   "metadata": {},
   "source": [
    "#### RandomForest"
   ]
  },
  {
   "cell_type": "code",
   "execution_count": 82,
   "id": "3e79a6cd-66cd-40e4-80c1-08c6d93d9c18",
   "metadata": {},
   "outputs": [],
   "source": [
    "rf = RandomForestClassifier(max_depth=10, random_state=42)"
   ]
  },
  {
   "cell_type": "code",
   "execution_count": 83,
   "id": "90aad18e-b6b7-4b7c-a547-8a3252a97d27",
   "metadata": {},
   "outputs": [
    {
     "data": {
      "text/plain": [
       "RandomForestClassifier(max_depth=10, random_state=42)"
      ]
     },
     "execution_count": 83,
     "metadata": {},
     "output_type": "execute_result"
    }
   ],
   "source": [
    "rf.fit(X_train, y_train_concat)"
   ]
  },
  {
   "cell_type": "code",
   "execution_count": 84,
   "id": "7e072ee1-d157-4e93-9aa9-9caff51099ea",
   "metadata": {},
   "outputs": [],
   "source": [
    "rf_preds = rf.predict(X_test)"
   ]
  },
  {
   "cell_type": "code",
   "execution_count": 85,
   "id": "a7b7cc91-b68c-4081-9c49-51f44c181729",
   "metadata": {
    "tags": []
   },
   "outputs": [
    {
     "data": {
      "text/plain": [
       "Counter({308: 663,\n",
       "         319: 2,\n",
       "         310: 31,\n",
       "         225: 59,\n",
       "         197: 2,\n",
       "         309: 11,\n",
       "         224: 3,\n",
       "         336: 2,\n",
       "         63: 1,\n",
       "         112: 1,\n",
       "         337: 1,\n",
       "         339: 1,\n",
       "         226: 1,\n",
       "         281: 1})"
      ]
     },
     "execution_count": 85,
     "metadata": {},
     "output_type": "execute_result"
    }
   ],
   "source": [
    "Counter(rf_preds)"
   ]
  },
  {
   "cell_type": "code",
   "execution_count": 86,
   "id": "3c1d8911-5ad3-4dee-82ad-4db4a58ff674",
   "metadata": {},
   "outputs": [
    {
     "data": {
      "text/plain": [
       "0.20025673940949937"
      ]
     },
     "execution_count": 86,
     "metadata": {},
     "output_type": "execute_result"
    }
   ],
   "source": [
    "accuracy_score(y_test_concat, rf_preds)"
   ]
  },
  {
   "cell_type": "code",
   "execution_count": 87,
   "id": "70daf2a5-e265-47f7-aa0f-6a818a6f52e4",
   "metadata": {},
   "outputs": [
    {
     "data": {
      "text/plain": [
       "0.11367263555855998"
      ]
     },
     "execution_count": 87,
     "metadata": {},
     "output_type": "execute_result"
    }
   ],
   "source": [
    "f1_score(y_test_concat, rf_preds, average='weighted')"
   ]
  },
  {
   "cell_type": "markdown",
   "id": "5b6b38e8-8a52-4e42-83e1-c5fed5819cd6",
   "metadata": {
    "tags": []
   },
   "source": [
    "## Topical Chat"
   ]
  },
  {
   "cell_type": "code",
   "execution_count": 88,
   "id": "c8154cc1-b5b8-458c-81f2-e8dba46348ad",
   "metadata": {},
   "outputs": [
    {
     "data": {
      "text/plain": [
       "TfidfVectorizer(lowercase=False, max_df=0.7, max_features=300, min_df=3,\n",
       "                preprocessor=<function dummy_fn at 0x000002153191F550>,\n",
       "                token_pattern=None,\n",
       "                tokenizer=<function dummy_fn at 0x000002153191F550>)"
      ]
     },
     "execution_count": 88,
     "metadata": {},
     "output_type": "execute_result"
    }
   ],
   "source": [
    "topical_tfidf = pickle.load(open(\"models/topical_tfidf_3_08_300.pkl\", 'rb'))\n",
    "topical_tfidf"
   ]
  },
  {
   "cell_type": "code",
   "execution_count": 89,
   "id": "7a756b1a-ab8c-41c7-bad8-7d93bd4d3e6b",
   "metadata": {},
   "outputs": [],
   "source": [
    "topical_dataset = SkillDataset(\n",
    "    topical, labels_map, \n",
    "    tokenizer=tokenizer,\n",
    "    tfidf_model=topical_tfidf\n",
    ")"
   ]
  },
  {
   "cell_type": "code",
   "execution_count": 90,
   "id": "de740087-196b-4722-bca8-c4de8a06ea2d",
   "metadata": {},
   "outputs": [],
   "source": [
    "topical_loader = DataLoader(\n",
    "    topical_dataset, batch_size=len(topical_dataset), \n",
    "    shuffle=False, collate_fn=collate_fn)"
   ]
  },
  {
   "cell_type": "code",
   "execution_count": 91,
   "id": "1b8410ba-c1b2-44b1-b851-3963b6e81218",
   "metadata": {},
   "outputs": [],
   "source": [
    "for X, y in topical_loader:\n",
    "    break"
   ]
  },
  {
   "cell_type": "code",
   "execution_count": 92,
   "id": "c9726354-d35a-4436-bc36-ce01f6f9e2e1",
   "metadata": {},
   "outputs": [
    {
     "data": {
      "text/plain": [
       "(torch.Size([7800, 1035]), torch.Size([7800, 3]))"
      ]
     },
     "execution_count": 92,
     "metadata": {},
     "output_type": "execute_result"
    }
   ],
   "source": [
    "X.shape, y.shape"
   ]
  },
  {
   "cell_type": "code",
   "execution_count": 93,
   "id": "8f54470a-8445-411a-9440-752d9875dc0e",
   "metadata": {},
   "outputs": [],
   "source": [
    "X, y = X.numpy(), y.numpy()\n",
    "X_train, X_test, y_train, y_test = train_test_split(X, y, test_size=0.2, random_state=42)"
   ]
  },
  {
   "cell_type": "code",
   "execution_count": 94,
   "id": "4a0336b8-a095-4cd7-bad3-6f1d9f7f59f3",
   "metadata": {},
   "outputs": [],
   "source": [
    "y_train_midas, y_train_entity, y_train_concat = y_train[:,0], y_train[:,1], y_train[:,2]\n",
    "y_test_midas, y_test_entity, y_test_concat = y_test[:,0], y_test[:,1], y_test[:,2]"
   ]
  },
  {
   "cell_type": "markdown",
   "id": "c30dd016-b1c7-4cc3-9798-b3b1117f464a",
   "metadata": {
    "tags": []
   },
   "source": [
    "### Midas"
   ]
  },
  {
   "cell_type": "code",
   "execution_count": 96,
   "id": "513c6e29-bd8d-4a03-a687-194fec45d3ea",
   "metadata": {},
   "outputs": [
    {
     "data": {
      "text/plain": [
       "array([0.00069444, 0.01944444, 0.0578125 , 0.00173611, 0.00138889,\n",
       "       0.00798611, 0.01614583, 0.01111111, 0.47395833, 0.00052083,\n",
       "       0.02083333, 0.39739583, 0.07430556])"
      ]
     },
     "execution_count": 96,
     "metadata": {},
     "output_type": "execute_result"
    }
   ],
   "source": [
    "n_bins = len(labels_map['target_midas2id'])\n",
    "class_weights, _ = np.histogram(y_train_midas, bins=n_bins, density=True)\n",
    "class_weights"
   ]
  },
  {
   "cell_type": "markdown",
   "id": "e78ca87d-710b-44ec-b1ea-017cb1ebe3ae",
   "metadata": {},
   "source": [
    "#### Catboost"
   ]
  },
  {
   "cell_type": "code",
   "execution_count": 103,
   "id": "9560cc10-984c-4e11-b999-9d1e53a45d9c",
   "metadata": {},
   "outputs": [
    {
     "name": "stdout",
     "output_type": "stream",
     "text": [
      "Learning rate set to 0.5\n",
      "0:\tlearn: 0.4381410\ttest: 0.4352564\tbest: 0.4352564 (0)\ttotal: 947ms\tremaining: 13.3s\n",
      "1:\tlearn: 0.4536859\ttest: 0.4448718\tbest: 0.4448718 (1)\ttotal: 1.98s\tremaining: 12.9s\n",
      "2:\tlearn: 0.4791667\ttest: 0.4544872\tbest: 0.4544872 (2)\ttotal: 3.03s\tremaining: 12.1s\n",
      "3:\tlearn: 0.4886218\ttest: 0.4685897\tbest: 0.4685897 (3)\ttotal: 4.09s\tremaining: 11.2s\n",
      "4:\tlearn: 0.4972756\ttest: 0.4698718\tbest: 0.4698718 (4)\ttotal: 5.13s\tremaining: 10.3s\n",
      "5:\tlearn: 0.5040064\ttest: 0.4762821\tbest: 0.4762821 (5)\ttotal: 6.17s\tremaining: 9.25s\n",
      "6:\tlearn: 0.5054487\ttest: 0.4762821\tbest: 0.4762821 (5)\ttotal: 7.3s\tremaining: 8.34s\n",
      "7:\tlearn: 0.5068910\ttest: 0.4807692\tbest: 0.4807692 (7)\ttotal: 8.42s\tremaining: 7.36s\n",
      "8:\tlearn: 0.5134615\ttest: 0.4788462\tbest: 0.4807692 (7)\ttotal: 9.48s\tremaining: 6.32s\n",
      "9:\tlearn: 0.5173077\ttest: 0.4730769\tbest: 0.4807692 (7)\ttotal: 10.7s\tremaining: 5.36s\n",
      "10:\tlearn: 0.5213141\ttest: 0.4762821\tbest: 0.4807692 (7)\ttotal: 11.9s\tremaining: 4.34s\n",
      "11:\tlearn: 0.5241987\ttest: 0.4820513\tbest: 0.4820513 (11)\ttotal: 13.2s\tremaining: 3.3s\n",
      "12:\tlearn: 0.5262821\ttest: 0.4826923\tbest: 0.4826923 (12)\ttotal: 14.5s\tremaining: 2.24s\n",
      "13:\tlearn: 0.5274038\ttest: 0.4852564\tbest: 0.4852564 (13)\ttotal: 15.7s\tremaining: 1.12s\n",
      "14:\tlearn: 0.5296474\ttest: 0.4801282\tbest: 0.4852564 (13)\ttotal: 17s\tremaining: 0us\n",
      "\n",
      "bestTest = 0.4852564103\n",
      "bestIteration = 13\n",
      "\n",
      "Shrink model to first 14 iterations.\n",
      "class =  (1560, 1)\n"
     ]
    }
   ],
   "source": [
    "cb_train = Pool(X_train, label=y_train_midas)\n",
    "cb_eval = Pool(X_test, label=y_test_midas)\n",
    "\n",
    "model_params = {\n",
    "    'task_type': 'CPU',\n",
    "    'iterations': 15,\n",
    "    'verbose': True,\n",
    "    'loss_function': 'MultiClass',\n",
    "    'eval_metric': 'Accuracy',\n",
    "    'use_best_model': True,\n",
    "    # 'class_weights': class_weights\n",
    "}\n",
    "\n",
    "fit_params = {\n",
    "    'use_best_model': True,\n",
    "    'early_stopping_rounds': 5,\n",
    "    'eval_set': cb_eval, \n",
    "}\n",
    "\n",
    "model = CatBoostClassifier(**model_params)\n",
    "model.fit(cb_train, **fit_params)\n",
    "\n",
    "cb_pred = model.predict(cb_eval)\n",
    "print(\"class = \", cb_pred.shape)"
   ]
  },
  {
   "cell_type": "code",
   "execution_count": 104,
   "id": "2c1d06cf-5039-43d4-8748-ec5940f574d8",
   "metadata": {},
   "outputs": [
    {
     "name": "stdout",
     "output_type": "stream",
     "text": [
      "class =  (1560, 1)\n"
     ]
    }
   ],
   "source": [
    "cb_pred = model.predict(cb_eval)\n",
    "print(\"class = \", cb_pred.shape)"
   ]
  },
  {
   "cell_type": "code",
   "execution_count": 105,
   "id": "d46c5d06-3b26-4646-819a-937a91e112ff",
   "metadata": {},
   "outputs": [
    {
     "data": {
      "text/plain": [
       "Counter({8: 1124, 11: 428, 10: 1, 12: 5, 2: 2})"
      ]
     },
     "execution_count": 105,
     "metadata": {},
     "output_type": "execute_result"
    }
   ],
   "source": [
    "Counter(cb_pred.squeeze())"
   ]
  },
  {
   "cell_type": "code",
   "execution_count": 106,
   "id": "2bd26c7e-7d1e-4ff4-b185-c2d7adaa00c4",
   "metadata": {},
   "outputs": [
    {
     "data": {
      "text/plain": [
       "0.48525641025641025"
      ]
     },
     "execution_count": 106,
     "metadata": {},
     "output_type": "execute_result"
    }
   ],
   "source": [
    "accuracy_score(y_test_midas, cb_pred.squeeze())"
   ]
  },
  {
   "cell_type": "code",
   "execution_count": 107,
   "id": "3ce2704b-850e-428a-aaea-8ee0c8395dd4",
   "metadata": {},
   "outputs": [
    {
     "data": {
      "text/plain": [
       "0.48525641025641025"
      ]
     },
     "execution_count": 107,
     "metadata": {},
     "output_type": "execute_result"
    }
   ],
   "source": [
    "model.score(cb_eval)"
   ]
  },
  {
   "cell_type": "code",
   "execution_count": 108,
   "id": "41f8937c-1df8-4871-a2ea-ac27b8666e86",
   "metadata": {},
   "outputs": [
    {
     "data": {
      "text/plain": [
       "0.4194700797177774"
      ]
     },
     "execution_count": 108,
     "metadata": {},
     "output_type": "execute_result"
    }
   ],
   "source": [
    "f1_score(y_test_midas, cb_pred.squeeze(), average='weighted')"
   ]
  },
  {
   "cell_type": "markdown",
   "id": "32c39151-826d-4964-b7a7-a72a59c1522f",
   "metadata": {
    "tags": []
   },
   "source": [
    "#### LogReg"
   ]
  },
  {
   "cell_type": "code",
   "execution_count": 109,
   "id": "424fff0e-08ec-444e-8113-39db5d0d599d",
   "metadata": {
    "tags": []
   },
   "outputs": [
    {
     "data": {
      "text/plain": [
       "LogisticRegression(max_iter=500, random_state=42)"
      ]
     },
     "execution_count": 109,
     "metadata": {},
     "output_type": "execute_result"
    }
   ],
   "source": [
    "lg = LogisticRegression(random_state=42, max_iter=500)\n",
    "lg.fit(X_train, y_train_midas)"
   ]
  },
  {
   "cell_type": "code",
   "execution_count": 110,
   "id": "d75fb366-24d6-4d09-8da6-dda4c3846f06",
   "metadata": {},
   "outputs": [],
   "source": [
    "logreg_pred = lg.predict(X_test)"
   ]
  },
  {
   "cell_type": "code",
   "execution_count": 111,
   "id": "fb96deaa-b76b-41cf-97ec-f9e065a0d982",
   "metadata": {},
   "outputs": [
    {
     "data": {
      "text/plain": [
       "Counter({11: 614, 8: 871, 12: 42, 2: 25, 1: 1, 10: 6, 6: 1})"
      ]
     },
     "execution_count": 111,
     "metadata": {},
     "output_type": "execute_result"
    }
   ],
   "source": [
    "Counter(logreg_pred)"
   ]
  },
  {
   "cell_type": "code",
   "execution_count": 112,
   "id": "7ee04e99-4107-4aad-a038-00852666e243",
   "metadata": {},
   "outputs": [
    {
     "data": {
      "text/plain": [
       "0.4512820512820513"
      ]
     },
     "execution_count": 112,
     "metadata": {},
     "output_type": "execute_result"
    }
   ],
   "source": [
    "accuracy_score(y_test_midas, logreg_pred)"
   ]
  },
  {
   "cell_type": "code",
   "execution_count": 113,
   "id": "9a90323b-8711-4f90-b3e9-5d7816739aa2",
   "metadata": {},
   "outputs": [
    {
     "data": {
      "text/plain": [
       "0.4146449010196535"
      ]
     },
     "execution_count": 113,
     "metadata": {},
     "output_type": "execute_result"
    }
   ],
   "source": [
    "f1_score(y_test_midas, logreg_pred, average='weighted')"
   ]
  },
  {
   "cell_type": "markdown",
   "id": "575275f6-1c11-4d58-a119-6d63625540a3",
   "metadata": {},
   "source": [
    "#### RandomForest"
   ]
  },
  {
   "cell_type": "code",
   "execution_count": 114,
   "id": "c837e0bd-e495-4c98-af65-d07a4aeb3684",
   "metadata": {},
   "outputs": [],
   "source": [
    "rf = RandomForestClassifier(max_depth=10, random_state=42)"
   ]
  },
  {
   "cell_type": "code",
   "execution_count": 115,
   "id": "c8ea80d4-d04b-49fa-80a1-8ce5a017f7ff",
   "metadata": {},
   "outputs": [
    {
     "data": {
      "text/plain": [
       "RandomForestClassifier(max_depth=10, random_state=42)"
      ]
     },
     "execution_count": 115,
     "metadata": {},
     "output_type": "execute_result"
    }
   ],
   "source": [
    "rf.fit(X_train, y_train_midas)"
   ]
  },
  {
   "cell_type": "code",
   "execution_count": 116,
   "id": "54638db9-6b74-49d2-9703-f741ee59179d",
   "metadata": {},
   "outputs": [],
   "source": [
    "rf_preds = rf.predict(X_test)"
   ]
  },
  {
   "cell_type": "code",
   "execution_count": 117,
   "id": "08f58ea0-7b93-4ed8-b96b-da7999c3cfd0",
   "metadata": {
    "tags": []
   },
   "outputs": [
    {
     "data": {
      "text/plain": [
       "Counter({8: 1207, 11: 353})"
      ]
     },
     "execution_count": 117,
     "metadata": {},
     "output_type": "execute_result"
    }
   ],
   "source": [
    "Counter(rf_preds)"
   ]
  },
  {
   "cell_type": "code",
   "execution_count": 118,
   "id": "93b456c2-6e5f-4e2d-b94c-7b40d10c2462",
   "metadata": {},
   "outputs": [
    {
     "data": {
      "text/plain": [
       "0.49166666666666664"
      ]
     },
     "execution_count": 118,
     "metadata": {},
     "output_type": "execute_result"
    }
   ],
   "source": [
    "accuracy_score(y_test_midas, rf_preds)"
   ]
  },
  {
   "cell_type": "code",
   "execution_count": 119,
   "id": "d2444481-06ec-46b9-be35-7c33de355682",
   "metadata": {},
   "outputs": [
    {
     "data": {
      "text/plain": [
       "0.4144003559248664"
      ]
     },
     "execution_count": 119,
     "metadata": {},
     "output_type": "execute_result"
    }
   ],
   "source": [
    "f1_score(y_test_midas, rf_preds, average='weighted')"
   ]
  },
  {
   "cell_type": "markdown",
   "id": "955b07fc-d67f-41e1-ae1f-193e45670e51",
   "metadata": {
    "tags": []
   },
   "source": [
    "### Entity"
   ]
  },
  {
   "cell_type": "code",
   "execution_count": 121,
   "id": "e46b1225-7af9-4e12-bacb-5193d040b0f5",
   "metadata": {},
   "outputs": [
    {
     "data": {
      "text/plain": [
       "array([2.61585945e-01, 1.99430199e-02, 1.39767331e-01, 6.96343780e-02,\n",
       "       2.74216524e-02, 1.04202279e-01, 6.88034188e-02, 5.84995252e-02,\n",
       "       1.32953466e-02, 1.99430199e-02, 1.87796771e-02, 6.91358025e-02,\n",
       "       1.09686610e-02, 5.05223172e-02, 6.64767331e-03, 1.91120608e-02,\n",
       "       1.86134853e-02, 4.65337132e-03, 1.81149098e-02, 2.16049383e-03,\n",
       "       3.32383666e-03, 1.66191833e-04, 6.81386515e-03, 1.91120608e-02,\n",
       "       4.98575499e-04, 3.49002849e-03, 3.32383666e-04, 1.49572650e-03])"
      ]
     },
     "execution_count": 121,
     "metadata": {},
     "output_type": "execute_result"
    }
   ],
   "source": [
    "n_bins = len(labels_map['target_entity2id'])\n",
    "class_weights, _ = np.histogram(y_train_entity, bins=n_bins, density=True)\n",
    "class_weights"
   ]
  },
  {
   "cell_type": "markdown",
   "id": "bc74a98f-f14c-4f1b-a560-b8ebfc06d046",
   "metadata": {},
   "source": [
    "#### Catboost"
   ]
  },
  {
   "cell_type": "code",
   "execution_count": 124,
   "id": "5b0fa747-0d95-4534-93ec-128285b61a39",
   "metadata": {},
   "outputs": [
    {
     "name": "stdout",
     "output_type": "stream",
     "text": [
      "Learning rate set to 0.5\n",
      "0:\tlearn: 0.2541667\ttest: 0.2698718\tbest: 0.2698718 (0)\ttotal: 2.36s\tremaining: 33s\n",
      "1:\tlearn: 0.1535256\ttest: 0.1416667\tbest: 0.2698718 (0)\ttotal: 4.72s\tremaining: 30.7s\n",
      "2:\tlearn: 0.2591346\ttest: 0.2634615\tbest: 0.2698718 (0)\ttotal: 7.08s\tremaining: 28.3s\n",
      "3:\tlearn: 0.2860577\ttest: 0.3012821\tbest: 0.3012821 (3)\ttotal: 9.49s\tremaining: 26.1s\n",
      "4:\tlearn: 0.3064103\ttest: 0.3038462\tbest: 0.3038462 (4)\ttotal: 12s\tremaining: 24s\n",
      "5:\tlearn: 0.3142628\ttest: 0.3038462\tbest: 0.3038462 (4)\ttotal: 14.8s\tremaining: 22.2s\n",
      "6:\tlearn: 0.3379808\ttest: 0.3326923\tbest: 0.3326923 (6)\ttotal: 17.5s\tremaining: 20s\n",
      "7:\tlearn: 0.3415064\ttest: 0.3352564\tbest: 0.3352564 (7)\ttotal: 20.2s\tremaining: 17.7s\n",
      "8:\tlearn: 0.3461538\ttest: 0.3352564\tbest: 0.3352564 (7)\ttotal: 22.9s\tremaining: 15.3s\n",
      "9:\tlearn: 0.3504808\ttest: 0.3384615\tbest: 0.3384615 (9)\ttotal: 25.7s\tremaining: 12.8s\n",
      "10:\tlearn: 0.3540064\ttest: 0.3391026\tbest: 0.3391026 (10)\ttotal: 28.4s\tremaining: 10.3s\n",
      "11:\tlearn: 0.3584936\ttest: 0.3416667\tbest: 0.3416667 (11)\ttotal: 31.2s\tremaining: 7.79s\n",
      "12:\tlearn: 0.3655449\ttest: 0.3416667\tbest: 0.3416667 (11)\ttotal: 34s\tremaining: 5.23s\n",
      "13:\tlearn: 0.3679487\ttest: 0.3461538\tbest: 0.3461538 (13)\ttotal: 36.7s\tremaining: 2.62s\n",
      "14:\tlearn: 0.3719551\ttest: 0.3455128\tbest: 0.3461538 (13)\ttotal: 39.4s\tremaining: 0us\n",
      "\n",
      "bestTest = 0.3461538462\n",
      "bestIteration = 13\n",
      "\n",
      "Shrink model to first 14 iterations.\n",
      "class =  (1560, 1)\n"
     ]
    }
   ],
   "source": [
    "cb_train = Pool(X_train, label=y_train_entity)\n",
    "cb_eval = Pool(X_test, label=y_test_entity)\n",
    "\n",
    "model_params = {\n",
    "    'task_type': 'CPU',\n",
    "    'iterations': 15,\n",
    "    'verbose': True,\n",
    "    'loss_function': 'MultiClass',\n",
    "    'eval_metric': 'Accuracy',\n",
    "    'use_best_model': True,\n",
    "    # 'class_weights': class_weights\n",
    "}\n",
    "\n",
    "fit_params = {\n",
    "    'use_best_model': True,\n",
    "    'early_stopping_rounds': 5,\n",
    "    'eval_set': cb_eval, \n",
    "}\n",
    "\n",
    "model = CatBoostClassifier(**model_params)\n",
    "model.fit(cb_train, **fit_params)\n",
    "\n",
    "cb_pred = model.predict(cb_eval)\n",
    "print(\"class = \", cb_pred.shape)"
   ]
  },
  {
   "cell_type": "code",
   "execution_count": 125,
   "id": "ce329a87-3544-4de3-8b4f-a950bae7dced",
   "metadata": {},
   "outputs": [
    {
     "name": "stdout",
     "output_type": "stream",
     "text": [
      "class =  (1560, 1)\n"
     ]
    }
   ],
   "source": [
    "cb_pred = model.predict(cb_eval)\n",
    "print(\"class = \", cb_pred.shape)"
   ]
  },
  {
   "cell_type": "code",
   "execution_count": 126,
   "id": "22f6d020-5820-4f60-ad0d-fbf65b6820c7",
   "metadata": {},
   "outputs": [
    {
     "data": {
      "text/plain": [
       "Counter({0: 744,\n",
       "         11: 98,\n",
       "         2: 269,\n",
       "         7: 73,\n",
       "         3: 64,\n",
       "         6: 31,\n",
       "         12: 11,\n",
       "         5: 168,\n",
       "         23: 8,\n",
       "         13: 64,\n",
       "         1: 18,\n",
       "         18: 10,\n",
       "         4: 2})"
      ]
     },
     "execution_count": 126,
     "metadata": {},
     "output_type": "execute_result"
    }
   ],
   "source": [
    "Counter(cb_pred.squeeze())"
   ]
  },
  {
   "cell_type": "code",
   "execution_count": 127,
   "id": "c212dd63-3e76-491e-b297-6ec141636bbf",
   "metadata": {},
   "outputs": [
    {
     "data": {
      "text/plain": [
       "0.34615384615384615"
      ]
     },
     "execution_count": 127,
     "metadata": {},
     "output_type": "execute_result"
    }
   ],
   "source": [
    "accuracy_score(y_test_entity, cb_pred.squeeze())"
   ]
  },
  {
   "cell_type": "code",
   "execution_count": 128,
   "id": "47b82eff-1123-4855-a193-c7527cb1b400",
   "metadata": {},
   "outputs": [
    {
     "data": {
      "text/plain": [
       "0.34615384615384615"
      ]
     },
     "execution_count": 128,
     "metadata": {},
     "output_type": "execute_result"
    }
   ],
   "source": [
    "model.score(cb_eval)"
   ]
  },
  {
   "cell_type": "code",
   "execution_count": 129,
   "id": "12f849c7-a309-4433-810e-039d855e8aba",
   "metadata": {},
   "outputs": [
    {
     "data": {
      "text/plain": [
       "0.2964713469004042"
      ]
     },
     "execution_count": 129,
     "metadata": {},
     "output_type": "execute_result"
    }
   ],
   "source": [
    "f1_score(y_test_entity, cb_pred.squeeze(), average='weighted')"
   ]
  },
  {
   "cell_type": "markdown",
   "id": "159c64f1-92bb-4ae7-ba7c-a03070bb3117",
   "metadata": {},
   "source": [
    "#### LogReg"
   ]
  },
  {
   "cell_type": "code",
   "execution_count": 130,
   "id": "cd58c9e7-c116-4595-bf55-c7285e39a1ae",
   "metadata": {
    "tags": []
   },
   "outputs": [
    {
     "data": {
      "text/plain": [
       "LogisticRegression(max_iter=500, random_state=42)"
      ]
     },
     "execution_count": 130,
     "metadata": {},
     "output_type": "execute_result"
    }
   ],
   "source": [
    "lg = LogisticRegression(random_state=42, max_iter=500)\n",
    "lg.fit(X_train, y_train_entity)"
   ]
  },
  {
   "cell_type": "code",
   "execution_count": 131,
   "id": "56ed0e29-0909-4cc1-ab2c-de4dbf18867d",
   "metadata": {},
   "outputs": [],
   "source": [
    "logreg_pred = lg.predict(X_test)"
   ]
  },
  {
   "cell_type": "code",
   "execution_count": 132,
   "id": "70fe593b-3b98-4cdc-b8ed-056d618aae87",
   "metadata": {},
   "outputs": [
    {
     "data": {
      "text/plain": [
       "Counter({18: 11,\n",
       "         16: 20,\n",
       "         2: 234,\n",
       "         0: 605,\n",
       "         5: 183,\n",
       "         10: 10,\n",
       "         12: 16,\n",
       "         11: 100,\n",
       "         4: 35,\n",
       "         3: 77,\n",
       "         7: 78,\n",
       "         6: 75,\n",
       "         15: 11,\n",
       "         13: 63,\n",
       "         20: 1,\n",
       "         1: 17,\n",
       "         8: 5,\n",
       "         9: 5,\n",
       "         23: 9,\n",
       "         22: 5})"
      ]
     },
     "execution_count": 132,
     "metadata": {},
     "output_type": "execute_result"
    }
   ],
   "source": [
    "Counter(logreg_pred)"
   ]
  },
  {
   "cell_type": "code",
   "execution_count": 133,
   "id": "e80f40ec-a02b-4b52-9d22-4ce88f6804cb",
   "metadata": {},
   "outputs": [
    {
     "data": {
      "text/plain": [
       "0.3641025641025641"
      ]
     },
     "execution_count": 133,
     "metadata": {},
     "output_type": "execute_result"
    }
   ],
   "source": [
    "accuracy_score(y_test_entity, logreg_pred)"
   ]
  },
  {
   "cell_type": "code",
   "execution_count": 134,
   "id": "2767f74a-c37e-4909-bdd5-66faeec7ced2",
   "metadata": {},
   "outputs": [
    {
     "data": {
      "text/plain": [
       "0.33884176833264446"
      ]
     },
     "execution_count": 134,
     "metadata": {},
     "output_type": "execute_result"
    }
   ],
   "source": [
    "f1_score(y_test_entity, logreg_pred, average='weighted')"
   ]
  },
  {
   "cell_type": "markdown",
   "id": "3ec2ecd2-34e2-4e5c-af6f-f5f24cf68e6e",
   "metadata": {},
   "source": [
    "#### RandomForest"
   ]
  },
  {
   "cell_type": "code",
   "execution_count": 135,
   "id": "540761fe-7bad-41cf-a95a-a60f1fa13215",
   "metadata": {},
   "outputs": [],
   "source": [
    "rf = RandomForestClassifier(max_depth=10, random_state=42)"
   ]
  },
  {
   "cell_type": "code",
   "execution_count": 136,
   "id": "d721bcd5-44fe-43ad-9955-b27393bcb0d4",
   "metadata": {},
   "outputs": [
    {
     "data": {
      "text/plain": [
       "RandomForestClassifier(max_depth=10, random_state=42)"
      ]
     },
     "execution_count": 136,
     "metadata": {},
     "output_type": "execute_result"
    }
   ],
   "source": [
    "rf.fit(X_train, y_train_entity)"
   ]
  },
  {
   "cell_type": "code",
   "execution_count": 137,
   "id": "caa6b353-4a5d-49c9-bdc7-c5f5416bdd9d",
   "metadata": {},
   "outputs": [],
   "source": [
    "rf_preds = rf.predict(X_test)"
   ]
  },
  {
   "cell_type": "code",
   "execution_count": 138,
   "id": "eb1927cc-cf6c-4443-9b86-982594ef988e",
   "metadata": {
    "tags": []
   },
   "outputs": [
    {
     "data": {
      "text/plain": [
       "Counter({0: 1349, 2: 113, 7: 20, 5: 38, 13: 36, 18: 2, 11: 2})"
      ]
     },
     "execution_count": 138,
     "metadata": {},
     "output_type": "execute_result"
    }
   ],
   "source": [
    "Counter(rf_preds)"
   ]
  },
  {
   "cell_type": "code",
   "execution_count": 139,
   "id": "230cc224-66de-4c82-97fa-58a49c3f0f78",
   "metadata": {},
   "outputs": [
    {
     "data": {
      "text/plain": [
       "0.3192307692307692"
      ]
     },
     "execution_count": 139,
     "metadata": {},
     "output_type": "execute_result"
    }
   ],
   "source": [
    "accuracy_score(y_test_entity, rf_preds)"
   ]
  },
  {
   "cell_type": "code",
   "execution_count": 140,
   "id": "1586ce3a-5d43-4d4f-96a0-e5d0905bc657",
   "metadata": {},
   "outputs": [
    {
     "data": {
      "text/plain": [
       "0.2079391210083521"
      ]
     },
     "execution_count": 140,
     "metadata": {},
     "output_type": "execute_result"
    }
   ],
   "source": [
    "f1_score(y_test_entity, rf_preds, average='weighted')"
   ]
  },
  {
   "cell_type": "markdown",
   "id": "88981ee9-4c23-40db-a8fc-dd862036988d",
   "metadata": {
    "tags": []
   },
   "source": [
    "### Concatenation"
   ]
  },
  {
   "cell_type": "code",
   "execution_count": 141,
   "id": "5a11749e-3e85-496e-83e8-96a39a075c7f",
   "metadata": {},
   "outputs": [
    {
     "data": {
      "text/plain": [
       "array([0.0003214 , 0.        , 0.        , 0.0001607 , 0.        ,\n",
       "       0.0001607 , 0.        , 0.        , 0.        , 0.        ,\n",
       "       0.        , 0.        , 0.        , 0.        , 0.        ,\n",
       "       0.        , 0.        , 0.        , 0.        , 0.        ,\n",
       "       0.        , 0.        , 0.        , 0.        , 0.        ,\n",
       "       0.        , 0.        , 0.        , 0.00482094, 0.00064279,\n",
       "       0.0003214 , 0.00144628, 0.0003214 , 0.00080349, 0.00144628,\n",
       "       0.00305326, 0.        , 0.00224977, 0.0003214 , 0.00112489,\n",
       "       0.0001607 , 0.00096419, 0.        , 0.        , 0.        ,\n",
       "       0.        , 0.        , 0.        , 0.        , 0.        ,\n",
       "       0.        , 0.0001607 , 0.        , 0.0001607 , 0.        ,\n",
       "       0.        , 0.01060606, 0.00096419, 0.00530303, 0.00176768,\n",
       "       0.00385675, 0.00883838, 0.00401745, 0.0078742 , 0.0001607 ,\n",
       "       0.00128558, 0.00192837, 0.00128558, 0.        , 0.00112489,\n",
       "       0.0003214 , 0.00208907, 0.0003214 , 0.0001607 , 0.0001607 ,\n",
       "       0.0001607 , 0.0001607 , 0.        , 0.0003214 , 0.00064279,\n",
       "       0.        , 0.0001607 , 0.        , 0.        , 0.00080349,\n",
       "       0.0001607 , 0.0003214 , 0.        , 0.        , 0.        ,\n",
       "       0.        , 0.        , 0.        , 0.        , 0.        ,\n",
       "       0.        , 0.        , 0.        , 0.        , 0.0001607 ,\n",
       "       0.        , 0.        , 0.        , 0.        , 0.        ,\n",
       "       0.        , 0.0001607 , 0.        , 0.        , 0.        ,\n",
       "       0.        , 0.        , 0.00096419, 0.0001607 , 0.        ,\n",
       "       0.        , 0.        , 0.        , 0.        , 0.        ,\n",
       "       0.        , 0.        , 0.        , 0.        , 0.        ,\n",
       "       0.0001607 , 0.        , 0.        , 0.        , 0.        ,\n",
       "       0.        , 0.        , 0.        , 0.        , 0.        ,\n",
       "       0.        , 0.        , 0.        , 0.        , 0.        ,\n",
       "       0.00160698, 0.        , 0.00160698, 0.00112489, 0.0003214 ,\n",
       "       0.0003214 , 0.0003214 , 0.0001607 , 0.0001607 , 0.0001607 ,\n",
       "       0.        , 0.        , 0.0001607 , 0.00064279, 0.        ,\n",
       "       0.0003214 , 0.0001607 , 0.        , 0.0003214 , 0.        ,\n",
       "       0.        , 0.        , 0.        , 0.        , 0.        ,\n",
       "       0.        , 0.        , 0.        , 0.00433884, 0.0003214 ,\n",
       "       0.00289256, 0.0003214 , 0.00048209, 0.00048209, 0.00064279,\n",
       "       0.00176768, 0.00048209, 0.0003214 , 0.00064279, 0.0003214 ,\n",
       "       0.0001607 , 0.0003214 , 0.0001607 , 0.        , 0.0003214 ,\n",
       "       0.0001607 , 0.        , 0.        , 0.0001607 , 0.        ,\n",
       "       0.        , 0.00064279, 0.        , 0.        , 0.        ,\n",
       "       0.        , 0.00192837, 0.0003214 , 0.00064279, 0.0003214 ,\n",
       "       0.0003214 , 0.00048209, 0.00096419, 0.00128558, 0.        ,\n",
       "       0.0003214 , 0.0003214 , 0.00096419, 0.        , 0.00096419,\n",
       "       0.        , 0.0001607 , 0.0003214 , 0.0001607 , 0.0001607 ,\n",
       "       0.        , 0.        , 0.        , 0.        , 0.00064279,\n",
       "       0.        , 0.        , 0.        , 0.        , 0.09513315,\n",
       "       0.01108815, 0.05190542, 0.02715794, 0.01189164, 0.0535124 ,\n",
       "       0.03278237, 0.02137282, 0.00546373, 0.01044536, 0.0078742 ,\n",
       "       0.03085399, 0.00691001, 0.02458678, 0.00273186, 0.00996327,\n",
       "       0.01124885, 0.00241047, 0.00594582, 0.00048209, 0.00128558,\n",
       "       0.        , 0.00337466, 0.00835629, 0.0001607 , 0.00080349,\n",
       "       0.0003214 , 0.00064279, 0.0001607 , 0.        , 0.        ,\n",
       "       0.        , 0.        , 0.        , 0.        , 0.        ,\n",
       "       0.        , 0.        , 0.        , 0.        , 0.        ,\n",
       "       0.        , 0.        , 0.        , 0.        , 0.        ,\n",
       "       0.        , 0.        , 0.        , 0.        , 0.        ,\n",
       "       0.0003214 , 0.        , 0.        , 0.        , 0.        ,\n",
       "       0.00546373, 0.00048209, 0.00048209, 0.00192837, 0.0003214 ,\n",
       "       0.00144628, 0.00096419, 0.00128558, 0.        , 0.0001607 ,\n",
       "       0.0001607 , 0.0001607 , 0.        , 0.00353535, 0.        ,\n",
       "       0.00064279, 0.00128558, 0.        , 0.00048209, 0.        ,\n",
       "       0.        , 0.        , 0.0003214 , 0.0001607 , 0.        ,\n",
       "       0.        , 0.        , 0.        , 0.10445363, 0.00449954,\n",
       "       0.06443985, 0.02812213, 0.00674931, 0.02988981, 0.0228191 ,\n",
       "       0.01799816, 0.00594582, 0.00305326, 0.00642792, 0.02506887,\n",
       "       0.00305326, 0.01044536, 0.00289256, 0.00466024, 0.00369605,\n",
       "       0.00112489, 0.00835629, 0.00128558, 0.00160698, 0.0001607 ,\n",
       "       0.00192837, 0.00658861, 0.0001607 , 0.00192837, 0.        ,\n",
       "       0.00048209, 0.02233701, 0.00064279, 0.0072314 , 0.00498163,\n",
       "       0.00224977, 0.00482094, 0.00257117, 0.00176768, 0.00064279,\n",
       "       0.00128558, 0.00048209, 0.00707071, 0.0001607 , 0.00610652,\n",
       "       0.0003214 , 0.00048209, 0.00064279, 0.00048209, 0.00208907,\n",
       "       0.0001607 , 0.        , 0.        , 0.00048209, 0.00096419,\n",
       "       0.0001607 , 0.0003214 , 0.        , 0.0003214 ])"
      ]
     },
     "execution_count": 141,
     "metadata": {},
     "output_type": "execute_result"
    }
   ],
   "source": [
    "n_bins = len(labels_map['target_midas_and_entity2id'])\n",
    "class_weights, _ = np.histogram(y_train_concat, bins=n_bins, density=True)\n",
    "class_weights"
   ]
  },
  {
   "cell_type": "markdown",
   "id": "a4c0542f-20e1-4e3a-b26a-1b63490f8747",
   "metadata": {},
   "source": [
    "#### Catboost"
   ]
  },
  {
   "cell_type": "code",
   "execution_count": 143,
   "id": "507278dd-11cd-4d4b-a7d8-f8354646e71f",
   "metadata": {},
   "outputs": [
    {
     "name": "stderr",
     "output_type": "stream",
     "text": [
      "Custom logger is already specified. Specify more than one logger at same time is not thread safe."
     ]
    },
    {
     "name": "stdout",
     "output_type": "stream",
     "text": [
      "Learning rate set to 0.5\n",
      "0:\tlearn: 0.1174679\ttotal: 18.9s\tremaining: 4m 25s\n",
      "1:\tlearn: 0.0673077\ttotal: 40.7s\tremaining: 4m 24s\n",
      "2:\tlearn: 0.1102564\ttotal: 1m\tremaining: 4m 1s\n",
      "3:\tlearn: 0.1081731\ttotal: 1m 20s\tremaining: 3m 42s\n",
      "4:\tlearn: 0.0883013\ttotal: 1m 40s\tremaining: 3m 21s\n",
      "5:\tlearn: 0.0943910\ttotal: 2m\tremaining: 3m 1s\n",
      "6:\tlearn: 0.1211538\ttotal: 2m 21s\tremaining: 2m 42s\n",
      "7:\tlearn: 0.1350962\ttotal: 2m 47s\tremaining: 2m 26s\n",
      "8:\tlearn: 0.1383013\ttotal: 3m 14s\tremaining: 2m 9s\n",
      "9:\tlearn: 0.1469551\ttotal: 3m 38s\tremaining: 1m 49s\n",
      "10:\tlearn: 0.1559295\ttotal: 3m 59s\tremaining: 1m 26s\n",
      "11:\tlearn: 0.1636218\ttotal: 4m 19s\tremaining: 1m 4s\n",
      "12:\tlearn: 0.1669872\ttotal: 4m 40s\tremaining: 43.2s\n",
      "13:\tlearn: 0.1737179\ttotal: 5m 1s\tremaining: 21.6s\n",
      "14:\tlearn: 0.1820513\ttotal: 5m 26s\tremaining: 0us\n",
      "class =  (1560, 1)\n"
     ]
    }
   ],
   "source": [
    "cb_train = Pool(X_train, label=y_train_concat)\n",
    "cb_eval = Pool(X_test, label=y_test_concat)\n",
    "\n",
    "model_params = {\n",
    "    'task_type': 'CPU',\n",
    "    'iterations': 15,\n",
    "    'verbose': True,\n",
    "    'loss_function': 'MultiClass',\n",
    "    'eval_metric': 'Accuracy',\n",
    "    # 'use_best_model': True,\n",
    "    # 'class_weights': class_weights\n",
    "}\n",
    "\n",
    "fit_params = {\n",
    "    # 'use_best_model': True,\n",
    "    'early_stopping_rounds': 5,\n",
    "    # 'eval_set': cb_eval, \n",
    "}\n",
    "\n",
    "model = CatBoostClassifier(**model_params)\n",
    "model.fit(cb_train, **fit_params)\n",
    "\n",
    "cb_pred = model.predict(cb_eval)\n",
    "print(\"class = \", cb_pred.shape)"
   ]
  },
  {
   "cell_type": "code",
   "execution_count": 144,
   "id": "30a14184-4917-47e0-9291-0011e3c07ec3",
   "metadata": {},
   "outputs": [
    {
     "name": "stdout",
     "output_type": "stream",
     "text": [
      "class =  (1560, 1)\n"
     ]
    }
   ],
   "source": [
    "cb_pred = model.predict(cb_eval)\n",
    "print(\"class = \", cb_pred.shape)"
   ]
  },
  {
   "cell_type": "code",
   "execution_count": 145,
   "id": "6b015df6-7a91-49df-91e3-f8707acf8909",
   "metadata": {},
   "outputs": [
    {
     "data": {
      "text/plain": [
       "Counter({229: 202,\n",
       "         63: 5,\n",
       "         226: 107,\n",
       "         230: 21,\n",
       "         224: 265,\n",
       "         313: 91,\n",
       "         308: 338,\n",
       "         235: 90,\n",
       "         310: 175,\n",
       "         227: 34,\n",
       "         56: 9,\n",
       "         240: 7,\n",
       "         311: 21,\n",
       "         228: 3,\n",
       "         336: 24,\n",
       "         319: 25,\n",
       "         349: 2,\n",
       "         280: 10,\n",
       "         326: 8,\n",
       "         233: 2,\n",
       "         236: 7,\n",
       "         237: 53,\n",
       "         239: 2,\n",
       "         309: 1,\n",
       "         338: 7,\n",
       "         170: 1,\n",
       "         247: 12,\n",
       "         314: 15,\n",
       "         293: 2,\n",
       "         321: 1,\n",
       "         225: 5,\n",
       "         339: 3,\n",
       "         61: 4,\n",
       "         331: 2,\n",
       "         318: 1,\n",
       "         312: 3,\n",
       "         315: 2})"
      ]
     },
     "execution_count": 145,
     "metadata": {},
     "output_type": "execute_result"
    }
   ],
   "source": [
    "Counter(cb_pred.squeeze())"
   ]
  },
  {
   "cell_type": "code",
   "execution_count": 146,
   "id": "52c5445e-9b79-414d-84ee-7113a504d350",
   "metadata": {},
   "outputs": [
    {
     "data": {
      "text/plain": [
       "0.12628205128205128"
      ]
     },
     "execution_count": 146,
     "metadata": {},
     "output_type": "execute_result"
    }
   ],
   "source": [
    "accuracy_score(y_test_concat, cb_pred.squeeze())"
   ]
  },
  {
   "cell_type": "code",
   "execution_count": 147,
   "id": "d7457d73-5f1e-4ff1-ae77-229c57c5a49f",
   "metadata": {},
   "outputs": [
    {
     "data": {
      "text/plain": [
       "0.12628205128205128"
      ]
     },
     "execution_count": 147,
     "metadata": {},
     "output_type": "execute_result"
    }
   ],
   "source": [
    "model.score(cb_eval)"
   ]
  },
  {
   "cell_type": "code",
   "execution_count": 148,
   "id": "3bb955c9-39f5-4b91-8960-b3057d6fded6",
   "metadata": {},
   "outputs": [
    {
     "data": {
      "text/plain": [
       "0.09697429010490341"
      ]
     },
     "execution_count": 148,
     "metadata": {},
     "output_type": "execute_result"
    }
   ],
   "source": [
    "f1_score(y_test_concat, cb_pred.squeeze(), average='weighted')"
   ]
  },
  {
   "cell_type": "markdown",
   "id": "432fad13-0999-498b-8def-319125b5545b",
   "metadata": {},
   "source": [
    "#### LogReg"
   ]
  },
  {
   "cell_type": "code",
   "execution_count": 149,
   "id": "cb1c4c72-283f-43d6-aad2-c449495ad0d0",
   "metadata": {
    "tags": []
   },
   "outputs": [
    {
     "data": {
      "text/plain": [
       "LogisticRegression(max_iter=500, random_state=42)"
      ]
     },
     "execution_count": 149,
     "metadata": {},
     "output_type": "execute_result"
    }
   ],
   "source": [
    "lg = LogisticRegression(random_state=42, max_iter=500)\n",
    "lg.fit(X_train, y_train_concat)"
   ]
  },
  {
   "cell_type": "code",
   "execution_count": 150,
   "id": "494ce3d7-92d8-483a-8557-d7042e55f3e4",
   "metadata": {},
   "outputs": [],
   "source": [
    "logreg_pred = lg.predict(X_test)"
   ]
  },
  {
   "cell_type": "code",
   "execution_count": 151,
   "id": "910c9140-19d4-4dfb-acec-c074d672d123",
   "metadata": {},
   "outputs": [
    {
     "data": {
      "text/plain": [
       "Counter({242: 3,\n",
       "         308: 278,\n",
       "         226: 97,\n",
       "         230: 51,\n",
       "         313: 43,\n",
       "         224: 272,\n",
       "         311: 41,\n",
       "         336: 30,\n",
       "         235: 58,\n",
       "         227: 46,\n",
       "         231: 29,\n",
       "         310: 166,\n",
       "         314: 30,\n",
       "         236: 15,\n",
       "         229: 156,\n",
       "         240: 11,\n",
       "         232: 5,\n",
       "         319: 29,\n",
       "         323: 6,\n",
       "         237: 58,\n",
       "         315: 37,\n",
       "         324: 3,\n",
       "         280: 2,\n",
       "         331: 3,\n",
       "         225: 14,\n",
       "         239: 6,\n",
       "         287: 2,\n",
       "         234: 5,\n",
       "         312: 10,\n",
       "         247: 7,\n",
       "         228: 13,\n",
       "         326: 6,\n",
       "         56: 3,\n",
       "         58: 1,\n",
       "         63: 1,\n",
       "         321: 3,\n",
       "         233: 3,\n",
       "         330: 1,\n",
       "         318: 2,\n",
       "         202: 1,\n",
       "         246: 4,\n",
       "         320: 1,\n",
       "         349: 1,\n",
       "         316: 1,\n",
       "         338: 2,\n",
       "         28: 1,\n",
       "         293: 2,\n",
       "         61: 1})"
      ]
     },
     "execution_count": 151,
     "metadata": {},
     "output_type": "execute_result"
    }
   ],
   "source": [
    "Counter(logreg_pred)"
   ]
  },
  {
   "cell_type": "code",
   "execution_count": 152,
   "id": "b8748f11-7b9f-455e-be16-4f8111e4aec7",
   "metadata": {},
   "outputs": [
    {
     "data": {
      "text/plain": [
       "0.16923076923076924"
      ]
     },
     "execution_count": 152,
     "metadata": {},
     "output_type": "execute_result"
    }
   ],
   "source": [
    "accuracy_score(y_test_concat, logreg_pred)"
   ]
  },
  {
   "cell_type": "code",
   "execution_count": 153,
   "id": "57d63b6d-2fa5-45c6-aff1-bb9aaa5070b0",
   "metadata": {},
   "outputs": [
    {
     "data": {
      "text/plain": [
       "0.14168762662600887"
      ]
     },
     "execution_count": 153,
     "metadata": {},
     "output_type": "execute_result"
    }
   ],
   "source": [
    "f1_score(y_test_concat, logreg_pred, average='weighted')"
   ]
  },
  {
   "cell_type": "markdown",
   "id": "ad2c306f-bf9b-4de5-8a3f-7ae46eec9a0c",
   "metadata": {},
   "source": [
    "#### RandomForest"
   ]
  },
  {
   "cell_type": "code",
   "execution_count": 154,
   "id": "dc52f812-cae2-4179-a2e8-ae07f49544a2",
   "metadata": {},
   "outputs": [],
   "source": [
    "rf = RandomForestClassifier(max_depth=10, random_state=42)"
   ]
  },
  {
   "cell_type": "code",
   "execution_count": 155,
   "id": "00c5caad-4e6d-411a-9eb6-4f9de552c50d",
   "metadata": {},
   "outputs": [
    {
     "data": {
      "text/plain": [
       "RandomForestClassifier(max_depth=10, random_state=42)"
      ]
     },
     "execution_count": 155,
     "metadata": {},
     "output_type": "execute_result"
    }
   ],
   "source": [
    "rf.fit(X_train, y_train_concat)"
   ]
  },
  {
   "cell_type": "code",
   "execution_count": 156,
   "id": "0ffe62f0-40c4-415d-b48d-d46dc514f30d",
   "metadata": {},
   "outputs": [],
   "source": [
    "rf_preds = rf.predict(X_test)"
   ]
  },
  {
   "cell_type": "code",
   "execution_count": 157,
   "id": "1e6804b9-68fb-419e-ae0e-d4e01fae5966",
   "metadata": {
    "tags": []
   },
   "outputs": [
    {
     "data": {
      "text/plain": [
       "Counter({308: 706,\n",
       "         226: 31,\n",
       "         224: 481,\n",
       "         310: 126,\n",
       "         229: 128,\n",
       "         237: 67,\n",
       "         315: 7,\n",
       "         311: 3,\n",
       "         287: 2,\n",
       "         247: 2,\n",
       "         231: 2,\n",
       "         319: 2,\n",
       "         314: 1,\n",
       "         235: 1,\n",
       "         236: 1})"
      ]
     },
     "execution_count": 157,
     "metadata": {},
     "output_type": "execute_result"
    }
   ],
   "source": [
    "Counter(rf_preds)"
   ]
  },
  {
   "cell_type": "code",
   "execution_count": 158,
   "id": "c2acfe51-b62f-4fda-98ad-07b35ab7e21e",
   "metadata": {},
   "outputs": [
    {
     "data": {
      "text/plain": [
       "0.16602564102564102"
      ]
     },
     "execution_count": 158,
     "metadata": {},
     "output_type": "execute_result"
    }
   ],
   "source": [
    "accuracy_score(y_test_concat, rf_preds)"
   ]
  },
  {
   "cell_type": "code",
   "execution_count": 159,
   "id": "0e3b51eb-6703-41dd-b88b-8a38aaf441e9",
   "metadata": {},
   "outputs": [
    {
     "data": {
      "text/plain": [
       "0.09939974955657623"
      ]
     },
     "execution_count": 159,
     "metadata": {},
     "output_type": "execute_result"
    }
   ],
   "source": [
    "f1_score(y_test_concat, rf_preds, average='weighted')"
   ]
  },
  {
   "cell_type": "code",
   "execution_count": null,
   "id": "0cb6db48-7c0e-4190-b2bd-0408ee7d9ee0",
   "metadata": {},
   "outputs": [],
   "source": []
  },
  {
   "cell_type": "code",
   "execution_count": null,
   "id": "c59779cb-5720-4535-b256-a3ebdbe86d27",
   "metadata": {},
   "outputs": [],
   "source": []
  }
 ],
 "metadata": {
  "kernelspec": {
   "display_name": "Python 3 (ipykernel)",
   "language": "python",
   "name": "python3"
  },
  "language_info": {
   "codemirror_mode": {
    "name": "ipython",
    "version": 3
   },
   "file_extension": ".py",
   "mimetype": "text/x-python",
   "name": "python",
   "nbconvert_exporter": "python",
   "pygments_lexer": "ipython3",
   "version": "3.8.2"
  }
 },
 "nbformat": 4,
 "nbformat_minor": 5
}
