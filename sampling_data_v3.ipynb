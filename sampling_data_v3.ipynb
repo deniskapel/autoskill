{
 "cells": [
  {
   "cell_type": "code",
   "execution_count": 1,
   "id": "49e34c39-4263-43c8-9b47-1a2f7c33b8d0",
   "metadata": {},
   "outputs": [],
   "source": [
    "import json\n",
    "import re\n",
    "from collections import Counter\n",
    "\n",
    "import pandas as pd"
   ]
  },
  {
   "cell_type": "code",
   "execution_count": 2,
   "id": "e9e4e120-00da-4298-b034-fd7d828f6e0d",
   "metadata": {},
   "outputs": [],
   "source": [
    "with open('data/daily_dataset_v3.json', 'r', encoding=\"utf8\") as f:\n",
    "    daily = json.load(f)\n",
    "    \n",
    "with open('data/topical_dataset_v3.json', 'r', encoding=\"utf8\") as f:\n",
    "    topical = json.load(f)"
   ]
  },
  {
   "cell_type": "code",
   "execution_count": 11,
   "id": "441f9913-7a66-409c-b864-3da1de783543",
   "metadata": {},
   "outputs": [
    {
     "data": {
      "text/plain": [
       "False"
      ]
     },
     "execution_count": 11,
     "metadata": {},
     "output_type": "execute_result"
    }
   ],
   "source": [
    "a = \"AbC\"\n",
    "a.isupper()"
   ]
  },
  {
   "cell_type": "markdown",
   "id": "0ab415e8-853c-48bd-a7f0-b3498f777b20",
   "metadata": {
    "tags": []
   },
   "source": [
    "## Daily"
   ]
  },
  {
   "cell_type": "code",
   "execution_count": 3,
   "id": "14891eda-3dcb-400d-b8ca-63355213801f",
   "metadata": {},
   "outputs": [],
   "source": [
    "target_sents = [sample['predict'] for sample in daily]\n",
    "target_sents = [sample for sample in target_sents if len(sample['entities']) == 1]\n",
    "for sample in target_sents:\n",
    "    sample['entities'] = sample['entities'][0]"
   ]
  },
  {
   "cell_type": "code",
   "execution_count": 4,
   "id": "3ca1d4d7-61f0-4910-9a56-d13fe4d2be35",
   "metadata": {},
   "outputs": [],
   "source": [
    "df = pd.json_normalize(target_sents)"
   ]
  },
  {
   "cell_type": "code",
   "execution_count": 5,
   "id": "4fe05892-0146-402f-abbe-c812d1ad14e8",
   "metadata": {},
   "outputs": [
    {
     "data": {
      "text/html": [
       "<div>\n",
       "<style scoped>\n",
       "    .dataframe tbody tr th:only-of-type {\n",
       "        vertical-align: middle;\n",
       "    }\n",
       "\n",
       "    .dataframe tbody tr th {\n",
       "        vertical-align: top;\n",
       "    }\n",
       "\n",
       "    .dataframe thead th {\n",
       "        text-align: right;\n",
       "    }\n",
       "</style>\n",
       "<table border=\"1\" class=\"dataframe\">\n",
       "  <thead>\n",
       "    <tr style=\"text-align: right;\">\n",
       "      <th></th>\n",
       "      <th>text</th>\n",
       "      <th>midas</th>\n",
       "      <th>entities.label</th>\n",
       "      <th>entities.offsets</th>\n",
       "      <th>entities.text</th>\n",
       "    </tr>\n",
       "  </thead>\n",
       "  <tbody>\n",
       "    <tr>\n",
       "      <th>1</th>\n",
       "      <td>are they from LOCATION?</td>\n",
       "      <td>yes_no_question</td>\n",
       "      <td>location</td>\n",
       "      <td>[14, 20]</td>\n",
       "      <td>taiwan</td>\n",
       "    </tr>\n",
       "    <tr>\n",
       "      <th>9</th>\n",
       "      <td>would you like these PRODUCT delivered or woul...</td>\n",
       "      <td>yes_no_question</td>\n",
       "      <td>product</td>\n",
       "      <td>[21, 29]</td>\n",
       "      <td>supplies</td>\n",
       "    </tr>\n",
       "    <tr>\n",
       "      <th>17</th>\n",
       "      <td>sure, is dry white FOOD ok?</td>\n",
       "      <td>yes_no_question</td>\n",
       "      <td>food</td>\n",
       "      <td>[19, 23]</td>\n",
       "      <td>wine</td>\n",
       "    </tr>\n",
       "    <tr>\n",
       "      <th>51</th>\n",
       "      <td>do you really have all of these PRODUCT?</td>\n",
       "      <td>yes_no_question</td>\n",
       "      <td>product</td>\n",
       "      <td>[32, 37]</td>\n",
       "      <td>drugs</td>\n",
       "    </tr>\n",
       "    <tr>\n",
       "      <th>54</th>\n",
       "      <td>do you ever see the ANIMAL you trained, like o...</td>\n",
       "      <td>yes_no_question</td>\n",
       "      <td>animal</td>\n",
       "      <td>[20, 24]</td>\n",
       "      <td>dogs</td>\n",
       "    </tr>\n",
       "  </tbody>\n",
       "</table>\n",
       "</div>"
      ],
      "text/plain": [
       "                                                 text            midas  \\\n",
       "1                             are they from LOCATION?  yes_no_question   \n",
       "9   would you like these PRODUCT delivered or woul...  yes_no_question   \n",
       "17                        sure, is dry white FOOD ok?  yes_no_question   \n",
       "51           do you really have all of these PRODUCT?  yes_no_question   \n",
       "54  do you ever see the ANIMAL you trained, like o...  yes_no_question   \n",
       "\n",
       "   entities.label entities.offsets entities.text  \n",
       "1        location         [14, 20]        taiwan  \n",
       "9         product         [21, 29]      supplies  \n",
       "17           food         [19, 23]          wine  \n",
       "51        product         [32, 37]         drugs  \n",
       "54         animal         [20, 24]          dogs  "
      ]
     },
     "execution_count": 5,
     "metadata": {},
     "output_type": "execute_result"
    }
   ],
   "source": [
    "df[df.midas == \"yes_no_question\"].head()"
   ]
  },
  {
   "cell_type": "code",
   "execution_count": 60,
   "id": "36eb4898-2fe2-41e9-9b6b-0deaf6ae9fa8",
   "metadata": {},
   "outputs": [
    {
     "data": {
      "text/plain": [
       "midas                \n",
       "statement                4108\n",
       "opinion                  1907\n",
       "yes_no_question          1003\n",
       "open_question_factual    500 \n",
       "command                  430 \n",
       "open_question_opinion    342 \n",
       "comment                  110 \n",
       "complaint                78  \n",
       "neg_answer               67  \n",
       "dev_command              61  \n",
       "pos_answer               60  \n",
       "appreciation             1   \n",
       "other_answers            1   \n",
       "dtype: int64"
      ]
     },
     "execution_count": 60,
     "metadata": {},
     "output_type": "execute_result"
    }
   ],
   "source": [
    "df[['midas']].value_counts()"
   ]
  },
  {
   "cell_type": "code",
   "execution_count": 61,
   "id": "2d835bc2-2149-4fe7-9be3-6480dc5834a8",
   "metadata": {},
   "outputs": [
    {
     "data": {
      "text/plain": [
       "entities.label           \n",
       "product                      2368\n",
       "location                     1019\n",
       "food                         845 \n",
       "business                     638 \n",
       "org                          489 \n",
       "work_of_art                  454 \n",
       "event                        418 \n",
       "occupation                   411 \n",
       "fac                          298 \n",
       "law                          292 \n",
       "film                         272 \n",
       "academic_discipline          269 \n",
       "language                     194 \n",
       "person                       158 \n",
       "literary_work                125 \n",
       "type_of_sport                106 \n",
       "norp                         85  \n",
       "nation                       63  \n",
       "song                         53  \n",
       "music_genre                  28  \n",
       "sports_event                 22  \n",
       "animal                       16  \n",
       "chemical_element             13  \n",
       "sport_team                   8   \n",
       "sports_season                8   \n",
       "sports_venue                 7   \n",
       "political_party              6   \n",
       "association_football_club    2   \n",
       "championship                 1   \n",
       "dtype: int64"
      ]
     },
     "execution_count": 61,
     "metadata": {},
     "output_type": "execute_result"
    }
   ],
   "source": [
    "df[['entities.label']].value_counts()"
   ]
  },
  {
   "cell_type": "code",
   "execution_count": 8,
   "id": "56b6d4f9-d2ef-4221-9c55-2e04e6912f58",
   "metadata": {},
   "outputs": [
    {
     "name": "stderr",
     "output_type": "stream",
     "text": [
      "C:\\Users\\denis\\AppData\\Local\\Temp/ipykernel_2628/3418291369.py:4: FutureWarning: Passing a negative integer is deprecated in version 1.0 and will not be supported in future version. Instead, use None to not limit the column width.\n",
      "  pd.set_option('display.max_colwidth', -1)\n"
     ]
    },
    {
     "data": {
      "text/plain": [
       "doctor                            37\n",
       "boss                              34\n",
       "manager                           27\n",
       "job                               26\n",
       "position                          22\n",
       "salary                            18\n",
       "teacher                           14\n",
       "president                         12\n",
       "driver                            12\n",
       "officer                           9 \n",
       "guy                               8 \n",
       "secretary                         6 \n",
       "employee                          6 \n",
       "worker                            6 \n",
       "employer                          5 \n",
       "leader                            5 \n",
       "man                               5 \n",
       "employees                         4 \n",
       "stewardess                        4 \n",
       "person                            4 \n",
       "staff                             4 \n",
       "care                              4 \n",
       "supervisor                        4 \n",
       "agent                             3 \n",
       "guide                             3 \n",
       "charge                            3 \n",
       "inspector                         3 \n",
       "professor                         3 \n",
       "oscars                            3 \n",
       "sheriff                           2 \n",
       "coach                             2 \n",
       "accountant                        2 \n",
       "lady                              2 \n",
       "colleague                         2 \n",
       "pitcher                           2 \n",
       "consultant                        2 \n",
       "gentleman                         2 \n",
       "award                             2 \n",
       "priest                            2 \n",
       "problem                           2 \n",
       "guard                             2 \n",
       "time                              2 \n",
       "waitress                          2 \n",
       "clerk                             2 \n",
       "king                              2 \n",
       "individual                        2 \n",
       "planner                           2 \n",
       "servant                           2 \n",
       "friend                            2 \n",
       "volunteer                         2 \n",
       "boy                               2 \n",
       "promotion                         2 \n",
       "teachers                          1 \n",
       "engineer                          1 \n",
       "representative                    1 \n",
       "compliment                        1 \n",
       "employment                        1 \n",
       "brokers                           1 \n",
       "sir                               1 \n",
       "referee                           1 \n",
       "leaders                           1 \n",
       "one                               1 \n",
       "fireman                           1 \n",
       "responsibility                    1 \n",
       "mother                            1 \n",
       "quarterback                       1 \n",
       "weatherman                        1 \n",
       "number                            1 \n",
       "assistant                         1 \n",
       "judge                             1 \n",
       "maid                              1 \n",
       "newcomer                          1 \n",
       "drivers                           1 \n",
       "midfield                          1 \n",
       "salesperson                       1 \n",
       "help                              1 \n",
       "reporter                          1 \n",
       "captain                           1 \n",
       "businessman                       1 \n",
       "supervision                       1 \n",
       "salesman                          1 \n",
       "director                          1 \n",
       "headmaster                        1 \n",
       "chairman                          1 \n",
       "technician                        1 \n",
       "terminator                        1 \n",
       "father                            1 \n",
       "writer                            1 \n",
       "superman                          1 \n",
       "workers                           1 \n",
       "postman                           1 \n",
       "bonuses                           1 \n",
       "ceo                               1 \n",
       "monitor                           1 \n",
       "positions                         1 \n",
       "oscar awards                      1 \n",
       "waiter                            1 \n",
       "pay                               1 \n",
       "professors                        1 \n",
       "managers                          1 \n",
       "player                            1 \n",
       "announcer                         1 \n",
       "mediator                          1 \n",
       "plumber                           1 \n",
       "counselors                        1 \n",
       "president of the united states    1 \n",
       "bellboy                           1 \n",
       "hours                             1 \n",
       "senior                            1 \n",
       "bosses                            1 \n",
       "shifts                            1 \n",
       "defender                          1 \n",
       "attendant                         1 \n",
       "office                            1 \n",
       "jobs                              1 \n",
       "superintendent                    1 \n",
       "cadre                             1 \n",
       "counselor                         1 \n",
       "groomsman                         1 \n",
       "remittee                          1 \n",
       "ears                              1 \n",
       "partner                           1 \n",
       "repairman                         1 \n",
       "Name: entities.text, dtype: int64"
      ]
     },
     "execution_count": 8,
     "metadata": {},
     "output_type": "execute_result"
    }
   ],
   "source": [
    "pd.set_option('display.max_rows', None)\n",
    "pd.set_option('display.max_columns', None)\n",
    "pd.set_option('display.width', None)\n",
    "pd.set_option('display.max_colwidth', -1)\n",
    "\n",
    "df[df['entities.label'] == 'occupation']['entities.text'].value_counts()\n",
    "# df[(df['entities.label'] =='work_of_art')]\n",
    "# df[(df['entities.label'] =='work_of_art') & (df['entities.text'] =='bye')]"
   ]
  },
  {
   "cell_type": "code",
   "execution_count": 43,
   "id": "9cfd5c37-831d-43b6-be51-b5be29d10588",
   "metadata": {},
   "outputs": [],
   "source": [
    "rare_midas = ['other_answers']\n",
    "rare_entity = ['sport_team', 'sports_season', 'sports_venue','political_party', \"association_football_club\", \"championship\"]\n",
    "df_common_midas = df[~df.midas.isin(rare_midas)]\n",
    "df_rare_midas = df[df.midas.isin(rare_midas)]\n",
    "df_common_entity = df[~df['entities.label'].isin(rare_entity)]"
   ]
  },
  {
   "cell_type": "code",
   "execution_count": 44,
   "id": "f6ae1b29-4383-4529-a852-5f1851efb7f8",
   "metadata": {},
   "outputs": [],
   "source": [
    "common_sampled_by_midas = df_common_midas.groupby('midas', group_keys=False).apply(lambda x: x.sample(10))\n",
    "common_sampled_by_entity = df_common_entity.groupby('entities.label', group_keys=False).apply(lambda x: x.sample(10))\n",
    "rare_sampled_by_midas = df_rare_midas.groupby('midas', group_keys=False).apply(lambda x: x.sample(1))"
   ]
  },
  {
   "cell_type": "code",
   "execution_count": 45,
   "id": "e7b92aaf-3084-4858-b76e-4f47dac5f5a2",
   "metadata": {},
   "outputs": [],
   "source": [
    "pd.concat([common_sampled_by_midas[['midas', 'text']], \n",
    "           rare_sampled_by_midas[['midas', 'text']]]).to_csv('data/daily_midas_sample.tsv', sep='\\t', index=False)"
   ]
  },
  {
   "cell_type": "code",
   "execution_count": 46,
   "id": "4169fdbe-773e-47cd-962d-0403938e9c03",
   "metadata": {},
   "outputs": [],
   "source": [
    "common_sampled_by_entity[['entities.label', 'text']].to_csv('data/daily_entity_sample.tsv', sep='\\t', index=False)"
   ]
  },
  {
   "cell_type": "code",
   "execution_count": 47,
   "id": "e6b45887-5242-4512-8d14-5d333e7f1696",
   "metadata": {},
   "outputs": [],
   "source": [
    "df['midas_entity'] = df[['midas', 'entities.label']].agg(' '.join, axis=1)"
   ]
  },
  {
   "cell_type": "code",
   "execution_count": 48,
   "id": "9cd0d801-0f8e-4fa7-8751-046eafde857e",
   "metadata": {},
   "outputs": [
    {
     "data": {
      "text/html": [
       "<div>\n",
       "<style scoped>\n",
       "    .dataframe tbody tr th:only-of-type {\n",
       "        vertical-align: middle;\n",
       "    }\n",
       "\n",
       "    .dataframe tbody tr th {\n",
       "        vertical-align: top;\n",
       "    }\n",
       "\n",
       "    .dataframe thead th {\n",
       "        text-align: right;\n",
       "    }\n",
       "</style>\n",
       "<table border=\"1\" class=\"dataframe\">\n",
       "  <thead>\n",
       "    <tr style=\"text-align: right;\">\n",
       "      <th></th>\n",
       "      <th>label</th>\n",
       "      <th>counts</th>\n",
       "    </tr>\n",
       "  </thead>\n",
       "  <tbody>\n",
       "    <tr>\n",
       "      <th>0</th>\n",
       "      <td>statement product</td>\n",
       "      <td>1187</td>\n",
       "    </tr>\n",
       "    <tr>\n",
       "      <th>1</th>\n",
       "      <td>statement location</td>\n",
       "      <td>548</td>\n",
       "    </tr>\n",
       "    <tr>\n",
       "      <th>2</th>\n",
       "      <td>opinion product</td>\n",
       "      <td>388</td>\n",
       "    </tr>\n",
       "    <tr>\n",
       "      <th>3</th>\n",
       "      <td>statement business</td>\n",
       "      <td>360</td>\n",
       "    </tr>\n",
       "    <tr>\n",
       "      <th>4</th>\n",
       "      <td>yes_no_question product</td>\n",
       "      <td>322</td>\n",
       "    </tr>\n",
       "  </tbody>\n",
       "</table>\n",
       "</div>"
      ],
      "text/plain": [
       "                     label  counts\n",
       "0  statement product        1187  \n",
       "1  statement location       548   \n",
       "2  opinion product          388   \n",
       "3  statement business       360   \n",
       "4  yes_no_question product  322   "
      ]
     },
     "execution_count": 48,
     "metadata": {},
     "output_type": "execute_result"
    }
   ],
   "source": [
    "label_count = df.midas_entity.value_counts().rename_axis('label').reset_index(name='counts')\n",
    "label_count.head()"
   ]
  },
  {
   "cell_type": "code",
   "execution_count": 49,
   "id": "71ae57c4-aa47-4540-a9db-9e1afe991118",
   "metadata": {},
   "outputs": [],
   "source": [
    "rare_midas_entity = label_count[label_count.counts <= 11].label.tolist()"
   ]
  },
  {
   "cell_type": "code",
   "execution_count": 50,
   "id": "3293ee9b-327c-468c-adbd-1caf21a39e49",
   "metadata": {},
   "outputs": [],
   "source": [
    "df_common_midas_entity = df[~df.midas_entity.isin(rare_midas_entity)]\n",
    "common_sampled_by_midas_and_entity = df_common_midas_entity.groupby(\n",
    "    'midas_entity', group_keys=False).apply(lambda x: x.sample(10))"
   ]
  },
  {
   "cell_type": "code",
   "execution_count": 51,
   "id": "6e31461c-d0aa-4f2c-99dd-562aef55606e",
   "metadata": {},
   "outputs": [],
   "source": [
    "common_sampled_by_midas_and_entity[['midas_entity', 'text']].to_csv('data/daily_midas_entity_sample.tsv', sep='\\t', index=False)"
   ]
  },
  {
   "cell_type": "code",
   "execution_count": 52,
   "id": "79447d83-a0ad-4530-a0cb-92d8ed5586c4",
   "metadata": {},
   "outputs": [],
   "source": [
    "df_rare_midas_entity = df[df.midas_entity.isin(rare_midas_entity)]\n",
    "rare_sampled_by_midas_and_entity = df_rare_midas_entity.groupby('midas_entity', group_keys=False).apply(lambda x: x.sample(1))"
   ]
  },
  {
   "cell_type": "code",
   "execution_count": 53,
   "id": "c099fdab-53bc-4f93-a054-1cebe9ffcfa4",
   "metadata": {},
   "outputs": [],
   "source": [
    "rare_sampled_by_midas_and_entity[['midas_entity', 'text']].to_csv('data/daily_midas_entity_rare_sampled.tsv', sep='\\t', index=False)"
   ]
  },
  {
   "cell_type": "code",
   "execution_count": 54,
   "id": "67ad0381-0a14-44b1-8772-f4bb9edcf0a6",
   "metadata": {},
   "outputs": [],
   "source": [
    "df[['midas_entity', 'text']].groupby(\n",
    "    'midas_entity', group_keys=False).apply(lambda x: x.sample(frac=1.0)).to_csv(\n",
    "    'data/daily_all_target_sentences.tsv', sep='\\t', index=False)"
   ]
  },
  {
   "cell_type": "markdown",
   "id": "0946a7a1-cc48-406e-991a-d1daaf897f58",
   "metadata": {
    "tags": []
   },
   "source": [
    "## Topical"
   ]
  },
  {
   "cell_type": "code",
   "execution_count": 92,
   "id": "019ad854-fb2a-4c4e-aa08-8b3677de0934",
   "metadata": {},
   "outputs": [
    {
     "data": {
      "text/plain": [
       "Counter({3: 5415,\n",
       "         0: 119214,\n",
       "         8: 45,\n",
       "         1: 22442,\n",
       "         2: 11780,\n",
       "         4: 2237,\n",
       "         6: 346,\n",
       "         5: 867,\n",
       "         7: 118,\n",
       "         9: 22,\n",
       "         11: 2,\n",
       "         10: 5,\n",
       "         19: 1})"
      ]
     },
     "execution_count": 92,
     "metadata": {},
     "output_type": "execute_result"
    }
   ],
   "source": [
    "Counter([len(sample['predict']['entities']) for sample in topical])"
   ]
  },
  {
   "cell_type": "code",
   "execution_count": 114,
   "id": "eb735deb-7744-40d0-ac2d-6cc97cc8171f",
   "metadata": {},
   "outputs": [
    {
     "data": {
      "text/plain": [
       "22442"
      ]
     },
     "execution_count": 114,
     "metadata": {},
     "output_type": "execute_result"
    }
   ],
   "source": [
    "target_sents = [sample['predict'] for sample in topical]\n",
    "target_sents = [sample for sample in target_sents if len(sample['entities']) == 1]\n",
    "for sample in target_sents:\n",
    "    sample['entities'] = sample['entities'][0]\n",
    "    \n",
    "len(target_sents)"
   ]
  },
  {
   "cell_type": "code",
   "execution_count": 115,
   "id": "d3c2decf-4577-4aea-923f-427dea16b844",
   "metadata": {},
   "outputs": [],
   "source": [
    "df = pd.json_normalize(target_sents)"
   ]
  },
  {
   "cell_type": "code",
   "execution_count": 116,
   "id": "e2039455-a759-4d79-a405-534408ef4439",
   "metadata": {},
   "outputs": [
    {
     "data": {
      "text/html": [
       "<div>\n",
       "<style scoped>\n",
       "    .dataframe tbody tr th:only-of-type {\n",
       "        vertical-align: middle;\n",
       "    }\n",
       "\n",
       "    .dataframe tbody tr th {\n",
       "        vertical-align: top;\n",
       "    }\n",
       "\n",
       "    .dataframe thead th {\n",
       "        text-align: right;\n",
       "    }\n",
       "</style>\n",
       "<table border=\"1\" class=\"dataframe\">\n",
       "  <thead>\n",
       "    <tr style=\"text-align: right;\">\n",
       "      <th></th>\n",
       "      <th>text</th>\n",
       "      <th>midas</th>\n",
       "      <th>entities.label</th>\n",
       "      <th>entities.offsets</th>\n",
       "      <th>entities.text</th>\n",
       "    </tr>\n",
       "  </thead>\n",
       "  <tbody>\n",
       "    <tr>\n",
       "      <th>0</th>\n",
       "      <td>did you know google had hundreds of live goats to cut the LOCATION in the past?</td>\n",
       "      <td>yes_no_question</td>\n",
       "      <td>location</td>\n",
       "      <td>[58, 63]</td>\n",
       "      <td>grass</td>\n",
       "    </tr>\n",
       "    <tr>\n",
       "      <th>2</th>\n",
       "      <td>did you know that a seahorse is the only fish to have a PRODUCT?</td>\n",
       "      <td>yes_no_question</td>\n",
       "      <td>product</td>\n",
       "      <td>[56, 60]</td>\n",
       "      <td>neck</td>\n",
       "    </tr>\n",
       "    <tr>\n",
       "      <th>9</th>\n",
       "      <td>do you know how PRODUCT calculates traffic?</td>\n",
       "      <td>yes_no_question</td>\n",
       "      <td>product</td>\n",
       "      <td>[16, 27]</td>\n",
       "      <td>google maps</td>\n",
       "    </tr>\n",
       "    <tr>\n",
       "      <th>26</th>\n",
       "      <td>do you know how many idnividual animals are believed to be on LOCATION?</td>\n",
       "      <td>yes_no_question</td>\n",
       "      <td>location</td>\n",
       "      <td>[62, 67]</td>\n",
       "      <td>earth</td>\n",
       "    </tr>\n",
       "    <tr>\n",
       "      <th>37</th>\n",
       "      <td>was it a smuggling WORK_OF_ART?</td>\n",
       "      <td>yes_no_question</td>\n",
       "      <td>work_of_art</td>\n",
       "      <td>[19, 24]</td>\n",
       "      <td>thing</td>\n",
       "    </tr>\n",
       "  </tbody>\n",
       "</table>\n",
       "</div>"
      ],
      "text/plain": [
       "                                                                               text  \\\n",
       "0   did you know google had hundreds of live goats to cut the LOCATION in the past?   \n",
       "2   did you know that a seahorse is the only fish to have a PRODUCT?                  \n",
       "9   do you know how PRODUCT calculates traffic?                                       \n",
       "26  do you know how many idnividual animals are believed to be on LOCATION?           \n",
       "37  was it a smuggling WORK_OF_ART?                                                   \n",
       "\n",
       "              midas entities.label entities.offsets entities.text  \n",
       "0   yes_no_question  location       [58, 63]         grass         \n",
       "2   yes_no_question  product        [56, 60]         neck          \n",
       "9   yes_no_question  product        [16, 27]         google maps   \n",
       "26  yes_no_question  location       [62, 67]         earth         \n",
       "37  yes_no_question  work_of_art    [19, 24]         thing         "
      ]
     },
     "execution_count": 116,
     "metadata": {},
     "output_type": "execute_result"
    }
   ],
   "source": [
    "df[df.midas == \"yes_no_question\"].head()"
   ]
  },
  {
   "cell_type": "code",
   "execution_count": 117,
   "id": "8009febc-00ba-4f8c-a462-a6d5978d6512",
   "metadata": {},
   "outputs": [
    {
     "data": {
      "text/plain": [
       "midas                \n",
       "opinion                  10113\n",
       "statement                8271 \n",
       "yes_no_question          1546 \n",
       "comment                  1109 \n",
       "pos_answer               403  \n",
       "command                  303  \n",
       "open_question_factual    285  \n",
       "open_question_opinion    217  \n",
       "neg_answer               105  \n",
       "complaint                43   \n",
       "appreciation             21   \n",
       "dev_command              13   \n",
       "other_answers            13   \n",
       "dtype: int64"
      ]
     },
     "execution_count": 117,
     "metadata": {},
     "output_type": "execute_result"
    }
   ],
   "source": [
    "df[['midas']].value_counts()"
   ]
  },
  {
   "cell_type": "code",
   "execution_count": 118,
   "id": "1eaef42c-d502-4f9c-a584-41df57f08df1",
   "metadata": {},
   "outputs": [
    {
     "data": {
      "text/plain": [
       "entities.label           \n",
       "product                      4297\n",
       "location                     2395\n",
       "film                         2229\n",
       "work_of_art                  1983\n",
       "person                       1448\n",
       "org                          1433\n",
       "business                     1279\n",
       "occupation                   1083\n",
       "type_of_sport                903 \n",
       "literary_work                804 \n",
       "event                        511 \n",
       "song                         472 \n",
       "academic_discipline          471 \n",
       "music_genre                  349 \n",
       "food                         334 \n",
       "norp                         331 \n",
       "law                          325 \n",
       "sport_team                   303 \n",
       "animal                       283 \n",
       "fac                          256 \n",
       "nation                       216 \n",
       "language                     186 \n",
       "political_party              124 \n",
       "sports_event                 107 \n",
       "sports_season                88  \n",
       "championship                 76  \n",
       "sports_venue                 72  \n",
       "sports_league                32  \n",
       "chemical_element             27  \n",
       "association_football_club    13  \n",
       "national                     12  \n",
       "dtype: int64"
      ]
     },
     "execution_count": 118,
     "metadata": {},
     "output_type": "execute_result"
    }
   ],
   "source": [
    "df[['entities.label']].value_counts()"
   ]
  },
  {
   "cell_type": "code",
   "execution_count": 129,
   "id": "f8794242-875c-4357-97f0-3d7d8a66675a",
   "metadata": {},
   "outputs": [
    {
     "name": "stderr",
     "output_type": "stream",
     "text": [
      "C:\\Users\\denis\\AppData\\Local\\Temp/ipykernel_10212/3269599403.py:4: FutureWarning: Passing a negative integer is deprecated in version 1.0 and will not be supported in future version. Instead, use None to not limit the column width.\n",
      "  pd.set_option('display.max_colwidth', -1)\n"
     ]
    },
    {
     "data": {
      "text/plain": [
       "vitamin     9\n",
       "helium      4\n",
       "electron    2\n",
       "types       2\n",
       "bloods      1\n",
       "fusion      1\n",
       "proteins    1\n",
       "dopamine    1\n",
       "gold        1\n",
       "enzyme      1\n",
       "energy      1\n",
       "hydrogen    1\n",
       "gas         1\n",
       "isotopes    1\n",
       "Name: entities.text, dtype: int64"
      ]
     },
     "execution_count": 129,
     "metadata": {},
     "output_type": "execute_result"
    }
   ],
   "source": [
    "pd.set_option('display.max_rows', None)\n",
    "pd.set_option('display.max_columns', None)\n",
    "pd.set_option('display.width', None)\n",
    "pd.set_option('display.max_colwidth', -1)\n",
    "\n",
    "df[df['entities.label'] =='chemical_element']['entities.text'].value_counts()\n",
    "# df[(df['entities.label'] =='work_of_art')]\n",
    "# df[(df['entities.label'] =='work_of_art') & (df['entities.text'] =='bye')]"
   ]
  },
  {
   "cell_type": "code",
   "execution_count": 130,
   "id": "ee5725a5-c15b-430b-be65-9a49522cb107",
   "metadata": {},
   "outputs": [
    {
     "data": {
      "text/html": [
       "<div>\n",
       "<style scoped>\n",
       "    .dataframe tbody tr th:only-of-type {\n",
       "        vertical-align: middle;\n",
       "    }\n",
       "\n",
       "    .dataframe tbody tr th {\n",
       "        vertical-align: top;\n",
       "    }\n",
       "\n",
       "    .dataframe thead th {\n",
       "        text-align: right;\n",
       "    }\n",
       "</style>\n",
       "<table border=\"1\" class=\"dataframe\">\n",
       "  <thead>\n",
       "    <tr style=\"text-align: right;\">\n",
       "      <th></th>\n",
       "      <th>text</th>\n",
       "      <th>midas</th>\n",
       "      <th>entities.label</th>\n",
       "      <th>entities.offsets</th>\n",
       "      <th>entities.text</th>\n",
       "    </tr>\n",
       "  </thead>\n",
       "  <tbody>\n",
       "    <tr>\n",
       "      <th>0</th>\n",
       "      <td>did you know google had hundreds of live goats to cut the LOCATION in the past?</td>\n",
       "      <td>yes_no_question</td>\n",
       "      <td>location</td>\n",
       "      <td>[58, 63]</td>\n",
       "      <td>grass</td>\n",
       "    </tr>\n",
       "    <tr>\n",
       "      <th>1</th>\n",
       "      <td>i like PRODUCT.</td>\n",
       "      <td>opinion</td>\n",
       "      <td>product</td>\n",
       "      <td>[7, 20]</td>\n",
       "      <td>google chrome</td>\n",
       "    </tr>\n",
       "    <tr>\n",
       "      <th>2</th>\n",
       "      <td>did you know that a seahorse is the only fish to have a PRODUCT?</td>\n",
       "      <td>yes_no_question</td>\n",
       "      <td>product</td>\n",
       "      <td>[56, 60]</td>\n",
       "      <td>neck</td>\n",
       "    </tr>\n",
       "    <tr>\n",
       "      <th>3</th>\n",
       "      <td>yes that is a lot of PRODUCT and also a lot of money</td>\n",
       "      <td>statement</td>\n",
       "      <td>product</td>\n",
       "      <td>[21, 26]</td>\n",
       "      <td>shoes</td>\n",
       "    </tr>\n",
       "    <tr>\n",
       "      <th>4</th>\n",
       "      <td>SONG riddance.</td>\n",
       "      <td>pos_answer</td>\n",
       "      <td>song</td>\n",
       "      <td>[0, 13]</td>\n",
       "      <td>yes like good</td>\n",
       "    </tr>\n",
       "  </tbody>\n",
       "</table>\n",
       "</div>"
      ],
      "text/plain": [
       "                                                                              text  \\\n",
       "0  did you know google had hundreds of live goats to cut the LOCATION in the past?   \n",
       "1  i like PRODUCT.                                                                   \n",
       "2  did you know that a seahorse is the only fish to have a PRODUCT?                  \n",
       "3  yes that is a lot of PRODUCT and also a lot of money                              \n",
       "4  SONG riddance.                                                                    \n",
       "\n",
       "             midas entities.label entities.offsets  entities.text  \n",
       "0  yes_no_question  location       [58, 63]         grass          \n",
       "1  opinion          product        [7, 20]          google chrome  \n",
       "2  yes_no_question  product        [56, 60]         neck           \n",
       "3  statement        product        [21, 26]         shoes          \n",
       "4  pos_answer       song           [0, 13]          yes like good  "
      ]
     },
     "execution_count": 130,
     "metadata": {},
     "output_type": "execute_result"
    }
   ],
   "source": [
    "df.head()"
   ]
  },
  {
   "cell_type": "code",
   "execution_count": 132,
   "id": "cbdfcd95-3f42-4061-8cb5-a9bb99974e4d",
   "metadata": {},
   "outputs": [],
   "source": [
    "rare_midas = []\n",
    "rare_entity = []\n",
    "df_common_midas = df[~df.midas.isin(rare_midas)]\n",
    "df_rare_midas = df[df.midas.isin(rare_midas)]\n",
    "df_common_entity = df[~df['entities.label'].isin(rare_entity)]"
   ]
  },
  {
   "cell_type": "code",
   "execution_count": 133,
   "id": "0e8f2a54-af22-429a-93b4-b752fffdf0e0",
   "metadata": {},
   "outputs": [],
   "source": [
    "common_sampled_by_midas = df_common_midas.groupby('midas', group_keys=False).apply(lambda x: x.sample(10))\n",
    "common_sampled_by_entity = df_common_entity.groupby('entities.label', group_keys=False).apply(lambda x: x.sample(10))\n",
    "rare_sampled_by_midas = df_rare_midas.groupby('midas', group_keys=False).apply(lambda x: x.sample(1))"
   ]
  },
  {
   "cell_type": "code",
   "execution_count": 134,
   "id": "9e5f2fab-79a1-491f-9e98-d2e33010e170",
   "metadata": {},
   "outputs": [],
   "source": [
    "pd.concat([common_sampled_by_midas[['midas', 'text']], \n",
    "           rare_sampled_by_midas[['midas', 'text']]]).to_csv('data/topical_midas_sample.tsv', sep='\\t', index=False)"
   ]
  },
  {
   "cell_type": "code",
   "execution_count": 136,
   "id": "9f48c678-ab7e-4601-adc9-b922ee82f2ae",
   "metadata": {},
   "outputs": [],
   "source": [
    "common_sampled_by_entity[['entities.label', 'text']].to_csv('data/topical_entity_sample.tsv', sep='\\t', index=False)"
   ]
  },
  {
   "cell_type": "code",
   "execution_count": 137,
   "id": "d732c4e6-c27f-431a-8ec5-03bd44057497",
   "metadata": {},
   "outputs": [],
   "source": [
    "df['midas_entity'] = df[['midas', 'entities.label']].agg(' '.join, axis=1)"
   ]
  },
  {
   "cell_type": "code",
   "execution_count": 143,
   "id": "e8948b95-3e4f-4822-8b6f-130b50f23c7d",
   "metadata": {},
   "outputs": [
    {
     "data": {
      "text/html": [
       "<div>\n",
       "<style scoped>\n",
       "    .dataframe tbody tr th:only-of-type {\n",
       "        vertical-align: middle;\n",
       "    }\n",
       "\n",
       "    .dataframe tbody tr th {\n",
       "        vertical-align: top;\n",
       "    }\n",
       "\n",
       "    .dataframe thead th {\n",
       "        text-align: right;\n",
       "    }\n",
       "</style>\n",
       "<table border=\"1\" class=\"dataframe\">\n",
       "  <thead>\n",
       "    <tr style=\"text-align: right;\">\n",
       "      <th></th>\n",
       "      <th>label</th>\n",
       "      <th>counts</th>\n",
       "    </tr>\n",
       "  </thead>\n",
       "  <tbody>\n",
       "    <tr>\n",
       "      <th>0</th>\n",
       "      <td>opinion product</td>\n",
       "      <td>1811</td>\n",
       "    </tr>\n",
       "    <tr>\n",
       "      <th>1</th>\n",
       "      <td>statement product</td>\n",
       "      <td>1736</td>\n",
       "    </tr>\n",
       "    <tr>\n",
       "      <th>2</th>\n",
       "      <td>statement location</td>\n",
       "      <td>1128</td>\n",
       "    </tr>\n",
       "    <tr>\n",
       "      <th>3</th>\n",
       "      <td>opinion work_of_art</td>\n",
       "      <td>1072</td>\n",
       "    </tr>\n",
       "    <tr>\n",
       "      <th>4</th>\n",
       "      <td>opinion location</td>\n",
       "      <td>966</td>\n",
       "    </tr>\n",
       "  </tbody>\n",
       "</table>\n",
       "</div>"
      ],
      "text/plain": [
       "                 label  counts\n",
       "0  opinion product      1811  \n",
       "1  statement product    1736  \n",
       "2  statement location   1128  \n",
       "3  opinion work_of_art  1072  \n",
       "4  opinion location     966   "
      ]
     },
     "execution_count": 143,
     "metadata": {},
     "output_type": "execute_result"
    }
   ],
   "source": [
    "label_count = df.midas_entity.value_counts().rename_axis('label').reset_index(name='counts')\n",
    "label_count.head()"
   ]
  },
  {
   "cell_type": "code",
   "execution_count": 144,
   "id": "d2033521-f86c-4009-8de4-31be1876ac07",
   "metadata": {},
   "outputs": [],
   "source": [
    "rare_midas_entity = label_count[label_count.counts <= 11].label.tolist()"
   ]
  },
  {
   "cell_type": "code",
   "execution_count": 145,
   "id": "3628ae83-b19c-4eed-acf7-bec6efb7c4a2",
   "metadata": {},
   "outputs": [],
   "source": [
    "df_common_midas_entity = df[~df.midas_entity.isin(rare_midas_entity)]\n",
    "common_sampled_by_midas_and_entity = df_common_midas_entity.groupby(\n",
    "    'midas_entity', group_keys=False).apply(lambda x: x.sample(10))"
   ]
  },
  {
   "cell_type": "code",
   "execution_count": 146,
   "id": "ead3fc68-9cbc-46cc-9bc0-32f44d3481ea",
   "metadata": {},
   "outputs": [],
   "source": [
    "common_sampled_by_midas_and_entity[['midas_entity', 'text']].to_csv('data/topical_midas_entity_sample.tsv', sep='\\t', index=False)"
   ]
  },
  {
   "cell_type": "code",
   "execution_count": 147,
   "id": "ff4499ec-a1f0-44b4-ac02-74d4d6c87a21",
   "metadata": {},
   "outputs": [],
   "source": [
    "df_rare_midas_entity = df[df.midas_entity.isin(rare_midas_entity)]\n",
    "rare_sampled_by_midas_and_entity = df_rare_midas_entity.groupby('midas_entity', group_keys=False).apply(lambda x: x.sample(1))"
   ]
  },
  {
   "cell_type": "code",
   "execution_count": 148,
   "id": "cd9b23c7-17af-4d1b-b0e3-737ee60e6336",
   "metadata": {},
   "outputs": [],
   "source": [
    "rare_sampled_by_midas_and_entity[['midas_entity', 'text']].to_csv('data/topical_midas_entity_rare_sampled.tsv', sep='\\t', index=False)"
   ]
  },
  {
   "cell_type": "code",
   "execution_count": 149,
   "id": "92fddf5b-b034-4b08-903b-46defbc9f100",
   "metadata": {},
   "outputs": [],
   "source": [
    "df[['midas_entity', 'text']].groupby(\n",
    "    'midas_entity', group_keys=False).apply(lambda x: x.sample(frac=1.0)).to_csv(\n",
    "    'data/topical_all_target_sentences.tsv', sep='\\t', index=False)"
   ]
  },
  {
   "cell_type": "code",
   "execution_count": null,
   "id": "af65845a-2822-43f9-b360-b78fcd2dd8b3",
   "metadata": {},
   "outputs": [],
   "source": []
  }
 ],
 "metadata": {
  "kernelspec": {
   "display_name": "Python 3 (ipykernel)",
   "language": "python",
   "name": "python3"
  },
  "language_info": {
   "codemirror_mode": {
    "name": "ipython",
    "version": 3
   },
   "file_extension": ".py",
   "mimetype": "text/x-python",
   "name": "python",
   "nbconvert_exporter": "python",
   "pygments_lexer": "ipython3",
   "version": "3.8.2"
  }
 },
 "nbformat": 4,
 "nbformat_minor": 5
}
