{
 "cells": [
  {
   "cell_type": "code",
   "execution_count": 1,
   "id": "55fe611e-fd14-47d3-b41c-1cbfe9fc4cde",
   "metadata": {},
   "outputs": [],
   "source": [
    "import json\n",
    "from collections import Counter\n",
    "import numpy as np\n",
    "import pandas as pd\n",
    "pd.set_option('display.max_colwidth', 1000)"
   ]
  },
  {
   "cell_type": "code",
   "execution_count": 2,
   "id": "838b7f71-1479-4975-92e1-878c18b5eea6",
   "metadata": {},
   "outputs": [],
   "source": [
    "import spacy\n",
    "from spacy.lang.en import English\n",
    "tokenizer = English().tokenizer"
   ]
  },
  {
   "cell_type": "code",
   "execution_count": 3,
   "id": "e3c93789-6d75-40c9-a36f-ea436607158a",
   "metadata": {},
   "outputs": [
    {
     "data": {
      "text/plain": [
       "['I', 'am', 'a', 'student', '.']"
      ]
     },
     "execution_count": 3,
     "metadata": {},
     "output_type": "execute_result"
    }
   ],
   "source": [
    "[token.text for token in tokenizer('I am a student.')]"
   ]
  },
  {
   "cell_type": "markdown",
   "id": "d033350d-c815-4c97-880c-932599ecdd02",
   "metadata": {
    "tags": []
   },
   "source": [
    "### Description"
   ]
  },
  {
   "cell_type": "code",
   "execution_count": 416,
   "id": "8b557bc9-4399-4ee3-a0b8-16987b6565d0",
   "metadata": {},
   "outputs": [],
   "source": [
    "with open('data/merged_preds.json', 'r', encoding='utf8') as f:\n",
    "    preds = json.load(f)"
   ]
  },
  {
   "cell_type": "code",
   "execution_count": 170,
   "id": "a635e4b6-7cf3-4222-82ed-b4c7625f56fe",
   "metadata": {},
   "outputs": [],
   "source": [
    "context = [[token.text for token in tokenizer(sample['context'].replace(\" __eou__ \", \"\"))] for sample in preds]\n",
    "context[0:2]"
   ]
  },
  {
   "cell_type": "code",
   "execution_count": 175,
   "id": "7e8b96af-fcb5-4a7a-a149-bb03f80e1f7e",
   "metadata": {},
   "outputs": [],
   "source": [
    "tokenized = [sample['preds'] for sample in preds]\n",
    "tokenized = [{algo: [token.text for token in tokenizer(sample[algo])] for algo in sample} for sample in tokenized]"
   ]
  },
  {
   "cell_type": "code",
   "execution_count": 194,
   "id": "501d6749-039f-4a56-b892-a7ffee54f769",
   "metadata": {},
   "outputs": [],
   "source": [
    "intersect = list()\n",
    "\n",
    "for ctx, sample in zip(context, tokenized):\n",
    "    ctx = set(ctx)\n",
    "    \n",
    "    sample_dict = {}\n",
    "    \n",
    "    for algo in sample:\n",
    "        algo_len = len(sample[algo]) if len(sample[algo]) else 1\n",
    "        resp = set(sample[algo])\n",
    "        sample_dict[algo] = round(len(resp.intersection(ctx)) / algo_len, 3) * 100\n",
    "\n",
    "    intersect.append(sample_dict)\n"
   ]
  },
  {
   "cell_type": "code",
   "execution_count": 195,
   "id": "505e7811-2d27-4db7-81e6-da5cf3d675b4",
   "metadata": {},
   "outputs": [
    {
     "data": {
      "text/html": [
       "<div>\n",
       "<style scoped>\n",
       "    .dataframe tbody tr th:only-of-type {\n",
       "        vertical-align: middle;\n",
       "    }\n",
       "\n",
       "    .dataframe tbody tr th {\n",
       "        vertical-align: top;\n",
       "    }\n",
       "\n",
       "    .dataframe thead th {\n",
       "        text-align: right;\n",
       "    }\n",
       "</style>\n",
       "<table border=\"1\" class=\"dataframe\">\n",
       "  <thead>\n",
       "    <tr style=\"text-align: right;\">\n",
       "      <th></th>\n",
       "      <th>algo_convert</th>\n",
       "      <th>bert_convert_unmasker_11</th>\n",
       "      <th>bert_convert_unmasker_13</th>\n",
       "      <th>bert_convert_unmasker_31</th>\n",
       "      <th>bert_convert_unmasker_33</th>\n",
       "      <th>infilling_11</th>\n",
       "      <th>infilling_13</th>\n",
       "      <th>infilling_31</th>\n",
       "      <th>infilling_33</th>\n",
       "      <th>raw_convert</th>\n",
       "      <th>raw_tfidf</th>\n",
       "      <th>roberta_convert_unmasker_11</th>\n",
       "      <th>roberta_convert_unmasker_13</th>\n",
       "      <th>roberta_convert_unmasker_31</th>\n",
       "      <th>roberta_convert_unmasker_33</th>\n",
       "    </tr>\n",
       "  </thead>\n",
       "  <tbody>\n",
       "    <tr>\n",
       "      <th>0</th>\n",
       "      <td>42.9</td>\n",
       "      <td>28.6</td>\n",
       "      <td>28.6</td>\n",
       "      <td>66.7</td>\n",
       "      <td>66.7</td>\n",
       "      <td>27.3</td>\n",
       "      <td>40.0</td>\n",
       "      <td>40.0</td>\n",
       "      <td>50.0</td>\n",
       "      <td>66.7</td>\n",
       "      <td>66.7</td>\n",
       "      <td>28.6</td>\n",
       "      <td>28.6</td>\n",
       "      <td>66.7</td>\n",
       "      <td>66.7</td>\n",
       "    </tr>\n",
       "    <tr>\n",
       "      <th>1</th>\n",
       "      <td>55.6</td>\n",
       "      <td>55.6</td>\n",
       "      <td>55.6</td>\n",
       "      <td>55.6</td>\n",
       "      <td>55.6</td>\n",
       "      <td>53.8</td>\n",
       "      <td>40.0</td>\n",
       "      <td>28.6</td>\n",
       "      <td>43.8</td>\n",
       "      <td>66.7</td>\n",
       "      <td>66.7</td>\n",
       "      <td>55.6</td>\n",
       "      <td>55.6</td>\n",
       "      <td>55.6</td>\n",
       "      <td>55.6</td>\n",
       "    </tr>\n",
       "    <tr>\n",
       "      <th>2</th>\n",
       "      <td>42.9</td>\n",
       "      <td>50.0</td>\n",
       "      <td>27.3</td>\n",
       "      <td>33.3</td>\n",
       "      <td>27.3</td>\n",
       "      <td>50.0</td>\n",
       "      <td>25.0</td>\n",
       "      <td>33.3</td>\n",
       "      <td>25.0</td>\n",
       "      <td>50.0</td>\n",
       "      <td>50.0</td>\n",
       "      <td>50.0</td>\n",
       "      <td>27.3</td>\n",
       "      <td>50.0</td>\n",
       "      <td>27.3</td>\n",
       "    </tr>\n",
       "  </tbody>\n",
       "</table>\n",
       "</div>"
      ],
      "text/plain": [
       "   algo_convert  bert_convert_unmasker_11  bert_convert_unmasker_13  \\\n",
       "0          42.9                      28.6                      28.6   \n",
       "1          55.6                      55.6                      55.6   \n",
       "2          42.9                      50.0                      27.3   \n",
       "\n",
       "   bert_convert_unmasker_31  bert_convert_unmasker_33  infilling_11  \\\n",
       "0                      66.7                      66.7          27.3   \n",
       "1                      55.6                      55.6          53.8   \n",
       "2                      33.3                      27.3          50.0   \n",
       "\n",
       "   infilling_13  infilling_31  infilling_33  raw_convert  raw_tfidf  \\\n",
       "0          40.0          40.0          50.0         66.7       66.7   \n",
       "1          40.0          28.6          43.8         66.7       66.7   \n",
       "2          25.0          33.3          25.0         50.0       50.0   \n",
       "\n",
       "   roberta_convert_unmasker_11  roberta_convert_unmasker_13  \\\n",
       "0                         28.6                         28.6   \n",
       "1                         55.6                         55.6   \n",
       "2                         50.0                         27.3   \n",
       "\n",
       "   roberta_convert_unmasker_31  roberta_convert_unmasker_33  \n",
       "0                         66.7                         66.7  \n",
       "1                         55.6                         55.6  \n",
       "2                         50.0                         27.3  "
      ]
     },
     "execution_count": 195,
     "metadata": {},
     "output_type": "execute_result"
    }
   ],
   "source": [
    "intersect_df = pd.json_normalize(intersect)\n",
    "intersect_df.head(3)"
   ]
  },
  {
   "cell_type": "code",
   "execution_count": 197,
   "id": "f324a7aa-6084-4327-9186-9e0fe64eda30",
   "metadata": {},
   "outputs": [
    {
     "data": {
      "text/plain": [
       "algo_convert                   41.558375\n",
       "bert_convert_unmasker_11       35.679178\n",
       "bert_convert_unmasker_13       36.519017\n",
       "bert_convert_unmasker_31       36.728294\n",
       "bert_convert_unmasker_33       37.395659\n",
       "infilling_11                   33.814867\n",
       "infilling_13                   34.545870\n",
       "infilling_31                   34.884575\n",
       "infilling_33                   35.289762\n",
       "raw_convert                    42.789781\n",
       "raw_tfidf                      67.574971\n",
       "roberta_convert_unmasker_11    35.466443\n",
       "roberta_convert_unmasker_13    36.361852\n",
       "roberta_convert_unmasker_31    36.583096\n",
       "roberta_convert_unmasker_33    37.316788\n",
       "dtype: float64"
      ]
     },
     "execution_count": 197,
     "metadata": {},
     "output_type": "execute_result"
    }
   ],
   "source": [
    "intersect_df.mean()"
   ]
  },
  {
   "cell_type": "code",
   "execution_count": 179,
   "id": "09a44eff-5967-45f3-8cc7-41eb2f35a606",
   "metadata": {},
   "outputs": [
    {
     "data": {
      "text/plain": [
       "algo_convert                   10.005955\n",
       "bert_convert_unmasker_11       10.106224\n",
       "bert_convert_unmasker_13       10.198809\n",
       "bert_convert_unmasker_31       10.371494\n",
       "bert_convert_unmasker_33       10.358625\n",
       "infilling_11                   11.144257\n",
       "infilling_13                   11.217826\n",
       "infilling_31                   11.351133\n",
       "infilling_33                   11.372263\n",
       "raw_convert                     8.962927\n",
       "raw_tfidf                       6.566270\n",
       "roberta_convert_unmasker_11    10.134652\n",
       "roberta_convert_unmasker_13    10.234153\n",
       "roberta_convert_unmasker_31    10.389358\n",
       "roberta_convert_unmasker_33    10.383212\n",
       "dtype: float64"
      ]
     },
     "execution_count": 179,
     "metadata": {},
     "output_type": "execute_result"
    }
   ],
   "source": [
    "df_token_len = pd.json_normalize([{algo: len(sample[algo]) for algo in sample} for sample in tokenized])\n",
    "df_token_len.mean()"
   ]
  },
  {
   "cell_type": "code",
   "execution_count": 141,
   "id": "8117fcf2-bbed-451a-bc9c-516d76c0baf6",
   "metadata": {},
   "outputs": [],
   "source": [
    "preds = [sample['preds'] for sample in preds]"
   ]
  },
  {
   "cell_type": "code",
   "execution_count": 146,
   "id": "bf656501-4563-4ae4-9d86-32703f3a016a",
   "metadata": {},
   "outputs": [],
   "source": [
    "preds = [{algo: sample[algo].replace(\"  \", \" \") for algo in sample} for sample in preds]"
   ]
  },
  {
   "cell_type": "code",
   "execution_count": 147,
   "id": "818d4b70-ea74-4747-8b02-1ee9d8e7274d",
   "metadata": {},
   "outputs": [
    {
     "data": {
      "text/plain": [
       "{'algo_convert': 'i generally like to wear hair.',\n",
       " 'bert_convert_unmasker_11': 'i generally like to wear black.',\n",
       " 'bert_convert_unmasker_13': 'i generally like to wear black.',\n",
       " 'bert_convert_unmasker_31': 'how about you do style?',\n",
       " 'bert_convert_unmasker_33': 'how about you do style?',\n",
       " 'infilling_11': 'i generally like to wear flats, but dread mondays.',\n",
       " 'infilling_13': 'i generally like to wear my hair black today.',\n",
       " 'infilling_31': 'whatever kind of hair i would like i buy.',\n",
       " 'infilling_33': 'whatever style, i buy.',\n",
       " 'raw_convert': 'how about you hair style?',\n",
       " 'raw_tfidf': 'how about you hair style?',\n",
       " 'roberta_convert_unmasker_11': 'i generally like to wear red.',\n",
       " 'roberta_convert_unmasker_13': 'i generally like to wear red.',\n",
       " 'roberta_convert_unmasker_31': 'how about you like style?',\n",
       " 'roberta_convert_unmasker_33': 'how about you like style?'}"
      ]
     },
     "execution_count": 147,
     "metadata": {},
     "output_type": "execute_result"
    }
   ],
   "source": [
    "preds[0]"
   ]
  },
  {
   "cell_type": "code",
   "execution_count": 148,
   "id": "6b1c1172-0a8f-4a26-8f18-42828a66959a",
   "metadata": {},
   "outputs": [],
   "source": [
    "df = pd.json_normalize(preds)"
   ]
  },
  {
   "cell_type": "code",
   "execution_count": 149,
   "id": "6ce357e4-23c0-4fcb-92a0-124ea1109905",
   "metadata": {},
   "outputs": [
    {
     "data": {
      "text/plain": [
       "infilling_11                   4887\n",
       "infilling_31                   4860\n",
       "infilling_13                   4859\n",
       "infilling_33                   4798\n",
       "algo_convert                   4400\n",
       "roberta_convert_unmasker_11    4345\n",
       "bert_convert_unmasker_11       4284\n",
       "roberta_convert_unmasker_13    4281\n",
       "roberta_convert_unmasker_31    4209\n",
       "bert_convert_unmasker_13       4180\n",
       "roberta_convert_unmasker_33    4161\n",
       "bert_convert_unmasker_31       4120\n",
       "bert_convert_unmasker_33       4032\n",
       "raw_convert                    3122\n",
       "raw_tfidf                      2996\n",
       "dtype: int64"
      ]
     },
     "execution_count": 149,
     "metadata": {},
     "output_type": "execute_result"
    }
   ],
   "source": [
    "df.nunique().sort_values(ascending=False)"
   ]
  },
  {
   "cell_type": "code",
   "execution_count": 154,
   "id": "f09a5ef6-098f-494a-9a34-3cb29d12fb80",
   "metadata": {},
   "outputs": [
    {
     "data": {
      "text/plain": [
       "4404    15\n",
       "4410    15\n",
       "3003    15\n",
       "4382    15\n",
       "5116    15\n",
       "        ..\n",
       "825      3\n",
       "1090     3\n",
       "1265     3\n",
       "2723     2\n",
       "4326     2\n",
       "Length: 5206, dtype: int64"
      ]
     },
     "execution_count": 154,
     "metadata": {},
     "output_type": "execute_result"
    }
   ],
   "source": [
    "df.nunique(axis=1).sort_values(ascending=False)"
   ]
  },
  {
   "cell_type": "code",
   "execution_count": 245,
   "id": "d2f38f20-52e0-4b3b-9bf6-19700748ee93",
   "metadata": {},
   "outputs": [
    {
     "data": {
      "image/png": "[encoded data removed]",
      "text/plain": [
       "<Figure size 432x288 with 1 Axes>"
      ]
     },
     "metadata": {
      "needs_background": "light"
     },
     "output_type": "display_data"
    }
   ],
   "source": [
    "fig = df.nunique(axis=1).sort_values(ascending=True).value_counts().sort_index().plot(\n",
    "    kind='bar', colormap='gray', rot=0, ylabel=\"number of samples\", xlabel='unique responses per sample').get_figure()\n",
    "\n",
    "fig.savefig('img/intersecting responses.png')"
   ]
  },
  {
   "cell_type": "code",
   "execution_count": 249,
   "id": "8d37db74-bedf-4bbc-a091-8fe3130cf167",
   "metadata": {},
   "outputs": [
    {
     "data": {
      "text/plain": [
       "{'context': \"that is really crazy. but I guess a child maybe should not watch a movie like that __eou__ Very true. let alone act in one. It's no wonder these Horror movies are so successful with high calorie burning and inspiring tales from literature authors like edgar allen poe. bram stoker and mary shelley making it known that horror films have been around for more than a century! __eou__ there are just so many aspects to horror movies. science. supernatural. fantasy. sci fi. it is such an expansive genre\",\n",
       " 'preds': {'algo_convert': 'i enjoy sci-fi.',\n",
       "  'bert_convert_unmasker_11': 'i enjoy sci-fi.',\n",
       "  'bert_convert_unmasker_13': 'i enjoy sci-fi.',\n",
       "  'bert_convert_unmasker_31': 'i enjoy sci-fi.',\n",
       "  'bert_convert_unmasker_33': 'i enjoy sci-fi.',\n",
       "  'infilling_11': 'i enjoy sci-fi.',\n",
       "  'infilling_13': 'i enjoy sci-fi.',\n",
       "  'infilling_31': 'i enjoy sci-fi.',\n",
       "  'infilling_33': 'i enjoy sci-fi.',\n",
       "  'raw_convert': 'i do love horror',\n",
       "  'raw_tfidf': 'i do love horror',\n",
       "  'roberta_convert_unmasker_11': 'i enjoy sci-fi.',\n",
       "  'roberta_convert_unmasker_13': 'i enjoy sci-fi.',\n",
       "  'roberta_convert_unmasker_31': 'i enjoy sci-fi.',\n",
       "  'roberta_convert_unmasker_33': 'i enjoy sci-fi.'}}"
      ]
     },
     "execution_count": 249,
     "metadata": {},
     "output_type": "execute_result"
    }
   ],
   "source": [
    "preds[4326]"
   ]
  },
  {
   "cell_type": "markdown",
   "id": "7d140b10-bdcf-43aa-937d-ac48e1da2025",
   "metadata": {
    "tags": []
   },
   "source": [
    "### DialogRPT Evaluation"
   ]
  },
  {
   "cell_type": "code",
   "execution_count": 4,
   "id": "f515be9d-a393-444c-af31-6a2e2aaad180",
   "metadata": {},
   "outputs": [],
   "source": [
    "import operator\n",
    "\n",
    "def idx2labels(values, labels) -> dict:\n",
    "    output =  {labels[i]: value for i, value in enumerate(values)}\n",
    "    output = pd.DataFrame(output.items(), columns=['algo', 'votes']).sort_values(ascending=False, by='votes')\n",
    "    return output\n",
    "\n",
    "def voting(arr: np.ndarray, labels) -> tuple:\n",
    "    rows = np.array(range(arr.shape[0]), dtype=np.intp)\n",
    "    sorted_args = np.argsort(arr, axis=-1)\n",
    "\n",
    "    best = sorted_args[:,-1]\n",
    "    best = np.array(best, dtype=np.intp)[:, None]\n",
    "    best = arr[rows[:, np.newaxis], best]\n",
    "    best = 1 * (arr == best).sum(axis=0)\n",
    "    best = idx2labels(best, labels)\n",
    "\n",
    "    worst = sorted_args[:,0]\n",
    "    worst = np.array(worst, dtype=np.intp)[:, None]\n",
    "    worst = arr[rows[:, np.newaxis], worst]\n",
    "    worst = 1 * (arr == worst).sum(axis=0)\n",
    "    worst = idx2labels(worst, labels)\n",
    "    \n",
    "    return best, worst"
   ]
  },
  {
   "cell_type": "code",
   "execution_count": 5,
   "id": "cd59a4db-2e45-4eb0-afdf-b3455dd0d913",
   "metadata": {},
   "outputs": [],
   "source": [
    "best_algos = dict()\n",
    "worst_algos = dict()"
   ]
  },
  {
   "cell_type": "code",
   "execution_count": 6,
   "id": "44027413-22b2-4244-8204-882735ea9e33",
   "metadata": {},
   "outputs": [],
   "source": [
    "with open('data/scored_merged_preds_rpt.json', 'r', encoding='utf8') as f:\n",
    "    scores = json.load(f)"
   ]
  },
  {
   "cell_type": "code",
   "execution_count": 7,
   "id": "48f94b08-4d30-4a95-aa60-5579f4f97751",
   "metadata": {},
   "outputs": [
    {
     "data": {
      "text/plain": [
       "{'algo_convert': 0.318,\n",
       " 'bert_convert_unmasker_11': 0.299,\n",
       " 'bert_convert_unmasker_13': 0.299,\n",
       " 'bert_convert_unmasker_31': 0.254,\n",
       " 'bert_convert_unmasker_33': 0.254,\n",
       " 'infilling_11': 0.215,\n",
       " 'infilling_13': 0.35,\n",
       " 'infilling_31': 0.316,\n",
       " 'infilling_33': 0.389,\n",
       " 'raw_convert': 0.221,\n",
       " 'raw_tfidf': 0.221,\n",
       " 'roberta_convert_unmasker_11': 0.269,\n",
       " 'roberta_convert_unmasker_13': 0.269,\n",
       " 'roberta_convert_unmasker_31': 0.241,\n",
       " 'roberta_convert_unmasker_33': 0.241}"
      ]
     },
     "execution_count": 7,
     "metadata": {},
     "output_type": "execute_result"
    }
   ],
   "source": [
    "scores[0]['scores']['updown']"
   ]
  },
  {
   "cell_type": "code",
   "execution_count": 8,
   "id": "a19d4910-52dc-4f70-a706-27e4ceba976f",
   "metadata": {},
   "outputs": [],
   "source": [
    "scores_2 = list()\n",
    "\n",
    "for sample in scores:\n",
    "    new_sample = sample\n",
    "    new_scores = dict() \n",
    "    test_algos = ['raw_convert', 'raw_tfidf', 'bert_convert_unmasker_11']\n",
    "    # unique = len(set(sample['preds'].values()))\n",
    "    \n",
    "    for metric, values in sample['scores'].items():\n",
    "        new_scores[metric] = {}\n",
    "        \n",
    "        new_scores[metric] = {algo: values[algo] for algo in values if algo in test_algos}\n",
    "        \n",
    "    new_sample['scores'] = new_scores\n",
    "    scores_2.append(new_sample)"
   ]
  },
  {
   "cell_type": "code",
   "execution_count": 9,
   "id": "0877df26-a03b-4d77-9500-959fdadedb8c",
   "metadata": {},
   "outputs": [],
   "source": [
    "scores_only = [sample['scores'] for sample in scores_2]"
   ]
  },
  {
   "cell_type": "code",
   "execution_count": 10,
   "id": "61f5afda-a5ea-42d3-95b8-46889723c5ed",
   "metadata": {},
   "outputs": [
    {
     "data": {
      "text/plain": [
       "Index(['updown.bert_convert_unmasker_11', 'updown.raw_convert',\n",
       "       'updown.raw_tfidf', 'depth.bert_convert_unmasker_11',\n",
       "       'depth.raw_convert', 'depth.raw_tfidf',\n",
       "       'width.bert_convert_unmasker_11', 'width.raw_convert',\n",
       "       'width.raw_tfidf', 'human-vs-rand.bert_convert_unmasker_11',\n",
       "       'human-vs-rand.raw_convert', 'human-vs-rand.raw_tfidf',\n",
       "       'human-vs-machine.bert_convert_unmasker_11',\n",
       "       'human-vs-machine.raw_convert', 'human-vs-machine.raw_tfidf'],\n",
       "      dtype='object')"
      ]
     },
     "execution_count": 10,
     "metadata": {},
     "output_type": "execute_result"
    }
   ],
   "source": [
    "df = pd.json_normalize(scores_only)\n",
    "df.columns"
   ]
  },
  {
   "cell_type": "code",
   "execution_count": 11,
   "id": "b46a2eca-6ed3-4c1d-b91f-a782c761ec5c",
   "metadata": {},
   "outputs": [
    {
     "data": {
      "text/plain": [
       "['bert_convert_unmasker_11', 'raw_convert', 'raw_tfidf']"
      ]
     },
     "execution_count": 11,
     "metadata": {},
     "output_type": "execute_result"
    }
   ],
   "source": [
    "algo_names = [name[7:] for name in df.columns[0:3]]\n",
    "algo_names"
   ]
  },
  {
   "cell_type": "code",
   "execution_count": 12,
   "id": "d2e403a2-13af-4158-b338-25317e8050f8",
   "metadata": {},
   "outputs": [
    {
     "data": {
      "text/plain": [
       "updown.raw_tfidf                   0.3720\n",
       "updown.bert_convert_unmasker_11    0.3687\n",
       "updown.raw_convert                 0.3639\n",
       "dtype: float64"
      ]
     },
     "execution_count": 12,
     "metadata": {},
     "output_type": "execute_result"
    }
   ],
   "source": [
    "df.iloc[:, :3].mean().round(4).sort_values(ascending=False)"
   ]
  },
  {
   "cell_type": "code",
   "execution_count": null,
   "id": "591d713e-426c-420e-8f2d-43980a5fff4b",
   "metadata": {},
   "outputs": [],
   "source": []
  },
  {
   "cell_type": "code",
   "execution_count": 13,
   "id": "a08dd331-9cc1-4b49-a49e-753ecbf5b078",
   "metadata": {},
   "outputs": [],
   "source": [
    "best, worst = voting(df.iloc[:, :3].values, algo_names)"
   ]
  },
  {
   "cell_type": "code",
   "execution_count": 14,
   "id": "2c7a8ddc-779b-430b-8561-53f8acbbf624",
   "metadata": {},
   "outputs": [
    {
     "data": {
      "text/plain": [
       "(                       algo  votes\n",
       " 2                 raw_tfidf   1980\n",
       " 0  bert_convert_unmasker_11   1750\n",
       " 1               raw_convert   1740,\n",
       "                        algo  votes\n",
       " 1               raw_convert   1937\n",
       " 0  bert_convert_unmasker_11   1811\n",
       " 2                 raw_tfidf   1653)"
      ]
     },
     "execution_count": 14,
     "metadata": {},
     "output_type": "execute_result"
    }
   ],
   "source": [
    "best.head(3), worst.head(3)"
   ]
  },
  {
   "cell_type": "code",
   "execution_count": 15,
   "id": "4125ac5d-0edb-4521-b7e4-b4d1226f3798",
   "metadata": {},
   "outputs": [],
   "source": [
    "best_algos['updown'] = best.values\n",
    "worst_algos['updown'] = worst.values"
   ]
  },
  {
   "cell_type": "code",
   "execution_count": 16,
   "id": "47706f70-20f8-4937-9a66-8f679af4445f",
   "metadata": {},
   "outputs": [
    {
     "data": {
      "text/plain": [
       "{'updown': array([['raw_tfidf', 1980],\n",
       "        ['bert_convert_unmasker_11', 1750],\n",
       "        ['raw_convert', 1740]], dtype=object)}"
      ]
     },
     "execution_count": 16,
     "metadata": {},
     "output_type": "execute_result"
    }
   ],
   "source": [
    "best_algos"
   ]
  },
  {
   "cell_type": "code",
   "execution_count": 17,
   "id": "a088fccc-8d87-4db4-87df-b7beda0ef206",
   "metadata": {},
   "outputs": [
    {
     "data": {
      "text/plain": [
       "depth.bert_convert_unmasker_11    0.5370\n",
       "depth.raw_convert                 0.5367\n",
       "depth.raw_tfidf                   0.5092\n",
       "dtype: float64"
      ]
     },
     "execution_count": 17,
     "metadata": {},
     "output_type": "execute_result"
    }
   ],
   "source": [
    "df.iloc[:, 3:6].mean().round(4).sort_values(ascending=False)"
   ]
  },
  {
   "cell_type": "code",
   "execution_count": 18,
   "id": "151dd4ae-e9b9-4906-93ce-8d8e0e566b31",
   "metadata": {},
   "outputs": [],
   "source": [
    "best, worst = voting(df.iloc[:, 3:6].values, algo_names)"
   ]
  },
  {
   "cell_type": "code",
   "execution_count": 19,
   "id": "e1377822-63ca-493b-a7b9-6c5e8745c31e",
   "metadata": {},
   "outputs": [
    {
     "data": {
      "text/plain": [
       "(                       algo  votes\n",
       " 1               raw_convert   2069\n",
       " 0  bert_convert_unmasker_11   1857\n",
       " 2                 raw_tfidf   1543,\n",
       "                        algo  votes\n",
       " 2                 raw_tfidf   2143\n",
       " 0  bert_convert_unmasker_11   1622\n",
       " 1               raw_convert   1618)"
      ]
     },
     "execution_count": 19,
     "metadata": {},
     "output_type": "execute_result"
    }
   ],
   "source": [
    "best.head(3), worst.head(3)"
   ]
  },
  {
   "cell_type": "code",
   "execution_count": 20,
   "id": "909b8437-16aa-484b-a67c-53b5910ccf9f",
   "metadata": {},
   "outputs": [],
   "source": [
    "best_algos['depth'] = best.values\n",
    "worst_algos['depth'] = worst.values"
   ]
  },
  {
   "cell_type": "code",
   "execution_count": 21,
   "id": "810b0f27-c770-45c2-9512-ad0536de95de",
   "metadata": {},
   "outputs": [
    {
     "data": {
      "text/plain": [
       "width.bert_convert_unmasker_11    0.6260\n",
       "width.raw_convert                 0.6184\n",
       "width.raw_tfidf                   0.5946\n",
       "dtype: float64"
      ]
     },
     "execution_count": 21,
     "metadata": {},
     "output_type": "execute_result"
    }
   ],
   "source": [
    "df.iloc[:, 6:9].mean().round(4).sort_values(ascending=False)"
   ]
  },
  {
   "cell_type": "code",
   "execution_count": 22,
   "id": "92ed9e7c-8cef-4ded-81b7-06a7cc97f56f",
   "metadata": {},
   "outputs": [],
   "source": [
    "best, worst = voting(df.iloc[:, 6:9].values, algo_names)"
   ]
  },
  {
   "cell_type": "code",
   "execution_count": 23,
   "id": "7a5980c7-437b-43b3-b753-15a6527f2a28",
   "metadata": {},
   "outputs": [
    {
     "data": {
      "text/plain": [
       "(                       algo  votes\n",
       " 1               raw_convert   2027\n",
       " 0  bert_convert_unmasker_11   1907\n",
       " 2                 raw_tfidf   1515,\n",
       "                        algo  votes\n",
       " 2                 raw_tfidf   2175\n",
       " 1               raw_convert   1703\n",
       " 0  bert_convert_unmasker_11   1525)"
      ]
     },
     "execution_count": 23,
     "metadata": {},
     "output_type": "execute_result"
    }
   ],
   "source": [
    "best.head(3), worst.head(3)"
   ]
  },
  {
   "cell_type": "code",
   "execution_count": 24,
   "id": "1de9fe91-ba95-44b2-9098-b83ff98e544a",
   "metadata": {},
   "outputs": [],
   "source": [
    "best_algos['width'] = best.values\n",
    "worst_algos['width'] = worst.values"
   ]
  },
  {
   "cell_type": "code",
   "execution_count": 25,
   "id": "30f2dec7-6e9b-4596-995c-dbb41c20222b",
   "metadata": {},
   "outputs": [
    {
     "data": {
      "text/plain": [
       "human-vs-rand.raw_convert                 0.9427\n",
       "human-vs-rand.bert_convert_unmasker_11    0.8634\n",
       "human-vs-rand.raw_tfidf                   0.8238\n",
       "dtype: float64"
      ]
     },
     "execution_count": 25,
     "metadata": {},
     "output_type": "execute_result"
    }
   ],
   "source": [
    "df.iloc[:, 9:12].mean().round(4).sort_values(ascending=False)"
   ]
  },
  {
   "cell_type": "code",
   "execution_count": 26,
   "id": "b9f4c309-6e8b-47d7-951c-ada700e8ffb9",
   "metadata": {},
   "outputs": [],
   "source": [
    "best, worst = voting(df.iloc[:, 9:12].values, algo_names)"
   ]
  },
  {
   "cell_type": "code",
   "execution_count": 27,
   "id": "ff2dbd01-4f5a-4f87-8c17-0917010822af",
   "metadata": {},
   "outputs": [
    {
     "data": {
      "text/plain": [
       "(                       algo  votes\n",
       " 1               raw_convert   3047\n",
       " 0  bert_convert_unmasker_11   1690\n",
       " 2                 raw_tfidf   1568,\n",
       "                        algo  votes\n",
       " 2                 raw_tfidf   2539\n",
       " 0  bert_convert_unmasker_11   2170\n",
       " 1               raw_convert    911)"
      ]
     },
     "execution_count": 27,
     "metadata": {},
     "output_type": "execute_result"
    }
   ],
   "source": [
    "best.head(3), worst.head(3)"
   ]
  },
  {
   "cell_type": "code",
   "execution_count": 28,
   "id": "05eef2ad-953b-42fa-8735-ebd980271f2e",
   "metadata": {},
   "outputs": [],
   "source": [
    "best_algos['human-vs-rand'] = best.values\n",
    "worst_algos['human-vs-rand'] = worst.values"
   ]
  },
  {
   "cell_type": "code",
   "execution_count": 29,
   "id": "5014d4e6-1d12-491d-a7b5-10638066cdce",
   "metadata": {},
   "outputs": [
    {
     "data": {
      "text/plain": [
       "human-vs-machine.bert_convert_unmasker_11    0.9905\n",
       "human-vs-machine.raw_convert                 0.9869\n",
       "human-vs-machine.raw_tfidf                   0.9799\n",
       "dtype: float64"
      ]
     },
     "execution_count": 29,
     "metadata": {},
     "output_type": "execute_result"
    }
   ],
   "source": [
    "df.iloc[:, 12:15].mean().round(4).sort_values(ascending=False)"
   ]
  },
  {
   "cell_type": "code",
   "execution_count": 30,
   "id": "7fe04119-4d8c-4620-98ee-8d4372a24363",
   "metadata": {},
   "outputs": [],
   "source": [
    "best, worst = voting(df.iloc[:, 12:75].values, algo_names)"
   ]
  },
  {
   "cell_type": "code",
   "execution_count": 31,
   "id": "da6d2481-8646-455d-b863-a51a93ccf38d",
   "metadata": {},
   "outputs": [
    {
     "data": {
      "text/plain": [
       "(                       algo  votes\n",
       " 0  bert_convert_unmasker_11   4047\n",
       " 1               raw_convert   3586\n",
       " 2                 raw_tfidf   2508,\n",
       "                        algo  votes\n",
       " 2                 raw_tfidf   4077\n",
       " 1               raw_convert   2783\n",
       " 0  bert_convert_unmasker_11   2435)"
      ]
     },
     "execution_count": 31,
     "metadata": {},
     "output_type": "execute_result"
    }
   ],
   "source": [
    "best.head(3), worst.head(3)"
   ]
  },
  {
   "cell_type": "code",
   "execution_count": 32,
   "id": "b3a769eb-db0c-434d-8b95-3cb44a195c49",
   "metadata": {},
   "outputs": [],
   "source": [
    "best_algos['human-vs-machine'] = best.values\n",
    "worst_algos['human-vs-machine'] = worst.values"
   ]
  },
  {
   "cell_type": "code",
   "execution_count": 33,
   "id": "aca52f17-ab7c-4258-aa3e-43739a9bcf81",
   "metadata": {},
   "outputs": [
    {
     "data": {
      "text/plain": [
       "{'updown': array([['raw_tfidf', 1980],\n",
       "        ['bert_convert_unmasker_11', 1750],\n",
       "        ['raw_convert', 1740]], dtype=object),\n",
       " 'depth': array([['raw_convert', 2069],\n",
       "        ['bert_convert_unmasker_11', 1857],\n",
       "        ['raw_tfidf', 1543]], dtype=object),\n",
       " 'width': array([['raw_convert', 2027],\n",
       "        ['bert_convert_unmasker_11', 1907],\n",
       "        ['raw_tfidf', 1515]], dtype=object),\n",
       " 'human-vs-rand': array([['raw_convert', 3047],\n",
       "        ['bert_convert_unmasker_11', 1690],\n",
       "        ['raw_tfidf', 1568]], dtype=object),\n",
       " 'human-vs-machine': array([['bert_convert_unmasker_11', 4047],\n",
       "        ['raw_convert', 3586],\n",
       "        ['raw_tfidf', 2508]], dtype=object)}"
      ]
     },
     "execution_count": 33,
     "metadata": {},
     "output_type": "execute_result"
    }
   ],
   "source": [
    "best_algos"
   ]
  },
  {
   "cell_type": "markdown",
   "id": "5983e7b4-5b82-4c19-a92f-d89938055731",
   "metadata": {},
   "source": [
    "### Evaluator"
   ]
  },
  {
   "cell_type": "code",
   "execution_count": 34,
   "id": "a0084dc3-b095-4df4-a84a-ebe022f362f3",
   "metadata": {},
   "outputs": [],
   "source": [
    "import operator\n",
    "\n",
    "def idx2labels(values, labels) -> dict:\n",
    "    output =  {labels[i]: value for i, value in enumerate(values)}\n",
    "    output = pd.DataFrame(output.items(), columns=['algo', 'votes']).sort_values(ascending=False, by='votes')\n",
    "    return output\n",
    "\n",
    "def voting(arr: np.ndarray, labels) -> tuple:\n",
    "    rows = np.array(range(arr.shape[0]), dtype=np.intp)\n",
    "    sorted_args = np.argsort(arr, axis=-1)\n",
    "\n",
    "    best = sorted_args[:,-1]\n",
    "    best = np.array(best, dtype=np.intp)[:, None]\n",
    "    best = arr[rows[:, np.newaxis], best]\n",
    "    best = 1 * (arr == best).sum(axis=0)\n",
    "    best = idx2labels(best, labels)\n",
    "\n",
    "    worst = sorted_args[:,0]\n",
    "    worst = np.array(worst, dtype=np.intp)[:, None]\n",
    "    worst = arr[rows[:, np.newaxis], worst]\n",
    "    worst = 1 * (arr == worst).sum(axis=0)\n",
    "    worst = idx2labels(worst, labels)\n",
    "    \n",
    "    return best, worst"
   ]
  },
  {
   "cell_type": "code",
   "execution_count": 35,
   "id": "7e863831-9970-45c7-941a-4d55952e01b3",
   "metadata": {},
   "outputs": [],
   "source": [
    "with open('data/scored_merged_preds_dp.json', 'r', encoding='utf8') as f:\n",
    "    scores = json.load(f)"
   ]
  },
  {
   "cell_type": "code",
   "execution_count": 36,
   "id": "1a1fe9f2-d5be-479c-86e2-9dc79f4a068d",
   "metadata": {},
   "outputs": [
    {
     "data": {
      "text/plain": [
       "{'isResponseComprehensible': 0.38,\n",
       " 'isResponseErroneous': 0.696,\n",
       " 'isResponseInteresting': 0.47,\n",
       " 'isResponseOnTopic': 0.064,\n",
       " 'responseEngagesUser': 0.564}"
      ]
     },
     "execution_count": 36,
     "metadata": {},
     "output_type": "execute_result"
    }
   ],
   "source": [
    "scores[0]['scores']['algo_convert']"
   ]
  },
  {
   "cell_type": "code",
   "execution_count": 37,
   "id": "ded0e674-6ebc-4e9a-9223-48171730230c",
   "metadata": {},
   "outputs": [],
   "source": [
    "scores_only = [sample['scores'] for sample in scores]"
   ]
  },
  {
   "cell_type": "code",
   "execution_count": 38,
   "id": "271ffd7e-854a-4831-acaf-e1070a15ee31",
   "metadata": {},
   "outputs": [],
   "source": [
    "scores = list()\n",
    "\n",
    "for sample in scores_only:\n",
    "    sample_new = dict()\n",
    "    algos=list(sample.keys())\n",
    "    metrics = list(sample[algos[0]].keys())\n",
    "    tested_algos = ['raw_convert', 'raw_tfidf', 'bert_convert_unmasker_11']\n",
    "    \n",
    "    for metric in metrics:\n",
    "        sample_new[metric] = {}\n",
    "        for algo in algos:\n",
    "            if algo not in test_algos:\n",
    "                continue\n",
    "            sample_new[metric][algo] = sample[algo][metric]\n",
    "            \n",
    "    scores.append(sample_new)"
   ]
  },
  {
   "cell_type": "code",
   "execution_count": 39,
   "id": "e0aef565-53f2-4c9a-939c-b9f825491f90",
   "metadata": {},
   "outputs": [],
   "source": [
    "df = pd.json_normalize(scores)"
   ]
  },
  {
   "cell_type": "code",
   "execution_count": 40,
   "id": "6493fc1a-3886-4751-ad3f-c94eb9286942",
   "metadata": {},
   "outputs": [
    {
     "data": {
      "text/plain": [
       "Index(['isResponseComprehensible.bert_convert_unmasker_11',\n",
       "       'isResponseComprehensible.raw_convert',\n",
       "       'isResponseComprehensible.raw_tfidf',\n",
       "       'isResponseErroneous.bert_convert_unmasker_11',\n",
       "       'isResponseErroneous.raw_convert', 'isResponseErroneous.raw_tfidf',\n",
       "       'isResponseInteresting.bert_convert_unmasker_11',\n",
       "       'isResponseInteresting.raw_convert', 'isResponseInteresting.raw_tfidf',\n",
       "       'isResponseOnTopic.bert_convert_unmasker_11',\n",
       "       'isResponseOnTopic.raw_convert', 'isResponseOnTopic.raw_tfidf',\n",
       "       'responseEngagesUser.bert_convert_unmasker_11',\n",
       "       'responseEngagesUser.raw_convert', 'responseEngagesUser.raw_tfidf'],\n",
       "      dtype='object')"
      ]
     },
     "execution_count": 40,
     "metadata": {},
     "output_type": "execute_result"
    }
   ],
   "source": [
    "df.columns"
   ]
  },
  {
   "cell_type": "code",
   "execution_count": 41,
   "id": "3df804d3-3bfc-46a9-b113-c76deb8b6b96",
   "metadata": {},
   "outputs": [],
   "source": [
    "algo_names = [label[25:] for label in df.columns[0:3]]"
   ]
  },
  {
   "cell_type": "code",
   "execution_count": 42,
   "id": "3f7b02ea-5127-41a6-8827-a08c3b407727",
   "metadata": {},
   "outputs": [
    {
     "data": {
      "text/plain": [
       "['bert_convert_unmasker_11', 'raw_convert', 'raw_tfidf']"
      ]
     },
     "execution_count": 42,
     "metadata": {},
     "output_type": "execute_result"
    }
   ],
   "source": [
    "algo_names"
   ]
  },
  {
   "cell_type": "code",
   "execution_count": 43,
   "id": "179833d1-70bc-4276-b886-86ba9a331fde",
   "metadata": {},
   "outputs": [
    {
     "data": {
      "text/plain": [
       "isResponseComprehensible.bert_convert_unmasker_11    0.3630\n",
       "isResponseComprehensible.raw_convert                 0.3592\n",
       "isResponseComprehensible.raw_tfidf                   0.3460\n",
       "dtype: float64"
      ]
     },
     "execution_count": 43,
     "metadata": {},
     "output_type": "execute_result"
    }
   ],
   "source": [
    "df.iloc[:, :3].mean().round(4).sort_values(ascending=False)"
   ]
  },
  {
   "cell_type": "code",
   "execution_count": 44,
   "id": "39803d4e-c314-410d-bfa2-19449ea5ad47",
   "metadata": {},
   "outputs": [
    {
     "data": {
      "text/plain": [
       "(                       algo  votes\n",
       " 0  bert_convert_unmasker_11   2340\n",
       " 1               raw_convert   2014\n",
       " 2                 raw_tfidf   1576,\n",
       "                        algo  votes\n",
       " 2                 raw_tfidf   2434\n",
       " 1               raw_convert   1826\n",
       " 0  bert_convert_unmasker_11   1676)"
      ]
     },
     "execution_count": 44,
     "metadata": {},
     "output_type": "execute_result"
    }
   ],
   "source": [
    "best, worst = voting(df.iloc[:, :3].values, algo_names)\n",
    "best.head(3), worst.head(3)"
   ]
  },
  {
   "cell_type": "code",
   "execution_count": 45,
   "id": "d3089f3d-4483-4e9a-9567-3eac5d7ce933",
   "metadata": {},
   "outputs": [],
   "source": [
    "best_algos['isComprehensible'] = best.values\n",
    "worst_algos['isComprehensible'] = worst.values"
   ]
  },
  {
   "cell_type": "code",
   "execution_count": 46,
   "id": "69663287-cc45-4bec-b39f-c8a39c8e6a7b",
   "metadata": {},
   "outputs": [
    {
     "data": {
      "text/plain": [
       "isResponseErroneous.raw_tfidf                   0.6324\n",
       "isResponseErroneous.bert_convert_unmasker_11    0.6150\n",
       "isResponseErroneous.raw_convert                 0.6109\n",
       "dtype: float64"
      ]
     },
     "execution_count": 46,
     "metadata": {},
     "output_type": "execute_result"
    }
   ],
   "source": [
    "df.iloc[:, 3:6].mean().round(4).sort_values(ascending=False)"
   ]
  },
  {
   "cell_type": "code",
   "execution_count": 47,
   "id": "8a6f4f05-b88b-4a9f-8a34-f8869d2435a6",
   "metadata": {},
   "outputs": [
    {
     "data": {
      "text/plain": [
       "(                       algo  votes\n",
       " 2                 raw_tfidf   2304\n",
       " 0  bert_convert_unmasker_11   1864\n",
       " 1               raw_convert   1748,\n",
       "                        algo  votes\n",
       " 1               raw_convert   2158\n",
       " 0  bert_convert_unmasker_11   2141\n",
       " 2                 raw_tfidf   1617)"
      ]
     },
     "execution_count": 47,
     "metadata": {},
     "output_type": "execute_result"
    }
   ],
   "source": [
    "best, worst = voting(df.iloc[:, 3:6].values, algo_names)\n",
    "best.head(3), worst.head(3)"
   ]
  },
  {
   "cell_type": "code",
   "execution_count": 48,
   "id": "3df10553-a598-46b9-8f8c-11bfc6fe818e",
   "metadata": {},
   "outputs": [],
   "source": [
    "best_algos['isErroneous'] = best.values\n",
    "worst_algos['isErroneous'] = worst.values"
   ]
  },
  {
   "cell_type": "code",
   "execution_count": 49,
   "id": "daee7b14-aba8-4b7b-b1c0-7e0b1e15f8d9",
   "metadata": {},
   "outputs": [
    {
     "data": {
      "text/plain": [
       "isResponseInteresting.bert_convert_unmasker_11    0.4632\n",
       "isResponseInteresting.raw_convert                 0.4594\n",
       "isResponseInteresting.raw_tfidf                   0.4373\n",
       "dtype: float64"
      ]
     },
     "execution_count": 49,
     "metadata": {},
     "output_type": "execute_result"
    }
   ],
   "source": [
    "df.iloc[:, 6:9].mean().round(4).sort_values(ascending=False)"
   ]
  },
  {
   "cell_type": "code",
   "execution_count": 50,
   "id": "c3dfbe35-7c10-4bd3-9ea7-94d951043bdd",
   "metadata": {},
   "outputs": [
    {
     "data": {
      "text/plain": [
       "(                       algo  votes\n",
       " 0  bert_convert_unmasker_11   2327\n",
       " 1               raw_convert   2122\n",
       " 2                 raw_tfidf   1450,\n",
       "                        algo  votes\n",
       " 2                 raw_tfidf   2601\n",
       " 1               raw_convert   1721\n",
       " 0  bert_convert_unmasker_11   1630)"
      ]
     },
     "execution_count": 50,
     "metadata": {},
     "output_type": "execute_result"
    }
   ],
   "source": [
    "best, worst = voting(df.iloc[:, 6:9].values, algo_names)\n",
    "best.head(3), worst.head(3)"
   ]
  },
  {
   "cell_type": "code",
   "execution_count": 51,
   "id": "50477ad7-a96f-42bc-9eb0-17cff14222c6",
   "metadata": {},
   "outputs": [],
   "source": [
    "best_algos['isInteresting'] = best.values\n",
    "worst_algos['isInteresting'] = worst.values"
   ]
  },
  {
   "cell_type": "code",
   "execution_count": 52,
   "id": "d276bebe-1dd4-46cd-bc51-71c1db307321",
   "metadata": {},
   "outputs": [
    {
     "data": {
      "text/plain": [
       "isResponseOnTopic.bert_convert_unmasker_11    0.1548\n",
       "isResponseOnTopic.raw_tfidf                   0.1515\n",
       "isResponseOnTopic.raw_convert                 0.1474\n",
       "dtype: float64"
      ]
     },
     "execution_count": 52,
     "metadata": {},
     "output_type": "execute_result"
    }
   ],
   "source": [
    "df.iloc[:, 9:12].mean().round(4).sort_values(ascending=False)"
   ]
  },
  {
   "cell_type": "code",
   "execution_count": 53,
   "id": "61f2d531-20dd-4941-b96d-ee7d8a813e48",
   "metadata": {},
   "outputs": [
    {
     "data": {
      "text/plain": [
       "(                       algo  votes\n",
       " 0  bert_convert_unmasker_11   2268\n",
       " 1               raw_convert   1908\n",
       " 2                 raw_tfidf   1874,\n",
       "                        algo  votes\n",
       " 2                 raw_tfidf   2219\n",
       " 1               raw_convert   2106\n",
       " 0  bert_convert_unmasker_11   1794)"
      ]
     },
     "execution_count": 53,
     "metadata": {},
     "output_type": "execute_result"
    }
   ],
   "source": [
    "best, worst = voting(df.iloc[:, 9:12].values, algo_names)\n",
    "best.head(3), worst.head(3)"
   ]
  },
  {
   "cell_type": "code",
   "execution_count": 54,
   "id": "2571cb69-7e0f-4e94-85c8-653360d4092e",
   "metadata": {},
   "outputs": [],
   "source": [
    "best_algos['isOnTopic'] = best.values\n",
    "worst_algos['isOnTopic'] = worst.values"
   ]
  },
  {
   "cell_type": "code",
   "execution_count": 55,
   "id": "157fb8c8-1846-4b03-8c29-f3d9a7d24e2f",
   "metadata": {},
   "outputs": [
    {
     "data": {
      "text/plain": [
       "responseEngagesUser.bert_convert_unmasker_11    0.6657\n",
       "responseEngagesUser.raw_convert                 0.6633\n",
       "responseEngagesUser.raw_tfidf                   0.6470\n",
       "dtype: float64"
      ]
     },
     "execution_count": 55,
     "metadata": {},
     "output_type": "execute_result"
    }
   ],
   "source": [
    "df.iloc[:, 12:15].mean().round(4).sort_values(ascending=False)"
   ]
  },
  {
   "cell_type": "code",
   "execution_count": 56,
   "id": "22da2874-764d-4c86-b1c1-8c67152b34a2",
   "metadata": {},
   "outputs": [
    {
     "data": {
      "text/plain": [
       "(                       algo  votes\n",
       " 1               raw_convert   2113\n",
       " 0  bert_convert_unmasker_11   2100\n",
       " 2                 raw_tfidf   1773,\n",
       "                        algo  votes\n",
       " 2                 raw_tfidf   2230\n",
       " 1               raw_convert   1866\n",
       " 0  bert_convert_unmasker_11   1849)"
      ]
     },
     "execution_count": 56,
     "metadata": {},
     "output_type": "execute_result"
    }
   ],
   "source": [
    "best, worst = voting(df.iloc[:, 12:15].values, algo_names)\n",
    "best.head(3), worst.head(3)"
   ]
  },
  {
   "cell_type": "code",
   "execution_count": 57,
   "id": "f4ed2cbd-791c-43c1-9971-e56830565889",
   "metadata": {},
   "outputs": [],
   "source": [
    "best_algos['EngagesUser'] = best.values\n",
    "worst_algos['EngagesUser'] = worst.values"
   ]
  },
  {
   "cell_type": "code",
   "execution_count": 58,
   "id": "794e3849-3b66-422e-87a5-8de992d974f8",
   "metadata": {},
   "outputs": [
    {
     "data": {
      "text/plain": [
       "{'updown': array([['raw_tfidf', 1980],\n",
       "        ['bert_convert_unmasker_11', 1750],\n",
       "        ['raw_convert', 1740]], dtype=object),\n",
       " 'depth': array([['raw_convert', 2069],\n",
       "        ['bert_convert_unmasker_11', 1857],\n",
       "        ['raw_tfidf', 1543]], dtype=object),\n",
       " 'width': array([['raw_convert', 2027],\n",
       "        ['bert_convert_unmasker_11', 1907],\n",
       "        ['raw_tfidf', 1515]], dtype=object),\n",
       " 'human-vs-rand': array([['raw_convert', 3047],\n",
       "        ['bert_convert_unmasker_11', 1690],\n",
       "        ['raw_tfidf', 1568]], dtype=object),\n",
       " 'human-vs-machine': array([['bert_convert_unmasker_11', 4047],\n",
       "        ['raw_convert', 3586],\n",
       "        ['raw_tfidf', 2508]], dtype=object),\n",
       " 'isComprehensible': array([['bert_convert_unmasker_11', 2340],\n",
       "        ['raw_convert', 2014],\n",
       "        ['raw_tfidf', 1576]], dtype=object),\n",
       " 'isErroneous': array([['raw_tfidf', 2304],\n",
       "        ['bert_convert_unmasker_11', 1864],\n",
       "        ['raw_convert', 1748]], dtype=object),\n",
       " 'isInteresting': array([['bert_convert_unmasker_11', 2327],\n",
       "        ['raw_convert', 2122],\n",
       "        ['raw_tfidf', 1450]], dtype=object),\n",
       " 'isOnTopic': array([['bert_convert_unmasker_11', 2268],\n",
       "        ['raw_convert', 1908],\n",
       "        ['raw_tfidf', 1874]], dtype=object),\n",
       " 'EngagesUser': array([['raw_convert', 2113],\n",
       "        ['bert_convert_unmasker_11', 2100],\n",
       "        ['raw_tfidf', 1773]], dtype=object)}"
      ]
     },
     "execution_count": 58,
     "metadata": {},
     "output_type": "execute_result"
    }
   ],
   "source": [
    "best_algos"
   ]
  },
  {
   "cell_type": "code",
   "execution_count": 59,
   "id": "efc3c885-355b-49c2-bcf1-1753770d5d8e",
   "metadata": {},
   "outputs": [],
   "source": [
    "sorted_best_algos = dict()\n",
    "\n",
    "tmp = best_algos\n",
    "\n",
    "for metric in tmp:    \n",
    "    sorted_best_algos[metric] = tmp[metric][tmp[metric][:, 0].argsort()]"
   ]
  },
  {
   "cell_type": "code",
   "execution_count": 60,
   "id": "7f013233-b922-49c5-b1cf-50aa075e8156",
   "metadata": {},
   "outputs": [
    {
     "data": {
      "text/plain": [
       "{'updown': array([['bert_convert_unmasker_11', 1750],\n",
       "        ['raw_convert', 1740],\n",
       "        ['raw_tfidf', 1980]], dtype=object),\n",
       " 'depth': array([['bert_convert_unmasker_11', 1857],\n",
       "        ['raw_convert', 2069],\n",
       "        ['raw_tfidf', 1543]], dtype=object),\n",
       " 'width': array([['bert_convert_unmasker_11', 1907],\n",
       "        ['raw_convert', 2027],\n",
       "        ['raw_tfidf', 1515]], dtype=object),\n",
       " 'human-vs-rand': array([['bert_convert_unmasker_11', 1690],\n",
       "        ['raw_convert', 3047],\n",
       "        ['raw_tfidf', 1568]], dtype=object),\n",
       " 'human-vs-machine': array([['bert_convert_unmasker_11', 4047],\n",
       "        ['raw_convert', 3586],\n",
       "        ['raw_tfidf', 2508]], dtype=object),\n",
       " 'isComprehensible': array([['bert_convert_unmasker_11', 2340],\n",
       "        ['raw_convert', 2014],\n",
       "        ['raw_tfidf', 1576]], dtype=object),\n",
       " 'isErroneous': array([['bert_convert_unmasker_11', 1864],\n",
       "        ['raw_convert', 1748],\n",
       "        ['raw_tfidf', 2304]], dtype=object),\n",
       " 'isInteresting': array([['bert_convert_unmasker_11', 2327],\n",
       "        ['raw_convert', 2122],\n",
       "        ['raw_tfidf', 1450]], dtype=object),\n",
       " 'isOnTopic': array([['bert_convert_unmasker_11', 2268],\n",
       "        ['raw_convert', 1908],\n",
       "        ['raw_tfidf', 1874]], dtype=object),\n",
       " 'EngagesUser': array([['bert_convert_unmasker_11', 2100],\n",
       "        ['raw_convert', 2113],\n",
       "        ['raw_tfidf', 1773]], dtype=object)}"
      ]
     },
     "execution_count": 60,
     "metadata": {},
     "output_type": "execute_result"
    }
   ],
   "source": [
    "sorted_best_algos"
   ]
  },
  {
   "cell_type": "code",
   "execution_count": 61,
   "id": "a71cfa1c-0236-4fdb-b940-284b34a2f010",
   "metadata": {},
   "outputs": [
    {
     "name": "stdout",
     "output_type": "stream",
     "text": [
      "[['raw_tfidf' 1980]\n",
      " ['bert_convert_unmasker_11' 1750]\n",
      " ['raw_convert' 1740]]\n",
      "[['bert_convert_unmasker_11' 1750]\n",
      " ['raw_convert' 1740]\n",
      " ['raw_tfidf' 1980]]\n",
      "\n",
      "\n",
      "[['raw_convert' 2069]\n",
      " ['bert_convert_unmasker_11' 1857]\n",
      " ['raw_tfidf' 1543]]\n",
      "[['bert_convert_unmasker_11' 1857]\n",
      " ['raw_convert' 2069]\n",
      " ['raw_tfidf' 1543]]\n",
      "\n",
      "\n",
      "[['raw_convert' 2027]\n",
      " ['bert_convert_unmasker_11' 1907]\n",
      " ['raw_tfidf' 1515]]\n",
      "[['bert_convert_unmasker_11' 1907]\n",
      " ['raw_convert' 2027]\n",
      " ['raw_tfidf' 1515]]\n",
      "\n",
      "\n",
      "[['raw_convert' 3047]\n",
      " ['bert_convert_unmasker_11' 1690]\n",
      " ['raw_tfidf' 1568]]\n",
      "[['bert_convert_unmasker_11' 1690]\n",
      " ['raw_convert' 3047]\n",
      " ['raw_tfidf' 1568]]\n",
      "\n",
      "\n",
      "[['bert_convert_unmasker_11' 4047]\n",
      " ['raw_convert' 3586]\n",
      " ['raw_tfidf' 2508]]\n",
      "[['bert_convert_unmasker_11' 4047]\n",
      " ['raw_convert' 3586]\n",
      " ['raw_tfidf' 2508]]\n",
      "\n",
      "\n",
      "[['bert_convert_unmasker_11' 2340]\n",
      " ['raw_convert' 2014]\n",
      " ['raw_tfidf' 1576]]\n",
      "[['bert_convert_unmasker_11' 2340]\n",
      " ['raw_convert' 2014]\n",
      " ['raw_tfidf' 1576]]\n",
      "\n",
      "\n",
      "[['raw_tfidf' 2304]\n",
      " ['bert_convert_unmasker_11' 1864]\n",
      " ['raw_convert' 1748]]\n",
      "[['bert_convert_unmasker_11' 1864]\n",
      " ['raw_convert' 1748]\n",
      " ['raw_tfidf' 2304]]\n",
      "\n",
      "\n",
      "[['bert_convert_unmasker_11' 2327]\n",
      " ['raw_convert' 2122]\n",
      " ['raw_tfidf' 1450]]\n",
      "[['bert_convert_unmasker_11' 2327]\n",
      " ['raw_convert' 2122]\n",
      " ['raw_tfidf' 1450]]\n",
      "\n",
      "\n",
      "[['bert_convert_unmasker_11' 2268]\n",
      " ['raw_convert' 1908]\n",
      " ['raw_tfidf' 1874]]\n",
      "[['bert_convert_unmasker_11' 2268]\n",
      " ['raw_convert' 1908]\n",
      " ['raw_tfidf' 1874]]\n",
      "\n",
      "\n",
      "[['raw_convert' 2113]\n",
      " ['bert_convert_unmasker_11' 2100]\n",
      " ['raw_tfidf' 1773]]\n",
      "[['bert_convert_unmasker_11' 2100]\n",
      " ['raw_convert' 2113]\n",
      " ['raw_tfidf' 1773]]\n",
      "\n",
      "\n"
     ]
    }
   ],
   "source": [
    "for metric in best_algos:\n",
    "    print(best_algos[metric])    \n",
    "    print(sorted_best_algos[metric])\n",
    "    print('\\n')"
   ]
  },
  {
   "cell_type": "code",
   "execution_count": 76,
   "id": "cd8f25d5-089b-4d78-a1e6-2db75c5a1694",
   "metadata": {},
   "outputs": [
    {
     "data": {
      "image/png": "[encoded data removed]",
      "text/plain": [
       "<Figure size 1080x360 with 1 Axes>"
      ]
     },
     "metadata": {
      "needs_background": "light"
     },
     "output_type": "display_data"
    }
   ],
   "source": [
    "import matplotlib.pyplot as plt\n",
    "\n",
    "metrics = list(sorted_best_algos.keys())\n",
    "\n",
    "ind = np.arange(len(metrics)) \n",
    "width = 0.25\n",
    "\n",
    "colors = ['tab:gray', 'k', 'w']\n",
    "\n",
    "vals = [sorted_best_algos[metric][:,1].squeeze() for metric in metrics]\n",
    "\n",
    "bert_vals = [val[0] for val in vals]\n",
    "convert_vals = [val[1] for val in vals]\n",
    "tfidf_vals = [val[2] for val in vals]\n",
    "\n",
    "plt.figure(figsize=(15,5))\n",
    "bar1 = plt.bar(ind, bert_vals, width, color = 'tab:gray', edgecolor = \"k\")\n",
    "bar2 = plt.bar(ind+width, convert_vals, width, color='k', edgecolor = \"k\")\n",
    "bar3 = plt.bar(ind+width*2, tfidf_vals, width, color = 'w', edgecolor = \"k\")\n",
    "  \n",
    "# plt.xlabel(\"metrics\")\n",
    "plt.ylabel('number of votes')\n",
    "# plt.title(\"Sample-based Evaluation\")\n",
    "  \n",
    "plt.xticks(ind+width,metrics, rotation=15)\n",
    "plt.legend( (bar1, bar2, bar3), ('BERT', 'raw ConveRT', 'raw TfIdf') )\n",
    "plt.set_cmap(\"Greys\")\n",
    "\n",
    "plt.savefig('img/votes.png')\n",
    "plt.show()"
   ]
  },
  {
   "cell_type": "code",
   "execution_count": null,
   "id": "b7e1dd9f-4917-484c-92dd-91c641fb158d",
   "metadata": {},
   "outputs": [],
   "source": []
  },
  {
   "cell_type": "markdown",
   "id": "f99a9a08-f2d9-4977-a401-71b0e3ce2009",
   "metadata": {
    "jp-MarkdownHeadingCollapsed": true,
    "tags": []
   },
   "source": [
    "#### updown"
   ]
  },
  {
   "cell_type": "code",
   "execution_count": 110,
   "id": "11ff7a82-b7c1-4fa4-81b2-1a9104f27d56",
   "metadata": {},
   "outputs": [
    {
     "data": {
      "text/html": [
       "<div>\n",
       "<style scoped>\n",
       "    .dataframe tbody tr th:only-of-type {\n",
       "        vertical-align: middle;\n",
       "    }\n",
       "\n",
       "    .dataframe tbody tr th {\n",
       "        vertical-align: top;\n",
       "    }\n",
       "\n",
       "    .dataframe thead th {\n",
       "        text-align: right;\n",
       "    }\n",
       "</style>\n",
       "<table border=\"1\" class=\"dataframe\">\n",
       "  <thead>\n",
       "    <tr style=\"text-align: right;\">\n",
       "      <th></th>\n",
       "      <th>scores.updown.algo_convert</th>\n",
       "      <th>scores.updown.algo_convert_common_tokens</th>\n",
       "      <th>scores.updown.algo_convert_midas_sampler</th>\n",
       "      <th>scores.updown.algo_convert_nd</th>\n",
       "      <th>scores.updown.algo_rpt</th>\n",
       "      <th>scores.updown.bert_convert</th>\n",
       "      <th>scores.updown.bert_convert_unmasker_11</th>\n",
       "      <th>scores.updown.bert_convert_unmasker_13</th>\n",
       "      <th>scores.updown.bert_convert_unmasker_31</th>\n",
       "      <th>scores.updown.bert_convert_unmasker_33</th>\n",
       "      <th>scores.updown.raw_convert</th>\n",
       "      <th>scores.updown.raw_tfidf</th>\n",
       "    </tr>\n",
       "  </thead>\n",
       "  <tbody>\n",
       "    <tr>\n",
       "      <th>count</th>\n",
       "      <td>5206.000000</td>\n",
       "      <td>5206.000000</td>\n",
       "      <td>5206.000000</td>\n",
       "      <td>5206.000000</td>\n",
       "      <td>5206.000000</td>\n",
       "      <td>5206.000000</td>\n",
       "      <td>5206.000000</td>\n",
       "      <td>5206.000000</td>\n",
       "      <td>5206.000000</td>\n",
       "      <td>5206.000000</td>\n",
       "      <td>5206.000000</td>\n",
       "      <td>5206.000000</td>\n",
       "    </tr>\n",
       "    <tr>\n",
       "      <th>mean</th>\n",
       "      <td>0.370070</td>\n",
       "      <td>0.383944</td>\n",
       "      <td>0.371053</td>\n",
       "      <td>0.372833</td>\n",
       "      <td>0.367516</td>\n",
       "      <td>0.370011</td>\n",
       "      <td>0.370302</td>\n",
       "      <td>0.368414</td>\n",
       "      <td>0.373224</td>\n",
       "      <td>0.369961</td>\n",
       "      <td>0.369379</td>\n",
       "      <td>0.375060</td>\n",
       "    </tr>\n",
       "    <tr>\n",
       "      <th>std</th>\n",
       "      <td>0.096629</td>\n",
       "      <td>0.075323</td>\n",
       "      <td>0.096560</td>\n",
       "      <td>0.098844</td>\n",
       "      <td>0.098334</td>\n",
       "      <td>0.094379</td>\n",
       "      <td>0.094952</td>\n",
       "      <td>0.095180</td>\n",
       "      <td>0.095534</td>\n",
       "      <td>0.095682</td>\n",
       "      <td>0.095676</td>\n",
       "      <td>0.081589</td>\n",
       "    </tr>\n",
       "    <tr>\n",
       "      <th>min</th>\n",
       "      <td>0.097000</td>\n",
       "      <td>0.137000</td>\n",
       "      <td>0.097000</td>\n",
       "      <td>0.112000</td>\n",
       "      <td>0.094000</td>\n",
       "      <td>0.097000</td>\n",
       "      <td>0.106000</td>\n",
       "      <td>0.106000</td>\n",
       "      <td>0.108000</td>\n",
       "      <td>0.108000</td>\n",
       "      <td>0.108000</td>\n",
       "      <td>0.125000</td>\n",
       "    </tr>\n",
       "    <tr>\n",
       "      <th>25%</th>\n",
       "      <td>0.304000</td>\n",
       "      <td>0.338000</td>\n",
       "      <td>0.303000</td>\n",
       "      <td>0.305250</td>\n",
       "      <td>0.300000</td>\n",
       "      <td>0.305000</td>\n",
       "      <td>0.305000</td>\n",
       "      <td>0.303000</td>\n",
       "      <td>0.306000</td>\n",
       "      <td>0.305000</td>\n",
       "      <td>0.305000</td>\n",
       "      <td>0.322000</td>\n",
       "    </tr>\n",
       "    <tr>\n",
       "      <th>50%</th>\n",
       "      <td>0.372000</td>\n",
       "      <td>0.388000</td>\n",
       "      <td>0.373000</td>\n",
       "      <td>0.372000</td>\n",
       "      <td>0.370000</td>\n",
       "      <td>0.372000</td>\n",
       "      <td>0.373000</td>\n",
       "      <td>0.372000</td>\n",
       "      <td>0.377000</td>\n",
       "      <td>0.373000</td>\n",
       "      <td>0.372000</td>\n",
       "      <td>0.378000</td>\n",
       "    </tr>\n",
       "    <tr>\n",
       "      <th>75%</th>\n",
       "      <td>0.434000</td>\n",
       "      <td>0.432000</td>\n",
       "      <td>0.438000</td>\n",
       "      <td>0.441750</td>\n",
       "      <td>0.433000</td>\n",
       "      <td>0.433750</td>\n",
       "      <td>0.434000</td>\n",
       "      <td>0.433000</td>\n",
       "      <td>0.438000</td>\n",
       "      <td>0.437000</td>\n",
       "      <td>0.435000</td>\n",
       "      <td>0.429000</td>\n",
       "    </tr>\n",
       "    <tr>\n",
       "      <th>max</th>\n",
       "      <td>0.698000</td>\n",
       "      <td>0.626000</td>\n",
       "      <td>0.730000</td>\n",
       "      <td>0.764000</td>\n",
       "      <td>0.741000</td>\n",
       "      <td>0.678000</td>\n",
       "      <td>0.725000</td>\n",
       "      <td>0.724000</td>\n",
       "      <td>0.733000</td>\n",
       "      <td>0.731000</td>\n",
       "      <td>0.733000</td>\n",
       "      <td>0.722000</td>\n",
       "    </tr>\n",
       "  </tbody>\n",
       "</table>\n",
       "</div>"
      ],
      "text/plain": [
       "       scores.updown.algo_convert  scores.updown.algo_convert_common_tokens  \\\n",
       "count                 5206.000000                               5206.000000   \n",
       "mean                     0.370070                                  0.383944   \n",
       "std                      0.096629                                  0.075323   \n",
       "min                      0.097000                                  0.137000   \n",
       "25%                      0.304000                                  0.338000   \n",
       "50%                      0.372000                                  0.388000   \n",
       "75%                      0.434000                                  0.432000   \n",
       "max                      0.698000                                  0.626000   \n",
       "\n",
       "       scores.updown.algo_convert_midas_sampler  \\\n",
       "count                               5206.000000   \n",
       "mean                                   0.371053   \n",
       "std                                    0.096560   \n",
       "min                                    0.097000   \n",
       "25%                                    0.303000   \n",
       "50%                                    0.373000   \n",
       "75%                                    0.438000   \n",
       "max                                    0.730000   \n",
       "\n",
       "       scores.updown.algo_convert_nd  scores.updown.algo_rpt  \\\n",
       "count                    5206.000000             5206.000000   \n",
       "mean                        0.372833                0.367516   \n",
       "std                         0.098844                0.098334   \n",
       "min                         0.112000                0.094000   \n",
       "25%                         0.305250                0.300000   \n",
       "50%                         0.372000                0.370000   \n",
       "75%                         0.441750                0.433000   \n",
       "max                         0.764000                0.741000   \n",
       "\n",
       "       scores.updown.bert_convert  scores.updown.bert_convert_unmasker_11  \\\n",
       "count                 5206.000000                             5206.000000   \n",
       "mean                     0.370011                                0.370302   \n",
       "std                      0.094379                                0.094952   \n",
       "min                      0.097000                                0.106000   \n",
       "25%                      0.305000                                0.305000   \n",
       "50%                      0.372000                                0.373000   \n",
       "75%                      0.433750                                0.434000   \n",
       "max                      0.678000                                0.725000   \n",
       "\n",
       "       scores.updown.bert_convert_unmasker_13  \\\n",
       "count                             5206.000000   \n",
       "mean                                 0.368414   \n",
       "std                                  0.095180   \n",
       "min                                  0.106000   \n",
       "25%                                  0.303000   \n",
       "50%                                  0.372000   \n",
       "75%                                  0.433000   \n",
       "max                                  0.724000   \n",
       "\n",
       "       scores.updown.bert_convert_unmasker_31  \\\n",
       "count                             5206.000000   \n",
       "mean                                 0.373224   \n",
       "std                                  0.095534   \n",
       "min                                  0.108000   \n",
       "25%                                  0.306000   \n",
       "50%                                  0.377000   \n",
       "75%                                  0.438000   \n",
       "max                                  0.733000   \n",
       "\n",
       "       scores.updown.bert_convert_unmasker_33  scores.updown.raw_convert  \\\n",
       "count                             5206.000000                5206.000000   \n",
       "mean                                 0.369961                   0.369379   \n",
       "std                                  0.095682                   0.095676   \n",
       "min                                  0.108000                   0.108000   \n",
       "25%                                  0.305000                   0.305000   \n",
       "50%                                  0.373000                   0.372000   \n",
       "75%                                  0.437000                   0.435000   \n",
       "max                                  0.731000                   0.733000   \n",
       "\n",
       "       scores.updown.raw_tfidf  \n",
       "count              5206.000000  \n",
       "mean                  0.375060  \n",
       "std                   0.081589  \n",
       "min                   0.125000  \n",
       "25%                   0.322000  \n",
       "50%                   0.378000  \n",
       "75%                   0.429000  \n",
       "max                   0.722000  "
      ]
     },
     "execution_count": 110,
     "metadata": {},
     "output_type": "execute_result"
    }
   ],
   "source": [
    "df.iloc[:, 17:29].describe()"
   ]
  },
  {
   "cell_type": "markdown",
   "id": "cbce6a7b-1556-4faa-9c53-5648df50e59a",
   "metadata": {
    "tags": []
   },
   "source": [
    "##### algo_convert"
   ]
  },
  {
   "cell_type": "code",
   "execution_count": 57,
   "id": "a6f2cb42-c497-4a42-a2a9-f745f6c52c45",
   "metadata": {},
   "outputs": [
    {
     "data": {
      "text/html": [
       "<div>\n",
       "<style scoped>\n",
       "    .dataframe tbody tr th:only-of-type {\n",
       "        vertical-align: middle;\n",
       "    }\n",
       "\n",
       "    .dataframe tbody tr th {\n",
       "        vertical-align: top;\n",
       "    }\n",
       "\n",
       "    .dataframe thead th {\n",
       "        text-align: right;\n",
       "    }\n",
       "</style>\n",
       "<table border=\"1\" class=\"dataframe\">\n",
       "  <thead>\n",
       "    <tr style=\"text-align: right;\">\n",
       "      <th></th>\n",
       "      <th>context</th>\n",
       "      <th>preds.algo_convert</th>\n",
       "    </tr>\n",
       "  </thead>\n",
       "  <tbody>\n",
       "    <tr>\n",
       "      <th>77</th>\n",
       "      <td>I never saw that. but I heard it was surreal. [SEP] Jon Hamm taught drama at his old high school. I believe one of his students was a man named Ellie Kemper who played in the office. [SEP] I guess Jon has the magic touch! He trains his students well. Michael Caine joined his high school drama club for the women. I understand that motivation. too.</td>\n",
       "      <td>he even came back with michael caine-she was directing him</td>\n",
       "    </tr>\n",
       "    <tr>\n",
       "      <th>122</th>\n",
       "      <td>That makes it even more impressive that there are over 300 breeds of horses in the world today. [SEP] Yes. humans began domesticating horses around 4000 BC. and their domestication is believed to have been widespread by 3000 BC. Some species were domesticated but then some are still living in the wild as feral horses. [SEP] I just heard that Icelandic horses have a fifth gear. Horses are simply fascinating.</td>\n",
       "      <td>they are the first horses to be domesticated</td>\n",
       "    </tr>\n",
       "    <tr>\n",
       "      <th>149</th>\n",
       "      <td>It's amazing that he did so much after not only getting a college degree. but also taking a break from his studies to serve in the military. [SEP] Yea pretty amazing for a guy that started out picking cotton and shinning shoes. [SEP] Maybe the way he worked so hard to rise in life was the inspiration for him trying to help others do the same.</td>\n",
       "      <td>he also seems modest because he doesn t like to say that he was a inspiration</td>\n",
       "    </tr>\n",
       "    <tr>\n",
       "      <th>214</th>\n",
       "      <td>Unicef will donate a day of clean water to a child in need for every minute you do not use your cell phone. I wonder how many people would do this to make an impact [SEP] I didn't know that was a thing. I wonder if they base it on your normal usage? I know I'm not on my phone THAT much. They'd be donating plenty of water for me. [SEP] I feel like I can do better when it comes to that.</td>\n",
       "      <td>i am going to go water my phone now</td>\n",
       "    </tr>\n",
       "    <tr>\n",
       "      <th>356</th>\n",
       "      <td>Are you a Linkin Park fan? They are great. They played 324 concerts in 2001. I still cant believe it. [SEP] I am I think they are one of the best bands ever. too bad the leading singer committed suicide. maybe the toll of many concerts made him fall into depression. [SEP] so sad  that most of the singer end up committing suicide. on the other hand I heard that Pink Floyd recorded a live concer in Rome with no audience.</td>\n",
       "      <td>pink floyd must have been better at performing live</td>\n",
       "    </tr>\n",
       "  </tbody>\n",
       "</table>\n",
       "</div>"
      ],
      "text/plain": [
       "                                                                                                                                                                                                                                                                                                                                                                                                                                    context  \\\n",
       "77                                                                             I never saw that. but I heard it was surreal. [SEP] Jon Hamm taught drama at his old high school. I believe one of his students was a man named Ellie Kemper who played in the office. [SEP] I guess Jon has the magic touch! He trains his students well. Michael Caine joined his high school drama club for the women. I understand that motivation. too.   \n",
       "122              That makes it even more impressive that there are over 300 breeds of horses in the world today. [SEP] Yes. humans began domesticating horses around 4000 BC. and their domestication is believed to have been widespread by 3000 BC. Some species were domesticated but then some are still living in the wild as feral horses. [SEP] I just heard that Icelandic horses have a fifth gear. Horses are simply fascinating.   \n",
       "149                                                                                It's amazing that he did so much after not only getting a college degree. but also taking a break from his studies to serve in the military. [SEP] Yea pretty amazing for a guy that started out picking cotton and shinning shoes. [SEP] Maybe the way he worked so hard to rise in life was the inspiration for him trying to help others do the same.   \n",
       "214                                     Unicef will donate a day of clean water to a child in need for every minute you do not use your cell phone. I wonder how many people would do this to make an impact [SEP] I didn't know that was a thing. I wonder if they base it on your normal usage? I know I'm not on my phone THAT much. They'd be donating plenty of water for me. [SEP] I feel like I can do better when it comes to that.   \n",
       "356  Are you a Linkin Park fan? They are great. They played 324 concerts in 2001. I still cant believe it. [SEP] I am I think they are one of the best bands ever. too bad the leading singer committed suicide. maybe the toll of many concerts made him fall into depression. [SEP] so sad  that most of the singer end up committing suicide. on the other hand I heard that Pink Floyd recorded a live concer in Rome with no audience.   \n",
       "\n",
       "                                                                preds.algo_convert  \n",
       "77                      he even came back with michael caine-she was directing him  \n",
       "122                                   they are the first horses to be domesticated  \n",
       "149  he also seems modest because he doesn t like to say that he was a inspiration  \n",
       "214                                            i am going to go water my phone now  \n",
       "356                            pink floyd must have been better at performing live  "
      ]
     },
     "execution_count": 57,
     "metadata": {},
     "output_type": "execute_result"
    }
   ],
   "source": [
    "df[['context', 'preds.algo_convert', 'scores.updown.algo_convert']][df['scores.updown.algo_convert'] > 0.6].head().iloc[:, [0,1]]"
   ]
  },
  {
   "cell_type": "code",
   "execution_count": 56,
   "id": "8c706510-f27d-4043-bf0d-58a262a458a5",
   "metadata": {},
   "outputs": [
    {
     "data": {
      "text/html": [
       "<div>\n",
       "<style scoped>\n",
       "    .dataframe tbody tr th:only-of-type {\n",
       "        vertical-align: middle;\n",
       "    }\n",
       "\n",
       "    .dataframe tbody tr th {\n",
       "        vertical-align: top;\n",
       "    }\n",
       "\n",
       "    .dataframe thead th {\n",
       "        text-align: right;\n",
       "    }\n",
       "</style>\n",
       "<table border=\"1\" class=\"dataframe\">\n",
       "  <thead>\n",
       "    <tr style=\"text-align: right;\">\n",
       "      <th></th>\n",
       "      <th>context</th>\n",
       "      <th>preds.algo_convert</th>\n",
       "    </tr>\n",
       "  </thead>\n",
       "  <tbody>\n",
       "    <tr>\n",
       "      <th>289</th>\n",
       "      <td>Hello!  Do you like watching dramas? [SEP] I do watch some here and there. [SEP] Did you ever watch House?</td>\n",
       "      <td>i watch some but not that much</td>\n",
       "    </tr>\n",
       "    <tr>\n",
       "      <th>392</th>\n",
       "      <td>do you watch tv? [SEP] I do quite a bit. Do you watch the SNL? [SEP] Sometimes. do you have a favorite skit. Did you ever watch the SImpsons?</td>\n",
       "      <td>i watch some but not that much</td>\n",
       "    </tr>\n",
       "    <tr>\n",
       "      <th>405</th>\n",
       "      <td>It is the Two Noble KInsmes. Yes all the time [SEP] Do you know why the NY area code is 212? [SEP] I have no idea. why is that?</td>\n",
       "      <td>it was discovered by kinsmes in 2013 but i don t know what they call it exactly</td>\n",
       "    </tr>\n",
       "    <tr>\n",
       "      <th>469</th>\n",
       "      <td>Good for him. Does he have a specific charity he raises for? [SEP] not that I am aware of. but it's really great of him to do. [SEP] That is awesome. I like Lebron. Did you know the New Zealand basketball team is nicknamed the tall blacks?</td>\n",
       "      <td>no i didn t i only heard he played basketball</td>\n",
       "    </tr>\n",
       "    <tr>\n",
       "      <th>591</th>\n",
       "      <td>Two of my favorites as well. both great shows. they probably won the award another year. do you like Bill Murray? [SEP] Yeah he is great! I wonder if I should take his recommendation to watch King Fu Hustle?! [SEP] I did watch the movie  and think its pretty good so yeah. following his advice is a good idea if you want to have a few laughs</td>\n",
       "      <td>ya he s a cool year i like him</td>\n",
       "    </tr>\n",
       "  </tbody>\n",
       "</table>\n",
       "</div>"
      ],
      "text/plain": [
       "                                                                                                                                                                                                                                                                                                                                                   context  \\\n",
       "289                                                                                                                                                                                                                                             Hello!  Do you like watching dramas? [SEP] I do watch some here and there. [SEP] Did you ever watch House?   \n",
       "392                                                                                                                                                                                                          do you watch tv? [SEP] I do quite a bit. Do you watch the SNL? [SEP] Sometimes. do you have a favorite skit. Did you ever watch the SImpsons?   \n",
       "405                                                                                                                                                                                                                        It is the Two Noble KInsmes. Yes all the time [SEP] Do you know why the NY area code is 212? [SEP] I have no idea. why is that?   \n",
       "469                                                                                                        Good for him. Does he have a specific charity he raises for? [SEP] not that I am aware of. but it's really great of him to do. [SEP] That is awesome. I like Lebron. Did you know the New Zealand basketball team is nicknamed the tall blacks?   \n",
       "591  Two of my favorites as well. both great shows. they probably won the award another year. do you like Bill Murray? [SEP] Yeah he is great! I wonder if I should take his recommendation to watch King Fu Hustle?! [SEP] I did watch the movie  and think its pretty good so yeah. following his advice is a good idea if you want to have a few laughs   \n",
       "\n",
       "                                                                  preds.algo_convert  \n",
       "289                                                   i watch some but not that much  \n",
       "392                                                   i watch some but not that much  \n",
       "405  it was discovered by kinsmes in 2013 but i don t know what they call it exactly  \n",
       "469                                    no i didn t i only heard he played basketball  \n",
       "591                                                   ya he s a cool year i like him  "
      ]
     },
     "execution_count": 56,
     "metadata": {},
     "output_type": "execute_result"
    }
   ],
   "source": [
    "df[['context', 'preds.algo_convert', 'scores.updown.algo_convert']][df['scores.updown.algo_convert'] < 0.15].head().iloc[:, [0,1]]"
   ]
  },
  {
   "cell_type": "markdown",
   "id": "1f240b36-00c5-4d82-b0bb-f87e3824cbe2",
   "metadata": {
    "jp-MarkdownHeadingCollapsed": true,
    "tags": []
   },
   "source": [
    "##### convert_nd"
   ]
  },
  {
   "cell_type": "code",
   "execution_count": 61,
   "id": "ae8cf0f6-b272-4276-9106-8a1b0029b99a",
   "metadata": {},
   "outputs": [
    {
     "data": {
      "text/html": [
       "<div>\n",
       "<style scoped>\n",
       "    .dataframe tbody tr th:only-of-type {\n",
       "        vertical-align: middle;\n",
       "    }\n",
       "\n",
       "    .dataframe tbody tr th {\n",
       "        vertical-align: top;\n",
       "    }\n",
       "\n",
       "    .dataframe thead th {\n",
       "        text-align: right;\n",
       "    }\n",
       "</style>\n",
       "<table border=\"1\" class=\"dataframe\">\n",
       "  <thead>\n",
       "    <tr style=\"text-align: right;\">\n",
       "      <th></th>\n",
       "      <th>context</th>\n",
       "      <th>preds.algo_convert_nd</th>\n",
       "    </tr>\n",
       "  </thead>\n",
       "  <tbody>\n",
       "    <tr>\n",
       "      <th>4372</th>\n",
       "      <td>The government are trying to conserve it though. Speaking of the government. did you know 86% of Nebraska is owned by US government. [SEP] Interesting! And Norwegian government cares about land other than its own. they donated one billion to help save the Amazon rainforest. [SEP] That's better than the US Government. They passed a law in 2006 where government employees couldn't be prosecuted for violating the geneva conventions</td>\n",
       "      <td>did you know that in 39 amazon rainforest in the us</td>\n",
       "    </tr>\n",
       "    <tr>\n",
       "      <th>5089</th>\n",
       "      <td>That ’ s a little complicated. You ’ ll get to know it when you are acquainted with the U.S. history later on. Religion was and is a part of American people ’ s life. Guess what? Even Harvard University, which is a highly academic institution, is in a sense the product of religion. [SEP] Really? [SEP] Absolutely! It was founded by a group of Puritan immigrants from England.</td>\n",
       "      <td>did you know that in 39 england in the us</td>\n",
       "    </tr>\n",
       "  </tbody>\n",
       "</table>\n",
       "</div>"
      ],
      "text/plain": [
       "                                                                                                                                                                                                                                                                                                                                                                                                                                              context  \\\n",
       "4372  The government are trying to conserve it though. Speaking of the government. did you know 86% of Nebraska is owned by US government. [SEP] Interesting! And Norwegian government cares about land other than its own. they donated one billion to help save the Amazon rainforest. [SEP] That's better than the US Government. They passed a law in 2006 where government employees couldn't be prosecuted for violating the geneva conventions   \n",
       "5089                                                         That ’ s a little complicated. You ’ ll get to know it when you are acquainted with the U.S. history later on. Religion was and is a part of American people ’ s life. Guess what? Even Harvard University, which is a highly academic institution, is in a sense the product of religion. [SEP] Really? [SEP] Absolutely! It was founded by a group of Puritan immigrants from England.   \n",
       "\n",
       "                                    preds.algo_convert_nd  \n",
       "4372  did you know that in 39 amazon rainforest in the us  \n",
       "5089            did you know that in 39 england in the us  "
      ]
     },
     "execution_count": 61,
     "metadata": {},
     "output_type": "execute_result"
    }
   ],
   "source": [
    "df[['context', 'preds.algo_convert_nd', 'scores.updown.algo_convert']][df['scores.updown.algo_convert_nd'] > 0.7].head().iloc[:, [0,1]]"
   ]
  },
  {
   "cell_type": "code",
   "execution_count": 71,
   "id": "d0ba70e7-be9c-455b-a063-15a3ba075fb3",
   "metadata": {},
   "outputs": [
    {
     "data": {
      "text/html": [
       "<div>\n",
       "<style scoped>\n",
       "    .dataframe tbody tr th:only-of-type {\n",
       "        vertical-align: middle;\n",
       "    }\n",
       "\n",
       "    .dataframe tbody tr th {\n",
       "        vertical-align: top;\n",
       "    }\n",
       "\n",
       "    .dataframe thead th {\n",
       "        text-align: right;\n",
       "    }\n",
       "</style>\n",
       "<table border=\"1\" class=\"dataframe\">\n",
       "  <thead>\n",
       "    <tr style=\"text-align: right;\">\n",
       "      <th></th>\n",
       "      <th>context</th>\n",
       "      <th>preds.algo_convert_nd</th>\n",
       "    </tr>\n",
       "  </thead>\n",
       "  <tbody>\n",
       "    <tr>\n",
       "      <th>289</th>\n",
       "      <td>Hello!  Do you like watching dramas? [SEP] I do watch some here and there. [SEP] Did you ever watch House?</td>\n",
       "      <td>no i don t really watch it</td>\n",
       "    </tr>\n",
       "    <tr>\n",
       "      <th>405</th>\n",
       "      <td>It is the Two Noble KInsmes. Yes all the time [SEP] Do you know why the NY area code is 212? [SEP] I have no idea. why is that?</td>\n",
       "      <td>it was discovered by kinsmes in 2013 but i don t know what they call it exactly</td>\n",
       "    </tr>\n",
       "    <tr>\n",
       "      <th>449</th>\n",
       "      <td>Why? [SEP] Well, it ’ s very comfortable just to drift here. [SEP] Have you thought about graduate school?</td>\n",
       "      <td>no i dint know that the only school really</td>\n",
       "    </tr>\n",
       "    <tr>\n",
       "      <th>713</th>\n",
       "      <td>Yeah and it only had 54 colors but it was so cool at that time [SEP] I know. I remember playing this racing game where you just stomp on a mat to win and I thought it was amazing. [SEP] That sounds cool. Do you watch much tv?</td>\n",
       "      <td>no i don t have mat</td>\n",
       "    </tr>\n",
       "    <tr>\n",
       "      <th>772</th>\n",
       "      <td>Same here. I never liked any of his movies I did see like mission impossible. [SEP] did you see the newest one? Fallout? [SEP] I have not. Do you like the simpsons?</td>\n",
       "      <td>no i haven t seen it</td>\n",
       "    </tr>\n",
       "  </tbody>\n",
       "</table>\n",
       "</div>"
      ],
      "text/plain": [
       "                                                                                                                                                                                                                               context  \\\n",
       "289                                                                                                                         Hello!  Do you like watching dramas? [SEP] I do watch some here and there. [SEP] Did you ever watch House?   \n",
       "405                                                                                                    It is the Two Noble KInsmes. Yes all the time [SEP] Do you know why the NY area code is 212? [SEP] I have no idea. why is that?   \n",
       "449                                                                                                                         Why? [SEP] Well, it ’ s very comfortable just to drift here. [SEP] Have you thought about graduate school?   \n",
       "713  Yeah and it only had 54 colors but it was so cool at that time [SEP] I know. I remember playing this racing game where you just stomp on a mat to win and I thought it was amazing. [SEP] That sounds cool. Do you watch much tv?   \n",
       "772                                                               Same here. I never liked any of his movies I did see like mission impossible. [SEP] did you see the newest one? Fallout? [SEP] I have not. Do you like the simpsons?   \n",
       "\n",
       "                                                               preds.algo_convert_nd  \n",
       "289                                                       no i don t really watch it  \n",
       "405  it was discovered by kinsmes in 2013 but i don t know what they call it exactly  \n",
       "449                                       no i dint know that the only school really  \n",
       "713                                                              no i don t have mat  \n",
       "772                                                             no i haven t seen it  "
      ]
     },
     "execution_count": 71,
     "metadata": {},
     "output_type": "execute_result"
    }
   ],
   "source": [
    "df[['context', 'preds.algo_convert_nd', 'scores.updown.algo_convert']][df['scores.updown.algo_convert_nd'] < 0.15].head().iloc[:, [0,1]]"
   ]
  },
  {
   "cell_type": "markdown",
   "id": "84e2df6b-4cc2-4b8a-8348-ef4f5ce4aad6",
   "metadata": {
    "jp-MarkdownHeadingCollapsed": true,
    "tags": []
   },
   "source": [
    "##### rpt"
   ]
  },
  {
   "cell_type": "code",
   "execution_count": 60,
   "id": "4ea14b82-1289-4cfe-93a5-288161dd4305",
   "metadata": {},
   "outputs": [
    {
     "data": {
      "text/html": [
       "<div>\n",
       "<style scoped>\n",
       "    .dataframe tbody tr th:only-of-type {\n",
       "        vertical-align: middle;\n",
       "    }\n",
       "\n",
       "    .dataframe tbody tr th {\n",
       "        vertical-align: top;\n",
       "    }\n",
       "\n",
       "    .dataframe thead th {\n",
       "        text-align: right;\n",
       "    }\n",
       "</style>\n",
       "<table border=\"1\" class=\"dataframe\">\n",
       "  <thead>\n",
       "    <tr style=\"text-align: right;\">\n",
       "      <th></th>\n",
       "      <th>context</th>\n",
       "      <th>preds.algo_rpt</th>\n",
       "    </tr>\n",
       "  </thead>\n",
       "  <tbody>\n",
       "    <tr>\n",
       "      <th>3355</th>\n",
       "      <td>A few. Hernandez played with gary carter. another Hall of Famer. [SEP] He is at his best when explaining the years-long refinement of his style at the plate [SEP] Did you know it can be hard to tell managers and players apart because they both wear uniforms unlike in any other sport</td>\n",
       "      <td>he is a uniforms-in for the hall of fame</td>\n",
       "    </tr>\n",
       "    <tr>\n",
       "      <th>3759</th>\n",
       "      <td>Me too! Even astronauts have connection in the intl space station! [SEP] Very cool. Makes sense because it is so addicting with measurable changes in the brain! Well it was lovely chatting with you! [SEP] Yes I have enjoyed very much!!</td>\n",
       "      <td>it was a modest intl space station</td>\n",
       "    </tr>\n",
       "  </tbody>\n",
       "</table>\n",
       "</div>"
      ],
      "text/plain": [
       "                                                                                                                                                                                                                                                                                          context  \\\n",
       "3355  A few. Hernandez played with gary carter. another Hall of Famer. [SEP] He is at his best when explaining the years-long refinement of his style at the plate [SEP] Did you know it can be hard to tell managers and players apart because they both wear uniforms unlike in any other sport   \n",
       "3759                                                  Me too! Even astronauts have connection in the intl space station! [SEP] Very cool. Makes sense because it is so addicting with measurable changes in the brain! Well it was lovely chatting with you! [SEP] Yes I have enjoyed very much!!   \n",
       "\n",
       "                                preds.algo_rpt  \n",
       "3355  he is a uniforms-in for the hall of fame  \n",
       "3759        it was a modest intl space station  "
      ]
     },
     "execution_count": 60,
     "metadata": {},
     "output_type": "execute_result"
    }
   ],
   "source": [
    "df[['context', 'preds.algo_rpt', 'scores.updown.algo_rpt']][df['scores.updown.algo_rpt'] > 0.7].head().iloc[:, [0,1]]"
   ]
  },
  {
   "cell_type": "code",
   "execution_count": 59,
   "id": "6a93d4d4-4bf7-4929-befe-e5ee74e5ea99",
   "metadata": {},
   "outputs": [
    {
     "data": {
      "text/html": [
       "<div>\n",
       "<style scoped>\n",
       "    .dataframe tbody tr th:only-of-type {\n",
       "        vertical-align: middle;\n",
       "    }\n",
       "\n",
       "    .dataframe tbody tr th {\n",
       "        vertical-align: top;\n",
       "    }\n",
       "\n",
       "    .dataframe thead th {\n",
       "        text-align: right;\n",
       "    }\n",
       "</style>\n",
       "<table border=\"1\" class=\"dataframe\">\n",
       "  <thead>\n",
       "    <tr style=\"text-align: right;\">\n",
       "      <th></th>\n",
       "      <th>context</th>\n",
       "      <th>preds.algo_rpt</th>\n",
       "    </tr>\n",
       "  </thead>\n",
       "  <tbody>\n",
       "    <tr>\n",
       "      <th>469</th>\n",
       "      <td>Good for him. Does he have a specific charity he raises for? [SEP] not that I am aware of. but it's really great of him to do. [SEP] That is awesome. I like Lebron. Did you know the New Zealand basketball team is nicknamed the tall blacks?</td>\n",
       "      <td>no i didn t i only heard he played basketball</td>\n",
       "    </tr>\n",
       "    <tr>\n",
       "      <th>591</th>\n",
       "      <td>Two of my favorites as well. both great shows. they probably won the award another year. do you like Bill Murray? [SEP] Yeah he is great! I wonder if I should take his recommendation to watch King Fu Hustle?! [SEP] I did watch the movie  and think its pretty good so yeah. following his advice is a good idea if you want to have a few laughs</td>\n",
       "      <td>ya he s a cool year i like him</td>\n",
       "    </tr>\n",
       "    <tr>\n",
       "      <th>688</th>\n",
       "      <td>Did you ever watch South Park's Family Guy episode? [SEP] Yes. I watch the south park zone cartoon wars parts. It's very good program. [SEP] What are your favorite television shows?</td>\n",
       "      <td>i don t really have a favorite but i can discuss several that i find interesting</td>\n",
       "    </tr>\n",
       "    <tr>\n",
       "      <th>689</th>\n",
       "      <td>Yes. I watch the south park zone cartoon wars parts. It's very good program. [SEP] What are your favorite television shows? [SEP] I love all kind of comedy shows. what about you?</td>\n",
       "      <td>i don t really have a favorite but i can discuss several that i find interesting</td>\n",
       "    </tr>\n",
       "    <tr>\n",
       "      <th>697</th>\n",
       "      <td>No. i don't know that program. And i love baseball. What about you? [SEP] I love it. It's so popular in Japan that they had no idea it was America's pasttime. [SEP] Okay. You like comedy movies?</td>\n",
       "      <td>ya not as much with baseball though i don t think its that popular here</td>\n",
       "    </tr>\n",
       "  </tbody>\n",
       "</table>\n",
       "</div>"
      ],
      "text/plain": [
       "                                                                                                                                                                                                                                                                                                                                                   context  \\\n",
       "469                                                                                                        Good for him. Does he have a specific charity he raises for? [SEP] not that I am aware of. but it's really great of him to do. [SEP] That is awesome. I like Lebron. Did you know the New Zealand basketball team is nicknamed the tall blacks?   \n",
       "591  Two of my favorites as well. both great shows. they probably won the award another year. do you like Bill Murray? [SEP] Yeah he is great! I wonder if I should take his recommendation to watch King Fu Hustle?! [SEP] I did watch the movie  and think its pretty good so yeah. following his advice is a good idea if you want to have a few laughs   \n",
       "688                                                                                                                                                                  Did you ever watch South Park's Family Guy episode? [SEP] Yes. I watch the south park zone cartoon wars parts. It's very good program. [SEP] What are your favorite television shows?   \n",
       "689                                                                                                                                                                     Yes. I watch the south park zone cartoon wars parts. It's very good program. [SEP] What are your favorite television shows? [SEP] I love all kind of comedy shows. what about you?   \n",
       "697                                                                                                                                                     No. i don't know that program. And i love baseball. What about you? [SEP] I love it. It's so popular in Japan that they had no idea it was America's pasttime. [SEP] Okay. You like comedy movies?   \n",
       "\n",
       "                                                                       preds.algo_rpt  \n",
       "469                                     no i didn t i only heard he played basketball  \n",
       "591                                                    ya he s a cool year i like him  \n",
       "688  i don t really have a favorite but i can discuss several that i find interesting  \n",
       "689  i don t really have a favorite but i can discuss several that i find interesting  \n",
       "697           ya not as much with baseball though i don t think its that popular here  "
      ]
     },
     "execution_count": 59,
     "metadata": {},
     "output_type": "execute_result"
    }
   ],
   "source": [
    "df[['context', 'preds.algo_rpt', 'scores.updown.algo_rpt']][df['scores.updown.algo_rpt'] < 0.15].head().iloc[:, [0,1]]"
   ]
  },
  {
   "cell_type": "markdown",
   "id": "ca9582be-018d-4c66-8e3a-3c8aaee49826",
   "metadata": {
    "jp-MarkdownHeadingCollapsed": true,
    "tags": []
   },
   "source": [
    "#### depth"
   ]
  },
  {
   "cell_type": "code",
   "execution_count": 107,
   "id": "0531c200-df09-49d0-aeca-ea5eb349b5da",
   "metadata": {},
   "outputs": [
    {
     "data": {
      "text/html": [
       "<div>\n",
       "<style scoped>\n",
       "    .dataframe tbody tr th:only-of-type {\n",
       "        vertical-align: middle;\n",
       "    }\n",
       "\n",
       "    .dataframe tbody tr th {\n",
       "        vertical-align: top;\n",
       "    }\n",
       "\n",
       "    .dataframe thead th {\n",
       "        text-align: right;\n",
       "    }\n",
       "</style>\n",
       "<table border=\"1\" class=\"dataframe\">\n",
       "  <thead>\n",
       "    <tr style=\"text-align: right;\">\n",
       "      <th></th>\n",
       "      <th>scores.updown.algo_convert</th>\n",
       "      <th>scores.updown.algo_convert_common_tokens</th>\n",
       "      <th>scores.updown.algo_convert_midas_sampler</th>\n",
       "      <th>scores.updown.algo_convert_nd</th>\n",
       "      <th>scores.updown.algo_rpt</th>\n",
       "      <th>scores.updown.bert_convert</th>\n",
       "      <th>scores.updown.bert_convert_unmasker_11</th>\n",
       "      <th>scores.updown.bert_convert_unmasker_13</th>\n",
       "      <th>scores.updown.bert_convert_unmasker_31</th>\n",
       "      <th>scores.updown.bert_convert_unmasker_33</th>\n",
       "      <th>...</th>\n",
       "      <th>scores.width.bert_convert_unmasker_11</th>\n",
       "      <th>scores.width.bert_convert_unmasker_13</th>\n",
       "      <th>scores.width.bert_convert_unmasker_31</th>\n",
       "      <th>scores.width.bert_convert_unmasker_33</th>\n",
       "      <th>scores.width.raw_convert</th>\n",
       "      <th>scores.width.raw_tfidf</th>\n",
       "      <th>scores.width.roberta_convert_unmasker_11</th>\n",
       "      <th>scores.width.roberta_convert_unmasker_31</th>\n",
       "      <th>scores.width.roberta_convert_unmasker_31_with_stoken</th>\n",
       "      <th>scores.width.roberta_convert_unmasker_33_with_stoken</th>\n",
       "    </tr>\n",
       "  </thead>\n",
       "  <tbody>\n",
       "    <tr>\n",
       "      <th>count</th>\n",
       "      <td>5206.000000</td>\n",
       "      <td>5206.000000</td>\n",
       "      <td>5206.000000</td>\n",
       "      <td>5206.000000</td>\n",
       "      <td>5206.000000</td>\n",
       "      <td>5206.000000</td>\n",
       "      <td>5206.000000</td>\n",
       "      <td>5206.000000</td>\n",
       "      <td>5206.000000</td>\n",
       "      <td>5206.000000</td>\n",
       "      <td>...</td>\n",
       "      <td>5206.000000</td>\n",
       "      <td>5206.000000</td>\n",
       "      <td>5206.000000</td>\n",
       "      <td>5206.000000</td>\n",
       "      <td>5206.000000</td>\n",
       "      <td>5206.000000</td>\n",
       "      <td>5206.000000</td>\n",
       "      <td>5206.000000</td>\n",
       "      <td>5206.000000</td>\n",
       "      <td>5206.000000</td>\n",
       "    </tr>\n",
       "    <tr>\n",
       "      <th>mean</th>\n",
       "      <td>0.370070</td>\n",
       "      <td>0.383944</td>\n",
       "      <td>0.371053</td>\n",
       "      <td>0.372833</td>\n",
       "      <td>0.367516</td>\n",
       "      <td>0.370011</td>\n",
       "      <td>0.370302</td>\n",
       "      <td>0.368414</td>\n",
       "      <td>0.373224</td>\n",
       "      <td>0.369961</td>\n",
       "      <td>...</td>\n",
       "      <td>0.631798</td>\n",
       "      <td>0.629556</td>\n",
       "      <td>0.640328</td>\n",
       "      <td>0.637462</td>\n",
       "      <td>0.628121</td>\n",
       "      <td>0.609761</td>\n",
       "      <td>0.635828</td>\n",
       "      <td>0.643742</td>\n",
       "      <td>0.643729</td>\n",
       "      <td>0.641115</td>\n",
       "    </tr>\n",
       "    <tr>\n",
       "      <th>std</th>\n",
       "      <td>0.096629</td>\n",
       "      <td>0.075323</td>\n",
       "      <td>0.096560</td>\n",
       "      <td>0.098844</td>\n",
       "      <td>0.098334</td>\n",
       "      <td>0.094379</td>\n",
       "      <td>0.094952</td>\n",
       "      <td>0.095180</td>\n",
       "      <td>0.095534</td>\n",
       "      <td>0.095682</td>\n",
       "      <td>...</td>\n",
       "      <td>0.136601</td>\n",
       "      <td>0.139693</td>\n",
       "      <td>0.140439</td>\n",
       "      <td>0.142651</td>\n",
       "      <td>0.154277</td>\n",
       "      <td>0.142166</td>\n",
       "      <td>0.135999</td>\n",
       "      <td>0.139375</td>\n",
       "      <td>0.139772</td>\n",
       "      <td>0.141815</td>\n",
       "    </tr>\n",
       "    <tr>\n",
       "      <th>min</th>\n",
       "      <td>0.097000</td>\n",
       "      <td>0.137000</td>\n",
       "      <td>0.097000</td>\n",
       "      <td>0.112000</td>\n",
       "      <td>0.094000</td>\n",
       "      <td>0.097000</td>\n",
       "      <td>0.106000</td>\n",
       "      <td>0.106000</td>\n",
       "      <td>0.108000</td>\n",
       "      <td>0.108000</td>\n",
       "      <td>...</td>\n",
       "      <td>0.082000</td>\n",
       "      <td>0.132000</td>\n",
       "      <td>0.125000</td>\n",
       "      <td>0.097000</td>\n",
       "      <td>0.070000</td>\n",
       "      <td>0.081000</td>\n",
       "      <td>0.141000</td>\n",
       "      <td>0.158000</td>\n",
       "      <td>0.108000</td>\n",
       "      <td>0.128000</td>\n",
       "    </tr>\n",
       "    <tr>\n",
       "      <th>25%</th>\n",
       "      <td>0.304000</td>\n",
       "      <td>0.338000</td>\n",
       "      <td>0.303000</td>\n",
       "      <td>0.305250</td>\n",
       "      <td>0.300000</td>\n",
       "      <td>0.305000</td>\n",
       "      <td>0.305000</td>\n",
       "      <td>0.303000</td>\n",
       "      <td>0.306000</td>\n",
       "      <td>0.305000</td>\n",
       "      <td>...</td>\n",
       "      <td>0.546000</td>\n",
       "      <td>0.539000</td>\n",
       "      <td>0.550000</td>\n",
       "      <td>0.546000</td>\n",
       "      <td>0.531000</td>\n",
       "      <td>0.522000</td>\n",
       "      <td>0.549000</td>\n",
       "      <td>0.553000</td>\n",
       "      <td>0.554000</td>\n",
       "      <td>0.551000</td>\n",
       "    </tr>\n",
       "    <tr>\n",
       "      <th>50%</th>\n",
       "      <td>0.372000</td>\n",
       "      <td>0.388000</td>\n",
       "      <td>0.373000</td>\n",
       "      <td>0.372000</td>\n",
       "      <td>0.370000</td>\n",
       "      <td>0.372000</td>\n",
       "      <td>0.373000</td>\n",
       "      <td>0.372000</td>\n",
       "      <td>0.377000</td>\n",
       "      <td>0.373000</td>\n",
       "      <td>...</td>\n",
       "      <td>0.647000</td>\n",
       "      <td>0.645000</td>\n",
       "      <td>0.656000</td>\n",
       "      <td>0.655000</td>\n",
       "      <td>0.647000</td>\n",
       "      <td>0.620000</td>\n",
       "      <td>0.650000</td>\n",
       "      <td>0.660000</td>\n",
       "      <td>0.661000</td>\n",
       "      <td>0.659000</td>\n",
       "    </tr>\n",
       "    <tr>\n",
       "      <th>75%</th>\n",
       "      <td>0.434000</td>\n",
       "      <td>0.432000</td>\n",
       "      <td>0.438000</td>\n",
       "      <td>0.441750</td>\n",
       "      <td>0.433000</td>\n",
       "      <td>0.433750</td>\n",
       "      <td>0.434000</td>\n",
       "      <td>0.433000</td>\n",
       "      <td>0.438000</td>\n",
       "      <td>0.437000</td>\n",
       "      <td>...</td>\n",
       "      <td>0.732000</td>\n",
       "      <td>0.734000</td>\n",
       "      <td>0.745000</td>\n",
       "      <td>0.743000</td>\n",
       "      <td>0.745000</td>\n",
       "      <td>0.712000</td>\n",
       "      <td>0.736000</td>\n",
       "      <td>0.749000</td>\n",
       "      <td>0.749000</td>\n",
       "      <td>0.747000</td>\n",
       "    </tr>\n",
       "    <tr>\n",
       "      <th>max</th>\n",
       "      <td>0.698000</td>\n",
       "      <td>0.626000</td>\n",
       "      <td>0.730000</td>\n",
       "      <td>0.764000</td>\n",
       "      <td>0.741000</td>\n",
       "      <td>0.678000</td>\n",
       "      <td>0.725000</td>\n",
       "      <td>0.724000</td>\n",
       "      <td>0.733000</td>\n",
       "      <td>0.731000</td>\n",
       "      <td>...</td>\n",
       "      <td>0.914000</td>\n",
       "      <td>0.920000</td>\n",
       "      <td>0.922000</td>\n",
       "      <td>0.922000</td>\n",
       "      <td>0.926000</td>\n",
       "      <td>0.935000</td>\n",
       "      <td>0.930000</td>\n",
       "      <td>0.931000</td>\n",
       "      <td>0.931000</td>\n",
       "      <td>0.919000</td>\n",
       "    </tr>\n",
       "  </tbody>\n",
       "</table>\n",
       "<p>8 rows × 48 columns</p>\n",
       "</div>"
      ],
      "text/plain": [
       "       scores.updown.algo_convert  scores.updown.algo_convert_common_tokens  \\\n",
       "count                 5206.000000                               5206.000000   \n",
       "mean                     0.370070                                  0.383944   \n",
       "std                      0.096629                                  0.075323   \n",
       "min                      0.097000                                  0.137000   \n",
       "25%                      0.304000                                  0.338000   \n",
       "50%                      0.372000                                  0.388000   \n",
       "75%                      0.434000                                  0.432000   \n",
       "max                      0.698000                                  0.626000   \n",
       "\n",
       "       scores.updown.algo_convert_midas_sampler  \\\n",
       "count                               5206.000000   \n",
       "mean                                   0.371053   \n",
       "std                                    0.096560   \n",
       "min                                    0.097000   \n",
       "25%                                    0.303000   \n",
       "50%                                    0.373000   \n",
       "75%                                    0.438000   \n",
       "max                                    0.730000   \n",
       "\n",
       "       scores.updown.algo_convert_nd  scores.updown.algo_rpt  \\\n",
       "count                    5206.000000             5206.000000   \n",
       "mean                        0.372833                0.367516   \n",
       "std                         0.098844                0.098334   \n",
       "min                         0.112000                0.094000   \n",
       "25%                         0.305250                0.300000   \n",
       "50%                         0.372000                0.370000   \n",
       "75%                         0.441750                0.433000   \n",
       "max                         0.764000                0.741000   \n",
       "\n",
       "       scores.updown.bert_convert  scores.updown.bert_convert_unmasker_11  \\\n",
       "count                 5206.000000                             5206.000000   \n",
       "mean                     0.370011                                0.370302   \n",
       "std                      0.094379                                0.094952   \n",
       "min                      0.097000                                0.106000   \n",
       "25%                      0.305000                                0.305000   \n",
       "50%                      0.372000                                0.373000   \n",
       "75%                      0.433750                                0.434000   \n",
       "max                      0.678000                                0.725000   \n",
       "\n",
       "       scores.updown.bert_convert_unmasker_13  \\\n",
       "count                             5206.000000   \n",
       "mean                                 0.368414   \n",
       "std                                  0.095180   \n",
       "min                                  0.106000   \n",
       "25%                                  0.303000   \n",
       "50%                                  0.372000   \n",
       "75%                                  0.433000   \n",
       "max                                  0.724000   \n",
       "\n",
       "       scores.updown.bert_convert_unmasker_31  \\\n",
       "count                             5206.000000   \n",
       "mean                                 0.373224   \n",
       "std                                  0.095534   \n",
       "min                                  0.108000   \n",
       "25%                                  0.306000   \n",
       "50%                                  0.377000   \n",
       "75%                                  0.438000   \n",
       "max                                  0.733000   \n",
       "\n",
       "       scores.updown.bert_convert_unmasker_33  ...  \\\n",
       "count                             5206.000000  ...   \n",
       "mean                                 0.369961  ...   \n",
       "std                                  0.095682  ...   \n",
       "min                                  0.108000  ...   \n",
       "25%                                  0.305000  ...   \n",
       "50%                                  0.373000  ...   \n",
       "75%                                  0.437000  ...   \n",
       "max                                  0.731000  ...   \n",
       "\n",
       "       scores.width.bert_convert_unmasker_11  \\\n",
       "count                            5206.000000   \n",
       "mean                                0.631798   \n",
       "std                                 0.136601   \n",
       "min                                 0.082000   \n",
       "25%                                 0.546000   \n",
       "50%                                 0.647000   \n",
       "75%                                 0.732000   \n",
       "max                                 0.914000   \n",
       "\n",
       "       scores.width.bert_convert_unmasker_13  \\\n",
       "count                            5206.000000   \n",
       "mean                                0.629556   \n",
       "std                                 0.139693   \n",
       "min                                 0.132000   \n",
       "25%                                 0.539000   \n",
       "50%                                 0.645000   \n",
       "75%                                 0.734000   \n",
       "max                                 0.920000   \n",
       "\n",
       "       scores.width.bert_convert_unmasker_31  \\\n",
       "count                            5206.000000   \n",
       "mean                                0.640328   \n",
       "std                                 0.140439   \n",
       "min                                 0.125000   \n",
       "25%                                 0.550000   \n",
       "50%                                 0.656000   \n",
       "75%                                 0.745000   \n",
       "max                                 0.922000   \n",
       "\n",
       "       scores.width.bert_convert_unmasker_33  scores.width.raw_convert  \\\n",
       "count                            5206.000000               5206.000000   \n",
       "mean                                0.637462                  0.628121   \n",
       "std                                 0.142651                  0.154277   \n",
       "min                                 0.097000                  0.070000   \n",
       "25%                                 0.546000                  0.531000   \n",
       "50%                                 0.655000                  0.647000   \n",
       "75%                                 0.743000                  0.745000   \n",
       "max                                 0.922000                  0.926000   \n",
       "\n",
       "       scores.width.raw_tfidf  scores.width.roberta_convert_unmasker_11  \\\n",
       "count             5206.000000                               5206.000000   \n",
       "mean                 0.609761                                  0.635828   \n",
       "std                  0.142166                                  0.135999   \n",
       "min                  0.081000                                  0.141000   \n",
       "25%                  0.522000                                  0.549000   \n",
       "50%                  0.620000                                  0.650000   \n",
       "75%                  0.712000                                  0.736000   \n",
       "max                  0.935000                                  0.930000   \n",
       "\n",
       "       scores.width.roberta_convert_unmasker_31  \\\n",
       "count                               5206.000000   \n",
       "mean                                   0.643742   \n",
       "std                                    0.139375   \n",
       "min                                    0.158000   \n",
       "25%                                    0.553000   \n",
       "50%                                    0.660000   \n",
       "75%                                    0.749000   \n",
       "max                                    0.931000   \n",
       "\n",
       "       scores.width.roberta_convert_unmasker_31_with_stoken  \\\n",
       "count                                           5206.000000   \n",
       "mean                                               0.643729   \n",
       "std                                                0.139772   \n",
       "min                                                0.108000   \n",
       "25%                                                0.554000   \n",
       "50%                                                0.661000   \n",
       "75%                                                0.749000   \n",
       "max                                                0.931000   \n",
       "\n",
       "       scores.width.roberta_convert_unmasker_33_with_stoken  \n",
       "count                                           5206.000000  \n",
       "mean                                               0.641115  \n",
       "std                                                0.141815  \n",
       "min                                                0.128000  \n",
       "25%                                                0.551000  \n",
       "50%                                                0.659000  \n",
       "75%                                                0.747000  \n",
       "max                                                0.919000  \n",
       "\n",
       "[8 rows x 48 columns]"
      ]
     },
     "execution_count": 107,
     "metadata": {},
     "output_type": "execute_result"
    }
   ],
   "source": [
    "df.iloc[:,17:].describe()"
   ]
  },
  {
   "cell_type": "markdown",
   "id": "18e6946d-ea3d-4992-b972-7447d8de4b02",
   "metadata": {
    "tags": []
   },
   "source": [
    "##### algo_convert"
   ]
  },
  {
   "cell_type": "code",
   "execution_count": 63,
   "id": "a5ea3521-3e8d-480b-87fb-c30d7b78d952",
   "metadata": {},
   "outputs": [
    {
     "data": {
      "text/html": [
       "<div>\n",
       "<style scoped>\n",
       "    .dataframe tbody tr th:only-of-type {\n",
       "        vertical-align: middle;\n",
       "    }\n",
       "\n",
       "    .dataframe tbody tr th {\n",
       "        vertical-align: top;\n",
       "    }\n",
       "\n",
       "    .dataframe thead th {\n",
       "        text-align: right;\n",
       "    }\n",
       "</style>\n",
       "<table border=\"1\" class=\"dataframe\">\n",
       "  <thead>\n",
       "    <tr style=\"text-align: right;\">\n",
       "      <th></th>\n",
       "      <th>context</th>\n",
       "      <th>preds.algo_convert</th>\n",
       "    </tr>\n",
       "  </thead>\n",
       "  <tbody>\n",
       "    <tr>\n",
       "      <th>127</th>\n",
       "      <td>Yes. fascinating fact!. And sharks can be trained like dogs to bark. [SEP] I kinda feel bad for them. They have no rib cages so if they ever end up on land. they get crushed by the weight of their body. [SEP] Yes. sad indeed. Sharks even evolved earlier than dinosaurs and trees.</td>\n",
       "      <td>and with only 29 being land-- it s kind of crazy to know that humans live on such a small part of the land s surface</td>\n",
       "    </tr>\n",
       "    <tr>\n",
       "      <th>281</th>\n",
       "      <td>I know! That sounds so cool. I wonder how they do that? I know you can hear Jupiter's storms too. [SEP] Yes. its so cool! Did you know the equator rotates faster than the poles? [SEP] I guess that makes sense if you think about it. but is sounds somewhat shocking.</td>\n",
       "      <td>and with only 29 being land-- it s kind of crazy to know that humans live on such a small part of the poles s surface</td>\n",
       "    </tr>\n",
       "    <tr>\n",
       "      <th>542</th>\n",
       "      <td>I'm not sure. Did you know that until 1805. the runner up in a presidential election automatically became the VP? Can you imagine Hillary being in office with Trump now? [SEP] No I cannot imagine that at all actually. did you know the guest house is larger than the white house? [SEP] That has to be pretty big. because the White House is huge!</td>\n",
       "      <td>yeah but i do wonder if they presidents live in those house or not</td>\n",
       "    </tr>\n",
       "    <tr>\n",
       "      <th>645</th>\n",
       "      <td>I don't watch it too much. but I had a lot of fun playing it as a kid. Have you heard of Lionel Messi? [SEP] Of course. He's one of the best footballers of all time. He has 660 career goals for Argentina! [SEP] I heard he had a type of growth hormone deficiency as a kid and that is why they went to Spain for football.</td>\n",
       "      <td>i heard spain believes that too</td>\n",
       "    </tr>\n",
       "    <tr>\n",
       "      <th>896</th>\n",
       "      <td>Wow! I bet there's one for chess. too. Have you ever heard of the fantasy book called \"In the Realms of the Unread?\" [SEP] Is that the manuscript with over 15.000 pages and watercolor illustrations? That would take a long time to read [SEP] Yes. but it sounds amazing! They could make a game or movie out of it. Too bad it was discovered after the writer died.</td>\n",
       "      <td>i wonder how much you could realistically retain when you read at that game</td>\n",
       "    </tr>\n",
       "  </tbody>\n",
       "</table>\n",
       "</div>"
      ],
      "text/plain": [
       "                                                                                                                                                                                                                                                                                                                                                                      context  \\\n",
       "127                                                                                   Yes. fascinating fact!. And sharks can be trained like dogs to bark. [SEP] I kinda feel bad for them. They have no rib cages so if they ever end up on land. they get crushed by the weight of their body. [SEP] Yes. sad indeed. Sharks even evolved earlier than dinosaurs and trees.   \n",
       "281                                                                                                  I know! That sounds so cool. I wonder how they do that? I know you can hear Jupiter's storms too. [SEP] Yes. its so cool! Did you know the equator rotates faster than the poles? [SEP] I guess that makes sense if you think about it. but is sounds somewhat shocking.   \n",
       "542                  I'm not sure. Did you know that until 1805. the runner up in a presidential election automatically became the VP? Can you imagine Hillary being in office with Trump now? [SEP] No I cannot imagine that at all actually. did you know the guest house is larger than the white house? [SEP] That has to be pretty big. because the White House is huge!   \n",
       "645                                           I don't watch it too much. but I had a lot of fun playing it as a kid. Have you heard of Lionel Messi? [SEP] Of course. He's one of the best footballers of all time. He has 660 career goals for Argentina! [SEP] I heard he had a type of growth hormone deficiency as a kid and that is why they went to Spain for football.   \n",
       "896  Wow! I bet there's one for chess. too. Have you ever heard of the fantasy book called \"In the Realms of the Unread?\" [SEP] Is that the manuscript with over 15.000 pages and watercolor illustrations? That would take a long time to read [SEP] Yes. but it sounds amazing! They could make a game or movie out of it. Too bad it was discovered after the writer died.   \n",
       "\n",
       "                                                                                                        preds.algo_convert  \n",
       "127   and with only 29 being land-- it s kind of crazy to know that humans live on such a small part of the land s surface  \n",
       "281  and with only 29 being land-- it s kind of crazy to know that humans live on such a small part of the poles s surface  \n",
       "542                                                     yeah but i do wonder if they presidents live in those house or not  \n",
       "645                                                                                        i heard spain believes that too  \n",
       "896                                            i wonder how much you could realistically retain when you read at that game  "
      ]
     },
     "execution_count": 63,
     "metadata": {},
     "output_type": "execute_result"
    }
   ],
   "source": [
    "df[['context', 'preds.algo_convert', 'scores.depth.algo_convert']][df['scores.depth.algo_convert'] > 0.8].head().iloc[:, [0,1]]"
   ]
  },
  {
   "cell_type": "code",
   "execution_count": 65,
   "id": "c753cd80-2973-4c7a-9154-f27d05297123",
   "metadata": {},
   "outputs": [
    {
     "data": {
      "text/html": [
       "<div>\n",
       "<style scoped>\n",
       "    .dataframe tbody tr th:only-of-type {\n",
       "        vertical-align: middle;\n",
       "    }\n",
       "\n",
       "    .dataframe tbody tr th {\n",
       "        vertical-align: top;\n",
       "    }\n",
       "\n",
       "    .dataframe thead th {\n",
       "        text-align: right;\n",
       "    }\n",
       "</style>\n",
       "<table border=\"1\" class=\"dataframe\">\n",
       "  <thead>\n",
       "    <tr style=\"text-align: right;\">\n",
       "      <th></th>\n",
       "      <th>context</th>\n",
       "      <th>preds.algo_convert</th>\n",
       "    </tr>\n",
       "  </thead>\n",
       "  <tbody>\n",
       "    <tr>\n",
       "      <th>1892</th>\n",
       "      <td>Here they are. [SEP] Thanks a lot ; are these all the notes? [SEP] Oh, no, this is the rest.</td>\n",
       "      <td>i also need to check these notes out</td>\n",
       "    </tr>\n",
       "    <tr>\n",
       "      <th>1893</th>\n",
       "      <td>Thanks a lot ; are these all the notes? [SEP] Oh, no, this is the rest. [SEP] Thank you very much.</td>\n",
       "      <td>i also need to check these notes out</td>\n",
       "    </tr>\n",
       "    <tr>\n",
       "      <th>2091</th>\n",
       "      <td>I'm going to try to leave by ten. [SEP] Take care and give my best to your parents. [SEP] Good-bye. Hope to see you soon again next year.</td>\n",
       "      <td>you too bye</td>\n",
       "    </tr>\n",
       "  </tbody>\n",
       "</table>\n",
       "</div>"
      ],
      "text/plain": [
       "                                                                                                                                        context  \\\n",
       "1892                                               Here they are. [SEP] Thanks a lot ; are these all the notes? [SEP] Oh, no, this is the rest.   \n",
       "1893                                         Thanks a lot ; are these all the notes? [SEP] Oh, no, this is the rest. [SEP] Thank you very much.   \n",
       "2091  I'm going to try to leave by ten. [SEP] Take care and give my best to your parents. [SEP] Good-bye. Hope to see you soon again next year.   \n",
       "\n",
       "                        preds.algo_convert  \n",
       "1892  i also need to check these notes out  \n",
       "1893  i also need to check these notes out  \n",
       "2091                           you too bye  "
      ]
     },
     "execution_count": 65,
     "metadata": {},
     "output_type": "execute_result"
    }
   ],
   "source": [
    "df[['context', 'preds.algo_convert', 'scores.depth.algo_convert']][df['scores.depth.algo_convert'] < 0.15].head().iloc[:, [0,1]]"
   ]
  },
  {
   "cell_type": "markdown",
   "id": "4eeaff3c-d84d-4533-b41d-80d0e70d13a5",
   "metadata": {
    "jp-MarkdownHeadingCollapsed": true,
    "tags": []
   },
   "source": [
    "##### convert_nd"
   ]
  },
  {
   "cell_type": "code",
   "execution_count": 72,
   "id": "09d5e1bf-7b23-4390-a5ec-3f2a913e4a5f",
   "metadata": {},
   "outputs": [
    {
     "data": {
      "text/html": [
       "<div>\n",
       "<style scoped>\n",
       "    .dataframe tbody tr th:only-of-type {\n",
       "        vertical-align: middle;\n",
       "    }\n",
       "\n",
       "    .dataframe tbody tr th {\n",
       "        vertical-align: top;\n",
       "    }\n",
       "\n",
       "    .dataframe thead th {\n",
       "        text-align: right;\n",
       "    }\n",
       "</style>\n",
       "<table border=\"1\" class=\"dataframe\">\n",
       "  <thead>\n",
       "    <tr style=\"text-align: right;\">\n",
       "      <th></th>\n",
       "      <th>context</th>\n",
       "      <th>preds.algo_convert_nd</th>\n",
       "    </tr>\n",
       "  </thead>\n",
       "  <tbody>\n",
       "    <tr>\n",
       "      <th>47</th>\n",
       "      <td>sounds like you know a thing or 2 about radio waves. WW2 soldiers made radios out of razor blades and a pencil [SEP] Ah yes. foxhole radios. Well electromagnetic energy is everywhere. it can travel through space so why couldn't it carry information? [SEP] it does so and very well. digital signals are made by shifitng phase and amplitude. pretty cool stuff. each shift translateds into a 1 or 0 in the bits of the information fields.</td>\n",
       "      <td>have you ever used a rotary amplitude</td>\n",
       "    </tr>\n",
       "    <tr>\n",
       "      <th>63</th>\n",
       "      <td>I know. only one lefty? That is strange. Did you know that the Net Passer Rating is considered the \"Mother of All Stats\". It is the go to thing in measuring a QB and the caliber of Super Bowl teams! [SEP] Cool. Do yo like the new england patriots? [SEP] I don't mind them. my favorite team is the Jacksonville Jaguars though. Who is your favorite team?</td>\n",
       "      <td>do you follow the jacksonville jaguars at all</td>\n",
       "    </tr>\n",
       "    <tr>\n",
       "      <th>83</th>\n",
       "      <td>I don't play video games. but I can expect that film and games will merge and blend more. People like interactivity. but they want to be entertained as well. [SEP] we come a long way the Nintendo system could only display 54 colors. [SEP] 54 colors is so few. but the game designs were solid. That's what made games on the NES fun. I think the newer systems are more powerful. but not necessary more fun.</td>\n",
       "      <td>did you know that it could only display 54 systems</td>\n",
       "    </tr>\n",
       "    <tr>\n",
       "      <th>127</th>\n",
       "      <td>Yes. fascinating fact!. And sharks can be trained like dogs to bark. [SEP] I kinda feel bad for them. They have no rib cages so if they ever end up on land. they get crushed by the weight of their body. [SEP] Yes. sad indeed. Sharks even evolved earlier than dinosaurs and trees.</td>\n",
       "      <td>and with only 29 being land-- it s kind of crazy to know that humans live on such a small part of the land s surface</td>\n",
       "    </tr>\n",
       "    <tr>\n",
       "      <th>130</th>\n",
       "      <td>Have you ever seen the white shark cafe? It's where white sharks meet in the middle of the Pacific Ocean. [SEP] No. I've never seen it but I have heard about it. Did you know that not just dolphins rescue sailors. but sharks too? [SEP] I did know that. Animals cease to amaze me. We have to protect them at all costs.</td>\n",
       "      <td>and with only 29 being land-- it s kind of crazy to know that humans live on such a small part of the pacific ocean s surface</td>\n",
       "    </tr>\n",
       "  </tbody>\n",
       "</table>\n",
       "</div>"
      ],
      "text/plain": [
       "                                                                                                                                                                                                                                                                                                                                                                                                                                                context  \\\n",
       "47   sounds like you know a thing or 2 about radio waves. WW2 soldiers made radios out of razor blades and a pencil [SEP] Ah yes. foxhole radios. Well electromagnetic energy is everywhere. it can travel through space so why couldn't it carry information? [SEP] it does so and very well. digital signals are made by shifitng phase and amplitude. pretty cool stuff. each shift translateds into a 1 or 0 in the bits of the information fields.   \n",
       "63                                                                                     I know. only one lefty? That is strange. Did you know that the Net Passer Rating is considered the \"Mother of All Stats\". It is the go to thing in measuring a QB and the caliber of Super Bowl teams! [SEP] Cool. Do yo like the new england patriots? [SEP] I don't mind them. my favorite team is the Jacksonville Jaguars though. Who is your favorite team?   \n",
       "83                                 I don't play video games. but I can expect that film and games will merge and blend more. People like interactivity. but they want to be entertained as well. [SEP] we come a long way the Nintendo system could only display 54 colors. [SEP] 54 colors is so few. but the game designs were solid. That's what made games on the NES fun. I think the newer systems are more powerful. but not necessary more fun.   \n",
       "127                                                                                                                                                             Yes. fascinating fact!. And sharks can be trained like dogs to bark. [SEP] I kinda feel bad for them. They have no rib cages so if they ever end up on land. they get crushed by the weight of their body. [SEP] Yes. sad indeed. Sharks even evolved earlier than dinosaurs and trees.   \n",
       "130                                                                                                                       Have you ever seen the white shark cafe? It's where white sharks meet in the middle of the Pacific Ocean. [SEP] No. I've never seen it but I have heard about it. Did you know that not just dolphins rescue sailors. but sharks too? [SEP] I did know that. Animals cease to amaze me. We have to protect them at all costs.   \n",
       "\n",
       "                                                                                                             preds.algo_convert_nd  \n",
       "47                                                                                           have you ever used a rotary amplitude  \n",
       "63                                                                                   do you follow the jacksonville jaguars at all  \n",
       "83                                                                              did you know that it could only display 54 systems  \n",
       "127           and with only 29 being land-- it s kind of crazy to know that humans live on such a small part of the land s surface  \n",
       "130  and with only 29 being land-- it s kind of crazy to know that humans live on such a small part of the pacific ocean s surface  "
      ]
     },
     "execution_count": 72,
     "metadata": {},
     "output_type": "execute_result"
    }
   ],
   "source": [
    "df[['context', 'preds.algo_convert_nd', 'scores.depth.algo_convert']][df['scores.depth.algo_convert_nd'] > 0.8].head().iloc[:, [0,1]]"
   ]
  },
  {
   "cell_type": "code",
   "execution_count": 73,
   "id": "11e9470a-1360-4aa4-baa8-7319b9ed9481",
   "metadata": {},
   "outputs": [
    {
     "data": {
      "text/html": [
       "<div>\n",
       "<style scoped>\n",
       "    .dataframe tbody tr th:only-of-type {\n",
       "        vertical-align: middle;\n",
       "    }\n",
       "\n",
       "    .dataframe tbody tr th {\n",
       "        vertical-align: top;\n",
       "    }\n",
       "\n",
       "    .dataframe thead th {\n",
       "        text-align: right;\n",
       "    }\n",
       "</style>\n",
       "<table border=\"1\" class=\"dataframe\">\n",
       "  <thead>\n",
       "    <tr style=\"text-align: right;\">\n",
       "      <th></th>\n",
       "      <th>context</th>\n",
       "      <th>preds.algo_convert_nd</th>\n",
       "    </tr>\n",
       "  </thead>\n",
       "  <tbody>\n",
       "    <tr>\n",
       "      <th>1349</th>\n",
       "      <td>Hello! [SEP] Hello, Debbie. This is Donald. [SEP] Oh, hi, Donald.</td>\n",
       "      <td>i do enjoy political donald</td>\n",
       "    </tr>\n",
       "    <tr>\n",
       "      <th>1892</th>\n",
       "      <td>Here they are. [SEP] Thanks a lot ; are these all the notes? [SEP] Oh, no, this is the rest.</td>\n",
       "      <td>i also need to check these notes out</td>\n",
       "    </tr>\n",
       "    <tr>\n",
       "      <th>1893</th>\n",
       "      <td>Thanks a lot ; are these all the notes? [SEP] Oh, no, this is the rest. [SEP] Thank you very much.</td>\n",
       "      <td>i also need to check these notes out</td>\n",
       "    </tr>\n",
       "    <tr>\n",
       "      <th>2091</th>\n",
       "      <td>I'm going to try to leave by ten. [SEP] Take care and give my best to your parents. [SEP] Good-bye. Hope to see you soon again next year.</td>\n",
       "      <td>you too bye</td>\n",
       "    </tr>\n",
       "    <tr>\n",
       "      <th>2208</th>\n",
       "      <td>This is your table. [SEP] And would you like to order now? [SEP] Yes.</td>\n",
       "      <td>very well then</td>\n",
       "    </tr>\n",
       "  </tbody>\n",
       "</table>\n",
       "</div>"
      ],
      "text/plain": [
       "                                                                                                                                        context  \\\n",
       "1349                                                                          Hello! [SEP] Hello, Debbie. This is Donald. [SEP] Oh, hi, Donald.   \n",
       "1892                                               Here they are. [SEP] Thanks a lot ; are these all the notes? [SEP] Oh, no, this is the rest.   \n",
       "1893                                         Thanks a lot ; are these all the notes? [SEP] Oh, no, this is the rest. [SEP] Thank you very much.   \n",
       "2091  I'm going to try to leave by ten. [SEP] Take care and give my best to your parents. [SEP] Good-bye. Hope to see you soon again next year.   \n",
       "2208                                                                      This is your table. [SEP] And would you like to order now? [SEP] Yes.   \n",
       "\n",
       "                     preds.algo_convert_nd  \n",
       "1349           i do enjoy political donald  \n",
       "1892  i also need to check these notes out  \n",
       "1893  i also need to check these notes out  \n",
       "2091                           you too bye  \n",
       "2208                        very well then  "
      ]
     },
     "execution_count": 73,
     "metadata": {},
     "output_type": "execute_result"
    }
   ],
   "source": [
    "df[['context', 'preds.algo_convert_nd', 'scores.depth.algo_convert']][df['scores.depth.algo_convert_nd'] < 0.15].head().iloc[:, [0,1]]"
   ]
  },
  {
   "cell_type": "markdown",
   "id": "7c09bf9f-00d5-4e49-8563-19a22d0dc198",
   "metadata": {
    "tags": []
   },
   "source": [
    "##### rpt"
   ]
  },
  {
   "cell_type": "code",
   "execution_count": 74,
   "id": "221b6e90-a39c-4c9f-8447-766e95dd7b1a",
   "metadata": {},
   "outputs": [
    {
     "data": {
      "text/html": [
       "<div>\n",
       "<style scoped>\n",
       "    .dataframe tbody tr th:only-of-type {\n",
       "        vertical-align: middle;\n",
       "    }\n",
       "\n",
       "    .dataframe tbody tr th {\n",
       "        vertical-align: top;\n",
       "    }\n",
       "\n",
       "    .dataframe thead th {\n",
       "        text-align: right;\n",
       "    }\n",
       "</style>\n",
       "<table border=\"1\" class=\"dataframe\">\n",
       "  <thead>\n",
       "    <tr style=\"text-align: right;\">\n",
       "      <th></th>\n",
       "      <th>context</th>\n",
       "      <th>preds.algo_rpt</th>\n",
       "    </tr>\n",
       "  </thead>\n",
       "  <tbody>\n",
       "    <tr>\n",
       "      <th>37</th>\n",
       "      <td>yes. that's why Fox News is so popular if you ask me. I like Bill Clinton. but Hillary is another story. Wasn't Richard Nixon a democrat? Fox News was created by him and Richard Ailes.. [SEP] No Nixon was a Republican. he ran against Kennedy. a democrat. who was one of the top three wealthiest presidents in American history. [SEP] Right...  i should have known that. The White House's guest house is bigger than the WH itself. funny...</td>\n",
       "      <td>he isnt even one of the wealthiest presidents</td>\n",
       "    </tr>\n",
       "    <tr>\n",
       "      <th>38</th>\n",
       "      <td>No Nixon was a Republican. he ran against Kennedy. a democrat. who was one of the top three wealthiest presidents in American history. [SEP] Right...  i should have known that. The White House's guest house is bigger than the WH itself. funny... [SEP] In 1805 they changed it but Hillary Clinton would be Donald Trump;s vice president because the runnerup became the Vice President haha.</td>\n",
       "      <td>haha isn t particularly rich compared to them</td>\n",
       "    </tr>\n",
       "    <tr>\n",
       "      <th>46</th>\n",
       "      <td>Well it makes sense since their frequency and amplitude could affect the oscillating fields even though they are million of miles away. [SEP] sounds like you know a thing or 2 about radio waves. WW2 soldiers made radios out of razor blades and a pencil [SEP] Ah yes. foxhole radios. Well electromagnetic energy is everywhere. it can travel through space so why couldn't it carry information?</td>\n",
       "      <td>because it is the fastest to dial on a rotary radios</td>\n",
       "    </tr>\n",
       "    <tr>\n",
       "      <th>48</th>\n",
       "      <td>Ah yes. foxhole radios. Well electromagnetic energy is everywhere. it can travel through space so why couldn't it carry information? [SEP] it does so and very well. digital signals are made by shifitng phase and amplitude. pretty cool stuff. each shift translateds into a 1 or 0 in the bits of the information fields. [SEP] Yes all binary. just like computers. Luckily there are websites that have archived thousands of radio dramas and share them for free.</td>\n",
       "      <td>that seems really convenient but also kind of random now that we have digital dramas</td>\n",
       "    </tr>\n",
       "    <tr>\n",
       "      <th>54</th>\n",
       "      <td>That would be interesting to know. We are getting close to the super bowl which is held usually the first sunday in february [SEP] Yes. I agree. It says Foles was the first Quarterback in NFL history with completions of more than 40 yards in three different receivers in a postseason game. [SEP] Cool. did you know that an NFL has only 11 minutes of gameplay in average?</td>\n",
       "      <td>yes he is the only left handed qb in the nfl right now</td>\n",
       "    </tr>\n",
       "  </tbody>\n",
       "</table>\n",
       "</div>"
      ],
      "text/plain": [
       "                                                                                                                                                                                                                                                                                                                                                                                                                                                                      context  \\\n",
       "37                      yes. that's why Fox News is so popular if you ask me. I like Bill Clinton. but Hillary is another story. Wasn't Richard Nixon a democrat? Fox News was created by him and Richard Ailes.. [SEP] No Nixon was a Republican. he ran against Kennedy. a democrat. who was one of the top three wealthiest presidents in American history. [SEP] Right...  i should have known that. The White House's guest house is bigger than the WH itself. funny...   \n",
       "38                                                                        No Nixon was a Republican. he ran against Kennedy. a democrat. who was one of the top three wealthiest presidents in American history. [SEP] Right...  i should have known that. The White House's guest house is bigger than the WH itself. funny... [SEP] In 1805 they changed it but Hillary Clinton would be Donald Trump;s vice president because the runnerup became the Vice President haha.   \n",
       "46                                                                    Well it makes sense since their frequency and amplitude could affect the oscillating fields even though they are million of miles away. [SEP] sounds like you know a thing or 2 about radio waves. WW2 soldiers made radios out of razor blades and a pencil [SEP] Ah yes. foxhole radios. Well electromagnetic energy is everywhere. it can travel through space so why couldn't it carry information?   \n",
       "48  Ah yes. foxhole radios. Well electromagnetic energy is everywhere. it can travel through space so why couldn't it carry information? [SEP] it does so and very well. digital signals are made by shifitng phase and amplitude. pretty cool stuff. each shift translateds into a 1 or 0 in the bits of the information fields. [SEP] Yes all binary. just like computers. Luckily there are websites that have archived thousands of radio dramas and share them for free.   \n",
       "54                                                                                         That would be interesting to know. We are getting close to the super bowl which is held usually the first sunday in february [SEP] Yes. I agree. It says Foles was the first Quarterback in NFL history with completions of more than 40 yards in three different receivers in a postseason game. [SEP] Cool. did you know that an NFL has only 11 minutes of gameplay in average?   \n",
       "\n",
       "                                                                          preds.algo_rpt  \n",
       "37                                         he isnt even one of the wealthiest presidents  \n",
       "38                                         haha isn t particularly rich compared to them  \n",
       "46                                  because it is the fastest to dial on a rotary radios  \n",
       "48  that seems really convenient but also kind of random now that we have digital dramas  \n",
       "54                                yes he is the only left handed qb in the nfl right now  "
      ]
     },
     "execution_count": 74,
     "metadata": {},
     "output_type": "execute_result"
    }
   ],
   "source": [
    "df[['context', 'preds.algo_rpt', 'scores.depth.algo_rpt']][df['scores.depth.algo_rpt'] > 0.7].head().iloc[:, [0,1]]"
   ]
  },
  {
   "cell_type": "code",
   "execution_count": 75,
   "id": "5a60be75-b7d5-4c27-bb00-a3e789bff40b",
   "metadata": {},
   "outputs": [
    {
     "data": {
      "text/html": [
       "<div>\n",
       "<style scoped>\n",
       "    .dataframe tbody tr th:only-of-type {\n",
       "        vertical-align: middle;\n",
       "    }\n",
       "\n",
       "    .dataframe tbody tr th {\n",
       "        vertical-align: top;\n",
       "    }\n",
       "\n",
       "    .dataframe thead th {\n",
       "        text-align: right;\n",
       "    }\n",
       "</style>\n",
       "<table border=\"1\" class=\"dataframe\">\n",
       "  <thead>\n",
       "    <tr style=\"text-align: right;\">\n",
       "      <th></th>\n",
       "      <th>context</th>\n",
       "      <th>preds.algo_rpt</th>\n",
       "    </tr>\n",
       "  </thead>\n",
       "  <tbody>\n",
       "    <tr>\n",
       "      <th>302</th>\n",
       "      <td>Not to much. [SEP] I was going to say that if you did. there's a website that has thousands of episodes for free. [SEP] That would be neat to look at.</td>\n",
       "      <td>thats interesting i will have to look that up on the website</td>\n",
       "    </tr>\n",
       "  </tbody>\n",
       "</table>\n",
       "</div>"
      ],
      "text/plain": [
       "                                                                                                                                                    context  \\\n",
       "302  Not to much. [SEP] I was going to say that if you did. there's a website that has thousands of episodes for free. [SEP] That would be neat to look at.   \n",
       "\n",
       "                                                   preds.algo_rpt  \n",
       "302  thats interesting i will have to look that up on the website  "
      ]
     },
     "execution_count": 75,
     "metadata": {},
     "output_type": "execute_result"
    }
   ],
   "source": [
    "df[['context', 'preds.algo_rpt', 'scores.depth.algo_rpt']][df['scores.depth.algo_rpt'] < 0.15].head().iloc[:, [0,1]]"
   ]
  },
  {
   "cell_type": "markdown",
   "id": "a41f8a15-3886-451c-804b-8be8d47e3f7e",
   "metadata": {
    "jp-MarkdownHeadingCollapsed": true,
    "tags": []
   },
   "source": [
    "#### width"
   ]
  },
  {
   "cell_type": "code",
   "execution_count": 108,
   "id": "bc6b18dc-58c8-4ad9-9093-b8b1f4e3ef6b",
   "metadata": {},
   "outputs": [
    {
     "data": {
      "text/html": [
       "<div>\n",
       "<style scoped>\n",
       "    .dataframe tbody tr th:only-of-type {\n",
       "        vertical-align: middle;\n",
       "    }\n",
       "\n",
       "    .dataframe tbody tr th {\n",
       "        vertical-align: top;\n",
       "    }\n",
       "\n",
       "    .dataframe thead th {\n",
       "        text-align: right;\n",
       "    }\n",
       "</style>\n",
       "<table border=\"1\" class=\"dataframe\">\n",
       "  <thead>\n",
       "    <tr style=\"text-align: right;\">\n",
       "      <th></th>\n",
       "      <th>scores.updown.algo_convert</th>\n",
       "      <th>scores.updown.algo_convert_common_tokens</th>\n",
       "      <th>scores.updown.algo_convert_midas_sampler</th>\n",
       "      <th>scores.updown.algo_convert_nd</th>\n",
       "      <th>scores.updown.algo_rpt</th>\n",
       "      <th>scores.updown.bert_convert</th>\n",
       "      <th>scores.updown.bert_convert_unmasker_11</th>\n",
       "      <th>scores.updown.bert_convert_unmasker_13</th>\n",
       "      <th>scores.updown.bert_convert_unmasker_31</th>\n",
       "      <th>scores.updown.bert_convert_unmasker_33</th>\n",
       "      <th>...</th>\n",
       "      <th>scores.width.bert_convert_unmasker_11</th>\n",
       "      <th>scores.width.bert_convert_unmasker_13</th>\n",
       "      <th>scores.width.bert_convert_unmasker_31</th>\n",
       "      <th>scores.width.bert_convert_unmasker_33</th>\n",
       "      <th>scores.width.raw_convert</th>\n",
       "      <th>scores.width.raw_tfidf</th>\n",
       "      <th>scores.width.roberta_convert_unmasker_11</th>\n",
       "      <th>scores.width.roberta_convert_unmasker_31</th>\n",
       "      <th>scores.width.roberta_convert_unmasker_31_with_stoken</th>\n",
       "      <th>scores.width.roberta_convert_unmasker_33_with_stoken</th>\n",
       "    </tr>\n",
       "  </thead>\n",
       "  <tbody>\n",
       "    <tr>\n",
       "      <th>count</th>\n",
       "      <td>5206.000000</td>\n",
       "      <td>5206.000000</td>\n",
       "      <td>5206.000000</td>\n",
       "      <td>5206.000000</td>\n",
       "      <td>5206.000000</td>\n",
       "      <td>5206.000000</td>\n",
       "      <td>5206.000000</td>\n",
       "      <td>5206.000000</td>\n",
       "      <td>5206.000000</td>\n",
       "      <td>5206.000000</td>\n",
       "      <td>...</td>\n",
       "      <td>5206.000000</td>\n",
       "      <td>5206.000000</td>\n",
       "      <td>5206.000000</td>\n",
       "      <td>5206.000000</td>\n",
       "      <td>5206.000000</td>\n",
       "      <td>5206.000000</td>\n",
       "      <td>5206.000000</td>\n",
       "      <td>5206.000000</td>\n",
       "      <td>5206.000000</td>\n",
       "      <td>5206.000000</td>\n",
       "    </tr>\n",
       "    <tr>\n",
       "      <th>mean</th>\n",
       "      <td>0.370070</td>\n",
       "      <td>0.383944</td>\n",
       "      <td>0.371053</td>\n",
       "      <td>0.372833</td>\n",
       "      <td>0.367516</td>\n",
       "      <td>0.370011</td>\n",
       "      <td>0.370302</td>\n",
       "      <td>0.368414</td>\n",
       "      <td>0.373224</td>\n",
       "      <td>0.369961</td>\n",
       "      <td>...</td>\n",
       "      <td>0.631798</td>\n",
       "      <td>0.629556</td>\n",
       "      <td>0.640328</td>\n",
       "      <td>0.637462</td>\n",
       "      <td>0.628121</td>\n",
       "      <td>0.609761</td>\n",
       "      <td>0.635828</td>\n",
       "      <td>0.643742</td>\n",
       "      <td>0.643729</td>\n",
       "      <td>0.641115</td>\n",
       "    </tr>\n",
       "    <tr>\n",
       "      <th>std</th>\n",
       "      <td>0.096629</td>\n",
       "      <td>0.075323</td>\n",
       "      <td>0.096560</td>\n",
       "      <td>0.098844</td>\n",
       "      <td>0.098334</td>\n",
       "      <td>0.094379</td>\n",
       "      <td>0.094952</td>\n",
       "      <td>0.095180</td>\n",
       "      <td>0.095534</td>\n",
       "      <td>0.095682</td>\n",
       "      <td>...</td>\n",
       "      <td>0.136601</td>\n",
       "      <td>0.139693</td>\n",
       "      <td>0.140439</td>\n",
       "      <td>0.142651</td>\n",
       "      <td>0.154277</td>\n",
       "      <td>0.142166</td>\n",
       "      <td>0.135999</td>\n",
       "      <td>0.139375</td>\n",
       "      <td>0.139772</td>\n",
       "      <td>0.141815</td>\n",
       "    </tr>\n",
       "    <tr>\n",
       "      <th>min</th>\n",
       "      <td>0.097000</td>\n",
       "      <td>0.137000</td>\n",
       "      <td>0.097000</td>\n",
       "      <td>0.112000</td>\n",
       "      <td>0.094000</td>\n",
       "      <td>0.097000</td>\n",
       "      <td>0.106000</td>\n",
       "      <td>0.106000</td>\n",
       "      <td>0.108000</td>\n",
       "      <td>0.108000</td>\n",
       "      <td>...</td>\n",
       "      <td>0.082000</td>\n",
       "      <td>0.132000</td>\n",
       "      <td>0.125000</td>\n",
       "      <td>0.097000</td>\n",
       "      <td>0.070000</td>\n",
       "      <td>0.081000</td>\n",
       "      <td>0.141000</td>\n",
       "      <td>0.158000</td>\n",
       "      <td>0.108000</td>\n",
       "      <td>0.128000</td>\n",
       "    </tr>\n",
       "    <tr>\n",
       "      <th>25%</th>\n",
       "      <td>0.304000</td>\n",
       "      <td>0.338000</td>\n",
       "      <td>0.303000</td>\n",
       "      <td>0.305250</td>\n",
       "      <td>0.300000</td>\n",
       "      <td>0.305000</td>\n",
       "      <td>0.305000</td>\n",
       "      <td>0.303000</td>\n",
       "      <td>0.306000</td>\n",
       "      <td>0.305000</td>\n",
       "      <td>...</td>\n",
       "      <td>0.546000</td>\n",
       "      <td>0.539000</td>\n",
       "      <td>0.550000</td>\n",
       "      <td>0.546000</td>\n",
       "      <td>0.531000</td>\n",
       "      <td>0.522000</td>\n",
       "      <td>0.549000</td>\n",
       "      <td>0.553000</td>\n",
       "      <td>0.554000</td>\n",
       "      <td>0.551000</td>\n",
       "    </tr>\n",
       "    <tr>\n",
       "      <th>50%</th>\n",
       "      <td>0.372000</td>\n",
       "      <td>0.388000</td>\n",
       "      <td>0.373000</td>\n",
       "      <td>0.372000</td>\n",
       "      <td>0.370000</td>\n",
       "      <td>0.372000</td>\n",
       "      <td>0.373000</td>\n",
       "      <td>0.372000</td>\n",
       "      <td>0.377000</td>\n",
       "      <td>0.373000</td>\n",
       "      <td>...</td>\n",
       "      <td>0.647000</td>\n",
       "      <td>0.645000</td>\n",
       "      <td>0.656000</td>\n",
       "      <td>0.655000</td>\n",
       "      <td>0.647000</td>\n",
       "      <td>0.620000</td>\n",
       "      <td>0.650000</td>\n",
       "      <td>0.660000</td>\n",
       "      <td>0.661000</td>\n",
       "      <td>0.659000</td>\n",
       "    </tr>\n",
       "    <tr>\n",
       "      <th>75%</th>\n",
       "      <td>0.434000</td>\n",
       "      <td>0.432000</td>\n",
       "      <td>0.438000</td>\n",
       "      <td>0.441750</td>\n",
       "      <td>0.433000</td>\n",
       "      <td>0.433750</td>\n",
       "      <td>0.434000</td>\n",
       "      <td>0.433000</td>\n",
       "      <td>0.438000</td>\n",
       "      <td>0.437000</td>\n",
       "      <td>...</td>\n",
       "      <td>0.732000</td>\n",
       "      <td>0.734000</td>\n",
       "      <td>0.745000</td>\n",
       "      <td>0.743000</td>\n",
       "      <td>0.745000</td>\n",
       "      <td>0.712000</td>\n",
       "      <td>0.736000</td>\n",
       "      <td>0.749000</td>\n",
       "      <td>0.749000</td>\n",
       "      <td>0.747000</td>\n",
       "    </tr>\n",
       "    <tr>\n",
       "      <th>max</th>\n",
       "      <td>0.698000</td>\n",
       "      <td>0.626000</td>\n",
       "      <td>0.730000</td>\n",
       "      <td>0.764000</td>\n",
       "      <td>0.741000</td>\n",
       "      <td>0.678000</td>\n",
       "      <td>0.725000</td>\n",
       "      <td>0.724000</td>\n",
       "      <td>0.733000</td>\n",
       "      <td>0.731000</td>\n",
       "      <td>...</td>\n",
       "      <td>0.914000</td>\n",
       "      <td>0.920000</td>\n",
       "      <td>0.922000</td>\n",
       "      <td>0.922000</td>\n",
       "      <td>0.926000</td>\n",
       "      <td>0.935000</td>\n",
       "      <td>0.930000</td>\n",
       "      <td>0.931000</td>\n",
       "      <td>0.931000</td>\n",
       "      <td>0.919000</td>\n",
       "    </tr>\n",
       "  </tbody>\n",
       "</table>\n",
       "<p>8 rows × 48 columns</p>\n",
       "</div>"
      ],
      "text/plain": [
       "       scores.updown.algo_convert  scores.updown.algo_convert_common_tokens  \\\n",
       "count                 5206.000000                               5206.000000   \n",
       "mean                     0.370070                                  0.383944   \n",
       "std                      0.096629                                  0.075323   \n",
       "min                      0.097000                                  0.137000   \n",
       "25%                      0.304000                                  0.338000   \n",
       "50%                      0.372000                                  0.388000   \n",
       "75%                      0.434000                                  0.432000   \n",
       "max                      0.698000                                  0.626000   \n",
       "\n",
       "       scores.updown.algo_convert_midas_sampler  \\\n",
       "count                               5206.000000   \n",
       "mean                                   0.371053   \n",
       "std                                    0.096560   \n",
       "min                                    0.097000   \n",
       "25%                                    0.303000   \n",
       "50%                                    0.373000   \n",
       "75%                                    0.438000   \n",
       "max                                    0.730000   \n",
       "\n",
       "       scores.updown.algo_convert_nd  scores.updown.algo_rpt  \\\n",
       "count                    5206.000000             5206.000000   \n",
       "mean                        0.372833                0.367516   \n",
       "std                         0.098844                0.098334   \n",
       "min                         0.112000                0.094000   \n",
       "25%                         0.305250                0.300000   \n",
       "50%                         0.372000                0.370000   \n",
       "75%                         0.441750                0.433000   \n",
       "max                         0.764000                0.741000   \n",
       "\n",
       "       scores.updown.bert_convert  scores.updown.bert_convert_unmasker_11  \\\n",
       "count                 5206.000000                             5206.000000   \n",
       "mean                     0.370011                                0.370302   \n",
       "std                      0.094379                                0.094952   \n",
       "min                      0.097000                                0.106000   \n",
       "25%                      0.305000                                0.305000   \n",
       "50%                      0.372000                                0.373000   \n",
       "75%                      0.433750                                0.434000   \n",
       "max                      0.678000                                0.725000   \n",
       "\n",
       "       scores.updown.bert_convert_unmasker_13  \\\n",
       "count                             5206.000000   \n",
       "mean                                 0.368414   \n",
       "std                                  0.095180   \n",
       "min                                  0.106000   \n",
       "25%                                  0.303000   \n",
       "50%                                  0.372000   \n",
       "75%                                  0.433000   \n",
       "max                                  0.724000   \n",
       "\n",
       "       scores.updown.bert_convert_unmasker_31  \\\n",
       "count                             5206.000000   \n",
       "mean                                 0.373224   \n",
       "std                                  0.095534   \n",
       "min                                  0.108000   \n",
       "25%                                  0.306000   \n",
       "50%                                  0.377000   \n",
       "75%                                  0.438000   \n",
       "max                                  0.733000   \n",
       "\n",
       "       scores.updown.bert_convert_unmasker_33  ...  \\\n",
       "count                             5206.000000  ...   \n",
       "mean                                 0.369961  ...   \n",
       "std                                  0.095682  ...   \n",
       "min                                  0.108000  ...   \n",
       "25%                                  0.305000  ...   \n",
       "50%                                  0.373000  ...   \n",
       "75%                                  0.437000  ...   \n",
       "max                                  0.731000  ...   \n",
       "\n",
       "       scores.width.bert_convert_unmasker_11  \\\n",
       "count                            5206.000000   \n",
       "mean                                0.631798   \n",
       "std                                 0.136601   \n",
       "min                                 0.082000   \n",
       "25%                                 0.546000   \n",
       "50%                                 0.647000   \n",
       "75%                                 0.732000   \n",
       "max                                 0.914000   \n",
       "\n",
       "       scores.width.bert_convert_unmasker_13  \\\n",
       "count                            5206.000000   \n",
       "mean                                0.629556   \n",
       "std                                 0.139693   \n",
       "min                                 0.132000   \n",
       "25%                                 0.539000   \n",
       "50%                                 0.645000   \n",
       "75%                                 0.734000   \n",
       "max                                 0.920000   \n",
       "\n",
       "       scores.width.bert_convert_unmasker_31  \\\n",
       "count                            5206.000000   \n",
       "mean                                0.640328   \n",
       "std                                 0.140439   \n",
       "min                                 0.125000   \n",
       "25%                                 0.550000   \n",
       "50%                                 0.656000   \n",
       "75%                                 0.745000   \n",
       "max                                 0.922000   \n",
       "\n",
       "       scores.width.bert_convert_unmasker_33  scores.width.raw_convert  \\\n",
       "count                            5206.000000               5206.000000   \n",
       "mean                                0.637462                  0.628121   \n",
       "std                                 0.142651                  0.154277   \n",
       "min                                 0.097000                  0.070000   \n",
       "25%                                 0.546000                  0.531000   \n",
       "50%                                 0.655000                  0.647000   \n",
       "75%                                 0.743000                  0.745000   \n",
       "max                                 0.922000                  0.926000   \n",
       "\n",
       "       scores.width.raw_tfidf  scores.width.roberta_convert_unmasker_11  \\\n",
       "count             5206.000000                               5206.000000   \n",
       "mean                 0.609761                                  0.635828   \n",
       "std                  0.142166                                  0.135999   \n",
       "min                  0.081000                                  0.141000   \n",
       "25%                  0.522000                                  0.549000   \n",
       "50%                  0.620000                                  0.650000   \n",
       "75%                  0.712000                                  0.736000   \n",
       "max                  0.935000                                  0.930000   \n",
       "\n",
       "       scores.width.roberta_convert_unmasker_31  \\\n",
       "count                               5206.000000   \n",
       "mean                                   0.643742   \n",
       "std                                    0.139375   \n",
       "min                                    0.158000   \n",
       "25%                                    0.553000   \n",
       "50%                                    0.660000   \n",
       "75%                                    0.749000   \n",
       "max                                    0.931000   \n",
       "\n",
       "       scores.width.roberta_convert_unmasker_31_with_stoken  \\\n",
       "count                                           5206.000000   \n",
       "mean                                               0.643729   \n",
       "std                                                0.139772   \n",
       "min                                                0.108000   \n",
       "25%                                                0.554000   \n",
       "50%                                                0.661000   \n",
       "75%                                                0.749000   \n",
       "max                                                0.931000   \n",
       "\n",
       "       scores.width.roberta_convert_unmasker_33_with_stoken  \n",
       "count                                           5206.000000  \n",
       "mean                                               0.641115  \n",
       "std                                                0.141815  \n",
       "min                                                0.128000  \n",
       "25%                                                0.551000  \n",
       "50%                                                0.659000  \n",
       "75%                                                0.747000  \n",
       "max                                                0.919000  \n",
       "\n",
       "[8 rows x 48 columns]"
      ]
     },
     "execution_count": 108,
     "metadata": {},
     "output_type": "execute_result"
    }
   ],
   "source": [
    "df.iloc[:, 17:].describe()"
   ]
  },
  {
   "cell_type": "markdown",
   "id": "b5e8227b-a229-4c3f-bca2-1a09dd1a3081",
   "metadata": {
    "jp-MarkdownHeadingCollapsed": true,
    "tags": []
   },
   "source": [
    "##### algo_convert"
   ]
  },
  {
   "cell_type": "code",
   "execution_count": 77,
   "id": "8f8c895c-b98a-427a-8024-675bb251a5ca",
   "metadata": {},
   "outputs": [
    {
     "data": {
      "text/html": [
       "<div>\n",
       "<style scoped>\n",
       "    .dataframe tbody tr th:only-of-type {\n",
       "        vertical-align: middle;\n",
       "    }\n",
       "\n",
       "    .dataframe tbody tr th {\n",
       "        vertical-align: top;\n",
       "    }\n",
       "\n",
       "    .dataframe thead th {\n",
       "        text-align: right;\n",
       "    }\n",
       "</style>\n",
       "<table border=\"1\" class=\"dataframe\">\n",
       "  <thead>\n",
       "    <tr style=\"text-align: right;\">\n",
       "      <th></th>\n",
       "      <th>context</th>\n",
       "      <th>preds.algo_convert</th>\n",
       "    </tr>\n",
       "  </thead>\n",
       "  <tbody>\n",
       "    <tr>\n",
       "      <th>54</th>\n",
       "      <td>That would be interesting to know. We are getting close to the super bowl which is held usually the first sunday in february [SEP] Yes. I agree. It says Foles was the first Quarterback in NFL history with completions of more than 40 yards in three different receivers in a postseason game. [SEP] Cool. did you know that an NFL has only 11 minutes of gameplay in average?</td>\n",
       "      <td>there has to be more than one left handed qb in the nfl</td>\n",
       "    </tr>\n",
       "    <tr>\n",
       "      <th>2283</th>\n",
       "      <td>I think they don't have bandwidth in their area. Can't stream. Blockbusters really blew it by not buying Netflix. [SEP] Yep they sure did. originally they could have bought them for only $59 and imagine that now Netflix is worth two billion LOL [SEP] $50 million is a steal in Internet terms. Now they are huge. One day. though. some company might do the same thing to Netflix.</td>\n",
       "      <td>now the netflix is worth over 100 billion and just going up further</td>\n",
       "    </tr>\n",
       "    <tr>\n",
       "      <th>2414</th>\n",
       "      <td>I heard about that before. but I don't get it... wouldn't 111 be the fastest way ? [SEP] Yeah. you'd think. Nowadays no one uses those phones any more and an iphone has more computing power than our entire Nuclear arsenal. [SEP] That sounds really unreasonable... should someone look into that ? ;) Sounds disturbing...</td>\n",
       "      <td>the nuclear arsenal is controlled by power</td>\n",
       "    </tr>\n",
       "    <tr>\n",
       "      <th>2633</th>\n",
       "      <td>I guess I was not as adventurous. the thought of putting liquid nitrogen in my mouth does not appeal to me. Negative 320F is what I hear. [SEP] You could hurt yourself! Why would you do that? Does it get you high or something? Crazy. [SEP] Just a trend I suppose. I understand they are sold at kiosks in malls. made by pouring the nitrogen over cheese puffs or similar. There are warnings. but of course kids ignore it and do it the wrong way</td>\n",
       "      <td>so you cannot warm up your 320f</td>\n",
       "    </tr>\n",
       "    <tr>\n",
       "      <th>2722</th>\n",
       "      <td>No, there aren ’ t. this map just show the geographical features. Look at the Himalayan plateau with the highest peaks in the world. [SEP] The thing that I find most surprising is that most of the world is covered with water. Compared to the oceans, most countries are tiny. [SEP] I find it incredible how millions of years of volcanic activity have created mountains thousands of metres tall.</td>\n",
       "      <td>but mt everest is at 29 000 feet</td>\n",
       "    </tr>\n",
       "  </tbody>\n",
       "</table>\n",
       "</div>"
      ],
      "text/plain": [
       "                                                                                                                                                                                                                                                                                                                                                                                                                                                         context  \\\n",
       "54                                                                            That would be interesting to know. We are getting close to the super bowl which is held usually the first sunday in february [SEP] Yes. I agree. It says Foles was the first Quarterback in NFL history with completions of more than 40 yards in three different receivers in a postseason game. [SEP] Cool. did you know that an NFL has only 11 minutes of gameplay in average?   \n",
       "2283                                                                   I think they don't have bandwidth in their area. Can't stream. Blockbusters really blew it by not buying Netflix. [SEP] Yep they sure did. originally they could have bought them for only $59 and imagine that now Netflix is worth two billion LOL [SEP] $50 million is a steal in Internet terms. Now they are huge. One day. though. some company might do the same thing to Netflix.   \n",
       "2414                                                                                                                             I heard about that before. but I don't get it... wouldn't 111 be the fastest way ? [SEP] Yeah. you'd think. Nowadays no one uses those phones any more and an iphone has more computing power than our entire Nuclear arsenal. [SEP] That sounds really unreasonable... should someone look into that ? ;) Sounds disturbing...   \n",
       "2633  I guess I was not as adventurous. the thought of putting liquid nitrogen in my mouth does not appeal to me. Negative 320F is what I hear. [SEP] You could hurt yourself! Why would you do that? Does it get you high or something? Crazy. [SEP] Just a trend I suppose. I understand they are sold at kiosks in malls. made by pouring the nitrogen over cheese puffs or similar. There are warnings. but of course kids ignore it and do it the wrong way   \n",
       "2722                                                   No, there aren ’ t. this map just show the geographical features. Look at the Himalayan plateau with the highest peaks in the world. [SEP] The thing that I find most surprising is that most of the world is covered with water. Compared to the oceans, most countries are tiny. [SEP] I find it incredible how millions of years of volcanic activity have created mountains thousands of metres tall.   \n",
       "\n",
       "                                                       preds.algo_convert  \n",
       "54                there has to be more than one left handed qb in the nfl  \n",
       "2283  now the netflix is worth over 100 billion and just going up further  \n",
       "2414                           the nuclear arsenal is controlled by power  \n",
       "2633                                      so you cannot warm up your 320f  \n",
       "2722                                     but mt everest is at 29 000 feet  "
      ]
     },
     "execution_count": 77,
     "metadata": {},
     "output_type": "execute_result"
    }
   ],
   "source": [
    "df[['context', 'preds.algo_convert', 'scores.width.algo_convert']][df['scores.width.algo_convert'] > 0.9].head().iloc[:, [0,1]]"
   ]
  },
  {
   "cell_type": "code",
   "execution_count": 78,
   "id": "204515d1-90ca-4b10-8be8-9a9de1bab10b",
   "metadata": {},
   "outputs": [
    {
     "data": {
      "text/html": [
       "<div>\n",
       "<style scoped>\n",
       "    .dataframe tbody tr th:only-of-type {\n",
       "        vertical-align: middle;\n",
       "    }\n",
       "\n",
       "    .dataframe tbody tr th {\n",
       "        vertical-align: top;\n",
       "    }\n",
       "\n",
       "    .dataframe thead th {\n",
       "        text-align: right;\n",
       "    }\n",
       "</style>\n",
       "<table border=\"1\" class=\"dataframe\">\n",
       "  <thead>\n",
       "    <tr style=\"text-align: right;\">\n",
       "      <th></th>\n",
       "      <th>context</th>\n",
       "      <th>preds.algo_convert</th>\n",
       "    </tr>\n",
       "  </thead>\n",
       "  <tbody>\n",
       "    <tr>\n",
       "      <th>91</th>\n",
       "      <td>LOL! Well. I enjoyed chatting with you! [SEP] You as well. [SEP] Bye!</td>\n",
       "      <td>you too bye</td>\n",
       "    </tr>\n",
       "    <tr>\n",
       "      <th>142</th>\n",
       "      <td>Do you wash windows? [SEP] Of course. We wash the windows inside and out. [SEP] What about the interior?</td>\n",
       "      <td>all cleaned up</td>\n",
       "    </tr>\n",
       "    <tr>\n",
       "      <th>1141</th>\n",
       "      <td>Hello, Helen. [SEP] Hi, Steven. [SEP] How are you today?</td>\n",
       "      <td>fine thank you</td>\n",
       "    </tr>\n",
       "    <tr>\n",
       "      <th>1892</th>\n",
       "      <td>Here they are. [SEP] Thanks a lot ; are these all the notes? [SEP] Oh, no, this is the rest.</td>\n",
       "      <td>i also need to check these notes out</td>\n",
       "    </tr>\n",
       "    <tr>\n",
       "      <th>1961</th>\n",
       "      <td>OK.Do you want us to bring something? [SEP] No, just come here. [SEP] OK, see you later.</td>\n",
       "      <td>ok see you later</td>\n",
       "    </tr>\n",
       "  </tbody>\n",
       "</table>\n",
       "</div>"
      ],
      "text/plain": [
       "                                                                                                       context  \\\n",
       "91                                       LOL! Well. I enjoyed chatting with you! [SEP] You as well. [SEP] Bye!   \n",
       "142   Do you wash windows? [SEP] Of course. We wash the windows inside and out. [SEP] What about the interior?   \n",
       "1141                                                  Hello, Helen. [SEP] Hi, Steven. [SEP] How are you today?   \n",
       "1892              Here they are. [SEP] Thanks a lot ; are these all the notes? [SEP] Oh, no, this is the rest.   \n",
       "1961                  OK.Do you want us to bring something? [SEP] No, just come here. [SEP] OK, see you later.   \n",
       "\n",
       "                        preds.algo_convert  \n",
       "91                             you too bye  \n",
       "142                         all cleaned up  \n",
       "1141                        fine thank you  \n",
       "1892  i also need to check these notes out  \n",
       "1961                      ok see you later  "
      ]
     },
     "execution_count": 78,
     "metadata": {},
     "output_type": "execute_result"
    }
   ],
   "source": [
    "df[['context', 'preds.algo_convert', 'scores.width.algo_convert']][df['scores.width.algo_convert'] < 0.15].head().iloc[:, [0,1]]"
   ]
  },
  {
   "cell_type": "markdown",
   "id": "80241f97-ab95-41a9-b66b-81c2c210fa83",
   "metadata": {
    "jp-MarkdownHeadingCollapsed": true,
    "tags": []
   },
   "source": [
    "##### convert_nd"
   ]
  },
  {
   "cell_type": "code",
   "execution_count": 81,
   "id": "7e309a84-05c1-43c6-8a1f-426483dc9f5b",
   "metadata": {},
   "outputs": [
    {
     "data": {
      "text/html": [
       "<div>\n",
       "<style scoped>\n",
       "    .dataframe tbody tr th:only-of-type {\n",
       "        vertical-align: middle;\n",
       "    }\n",
       "\n",
       "    .dataframe tbody tr th {\n",
       "        vertical-align: top;\n",
       "    }\n",
       "\n",
       "    .dataframe thead th {\n",
       "        text-align: right;\n",
       "    }\n",
       "</style>\n",
       "<table border=\"1\" class=\"dataframe\">\n",
       "  <thead>\n",
       "    <tr style=\"text-align: right;\">\n",
       "      <th></th>\n",
       "      <th>context</th>\n",
       "      <th>preds.algo_convert_nd</th>\n",
       "    </tr>\n",
       "  </thead>\n",
       "  <tbody>\n",
       "    <tr>\n",
       "      <th>172</th>\n",
       "      <td>Fine, start the car. now gently step on the clutch and shift to 1st gear. Good, now accelerate gently and let go of the clutch as you do it. There we go, good! [SEP] I ’ m doing it! I ’ m driving! This is awesome! Let ’ s turn some music on! [SEP] Keep your eyes on the road! No music! We are coming up to a red light, step on the brakes. What are you doing? I said the brakes! Look out for those people! Get off the sidewalk!</td>\n",
       "      <td>does it have automatic clutch</td>\n",
       "    </tr>\n",
       "    <tr>\n",
       "      <th>496</th>\n",
       "      <td>have you driven a tesla? i would love to drive one some day. [SEP] No. I have seen charging stations though. I think it would be really cool. It is also neat that musk took a $78 million dollar pay but giving  everything back to the company except $1 [SEP] He needs to make $1 to be an employee technically. i think the company is his baby. plus he has money from other sources.</td>\n",
       "      <td>did you know company is owned by amazon</td>\n",
       "    </tr>\n",
       "    <tr>\n",
       "      <th>587</th>\n",
       "      <td>It was a different time. I heard the event happened at the Microsoft Theater. that must be a really cool venue. [SEP] Yeah I would love to visit there. It's in LA right? I like the show because its a comedy and drama. I like comedies. I also enjoyed the show 3rd rock from the sun. [SEP] It was pretty good I heard it beat important shows</td>\n",
       "      <td>are there any comedies that you would like to see live</td>\n",
       "    </tr>\n",
       "    <tr>\n",
       "      <th>602</th>\n",
       "      <td>did you know that unfortunately eighty percent of earth's naturally occuring forests have been eliminated? [SEP] I expect that the next decade or so will show some dramatic changes in the environment. The earth formed over 4.5 billion years ago. but we are changing it quickly ourselves. [SEP] yes we are. and somehow Earth was made and when that happened a day was only 5.5 hours long. that's a fast day!</td>\n",
       "      <td>and with only 29 being land-- it s kind of crazy to know that humans live on such a small part of the earth s surface</td>\n",
       "    </tr>\n",
       "    <tr>\n",
       "      <th>915</th>\n",
       "      <td>Wow. that would get me so many places! I wonder how safe it is. I like traveling by car. you? [SEP] I like traveling by plane but road trips by car can be nice too. In Japan it would not be so nice though since all their highways are tolls. To get across the country you will pay $300. [SEP] That is so expensive! I get mad paying 20 dollars to go to chicago and back lol. Ever been to mackinac island in Michigan. they banned motorized vehicles</td>\n",
       "      <td>did you know that cost more than 300 to travel across michigan</td>\n",
       "    </tr>\n",
       "  </tbody>\n",
       "</table>\n",
       "</div>"
      ],
      "text/plain": [
       "                                                                                                                                                                                                                                                                                                                                                                                                                                                           context  \\\n",
       "172                     Fine, start the car. now gently step on the clutch and shift to 1st gear. Good, now accelerate gently and let go of the clutch as you do it. There we go, good! [SEP] I ’ m doing it! I ’ m driving! This is awesome! Let ’ s turn some music on! [SEP] Keep your eyes on the road! No music! We are coming up to a red light, step on the brakes. What are you doing? I said the brakes! Look out for those people! Get off the sidewalk!   \n",
       "496                                                                     have you driven a tesla? i would love to drive one some day. [SEP] No. I have seen charging stations though. I think it would be really cool. It is also neat that musk took a $78 million dollar pay but giving  everything back to the company except $1 [SEP] He needs to make $1 to be an employee technically. i think the company is his baby. plus he has money from other sources.   \n",
       "587                                                                                                             It was a different time. I heard the event happened at the Microsoft Theater. that must be a really cool venue. [SEP] Yeah I would love to visit there. It's in LA right? I like the show because its a comedy and drama. I like comedies. I also enjoyed the show 3rd rock from the sun. [SEP] It was pretty good I heard it beat important shows   \n",
       "602                                          did you know that unfortunately eighty percent of earth's naturally occuring forests have been eliminated? [SEP] I expect that the next decade or so will show some dramatic changes in the environment. The earth formed over 4.5 billion years ago. but we are changing it quickly ourselves. [SEP] yes we are. and somehow Earth was made and when that happened a day was only 5.5 hours long. that's a fast day!   \n",
       "915  Wow. that would get me so many places! I wonder how safe it is. I like traveling by car. you? [SEP] I like traveling by plane but road trips by car can be nice too. In Japan it would not be so nice though since all their highways are tolls. To get across the country you will pay $300. [SEP] That is so expensive! I get mad paying 20 dollars to go to chicago and back lol. Ever been to mackinac island in Michigan. they banned motorized vehicles   \n",
       "\n",
       "                                                                                                     preds.algo_convert_nd  \n",
       "172                                                                                          does it have automatic clutch  \n",
       "496                                                                                did you know company is owned by amazon  \n",
       "587                                                                 are there any comedies that you would like to see live  \n",
       "602  and with only 29 being land-- it s kind of crazy to know that humans live on such a small part of the earth s surface  \n",
       "915                                                         did you know that cost more than 300 to travel across michigan  "
      ]
     },
     "execution_count": 81,
     "metadata": {},
     "output_type": "execute_result"
    }
   ],
   "source": [
    "df[['context', 'preds.algo_convert_nd', 'scores.width.algo_convert_nd']][df['scores.width.algo_convert_nd'] > 0.9].head().iloc[:, [0,1]]"
   ]
  },
  {
   "cell_type": "code",
   "execution_count": 83,
   "id": "2ca7de47-60b3-492b-b486-47092299eb15",
   "metadata": {},
   "outputs": [
    {
     "data": {
      "text/html": [
       "<div>\n",
       "<style scoped>\n",
       "    .dataframe tbody tr th:only-of-type {\n",
       "        vertical-align: middle;\n",
       "    }\n",
       "\n",
       "    .dataframe tbody tr th {\n",
       "        vertical-align: top;\n",
       "    }\n",
       "\n",
       "    .dataframe thead th {\n",
       "        text-align: right;\n",
       "    }\n",
       "</style>\n",
       "<table border=\"1\" class=\"dataframe\">\n",
       "  <thead>\n",
       "    <tr style=\"text-align: right;\">\n",
       "      <th></th>\n",
       "      <th>context</th>\n",
       "      <th>preds.algo_convert_nd</th>\n",
       "    </tr>\n",
       "  </thead>\n",
       "  <tbody>\n",
       "    <tr>\n",
       "      <th>6</th>\n",
       "      <td>Yes, Miss. Is that all right? [SEP] Beautifully done. [SEP] And would you like a manicure?</td>\n",
       "      <td>yes madam</td>\n",
       "    </tr>\n",
       "    <tr>\n",
       "      <th>91</th>\n",
       "      <td>LOL! Well. I enjoyed chatting with you! [SEP] You as well. [SEP] Bye!</td>\n",
       "      <td>you too bye</td>\n",
       "    </tr>\n",
       "    <tr>\n",
       "      <th>839</th>\n",
       "      <td>Hello [SEP] Hi [SEP] Do you like cats.</td>\n",
       "      <td>yes i do like them</td>\n",
       "    </tr>\n",
       "    <tr>\n",
       "      <th>1141</th>\n",
       "      <td>Hello, Helen. [SEP] Hi, Steven. [SEP] How are you today?</td>\n",
       "      <td>fine thank you</td>\n",
       "    </tr>\n",
       "    <tr>\n",
       "      <th>1892</th>\n",
       "      <td>Here they are. [SEP] Thanks a lot ; are these all the notes? [SEP] Oh, no, this is the rest.</td>\n",
       "      <td>i also need to check these notes out</td>\n",
       "    </tr>\n",
       "  </tbody>\n",
       "</table>\n",
       "</div>"
      ],
      "text/plain": [
       "                                                                                           context  \\\n",
       "6       Yes, Miss. Is that all right? [SEP] Beautifully done. [SEP] And would you like a manicure?   \n",
       "91                           LOL! Well. I enjoyed chatting with you! [SEP] You as well. [SEP] Bye!   \n",
       "839                                                         Hello [SEP] Hi [SEP] Do you like cats.   \n",
       "1141                                      Hello, Helen. [SEP] Hi, Steven. [SEP] How are you today?   \n",
       "1892  Here they are. [SEP] Thanks a lot ; are these all the notes? [SEP] Oh, no, this is the rest.   \n",
       "\n",
       "                     preds.algo_convert_nd  \n",
       "6                                yes madam  \n",
       "91                             you too bye  \n",
       "839                     yes i do like them  \n",
       "1141                        fine thank you  \n",
       "1892  i also need to check these notes out  "
      ]
     },
     "execution_count": 83,
     "metadata": {},
     "output_type": "execute_result"
    }
   ],
   "source": [
    "df[['context', 'preds.algo_convert_nd', 'scores.width.algo_convert_nd']][df['scores.width.algo_convert_nd'] < 0.15].head().iloc[:, [0,1]]"
   ]
  },
  {
   "cell_type": "markdown",
   "id": "8f4f3dac-a6dd-4337-ad95-9d5183ee90e6",
   "metadata": {
    "jp-MarkdownHeadingCollapsed": true,
    "tags": []
   },
   "source": [
    "##### rpt"
   ]
  },
  {
   "cell_type": "code",
   "execution_count": 84,
   "id": "8f91e937-c37d-4328-bedb-701323e870ac",
   "metadata": {},
   "outputs": [
    {
     "data": {
      "text/html": [
       "<div>\n",
       "<style scoped>\n",
       "    .dataframe tbody tr th:only-of-type {\n",
       "        vertical-align: middle;\n",
       "    }\n",
       "\n",
       "    .dataframe tbody tr th {\n",
       "        vertical-align: top;\n",
       "    }\n",
       "\n",
       "    .dataframe thead th {\n",
       "        text-align: right;\n",
       "    }\n",
       "</style>\n",
       "<table border=\"1\" class=\"dataframe\">\n",
       "  <thead>\n",
       "    <tr style=\"text-align: right;\">\n",
       "      <th></th>\n",
       "      <th>context</th>\n",
       "      <th>preds.algo_rpt</th>\n",
       "    </tr>\n",
       "  </thead>\n",
       "  <tbody>\n",
       "    <tr>\n",
       "      <th>496</th>\n",
       "      <td>have you driven a tesla? i would love to drive one some day. [SEP] No. I have seen charging stations though. I think it would be really cool. It is also neat that musk took a $78 million dollar pay but giving  everything back to the company except $1 [SEP] He needs to make $1 to be an employee technically. i think the company is his baby. plus he has money from other sources.</td>\n",
       "      <td>i just can not believe that company paid 1 65 billion for it</td>\n",
       "    </tr>\n",
       "    <tr>\n",
       "      <th>542</th>\n",
       "      <td>I'm not sure. Did you know that until 1805. the runner up in a presidential election automatically became the VP? Can you imagine Hillary being in office with Trump now? [SEP] No I cannot imagine that at all actually. did you know the guest house is larger than the white house? [SEP] That has to be pretty big. because the White House is huge!</td>\n",
       "      <td>why just think it s interesting that house was first constructed back in 1801</td>\n",
       "    </tr>\n",
       "    <tr>\n",
       "      <th>748</th>\n",
       "      <td>When Earth was formed. days were only 5.5 hours long. I can't even get much done in 24 hours. Haha. [SEP] The earth was spinning really fast. Did you know the cables carrying phone and internet data across oceans is on 2.7 inches in diameter? [SEP] That is cool how much things have progressed. An iPhone has more computing power than the whole us nuclear icbm deterrent.</td>\n",
       "      <td>the nuclear arsenal is controlled by power</td>\n",
       "    </tr>\n",
       "    <tr>\n",
       "      <th>2414</th>\n",
       "      <td>I heard about that before. but I don't get it... wouldn't 111 be the fastest way ? [SEP] Yeah. you'd think. Nowadays no one uses those phones any more and an iphone has more computing power than our entire Nuclear arsenal. [SEP] That sounds really unreasonable... should someone look into that ? ;) Sounds disturbing...</td>\n",
       "      <td>the nuclear arsenal is controlled by power</td>\n",
       "    </tr>\n",
       "    <tr>\n",
       "      <th>2721</th>\n",
       "      <td>There are no countries marked on the map. [SEP] No, there aren ’ t. this map just show the geographical features. Look at the Himalayan plateau with the highest peaks in the world. [SEP] The thing that I find most surprising is that most of the world is covered with water. Compared to the oceans, most countries are tiny.</td>\n",
       "      <td>and with only 29 being land-- it s kind of crazy to know that humans live on such a small part of the countries s surface</td>\n",
       "    </tr>\n",
       "  </tbody>\n",
       "</table>\n",
       "</div>"
      ],
      "text/plain": [
       "                                                                                                                                                                                                                                                                                                                                                                                         context  \\\n",
       "496   have you driven a tesla? i would love to drive one some day. [SEP] No. I have seen charging stations though. I think it would be really cool. It is also neat that musk took a $78 million dollar pay but giving  everything back to the company except $1 [SEP] He needs to make $1 to be an employee technically. i think the company is his baby. plus he has money from other sources.   \n",
       "542                                     I'm not sure. Did you know that until 1805. the runner up in a presidential election automatically became the VP? Can you imagine Hillary being in office with Trump now? [SEP] No I cannot imagine that at all actually. did you know the guest house is larger than the white house? [SEP] That has to be pretty big. because the White House is huge!   \n",
       "748          When Earth was formed. days were only 5.5 hours long. I can't even get much done in 24 hours. Haha. [SEP] The earth was spinning really fast. Did you know the cables carrying phone and internet data across oceans is on 2.7 inches in diameter? [SEP] That is cool how much things have progressed. An iPhone has more computing power than the whole us nuclear icbm deterrent.   \n",
       "2414                                                             I heard about that before. but I don't get it... wouldn't 111 be the fastest way ? [SEP] Yeah. you'd think. Nowadays no one uses those phones any more and an iphone has more computing power than our entire Nuclear arsenal. [SEP] That sounds really unreasonable... should someone look into that ? ;) Sounds disturbing...   \n",
       "2721                                                          There are no countries marked on the map. [SEP] No, there aren ’ t. this map just show the geographical features. Look at the Himalayan plateau with the highest peaks in the world. [SEP] The thing that I find most surprising is that most of the world is covered with water. Compared to the oceans, most countries are tiny.   \n",
       "\n",
       "                                                                                                                 preds.algo_rpt  \n",
       "496                                                                i just can not believe that company paid 1 65 billion for it  \n",
       "542                                               why just think it s interesting that house was first constructed back in 1801  \n",
       "748                                                                                  the nuclear arsenal is controlled by power  \n",
       "2414                                                                                 the nuclear arsenal is controlled by power  \n",
       "2721  and with only 29 being land-- it s kind of crazy to know that humans live on such a small part of the countries s surface  "
      ]
     },
     "execution_count": 84,
     "metadata": {},
     "output_type": "execute_result"
    }
   ],
   "source": [
    "df[['context', 'preds.algo_rpt', 'scores.width.algo_rpt']][df['scores.width.algo_rpt'] > 0.9].head().iloc[:, [0,1]]"
   ]
  },
  {
   "cell_type": "code",
   "execution_count": 86,
   "id": "3c07f695-540c-4b01-bac1-968e3426cbdd",
   "metadata": {},
   "outputs": [
    {
     "data": {
      "text/html": [
       "<div>\n",
       "<style scoped>\n",
       "    .dataframe tbody tr th:only-of-type {\n",
       "        vertical-align: middle;\n",
       "    }\n",
       "\n",
       "    .dataframe tbody tr th {\n",
       "        vertical-align: top;\n",
       "    }\n",
       "\n",
       "    .dataframe thead th {\n",
       "        text-align: right;\n",
       "    }\n",
       "</style>\n",
       "<table border=\"1\" class=\"dataframe\">\n",
       "  <thead>\n",
       "    <tr style=\"text-align: right;\">\n",
       "      <th></th>\n",
       "      <th>context</th>\n",
       "      <th>preds.algo_rpt</th>\n",
       "    </tr>\n",
       "  </thead>\n",
       "  <tbody>\n",
       "    <tr>\n",
       "      <th>91</th>\n",
       "      <td>LOL! Well. I enjoyed chatting with you! [SEP] You as well. [SEP] Bye!</td>\n",
       "      <td>thank you bye-bye</td>\n",
       "    </tr>\n",
       "    <tr>\n",
       "      <th>99</th>\n",
       "      <td>What ’ s wrong? [SEP] I got laid off today. [SEP] Oh no! That ’ s terrible!</td>\n",
       "      <td>oh sorry to hear that - do</td>\n",
       "    </tr>\n",
       "    <tr>\n",
       "      <th>100</th>\n",
       "      <td>I got laid off today. [SEP] Oh no! That ’ s terrible! [SEP] Yeah.</td>\n",
       "      <td>oh sorry to hear that - do</td>\n",
       "    </tr>\n",
       "    <tr>\n",
       "      <th>233</th>\n",
       "      <td>I like how Kenny dies that never gets old lol great times. funny show [SEP] yes. they make fun of the tv tropes constantly. a lot of fun. Anyway. great chat! [SEP] They also make fun of each other. of other shows so yeah a lot of fun. nice chat</td>\n",
       "      <td>yep great chat have a good one</td>\n",
       "    </tr>\n",
       "    <tr>\n",
       "      <th>573</th>\n",
       "      <td>I bet they have their contracts covered. Are you a Homer Simpson fan? [SEP] I am! I heard he had like 188 jobs in the first 400 episodes! [SEP] lol. I know its funny!! The show was the best!! Good chat!!</td>\n",
       "      <td>yep great chat have a good one</td>\n",
       "    </tr>\n",
       "  </tbody>\n",
       "</table>\n",
       "</div>"
      ],
      "text/plain": [
       "                                                                                                                                                                                                                                                  context  \\\n",
       "91                                                                                                                                                                                  LOL! Well. I enjoyed chatting with you! [SEP] You as well. [SEP] Bye!   \n",
       "99                                                                                                                                                                            What ’ s wrong? [SEP] I got laid off today. [SEP] Oh no! That ’ s terrible!   \n",
       "100                                                                                                                                                                                     I got laid off today. [SEP] Oh no! That ’ s terrible! [SEP] Yeah.   \n",
       "233  I like how Kenny dies that never gets old lol great times. funny show [SEP] yes. they make fun of the tv tropes constantly. a lot of fun. Anyway. great chat! [SEP] They also make fun of each other. of other shows so yeah a lot of fun. nice chat   \n",
       "573                                           I bet they have their contracts covered. Are you a Homer Simpson fan? [SEP] I am! I heard he had like 188 jobs in the first 400 episodes! [SEP] lol. I know its funny!! The show was the best!! Good chat!!   \n",
       "\n",
       "                     preds.algo_rpt  \n",
       "91                thank you bye-bye  \n",
       "99       oh sorry to hear that - do  \n",
       "100      oh sorry to hear that - do  \n",
       "233  yep great chat have a good one  \n",
       "573  yep great chat have a good one  "
      ]
     },
     "execution_count": 86,
     "metadata": {},
     "output_type": "execute_result"
    }
   ],
   "source": [
    "df[['context', 'preds.algo_rpt', 'scores.width.algo_rpt']][df['scores.width.algo_rpt'] < 0.15].head().iloc[:, [0,1]]"
   ]
  },
  {
   "cell_type": "code",
   "execution_count": 97,
   "id": "a8efbf5c-74dd-40d3-91e5-1554dd4f6270",
   "metadata": {},
   "outputs": [
    {
     "data": {
      "text/html": [
       "<div>\n",
       "<style scoped>\n",
       "    .dataframe tbody tr th:only-of-type {\n",
       "        vertical-align: middle;\n",
       "    }\n",
       "\n",
       "    .dataframe tbody tr th {\n",
       "        vertical-align: top;\n",
       "    }\n",
       "\n",
       "    .dataframe thead th {\n",
       "        text-align: right;\n",
       "    }\n",
       "</style>\n",
       "<table border=\"1\" class=\"dataframe\">\n",
       "  <thead>\n",
       "    <tr style=\"text-align: right;\">\n",
       "      <th></th>\n",
       "      <th>context</th>\n",
       "      <th>preds.algo_rpt</th>\n",
       "    </tr>\n",
       "  </thead>\n",
       "  <tbody>\n",
       "    <tr>\n",
       "      <th>2656</th>\n",
       "      <td>No, it's not far. [SEP] How far is it? [SEP] About a mile and a half.</td>\n",
       "      <td>about an far inland</td>\n",
       "    </tr>\n",
       "  </tbody>\n",
       "</table>\n",
       "</div>"
      ],
      "text/plain": [
       "                                                                    context  \\\n",
       "2656  No, it's not far. [SEP] How far is it? [SEP] About a mile and a half.   \n",
       "\n",
       "           preds.algo_rpt  \n",
       "2656  about an far inland  "
      ]
     },
     "execution_count": 97,
     "metadata": {},
     "output_type": "execute_result"
    }
   ],
   "source": [
    "df[['context', 'preds.algo_rpt', 'scores.human-vs-machine.algo_rpt']][df['scores.human-vs-machine.algo_rpt'] < 0.2].head().iloc[:, [0,1]]"
   ]
  },
  {
   "cell_type": "code",
   "execution_count": null,
   "id": "715072d5-bd12-46bc-9db5-1a03de7d6e02",
   "metadata": {},
   "outputs": [],
   "source": []
  }
 ],
 "metadata": {
  "kernelspec": {
   "display_name": "Python 3 (ipykernel)",
   "language": "python",
   "name": "python3"
  },
  "language_info": {
   "codemirror_mode": {
    "name": "ipython",
    "version": 3
   },
   "file_extension": ".py",
   "mimetype": "text/x-python",
   "name": "python",
   "nbconvert_exporter": "python",
   "pygments_lexer": "ipython3",
   "version": "3.8.2"
  }
 },
 "nbformat": 4,
 "nbformat_minor": 5
}
