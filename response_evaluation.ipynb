{
  "cells": [
    {
      "cell_type": "code",
      "execution_count": null,
      "id": "55fe611e-fd14-47d3-b41c-1cbfe9fc4cde",
      "metadata": {
        "id": "55fe611e-fd14-47d3-b41c-1cbfe9fc4cde"
      },
      "outputs": [],
      "source": [
        "import json\n",
        "from collections import Counter\n",
        "import numpy as np\n",
        "import pandas as pd\n",
        "pd.set_option('display.max_colwidth', 1000)"
      ]
    },
    {
      "cell_type": "code",
      "execution_count": null,
      "id": "838b7f71-1479-4975-92e1-878c18b5eea6",
      "metadata": {
        "id": "838b7f71-1479-4975-92e1-878c18b5eea6"
      },
      "outputs": [],
      "source": [
        "import spacy\n",
        "from spacy.lang.en import English\n",
        "tokenizer = English().tokenizer"
      ]
    },
    {
      "cell_type": "code",
      "execution_count": null,
      "id": "e3c93789-6d75-40c9-a36f-ea436607158a",
      "metadata": {
        "id": "e3c93789-6d75-40c9-a36f-ea436607158a",
        "outputId": "3c6b23ca-c78a-41d5-91de-91a1e0f586a6"
      },
      "outputs": [
        {
          "data": {
            "text/plain": [
              "['I', 'am', 'a', 'student', '.']"
            ]
          },
          "execution_count": 3,
          "metadata": {},
          "output_type": "execute_result"
        }
      ],
      "source": [
        "[token.text for token in tokenizer('I am a student.')]"
      ]
    },
    {
      "cell_type": "markdown",
      "id": "d033350d-c815-4c97-880c-932599ecdd02",
      "metadata": {
        "tags": [],
        "id": "d033350d-c815-4c97-880c-932599ecdd02"
      },
      "source": [
        "### Description"
      ]
    },
    {
      "cell_type": "code",
      "execution_count": null,
      "id": "8b557bc9-4399-4ee3-a0b8-16987b6565d0",
      "metadata": {
        "id": "8b557bc9-4399-4ee3-a0b8-16987b6565d0"
      },
      "outputs": [],
      "source": [
        "with open('data/merged_preds.json', 'r', encoding='utf8') as f:\n",
        "    preds = json.load(f)"
      ]
    },
    {
      "cell_type": "code",
      "execution_count": null,
      "id": "a635e4b6-7cf3-4222-82ed-b4c7625f56fe",
      "metadata": {
        "id": "a635e4b6-7cf3-4222-82ed-b4c7625f56fe"
      },
      "outputs": [],
      "source": [
        "context = [[token.text for token in tokenizer(sample['context'].replace(\" __eou__ \", \"\"))] for sample in preds]\n",
        "context[0:2]"
      ]
    },
    {
      "cell_type": "code",
      "execution_count": null,
      "id": "7e8b96af-fcb5-4a7a-a149-bb03f80e1f7e",
      "metadata": {
        "id": "7e8b96af-fcb5-4a7a-a149-bb03f80e1f7e"
      },
      "outputs": [],
      "source": [
        "tokenized = [sample['preds'] for sample in preds]\n",
        "tokenized = [{algo: [token.text for token in tokenizer(sample[algo])] for algo in sample} for sample in tokenized]"
      ]
    },
    {
      "cell_type": "code",
      "execution_count": null,
      "id": "501d6749-039f-4a56-b892-a7ffee54f769",
      "metadata": {
        "id": "501d6749-039f-4a56-b892-a7ffee54f769"
      },
      "outputs": [],
      "source": [
        "intersect = list()\n",
        "\n",
        "for ctx, sample in zip(context, tokenized):\n",
        "    ctx = set(ctx)\n",
        "    \n",
        "    sample_dict = {}\n",
        "    \n",
        "    for algo in sample:\n",
        "        algo_len = len(sample[algo]) if len(sample[algo]) else 1\n",
        "        resp = set(sample[algo])\n",
        "        sample_dict[algo] = round(len(resp.intersection(ctx)) / algo_len, 3) * 100\n",
        "\n",
        "    intersect.append(sample_dict)\n"
      ]
    },
    {
      "cell_type": "code",
      "execution_count": null,
      "id": "505e7811-2d27-4db7-81e6-da5cf3d675b4",
      "metadata": {
        "id": "505e7811-2d27-4db7-81e6-da5cf3d675b4",
        "outputId": "a8b396d4-7c1c-4483-e365-282b25a7abc7"
      },
      "outputs": [
        {
          "data": {
            "text/html": [
              "<div>\n",
              "<style scoped>\n",
              "    .dataframe tbody tr th:only-of-type {\n",
              "        vertical-align: middle;\n",
              "    }\n",
              "\n",
              "    .dataframe tbody tr th {\n",
              "        vertical-align: top;\n",
              "    }\n",
              "\n",
              "    .dataframe thead th {\n",
              "        text-align: right;\n",
              "    }\n",
              "</style>\n",
              "<table border=\"1\" class=\"dataframe\">\n",
              "  <thead>\n",
              "    <tr style=\"text-align: right;\">\n",
              "      <th></th>\n",
              "      <th>algo_convert</th>\n",
              "      <th>bert_convert_unmasker_11</th>\n",
              "      <th>bert_convert_unmasker_13</th>\n",
              "      <th>bert_convert_unmasker_31</th>\n",
              "      <th>bert_convert_unmasker_33</th>\n",
              "      <th>infilling_11</th>\n",
              "      <th>infilling_13</th>\n",
              "      <th>infilling_31</th>\n",
              "      <th>infilling_33</th>\n",
              "      <th>raw_convert</th>\n",
              "      <th>raw_tfidf</th>\n",
              "      <th>roberta_convert_unmasker_11</th>\n",
              "      <th>roberta_convert_unmasker_13</th>\n",
              "      <th>roberta_convert_unmasker_31</th>\n",
              "      <th>roberta_convert_unmasker_33</th>\n",
              "    </tr>\n",
              "  </thead>\n",
              "  <tbody>\n",
              "    <tr>\n",
              "      <th>0</th>\n",
              "      <td>42.9</td>\n",
              "      <td>28.6</td>\n",
              "      <td>28.6</td>\n",
              "      <td>66.7</td>\n",
              "      <td>66.7</td>\n",
              "      <td>27.3</td>\n",
              "      <td>40.0</td>\n",
              "      <td>40.0</td>\n",
              "      <td>50.0</td>\n",
              "      <td>66.7</td>\n",
              "      <td>66.7</td>\n",
              "      <td>28.6</td>\n",
              "      <td>28.6</td>\n",
              "      <td>66.7</td>\n",
              "      <td>66.7</td>\n",
              "    </tr>\n",
              "    <tr>\n",
              "      <th>1</th>\n",
              "      <td>55.6</td>\n",
              "      <td>55.6</td>\n",
              "      <td>55.6</td>\n",
              "      <td>55.6</td>\n",
              "      <td>55.6</td>\n",
              "      <td>53.8</td>\n",
              "      <td>40.0</td>\n",
              "      <td>28.6</td>\n",
              "      <td>43.8</td>\n",
              "      <td>66.7</td>\n",
              "      <td>66.7</td>\n",
              "      <td>55.6</td>\n",
              "      <td>55.6</td>\n",
              "      <td>55.6</td>\n",
              "      <td>55.6</td>\n",
              "    </tr>\n",
              "    <tr>\n",
              "      <th>2</th>\n",
              "      <td>42.9</td>\n",
              "      <td>50.0</td>\n",
              "      <td>27.3</td>\n",
              "      <td>33.3</td>\n",
              "      <td>27.3</td>\n",
              "      <td>50.0</td>\n",
              "      <td>25.0</td>\n",
              "      <td>33.3</td>\n",
              "      <td>25.0</td>\n",
              "      <td>50.0</td>\n",
              "      <td>50.0</td>\n",
              "      <td>50.0</td>\n",
              "      <td>27.3</td>\n",
              "      <td>50.0</td>\n",
              "      <td>27.3</td>\n",
              "    </tr>\n",
              "  </tbody>\n",
              "</table>\n",
              "</div>"
            ],
            "text/plain": [
              "   algo_convert  bert_convert_unmasker_11  bert_convert_unmasker_13  \\\n",
              "0          42.9                      28.6                      28.6   \n",
              "1          55.6                      55.6                      55.6   \n",
              "2          42.9                      50.0                      27.3   \n",
              "\n",
              "   bert_convert_unmasker_31  bert_convert_unmasker_33  infilling_11  \\\n",
              "0                      66.7                      66.7          27.3   \n",
              "1                      55.6                      55.6          53.8   \n",
              "2                      33.3                      27.3          50.0   \n",
              "\n",
              "   infilling_13  infilling_31  infilling_33  raw_convert  raw_tfidf  \\\n",
              "0          40.0          40.0          50.0         66.7       66.7   \n",
              "1          40.0          28.6          43.8         66.7       66.7   \n",
              "2          25.0          33.3          25.0         50.0       50.0   \n",
              "\n",
              "   roberta_convert_unmasker_11  roberta_convert_unmasker_13  \\\n",
              "0                         28.6                         28.6   \n",
              "1                         55.6                         55.6   \n",
              "2                         50.0                         27.3   \n",
              "\n",
              "   roberta_convert_unmasker_31  roberta_convert_unmasker_33  \n",
              "0                         66.7                         66.7  \n",
              "1                         55.6                         55.6  \n",
              "2                         50.0                         27.3  "
            ]
          },
          "execution_count": 195,
          "metadata": {},
          "output_type": "execute_result"
        }
      ],
      "source": [
        "intersect_df = pd.json_normalize(intersect)\n",
        "intersect_df.head(3)"
      ]
    },
    {
      "cell_type": "code",
      "execution_count": null,
      "id": "f324a7aa-6084-4327-9186-9e0fe64eda30",
      "metadata": {
        "id": "f324a7aa-6084-4327-9186-9e0fe64eda30",
        "outputId": "6e52a44a-03ea-4b29-c709-0e88f8a5f898"
      },
      "outputs": [
        {
          "data": {
            "text/plain": [
              "algo_convert                   41.558375\n",
              "bert_convert_unmasker_11       35.679178\n",
              "bert_convert_unmasker_13       36.519017\n",
              "bert_convert_unmasker_31       36.728294\n",
              "bert_convert_unmasker_33       37.395659\n",
              "infilling_11                   33.814867\n",
              "infilling_13                   34.545870\n",
              "infilling_31                   34.884575\n",
              "infilling_33                   35.289762\n",
              "raw_convert                    42.789781\n",
              "raw_tfidf                      67.574971\n",
              "roberta_convert_unmasker_11    35.466443\n",
              "roberta_convert_unmasker_13    36.361852\n",
              "roberta_convert_unmasker_31    36.583096\n",
              "roberta_convert_unmasker_33    37.316788\n",
              "dtype: float64"
            ]
          },
          "execution_count": 197,
          "metadata": {},
          "output_type": "execute_result"
        }
      ],
      "source": [
        "intersect_df.mean()"
      ]
    },
    {
      "cell_type": "code",
      "execution_count": null,
      "id": "09a44eff-5967-45f3-8cc7-41eb2f35a606",
      "metadata": {
        "id": "09a44eff-5967-45f3-8cc7-41eb2f35a606",
        "outputId": "b09370fd-fae7-4942-f309-d10fc5915d7a"
      },
      "outputs": [
        {
          "data": {
            "text/plain": [
              "algo_convert                   10.005955\n",
              "bert_convert_unmasker_11       10.106224\n",
              "bert_convert_unmasker_13       10.198809\n",
              "bert_convert_unmasker_31       10.371494\n",
              "bert_convert_unmasker_33       10.358625\n",
              "infilling_11                   11.144257\n",
              "infilling_13                   11.217826\n",
              "infilling_31                   11.351133\n",
              "infilling_33                   11.372263\n",
              "raw_convert                     8.962927\n",
              "raw_tfidf                       6.566270\n",
              "roberta_convert_unmasker_11    10.134652\n",
              "roberta_convert_unmasker_13    10.234153\n",
              "roberta_convert_unmasker_31    10.389358\n",
              "roberta_convert_unmasker_33    10.383212\n",
              "dtype: float64"
            ]
          },
          "execution_count": 179,
          "metadata": {},
          "output_type": "execute_result"
        }
      ],
      "source": [
        "df_token_len = pd.json_normalize([{algo: len(sample[algo]) for algo in sample} for sample in tokenized])\n",
        "df_token_len.mean()"
      ]
    },
    {
      "cell_type": "code",
      "execution_count": null,
      "id": "8117fcf2-bbed-451a-bc9c-516d76c0baf6",
      "metadata": {
        "id": "8117fcf2-bbed-451a-bc9c-516d76c0baf6"
      },
      "outputs": [],
      "source": [
        "preds = [sample['preds'] for sample in preds]"
      ]
    },
    {
      "cell_type": "code",
      "execution_count": null,
      "id": "bf656501-4563-4ae4-9d86-32703f3a016a",
      "metadata": {
        "id": "bf656501-4563-4ae4-9d86-32703f3a016a"
      },
      "outputs": [],
      "source": [
        "preds = [{algo: sample[algo].replace(\"  \", \" \") for algo in sample} for sample in preds]"
      ]
    },
    {
      "cell_type": "code",
      "execution_count": null,
      "id": "818d4b70-ea74-4747-8b02-1ee9d8e7274d",
      "metadata": {
        "id": "818d4b70-ea74-4747-8b02-1ee9d8e7274d",
        "outputId": "21dfb672-d3a6-4b51-8ddc-3d223bd2663e"
      },
      "outputs": [
        {
          "data": {
            "text/plain": [
              "{'algo_convert': 'i generally like to wear hair.',\n",
              " 'bert_convert_unmasker_11': 'i generally like to wear black.',\n",
              " 'bert_convert_unmasker_13': 'i generally like to wear black.',\n",
              " 'bert_convert_unmasker_31': 'how about you do style?',\n",
              " 'bert_convert_unmasker_33': 'how about you do style?',\n",
              " 'infilling_11': 'i generally like to wear flats, but dread mondays.',\n",
              " 'infilling_13': 'i generally like to wear my hair black today.',\n",
              " 'infilling_31': 'whatever kind of hair i would like i buy.',\n",
              " 'infilling_33': 'whatever style, i buy.',\n",
              " 'raw_convert': 'how about you hair style?',\n",
              " 'raw_tfidf': 'how about you hair style?',\n",
              " 'roberta_convert_unmasker_11': 'i generally like to wear red.',\n",
              " 'roberta_convert_unmasker_13': 'i generally like to wear red.',\n",
              " 'roberta_convert_unmasker_31': 'how about you like style?',\n",
              " 'roberta_convert_unmasker_33': 'how about you like style?'}"
            ]
          },
          "execution_count": 147,
          "metadata": {},
          "output_type": "execute_result"
        }
      ],
      "source": [
        "preds[0]"
      ]
    },
    {
      "cell_type": "code",
      "execution_count": null,
      "id": "6b1c1172-0a8f-4a26-8f18-42828a66959a",
      "metadata": {
        "id": "6b1c1172-0a8f-4a26-8f18-42828a66959a"
      },
      "outputs": [],
      "source": [
        "df = pd.json_normalize(preds)"
      ]
    },
    {
      "cell_type": "code",
      "execution_count": null,
      "id": "6ce357e4-23c0-4fcb-92a0-124ea1109905",
      "metadata": {
        "id": "6ce357e4-23c0-4fcb-92a0-124ea1109905",
        "outputId": "67b93f69-40f3-4b79-b889-714f8172cf00"
      },
      "outputs": [
        {
          "data": {
            "text/plain": [
              "infilling_11                   4887\n",
              "infilling_31                   4860\n",
              "infilling_13                   4859\n",
              "infilling_33                   4798\n",
              "algo_convert                   4400\n",
              "roberta_convert_unmasker_11    4345\n",
              "bert_convert_unmasker_11       4284\n",
              "roberta_convert_unmasker_13    4281\n",
              "roberta_convert_unmasker_31    4209\n",
              "bert_convert_unmasker_13       4180\n",
              "roberta_convert_unmasker_33    4161\n",
              "bert_convert_unmasker_31       4120\n",
              "bert_convert_unmasker_33       4032\n",
              "raw_convert                    3122\n",
              "raw_tfidf                      2996\n",
              "dtype: int64"
            ]
          },
          "execution_count": 149,
          "metadata": {},
          "output_type": "execute_result"
        }
      ],
      "source": [
        "df.nunique().sort_values(ascending=False)"
      ]
    },
    {
      "cell_type": "code",
      "execution_count": null,
      "id": "f09a5ef6-098f-494a-9a34-3cb29d12fb80",
      "metadata": {
        "id": "f09a5ef6-098f-494a-9a34-3cb29d12fb80",
        "outputId": "dc45acc9-ebff-4c30-f897-7a2de0803008"
      },
      "outputs": [
        {
          "data": {
            "text/plain": [
              "4404    15\n",
              "4410    15\n",
              "3003    15\n",
              "4382    15\n",
              "5116    15\n",
              "        ..\n",
              "825      3\n",
              "1090     3\n",
              "1265     3\n",
              "2723     2\n",
              "4326     2\n",
              "Length: 5206, dtype: int64"
            ]
          },
          "execution_count": 154,
          "metadata": {},
          "output_type": "execute_result"
        }
      ],
      "source": [
        "df.nunique(axis=1).sort_values(ascending=False)"
      ]
    },
    {
      "cell_type": "code",
      "execution_count": null,
      "id": "d2f38f20-52e0-4b3b-9bf6-19700748ee93",
      "metadata": {
        "id": "d2f38f20-52e0-4b3b-9bf6-19700748ee93",
        "outputId": "77be0a53-c9f1-49af-cb11-cd1674035469"
      },
      "outputs": [
        {
          "data": {
            "image/png": "[encoded data removed]",
            "text/plain": [
              "<Figure size 432x288 with 1 Axes>"
            ]
          },
          "metadata": {
            "needs_background": "light"
          },
          "output_type": "display_data"
        }
      ],
      "source": [
        "fig = df.nunique(axis=1).sort_values(ascending=True).value_counts().sort_index().plot(\n",
        "    kind='bar', colormap='gray', rot=0, ylabel=\"number of samples\", xlabel='unique responses per sample').get_figure()\n",
        "\n",
        "fig.savefig('img/intersecting responses.png')"
      ]
    },
    {
      "cell_type": "code",
      "execution_count": null,
      "id": "8d37db74-bedf-4bbc-a091-8fe3130cf167",
      "metadata": {
        "id": "8d37db74-bedf-4bbc-a091-8fe3130cf167",
        "outputId": "e8b800bf-53d7-4796-c38a-ba6267eb3c58"
      },
      "outputs": [
        {
          "data": {
            "text/plain": [
              "{'context': \"that is really crazy. but I guess a child maybe should not watch a movie like that __eou__ Very true. let alone act in one. It's no wonder these Horror movies are so successful with high calorie burning and inspiring tales from literature authors like edgar allen poe. bram stoker and mary shelley making it known that horror films have been around for more than a century! __eou__ there are just so many aspects to horror movies. science. supernatural. fantasy. sci fi. it is such an expansive genre\",\n",
              " 'preds': {'algo_convert': 'i enjoy sci-fi.',\n",
              "  'bert_convert_unmasker_11': 'i enjoy sci-fi.',\n",
              "  'bert_convert_unmasker_13': 'i enjoy sci-fi.',\n",
              "  'bert_convert_unmasker_31': 'i enjoy sci-fi.',\n",
              "  'bert_convert_unmasker_33': 'i enjoy sci-fi.',\n",
              "  'infilling_11': 'i enjoy sci-fi.',\n",
              "  'infilling_13': 'i enjoy sci-fi.',\n",
              "  'infilling_31': 'i enjoy sci-fi.',\n",
              "  'infilling_33': 'i enjoy sci-fi.',\n",
              "  'raw_convert': 'i do love horror',\n",
              "  'raw_tfidf': 'i do love horror',\n",
              "  'roberta_convert_unmasker_11': 'i enjoy sci-fi.',\n",
              "  'roberta_convert_unmasker_13': 'i enjoy sci-fi.',\n",
              "  'roberta_convert_unmasker_31': 'i enjoy sci-fi.',\n",
              "  'roberta_convert_unmasker_33': 'i enjoy sci-fi.'}}"
            ]
          },
          "execution_count": 249,
          "metadata": {},
          "output_type": "execute_result"
        }
      ],
      "source": [
        "preds[4326]"
      ]
    },
    {
      "cell_type": "markdown",
      "id": "7d140b10-bdcf-43aa-937d-ac48e1da2025",
      "metadata": {
        "tags": [],
        "id": "7d140b10-bdcf-43aa-937d-ac48e1da2025"
      },
      "source": [
        "### DialogRPT Evaluation"
      ]
    },
    {
      "cell_type": "code",
      "execution_count": null,
      "id": "f515be9d-a393-444c-af31-6a2e2aaad180",
      "metadata": {
        "id": "f515be9d-a393-444c-af31-6a2e2aaad180"
      },
      "outputs": [],
      "source": [
        "import operator\n",
        "\n",
        "def idx2labels(values, labels) -> dict:\n",
        "    output =  {labels[i]: value for i, value in enumerate(values)}\n",
        "    output = pd.DataFrame(output.items(), columns=['algo', 'votes']).sort_values(ascending=False, by='votes')\n",
        "    return output\n",
        "\n",
        "def voting(arr: np.ndarray, labels) -> tuple:\n",
        "    rows = np.array(range(arr.shape[0]), dtype=np.intp)\n",
        "    sorted_args = np.argsort(arr, axis=-1)\n",
        "\n",
        "    best = sorted_args[:,-1]\n",
        "    best = np.array(best, dtype=np.intp)[:, None]\n",
        "    best = arr[rows[:, np.newaxis], best]\n",
        "    best = 1 * (arr == best).sum(axis=0)\n",
        "    best = idx2labels(best, labels)\n",
        "\n",
        "    worst = sorted_args[:,0]\n",
        "    worst = np.array(worst, dtype=np.intp)[:, None]\n",
        "    worst = arr[rows[:, np.newaxis], worst]\n",
        "    worst = 1 * (arr == worst).sum(axis=0)\n",
        "    worst = idx2labels(worst, labels)\n",
        "    \n",
        "    return best, worst"
      ]
    },
    {
      "cell_type": "code",
      "execution_count": null,
      "id": "cd59a4db-2e45-4eb0-afdf-b3455dd0d913",
      "metadata": {
        "id": "cd59a4db-2e45-4eb0-afdf-b3455dd0d913"
      },
      "outputs": [],
      "source": [
        "best_algos = dict()\n",
        "worst_algos = dict()"
      ]
    },
    {
      "cell_type": "code",
      "execution_count": null,
      "id": "44027413-22b2-4244-8204-882735ea9e33",
      "metadata": {
        "id": "44027413-22b2-4244-8204-882735ea9e33"
      },
      "outputs": [],
      "source": [
        "with open('data/scored_merged_preds_rpt.json', 'r', encoding='utf8') as f:\n",
        "    scores = json.load(f)"
      ]
    },
    {
      "cell_type": "code",
      "execution_count": null,
      "id": "48f94b08-4d30-4a95-aa60-5579f4f97751",
      "metadata": {
        "id": "48f94b08-4d30-4a95-aa60-5579f4f97751",
        "outputId": "17a5036d-7aa9-4371-a1fb-1eeba3c9b1c7"
      },
      "outputs": [
        {
          "data": {
            "text/plain": [
              "{'algo_convert': 0.318,\n",
              " 'bert_convert_unmasker_11': 0.299,\n",
              " 'bert_convert_unmasker_13': 0.299,\n",
              " 'bert_convert_unmasker_31': 0.254,\n",
              " 'bert_convert_unmasker_33': 0.254,\n",
              " 'infilling_11': 0.215,\n",
              " 'infilling_13': 0.35,\n",
              " 'infilling_31': 0.316,\n",
              " 'infilling_33': 0.389,\n",
              " 'raw_convert': 0.221,\n",
              " 'raw_tfidf': 0.221,\n",
              " 'roberta_convert_unmasker_11': 0.269,\n",
              " 'roberta_convert_unmasker_13': 0.269,\n",
              " 'roberta_convert_unmasker_31': 0.241,\n",
              " 'roberta_convert_unmasker_33': 0.241}"
            ]
          },
          "execution_count": 7,
          "metadata": {},
          "output_type": "execute_result"
        }
      ],
      "source": [
        "scores[0]['scores']['updown']"
      ]
    },
    {
      "cell_type": "code",
      "execution_count": null,
      "id": "a19d4910-52dc-4f70-a706-27e4ceba976f",
      "metadata": {
        "id": "a19d4910-52dc-4f70-a706-27e4ceba976f"
      },
      "outputs": [],
      "source": [
        "scores_2 = list()\n",
        "\n",
        "for sample in scores:\n",
        "    new_sample = sample\n",
        "    new_scores = dict() \n",
        "    test_algos = ['raw_convert', 'raw_tfidf', 'bert_convert_unmasker_11']\n",
        "    # unique = len(set(sample['preds'].values()))\n",
        "    \n",
        "    for metric, values in sample['scores'].items():\n",
        "        new_scores[metric] = {}\n",
        "        \n",
        "        new_scores[metric] = {algo: values[algo] for algo in values if algo in test_algos}\n",
        "        \n",
        "    new_sample['scores'] = new_scores\n",
        "    scores_2.append(new_sample)"
      ]
    },
    {
      "cell_type": "code",
      "execution_count": null,
      "id": "0877df26-a03b-4d77-9500-959fdadedb8c",
      "metadata": {
        "id": "0877df26-a03b-4d77-9500-959fdadedb8c"
      },
      "outputs": [],
      "source": [
        "scores_only = [sample['scores'] for sample in scores_2]"
      ]
    },
    {
      "cell_type": "code",
      "execution_count": null,
      "id": "61f5afda-a5ea-42d3-95b8-46889723c5ed",
      "metadata": {
        "id": "61f5afda-a5ea-42d3-95b8-46889723c5ed",
        "outputId": "21ad4b87-4cd3-40ac-a351-e94462232bed"
      },
      "outputs": [
        {
          "data": {
            "text/plain": [
              "Index(['updown.bert_convert_unmasker_11', 'updown.raw_convert',\n",
              "       'updown.raw_tfidf', 'depth.bert_convert_unmasker_11',\n",
              "       'depth.raw_convert', 'depth.raw_tfidf',\n",
              "       'width.bert_convert_unmasker_11', 'width.raw_convert',\n",
              "       'width.raw_tfidf', 'human-vs-rand.bert_convert_unmasker_11',\n",
              "       'human-vs-rand.raw_convert', 'human-vs-rand.raw_tfidf',\n",
              "       'human-vs-machine.bert_convert_unmasker_11',\n",
              "       'human-vs-machine.raw_convert', 'human-vs-machine.raw_tfidf'],\n",
              "      dtype='object')"
            ]
          },
          "execution_count": 10,
          "metadata": {},
          "output_type": "execute_result"
        }
      ],
      "source": [
        "df = pd.json_normalize(scores_only)\n",
        "df.columns"
      ]
    },
    {
      "cell_type": "code",
      "execution_count": null,
      "id": "b46a2eca-6ed3-4c1d-b91f-a782c761ec5c",
      "metadata": {
        "id": "b46a2eca-6ed3-4c1d-b91f-a782c761ec5c",
        "outputId": "602ac046-4851-4e10-dc97-ada9a61689e5"
      },
      "outputs": [
        {
          "data": {
            "text/plain": [
              "['bert_convert_unmasker_11', 'raw_convert', 'raw_tfidf']"
            ]
          },
          "execution_count": 11,
          "metadata": {},
          "output_type": "execute_result"
        }
      ],
      "source": [
        "algo_names = [name[7:] for name in df.columns[0:3]]\n",
        "algo_names"
      ]
    },
    {
      "cell_type": "code",
      "execution_count": null,
      "id": "d2e403a2-13af-4158-b338-25317e8050f8",
      "metadata": {
        "id": "d2e403a2-13af-4158-b338-25317e8050f8",
        "outputId": "768629ec-fff9-47cd-c9fa-d82dec05bf0b"
      },
      "outputs": [
        {
          "data": {
            "text/plain": [
              "updown.raw_tfidf                   0.3720\n",
              "updown.bert_convert_unmasker_11    0.3687\n",
              "updown.raw_convert                 0.3639\n",
              "dtype: float64"
            ]
          },
          "execution_count": 12,
          "metadata": {},
          "output_type": "execute_result"
        }
      ],
      "source": [
        "df.iloc[:, :3].mean().round(4).sort_values(ascending=False)"
      ]
    },
    {
      "cell_type": "code",
      "execution_count": null,
      "id": "591d713e-426c-420e-8f2d-43980a5fff4b",
      "metadata": {
        "id": "591d713e-426c-420e-8f2d-43980a5fff4b"
      },
      "outputs": [],
      "source": [
        ""
      ]
    },
    {
      "cell_type": "code",
      "execution_count": null,
      "id": "a08dd331-9cc1-4b49-a49e-753ecbf5b078",
      "metadata": {
        "id": "a08dd331-9cc1-4b49-a49e-753ecbf5b078"
      },
      "outputs": [],
      "source": [
        "best, worst = voting(df.iloc[:, :3].values, algo_names)"
      ]
    },
    {
      "cell_type": "code",
      "execution_count": null,
      "id": "2c7a8ddc-779b-430b-8561-53f8acbbf624",
      "metadata": {
        "id": "2c7a8ddc-779b-430b-8561-53f8acbbf624",
        "outputId": "4630b4c2-6e52-47c7-f0c4-79e02c87c068"
      },
      "outputs": [
        {
          "data": {
            "text/plain": [
              "(                       algo  votes\n",
              " 2                 raw_tfidf   1980\n",
              " 0  bert_convert_unmasker_11   1750\n",
              " 1               raw_convert   1740,\n",
              "                        algo  votes\n",
              " 1               raw_convert   1937\n",
              " 0  bert_convert_unmasker_11   1811\n",
              " 2                 raw_tfidf   1653)"
            ]
          },
          "execution_count": 14,
          "metadata": {},
          "output_type": "execute_result"
        }
      ],
      "source": [
        "best.head(3), worst.head(3)"
      ]
    },
    {
      "cell_type": "code",
      "execution_count": null,
      "id": "4125ac5d-0edb-4521-b7e4-b4d1226f3798",
      "metadata": {
        "id": "4125ac5d-0edb-4521-b7e4-b4d1226f3798"
      },
      "outputs": [],
      "source": [
        "best_algos['updown'] = best.values\n",
        "worst_algos['updown'] = worst.values"
      ]
    },
    {
      "cell_type": "code",
      "execution_count": null,
      "id": "47706f70-20f8-4937-9a66-8f679af4445f",
      "metadata": {
        "id": "47706f70-20f8-4937-9a66-8f679af4445f",
        "outputId": "048d9f0e-a0bf-4739-ae6a-9847165686da"
      },
      "outputs": [
        {
          "data": {
            "text/plain": [
              "{'updown': array([['raw_tfidf', 1980],\n",
              "        ['bert_convert_unmasker_11', 1750],\n",
              "        ['raw_convert', 1740]], dtype=object)}"
            ]
          },
          "execution_count": 16,
          "metadata": {},
          "output_type": "execute_result"
        }
      ],
      "source": [
        "best_algos"
      ]
    },
    {
      "cell_type": "code",
      "execution_count": null,
      "id": "a088fccc-8d87-4db4-87df-b7beda0ef206",
      "metadata": {
        "id": "a088fccc-8d87-4db4-87df-b7beda0ef206",
        "outputId": "32f5620b-7375-4fb6-a471-0d3dc64332d2"
      },
      "outputs": [
        {
          "data": {
            "text/plain": [
              "depth.bert_convert_unmasker_11    0.5370\n",
              "depth.raw_convert                 0.5367\n",
              "depth.raw_tfidf                   0.5092\n",
              "dtype: float64"
            ]
          },
          "execution_count": 17,
          "metadata": {},
          "output_type": "execute_result"
        }
      ],
      "source": [
        "df.iloc[:, 3:6].mean().round(4).sort_values(ascending=False)"
      ]
    },
    {
      "cell_type": "code",
      "execution_count": null,
      "id": "151dd4ae-e9b9-4906-93ce-8d8e0e566b31",
      "metadata": {
        "id": "151dd4ae-e9b9-4906-93ce-8d8e0e566b31"
      },
      "outputs": [],
      "source": [
        "best, worst = voting(df.iloc[:, 3:6].values, algo_names)"
      ]
    },
    {
      "cell_type": "code",
      "execution_count": null,
      "id": "e1377822-63ca-493b-a7b9-6c5e8745c31e",
      "metadata": {
        "id": "e1377822-63ca-493b-a7b9-6c5e8745c31e",
        "outputId": "e320cf7b-a077-458b-979b-4db5554ec660"
      },
      "outputs": [
        {
          "data": {
            "text/plain": [
              "(                       algo  votes\n",
              " 1               raw_convert   2069\n",
              " 0  bert_convert_unmasker_11   1857\n",
              " 2                 raw_tfidf   1543,\n",
              "                        algo  votes\n",
              " 2                 raw_tfidf   2143\n",
              " 0  bert_convert_unmasker_11   1622\n",
              " 1               raw_convert   1618)"
            ]
          },
          "execution_count": 19,
          "metadata": {},
          "output_type": "execute_result"
        }
      ],
      "source": [
        "best.head(3), worst.head(3)"
      ]
    },
    {
      "cell_type": "code",
      "execution_count": null,
      "id": "909b8437-16aa-484b-a67c-53b5910ccf9f",
      "metadata": {
        "id": "909b8437-16aa-484b-a67c-53b5910ccf9f"
      },
      "outputs": [],
      "source": [
        "best_algos['depth'] = best.values\n",
        "worst_algos['depth'] = worst.values"
      ]
    },
    {
      "cell_type": "code",
      "execution_count": null,
      "id": "810b0f27-c770-45c2-9512-ad0536de95de",
      "metadata": {
        "id": "810b0f27-c770-45c2-9512-ad0536de95de",
        "outputId": "a3a1e732-235e-4931-ee87-85c940e2e887"
      },
      "outputs": [
        {
          "data": {
            "text/plain": [
              "width.bert_convert_unmasker_11    0.6260\n",
              "width.raw_convert                 0.6184\n",
              "width.raw_tfidf                   0.5946\n",
              "dtype: float64"
            ]
          },
          "execution_count": 21,
          "metadata": {},
          "output_type": "execute_result"
        }
      ],
      "source": [
        "df.iloc[:, 6:9].mean().round(4).sort_values(ascending=False)"
      ]
    },
    {
      "cell_type": "code",
      "execution_count": null,
      "id": "92ed9e7c-8cef-4ded-81b7-06a7cc97f56f",
      "metadata": {
        "id": "92ed9e7c-8cef-4ded-81b7-06a7cc97f56f"
      },
      "outputs": [],
      "source": [
        "best, worst = voting(df.iloc[:, 6:9].values, algo_names)"
      ]
    },
    {
      "cell_type": "code",
      "execution_count": null,
      "id": "7a5980c7-437b-43b3-b753-15a6527f2a28",
      "metadata": {
        "id": "7a5980c7-437b-43b3-b753-15a6527f2a28",
        "outputId": "7d9bb337-dd9d-47ad-b65b-d6b8a635faa8"
      },
      "outputs": [
        {
          "data": {
            "text/plain": [
              "(                       algo  votes\n",
              " 1               raw_convert   2027\n",
              " 0  bert_convert_unmasker_11   1907\n",
              " 2                 raw_tfidf   1515,\n",
              "                        algo  votes\n",
              " 2                 raw_tfidf   2175\n",
              " 1               raw_convert   1703\n",
              " 0  bert_convert_unmasker_11   1525)"
            ]
          },
          "execution_count": 23,
          "metadata": {},
          "output_type": "execute_result"
        }
      ],
      "source": [
        "best.head(3), worst.head(3)"
      ]
    },
    {
      "cell_type": "code",
      "execution_count": null,
      "id": "1de9fe91-ba95-44b2-9098-b83ff98e544a",
      "metadata": {
        "id": "1de9fe91-ba95-44b2-9098-b83ff98e544a"
      },
      "outputs": [],
      "source": [
        "best_algos['width'] = best.values\n",
        "worst_algos['width'] = worst.values"
      ]
    },
    {
      "cell_type": "code",
      "execution_count": null,
      "id": "30f2dec7-6e9b-4596-995c-dbb41c20222b",
      "metadata": {
        "id": "30f2dec7-6e9b-4596-995c-dbb41c20222b",
        "outputId": "bdf98367-e10a-4a1c-bb8f-9558a6f47d5f"
      },
      "outputs": [
        {
          "data": {
            "text/plain": [
              "human-vs-rand.raw_convert                 0.9427\n",
              "human-vs-rand.bert_convert_unmasker_11    0.8634\n",
              "human-vs-rand.raw_tfidf                   0.8238\n",
              "dtype: float64"
            ]
          },
          "execution_count": 25,
          "metadata": {},
          "output_type": "execute_result"
        }
      ],
      "source": [
        "df.iloc[:, 9:12].mean().round(4).sort_values(ascending=False)"
      ]
    },
    {
      "cell_type": "code",
      "execution_count": null,
      "id": "b9f4c309-6e8b-47d7-951c-ada700e8ffb9",
      "metadata": {
        "id": "b9f4c309-6e8b-47d7-951c-ada700e8ffb9"
      },
      "outputs": [],
      "source": [
        "best, worst = voting(df.iloc[:, 9:12].values, algo_names)"
      ]
    },
    {
      "cell_type": "code",
      "execution_count": null,
      "id": "ff2dbd01-4f5a-4f87-8c17-0917010822af",
      "metadata": {
        "id": "ff2dbd01-4f5a-4f87-8c17-0917010822af",
        "outputId": "917ccde7-0239-4d52-ed34-f2315f2f4ef5"
      },
      "outputs": [
        {
          "data": {
            "text/plain": [
              "(                       algo  votes\n",
              " 1               raw_convert   3047\n",
              " 0  bert_convert_unmasker_11   1690\n",
              " 2                 raw_tfidf   1568,\n",
              "                        algo  votes\n",
              " 2                 raw_tfidf   2539\n",
              " 0  bert_convert_unmasker_11   2170\n",
              " 1               raw_convert    911)"
            ]
          },
          "execution_count": 27,
          "metadata": {},
          "output_type": "execute_result"
        }
      ],
      "source": [
        "best.head(3), worst.head(3)"
      ]
    },
    {
      "cell_type": "code",
      "execution_count": null,
      "id": "05eef2ad-953b-42fa-8735-ebd980271f2e",
      "metadata": {
        "id": "05eef2ad-953b-42fa-8735-ebd980271f2e"
      },
      "outputs": [],
      "source": [
        "best_algos['human-vs-rand'] = best.values\n",
        "worst_algos['human-vs-rand'] = worst.values"
      ]
    },
    {
      "cell_type": "code",
      "execution_count": null,
      "id": "5014d4e6-1d12-491d-a7b5-10638066cdce",
      "metadata": {
        "id": "5014d4e6-1d12-491d-a7b5-10638066cdce",
        "outputId": "732c0dc7-dd69-4397-a28e-9ef2ede1d3be"
      },
      "outputs": [
        {
          "data": {
            "text/plain": [
              "human-vs-machine.bert_convert_unmasker_11    0.9905\n",
              "human-vs-machine.raw_convert                 0.9869\n",
              "human-vs-machine.raw_tfidf                   0.9799\n",
              "dtype: float64"
            ]
          },
          "execution_count": 29,
          "metadata": {},
          "output_type": "execute_result"
        }
      ],
      "source": [
        "df.iloc[:, 12:15].mean().round(4).sort_values(ascending=False)"
      ]
    },
    {
      "cell_type": "code",
      "execution_count": null,
      "id": "7fe04119-4d8c-4620-98ee-8d4372a24363",
      "metadata": {
        "id": "7fe04119-4d8c-4620-98ee-8d4372a24363"
      },
      "outputs": [],
      "source": [
        "best, worst = voting(df.iloc[:, 12:75].values, algo_names)"
      ]
    },
    {
      "cell_type": "code",
      "execution_count": null,
      "id": "da6d2481-8646-455d-b863-a51a93ccf38d",
      "metadata": {
        "id": "da6d2481-8646-455d-b863-a51a93ccf38d",
        "outputId": "12fc5d01-e2d0-4274-d290-5486fa69ecad"
      },
      "outputs": [
        {
          "data": {
            "text/plain": [
              "(                       algo  votes\n",
              " 0  bert_convert_unmasker_11   4047\n",
              " 1               raw_convert   3586\n",
              " 2                 raw_tfidf   2508,\n",
              "                        algo  votes\n",
              " 2                 raw_tfidf   4077\n",
              " 1               raw_convert   2783\n",
              " 0  bert_convert_unmasker_11   2435)"
            ]
          },
          "execution_count": 31,
          "metadata": {},
          "output_type": "execute_result"
        }
      ],
      "source": [
        "best.head(3), worst.head(3)"
      ]
    },
    {
      "cell_type": "code",
      "execution_count": null,
      "id": "b3a769eb-db0c-434d-8b95-3cb44a195c49",
      "metadata": {
        "id": "b3a769eb-db0c-434d-8b95-3cb44a195c49"
      },
      "outputs": [],
      "source": [
        "best_algos['human-vs-machine'] = best.values\n",
        "worst_algos['human-vs-machine'] = worst.values"
      ]
    },
    {
      "cell_type": "code",
      "execution_count": null,
      "id": "aca52f17-ab7c-4258-aa3e-43739a9bcf81",
      "metadata": {
        "id": "aca52f17-ab7c-4258-aa3e-43739a9bcf81",
        "outputId": "8500de3c-5908-4797-8e30-ca8e94965dd6"
      },
      "outputs": [
        {
          "data": {
            "text/plain": [
              "{'updown': array([['raw_tfidf', 1980],\n",
              "        ['bert_convert_unmasker_11', 1750],\n",
              "        ['raw_convert', 1740]], dtype=object),\n",
              " 'depth': array([['raw_convert', 2069],\n",
              "        ['bert_convert_unmasker_11', 1857],\n",
              "        ['raw_tfidf', 1543]], dtype=object),\n",
              " 'width': array([['raw_convert', 2027],\n",
              "        ['bert_convert_unmasker_11', 1907],\n",
              "        ['raw_tfidf', 1515]], dtype=object),\n",
              " 'human-vs-rand': array([['raw_convert', 3047],\n",
              "        ['bert_convert_unmasker_11', 1690],\n",
              "        ['raw_tfidf', 1568]], dtype=object),\n",
              " 'human-vs-machine': array([['bert_convert_unmasker_11', 4047],\n",
              "        ['raw_convert', 3586],\n",
              "        ['raw_tfidf', 2508]], dtype=object)}"
            ]
          },
          "execution_count": 33,
          "metadata": {},
          "output_type": "execute_result"
        }
      ],
      "source": [
        "best_algos"
      ]
    },
    {
      "cell_type": "markdown",
      "id": "5983e7b4-5b82-4c19-a92f-d89938055731",
      "metadata": {
        "id": "5983e7b4-5b82-4c19-a92f-d89938055731"
      },
      "source": [
        "### Evaluator"
      ]
    },
    {
      "cell_type": "code",
      "execution_count": null,
      "id": "a0084dc3-b095-4df4-a84a-ebe022f362f3",
      "metadata": {
        "id": "a0084dc3-b095-4df4-a84a-ebe022f362f3"
      },
      "outputs": [],
      "source": [
        "import operator\n",
        "\n",
        "def idx2labels(values, labels) -> dict:\n",
        "    output =  {labels[i]: value for i, value in enumerate(values)}\n",
        "    output = pd.DataFrame(output.items(), columns=['algo', 'votes']).sort_values(ascending=False, by='votes')\n",
        "    return output\n",
        "\n",
        "def voting(arr: np.ndarray, labels) -> tuple:\n",
        "    rows = np.array(range(arr.shape[0]), dtype=np.intp)\n",
        "    sorted_args = np.argsort(arr, axis=-1)\n",
        "\n",
        "    best = sorted_args[:,-1]\n",
        "    best = np.array(best, dtype=np.intp)[:, None]\n",
        "    best = arr[rows[:, np.newaxis], best]\n",
        "    best = 1 * (arr == best).sum(axis=0)\n",
        "    best = idx2labels(best, labels)\n",
        "\n",
        "    worst = sorted_args[:,0]\n",
        "    worst = np.array(worst, dtype=np.intp)[:, None]\n",
        "    worst = arr[rows[:, np.newaxis], worst]\n",
        "    worst = 1 * (arr == worst).sum(axis=0)\n",
        "    worst = idx2labels(worst, labels)\n",
        "    \n",
        "    return best, worst"
      ]
    },
    {
      "cell_type": "code",
      "execution_count": null,
      "id": "7e863831-9970-45c7-941a-4d55952e01b3",
      "metadata": {
        "id": "7e863831-9970-45c7-941a-4d55952e01b3"
      },
      "outputs": [],
      "source": [
        "with open('data/scored_merged_preds_dp.json', 'r', encoding='utf8') as f:\n",
        "    scores = json.load(f)"
      ]
    },
    {
      "cell_type": "code",
      "execution_count": null,
      "id": "1a1fe9f2-d5be-479c-86e2-9dc79f4a068d",
      "metadata": {
        "id": "1a1fe9f2-d5be-479c-86e2-9dc79f4a068d",
        "outputId": "7cacc02c-f774-4c76-9e85-51de13ecc3c3"
      },
      "outputs": [
        {
          "data": {
            "text/plain": [
              "{'isResponseComprehensible': 0.38,\n",
              " 'isResponseErroneous': 0.696,\n",
              " 'isResponseInteresting': 0.47,\n",
              " 'isResponseOnTopic': 0.064,\n",
              " 'responseEngagesUser': 0.564}"
            ]
          },
          "execution_count": 36,
          "metadata": {},
          "output_type": "execute_result"
        }
      ],
      "source": [
        "scores[0]['scores']['algo_convert']"
      ]
    },
    {
      "cell_type": "code",
      "execution_count": null,
      "id": "ded0e674-6ebc-4e9a-9223-48171730230c",
      "metadata": {
        "id": "ded0e674-6ebc-4e9a-9223-48171730230c"
      },
      "outputs": [],
      "source": [
        "scores_only = [sample['scores'] for sample in scores]"
      ]
    },
    {
      "cell_type": "code",
      "execution_count": null,
      "id": "271ffd7e-854a-4831-acaf-e1070a15ee31",
      "metadata": {
        "id": "271ffd7e-854a-4831-acaf-e1070a15ee31"
      },
      "outputs": [],
      "source": [
        "scores = list()\n",
        "\n",
        "for sample in scores_only:\n",
        "    sample_new = dict()\n",
        "    algos=list(sample.keys())\n",
        "    metrics = list(sample[algos[0]].keys())\n",
        "    tested_algos = ['raw_convert', 'raw_tfidf', 'bert_convert_unmasker_11']\n",
        "    \n",
        "    for metric in metrics:\n",
        "        sample_new[metric] = {}\n",
        "        for algo in algos:\n",
        "            if algo not in test_algos:\n",
        "                continue\n",
        "            sample_new[metric][algo] = sample[algo][metric]\n",
        "            \n",
        "    scores.append(sample_new)"
      ]
    },
    {
      "cell_type": "code",
      "execution_count": null,
      "id": "e0aef565-53f2-4c9a-939c-b9f825491f90",
      "metadata": {
        "id": "e0aef565-53f2-4c9a-939c-b9f825491f90"
      },
      "outputs": [],
      "source": [
        "df = pd.json_normalize(scores)"
      ]
    },
    {
      "cell_type": "code",
      "execution_count": null,
      "id": "6493fc1a-3886-4751-ad3f-c94eb9286942",
      "metadata": {
        "id": "6493fc1a-3886-4751-ad3f-c94eb9286942",
        "outputId": "8fb842ef-ef9b-4692-b281-6cdbd93cf660"
      },
      "outputs": [
        {
          "data": {
            "text/plain": [
              "Index(['isResponseComprehensible.bert_convert_unmasker_11',\n",
              "       'isResponseComprehensible.raw_convert',\n",
              "       'isResponseComprehensible.raw_tfidf',\n",
              "       'isResponseErroneous.bert_convert_unmasker_11',\n",
              "       'isResponseErroneous.raw_convert', 'isResponseErroneous.raw_tfidf',\n",
              "       'isResponseInteresting.bert_convert_unmasker_11',\n",
              "       'isResponseInteresting.raw_convert', 'isResponseInteresting.raw_tfidf',\n",
              "       'isResponseOnTopic.bert_convert_unmasker_11',\n",
              "       'isResponseOnTopic.raw_convert', 'isResponseOnTopic.raw_tfidf',\n",
              "       'responseEngagesUser.bert_convert_unmasker_11',\n",
              "       'responseEngagesUser.raw_convert', 'responseEngagesUser.raw_tfidf'],\n",
              "      dtype='object')"
            ]
          },
          "execution_count": 40,
          "metadata": {},
          "output_type": "execute_result"
        }
      ],
      "source": [
        "df.columns"
      ]
    },
    {
      "cell_type": "code",
      "execution_count": null,
      "id": "3df804d3-3bfc-46a9-b113-c76deb8b6b96",
      "metadata": {
        "id": "3df804d3-3bfc-46a9-b113-c76deb8b6b96"
      },
      "outputs": [],
      "source": [
        "algo_names = [label[25:] for label in df.columns[0:3]]"
      ]
    },
    {
      "cell_type": "code",
      "execution_count": null,
      "id": "3f7b02ea-5127-41a6-8827-a08c3b407727",
      "metadata": {
        "id": "3f7b02ea-5127-41a6-8827-a08c3b407727",
        "outputId": "495f595d-0ddc-495b-f6e1-d53b881e4ee4"
      },
      "outputs": [
        {
          "data": {
            "text/plain": [
              "['bert_convert_unmasker_11', 'raw_convert', 'raw_tfidf']"
            ]
          },
          "execution_count": 42,
          "metadata": {},
          "output_type": "execute_result"
        }
      ],
      "source": [
        "algo_names"
      ]
    },
    {
      "cell_type": "code",
      "execution_count": null,
      "id": "179833d1-70bc-4276-b886-86ba9a331fde",
      "metadata": {
        "id": "179833d1-70bc-4276-b886-86ba9a331fde",
        "outputId": "dcf332af-23b7-454a-a396-07ddafab104a"
      },
      "outputs": [
        {
          "data": {
            "text/plain": [
              "isResponseComprehensible.bert_convert_unmasker_11    0.3630\n",
              "isResponseComprehensible.raw_convert                 0.3592\n",
              "isResponseComprehensible.raw_tfidf                   0.3460\n",
              "dtype: float64"
            ]
          },
          "execution_count": 43,
          "metadata": {},
          "output_type": "execute_result"
        }
      ],
      "source": [
        "df.iloc[:, :3].mean().round(4).sort_values(ascending=False)"
      ]
    },
    {
      "cell_type": "code",
      "execution_count": null,
      "id": "39803d4e-c314-410d-bfa2-19449ea5ad47",
      "metadata": {
        "id": "39803d4e-c314-410d-bfa2-19449ea5ad47",
        "outputId": "26c0d2d6-a396-426e-f6cc-a3bc7130a56c"
      },
      "outputs": [
        {
          "data": {
            "text/plain": [
              "(                       algo  votes\n",
              " 0  bert_convert_unmasker_11   2340\n",
              " 1               raw_convert   2014\n",
              " 2                 raw_tfidf   1576,\n",
              "                        algo  votes\n",
              " 2                 raw_tfidf   2434\n",
              " 1               raw_convert   1826\n",
              " 0  bert_convert_unmasker_11   1676)"
            ]
          },
          "execution_count": 44,
          "metadata": {},
          "output_type": "execute_result"
        }
      ],
      "source": [
        "best, worst = voting(df.iloc[:, :3].values, algo_names)\n",
        "best.head(3), worst.head(3)"
      ]
    },
    {
      "cell_type": "code",
      "execution_count": null,
      "id": "d3089f3d-4483-4e9a-9567-3eac5d7ce933",
      "metadata": {
        "id": "d3089f3d-4483-4e9a-9567-3eac5d7ce933"
      },
      "outputs": [],
      "source": [
        "best_algos['isComprehensible'] = best.values\n",
        "worst_algos['isComprehensible'] = worst.values"
      ]
    },
    {
      "cell_type": "code",
      "execution_count": null,
      "id": "69663287-cc45-4bec-b39f-c8a39c8e6a7b",
      "metadata": {
        "id": "69663287-cc45-4bec-b39f-c8a39c8e6a7b",
        "outputId": "5b6d42a4-2aa7-4681-b548-9eec6bc9b928"
      },
      "outputs": [
        {
          "data": {
            "text/plain": [
              "isResponseErroneous.raw_tfidf                   0.6324\n",
              "isResponseErroneous.bert_convert_unmasker_11    0.6150\n",
              "isResponseErroneous.raw_convert                 0.6109\n",
              "dtype: float64"
            ]
          },
          "execution_count": 46,
          "metadata": {},
          "output_type": "execute_result"
        }
      ],
      "source": [
        "df.iloc[:, 3:6].mean().round(4).sort_values(ascending=False)"
      ]
    },
    {
      "cell_type": "code",
      "execution_count": null,
      "id": "8a6f4f05-b88b-4a9f-8a34-f8869d2435a6",
      "metadata": {
        "id": "8a6f4f05-b88b-4a9f-8a34-f8869d2435a6",
        "outputId": "c58fdd82-f5d2-4483-d4a6-66ef53282cd5"
      },
      "outputs": [
        {
          "data": {
            "text/plain": [
              "(                       algo  votes\n",
              " 2                 raw_tfidf   2304\n",
              " 0  bert_convert_unmasker_11   1864\n",
              " 1               raw_convert   1748,\n",
              "                        algo  votes\n",
              " 1               raw_convert   2158\n",
              " 0  bert_convert_unmasker_11   2141\n",
              " 2                 raw_tfidf   1617)"
            ]
          },
          "execution_count": 47,
          "metadata": {},
          "output_type": "execute_result"
        }
      ],
      "source": [
        "best, worst = voting(df.iloc[:, 3:6].values, algo_names)\n",
        "best.head(3), worst.head(3)"
      ]
    },
    {
      "cell_type": "code",
      "execution_count": null,
      "id": "3df10553-a598-46b9-8f8c-11bfc6fe818e",
      "metadata": {
        "id": "3df10553-a598-46b9-8f8c-11bfc6fe818e"
      },
      "outputs": [],
      "source": [
        "best_algos['isErroneous'] = best.values\n",
        "worst_algos['isErroneous'] = worst.values"
      ]
    },
    {
      "cell_type": "code",
      "execution_count": null,
      "id": "daee7b14-aba8-4b7b-b1c0-7e0b1e15f8d9",
      "metadata": {
        "id": "daee7b14-aba8-4b7b-b1c0-7e0b1e15f8d9",
        "outputId": "2de442d9-b944-4c52-a89c-f0982a88ab9d"
      },
      "outputs": [
        {
          "data": {
            "text/plain": [
              "isResponseInteresting.bert_convert_unmasker_11    0.4632\n",
              "isResponseInteresting.raw_convert                 0.4594\n",
              "isResponseInteresting.raw_tfidf                   0.4373\n",
              "dtype: float64"
            ]
          },
          "execution_count": 49,
          "metadata": {},
          "output_type": "execute_result"
        }
      ],
      "source": [
        "df.iloc[:, 6:9].mean().round(4).sort_values(ascending=False)"
      ]
    },
    {
      "cell_type": "code",
      "execution_count": null,
      "id": "c3dfbe35-7c10-4bd3-9ea7-94d951043bdd",
      "metadata": {
        "id": "c3dfbe35-7c10-4bd3-9ea7-94d951043bdd",
        "outputId": "8764c2d0-29de-4d55-b40a-5afc6af07774"
      },
      "outputs": [
        {
          "data": {
            "text/plain": [
              "(                       algo  votes\n",
              " 0  bert_convert_unmasker_11   2327\n",
              " 1               raw_convert   2122\n",
              " 2                 raw_tfidf   1450,\n",
              "                        algo  votes\n",
              " 2                 raw_tfidf   2601\n",
              " 1               raw_convert   1721\n",
              " 0  bert_convert_unmasker_11   1630)"
            ]
          },
          "execution_count": 50,
          "metadata": {},
          "output_type": "execute_result"
        }
      ],
      "source": [
        "best, worst = voting(df.iloc[:, 6:9].values, algo_names)\n",
        "best.head(3), worst.head(3)"
      ]
    },
    {
      "cell_type": "code",
      "execution_count": null,
      "id": "50477ad7-a96f-42bc-9eb0-17cff14222c6",
      "metadata": {
        "id": "50477ad7-a96f-42bc-9eb0-17cff14222c6"
      },
      "outputs": [],
      "source": [
        "best_algos['isInteresting'] = best.values\n",
        "worst_algos['isInteresting'] = worst.values"
      ]
    },
    {
      "cell_type": "code",
      "execution_count": null,
      "id": "d276bebe-1dd4-46cd-bc51-71c1db307321",
      "metadata": {
        "id": "d276bebe-1dd4-46cd-bc51-71c1db307321",
        "outputId": "40fb0cc7-bcf7-4360-8812-a82856ddb863"
      },
      "outputs": [
        {
          "data": {
            "text/plain": [
              "isResponseOnTopic.bert_convert_unmasker_11    0.1548\n",
              "isResponseOnTopic.raw_tfidf                   0.1515\n",
              "isResponseOnTopic.raw_convert                 0.1474\n",
              "dtype: float64"
            ]
          },
          "execution_count": 52,
          "metadata": {},
          "output_type": "execute_result"
        }
      ],
      "source": [
        "df.iloc[:, 9:12].mean().round(4).sort_values(ascending=False)"
      ]
    },
    {
      "cell_type": "code",
      "execution_count": null,
      "id": "61f2d531-20dd-4941-b96d-ee7d8a813e48",
      "metadata": {
        "id": "61f2d531-20dd-4941-b96d-ee7d8a813e48",
        "outputId": "da8bc74d-5dc8-4a73-888c-299b205448ae"
      },
      "outputs": [
        {
          "data": {
            "text/plain": [
              "(                       algo  votes\n",
              " 0  bert_convert_unmasker_11   2268\n",
              " 1               raw_convert   1908\n",
              " 2                 raw_tfidf   1874,\n",
              "                        algo  votes\n",
              " 2                 raw_tfidf   2219\n",
              " 1               raw_convert   2106\n",
              " 0  bert_convert_unmasker_11   1794)"
            ]
          },
          "execution_count": 53,
          "metadata": {},
          "output_type": "execute_result"
        }
      ],
      "source": [
        "best, worst = voting(df.iloc[:, 9:12].values, algo_names)\n",
        "best.head(3), worst.head(3)"
      ]
    },
    {
      "cell_type": "code",
      "execution_count": null,
      "id": "2571cb69-7e0f-4e94-85c8-653360d4092e",
      "metadata": {
        "id": "2571cb69-7e0f-4e94-85c8-653360d4092e"
      },
      "outputs": [],
      "source": [
        "best_algos['isOnTopic'] = best.values\n",
        "worst_algos['isOnTopic'] = worst.values"
      ]
    },
    {
      "cell_type": "code",
      "execution_count": null,
      "id": "157fb8c8-1846-4b03-8c29-f3d9a7d24e2f",
      "metadata": {
        "id": "157fb8c8-1846-4b03-8c29-f3d9a7d24e2f",
        "outputId": "c1d54a12-49dc-42eb-8119-cb8dbcacc708"
      },
      "outputs": [
        {
          "data": {
            "text/plain": [
              "responseEngagesUser.bert_convert_unmasker_11    0.6657\n",
              "responseEngagesUser.raw_convert                 0.6633\n",
              "responseEngagesUser.raw_tfidf                   0.6470\n",
              "dtype: float64"
            ]
          },
          "execution_count": 55,
          "metadata": {},
          "output_type": "execute_result"
        }
      ],
      "source": [
        "df.iloc[:, 12:15].mean().round(4).sort_values(ascending=False)"
      ]
    },
    {
      "cell_type": "code",
      "execution_count": null,
      "id": "22da2874-764d-4c86-b1c1-8c67152b34a2",
      "metadata": {
        "id": "22da2874-764d-4c86-b1c1-8c67152b34a2",
        "outputId": "1c95ecd7-108a-4a37-c2c1-51c7b3dca061"
      },
      "outputs": [
        {
          "data": {
            "text/plain": [
              "(                       algo  votes\n",
              " 1               raw_convert   2113\n",
              " 0  bert_convert_unmasker_11   2100\n",
              " 2                 raw_tfidf   1773,\n",
              "                        algo  votes\n",
              " 2                 raw_tfidf   2230\n",
              " 1               raw_convert   1866\n",
              " 0  bert_convert_unmasker_11   1849)"
            ]
          },
          "execution_count": 56,
          "metadata": {},
          "output_type": "execute_result"
        }
      ],
      "source": [
        "best, worst = voting(df.iloc[:, 12:15].values, algo_names)\n",
        "best.head(3), worst.head(3)"
      ]
    },
    {
      "cell_type": "code",
      "execution_count": null,
      "id": "f4ed2cbd-791c-43c1-9971-e56830565889",
      "metadata": {
        "id": "f4ed2cbd-791c-43c1-9971-e56830565889"
      },
      "outputs": [],
      "source": [
        "best_algos['EngagesUser'] = best.values\n",
        "worst_algos['EngagesUser'] = worst.values"
      ]
    },
    {
      "cell_type": "code",
      "execution_count": null,
      "id": "794e3849-3b66-422e-87a5-8de992d974f8",
      "metadata": {
        "id": "794e3849-3b66-422e-87a5-8de992d974f8"
      },
      "outputs": [],
      "source": [
        "best_algos"
      ]
    },
    {
      "cell_type": "code",
      "execution_count": null,
      "id": "efc3c885-355b-49c2-bcf1-1753770d5d8e",
      "metadata": {
        "id": "efc3c885-355b-49c2-bcf1-1753770d5d8e"
      },
      "outputs": [],
      "source": [
        "sorted_best_algos = dict()\n",
        "\n",
        "tmp = best_algos\n",
        "\n",
        "for metric in tmp:    \n",
        "    sorted_best_algos[metric] = tmp[metric][tmp[metric][:, 0].argsort()]"
      ]
    },
    {
      "cell_type": "code",
      "execution_count": null,
      "id": "7f013233-b922-49c5-b1cf-50aa075e8156",
      "metadata": {
        "id": "7f013233-b922-49c5-b1cf-50aa075e8156"
      },
      "outputs": [],
      "source": [
        "sorted_best_algos"
      ]
    },
    {
      "cell_type": "code",
      "execution_count": null,
      "id": "a71cfa1c-0236-4fdb-b940-284b34a2f010",
      "metadata": {
        "id": "a71cfa1c-0236-4fdb-b940-284b34a2f010"
      },
      "outputs": [],
      "source": [
        "for metric in best_algos:\n",
        "    print(best_algos[metric])    \n",
        "    print(sorted_best_algos[metric])\n",
        "    print('\\n')"
      ]
    },
    {
      "cell_type": "code",
      "execution_count": null,
      "id": "cd8f25d5-089b-4d78-a1e6-2db75c5a1694",
      "metadata": {
        "id": "cd8f25d5-089b-4d78-a1e6-2db75c5a1694",
        "outputId": "f5af71ab-dec6-47b3-8970-506fa80630e1"
      },
      "outputs": [
        {
          "data": {
            "image/png": "[encoded data removed]",
            "text/plain": [
              "<Figure size 1080x360 with 1 Axes>"
            ]
          },
          "metadata": {
            "needs_background": "light"
          },
          "output_type": "display_data"
        }
      ],
      "source": [
        "import matplotlib.pyplot as plt\n",
        "\n",
        "metrics = list(sorted_best_algos.keys())\n",
        "\n",
        "ind = np.arange(len(metrics)) \n",
        "width = 0.25\n",
        "\n",
        "colors = ['tab:gray', 'k', 'w']\n",
        "\n",
        "vals = [sorted_best_algos[metric][:,1].squeeze() for metric in metrics]\n",
        "\n",
        "bert_vals = [val[0] for val in vals]\n",
        "convert_vals = [val[1] for val in vals]\n",
        "tfidf_vals = [val[2] for val in vals]\n",
        "\n",
        "plt.figure(figsize=(15,5))\n",
        "bar1 = plt.bar(ind, bert_vals, width, color = 'tab:gray', edgecolor = \"k\")\n",
        "bar2 = plt.bar(ind+width, convert_vals, width, color='k', edgecolor = \"k\")\n",
        "bar3 = plt.bar(ind+width*2, tfidf_vals, width, color = 'w', edgecolor = \"k\")\n",
        "  \n",
        "# plt.xlabel(\"metrics\")\n",
        "plt.ylabel('number of votes')\n",
        "# plt.title(\"Sample-based Evaluation\")\n",
        "  \n",
        "plt.xticks(ind+width,metrics, rotation=15)\n",
        "plt.legend( (bar1, bar2, bar3), ('BERT', 'raw ConveRT', 'raw TfIdf') )\n",
        "plt.set_cmap(\"Greys\")\n",
        "\n",
        "plt.savefig('img/votes.png')\n",
        "plt.show()"
      ]
    }
  ],
  "metadata": {
    "kernelspec": {
      "display_name": "Python 3 (ipykernel)",
      "language": "python",
      "name": "python3"
    },
    "language_info": {
      "codemirror_mode": {
        "name": "ipython",
        "version": 3
      },
      "file_extension": ".py",
      "mimetype": "text/x-python",
      "name": "python",
      "nbconvert_exporter": "python",
      "pygments_lexer": "ipython3",
      "version": "3.8.2"
    },
    "colab": {
      "name": "response_evaluation.ipynb",
      "provenance": []
    }
  },
  "nbformat": 4,
  "nbformat_minor": 5
}