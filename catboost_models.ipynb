{
  "nbformat": 4,
  "nbformat_minor": 0,
  "metadata": {
    "colab": {
      "name": "catboost models",
      "provenance": [],
      "collapsed_sections": [
        "eaNW_BEx7b3T"
      ],
      "authorship_tag": "ABX9TyNM/vr8oUcdDs7gkatsFxl7",
      "include_colab_link": true
    },
    "kernelspec": {
      "name": "python3",
      "display_name": "Python 3"
    },
    "language_info": {
      "name": "python"
    },
    "accelerator": "GPU"
  },
  "cells": [
    {
      "cell_type": "markdown",
      "metadata": {
        "id": "view-in-github",
        "colab_type": "text"
      },
      "source": [
        "<a href=\"https://colab.research.google.com/github/deniskapel/autoskill/blob/main/catboost_models.ipynb\" target=\"_parent\"><img src=\"https://colab.research.google.com/assets/colab-badge.svg\" alt=\"Open In Colab\"/></a>"
      ]
    },
    {
      "cell_type": "code",
      "source": [
        "%%bash\n",
        "pip install catboost\n",
        "pip install ipywidgets\n",
        "jupyter nbextension enable --py widgetsnbextension"
      ],
      "metadata": {
        "id": "yUFBWMHG1XfV",
        "colab": {
          "base_uri": "https://localhost:8080/"
        },
        "outputId": "7af081e6-6bb6-45ee-c93a-2e2ee6b16f30"
      },
      "execution_count": 1,
      "outputs": [
        {
          "output_type": "stream",
          "name": "stdout",
          "text": [
            "Collecting catboost\n",
            "  Downloading catboost-1.0.4-cp37-none-manylinux1_x86_64.whl (76.1 MB)\n",
            "Requirement already satisfied: six in /usr/local/lib/python3.7/dist-packages (from catboost) (1.15.0)\n",
            "Requirement already satisfied: scipy in /usr/local/lib/python3.7/dist-packages (from catboost) (1.4.1)\n",
            "Requirement already satisfied: graphviz in /usr/local/lib/python3.7/dist-packages (from catboost) (0.10.1)\n",
            "Requirement already satisfied: plotly in /usr/local/lib/python3.7/dist-packages (from catboost) (5.5.0)\n",
            "Requirement already satisfied: matplotlib in /usr/local/lib/python3.7/dist-packages (from catboost) (3.2.2)\n",
            "Requirement already satisfied: pandas>=0.24.0 in /usr/local/lib/python3.7/dist-packages (from catboost) (1.3.5)\n",
            "Requirement already satisfied: numpy>=1.16.0 in /usr/local/lib/python3.7/dist-packages (from catboost) (1.21.5)\n",
            "Requirement already satisfied: pytz>=2017.3 in /usr/local/lib/python3.7/dist-packages (from pandas>=0.24.0->catboost) (2018.9)\n",
            "Requirement already satisfied: python-dateutil>=2.7.3 in /usr/local/lib/python3.7/dist-packages (from pandas>=0.24.0->catboost) (2.8.2)\n",
            "Requirement already satisfied: cycler>=0.10 in /usr/local/lib/python3.7/dist-packages (from matplotlib->catboost) (0.11.0)\n",
            "Requirement already satisfied: kiwisolver>=1.0.1 in /usr/local/lib/python3.7/dist-packages (from matplotlib->catboost) (1.3.2)\n",
            "Requirement already satisfied: pyparsing!=2.0.4,!=2.1.2,!=2.1.6,>=2.0.1 in /usr/local/lib/python3.7/dist-packages (from matplotlib->catboost) (3.0.7)\n",
            "Requirement already satisfied: tenacity>=6.2.0 in /usr/local/lib/python3.7/dist-packages (from plotly->catboost) (8.0.1)\n",
            "Installing collected packages: catboost\n",
            "Successfully installed catboost-1.0.4\n",
            "Requirement already satisfied: ipywidgets in /usr/local/lib/python3.7/dist-packages (7.6.5)\n",
            "Requirement already satisfied: jupyterlab-widgets>=1.0.0 in /usr/local/lib/python3.7/dist-packages (from ipywidgets) (1.0.2)\n",
            "Requirement already satisfied: traitlets>=4.3.1 in /usr/local/lib/python3.7/dist-packages (from ipywidgets) (5.1.1)\n",
            "Requirement already satisfied: ipython>=4.0.0 in /usr/local/lib/python3.7/dist-packages (from ipywidgets) (5.5.0)\n",
            "Requirement already satisfied: widgetsnbextension~=3.5.0 in /usr/local/lib/python3.7/dist-packages (from ipywidgets) (3.5.2)\n",
            "Requirement already satisfied: ipython-genutils~=0.2.0 in /usr/local/lib/python3.7/dist-packages (from ipywidgets) (0.2.0)\n",
            "Requirement already satisfied: ipykernel>=4.5.1 in /usr/local/lib/python3.7/dist-packages (from ipywidgets) (4.10.1)\n",
            "Requirement already satisfied: nbformat>=4.2.0 in /usr/local/lib/python3.7/dist-packages (from ipywidgets) (5.1.3)\n",
            "Requirement already satisfied: tornado>=4.0 in /usr/local/lib/python3.7/dist-packages (from ipykernel>=4.5.1->ipywidgets) (5.1.1)\n",
            "Requirement already satisfied: jupyter-client in /usr/local/lib/python3.7/dist-packages (from ipykernel>=4.5.1->ipywidgets) (5.3.5)\n",
            "Requirement already satisfied: setuptools>=18.5 in /usr/local/lib/python3.7/dist-packages (from ipython>=4.0.0->ipywidgets) (57.4.0)\n",
            "Requirement already satisfied: decorator in /usr/local/lib/python3.7/dist-packages (from ipython>=4.0.0->ipywidgets) (4.4.2)\n",
            "Requirement already satisfied: simplegeneric>0.8 in /usr/local/lib/python3.7/dist-packages (from ipython>=4.0.0->ipywidgets) (0.8.1)\n",
            "Requirement already satisfied: prompt-toolkit<2.0.0,>=1.0.4 in /usr/local/lib/python3.7/dist-packages (from ipython>=4.0.0->ipywidgets) (1.0.18)\n",
            "Requirement already satisfied: pexpect in /usr/local/lib/python3.7/dist-packages (from ipython>=4.0.0->ipywidgets) (4.8.0)\n",
            "Requirement already satisfied: pickleshare in /usr/local/lib/python3.7/dist-packages (from ipython>=4.0.0->ipywidgets) (0.7.5)\n",
            "Requirement already satisfied: pygments in /usr/local/lib/python3.7/dist-packages (from ipython>=4.0.0->ipywidgets) (2.6.1)\n",
            "Requirement already satisfied: jsonschema!=2.5.0,>=2.4 in /usr/local/lib/python3.7/dist-packages (from nbformat>=4.2.0->ipywidgets) (4.3.3)\n",
            "Requirement already satisfied: jupyter-core in /usr/local/lib/python3.7/dist-packages (from nbformat>=4.2.0->ipywidgets) (4.9.2)\n",
            "Requirement already satisfied: importlib-metadata in /usr/local/lib/python3.7/dist-packages (from jsonschema!=2.5.0,>=2.4->nbformat>=4.2.0->ipywidgets) (4.11.1)\n",
            "Requirement already satisfied: importlib-resources>=1.4.0 in /usr/local/lib/python3.7/dist-packages (from jsonschema!=2.5.0,>=2.4->nbformat>=4.2.0->ipywidgets) (5.4.0)\n",
            "Requirement already satisfied: pyrsistent!=0.17.0,!=0.17.1,!=0.17.2,>=0.14.0 in /usr/local/lib/python3.7/dist-packages (from jsonschema!=2.5.0,>=2.4->nbformat>=4.2.0->ipywidgets) (0.18.1)\n",
            "Requirement already satisfied: attrs>=17.4.0 in /usr/local/lib/python3.7/dist-packages (from jsonschema!=2.5.0,>=2.4->nbformat>=4.2.0->ipywidgets) (21.4.0)\n",
            "Requirement already satisfied: typing-extensions in /usr/local/lib/python3.7/dist-packages (from jsonschema!=2.5.0,>=2.4->nbformat>=4.2.0->ipywidgets) (3.10.0.2)\n",
            "Requirement already satisfied: zipp>=3.1.0 in /usr/local/lib/python3.7/dist-packages (from importlib-resources>=1.4.0->jsonschema!=2.5.0,>=2.4->nbformat>=4.2.0->ipywidgets) (3.7.0)\n",
            "Requirement already satisfied: wcwidth in /usr/local/lib/python3.7/dist-packages (from prompt-toolkit<2.0.0,>=1.0.4->ipython>=4.0.0->ipywidgets) (0.2.5)\n",
            "Requirement already satisfied: six>=1.9.0 in /usr/local/lib/python3.7/dist-packages (from prompt-toolkit<2.0.0,>=1.0.4->ipython>=4.0.0->ipywidgets) (1.15.0)\n",
            "Requirement already satisfied: notebook>=4.4.1 in /usr/local/lib/python3.7/dist-packages (from widgetsnbextension~=3.5.0->ipywidgets) (5.3.1)\n",
            "Requirement already satisfied: Send2Trash in /usr/local/lib/python3.7/dist-packages (from notebook>=4.4.1->widgetsnbextension~=3.5.0->ipywidgets) (1.8.0)\n",
            "Requirement already satisfied: terminado>=0.8.1 in /usr/local/lib/python3.7/dist-packages (from notebook>=4.4.1->widgetsnbextension~=3.5.0->ipywidgets) (0.13.1)\n",
            "Requirement already satisfied: nbconvert in /usr/local/lib/python3.7/dist-packages (from notebook>=4.4.1->widgetsnbextension~=3.5.0->ipywidgets) (5.6.1)\n",
            "Requirement already satisfied: jinja2 in /usr/local/lib/python3.7/dist-packages (from notebook>=4.4.1->widgetsnbextension~=3.5.0->ipywidgets) (2.11.3)\n",
            "Requirement already satisfied: python-dateutil>=2.1 in /usr/local/lib/python3.7/dist-packages (from jupyter-client->ipykernel>=4.5.1->ipywidgets) (2.8.2)\n",
            "Requirement already satisfied: pyzmq>=13 in /usr/local/lib/python3.7/dist-packages (from jupyter-client->ipykernel>=4.5.1->ipywidgets) (22.3.0)\n",
            "Requirement already satisfied: ptyprocess in /usr/local/lib/python3.7/dist-packages (from terminado>=0.8.1->notebook>=4.4.1->widgetsnbextension~=3.5.0->ipywidgets) (0.7.0)\n",
            "Requirement already satisfied: MarkupSafe>=0.23 in /usr/local/lib/python3.7/dist-packages (from jinja2->notebook>=4.4.1->widgetsnbextension~=3.5.0->ipywidgets) (2.0.1)\n",
            "Requirement already satisfied: mistune<2,>=0.8.1 in /usr/local/lib/python3.7/dist-packages (from nbconvert->notebook>=4.4.1->widgetsnbextension~=3.5.0->ipywidgets) (0.8.4)\n",
            "Requirement already satisfied: defusedxml in /usr/local/lib/python3.7/dist-packages (from nbconvert->notebook>=4.4.1->widgetsnbextension~=3.5.0->ipywidgets) (0.7.1)\n",
            "Requirement already satisfied: pandocfilters>=1.4.1 in /usr/local/lib/python3.7/dist-packages (from nbconvert->notebook>=4.4.1->widgetsnbextension~=3.5.0->ipywidgets) (1.5.0)\n",
            "Requirement already satisfied: testpath in /usr/local/lib/python3.7/dist-packages (from nbconvert->notebook>=4.4.1->widgetsnbextension~=3.5.0->ipywidgets) (0.5.0)\n",
            "Requirement already satisfied: entrypoints>=0.2.2 in /usr/local/lib/python3.7/dist-packages (from nbconvert->notebook>=4.4.1->widgetsnbextension~=3.5.0->ipywidgets) (0.4)\n",
            "Requirement already satisfied: bleach in /usr/local/lib/python3.7/dist-packages (from nbconvert->notebook>=4.4.1->widgetsnbextension~=3.5.0->ipywidgets) (4.1.0)\n",
            "Requirement already satisfied: webencodings in /usr/local/lib/python3.7/dist-packages (from bleach->nbconvert->notebook>=4.4.1->widgetsnbextension~=3.5.0->ipywidgets) (0.5.1)\n",
            "Requirement already satisfied: packaging in /usr/local/lib/python3.7/dist-packages (from bleach->nbconvert->notebook>=4.4.1->widgetsnbextension~=3.5.0->ipywidgets) (21.3)\n",
            "Requirement already satisfied: pyparsing!=3.0.5,>=2.0.2 in /usr/local/lib/python3.7/dist-packages (from packaging->bleach->nbconvert->notebook>=4.4.1->widgetsnbextension~=3.5.0->ipywidgets) (3.0.7)\n"
          ]
        },
        {
          "output_type": "stream",
          "name": "stderr",
          "text": [
            "Enabling notebook extension jupyter-js-widgets/extension...\n",
            "      - Validating: \u001b[32mOK\u001b[0m\n"
          ]
        }
      ]
    },
    {
      "cell_type": "code",
      "source": [
        ""
      ],
      "metadata": {
        "id": "jXGVCDLY2H_5",
        "colab": {
          "base_uri": "https://localhost:8080/"
        },
        "outputId": "e9aefadf-9a75-49bf-cee7-70df9c4c57f4"
      },
      "execution_count": 2,
      "outputs": [
        {
          "output_type": "stream",
          "name": "stderr",
          "text": [
            "IOPub data rate exceeded.\n",
            "The notebook server will temporarily stop sending output\n",
            "to the client in order to avoid crashing it.\n",
            "To change this limit, set the config variable\n",
            "`--NotebookApp.iopub_data_rate_limit`.\n",
            "\n",
            "Current values:\n",
            "NotebookApp.iopub_data_rate_limit=1000000.0 (bytes/sec)\n",
            "NotebookApp.rate_limit_window=3.0 (secs)\n",
            "\n"
          ]
        }
      ]
    },
    {
      "cell_type": "code",
      "execution_count": 3,
      "metadata": {
        "id": "T2YOvc9R03Zu"
      },
      "outputs": [],
      "source": [
        "import json\n",
        "import pickle\n",
        "from collections import Counter\n",
        "\n",
        "import numpy as np\n",
        "from catboost import CatBoostClassifier, Pool\n",
        "from sklearn.metrics import f1_score, accuracy_score\n",
        "from joblib import dump, load\n",
        "# models\n",
        "from catboost import CatBoostClassifier, Pool\n",
        "# for multilabel classification\n",
        "# metrics\n",
        "from sklearn.metrics import f1_score, accuracy_score\n",
        "from sklearn.metrics import classification_report\n",
        "from tensorflow.keras.utils import to_categorical"
      ]
    },
    {
      "cell_type": "code",
      "source": [
        "Midas2ID = {\n",
        "    \"appreciation\": 0, \"command\": 1, \"comment\": 2,\"complaint\": 3,\n",
        "    \"dev_command\": 4, \"neg_answer\": 5, \"open_question_factual\": 6,\n",
        "    \"open_question_opinion\": 7, \"opinion\": 8, \"other_answers\": 9,\n",
        "    \"pos_answer\": 10, \"statement\": 11, \"yes_no_question\": 12,\n",
        "}\n",
        "\n",
        "ID2Midas = list(Midas2ID.keys())\n",
        "\n",
        "Entity2ID = {\n",
        "    'person': 0, 'location': 1, 'videoname': 2, 'organization': 3,\n",
        "    'device': 4, 'sport': 5, 'duration': 6, 'number': 7, 'genre': 8,\n",
        "    'sportteam': 9, 'position': 10, 'event': 11, 'softwareapplication': 12,\n",
        "    'vehicle': 13, 'party': 14, 'year': 15, 'date': 16, 'gamename': 17,\n",
        "    'songname': 18, 'bookname': 19}\n",
        "\n",
        "ID2Entity = list(Entity2ID.keys())"
      ],
      "metadata": {
        "id": "X0qoXrVe1Nrw"
      },
      "execution_count": 4,
      "outputs": []
    },
    {
      "cell_type": "code",
      "source": [
        "with open('data/vectorized_train.npy', 'rb') as f:\n",
        "    X_train = np.load(f)\n",
        "    y_midas_train = np.load(f)\n",
        "    y_entity_train = np.load(f)\n",
        "\n",
        "with open('data/vectorized_val.npy', 'rb') as f:\n",
        "    X_val = np.load(f)\n",
        "    y_midas_val = np.load(f)\n",
        "    y_entity_val = np.load(f)"
      ],
      "metadata": {
        "id": "oIGFGkFS1R0A"
      },
      "execution_count": 5,
      "outputs": []
    },
    {
      "cell_type": "code",
      "source": [
        "X_train.shape, y_midas_train.shape, y_entity_train.shape"
      ],
      "metadata": {
        "colab": {
          "base_uri": "https://localhost:8080/"
        },
        "id": "Jzq8fKp3220n",
        "outputId": "65bf847a-a15d-4b08-9f39-61fa4f4e6ba2"
      },
      "execution_count": 6,
      "outputs": [
        {
          "output_type": "execute_result",
          "data": {
            "text/plain": [
              "((179286, 1641), (179286,), (179286, 20))"
            ]
          },
          "metadata": {},
          "execution_count": 6
        }
      ]
    },
    {
      "cell_type": "code",
      "source": [
        "X_val.shape, y_midas_val.shape, y_entity_val.shape"
      ],
      "metadata": {
        "colab": {
          "base_uri": "https://localhost:8080/"
        },
        "id": "UzPxK-Rp25Gl",
        "outputId": "788c8c50-a249-4208-e2be-404372966139"
      },
      "execution_count": 7,
      "outputs": [
        {
          "output_type": "execute_result",
          "data": {
            "text/plain": [
              "((39089, 1641), (39089,), (39089, 20))"
            ]
          },
          "metadata": {},
          "execution_count": 7
        }
      ]
    },
    {
      "cell_type": "markdown",
      "source": [
        "# Catboost"
      ],
      "metadata": {
        "id": "-SB12MBp439n"
      }
    },
    {
      "cell_type": "markdown",
      "source": [
        "## SymmetricTree"
      ],
      "metadata": {
        "id": "fHusna5I7VQ8"
      }
    },
    {
      "cell_type": "markdown",
      "source": [
        "### Midas"
      ],
      "metadata": {
        "id": "XeYFz8vU7Zec"
      }
    },
    {
      "cell_type": "code",
      "source": [
        "X_midas_train = Pool(np.float32(X_train), label=y_midas_train)\n",
        "X_midas_val = Pool(np.float32(X_val), label=y_midas_val)"
      ],
      "metadata": {
        "id": "K0ese8Ky4xmW"
      },
      "execution_count": 8,
      "outputs": []
    },
    {
      "cell_type": "code",
      "source": [
        "model_params = {\n",
        "    'verbose': True,\n",
        "    'random_seed': 42,\n",
        "    'use_best_model': True,\n",
        "    'devices':'0:1'\n",
        "}\n",
        "\n",
        "fit_params = {\n",
        "    'use_best_model': True,\n",
        "    'early_stopping_rounds': 5   \n",
        "}"
      ],
      "metadata": {
        "id": "XtTqlwpl5axN"
      },
      "execution_count": 34,
      "outputs": []
    },
    {
      "cell_type": "code",
      "source": [
        "midas_clf = CatBoostClassifier(\n",
        "    grow_policy='SymmetricTree', \n",
        "    loss_function='MultiClass', \n",
        "    eval_metric='Accuracy', \n",
        "    task_type='GPU', **model_params)"
      ],
      "metadata": {
        "id": "tUPNe70r6ym5"
      },
      "execution_count": 37,
      "outputs": []
    },
    {
      "cell_type": "code",
      "source": [
        "    \n",
        "midas_clf.fit(\n",
        "    X_midas_train, eval_set=X_midas_val, **fit_params)"
      ],
      "metadata": {
        "colab": {
          "base_uri": "https://localhost:8080/"
        },
        "id": "-12UT7k37OIl",
        "outputId": "dd694ce0-a47b-40a2-def2-d1f269b38870"
      },
      "execution_count": 38,
      "outputs": [
        {
          "output_type": "stream",
          "name": "stderr",
          "text": [
            "Custom logger is already specified. Specify more than one logger at same time is not thread safe."
          ]
        },
        {
          "output_type": "stream",
          "name": "stdout",
          "text": [
            "Learning rate set to 0.177599\n",
            "0:\tlearn: 0.3845476\ttest: 0.3845839\tbest: 0.3845839 (0)\ttotal: 694ms\tremaining: 11m 32s\n",
            "1:\tlearn: 0.3852448\ttest: 0.3853258\tbest: 0.3853258 (1)\ttotal: 1.46s\tremaining: 12m 8s\n",
            "2:\tlearn: 0.3854066\ttest: 0.3855049\tbest: 0.3855049 (2)\ttotal: 2.21s\tremaining: 12m 13s\n",
            "3:\tlearn: 0.3863492\ttest: 0.3864514\tbest: 0.3864514 (3)\ttotal: 2.92s\tremaining: 12m 8s\n",
            "4:\tlearn: 0.3870297\ttest: 0.3871166\tbest: 0.3871166 (4)\ttotal: 3.74s\tremaining: 12m 24s\n",
            "5:\tlearn: 0.3880615\ttest: 0.3882934\tbest: 0.3882934 (5)\ttotal: 4.54s\tremaining: 12m 32s\n",
            "6:\tlearn: 0.3882010\ttest: 0.3882166\tbest: 0.3882934 (5)\ttotal: 5.28s\tremaining: 12m 28s\n",
            "7:\tlearn: 0.3888703\ttest: 0.3886771\tbest: 0.3886771 (7)\ttotal: 6.08s\tremaining: 12m 34s\n",
            "8:\tlearn: 0.3892050\ttest: 0.3889841\tbest: 0.3889841 (8)\ttotal: 6.79s\tremaining: 12m 27s\n",
            "9:\tlearn: 0.3896567\ttest: 0.3895469\tbest: 0.3895469 (9)\ttotal: 7.52s\tremaining: 12m 24s\n",
            "10:\tlearn: 0.3901866\ttest: 0.3899307\tbest: 0.3899307 (10)\ttotal: 8.38s\tremaining: 12m 33s\n",
            "11:\tlearn: 0.3905994\ttest: 0.3903912\tbest: 0.3903912 (11)\ttotal: 9.23s\tremaining: 12m 39s\n",
            "12:\tlearn: 0.3907500\ttest: 0.3903656\tbest: 0.3903912 (11)\ttotal: 9.97s\tremaining: 12m 37s\n",
            "13:\tlearn: 0.3913412\ttest: 0.3912610\tbest: 0.3912610 (13)\ttotal: 10.6s\tremaining: 12m 29s\n",
            "14:\tlearn: 0.3917540\ttest: 0.3918750\tbest: 0.3918750 (14)\ttotal: 11.5s\tremaining: 12m 35s\n",
            "15:\tlearn: 0.3922113\ttest: 0.3925401\tbest: 0.3925401 (15)\ttotal: 12.3s\tremaining: 12m 38s\n",
            "16:\tlearn: 0.3927635\ttest: 0.3922587\tbest: 0.3925401 (15)\ttotal: 13.1s\tremaining: 12m 37s\n",
            "17:\tlearn: 0.3933826\ttest: 0.3931029\tbest: 0.3931029 (17)\ttotal: 13.9s\tremaining: 12m 38s\n",
            "18:\tlearn: 0.3935667\ttest: 0.3938448\tbest: 0.3938448 (18)\ttotal: 14.7s\tremaining: 12m 38s\n",
            "19:\tlearn: 0.3940408\ttest: 0.3939983\tbest: 0.3939983 (19)\ttotal: 15.4s\tremaining: 12m 33s\n",
            "20:\tlearn: 0.3942304\ttest: 0.3946379\tbest: 0.3946379 (20)\ttotal: 16.2s\tremaining: 12m 34s\n",
            "21:\tlearn: 0.3945149\ttest: 0.3948425\tbest: 0.3948425 (21)\ttotal: 17s\tremaining: 12m 33s\n",
            "22:\tlearn: 0.3946822\ttest: 0.3950216\tbest: 0.3950216 (22)\ttotal: 17.7s\tremaining: 12m 31s\n",
            "23:\tlearn: 0.3951340\ttest: 0.3951239\tbest: 0.3951239 (23)\ttotal: 18.4s\tremaining: 12m 27s\n",
            "24:\tlearn: 0.3958982\ttest: 0.3951239\tbest: 0.3951239 (23)\ttotal: 19.2s\tremaining: 12m 29s\n",
            "25:\tlearn: 0.3968687\ttest: 0.3949960\tbest: 0.3951239 (23)\ttotal: 20s\tremaining: 12m 28s\n",
            "26:\tlearn: 0.3971699\ttest: 0.3951751\tbest: 0.3951751 (26)\ttotal: 20.8s\tremaining: 12m 28s\n",
            "27:\tlearn: 0.3971922\ttest: 0.3952263\tbest: 0.3952263 (27)\ttotal: 21.6s\tremaining: 12m 28s\n",
            "28:\tlearn: 0.3977221\ttest: 0.3956100\tbest: 0.3956100 (28)\ttotal: 22.3s\tremaining: 12m 25s\n",
            "29:\tlearn: 0.3980902\ttest: 0.3957635\tbest: 0.3957635 (29)\ttotal: 22.9s\tremaining: 12m 20s\n",
            "30:\tlearn: 0.3984137\ttest: 0.3956100\tbest: 0.3957635 (29)\ttotal: 23.7s\tremaining: 12m 19s\n",
            "31:\tlearn: 0.3985978\ttest: 0.3954821\tbest: 0.3957635 (29)\ttotal: 24.4s\tremaining: 12m 16s\n",
            "32:\tlearn: 0.3988878\ttest: 0.3955077\tbest: 0.3957635 (29)\ttotal: 25.2s\tremaining: 12m 17s\n",
            "33:\tlearn: 0.3991444\ttest: 0.3956356\tbest: 0.3957635 (29)\ttotal: 25.9s\tremaining: 12m 15s\n",
            "34:\tlearn: 0.3995069\ttest: 0.3953798\tbest: 0.3957635 (29)\ttotal: 26.6s\tremaining: 12m 12s\n",
            "bestTest = 0.395763514\n",
            "bestIteration = 29\n",
            "Shrink model to first 30 iterations.\n"
          ]
        },
        {
          "output_type": "execute_result",
          "data": {
            "text/plain": [
              "<catboost.core.CatBoostClassifier at 0x7f8f959e94d0>"
            ]
          },
          "metadata": {},
          "execution_count": 38
        }
      ]
    },
    {
      "cell_type": "code",
      "source": [
        "midas_preds = midas_clf.predict(X_midas_val).squeeze()"
      ],
      "metadata": {
        "id": "JzjdP58T8298"
      },
      "execution_count": 39,
      "outputs": []
    },
    {
      "cell_type": "code",
      "source": [
        "Counter(midas_preds)"
      ],
      "metadata": {
        "colab": {
          "base_uri": "https://localhost:8080/"
        },
        "id": "OhiRWEAP9Gmj",
        "outputId": "baa5944d-5162-469a-cfda-994bcb34b4b3"
      },
      "execution_count": 40,
      "outputs": [
        {
          "output_type": "execute_result",
          "data": {
            "text/plain": [
              "Counter({2: 272, 5: 44, 6: 5, 8: 22774, 10: 788, 11: 15205, 12: 1})"
            ]
          },
          "metadata": {},
          "execution_count": 40
        }
      ]
    },
    {
      "cell_type": "code",
      "source": [
        "print(\n",
        "    classification_report(y_midas_val, midas_preds, target_names=ID2Midas)\n",
        ")"
      ],
      "metadata": {
        "colab": {
          "base_uri": "https://localhost:8080/"
        },
        "id": "qurlL7v59XJL",
        "outputId": "4ce0bc93-3016-49d6-9026-7ea670008d10"
      },
      "execution_count": 41,
      "outputs": [
        {
          "output_type": "stream",
          "name": "stdout",
          "text": [
            "                       precision    recall  f1-score   support\n",
            "\n",
            "         appreciation       0.00      0.00      0.00      1032\n",
            "              command       0.00      0.00      0.00       615\n",
            "              comment       0.29      0.02      0.04      4035\n",
            "            complaint       0.00      0.00      0.00       826\n",
            "          dev_command       0.00      0.00      0.00        54\n",
            "           neg_answer       0.25      0.01      0.02      1204\n",
            "open_question_factual       0.20      0.00      0.00       809\n",
            "open_question_opinion       0.00      0.00      0.00       497\n",
            "              opinion       0.41      0.75      0.53     12549\n",
            "        other_answers       0.00      0.00      0.00       309\n",
            "           pos_answer       0.41      0.07      0.12      4639\n",
            "            statement       0.37      0.52      0.44     10875\n",
            "      yes_no_question       0.00      0.00      0.00      1645\n",
            "\n",
            "             accuracy                           0.40     39089\n",
            "            macro avg       0.15      0.11      0.09     39089\n",
            "         weighted avg       0.33      0.40      0.31     39089\n",
            "\n"
          ]
        },
        {
          "output_type": "stream",
          "name": "stderr",
          "text": [
            "/usr/local/lib/python3.7/dist-packages/sklearn/metrics/_classification.py:1318: UndefinedMetricWarning: Precision and F-score are ill-defined and being set to 0.0 in labels with no predicted samples. Use `zero_division` parameter to control this behavior.\n",
            "  _warn_prf(average, modifier, msg_start, len(result))\n",
            "/usr/local/lib/python3.7/dist-packages/sklearn/metrics/_classification.py:1318: UndefinedMetricWarning: Precision and F-score are ill-defined and being set to 0.0 in labels with no predicted samples. Use `zero_division` parameter to control this behavior.\n",
            "  _warn_prf(average, modifier, msg_start, len(result))\n",
            "/usr/local/lib/python3.7/dist-packages/sklearn/metrics/_classification.py:1318: UndefinedMetricWarning: Precision and F-score are ill-defined and being set to 0.0 in labels with no predicted samples. Use `zero_division` parameter to control this behavior.\n",
            "  _warn_prf(average, modifier, msg_start, len(result))\n"
          ]
        }
      ]
    },
    {
      "cell_type": "markdown",
      "source": [
        "### Entity"
      ],
      "metadata": {
        "id": "eaNW_BEx7b3T"
      }
    },
    {
      "cell_type": "code",
      "source": [
        "X_entity_train = Pool(np.float32(X_train), label=y_entity_train)\n",
        "X_entity_val = Pool(np.float32(X_val), label=y_entity_val)"
      ],
      "metadata": {
        "id": "AAe4TS9r7cu6"
      },
      "execution_count": 21,
      "outputs": []
    },
    {
      "cell_type": "code",
      "source": [
        "entity_clf = CatBoostClassifier(\n",
        "    grow_policy='SymmetricTree', \n",
        "    loss_function='MultiLogloss', \n",
        "    eval_metric='HammingLoss',\n",
        "    **model_params)"
      ],
      "metadata": {
        "id": "eAab8BNViMEb"
      },
      "execution_count": 32,
      "outputs": []
    },
    {
      "cell_type": "code",
      "source": [
        "entity_clf.fit(X_entity_train, eval_set=X_entity_val, task_type='GPU', **fit_params)"
      ],
      "metadata": {
        "colab": {
          "base_uri": "https://localhost:8080/",
          "height": 398
        },
        "id": "f7RWeQTji_94",
        "outputId": "c702ddf9-9051-4961-e21f-6b8ce9404716"
      },
      "execution_count": 33,
      "outputs": [
        {
          "output_type": "stream",
          "name": "stderr",
          "text": [
            "Custom logger is already specified. Specify more than one logger at same time is not thread safe."
          ]
        },
        {
          "output_type": "stream",
          "name": "stdout",
          "text": [
            "Learning rate set to 0.045811\n"
          ]
        },
        {
          "output_type": "error",
          "ename": "CatBoostError",
          "evalue": "ignored",
          "traceback": [
            "\u001b[0;31m---------------------------------------------------------------------------\u001b[0m",
            "\u001b[0;31mCatBoostError\u001b[0m                             Traceback (most recent call last)",
            "\u001b[0;32m<ipython-input-33-7aadbd39a2ef>\u001b[0m in \u001b[0;36m<module>\u001b[0;34m()\u001b[0m\n\u001b[0;32m----> 1\u001b[0;31m \u001b[0mentity_clf\u001b[0m\u001b[0;34m.\u001b[0m\u001b[0mfit\u001b[0m\u001b[0;34m(\u001b[0m\u001b[0mX_entity_train\u001b[0m\u001b[0;34m,\u001b[0m \u001b[0meval_set\u001b[0m\u001b[0;34m=\u001b[0m\u001b[0mX_entity_val\u001b[0m\u001b[0;34m,\u001b[0m \u001b[0;34m**\u001b[0m\u001b[0mfit_params\u001b[0m\u001b[0;34m)\u001b[0m\u001b[0;34m\u001b[0m\u001b[0;34m\u001b[0m\u001b[0m\n\u001b[0m",
            "\u001b[0;32m/usr/local/lib/python3.7/dist-packages/catboost/core.py\u001b[0m in \u001b[0;36mfit\u001b[0;34m(self, X, y, cat_features, text_features, embedding_features, sample_weight, baseline, use_best_model, eval_set, verbose, logging_level, plot, column_description, verbose_eval, metric_period, silent, early_stopping_rounds, save_snapshot, snapshot_file, snapshot_interval, init_model, callbacks, log_cout, log_cerr)\u001b[0m\n\u001b[1;32m   4768\u001b[0m         self._fit(X, y, cat_features, text_features, embedding_features, None, sample_weight, None, None, None, None, baseline, use_best_model,\n\u001b[1;32m   4769\u001b[0m                   \u001b[0meval_set\u001b[0m\u001b[0;34m,\u001b[0m \u001b[0mverbose\u001b[0m\u001b[0;34m,\u001b[0m \u001b[0mlogging_level\u001b[0m\u001b[0;34m,\u001b[0m \u001b[0mplot\u001b[0m\u001b[0;34m,\u001b[0m \u001b[0mcolumn_description\u001b[0m\u001b[0;34m,\u001b[0m \u001b[0mverbose_eval\u001b[0m\u001b[0;34m,\u001b[0m \u001b[0mmetric_period\u001b[0m\u001b[0;34m,\u001b[0m\u001b[0;34m\u001b[0m\u001b[0;34m\u001b[0m\u001b[0m\n\u001b[0;32m-> 4770\u001b[0;31m                   silent, early_stopping_rounds, save_snapshot, snapshot_file, snapshot_interval, init_model, callbacks, log_cout, log_cerr)\n\u001b[0m\u001b[1;32m   4771\u001b[0m         \u001b[0;32mreturn\u001b[0m \u001b[0mself\u001b[0m\u001b[0;34m\u001b[0m\u001b[0;34m\u001b[0m\u001b[0m\n\u001b[1;32m   4772\u001b[0m \u001b[0;34m\u001b[0m\u001b[0m\n",
            "\u001b[0;32m/usr/local/lib/python3.7/dist-packages/catboost/core.py\u001b[0m in \u001b[0;36m_fit\u001b[0;34m(self, X, y, cat_features, text_features, embedding_features, pairs, sample_weight, group_id, group_weight, subgroup_id, pairs_weight, baseline, use_best_model, eval_set, verbose, logging_level, plot, column_description, verbose_eval, metric_period, silent, early_stopping_rounds, save_snapshot, snapshot_file, snapshot_interval, init_model, callbacks, log_cout, log_cerr)\u001b[0m\n\u001b[1;32m   2092\u001b[0m                 \u001b[0mparams\u001b[0m\u001b[0;34m,\u001b[0m\u001b[0;34m\u001b[0m\u001b[0;34m\u001b[0m\u001b[0m\n\u001b[1;32m   2093\u001b[0m                 \u001b[0mallow_clear_pool\u001b[0m\u001b[0;34m,\u001b[0m\u001b[0;34m\u001b[0m\u001b[0;34m\u001b[0m\u001b[0m\n\u001b[0;32m-> 2094\u001b[0;31m                 \u001b[0mtrain_params\u001b[0m\u001b[0;34m[\u001b[0m\u001b[0;34m\"init_model\"\u001b[0m\u001b[0;34m]\u001b[0m\u001b[0;34m\u001b[0m\u001b[0;34m\u001b[0m\u001b[0m\n\u001b[0m\u001b[1;32m   2095\u001b[0m             )\n\u001b[1;32m   2096\u001b[0m \u001b[0;34m\u001b[0m\u001b[0m\n",
            "\u001b[0;32m/usr/local/lib/python3.7/dist-packages/catboost/core.py\u001b[0m in \u001b[0;36m_train\u001b[0;34m(self, train_pool, test_pool, params, allow_clear_pool, init_model)\u001b[0m\n\u001b[1;32m   1514\u001b[0m \u001b[0;34m\u001b[0m\u001b[0m\n\u001b[1;32m   1515\u001b[0m     \u001b[0;32mdef\u001b[0m \u001b[0m_train\u001b[0m\u001b[0;34m(\u001b[0m\u001b[0mself\u001b[0m\u001b[0;34m,\u001b[0m \u001b[0mtrain_pool\u001b[0m\u001b[0;34m,\u001b[0m \u001b[0mtest_pool\u001b[0m\u001b[0;34m,\u001b[0m \u001b[0mparams\u001b[0m\u001b[0;34m,\u001b[0m \u001b[0mallow_clear_pool\u001b[0m\u001b[0;34m,\u001b[0m \u001b[0minit_model\u001b[0m\u001b[0;34m)\u001b[0m\u001b[0;34m:\u001b[0m\u001b[0;34m\u001b[0m\u001b[0;34m\u001b[0m\u001b[0m\n\u001b[0;32m-> 1516\u001b[0;31m         \u001b[0mself\u001b[0m\u001b[0;34m.\u001b[0m\u001b[0m_object\u001b[0m\u001b[0;34m.\u001b[0m\u001b[0m_train\u001b[0m\u001b[0;34m(\u001b[0m\u001b[0mtrain_pool\u001b[0m\u001b[0;34m,\u001b[0m \u001b[0mtest_pool\u001b[0m\u001b[0;34m,\u001b[0m \u001b[0mparams\u001b[0m\u001b[0;34m,\u001b[0m \u001b[0mallow_clear_pool\u001b[0m\u001b[0;34m,\u001b[0m \u001b[0minit_model\u001b[0m\u001b[0;34m.\u001b[0m\u001b[0m_object\u001b[0m \u001b[0;32mif\u001b[0m \u001b[0minit_model\u001b[0m \u001b[0;32melse\u001b[0m \u001b[0;32mNone\u001b[0m\u001b[0;34m)\u001b[0m\u001b[0;34m\u001b[0m\u001b[0;34m\u001b[0m\u001b[0m\n\u001b[0m\u001b[1;32m   1517\u001b[0m         \u001b[0mself\u001b[0m\u001b[0;34m.\u001b[0m\u001b[0m_set_trained_model_attributes\u001b[0m\u001b[0;34m(\u001b[0m\u001b[0;34m)\u001b[0m\u001b[0;34m\u001b[0m\u001b[0;34m\u001b[0m\u001b[0m\n\u001b[1;32m   1518\u001b[0m \u001b[0;34m\u001b[0m\u001b[0m\n",
            "\u001b[0;32m_catboost.pyx\u001b[0m in \u001b[0;36m_catboost._CatBoost._train\u001b[0;34m()\u001b[0m\n",
            "\u001b[0;32m_catboost.pyx\u001b[0m in \u001b[0;36m_catboost._CatBoost._train\u001b[0;34m()\u001b[0m\n",
            "\u001b[0;31mCatBoostError\u001b[0m: catboost/cuda/train_lib/train.cpp:330: Catboost does not support multitarget on GPU yet"
          ]
        }
      ]
    },
    {
      "cell_type": "code",
      "source": [
        "entity_preds = entity_clf.predict(X_entity_val).squeeze()"
      ],
      "metadata": {
        "id": "VaGqUt3wjQsI"
      },
      "execution_count": null,
      "outputs": []
    },
    {
      "cell_type": "markdown",
      "source": [
        "## Depthwise"
      ],
      "metadata": {
        "id": "1VaMX4648a9U"
      }
    },
    {
      "cell_type": "markdown",
      "source": [
        "### Midas"
      ],
      "metadata": {
        "id": "vu2meDyA8hCN"
      }
    },
    {
      "cell_type": "code",
      "source": [
        "midas_clf = CatBoostClassifier(\n",
        "    grow_policy='Depthwise', \n",
        "    loss_function='MultiClass', \n",
        "    eval_metric='Accuracy', \n",
        "    task_type='GPU', **model_params)"
      ],
      "metadata": {
        "id": "aDk5M_jHlFTL"
      },
      "execution_count": 42,
      "outputs": []
    },
    {
      "cell_type": "code",
      "source": [
        "midas_clf.fit(\n",
        "    X_midas_train, eval_set=X_midas_val, **fit_params)"
      ],
      "metadata": {
        "colab": {
          "base_uri": "https://localhost:8080/"
        },
        "outputId": "a249ce3a-89ea-41fb-8453-7e85d89b1f20",
        "id": "dsWgIsALlFTM"
      },
      "execution_count": 43,
      "outputs": [
        {
          "output_type": "stream",
          "name": "stdout",
          "text": [
            "Learning rate set to 0.177599\n",
            "0:\tlearn: 0.3875707\ttest: 0.3844560\tbest: 0.3844560 (0)\ttotal: 780ms\tremaining: 12m 59s\n",
            "1:\tlearn: 0.3894504\ttest: 0.3862724\tbest: 0.3862724 (1)\ttotal: 1.52s\tremaining: 12m 39s\n",
            "2:\tlearn: 0.3907500\ttest: 0.3876538\tbest: 0.3876538 (2)\ttotal: 2.24s\tremaining: 12m 25s\n",
            "3:\tlearn: 0.3916145\ttest: 0.3888050\tbest: 0.3888050 (3)\ttotal: 2.94s\tremaining: 12m 10s\n",
            "4:\tlearn: 0.3928528\ttest: 0.3887283\tbest: 0.3888050 (3)\ttotal: 3.64s\tremaining: 12m 5s\n",
            "5:\tlearn: 0.3945093\ttest: 0.3898539\tbest: 0.3898539 (5)\ttotal: 4.48s\tremaining: 12m 22s\n",
            "6:\tlearn: 0.3957810\ttest: 0.3911842\tbest: 0.3911842 (6)\ttotal: 5.2s\tremaining: 12m 17s\n",
            "7:\tlearn: 0.3967348\ttest: 0.3920796\tbest: 0.3920796 (7)\ttotal: 5.95s\tremaining: 12m 17s\n",
            "8:\tlearn: 0.3976384\ttest: 0.3920540\tbest: 0.3920796 (7)\ttotal: 6.63s\tremaining: 12m 9s\n",
            "9:\tlearn: 0.3992615\ttest: 0.3924889\tbest: 0.3924889 (9)\ttotal: 7.42s\tremaining: 12m 14s\n",
            "10:\tlearn: 0.3999978\ttest: 0.3933332\tbest: 0.3933332 (10)\ttotal: 8.17s\tremaining: 12m 14s\n",
            "11:\tlearn: 0.4012751\ttest: 0.3934099\tbest: 0.3934099 (11)\ttotal: 8.91s\tremaining: 12m 14s\n",
            "12:\tlearn: 0.4021619\ttest: 0.3937681\tbest: 0.3937681 (12)\ttotal: 9.74s\tremaining: 12m 19s\n",
            "13:\tlearn: 0.4028033\ttest: 0.3945867\tbest: 0.3945867 (13)\ttotal: 10.6s\tremaining: 12m 24s\n",
            "14:\tlearn: 0.4035898\ttest: 0.3944844\tbest: 0.3945867 (13)\ttotal: 11.3s\tremaining: 12m 19s\n",
            "15:\tlearn: 0.4040527\ttest: 0.3945355\tbest: 0.3945867 (13)\ttotal: 12s\tremaining: 12m 19s\n",
            "16:\tlearn: 0.4048559\ttest: 0.3952519\tbest: 0.3952519 (16)\ttotal: 12.8s\tremaining: 12m 21s\n",
            "17:\tlearn: 0.4056145\ttest: 0.3949193\tbest: 0.3952519 (16)\ttotal: 13.5s\tremaining: 12m 16s\n",
            "18:\tlearn: 0.4063954\ttest: 0.3959170\tbest: 0.3959170 (18)\ttotal: 14.2s\tremaining: 12m 14s\n",
            "19:\tlearn: 0.4068918\ttest: 0.3957891\tbest: 0.3959170 (18)\ttotal: 14.9s\tremaining: 12m 12s\n",
            "20:\tlearn: 0.4077284\ttest: 0.3959938\tbest: 0.3959938 (20)\ttotal: 15.7s\tremaining: 12m 10s\n",
            "21:\tlearn: 0.4083197\ttest: 0.3966845\tbest: 0.3966845 (21)\ttotal: 16.4s\tremaining: 12m 10s\n",
            "22:\tlearn: 0.4087715\ttest: 0.3967868\tbest: 0.3967868 (22)\ttotal: 17.2s\tremaining: 12m 12s\n",
            "23:\tlearn: 0.4091954\ttest: 0.3964287\tbest: 0.3967868 (22)\ttotal: 17.9s\tremaining: 12m 8s\n",
            "24:\tlearn: 0.4096806\ttest: 0.3965822\tbest: 0.3967868 (22)\ttotal: 18.7s\tremaining: 12m 8s\n",
            "25:\tlearn: 0.4102886\ttest: 0.3967357\tbest: 0.3967868 (22)\ttotal: 19.5s\tremaining: 12m 10s\n",
            "26:\tlearn: 0.4109523\ttest: 0.3969403\tbest: 0.3969403 (26)\ttotal: 20.2s\tremaining: 12m 9s\n",
            "27:\tlearn: 0.4117555\ttest: 0.3972985\tbest: 0.3972985 (27)\ttotal: 20.9s\tremaining: 12m 6s\n",
            "28:\tlearn: 0.4126368\ttest: 0.3972217\tbest: 0.3972985 (27)\ttotal: 21.7s\tremaining: 12m 5s\n",
            "29:\tlearn: 0.4134288\ttest: 0.3966333\tbest: 0.3972985 (27)\ttotal: 22.4s\tremaining: 12m 5s\n",
            "30:\tlearn: 0.4141874\ttest: 0.3966845\tbest: 0.3972985 (27)\ttotal: 23.2s\tremaining: 12m 3s\n",
            "31:\tlearn: 0.4149181\ttest: 0.3963519\tbest: 0.3972985 (27)\ttotal: 23.9s\tremaining: 12m 1s\n",
            "32:\tlearn: 0.4156766\ttest: 0.3969403\tbest: 0.3972985 (27)\ttotal: 24.6s\tremaining: 12m\n",
            "bestTest = 0.3972984727\n",
            "bestIteration = 27\n",
            "Shrink model to first 28 iterations.\n"
          ]
        },
        {
          "output_type": "execute_result",
          "data": {
            "text/plain": [
              "<catboost.core.CatBoostClassifier at 0x7f8f958c6890>"
            ]
          },
          "metadata": {},
          "execution_count": 43
        }
      ]
    },
    {
      "cell_type": "code",
      "source": [
        "midas_preds = midas_clf.predict(X_midas_val).squeeze()"
      ],
      "metadata": {
        "id": "L9nNPfzNlFTM"
      },
      "execution_count": 44,
      "outputs": []
    },
    {
      "cell_type": "code",
      "source": [
        "Counter(midas_preds)"
      ],
      "metadata": {
        "colab": {
          "base_uri": "https://localhost:8080/"
        },
        "outputId": "494463f0-b36a-4447-d116-dcb9f6a39ebc",
        "id": "FCBComhdlFTM"
      },
      "execution_count": 45,
      "outputs": [
        {
          "output_type": "execute_result",
          "data": {
            "text/plain": [
              "Counter({2: 368, 5: 144, 6: 68, 7: 6, 8: 22826, 10: 1164, 11: 14473, 12: 40})"
            ]
          },
          "metadata": {},
          "execution_count": 45
        }
      ]
    },
    {
      "cell_type": "code",
      "source": [
        "print(\n",
        "    classification_report(y_midas_val, midas_preds, target_names=ID2Midas)\n",
        ")"
      ],
      "metadata": {
        "colab": {
          "base_uri": "https://localhost:8080/"
        },
        "outputId": "b554c650-6eb9-4097-ef27-47021245ee92",
        "id": "JRkIzOVIlFTN"
      },
      "execution_count": 46,
      "outputs": [
        {
          "output_type": "stream",
          "name": "stdout",
          "text": [
            "                       precision    recall  f1-score   support\n",
            "\n",
            "         appreciation       0.00      0.00      0.00      1032\n",
            "              command       0.00      0.00      0.00       615\n",
            "              comment       0.30      0.03      0.05      4035\n",
            "            complaint       0.00      0.00      0.00       826\n",
            "          dev_command       0.00      0.00      0.00        54\n",
            "           neg_answer       0.20      0.02      0.04      1204\n",
            "open_question_factual       0.24      0.02      0.04       809\n",
            "open_question_opinion       0.17      0.00      0.00       497\n",
            "              opinion       0.41      0.75      0.53     12549\n",
            "        other_answers       0.00      0.00      0.00       309\n",
            "           pos_answer       0.37      0.09      0.15      4639\n",
            "            statement       0.38      0.51      0.44     10875\n",
            "      yes_no_question       0.30      0.01      0.01      1645\n",
            "\n",
            "             accuracy                           0.40     39089\n",
            "            macro avg       0.18      0.11      0.10     39089\n",
            "         weighted avg       0.34      0.40      0.32     39089\n",
            "\n"
          ]
        },
        {
          "output_type": "stream",
          "name": "stderr",
          "text": [
            "/usr/local/lib/python3.7/dist-packages/sklearn/metrics/_classification.py:1318: UndefinedMetricWarning: Precision and F-score are ill-defined and being set to 0.0 in labels with no predicted samples. Use `zero_division` parameter to control this behavior.\n",
            "  _warn_prf(average, modifier, msg_start, len(result))\n",
            "/usr/local/lib/python3.7/dist-packages/sklearn/metrics/_classification.py:1318: UndefinedMetricWarning: Precision and F-score are ill-defined and being set to 0.0 in labels with no predicted samples. Use `zero_division` parameter to control this behavior.\n",
            "  _warn_prf(average, modifier, msg_start, len(result))\n",
            "/usr/local/lib/python3.7/dist-packages/sklearn/metrics/_classification.py:1318: UndefinedMetricWarning: Precision and F-score are ill-defined and being set to 0.0 in labels with no predicted samples. Use `zero_division` parameter to control this behavior.\n",
            "  _warn_prf(average, modifier, msg_start, len(result))\n"
          ]
        }
      ]
    },
    {
      "cell_type": "markdown",
      "source": [
        "### Entity"
      ],
      "metadata": {
        "id": "2neBFIEBmVsm"
      }
    },
    {
      "cell_type": "code",
      "source": [
        ""
      ],
      "metadata": {
        "id": "gVCZMBw_mOk8"
      },
      "execution_count": null,
      "outputs": []
    },
    {
      "cell_type": "markdown",
      "source": [
        "## Lossguide"
      ],
      "metadata": {
        "id": "U7wzIi4jmnJs"
      }
    },
    {
      "cell_type": "code",
      "source": [
        "midas_clf = CatBoostClassifier(\n",
        "    grow_policy='Lossguide', \n",
        "    loss_function='MultiClass', \n",
        "    eval_metric='Accuracy', \n",
        "    task_type='GPU', **model_params)"
      ],
      "metadata": {
        "id": "hlyUj_dimsdw"
      },
      "execution_count": 47,
      "outputs": []
    },
    {
      "cell_type": "code",
      "source": [
        "midas_clf.fit(\n",
        "    X_midas_train, eval_set=X_midas_val, **fit_params)"
      ],
      "metadata": {
        "colab": {
          "base_uri": "https://localhost:8080/"
        },
        "outputId": "24310c51-06ab-4bcb-ebb3-ed0b50b59bf6",
        "id": "qBF9Fkqsnnv6"
      },
      "execution_count": 48,
      "outputs": [
        {
          "output_type": "stream",
          "name": "stdout",
          "text": [
            "Learning rate set to 0.177599\n",
            "0:\tlearn: 0.3852615\ttest: 0.3836629\tbest: 0.3836629 (0)\ttotal: 726ms\tremaining: 12m 5s\n",
            "1:\tlearn: 0.3873643\ttest: 0.3842769\tbest: 0.3842769 (1)\ttotal: 1.41s\tremaining: 11m 43s\n",
            "2:\tlearn: 0.3898743\ttest: 0.3874747\tbest: 0.3874747 (2)\ttotal: 2.07s\tremaining: 11m 27s\n",
            "3:\tlearn: 0.3902926\ttest: 0.3877817\tbest: 0.3877817 (3)\ttotal: 2.72s\tremaining: 11m 17s\n",
            "4:\tlearn: 0.3912297\ttest: 0.3884469\tbest: 0.3884469 (4)\ttotal: 3.36s\tremaining: 11m 8s\n",
            "5:\tlearn: 0.3923675\ttest: 0.3895981\tbest: 0.3895981 (5)\ttotal: 4.15s\tremaining: 11m 27s\n",
            "6:\tlearn: 0.3933659\ttest: 0.3904423\tbest: 0.3904423 (6)\ttotal: 4.91s\tremaining: 11m 36s\n",
            "7:\tlearn: 0.3942249\ttest: 0.3919517\tbest: 0.3919517 (7)\ttotal: 5.59s\tremaining: 11m 33s\n",
            "8:\tlearn: 0.3945986\ttest: 0.3919005\tbest: 0.3919517 (7)\ttotal: 6.25s\tremaining: 11m 28s\n",
            "9:\tlearn: 0.3951731\ttest: 0.3922587\tbest: 0.3922587 (9)\ttotal: 6.98s\tremaining: 11m 31s\n",
            "10:\tlearn: 0.3958480\ttest: 0.3926168\tbest: 0.3926168 (10)\ttotal: 7.66s\tremaining: 11m 28s\n",
            "11:\tlearn: 0.3964281\ttest: 0.3938448\tbest: 0.3938448 (11)\ttotal: 8.42s\tremaining: 11m 33s\n",
            "12:\tlearn: 0.3970137\ttest: 0.3938192\tbest: 0.3938448 (11)\ttotal: 9.21s\tremaining: 11m 39s\n",
            "13:\tlearn: 0.3975324\ttest: 0.3931797\tbest: 0.3938448 (11)\ttotal: 9.99s\tremaining: 11m 43s\n",
            "14:\tlearn: 0.3979786\ttest: 0.3934355\tbest: 0.3938448 (11)\ttotal: 10.7s\tremaining: 11m 42s\n",
            "15:\tlearn: 0.3984137\ttest: 0.3939983\tbest: 0.3939983 (15)\ttotal: 11.4s\tremaining: 11m 40s\n",
            "16:\tlearn: 0.3988376\ttest: 0.3943309\tbest: 0.3943309 (16)\ttotal: 12.1s\tremaining: 11m 37s\n",
            "17:\tlearn: 0.3994567\ttest: 0.3946635\tbest: 0.3946635 (17)\ttotal: 12.7s\tremaining: 11m 32s\n",
            "18:\tlearn: 0.3999476\ttest: 0.3944844\tbest: 0.3946635 (17)\ttotal: 13.4s\tremaining: 11m 30s\n",
            "19:\tlearn: 0.4004217\ttest: 0.3953030\tbest: 0.3953030 (19)\ttotal: 14s\tremaining: 11m 25s\n",
            "20:\tlearn: 0.4014201\ttest: 0.3950216\tbest: 0.3953030 (19)\ttotal: 14.6s\tremaining: 11m 22s\n",
            "21:\tlearn: 0.4014870\ttest: 0.3954054\tbest: 0.3954054 (21)\ttotal: 15.3s\tremaining: 11m 22s\n",
            "22:\tlearn: 0.4021563\ttest: 0.3954821\tbest: 0.3954821 (22)\ttotal: 16s\tremaining: 11m 19s\n",
            "23:\tlearn: 0.4027755\ttest: 0.3956868\tbest: 0.3956868 (23)\ttotal: 16.7s\tremaining: 11m 19s\n",
            "24:\tlearn: 0.4031324\ttest: 0.3960449\tbest: 0.3960449 (24)\ttotal: 17.4s\tremaining: 11m 18s\n",
            "25:\tlearn: 0.4037571\ttest: 0.3961728\tbest: 0.3961728 (25)\ttotal: 18.1s\tremaining: 11m 17s\n",
            "26:\tlearn: 0.4044488\ttest: 0.3962752\tbest: 0.3962752 (26)\ttotal: 18.8s\tremaining: 11m 17s\n",
            "27:\tlearn: 0.4046440\ttest: 0.3966333\tbest: 0.3966333 (27)\ttotal: 19.4s\tremaining: 11m 14s\n",
            "28:\tlearn: 0.4050623\ttest: 0.3965566\tbest: 0.3966333 (27)\ttotal: 20.1s\tremaining: 11m 13s\n",
            "29:\tlearn: 0.4053412\ttest: 0.3960961\tbest: 0.3966333 (27)\ttotal: 20.8s\tremaining: 11m 12s\n",
            "30:\tlearn: 0.4060384\ttest: 0.3966589\tbest: 0.3966589 (30)\ttotal: 21.4s\tremaining: 11m 9s\n",
            "31:\tlearn: 0.4065069\ttest: 0.3969147\tbest: 0.3969147 (31)\ttotal: 22.2s\tremaining: 11m 11s\n",
            "32:\tlearn: 0.4068137\ttest: 0.3972729\tbest: 0.3972729 (32)\ttotal: 22.8s\tremaining: 11m 8s\n",
            "33:\tlearn: 0.4070647\ttest: 0.3972473\tbest: 0.3972729 (32)\ttotal: 23.6s\tremaining: 11m 9s\n",
            "34:\tlearn: 0.4075053\ttest: 0.3972473\tbest: 0.3972729 (32)\ttotal: 24.2s\tremaining: 11m 7s\n",
            "35:\tlearn: 0.4081244\ttest: 0.3971706\tbest: 0.3972729 (32)\ttotal: 24.9s\tremaining: 11m 7s\n",
            "36:\tlearn: 0.4085484\ttest: 0.3972985\tbest: 0.3972985 (36)\ttotal: 25.6s\tremaining: 11m 6s\n",
            "37:\tlearn: 0.4088161\ttest: 0.3971961\tbest: 0.3972985 (36)\ttotal: 26.3s\tremaining: 11m 4s\n",
            "38:\tlearn: 0.4091396\ttest: 0.3976310\tbest: 0.3976310 (38)\ttotal: 27s\tremaining: 11m 4s\n",
            "39:\tlearn: 0.4092288\ttest: 0.3976822\tbest: 0.3976822 (39)\ttotal: 27.6s\tremaining: 11m 3s\n",
            "40:\tlearn: 0.4094073\ttest: 0.3978613\tbest: 0.3978613 (40)\ttotal: 28.2s\tremaining: 11m\n",
            "41:\tlearn: 0.4097587\ttest: 0.3979892\tbest: 0.3979892 (41)\ttotal: 28.9s\tremaining: 10m 59s\n",
            "42:\tlearn: 0.4102663\ttest: 0.3980148\tbest: 0.3980148 (42)\ttotal: 29.5s\tremaining: 10m 56s\n",
            "43:\tlearn: 0.4107181\ttest: 0.3983474\tbest: 0.3983474 (43)\ttotal: 30.2s\tremaining: 10m 56s\n",
            "44:\tlearn: 0.4110862\ttest: 0.3981171\tbest: 0.3983474 (43)\ttotal: 30.9s\tremaining: 10m 54s\n",
            "45:\tlearn: 0.4111699\ttest: 0.3985009\tbest: 0.3985009 (45)\ttotal: 31.5s\tremaining: 10m 53s\n",
            "46:\tlearn: 0.4111978\ttest: 0.3985520\tbest: 0.3985520 (46)\ttotal: 32.2s\tremaining: 10m 52s\n",
            "47:\tlearn: 0.4115659\ttest: 0.3982450\tbest: 0.3985520 (46)\ttotal: 32.8s\tremaining: 10m 50s\n",
            "48:\tlearn: 0.4121404\ttest: 0.3983729\tbest: 0.3985520 (46)\ttotal: 33.4s\tremaining: 10m 48s\n",
            "49:\tlearn: 0.4127428\ttest: 0.3979380\tbest: 0.3985520 (46)\ttotal: 34.1s\tremaining: 10m 47s\n",
            "50:\tlearn: 0.4131499\ttest: 0.3980404\tbest: 0.3985520 (46)\ttotal: 34.6s\tremaining: 10m 44s\n",
            "51:\tlearn: 0.4136854\ttest: 0.3981427\tbest: 0.3985520 (46)\ttotal: 35.3s\tremaining: 10m 43s\n",
            "bestTest = 0.3985520223\n",
            "bestIteration = 46\n",
            "Shrink model to first 47 iterations.\n"
          ]
        },
        {
          "output_type": "execute_result",
          "data": {
            "text/plain": [
              "<catboost.core.CatBoostClassifier at 0x7f8f958eea90>"
            ]
          },
          "metadata": {},
          "execution_count": 48
        }
      ]
    },
    {
      "cell_type": "code",
      "source": [
        "midas_preds = midas_clf.predict(X_midas_val).squeeze()"
      ],
      "metadata": {
        "id": "QjI4qDkDnnv7"
      },
      "execution_count": 49,
      "outputs": []
    },
    {
      "cell_type": "code",
      "source": [
        "Counter(midas_preds)"
      ],
      "metadata": {
        "colab": {
          "base_uri": "https://localhost:8080/"
        },
        "outputId": "48ba6265-02af-4416-af7d-cfc26efb8dee",
        "id": "hbfNwk1Xnnv7"
      },
      "execution_count": 50,
      "outputs": [
        {
          "output_type": "execute_result",
          "data": {
            "text/plain": [
              "Counter({2: 590, 5: 184, 6: 94, 7: 2, 8: 22746, 10: 1205, 11: 14212, 12: 56})"
            ]
          },
          "metadata": {},
          "execution_count": 50
        }
      ]
    },
    {
      "cell_type": "code",
      "source": [
        "print(\n",
        "    classification_report(y_midas_val, midas_preds, target_names=ID2Midas)\n",
        ")"
      ],
      "metadata": {
        "colab": {
          "base_uri": "https://localhost:8080/"
        },
        "outputId": "4bc31716-b986-4ed8-cd71-063c9f04b10a",
        "id": "Hrh2phTEnnv7"
      },
      "execution_count": 51,
      "outputs": [
        {
          "output_type": "stream",
          "name": "stdout",
          "text": [
            "                       precision    recall  f1-score   support\n",
            "\n",
            "         appreciation       0.00      0.00      0.00      1032\n",
            "              command       0.00      0.00      0.00       615\n",
            "              comment       0.30      0.04      0.08      4035\n",
            "            complaint       0.00      0.00      0.00       826\n",
            "          dev_command       0.00      0.00      0.00        54\n",
            "           neg_answer       0.23      0.04      0.06      1204\n",
            "open_question_factual       0.21      0.02      0.04       809\n",
            "open_question_opinion       0.00      0.00      0.00       497\n",
            "              opinion       0.41      0.75      0.53     12549\n",
            "        other_answers       0.00      0.00      0.00       309\n",
            "           pos_answer       0.36      0.09      0.15      4639\n",
            "            statement       0.39      0.51      0.44     10875\n",
            "      yes_no_question       0.32      0.01      0.02      1645\n",
            "\n",
            "             accuracy                           0.40     39089\n",
            "            macro avg       0.17      0.11      0.10     39089\n",
            "         weighted avg       0.34      0.40      0.32     39089\n",
            "\n"
          ]
        },
        {
          "output_type": "stream",
          "name": "stderr",
          "text": [
            "/usr/local/lib/python3.7/dist-packages/sklearn/metrics/_classification.py:1318: UndefinedMetricWarning: Precision and F-score are ill-defined and being set to 0.0 in labels with no predicted samples. Use `zero_division` parameter to control this behavior.\n",
            "  _warn_prf(average, modifier, msg_start, len(result))\n",
            "/usr/local/lib/python3.7/dist-packages/sklearn/metrics/_classification.py:1318: UndefinedMetricWarning: Precision and F-score are ill-defined and being set to 0.0 in labels with no predicted samples. Use `zero_division` parameter to control this behavior.\n",
            "  _warn_prf(average, modifier, msg_start, len(result))\n",
            "/usr/local/lib/python3.7/dist-packages/sklearn/metrics/_classification.py:1318: UndefinedMetricWarning: Precision and F-score are ill-defined and being set to 0.0 in labels with no predicted samples. Use `zero_division` parameter to control this behavior.\n",
            "  _warn_prf(average, modifier, msg_start, len(result))\n"
          ]
        }
      ]
    },
    {
      "cell_type": "code",
      "source": [
        ""
      ],
      "metadata": {
        "id": "HLHvaV_PnqS6"
      },
      "execution_count": null,
      "outputs": []
    }
  ]
}