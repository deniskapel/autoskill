{
  "nbformat": 4,
  "nbformat_minor": 0,
  "metadata": {
    "colab": {
      "name": "catboost models",
      "provenance": [],
      "collapsed_sections": [
        "vu2meDyA8hCN",
        "U7wzIi4jmnJs"
      ],
      "authorship_tag": "ABX9TyOoTSoQocN2/srMNarSdv0K",
      "include_colab_link": true
    },
    "kernelspec": {
      "name": "python3",
      "display_name": "Python 3"
    },
    "language_info": {
      "name": "python"
    },
    "accelerator": "GPU"
  },
  "cells": [
    {
      "cell_type": "markdown",
      "metadata": {
        "id": "view-in-github",
        "colab_type": "text"
      },
      "source": [
        "<a href=\"https://colab.research.google.com/github/deniskapel/autoskill/blob/main/catboost_models.ipynb\" target=\"_parent\"><img src=\"https://colab.research.google.com/assets/colab-badge.svg\" alt=\"Open In Colab\"/></a>"
      ]
    },
    {
      "cell_type": "code",
      "source": [
        "%%bash\n",
        "pip install catboost\n",
        "pip install ipywidgets\n",
        "jupyter nbextension enable --py widgetsnbextension"
      ],
      "metadata": {
        "id": "yUFBWMHG1XfV"
      },
      "execution_count": null,
      "outputs": []
    },
    {
      "cell_type": "code",
      "source": [
        "%%bash\n",
        "mkdir data\n",
        "wget --load-cookies /tmp/cookies.txt \"https://docs.google.com/uc?export=download&confirm=$(wget --quiet --save-cookies /tmp/cookies.txt --keep-session-cookies --no-check-certificate 'https://docs.google.com/uc?export=download&id=1lQW87pMibsYvweA65Ke3m8DpI_NWkLRi' -O- | sed -rn 's/.*confirm=([0-9A-Za-z_]+).*/\\1\\n/p')&id=1lQW87pMibsYvweA65Ke3m8DpI_NWkLRi\" -O data/vectorized_val.npy && rm -rf /tmp/cookies.txt\n",
        "wget --load-cookies /tmp/cookies.txt \"https://docs.google.com/uc?export=download&confirm=$(wget --quiet --save-cookies /tmp/cookies.txt --keep-session-cookies --no-check-certificate 'https://docs.google.com/uc?export=download&id=1L8EGsbR40LxI6_BMdm_T-SGD-OtugOas' -O- | sed -rn 's/.*confirm=([0-9A-Za-z_]+).*/\\1\\n/p')&id=1L8EGsbR40LxI6_BMdm_T-SGD-OtugOas\" -O data/vectorized_train.npy && rm -rf /tmp/cookies.txt"
      ],
      "metadata": {
        "id": "jXGVCDLY2H_5"
      },
      "execution_count": null,
      "outputs": []
    },
    {
      "cell_type": "code",
      "execution_count": 3,
      "metadata": {
        "id": "T2YOvc9R03Zu"
      },
      "outputs": [],
      "source": [
        "import json\n",
        "import pickle\n",
        "from collections import Counter\n",
        "\n",
        "import numpy as np\n",
        "from catboost import CatBoostClassifier, Pool\n",
        "from sklearn.metrics import f1_score, accuracy_score\n",
        "from joblib import dump, load\n",
        "# models\n",
        "from catboost import CatBoostClassifier, Pool\n",
        "from sklearn.multiclass import OneVsRestClassifier\n",
        "# for multilabel classification\n",
        "# metrics\n",
        "from sklearn.metrics import f1_score, accuracy_score\n",
        "from sklearn.metrics import classification_report\n",
        "from tensorflow.keras.utils import to_categorical"
      ]
    },
    {
      "cell_type": "code",
      "source": [
        "Midas2ID = {\n",
        "    \"appreciation\": 0, \"command\": 1, \"comment\": 2,\"complaint\": 3,\n",
        "    \"dev_command\": 4, \"neg_answer\": 5, \"open_question_factual\": 6,\n",
        "    \"open_question_opinion\": 7, \"opinion\": 8, \"other_answers\": 9,\n",
        "    \"pos_answer\": 10, \"statement\": 11, \"yes_no_question\": 12,\n",
        "}\n",
        "\n",
        "ID2Midas = list(Midas2ID.keys())\n",
        "\n",
        "Entity2ID = {\n",
        "    'person': 0, 'location': 1, 'videoname': 2, 'organization': 3,\n",
        "    'device': 4, 'sport': 5, 'duration': 6, 'number': 7, 'genre': 8,\n",
        "    'sportteam': 9, 'position': 10, 'event': 11, 'softwareapplication': 12,\n",
        "    'vehicle': 13, 'party': 14, 'year': 15, 'date': 16, 'gamename': 17,\n",
        "    'songname': 18, 'bookname': 19}\n",
        "\n",
        "ID2Entity = list(Entity2ID.keys())"
      ],
      "metadata": {
        "id": "X0qoXrVe1Nrw"
      },
      "execution_count": 4,
      "outputs": []
    },
    {
      "cell_type": "code",
      "source": [
        "with open('data/vectorized_train.npy', 'rb') as f:\n",
        "    X_train = np.load(f)\n",
        "    y_midas_train = np.load(f)\n",
        "    y_entity_train = np.load(f)\n",
        "\n",
        "with open('data/vectorized_val.npy', 'rb') as f:\n",
        "    X_val = np.load(f)\n",
        "    y_midas_val = np.load(f)\n",
        "    y_entity_val = np.load(f)"
      ],
      "metadata": {
        "id": "oIGFGkFS1R0A"
      },
      "execution_count": 5,
      "outputs": []
    },
    {
      "cell_type": "code",
      "source": [
        "X_train.shape, y_midas_train.shape, y_entity_train.shape"
      ],
      "metadata": {
        "colab": {
          "base_uri": "https://localhost:8080/"
        },
        "id": "Jzq8fKp3220n",
        "outputId": "98e61882-17b5-4f88-c160-a1559e8fd7aa"
      },
      "execution_count": 6,
      "outputs": [
        {
          "output_type": "execute_result",
          "data": {
            "text/plain": [
              "((179286, 1641), (179286,), (179286, 20))"
            ]
          },
          "metadata": {},
          "execution_count": 6
        }
      ]
    },
    {
      "cell_type": "code",
      "source": [
        "X_val.shape, y_midas_val.shape, y_entity_val.shape"
      ],
      "metadata": {
        "colab": {
          "base_uri": "https://localhost:8080/"
        },
        "id": "UzPxK-Rp25Gl",
        "outputId": "c9921fbe-9ee0-447f-82e0-e450117a0549"
      },
      "execution_count": 7,
      "outputs": [
        {
          "output_type": "execute_result",
          "data": {
            "text/plain": [
              "((39089, 1641), (39089,), (39089, 20))"
            ]
          },
          "metadata": {},
          "execution_count": 7
        }
      ]
    },
    {
      "cell_type": "code",
      "source": [
        "def prediction_by_heuristic(\n",
        "    probas: np.ndarray, top_n:int=1, num_classes=20) -> np.ndarray:\n",
        "    \"\"\" extract top_n predictions from from given probabilities \"\"\"\n",
        "    preds = np.argsort(probas, axis=-1)[:,::-1][:,:top_n]\n",
        "    preds = to_categorical(preds, num_classes=num_classes)\n",
        "    \n",
        "    if top_n > 1:\n",
        "        preds = np.max(preds, axis=1)\n",
        "    \n",
        "    return preds"
      ],
      "metadata": {
        "id": "_UROuYdDt7aI"
      },
      "execution_count": 8,
      "outputs": []
    },
    {
      "cell_type": "markdown",
      "source": [
        "# Catboost"
      ],
      "metadata": {
        "id": "-SB12MBp439n"
      }
    },
    {
      "cell_type": "markdown",
      "source": [
        "## SymmetricTree"
      ],
      "metadata": {
        "id": "fHusna5I7VQ8"
      }
    },
    {
      "cell_type": "markdown",
      "source": [
        "### Midas"
      ],
      "metadata": {
        "id": "XeYFz8vU7Zec"
      }
    },
    {
      "cell_type": "code",
      "source": [
        "X_midas_train = Pool(np.float32(X_train), label=y_midas_train)\n",
        "X_midas_val = Pool(np.float32(X_val), label=y_midas_val)"
      ],
      "metadata": {
        "id": "K0ese8Ky4xmW"
      },
      "execution_count": null,
      "outputs": []
    },
    {
      "cell_type": "code",
      "source": [
        "model_params = {\n",
        "    'verbose': True,\n",
        "    'random_seed': 42,\n",
        "    'use_best_model': True,\n",
        "    'devices':'0:1'\n",
        "}\n",
        "\n",
        "fit_params = {\n",
        "    'use_best_model': True,\n",
        "    'early_stopping_rounds': 5   \n",
        "}"
      ],
      "metadata": {
        "id": "XtTqlwpl5axN"
      },
      "execution_count": 17,
      "outputs": []
    },
    {
      "cell_type": "code",
      "source": [
        "midas_clf = CatBoostClassifier(\n",
        "    grow_policy='SymmetricTree', \n",
        "    loss_function='MultiClass', \n",
        "    eval_metric='Accuracy', \n",
        "    task_type='GPU', **model_params)"
      ],
      "metadata": {
        "id": "tUPNe70r6ym5"
      },
      "execution_count": null,
      "outputs": []
    },
    {
      "cell_type": "code",
      "source": [
        "midas_clf.fit(\n",
        "    X_midas_train, eval_set=X_midas_val, **fit_params)"
      ],
      "metadata": {
        "id": "-12UT7k37OIl"
      },
      "execution_count": null,
      "outputs": []
    },
    {
      "cell_type": "code",
      "source": [
        "midas_preds = midas_clf.predict(X_midas_val).squeeze()"
      ],
      "metadata": {
        "id": "JzjdP58T8298"
      },
      "execution_count": null,
      "outputs": []
    },
    {
      "cell_type": "code",
      "source": [
        "Counter(midas_preds)"
      ],
      "metadata": {
        "colab": {
          "base_uri": "https://localhost:8080/"
        },
        "id": "OhiRWEAP9Gmj",
        "outputId": "baa5944d-5162-469a-cfda-994bcb34b4b3"
      },
      "execution_count": null,
      "outputs": [
        {
          "output_type": "execute_result",
          "data": {
            "text/plain": [
              "Counter({2: 272, 5: 44, 6: 5, 8: 22774, 10: 788, 11: 15205, 12: 1})"
            ]
          },
          "metadata": {},
          "execution_count": 40
        }
      ]
    },
    {
      "cell_type": "code",
      "source": [
        "print(\n",
        "    classification_report(y_midas_val, midas_preds, target_names=ID2Midas)\n",
        ")"
      ],
      "metadata": {
        "colab": {
          "base_uri": "https://localhost:8080/"
        },
        "id": "qurlL7v59XJL",
        "outputId": "4ce0bc93-3016-49d6-9026-7ea670008d10"
      },
      "execution_count": null,
      "outputs": [
        {
          "output_type": "stream",
          "name": "stdout",
          "text": [
            "                       precision    recall  f1-score   support\n",
            "\n",
            "         appreciation       0.00      0.00      0.00      1032\n",
            "              command       0.00      0.00      0.00       615\n",
            "              comment       0.29      0.02      0.04      4035\n",
            "            complaint       0.00      0.00      0.00       826\n",
            "          dev_command       0.00      0.00      0.00        54\n",
            "           neg_answer       0.25      0.01      0.02      1204\n",
            "open_question_factual       0.20      0.00      0.00       809\n",
            "open_question_opinion       0.00      0.00      0.00       497\n",
            "              opinion       0.41      0.75      0.53     12549\n",
            "        other_answers       0.00      0.00      0.00       309\n",
            "           pos_answer       0.41      0.07      0.12      4639\n",
            "            statement       0.37      0.52      0.44     10875\n",
            "      yes_no_question       0.00      0.00      0.00      1645\n",
            "\n",
            "             accuracy                           0.40     39089\n",
            "            macro avg       0.15      0.11      0.09     39089\n",
            "         weighted avg       0.33      0.40      0.31     39089\n",
            "\n"
          ]
        },
        {
          "output_type": "stream",
          "name": "stderr",
          "text": [
            "/usr/local/lib/python3.7/dist-packages/sklearn/metrics/_classification.py:1318: UndefinedMetricWarning: Precision and F-score are ill-defined and being set to 0.0 in labels with no predicted samples. Use `zero_division` parameter to control this behavior.\n",
            "  _warn_prf(average, modifier, msg_start, len(result))\n",
            "/usr/local/lib/python3.7/dist-packages/sklearn/metrics/_classification.py:1318: UndefinedMetricWarning: Precision and F-score are ill-defined and being set to 0.0 in labels with no predicted samples. Use `zero_division` parameter to control this behavior.\n",
            "  _warn_prf(average, modifier, msg_start, len(result))\n",
            "/usr/local/lib/python3.7/dist-packages/sklearn/metrics/_classification.py:1318: UndefinedMetricWarning: Precision and F-score are ill-defined and being set to 0.0 in labels with no predicted samples. Use `zero_division` parameter to control this behavior.\n",
            "  _warn_prf(average, modifier, msg_start, len(result))\n"
          ]
        }
      ]
    },
    {
      "cell_type": "markdown",
      "source": [
        "### Entity"
      ],
      "metadata": {
        "id": "eaNW_BEx7b3T"
      }
    },
    {
      "cell_type": "code",
      "source": [
        "X_entity_train = Pool(np.float32(X_train), label=y_entity_train)\n",
        "X_entity_val = Pool(np.float32(X_val), label=y_entity_val)"
      ],
      "metadata": {
        "id": "AAe4TS9r7cu6"
      },
      "execution_count": 9,
      "outputs": []
    },
    {
      "cell_type": "code",
      "source": [
        "entity_clf = CatBoostClassifier(\n",
        "    grow_policy='SymmetricTree', \n",
        "    loss_function='MultiLogloss', \n",
        "    eval_metric='Accuracy',\n",
        "    **model_params, task_type='GPU')"
      ],
      "metadata": {
        "id": "eAab8BNViMEb"
      },
      "execution_count": null,
      "outputs": []
    },
    {
      "cell_type": "code",
      "source": [
        "entity_clf.fit(X_entity_train, eval_set=X_entity_val, **fit_params)"
      ],
      "metadata": {
        "colab": {
          "base_uri": "https://localhost:8080/"
        },
        "id": "f7RWeQTji_94",
        "outputId": "2a2881c4-6290-4891-eb3f-608d2ba962c3"
      },
      "execution_count": null,
      "outputs": [
        {
          "output_type": "stream",
          "name": "stdout",
          "text": [
            "Learning rate set to 0.114166\n",
            "0:\tlearn: 0.8449516\ttest: 0.8457622\tbest: 0.8457622 (0)\ttotal: 1m 15s\tremaining: 20h 51m 31s\n",
            "1:\tlearn: 0.8449516\ttest: 0.8457622\tbest: 0.8457622 (0)\ttotal: 2m 25s\tremaining: 20h 8m 6s\n",
            "2:\tlearn: 0.8449516\ttest: 0.8457622\tbest: 0.8457622 (0)\ttotal: 3m 33s\tremaining: 19h 43m 6s\n",
            "3:\tlearn: 0.8449516\ttest: 0.8457622\tbest: 0.8457622 (0)\ttotal: 4m 46s\tremaining: 19h 47m 53s\n",
            "4:\tlearn: 0.8449516\ttest: 0.8457622\tbest: 0.8457622 (0)\ttotal: 5m 52s\tremaining: 19h 28m 51s\n",
            "5:\tlearn: 0.8449516\ttest: 0.8457622\tbest: 0.8457622 (0)\ttotal: 7m 3s\tremaining: 19h 28m 40s\n",
            "Stopped by overfitting detector  (5 iterations wait)\n",
            "\n",
            "bestTest = 0.8457622349\n",
            "bestIteration = 0\n",
            "\n",
            "Shrink model to first 1 iterations.\n"
          ]
        },
        {
          "output_type": "execute_result",
          "data": {
            "text/plain": [
              "<catboost.core.CatBoostClassifier at 0x7f8f95825a90>"
            ]
          },
          "metadata": {},
          "execution_count": 68
        }
      ]
    },
    {
      "cell_type": "code",
      "source": [
        "entity_preds = entity_clf.predict(X_entity_val).squeeze()\n",
        "entity_probas = entity_clf.predict_proba(X_entity_val)"
      ],
      "metadata": {
        "id": "VaGqUt3wjQsI"
      },
      "execution_count": null,
      "outputs": []
    },
    {
      "cell_type": "code",
      "source": [
        "print(\n",
        "    classification_report(y_entity_val, entity_preds, target_names=ID2Entity)\n",
        ")"
      ],
      "metadata": {
        "colab": {
          "base_uri": "https://localhost:8080/"
        },
        "id": "P12ZxNZltDvq",
        "outputId": "aa264475-d3f7-45e1-872d-1ac907bb6bc2"
      },
      "execution_count": null,
      "outputs": [
        {
          "output_type": "stream",
          "name": "stdout",
          "text": [
            "                     precision    recall  f1-score   support\n",
            "\n",
            "             person       0.00      0.00      0.00      1336\n",
            "           location       0.00      0.00      0.00      1007\n",
            "          videoname       0.00      0.00      0.00       797\n",
            "       organization       0.00      0.00      0.00       690\n",
            "             device       0.00      0.00      0.00       486\n",
            "              sport       0.00      0.00      0.00       376\n",
            "           duration       0.00      0.00      0.00       455\n",
            "             number       0.00      0.00      0.00       455\n",
            "              genre       0.00      0.00      0.00       339\n",
            "          sportteam       0.00      0.00      0.00       199\n",
            "           position       0.00      0.00      0.00       158\n",
            "              event       0.00      0.00      0.00       159\n",
            "softwareapplication       0.00      0.00      0.00       198\n",
            "            vehicle       0.00      0.00      0.00       116\n",
            "              party       0.00      0.00      0.00        34\n",
            "               year       0.00      0.00      0.00        75\n",
            "               date       0.00      0.00      0.00        83\n",
            "           gamename       0.00      0.00      0.00        33\n",
            "           songname       0.00      0.00      0.00         7\n",
            "           bookname       0.00      0.00      0.00         1\n",
            "\n",
            "          micro avg       0.00      0.00      0.00      7004\n",
            "          macro avg       0.00      0.00      0.00      7004\n",
            "       weighted avg       0.00      0.00      0.00      7004\n",
            "        samples avg       0.00      0.00      0.00      7004\n",
            "\n"
          ]
        },
        {
          "output_type": "stream",
          "name": "stderr",
          "text": [
            "/usr/local/lib/python3.7/dist-packages/sklearn/metrics/_classification.py:1318: UndefinedMetricWarning: Precision and F-score are ill-defined and being set to 0.0 in labels with no predicted samples. Use `zero_division` parameter to control this behavior.\n",
            "  _warn_prf(average, modifier, msg_start, len(result))\n",
            "/usr/local/lib/python3.7/dist-packages/sklearn/metrics/_classification.py:1318: UndefinedMetricWarning: Precision and F-score are ill-defined and being set to 0.0 due to no predicted samples. Use `zero_division` parameter to control this behavior.\n",
            "  _warn_prf(average, modifier, msg_start, len(result))\n",
            "/usr/local/lib/python3.7/dist-packages/sklearn/metrics/_classification.py:1318: UndefinedMetricWarning: Precision and F-score are ill-defined and being set to 0.0 in samples with no predicted labels. Use `zero_division` parameter to control this behavior.\n",
            "  _warn_prf(average, modifier, msg_start, len(result))\n",
            "/usr/local/lib/python3.7/dist-packages/sklearn/metrics/_classification.py:1318: UndefinedMetricWarning: Recall and F-score are ill-defined and being set to 0.0 in samples with no true labels. Use `zero_division` parameter to control this behavior.\n",
            "  _warn_prf(average, modifier, msg_start, len(result))\n"
          ]
        }
      ]
    },
    {
      "cell_type": "code",
      "source": [
        "print(\n",
        "    classification_report(\n",
        "        y_entity_val, \n",
        "        prediction_by_heuristic(entity_probas, top_n=1),\n",
        "        target_names=ID2Entity)\n",
        ")"
      ],
      "metadata": {
        "colab": {
          "base_uri": "https://localhost:8080/"
        },
        "id": "zhWov7KUt28x",
        "outputId": "99051818-26e6-4eab-d4c7-3b200310348a"
      },
      "execution_count": null,
      "outputs": [
        {
          "output_type": "stream",
          "name": "stdout",
          "text": [
            "                     precision    recall  f1-score   support\n",
            "\n",
            "             person       0.03      0.93      0.07      1336\n",
            "           location       0.02      0.07      0.03      1007\n",
            "          videoname       0.03      0.01      0.02       797\n",
            "       organization       0.05      0.02      0.03       690\n",
            "             device       0.00      0.00      0.00       486\n",
            "              sport       0.00      0.00      0.00       376\n",
            "           duration       0.00      0.00      0.00       455\n",
            "             number       0.00      0.00      0.00       455\n",
            "              genre       0.00      0.00      0.00       339\n",
            "          sportteam       0.00      0.00      0.00       199\n",
            "           position       0.00      0.00      0.00       158\n",
            "              event       0.00      0.00      0.00       159\n",
            "softwareapplication       0.00      0.00      0.00       198\n",
            "            vehicle       0.00      0.00      0.00       116\n",
            "              party       0.00      0.00      0.00        34\n",
            "               year       0.00      0.00      0.00        75\n",
            "               date       0.00      0.00      0.00        83\n",
            "           gamename       0.00      0.00      0.00        33\n",
            "           songname       0.00      0.00      0.00         7\n",
            "           bookname       0.00      0.00      0.00         1\n",
            "\n",
            "          micro avg       0.03      0.19      0.06      7004\n",
            "          macro avg       0.01      0.05      0.01      7004\n",
            "       weighted avg       0.02      0.19      0.02      7004\n",
            "        samples avg       0.03      0.03      0.03      7004\n",
            "\n"
          ]
        },
        {
          "output_type": "stream",
          "name": "stderr",
          "text": [
            "/usr/local/lib/python3.7/dist-packages/sklearn/metrics/_classification.py:1318: UndefinedMetricWarning: Precision and F-score are ill-defined and being set to 0.0 in labels with no predicted samples. Use `zero_division` parameter to control this behavior.\n",
            "  _warn_prf(average, modifier, msg_start, len(result))\n",
            "/usr/local/lib/python3.7/dist-packages/sklearn/metrics/_classification.py:1318: UndefinedMetricWarning: Recall and F-score are ill-defined and being set to 0.0 in samples with no true labels. Use `zero_division` parameter to control this behavior.\n",
            "  _warn_prf(average, modifier, msg_start, len(result))\n"
          ]
        }
      ]
    },
    {
      "cell_type": "code",
      "source": [
        "print(\n",
        "    classification_report(\n",
        "        y_entity_val, \n",
        "        prediction_by_heuristic(entity_probas, top_n=3),\n",
        "        target_names=ID2Entity)\n",
        ")"
      ],
      "metadata": {
        "colab": {
          "base_uri": "https://localhost:8080/"
        },
        "id": "heQqNHdqwIDP",
        "outputId": "f3529f60-5798-4b35-821f-1120a870466f"
      },
      "execution_count": null,
      "outputs": [
        {
          "output_type": "stream",
          "name": "stdout",
          "text": [
            "                     precision    recall  f1-score   support\n",
            "\n",
            "             person       0.03      0.99      0.07      1336\n",
            "           location       0.03      0.95      0.05      1007\n",
            "          videoname       0.03      0.65      0.05       797\n",
            "       organization       0.02      0.52      0.04       690\n",
            "             device       0.02      0.06      0.02       486\n",
            "              sport       0.02      0.01      0.01       376\n",
            "           duration       0.02      0.04      0.02       455\n",
            "             number       0.02      0.03      0.02       455\n",
            "              genre       0.00      0.00      0.00       339\n",
            "          sportteam       0.00      0.00      0.00       199\n",
            "           position       0.00      0.00      0.00       158\n",
            "              event       0.00      0.00      0.00       159\n",
            "softwareapplication       0.01      0.02      0.01       198\n",
            "            vehicle       0.00      0.00      0.00       116\n",
            "              party       0.00      0.00      0.00        34\n",
            "               year       0.00      0.00      0.00        75\n",
            "               date       0.00      0.00      0.00        83\n",
            "           gamename       0.00      0.00      0.00        33\n",
            "           songname       0.00      0.00      0.00         7\n",
            "           bookname       0.00      0.00      0.00         1\n",
            "\n",
            "          micro avg       0.03      0.46      0.05      7004\n",
            "          macro avg       0.01      0.16      0.02      7004\n",
            "       weighted avg       0.02      0.46      0.04      7004\n",
            "        samples avg       0.03      0.07      0.04      7004\n",
            "\n"
          ]
        },
        {
          "output_type": "stream",
          "name": "stderr",
          "text": [
            "/usr/local/lib/python3.7/dist-packages/sklearn/metrics/_classification.py:1318: UndefinedMetricWarning: Precision and F-score are ill-defined and being set to 0.0 in labels with no predicted samples. Use `zero_division` parameter to control this behavior.\n",
            "  _warn_prf(average, modifier, msg_start, len(result))\n",
            "/usr/local/lib/python3.7/dist-packages/sklearn/metrics/_classification.py:1318: UndefinedMetricWarning: Recall and F-score are ill-defined and being set to 0.0 in samples with no true labels. Use `zero_division` parameter to control this behavior.\n",
            "  _warn_prf(average, modifier, msg_start, len(result))\n"
          ]
        }
      ]
    },
    {
      "cell_type": "code",
      "source": [
        "for_ovr = {\n",
        "    'verbose': True,\n",
        "    'random_seed': 42,\n",
        "    'use_best_model': False,\n",
        "    'devices':'0:1',\n",
        "    }\n",
        "\n",
        "ovr_clf = OneVsRestClassifier(\n",
        "    estimator=CatBoostClassifier(\n",
        "        grow_policy='SymmetricTree', loss_function='MultiClass', \n",
        "        eval_metric='TotalF1', task_type='GPU', **for_ovr)\n",
        ")"
      ],
      "metadata": {
        "id": "muYRbU_2qD5c"
      },
      "execution_count": null,
      "outputs": []
    },
    {
      "cell_type": "code",
      "source": [
        "ovr_clf.fit(X_train, y_entity_train)"
      ],
      "metadata": {
        "id": "fSHEcI-LqRUl"
      },
      "execution_count": null,
      "outputs": []
    },
    {
      "cell_type": "code",
      "source": [
        "entity_preds = ovr_clf.predict(X_entity_val).squeeze()\n",
        "entity_probas = ovr_clf.predict_proba(X_entity_val)"
      ],
      "metadata": {
        "id": "Ci5ZTIUACV-e"
      },
      "execution_count": null,
      "outputs": []
    },
    {
      "cell_type": "code",
      "source": [
        "print(\n",
        "    classification_report(y_entity_val, entity_preds, target_names=ID2Entity)\n",
        ")"
      ],
      "metadata": {
        "colab": {
          "base_uri": "https://localhost:8080/"
        },
        "outputId": "2c7d1dc1-312a-4d5d-b8b2-773fda4b93f1",
        "id": "-bOo-37UCV-f"
      },
      "execution_count": null,
      "outputs": [
        {
          "output_type": "stream",
          "name": "stdout",
          "text": [
            "                     precision    recall  f1-score   support\n",
            "\n",
            "             person       0.50      0.01      0.03      1336\n",
            "           location       0.91      0.03      0.06      1007\n",
            "          videoname       0.50      0.01      0.02       797\n",
            "       organization       0.33      0.00      0.01       690\n",
            "             device       0.55      0.02      0.05       486\n",
            "              sport       0.71      0.01      0.03       376\n",
            "           duration       0.77      0.09      0.17       455\n",
            "             number       0.68      0.05      0.09       455\n",
            "              genre       0.40      0.01      0.02       339\n",
            "          sportteam       0.56      0.05      0.09       199\n",
            "           position       0.00      0.00      0.00       158\n",
            "              event       1.00      0.01      0.02       159\n",
            "softwareapplication       0.00      0.00      0.00       198\n",
            "            vehicle       0.75      0.08      0.14       116\n",
            "              party       0.00      0.00      0.00        34\n",
            "               year       0.00      0.00      0.00        75\n",
            "               date       1.00      0.11      0.20        83\n",
            "           gamename       1.00      0.03      0.06        33\n",
            "           songname       0.00      0.00      0.00         7\n",
            "           bookname       0.00      0.00      0.00         1\n",
            "\n",
            "          micro avg       0.67      0.02      0.05      7004\n",
            "          macro avg       0.48      0.03      0.05      7004\n",
            "       weighted avg       0.57      0.02      0.05      7004\n",
            "        samples avg       0.00      0.00      0.00      7004\n",
            "\n"
          ]
        },
        {
          "output_type": "stream",
          "name": "stderr",
          "text": [
            "/usr/local/lib/python3.7/dist-packages/sklearn/metrics/_classification.py:1318: UndefinedMetricWarning: Precision and F-score are ill-defined and being set to 0.0 in labels with no predicted samples. Use `zero_division` parameter to control this behavior.\n",
            "  _warn_prf(average, modifier, msg_start, len(result))\n",
            "/usr/local/lib/python3.7/dist-packages/sklearn/metrics/_classification.py:1318: UndefinedMetricWarning: Precision and F-score are ill-defined and being set to 0.0 in samples with no predicted labels. Use `zero_division` parameter to control this behavior.\n",
            "  _warn_prf(average, modifier, msg_start, len(result))\n",
            "/usr/local/lib/python3.7/dist-packages/sklearn/metrics/_classification.py:1318: UndefinedMetricWarning: Recall and F-score are ill-defined and being set to 0.0 in samples with no true labels. Use `zero_division` parameter to control this behavior.\n",
            "  _warn_prf(average, modifier, msg_start, len(result))\n"
          ]
        }
      ]
    },
    {
      "cell_type": "code",
      "source": [
        "print(\n",
        "    classification_report(\n",
        "        y_entity_val, \n",
        "        prediction_by_heuristic(entity_probas, top_n=1),\n",
        "        target_names=ID2Entity)\n",
        ")"
      ],
      "metadata": {
        "colab": {
          "base_uri": "https://localhost:8080/"
        },
        "outputId": "5c6eda2d-a180-4665-f0dc-4d797e8b705e",
        "id": "4z13xVJUCV-f"
      },
      "execution_count": null,
      "outputs": [
        {
          "output_type": "stream",
          "name": "stdout",
          "text": [
            "                     precision    recall  f1-score   support\n",
            "\n",
            "             person       0.07      0.61      0.13      1336\n",
            "           location       0.06      0.52      0.11      1007\n",
            "          videoname       0.08      0.38      0.14       797\n",
            "       organization       0.07      0.36      0.12       690\n",
            "             device       0.09      0.48      0.15       486\n",
            "              sport       0.11      0.43      0.17       376\n",
            "           duration       0.06      0.39      0.11       455\n",
            "             number       0.07      0.31      0.12       455\n",
            "              genre       0.13      0.34      0.19       339\n",
            "          sportteam       0.14      0.36      0.21       199\n",
            "           position       0.08      0.13      0.10       158\n",
            "              event       0.13      0.13      0.13       159\n",
            "softwareapplication       0.07      0.16      0.10       198\n",
            "            vehicle       0.10      0.36      0.16       116\n",
            "              party       0.18      0.18      0.18        34\n",
            "               year       0.12      0.04      0.06        75\n",
            "               date       0.15      0.25      0.19        83\n",
            "           gamename       0.10      0.03      0.05        33\n",
            "           songname       0.00      0.00      0.00         7\n",
            "           bookname       0.00      0.00      0.00         1\n",
            "\n",
            "          micro avg       0.07      0.42      0.13      7004\n",
            "          macro avg       0.09      0.27      0.12      7004\n",
            "       weighted avg       0.08      0.42      0.13      7004\n",
            "        samples avg       0.07      0.07      0.07      7004\n",
            "\n"
          ]
        },
        {
          "output_type": "stream",
          "name": "stderr",
          "text": [
            "/usr/local/lib/python3.7/dist-packages/sklearn/metrics/_classification.py:1318: UndefinedMetricWarning: Precision and F-score are ill-defined and being set to 0.0 in labels with no predicted samples. Use `zero_division` parameter to control this behavior.\n",
            "  _warn_prf(average, modifier, msg_start, len(result))\n",
            "/usr/local/lib/python3.7/dist-packages/sklearn/metrics/_classification.py:1318: UndefinedMetricWarning: Recall and F-score are ill-defined and being set to 0.0 in samples with no true labels. Use `zero_division` parameter to control this behavior.\n",
            "  _warn_prf(average, modifier, msg_start, len(result))\n"
          ]
        }
      ]
    },
    {
      "cell_type": "code",
      "source": [
        "print(\n",
        "    classification_report(\n",
        "        y_entity_val, \n",
        "        prediction_by_heuristic(entity_probas, top_n=3),\n",
        "        target_names=ID2Entity)\n",
        ")"
      ],
      "metadata": {
        "colab": {
          "base_uri": "https://localhost:8080/"
        },
        "outputId": "4e3b103b-a841-4487-dd80-72ce585d4d2d",
        "id": "IO40-7ikCV-f"
      },
      "execution_count": null,
      "outputs": [
        {
          "output_type": "stream",
          "name": "stderr",
          "text": [
            "/usr/local/lib/python3.7/dist-packages/sklearn/metrics/_classification.py:1318: UndefinedMetricWarning: Precision and F-score are ill-defined and being set to 0.0 in labels with no predicted samples. Use `zero_division` parameter to control this behavior.\n",
            "  _warn_prf(average, modifier, msg_start, len(result))\n"
          ]
        },
        {
          "output_type": "stream",
          "name": "stdout",
          "text": [
            "                     precision    recall  f1-score   support\n",
            "\n",
            "             person       0.05      0.93      0.09      1336\n",
            "           location       0.04      0.85      0.07      1007\n",
            "          videoname       0.04      0.75      0.08       797\n",
            "       organization       0.04      0.69      0.07       690\n",
            "             device       0.05      0.65      0.09       486\n",
            "              sport       0.07      0.68      0.13       376\n",
            "           duration       0.03      0.62      0.06       455\n",
            "             number       0.03      0.55      0.06       455\n",
            "              genre       0.06      0.64      0.11       339\n",
            "          sportteam       0.08      0.64      0.14       199\n",
            "           position       0.05      0.51      0.09       158\n",
            "              event       0.06      0.37      0.11       159\n",
            "softwareapplication       0.06      0.41      0.10       198\n",
            "            vehicle       0.06      0.59      0.11       116\n",
            "              party       0.08      0.41      0.14        34\n",
            "               year       0.02      0.05      0.03        75\n",
            "               date       0.07      0.37      0.12        83\n",
            "           gamename       0.06      0.09      0.07        33\n",
            "           songname       0.00      0.00      0.00         7\n",
            "           bookname       0.00      0.00      0.00         1\n",
            "\n",
            "          micro avg       0.04      0.71      0.08      7004\n",
            "          macro avg       0.05      0.49      0.08      7004\n",
            "       weighted avg       0.05      0.71      0.08      7004\n",
            "        samples avg       0.04      0.11      0.06      7004\n",
            "\n"
          ]
        },
        {
          "output_type": "stream",
          "name": "stderr",
          "text": [
            "/usr/local/lib/python3.7/dist-packages/sklearn/metrics/_classification.py:1318: UndefinedMetricWarning: Recall and F-score are ill-defined and being set to 0.0 in samples with no true labels. Use `zero_division` parameter to control this behavior.\n",
            "  _warn_prf(average, modifier, msg_start, len(result))\n"
          ]
        }
      ]
    },
    {
      "cell_type": "markdown",
      "source": [
        "## Depthwise"
      ],
      "metadata": {
        "id": "1VaMX4648a9U"
      }
    },
    {
      "cell_type": "markdown",
      "source": [
        "### Midas"
      ],
      "metadata": {
        "id": "vu2meDyA8hCN"
      }
    },
    {
      "cell_type": "code",
      "source": [
        "midas_clf = CatBoostClassifier(\n",
        "    grow_policy='Depthwise', \n",
        "    loss_function='MultiClass', \n",
        "    eval_metric='Accuracy', \n",
        "    task_type='GPU', **model_params)"
      ],
      "metadata": {
        "id": "aDk5M_jHlFTL"
      },
      "execution_count": null,
      "outputs": []
    },
    {
      "cell_type": "code",
      "source": [
        "midas_clf.fit(\n",
        "    X_midas_train, eval_set=X_midas_val, **fit_params)"
      ],
      "metadata": {
        "colab": {
          "base_uri": "https://localhost:8080/"
        },
        "outputId": "a249ce3a-89ea-41fb-8453-7e85d89b1f20",
        "id": "dsWgIsALlFTM"
      },
      "execution_count": null,
      "outputs": [
        {
          "output_type": "stream",
          "name": "stdout",
          "text": [
            "Learning rate set to 0.177599\n",
            "0:\tlearn: 0.3875707\ttest: 0.3844560\tbest: 0.3844560 (0)\ttotal: 780ms\tremaining: 12m 59s\n",
            "1:\tlearn: 0.3894504\ttest: 0.3862724\tbest: 0.3862724 (1)\ttotal: 1.52s\tremaining: 12m 39s\n",
            "2:\tlearn: 0.3907500\ttest: 0.3876538\tbest: 0.3876538 (2)\ttotal: 2.24s\tremaining: 12m 25s\n",
            "3:\tlearn: 0.3916145\ttest: 0.3888050\tbest: 0.3888050 (3)\ttotal: 2.94s\tremaining: 12m 10s\n",
            "4:\tlearn: 0.3928528\ttest: 0.3887283\tbest: 0.3888050 (3)\ttotal: 3.64s\tremaining: 12m 5s\n",
            "5:\tlearn: 0.3945093\ttest: 0.3898539\tbest: 0.3898539 (5)\ttotal: 4.48s\tremaining: 12m 22s\n",
            "6:\tlearn: 0.3957810\ttest: 0.3911842\tbest: 0.3911842 (6)\ttotal: 5.2s\tremaining: 12m 17s\n",
            "7:\tlearn: 0.3967348\ttest: 0.3920796\tbest: 0.3920796 (7)\ttotal: 5.95s\tremaining: 12m 17s\n",
            "8:\tlearn: 0.3976384\ttest: 0.3920540\tbest: 0.3920796 (7)\ttotal: 6.63s\tremaining: 12m 9s\n",
            "9:\tlearn: 0.3992615\ttest: 0.3924889\tbest: 0.3924889 (9)\ttotal: 7.42s\tremaining: 12m 14s\n",
            "10:\tlearn: 0.3999978\ttest: 0.3933332\tbest: 0.3933332 (10)\ttotal: 8.17s\tremaining: 12m 14s\n",
            "11:\tlearn: 0.4012751\ttest: 0.3934099\tbest: 0.3934099 (11)\ttotal: 8.91s\tremaining: 12m 14s\n",
            "12:\tlearn: 0.4021619\ttest: 0.3937681\tbest: 0.3937681 (12)\ttotal: 9.74s\tremaining: 12m 19s\n",
            "13:\tlearn: 0.4028033\ttest: 0.3945867\tbest: 0.3945867 (13)\ttotal: 10.6s\tremaining: 12m 24s\n",
            "14:\tlearn: 0.4035898\ttest: 0.3944844\tbest: 0.3945867 (13)\ttotal: 11.3s\tremaining: 12m 19s\n",
            "15:\tlearn: 0.4040527\ttest: 0.3945355\tbest: 0.3945867 (13)\ttotal: 12s\tremaining: 12m 19s\n",
            "16:\tlearn: 0.4048559\ttest: 0.3952519\tbest: 0.3952519 (16)\ttotal: 12.8s\tremaining: 12m 21s\n",
            "17:\tlearn: 0.4056145\ttest: 0.3949193\tbest: 0.3952519 (16)\ttotal: 13.5s\tremaining: 12m 16s\n",
            "18:\tlearn: 0.4063954\ttest: 0.3959170\tbest: 0.3959170 (18)\ttotal: 14.2s\tremaining: 12m 14s\n",
            "19:\tlearn: 0.4068918\ttest: 0.3957891\tbest: 0.3959170 (18)\ttotal: 14.9s\tremaining: 12m 12s\n",
            "20:\tlearn: 0.4077284\ttest: 0.3959938\tbest: 0.3959938 (20)\ttotal: 15.7s\tremaining: 12m 10s\n",
            "21:\tlearn: 0.4083197\ttest: 0.3966845\tbest: 0.3966845 (21)\ttotal: 16.4s\tremaining: 12m 10s\n",
            "22:\tlearn: 0.4087715\ttest: 0.3967868\tbest: 0.3967868 (22)\ttotal: 17.2s\tremaining: 12m 12s\n",
            "23:\tlearn: 0.4091954\ttest: 0.3964287\tbest: 0.3967868 (22)\ttotal: 17.9s\tremaining: 12m 8s\n",
            "24:\tlearn: 0.4096806\ttest: 0.3965822\tbest: 0.3967868 (22)\ttotal: 18.7s\tremaining: 12m 8s\n",
            "25:\tlearn: 0.4102886\ttest: 0.3967357\tbest: 0.3967868 (22)\ttotal: 19.5s\tremaining: 12m 10s\n",
            "26:\tlearn: 0.4109523\ttest: 0.3969403\tbest: 0.3969403 (26)\ttotal: 20.2s\tremaining: 12m 9s\n",
            "27:\tlearn: 0.4117555\ttest: 0.3972985\tbest: 0.3972985 (27)\ttotal: 20.9s\tremaining: 12m 6s\n",
            "28:\tlearn: 0.4126368\ttest: 0.3972217\tbest: 0.3972985 (27)\ttotal: 21.7s\tremaining: 12m 5s\n",
            "29:\tlearn: 0.4134288\ttest: 0.3966333\tbest: 0.3972985 (27)\ttotal: 22.4s\tremaining: 12m 5s\n",
            "30:\tlearn: 0.4141874\ttest: 0.3966845\tbest: 0.3972985 (27)\ttotal: 23.2s\tremaining: 12m 3s\n",
            "31:\tlearn: 0.4149181\ttest: 0.3963519\tbest: 0.3972985 (27)\ttotal: 23.9s\tremaining: 12m 1s\n",
            "32:\tlearn: 0.4156766\ttest: 0.3969403\tbest: 0.3972985 (27)\ttotal: 24.6s\tremaining: 12m\n",
            "bestTest = 0.3972984727\n",
            "bestIteration = 27\n",
            "Shrink model to first 28 iterations.\n"
          ]
        },
        {
          "output_type": "execute_result",
          "data": {
            "text/plain": [
              "<catboost.core.CatBoostClassifier at 0x7f8f958c6890>"
            ]
          },
          "metadata": {},
          "execution_count": 43
        }
      ]
    },
    {
      "cell_type": "code",
      "source": [
        "midas_preds = midas_clf.predict(X_midas_val).squeeze()"
      ],
      "metadata": {
        "id": "L9nNPfzNlFTM"
      },
      "execution_count": null,
      "outputs": []
    },
    {
      "cell_type": "code",
      "source": [
        "Counter(midas_preds)"
      ],
      "metadata": {
        "colab": {
          "base_uri": "https://localhost:8080/"
        },
        "outputId": "494463f0-b36a-4447-d116-dcb9f6a39ebc",
        "id": "FCBComhdlFTM"
      },
      "execution_count": null,
      "outputs": [
        {
          "output_type": "execute_result",
          "data": {
            "text/plain": [
              "Counter({2: 368, 5: 144, 6: 68, 7: 6, 8: 22826, 10: 1164, 11: 14473, 12: 40})"
            ]
          },
          "metadata": {},
          "execution_count": 45
        }
      ]
    },
    {
      "cell_type": "code",
      "source": [
        "print(\n",
        "    classification_report(y_midas_val, midas_preds, target_names=ID2Midas)\n",
        ")"
      ],
      "metadata": {
        "colab": {
          "base_uri": "https://localhost:8080/"
        },
        "outputId": "b554c650-6eb9-4097-ef27-47021245ee92",
        "id": "JRkIzOVIlFTN"
      },
      "execution_count": null,
      "outputs": [
        {
          "output_type": "stream",
          "name": "stdout",
          "text": [
            "                       precision    recall  f1-score   support\n",
            "\n",
            "         appreciation       0.00      0.00      0.00      1032\n",
            "              command       0.00      0.00      0.00       615\n",
            "              comment       0.30      0.03      0.05      4035\n",
            "            complaint       0.00      0.00      0.00       826\n",
            "          dev_command       0.00      0.00      0.00        54\n",
            "           neg_answer       0.20      0.02      0.04      1204\n",
            "open_question_factual       0.24      0.02      0.04       809\n",
            "open_question_opinion       0.17      0.00      0.00       497\n",
            "              opinion       0.41      0.75      0.53     12549\n",
            "        other_answers       0.00      0.00      0.00       309\n",
            "           pos_answer       0.37      0.09      0.15      4639\n",
            "            statement       0.38      0.51      0.44     10875\n",
            "      yes_no_question       0.30      0.01      0.01      1645\n",
            "\n",
            "             accuracy                           0.40     39089\n",
            "            macro avg       0.18      0.11      0.10     39089\n",
            "         weighted avg       0.34      0.40      0.32     39089\n",
            "\n"
          ]
        },
        {
          "output_type": "stream",
          "name": "stderr",
          "text": [
            "/usr/local/lib/python3.7/dist-packages/sklearn/metrics/_classification.py:1318: UndefinedMetricWarning: Precision and F-score are ill-defined and being set to 0.0 in labels with no predicted samples. Use `zero_division` parameter to control this behavior.\n",
            "  _warn_prf(average, modifier, msg_start, len(result))\n",
            "/usr/local/lib/python3.7/dist-packages/sklearn/metrics/_classification.py:1318: UndefinedMetricWarning: Precision and F-score are ill-defined and being set to 0.0 in labels with no predicted samples. Use `zero_division` parameter to control this behavior.\n",
            "  _warn_prf(average, modifier, msg_start, len(result))\n",
            "/usr/local/lib/python3.7/dist-packages/sklearn/metrics/_classification.py:1318: UndefinedMetricWarning: Precision and F-score are ill-defined and being set to 0.0 in labels with no predicted samples. Use `zero_division` parameter to control this behavior.\n",
            "  _warn_prf(average, modifier, msg_start, len(result))\n"
          ]
        }
      ]
    },
    {
      "cell_type": "markdown",
      "source": [
        "### Entity"
      ],
      "metadata": {
        "id": "2neBFIEBmVsm"
      }
    },
    {
      "cell_type": "code",
      "source": [
        "entity_clf = CatBoostClassifier(\n",
        "    grow_policy='Depthwise', \n",
        "    loss_function='MultiLogloss', \n",
        "    eval_metric='Accuracy',\n",
        "    **model_params, task_type='CPU')"
      ],
      "metadata": {
        "id": "TG5grXkbGghO"
      },
      "execution_count": null,
      "outputs": []
    },
    {
      "cell_type": "code",
      "source": [
        "entity_clf.fit(X_entity_train, eval_set=X_entity_val, **fit_params)"
      ],
      "metadata": {
        "colab": {
          "base_uri": "https://localhost:8080/"
        },
        "outputId": "16088c84-0884-4158-fbe7-5a0ecfa19fdc",
        "id": "hv4GaPdOGghO"
      },
      "execution_count": null,
      "outputs": [
        {
          "output_type": "stream",
          "name": "stderr",
          "text": [
            "Custom logger is already specified. Specify more than one logger at same time is not thread safe."
          ]
        },
        {
          "output_type": "stream",
          "name": "stdout",
          "text": [
            "Learning rate set to 0.114166\n",
            "0:\tlearn: 0.8449516\ttest: 0.8457622\tbest: 0.8457622 (0)\ttotal: 10.6s\tremaining: 2h 57m 3s\n",
            "1:\tlearn: 0.8449516\ttest: 0.8457622\tbest: 0.8457622 (0)\ttotal: 21.6s\tremaining: 2h 59m 25s\n",
            "2:\tlearn: 0.8449516\ttest: 0.8457622\tbest: 0.8457622 (0)\ttotal: 32.5s\tremaining: 3h 16s\n",
            "3:\tlearn: 0.8449516\ttest: 0.8457622\tbest: 0.8457622 (0)\ttotal: 43.5s\tremaining: 3h 19s\n",
            "4:\tlearn: 0.8449516\ttest: 0.8457622\tbest: 0.8457622 (0)\ttotal: 54s\tremaining: 2h 59m 12s\n",
            "5:\tlearn: 0.8449516\ttest: 0.8457622\tbest: 0.8457622 (0)\ttotal: 1m 4s\tremaining: 2h 58m 29s\n",
            "Stopped by overfitting detector  (5 iterations wait)\n",
            "\n",
            "bestTest = 0.8457622349\n",
            "bestIteration = 0\n",
            "\n",
            "Shrink model to first 1 iterations.\n"
          ]
        },
        {
          "output_type": "execute_result",
          "data": {
            "text/plain": [
              "<catboost.core.CatBoostClassifier at 0x7f8f9453fb50>"
            ]
          },
          "metadata": {},
          "execution_count": 100
        }
      ]
    },
    {
      "cell_type": "code",
      "source": [
        "entity_preds = entity_clf.predict(X_entity_val).squeeze()\n",
        "entity_probas = entity_clf.predict_proba(X_entity_val)"
      ],
      "metadata": {
        "id": "-2oWB5z2GghP"
      },
      "execution_count": null,
      "outputs": []
    },
    {
      "cell_type": "code",
      "source": [
        "print(\n",
        "    classification_report(y_entity_val, entity_preds, target_names=ID2Entity)\n",
        ")"
      ],
      "metadata": {
        "colab": {
          "base_uri": "https://localhost:8080/"
        },
        "outputId": "661fa1a6-93d6-4878-ebbf-ad50f3942d19",
        "id": "TeJyomqmGghP"
      },
      "execution_count": null,
      "outputs": [
        {
          "output_type": "stream",
          "name": "stdout",
          "text": [
            "                     precision    recall  f1-score   support\n",
            "\n",
            "             person       0.00      0.00      0.00      1336\n",
            "           location       0.00      0.00      0.00      1007\n",
            "          videoname       0.00      0.00      0.00       797\n",
            "       organization       0.00      0.00      0.00       690\n",
            "             device       0.00      0.00      0.00       486\n",
            "              sport       0.00      0.00      0.00       376\n",
            "           duration       0.00      0.00      0.00       455\n",
            "             number       0.00      0.00      0.00       455\n",
            "              genre       0.00      0.00      0.00       339\n",
            "          sportteam       0.00      0.00      0.00       199\n",
            "           position       0.00      0.00      0.00       158\n",
            "              event       0.00      0.00      0.00       159\n",
            "softwareapplication       0.00      0.00      0.00       198\n",
            "            vehicle       0.00      0.00      0.00       116\n",
            "              party       0.00      0.00      0.00        34\n",
            "               year       0.00      0.00      0.00        75\n",
            "               date       0.00      0.00      0.00        83\n",
            "           gamename       0.00      0.00      0.00        33\n",
            "           songname       0.00      0.00      0.00         7\n",
            "           bookname       0.00      0.00      0.00         1\n",
            "\n",
            "          micro avg       0.00      0.00      0.00      7004\n",
            "          macro avg       0.00      0.00      0.00      7004\n",
            "       weighted avg       0.00      0.00      0.00      7004\n",
            "        samples avg       0.00      0.00      0.00      7004\n",
            "\n"
          ]
        },
        {
          "output_type": "stream",
          "name": "stderr",
          "text": [
            "/usr/local/lib/python3.7/dist-packages/sklearn/metrics/_classification.py:1318: UndefinedMetricWarning: Precision and F-score are ill-defined and being set to 0.0 in labels with no predicted samples. Use `zero_division` parameter to control this behavior.\n",
            "  _warn_prf(average, modifier, msg_start, len(result))\n",
            "/usr/local/lib/python3.7/dist-packages/sklearn/metrics/_classification.py:1318: UndefinedMetricWarning: Precision and F-score are ill-defined and being set to 0.0 due to no predicted samples. Use `zero_division` parameter to control this behavior.\n",
            "  _warn_prf(average, modifier, msg_start, len(result))\n",
            "/usr/local/lib/python3.7/dist-packages/sklearn/metrics/_classification.py:1318: UndefinedMetricWarning: Precision and F-score are ill-defined and being set to 0.0 in samples with no predicted labels. Use `zero_division` parameter to control this behavior.\n",
            "  _warn_prf(average, modifier, msg_start, len(result))\n",
            "/usr/local/lib/python3.7/dist-packages/sklearn/metrics/_classification.py:1318: UndefinedMetricWarning: Recall and F-score are ill-defined and being set to 0.0 in samples with no true labels. Use `zero_division` parameter to control this behavior.\n",
            "  _warn_prf(average, modifier, msg_start, len(result))\n"
          ]
        }
      ]
    },
    {
      "cell_type": "code",
      "source": [
        "print(\n",
        "    classification_report(\n",
        "        y_entity_val, \n",
        "        prediction_by_heuristic(entity_probas, top_n=1),\n",
        "        target_names=ID2Entity)\n",
        ")"
      ],
      "metadata": {
        "colab": {
          "base_uri": "https://localhost:8080/"
        },
        "outputId": "37ada6cc-0db8-437b-c625-3ec40d1289d0",
        "id": "i22yJo3FGghP"
      },
      "execution_count": null,
      "outputs": [
        {
          "output_type": "stream",
          "name": "stdout",
          "text": [
            "                     precision    recall  f1-score   support\n",
            "\n",
            "             person       0.03      1.00      0.07      1336\n",
            "           location       0.00      0.00      0.00      1007\n",
            "          videoname       0.00      0.00      0.00       797\n",
            "       organization       0.00      0.00      0.00       690\n",
            "             device       0.00      0.00      0.00       486\n",
            "              sport       0.00      0.00      0.00       376\n",
            "           duration       0.00      0.00      0.00       455\n",
            "             number       0.00      0.00      0.00       455\n",
            "              genre       0.00      0.00      0.00       339\n",
            "          sportteam       0.00      0.00      0.00       199\n",
            "           position       0.00      0.00      0.00       158\n",
            "              event       0.00      0.00      0.00       159\n",
            "softwareapplication       0.00      0.00      0.00       198\n",
            "            vehicle       0.00      0.00      0.00       116\n",
            "              party       0.00      0.00      0.00        34\n",
            "               year       0.00      0.00      0.00        75\n",
            "               date       0.00      0.00      0.00        83\n",
            "           gamename       0.00      0.00      0.00        33\n",
            "           songname       0.00      0.00      0.00         7\n",
            "           bookname       0.00      0.00      0.00         1\n",
            "\n",
            "          micro avg       0.03      0.19      0.06      7004\n",
            "          macro avg       0.00      0.05      0.00      7004\n",
            "       weighted avg       0.01      0.19      0.01      7004\n",
            "        samples avg       0.03      0.03      0.03      7004\n",
            "\n"
          ]
        },
        {
          "output_type": "stream",
          "name": "stderr",
          "text": [
            "/usr/local/lib/python3.7/dist-packages/sklearn/metrics/_classification.py:1318: UndefinedMetricWarning: Precision and F-score are ill-defined and being set to 0.0 in labels with no predicted samples. Use `zero_division` parameter to control this behavior.\n",
            "  _warn_prf(average, modifier, msg_start, len(result))\n",
            "/usr/local/lib/python3.7/dist-packages/sklearn/metrics/_classification.py:1318: UndefinedMetricWarning: Recall and F-score are ill-defined and being set to 0.0 in samples with no true labels. Use `zero_division` parameter to control this behavior.\n",
            "  _warn_prf(average, modifier, msg_start, len(result))\n"
          ]
        }
      ]
    },
    {
      "cell_type": "code",
      "source": [
        "print(\n",
        "    classification_report(\n",
        "        y_entity_val, \n",
        "        prediction_by_heuristic(entity_probas, top_n=3),\n",
        "        target_names=ID2Entity)\n",
        ")"
      ],
      "metadata": {
        "colab": {
          "base_uri": "https://localhost:8080/"
        },
        "outputId": "f763b106-a029-4c75-db68-6933f875d756",
        "id": "xtGkNl1DGghP"
      },
      "execution_count": null,
      "outputs": [
        {
          "output_type": "stream",
          "name": "stderr",
          "text": [
            "/usr/local/lib/python3.7/dist-packages/sklearn/metrics/_classification.py:1318: UndefinedMetricWarning: Precision and F-score are ill-defined and being set to 0.0 in labels with no predicted samples. Use `zero_division` parameter to control this behavior.\n",
            "  _warn_prf(average, modifier, msg_start, len(result))\n"
          ]
        },
        {
          "output_type": "stream",
          "name": "stdout",
          "text": [
            "                     precision    recall  f1-score   support\n",
            "\n",
            "             person       0.03      1.00      0.07      1336\n",
            "           location       0.03      1.00      0.05      1007\n",
            "          videoname       0.02      1.00      0.04       797\n",
            "       organization       0.00      0.00      0.00       690\n",
            "             device       0.00      0.00      0.00       486\n",
            "              sport       0.00      0.00      0.00       376\n",
            "           duration       0.00      0.00      0.00       455\n",
            "             number       0.00      0.00      0.00       455\n",
            "              genre       0.00      0.00      0.00       339\n",
            "          sportteam       0.00      0.00      0.00       199\n",
            "           position       0.00      0.00      0.00       158\n",
            "              event       0.00      0.00      0.00       159\n",
            "softwareapplication       0.00      0.00      0.00       198\n",
            "            vehicle       0.00      0.00      0.00       116\n",
            "              party       0.00      0.00      0.00        34\n",
            "               year       0.00      0.00      0.00        75\n",
            "               date       0.00      0.00      0.00        83\n",
            "           gamename       0.00      0.00      0.00        33\n",
            "           songname       0.00      0.00      0.00         7\n",
            "           bookname       0.00      0.00      0.00         1\n",
            "\n",
            "          micro avg       0.03      0.45      0.05      7004\n",
            "          macro avg       0.00      0.15      0.01      7004\n",
            "       weighted avg       0.01      0.45      0.02      7004\n",
            "        samples avg       0.03      0.07      0.04      7004\n",
            "\n"
          ]
        },
        {
          "output_type": "stream",
          "name": "stderr",
          "text": [
            "/usr/local/lib/python3.7/dist-packages/sklearn/metrics/_classification.py:1318: UndefinedMetricWarning: Recall and F-score are ill-defined and being set to 0.0 in samples with no true labels. Use `zero_division` parameter to control this behavior.\n",
            "  _warn_prf(average, modifier, msg_start, len(result))\n"
          ]
        }
      ]
    },
    {
      "cell_type": "code",
      "source": [
        "for_ovr = {\n",
        "    'verbose': False,\n",
        "    'random_seed': 42,\n",
        "    'use_best_model': False,\n",
        "    'devices':'0:1',\n",
        "    }\n",
        "\n",
        "ovr_clf = OneVsRestClassifier(\n",
        "    estimator=CatBoostClassifier(\n",
        "        grow_policy='Depthwise', loss_function='MultiClass', \n",
        "        eval_metric='TotalF1', task_type='GPU', **for_ovr)\n",
        ")"
      ],
      "metadata": {
        "id": "08Hc49ZBGghP"
      },
      "execution_count": 10,
      "outputs": []
    },
    {
      "cell_type": "code",
      "source": [
        "ovr_clf.fit(X_train, y_entity_train)"
      ],
      "metadata": {
        "id": "6xAXQaEPGghP",
        "outputId": "1ad4b53f-3b21-4e43-923c-c757489e4a58",
        "colab": {
          "base_uri": "https://localhost:8080/"
        }
      },
      "execution_count": 11,
      "outputs": [
        {
          "output_type": "execute_result",
          "data": {
            "text/plain": [
              "OneVsRestClassifier(estimator=<catboost.core.CatBoostClassifier object at 0x7fa9f30d1ad0>)"
            ]
          },
          "metadata": {},
          "execution_count": 11
        }
      ]
    },
    {
      "cell_type": "code",
      "source": [
        "entity_preds = ovr_clf.predict(X_val).squeeze()\n",
        "entity_probas = ovr_clf.predict_proba(X_val)"
      ],
      "metadata": {
        "id": "-HzMttIqGghQ"
      },
      "execution_count": 12,
      "outputs": []
    },
    {
      "cell_type": "code",
      "source": [
        "print(\n",
        "    classification_report(y_entity_val, entity_preds, target_names=ID2Entity)\n",
        ")"
      ],
      "metadata": {
        "id": "E4VoJ04CGghQ",
        "outputId": "b6ac71e6-da8d-4367-d658-cda181b59f19",
        "colab": {
          "base_uri": "https://localhost:8080/"
        }
      },
      "execution_count": 13,
      "outputs": [
        {
          "output_type": "stream",
          "name": "stdout",
          "text": [
            "                     precision    recall  f1-score   support\n",
            "\n",
            "             person       0.72      0.02      0.04      1336\n",
            "           location       0.84      0.04      0.07      1007\n",
            "          videoname       0.82      0.02      0.03       797\n",
            "       organization       0.73      0.01      0.02       690\n",
            "             device       0.84      0.05      0.10       486\n",
            "              sport       0.73      0.02      0.04       376\n",
            "           duration       0.85      0.14      0.24       455\n",
            "             number       0.81      0.08      0.14       455\n",
            "              genre       0.73      0.02      0.05       339\n",
            "          sportteam       0.64      0.05      0.08       199\n",
            "           position       0.00      0.00      0.00       158\n",
            "              event       1.00      0.04      0.07       159\n",
            "softwareapplication       0.00      0.00      0.00       198\n",
            "            vehicle       0.82      0.08      0.14       116\n",
            "              party       0.00      0.00      0.00        34\n",
            "               year       1.00      0.03      0.05        75\n",
            "               date       1.00      0.12      0.22        83\n",
            "           gamename       1.00      0.03      0.06        33\n",
            "           songname       0.00      0.00      0.00         7\n",
            "           bookname       0.00      0.00      0.00         1\n",
            "\n",
            "          micro avg       0.81      0.04      0.07      7004\n",
            "          macro avg       0.63      0.04      0.07      7004\n",
            "       weighted avg       0.75      0.04      0.07      7004\n",
            "        samples avg       0.01      0.01      0.01      7004\n",
            "\n"
          ]
        },
        {
          "output_type": "stream",
          "name": "stderr",
          "text": [
            "/usr/local/lib/python3.7/dist-packages/sklearn/metrics/_classification.py:1318: UndefinedMetricWarning: Precision and F-score are ill-defined and being set to 0.0 in labels with no predicted samples. Use `zero_division` parameter to control this behavior.\n",
            "  _warn_prf(average, modifier, msg_start, len(result))\n",
            "/usr/local/lib/python3.7/dist-packages/sklearn/metrics/_classification.py:1318: UndefinedMetricWarning: Precision and F-score are ill-defined and being set to 0.0 in samples with no predicted labels. Use `zero_division` parameter to control this behavior.\n",
            "  _warn_prf(average, modifier, msg_start, len(result))\n",
            "/usr/local/lib/python3.7/dist-packages/sklearn/metrics/_classification.py:1318: UndefinedMetricWarning: Recall and F-score are ill-defined and being set to 0.0 in samples with no true labels. Use `zero_division` parameter to control this behavior.\n",
            "  _warn_prf(average, modifier, msg_start, len(result))\n"
          ]
        }
      ]
    },
    {
      "cell_type": "code",
      "source": [
        "print(\n",
        "    classification_report(\n",
        "        y_entity_val, \n",
        "        prediction_by_heuristic(entity_probas, top_n=1),\n",
        "        target_names=ID2Entity)\n",
        ")"
      ],
      "metadata": {
        "id": "ddJ0hstsGghQ",
        "outputId": "430c48df-6065-49e0-afdf-c625bc808558",
        "colab": {
          "base_uri": "https://localhost:8080/"
        }
      },
      "execution_count": 14,
      "outputs": [
        {
          "output_type": "stream",
          "name": "stdout",
          "text": [
            "                     precision    recall  f1-score   support\n",
            "\n",
            "             person       0.07      0.60      0.13      1336\n",
            "           location       0.06      0.53      0.10      1007\n",
            "          videoname       0.08      0.37      0.13       797\n",
            "       organization       0.07      0.34      0.11       690\n",
            "             device       0.08      0.47      0.14       486\n",
            "              sport       0.12      0.44      0.19       376\n",
            "           duration       0.06      0.39      0.11       455\n",
            "             number       0.07      0.32      0.12       455\n",
            "              genre       0.14      0.28      0.18       339\n",
            "          sportteam       0.17      0.30      0.22       199\n",
            "           position       0.08      0.11      0.09       158\n",
            "              event       0.14      0.11      0.12       159\n",
            "softwareapplication       0.09      0.14      0.11       198\n",
            "            vehicle       0.11      0.29      0.16       116\n",
            "              party       0.13      0.09      0.11        34\n",
            "               year       0.23      0.04      0.07        75\n",
            "               date       0.16      0.24      0.20        83\n",
            "           gamename       0.25      0.03      0.05        33\n",
            "           songname       0.00      0.00      0.00         7\n",
            "           bookname       0.00      0.00      0.00         1\n",
            "\n",
            "          micro avg       0.07      0.41      0.12      7004\n",
            "          macro avg       0.11      0.25      0.12      7004\n",
            "       weighted avg       0.09      0.41      0.13      7004\n",
            "        samples avg       0.07      0.07      0.07      7004\n",
            "\n"
          ]
        },
        {
          "output_type": "stream",
          "name": "stderr",
          "text": [
            "/usr/local/lib/python3.7/dist-packages/sklearn/metrics/_classification.py:1318: UndefinedMetricWarning: Precision and F-score are ill-defined and being set to 0.0 in labels with no predicted samples. Use `zero_division` parameter to control this behavior.\n",
            "  _warn_prf(average, modifier, msg_start, len(result))\n",
            "/usr/local/lib/python3.7/dist-packages/sklearn/metrics/_classification.py:1318: UndefinedMetricWarning: Recall and F-score are ill-defined and being set to 0.0 in samples with no true labels. Use `zero_division` parameter to control this behavior.\n",
            "  _warn_prf(average, modifier, msg_start, len(result))\n"
          ]
        }
      ]
    },
    {
      "cell_type": "code",
      "source": [
        "print(\n",
        "    classification_report(\n",
        "        y_entity_val, \n",
        "        prediction_by_heuristic(entity_probas, top_n=3),\n",
        "        target_names=ID2Entity)\n",
        ")"
      ],
      "metadata": {
        "id": "U3PCbjzeGghQ",
        "outputId": "db764d82-bc67-43aa-f50d-03459e1558fc",
        "colab": {
          "base_uri": "https://localhost:8080/"
        }
      },
      "execution_count": 15,
      "outputs": [
        {
          "output_type": "stream",
          "name": "stderr",
          "text": [
            "/usr/local/lib/python3.7/dist-packages/sklearn/metrics/_classification.py:1318: UndefinedMetricWarning: Precision and F-score are ill-defined and being set to 0.0 in labels with no predicted samples. Use `zero_division` parameter to control this behavior.\n",
            "  _warn_prf(average, modifier, msg_start, len(result))\n"
          ]
        },
        {
          "output_type": "stream",
          "name": "stdout",
          "text": [
            "                     precision    recall  f1-score   support\n",
            "\n",
            "             person       0.05      0.92      0.09      1336\n",
            "           location       0.03      0.85      0.07      1007\n",
            "          videoname       0.04      0.77      0.08       797\n",
            "       organization       0.04      0.72      0.07       690\n",
            "             device       0.04      0.68      0.08       486\n",
            "              sport       0.08      0.69      0.14       376\n",
            "           duration       0.03      0.58      0.05       455\n",
            "             number       0.03      0.55      0.06       455\n",
            "              genre       0.07      0.58      0.12       339\n",
            "          sportteam       0.09      0.61      0.15       199\n",
            "           position       0.06      0.55      0.10       158\n",
            "              event       0.06      0.29      0.10       159\n",
            "softwareapplication       0.06      0.36      0.10       198\n",
            "            vehicle       0.06      0.48      0.10       116\n",
            "              party       0.10      0.32      0.15        34\n",
            "               year       0.06      0.08      0.07        75\n",
            "               date       0.08      0.37      0.13        83\n",
            "           gamename       0.13      0.06      0.08        33\n",
            "           songname       0.00      0.00      0.00         7\n",
            "           bookname       0.00      0.00      0.00         1\n",
            "\n",
            "          micro avg       0.04      0.70      0.08      7004\n",
            "          macro avg       0.06      0.47      0.09      7004\n",
            "       weighted avg       0.05      0.70      0.09      7004\n",
            "        samples avg       0.04      0.11      0.06      7004\n",
            "\n"
          ]
        },
        {
          "output_type": "stream",
          "name": "stderr",
          "text": [
            "/usr/local/lib/python3.7/dist-packages/sklearn/metrics/_classification.py:1318: UndefinedMetricWarning: Recall and F-score are ill-defined and being set to 0.0 in samples with no true labels. Use `zero_division` parameter to control this behavior.\n",
            "  _warn_prf(average, modifier, msg_start, len(result))\n"
          ]
        }
      ]
    },
    {
      "cell_type": "markdown",
      "source": [
        "## Lossguide"
      ],
      "metadata": {
        "id": "U7wzIi4jmnJs"
      }
    },
    {
      "cell_type": "code",
      "source": [
        "midas_clf = CatBoostClassifier(\n",
        "    grow_policy='Lossguide', \n",
        "    loss_function='MultiClass', \n",
        "    eval_metric='Accuracy', \n",
        "    task_type='GPU', **model_params)"
      ],
      "metadata": {
        "id": "hlyUj_dimsdw"
      },
      "execution_count": null,
      "outputs": []
    },
    {
      "cell_type": "code",
      "source": [
        "midas_clf.fit(\n",
        "    X_midas_train, eval_set=X_midas_val, **fit_params)"
      ],
      "metadata": {
        "id": "qBF9Fkqsnnv6"
      },
      "execution_count": null,
      "outputs": []
    },
    {
      "cell_type": "code",
      "source": [
        "midas_preds = midas_clf.predict(X_midas_val).squeeze()"
      ],
      "metadata": {
        "id": "QjI4qDkDnnv7"
      },
      "execution_count": null,
      "outputs": []
    },
    {
      "cell_type": "code",
      "source": [
        "Counter(midas_preds)"
      ],
      "metadata": {
        "colab": {
          "base_uri": "https://localhost:8080/"
        },
        "outputId": "48ba6265-02af-4416-af7d-cfc26efb8dee",
        "id": "hbfNwk1Xnnv7"
      },
      "execution_count": null,
      "outputs": [
        {
          "output_type": "execute_result",
          "data": {
            "text/plain": [
              "Counter({2: 590, 5: 184, 6: 94, 7: 2, 8: 22746, 10: 1205, 11: 14212, 12: 56})"
            ]
          },
          "metadata": {},
          "execution_count": 50
        }
      ]
    },
    {
      "cell_type": "code",
      "source": [
        "print(\n",
        "    classification_report(y_midas_val, midas_preds, target_names=ID2Midas)\n",
        ")"
      ],
      "metadata": {
        "colab": {
          "base_uri": "https://localhost:8080/"
        },
        "outputId": "4bc31716-b986-4ed8-cd71-063c9f04b10a",
        "id": "Hrh2phTEnnv7"
      },
      "execution_count": null,
      "outputs": [
        {
          "output_type": "stream",
          "name": "stdout",
          "text": [
            "                       precision    recall  f1-score   support\n",
            "\n",
            "         appreciation       0.00      0.00      0.00      1032\n",
            "              command       0.00      0.00      0.00       615\n",
            "              comment       0.30      0.04      0.08      4035\n",
            "            complaint       0.00      0.00      0.00       826\n",
            "          dev_command       0.00      0.00      0.00        54\n",
            "           neg_answer       0.23      0.04      0.06      1204\n",
            "open_question_factual       0.21      0.02      0.04       809\n",
            "open_question_opinion       0.00      0.00      0.00       497\n",
            "              opinion       0.41      0.75      0.53     12549\n",
            "        other_answers       0.00      0.00      0.00       309\n",
            "           pos_answer       0.36      0.09      0.15      4639\n",
            "            statement       0.39      0.51      0.44     10875\n",
            "      yes_no_question       0.32      0.01      0.02      1645\n",
            "\n",
            "             accuracy                           0.40     39089\n",
            "            macro avg       0.17      0.11      0.10     39089\n",
            "         weighted avg       0.34      0.40      0.32     39089\n",
            "\n"
          ]
        },
        {
          "output_type": "stream",
          "name": "stderr",
          "text": [
            "/usr/local/lib/python3.7/dist-packages/sklearn/metrics/_classification.py:1318: UndefinedMetricWarning: Precision and F-score are ill-defined and being set to 0.0 in labels with no predicted samples. Use `zero_division` parameter to control this behavior.\n",
            "  _warn_prf(average, modifier, msg_start, len(result))\n",
            "/usr/local/lib/python3.7/dist-packages/sklearn/metrics/_classification.py:1318: UndefinedMetricWarning: Precision and F-score are ill-defined and being set to 0.0 in labels with no predicted samples. Use `zero_division` parameter to control this behavior.\n",
            "  _warn_prf(average, modifier, msg_start, len(result))\n",
            "/usr/local/lib/python3.7/dist-packages/sklearn/metrics/_classification.py:1318: UndefinedMetricWarning: Precision and F-score are ill-defined and being set to 0.0 in labels with no predicted samples. Use `zero_division` parameter to control this behavior.\n",
            "  _warn_prf(average, modifier, msg_start, len(result))\n"
          ]
        }
      ]
    },
    {
      "cell_type": "markdown",
      "source": [
        "### Entity"
      ],
      "metadata": {
        "id": "ETVlJr_Rti9m"
      }
    },
    {
      "cell_type": "code",
      "source": [
        "entity_clf = CatBoostClassifier(\n",
        "    grow_policy='Lossguide', \n",
        "    loss_function='MultiLogloss', \n",
        "    eval_metric='Accuracy',\n",
        "    **model_params, task_type='CPU')"
      ],
      "metadata": {
        "id": "O85BRbKPtmkb"
      },
      "execution_count": 18,
      "outputs": []
    },
    {
      "cell_type": "code",
      "source": [
        "entity_clf.fit(X_entity_train, eval_set=X_entity_val, **fit_params)"
      ],
      "metadata": {
        "colab": {
          "base_uri": "https://localhost:8080/"
        },
        "outputId": "8a61ae46-c976-4926-e0c9-60a15254f6a3",
        "id": "fDR4shyBtmkc"
      },
      "execution_count": 19,
      "outputs": [
        {
          "output_type": "stream",
          "name": "stdout",
          "text": [
            "Learning rate set to 0.114166\n",
            "0:\tlearn: 0.8449516\ttest: 0.8457622\tbest: 0.8457622 (0)\ttotal: 11.7s\tremaining: 3h 14m 54s\n",
            "1:\tlearn: 0.8449516\ttest: 0.8457622\tbest: 0.8457622 (0)\ttotal: 23.6s\tremaining: 3h 15m 57s\n",
            "2:\tlearn: 0.8449516\ttest: 0.8457622\tbest: 0.8457622 (0)\ttotal: 35.4s\tremaining: 3h 15m 53s\n",
            "3:\tlearn: 0.8449516\ttest: 0.8457622\tbest: 0.8457622 (0)\ttotal: 47.1s\tremaining: 3h 15m 30s\n",
            "4:\tlearn: 0.8449516\ttest: 0.8457622\tbest: 0.8457622 (0)\ttotal: 58.8s\tremaining: 3h 14m 59s\n",
            "5:\tlearn: 0.8449516\ttest: 0.8457622\tbest: 0.8457622 (0)\ttotal: 1m 10s\tremaining: 3h 14m 52s\n",
            "Stopped by overfitting detector  (5 iterations wait)\n",
            "\n",
            "bestTest = 0.8457622349\n",
            "bestIteration = 0\n",
            "\n",
            "Shrink model to first 1 iterations.\n"
          ]
        },
        {
          "output_type": "execute_result",
          "data": {
            "text/plain": [
              "<catboost.core.CatBoostClassifier at 0x7fa9e8640890>"
            ]
          },
          "metadata": {},
          "execution_count": 19
        }
      ]
    },
    {
      "cell_type": "code",
      "source": [
        "entity_preds = entity_clf.predict(X_entity_val).squeeze()\n",
        "entity_probas = entity_clf.predict_proba(X_entity_val)"
      ],
      "metadata": {
        "id": "Nwi_IfXBtmkc"
      },
      "execution_count": 20,
      "outputs": []
    },
    {
      "cell_type": "code",
      "source": [
        "print(\n",
        "    classification_report(y_entity_val, entity_preds, target_names=ID2Entity)\n",
        ")"
      ],
      "metadata": {
        "colab": {
          "base_uri": "https://localhost:8080/"
        },
        "outputId": "fb373a8d-f14d-4f42-e09c-0e89b054836f",
        "id": "vHukrTZatmkc"
      },
      "execution_count": 21,
      "outputs": [
        {
          "output_type": "stream",
          "name": "stdout",
          "text": [
            "                     precision    recall  f1-score   support\n",
            "\n",
            "             person       0.00      0.00      0.00      1336\n",
            "           location       0.00      0.00      0.00      1007\n",
            "          videoname       0.00      0.00      0.00       797\n",
            "       organization       0.00      0.00      0.00       690\n",
            "             device       0.00      0.00      0.00       486\n",
            "              sport       0.00      0.00      0.00       376\n",
            "           duration       0.00      0.00      0.00       455\n",
            "             number       0.00      0.00      0.00       455\n",
            "              genre       0.00      0.00      0.00       339\n",
            "          sportteam       0.00      0.00      0.00       199\n",
            "           position       0.00      0.00      0.00       158\n",
            "              event       0.00      0.00      0.00       159\n",
            "softwareapplication       0.00      0.00      0.00       198\n",
            "            vehicle       0.00      0.00      0.00       116\n",
            "              party       0.00      0.00      0.00        34\n",
            "               year       0.00      0.00      0.00        75\n",
            "               date       0.00      0.00      0.00        83\n",
            "           gamename       0.00      0.00      0.00        33\n",
            "           songname       0.00      0.00      0.00         7\n",
            "           bookname       0.00      0.00      0.00         1\n",
            "\n",
            "          micro avg       0.00      0.00      0.00      7004\n",
            "          macro avg       0.00      0.00      0.00      7004\n",
            "       weighted avg       0.00      0.00      0.00      7004\n",
            "        samples avg       0.00      0.00      0.00      7004\n",
            "\n"
          ]
        },
        {
          "output_type": "stream",
          "name": "stderr",
          "text": [
            "/usr/local/lib/python3.7/dist-packages/sklearn/metrics/_classification.py:1318: UndefinedMetricWarning: Precision and F-score are ill-defined and being set to 0.0 in labels with no predicted samples. Use `zero_division` parameter to control this behavior.\n",
            "  _warn_prf(average, modifier, msg_start, len(result))\n",
            "/usr/local/lib/python3.7/dist-packages/sklearn/metrics/_classification.py:1318: UndefinedMetricWarning: Precision and F-score are ill-defined and being set to 0.0 due to no predicted samples. Use `zero_division` parameter to control this behavior.\n",
            "  _warn_prf(average, modifier, msg_start, len(result))\n",
            "/usr/local/lib/python3.7/dist-packages/sklearn/metrics/_classification.py:1318: UndefinedMetricWarning: Precision and F-score are ill-defined and being set to 0.0 in samples with no predicted labels. Use `zero_division` parameter to control this behavior.\n",
            "  _warn_prf(average, modifier, msg_start, len(result))\n",
            "/usr/local/lib/python3.7/dist-packages/sklearn/metrics/_classification.py:1318: UndefinedMetricWarning: Recall and F-score are ill-defined and being set to 0.0 in samples with no true labels. Use `zero_division` parameter to control this behavior.\n",
            "  _warn_prf(average, modifier, msg_start, len(result))\n"
          ]
        }
      ]
    },
    {
      "cell_type": "code",
      "source": [
        "print(\n",
        "    classification_report(\n",
        "        y_entity_val, \n",
        "        prediction_by_heuristic(entity_probas, top_n=1),\n",
        "        target_names=ID2Entity)\n",
        ")"
      ],
      "metadata": {
        "colab": {
          "base_uri": "https://localhost:8080/"
        },
        "outputId": "627d8f4d-d6d2-4f62-82ff-5d6f2a0628cf",
        "id": "tgwsfQVGtmkc"
      },
      "execution_count": 22,
      "outputs": [
        {
          "output_type": "stream",
          "name": "stdout",
          "text": [
            "                     precision    recall  f1-score   support\n",
            "\n",
            "             person       0.03      1.00      0.07      1336\n",
            "           location       0.00      0.00      0.00      1007\n",
            "          videoname       0.00      0.00      0.00       797\n",
            "       organization       0.00      0.00      0.00       690\n",
            "             device       0.00      0.00      0.00       486\n",
            "              sport       0.00      0.00      0.00       376\n",
            "           duration       0.00      0.00      0.00       455\n",
            "             number       0.00      0.00      0.00       455\n",
            "              genre       0.00      0.00      0.00       339\n",
            "          sportteam       0.00      0.00      0.00       199\n",
            "           position       0.00      0.00      0.00       158\n",
            "              event       0.00      0.00      0.00       159\n",
            "softwareapplication       0.00      0.00      0.00       198\n",
            "            vehicle       0.00      0.00      0.00       116\n",
            "              party       0.00      0.00      0.00        34\n",
            "               year       0.00      0.00      0.00        75\n",
            "               date       0.00      0.00      0.00        83\n",
            "           gamename       0.00      0.00      0.00        33\n",
            "           songname       0.00      0.00      0.00         7\n",
            "           bookname       0.00      0.00      0.00         1\n",
            "\n",
            "          micro avg       0.03      0.19      0.06      7004\n",
            "          macro avg       0.00      0.05      0.00      7004\n",
            "       weighted avg       0.01      0.19      0.01      7004\n",
            "        samples avg       0.03      0.03      0.03      7004\n",
            "\n"
          ]
        },
        {
          "output_type": "stream",
          "name": "stderr",
          "text": [
            "/usr/local/lib/python3.7/dist-packages/sklearn/metrics/_classification.py:1318: UndefinedMetricWarning: Precision and F-score are ill-defined and being set to 0.0 in labels with no predicted samples. Use `zero_division` parameter to control this behavior.\n",
            "  _warn_prf(average, modifier, msg_start, len(result))\n",
            "/usr/local/lib/python3.7/dist-packages/sklearn/metrics/_classification.py:1318: UndefinedMetricWarning: Recall and F-score are ill-defined and being set to 0.0 in samples with no true labels. Use `zero_division` parameter to control this behavior.\n",
            "  _warn_prf(average, modifier, msg_start, len(result))\n"
          ]
        }
      ]
    },
    {
      "cell_type": "code",
      "source": [
        "print(\n",
        "    classification_report(\n",
        "        y_entity_val, \n",
        "        prediction_by_heuristic(entity_probas, top_n=3),\n",
        "        target_names=ID2Entity)\n",
        ")"
      ],
      "metadata": {
        "colab": {
          "base_uri": "https://localhost:8080/"
        },
        "outputId": "b9f24bfd-564c-4d61-e8b3-8bf1a876ee15",
        "id": "srnm4PNKtmkd"
      },
      "execution_count": 23,
      "outputs": [
        {
          "output_type": "stream",
          "name": "stderr",
          "text": [
            "/usr/local/lib/python3.7/dist-packages/sklearn/metrics/_classification.py:1318: UndefinedMetricWarning: Precision and F-score are ill-defined and being set to 0.0 in labels with no predicted samples. Use `zero_division` parameter to control this behavior.\n",
            "  _warn_prf(average, modifier, msg_start, len(result))\n"
          ]
        },
        {
          "output_type": "stream",
          "name": "stdout",
          "text": [
            "                     precision    recall  f1-score   support\n",
            "\n",
            "             person       0.03      1.00      0.07      1336\n",
            "           location       0.03      1.00      0.05      1007\n",
            "          videoname       0.02      1.00      0.04       797\n",
            "       organization       0.00      0.00      0.00       690\n",
            "             device       0.00      0.00      0.00       486\n",
            "              sport       0.00      0.00      0.00       376\n",
            "           duration       0.00      0.00      0.00       455\n",
            "             number       0.00      0.00      0.00       455\n",
            "              genre       0.00      0.00      0.00       339\n",
            "          sportteam       0.00      0.00      0.00       199\n",
            "           position       0.00      0.00      0.00       158\n",
            "              event       0.00      0.00      0.00       159\n",
            "softwareapplication       0.00      0.00      0.00       198\n",
            "            vehicle       0.00      0.00      0.00       116\n",
            "              party       0.00      0.00      0.00        34\n",
            "               year       0.00      0.00      0.00        75\n",
            "               date       0.00      0.00      0.00        83\n",
            "           gamename       0.00      0.00      0.00        33\n",
            "           songname       0.00      0.00      0.00         7\n",
            "           bookname       0.00      0.00      0.00         1\n",
            "\n",
            "          micro avg       0.03      0.45      0.05      7004\n",
            "          macro avg       0.00      0.15      0.01      7004\n",
            "       weighted avg       0.01      0.45      0.02      7004\n",
            "        samples avg       0.03      0.07      0.04      7004\n",
            "\n"
          ]
        },
        {
          "output_type": "stream",
          "name": "stderr",
          "text": [
            "/usr/local/lib/python3.7/dist-packages/sklearn/metrics/_classification.py:1318: UndefinedMetricWarning: Recall and F-score are ill-defined and being set to 0.0 in samples with no true labels. Use `zero_division` parameter to control this behavior.\n",
            "  _warn_prf(average, modifier, msg_start, len(result))\n"
          ]
        }
      ]
    },
    {
      "cell_type": "code",
      "source": [
        "for_ovr = {\n",
        "    'verbose': False,\n",
        "    'random_seed': 42,\n",
        "    'use_best_model': False,\n",
        "    'devices':'0:1',\n",
        "    }\n",
        "\n",
        "ovr_clf = OneVsRestClassifier(\n",
        "    estimator=CatBoostClassifier(\n",
        "        grow_policy='Lossguide', loss_function='MultiClass', \n",
        "        eval_metric='TotalF1', task_type='GPU', **for_ovr)\n",
        ")"
      ],
      "metadata": {
        "id": "1NiMzurVtmkd"
      },
      "execution_count": 24,
      "outputs": []
    },
    {
      "cell_type": "code",
      "source": [
        "ovr_clf.fit(X_train, y_entity_train)"
      ],
      "metadata": {
        "id": "3qgDrPfZtmkd",
        "outputId": "b103bc6e-cc13-41e0-fe22-c0953eb86f71",
        "colab": {
          "base_uri": "https://localhost:8080/"
        }
      },
      "execution_count": 25,
      "outputs": [
        {
          "output_type": "execute_result",
          "data": {
            "text/plain": [
              "OneVsRestClassifier(estimator=<catboost.core.CatBoostClassifier object at 0x7fa9e85a2110>)"
            ]
          },
          "metadata": {},
          "execution_count": 25
        }
      ]
    },
    {
      "cell_type": "code",
      "source": [
        "entity_preds = ovr_clf.predict(X_val).squeeze()\n",
        "entity_probas = ovr_clf.predict_proba(X_val)"
      ],
      "metadata": {
        "id": "W_jqXWXstmkd"
      },
      "execution_count": 26,
      "outputs": []
    },
    {
      "cell_type": "code",
      "source": [
        "print(\n",
        "    classification_report(y_entity_val, entity_preds, target_names=ID2Entity)\n",
        ")"
      ],
      "metadata": {
        "id": "kvEPbuBotmkd",
        "outputId": "5cd89257-c437-4610-ec96-68da7b5f7749",
        "colab": {
          "base_uri": "https://localhost:8080/"
        }
      },
      "execution_count": 27,
      "outputs": [
        {
          "output_type": "stream",
          "name": "stdout",
          "text": [
            "                     precision    recall  f1-score   support\n",
            "\n",
            "             person       0.52      0.02      0.03      1336\n",
            "           location       0.87      0.03      0.06      1007\n",
            "          videoname       0.69      0.01      0.02       797\n",
            "       organization       1.00      0.01      0.01       690\n",
            "             device       0.81      0.05      0.10       486\n",
            "              sport       0.67      0.02      0.03       376\n",
            "           duration       0.85      0.13      0.22       455\n",
            "             number       0.79      0.07      0.12       455\n",
            "              genre       0.77      0.03      0.06       339\n",
            "          sportteam       0.73      0.04      0.08       199\n",
            "           position       0.00      0.00      0.00       158\n",
            "              event       1.00      0.04      0.07       159\n",
            "softwareapplication       0.00      0.00      0.00       198\n",
            "            vehicle       0.77      0.09      0.16       116\n",
            "              party       0.00      0.00      0.00        34\n",
            "               year       1.00      0.03      0.05        75\n",
            "               date       1.00      0.12      0.22        83\n",
            "           gamename       1.00      0.03      0.06        33\n",
            "           songname       0.00      0.00      0.00         7\n",
            "           bookname       0.00      0.00      0.00         1\n",
            "\n",
            "          micro avg       0.78      0.03      0.06      7004\n",
            "          macro avg       0.62      0.03      0.06      7004\n",
            "       weighted avg       0.72      0.03      0.06      7004\n",
            "        samples avg       0.01      0.01      0.01      7004\n",
            "\n"
          ]
        },
        {
          "output_type": "stream",
          "name": "stderr",
          "text": [
            "/usr/local/lib/python3.7/dist-packages/sklearn/metrics/_classification.py:1318: UndefinedMetricWarning: Precision and F-score are ill-defined and being set to 0.0 in labels with no predicted samples. Use `zero_division` parameter to control this behavior.\n",
            "  _warn_prf(average, modifier, msg_start, len(result))\n",
            "/usr/local/lib/python3.7/dist-packages/sklearn/metrics/_classification.py:1318: UndefinedMetricWarning: Precision and F-score are ill-defined and being set to 0.0 in samples with no predicted labels. Use `zero_division` parameter to control this behavior.\n",
            "  _warn_prf(average, modifier, msg_start, len(result))\n",
            "/usr/local/lib/python3.7/dist-packages/sklearn/metrics/_classification.py:1318: UndefinedMetricWarning: Recall and F-score are ill-defined and being set to 0.0 in samples with no true labels. Use `zero_division` parameter to control this behavior.\n",
            "  _warn_prf(average, modifier, msg_start, len(result))\n"
          ]
        }
      ]
    },
    {
      "cell_type": "code",
      "source": [
        "print(\n",
        "    classification_report(\n",
        "        y_entity_val, \n",
        "        prediction_by_heuristic(entity_probas, top_n=1),\n",
        "        target_names=ID2Entity)\n",
        ")"
      ],
      "metadata": {
        "id": "KhBX3ZR4tmkd",
        "outputId": "96704a14-a655-46ad-8c15-807e78c576cd",
        "colab": {
          "base_uri": "https://localhost:8080/"
        }
      },
      "execution_count": 28,
      "outputs": [
        {
          "output_type": "stream",
          "name": "stdout",
          "text": [
            "                     precision    recall  f1-score   support\n",
            "\n",
            "             person       0.07      0.66      0.12      1336\n",
            "           location       0.06      0.56      0.10      1007\n",
            "          videoname       0.08      0.36      0.13       797\n",
            "       organization       0.07      0.34      0.12       690\n",
            "             device       0.10      0.45      0.16       486\n",
            "              sport       0.12      0.37      0.18       376\n",
            "           duration       0.07      0.39      0.12       455\n",
            "             number       0.08      0.29      0.13       455\n",
            "              genre       0.17      0.25      0.20       339\n",
            "          sportteam       0.20      0.28      0.23       199\n",
            "           position       0.10      0.06      0.07       158\n",
            "              event       0.16      0.09      0.12       159\n",
            "softwareapplication       0.08      0.09      0.08       198\n",
            "            vehicle       0.14      0.25      0.18       116\n",
            "              party       0.50      0.12      0.19        34\n",
            "               year       0.50      0.05      0.10        75\n",
            "               date       0.30      0.22      0.25        83\n",
            "           gamename       1.00      0.03      0.06        33\n",
            "           songname       0.00      0.00      0.00         7\n",
            "           bookname       0.00      0.00      0.00         1\n",
            "\n",
            "          micro avg       0.07      0.41      0.12      7004\n",
            "          macro avg       0.19      0.24      0.13      7004\n",
            "       weighted avg       0.10      0.41      0.13      7004\n",
            "        samples avg       0.07      0.07      0.07      7004\n",
            "\n"
          ]
        },
        {
          "output_type": "stream",
          "name": "stderr",
          "text": [
            "/usr/local/lib/python3.7/dist-packages/sklearn/metrics/_classification.py:1318: UndefinedMetricWarning: Precision and F-score are ill-defined and being set to 0.0 in labels with no predicted samples. Use `zero_division` parameter to control this behavior.\n",
            "  _warn_prf(average, modifier, msg_start, len(result))\n",
            "/usr/local/lib/python3.7/dist-packages/sklearn/metrics/_classification.py:1318: UndefinedMetricWarning: Recall and F-score are ill-defined and being set to 0.0 in samples with no true labels. Use `zero_division` parameter to control this behavior.\n",
            "  _warn_prf(average, modifier, msg_start, len(result))\n"
          ]
        }
      ]
    },
    {
      "cell_type": "code",
      "source": [
        "print(\n",
        "    classification_report(\n",
        "        y_entity_val, \n",
        "        prediction_by_heuristic(entity_probas, top_n=3),\n",
        "        target_names=ID2Entity)\n",
        ")"
      ],
      "metadata": {
        "id": "Pp3weCbWtmkd",
        "outputId": "704c9c49-e366-491b-9ace-eb170e47034c",
        "colab": {
          "base_uri": "https://localhost:8080/"
        }
      },
      "execution_count": 29,
      "outputs": [
        {
          "output_type": "stream",
          "name": "stderr",
          "text": [
            "/usr/local/lib/python3.7/dist-packages/sklearn/metrics/_classification.py:1318: UndefinedMetricWarning: Precision and F-score are ill-defined and being set to 0.0 in labels with no predicted samples. Use `zero_division` parameter to control this behavior.\n",
            "  _warn_prf(average, modifier, msg_start, len(result))\n"
          ]
        },
        {
          "output_type": "stream",
          "name": "stdout",
          "text": [
            "                     precision    recall  f1-score   support\n",
            "\n",
            "             person       0.04      0.95      0.08      1336\n",
            "           location       0.03      0.89      0.06      1007\n",
            "          videoname       0.04      0.78      0.08       797\n",
            "       organization       0.04      0.73      0.07       690\n",
            "             device       0.05      0.64      0.10       486\n",
            "              sport       0.09      0.64      0.15       376\n",
            "           duration       0.03      0.58      0.06       455\n",
            "             number       0.03      0.53      0.06       455\n",
            "              genre       0.08      0.54      0.13       339\n",
            "          sportteam       0.10      0.55      0.17       199\n",
            "           position       0.07      0.46      0.11       158\n",
            "              event       0.08      0.25      0.12       159\n",
            "softwareapplication       0.07      0.28      0.11       198\n",
            "            vehicle       0.08      0.42      0.13       116\n",
            "              party       0.17      0.21      0.18        34\n",
            "               year       0.14      0.07      0.09        75\n",
            "               date       0.12      0.28      0.17        83\n",
            "           gamename       0.20      0.03      0.05        33\n",
            "           songname       0.00      0.00      0.00         7\n",
            "           bookname       0.00      0.00      0.00         1\n",
            "\n",
            "          micro avg       0.04      0.70      0.08      7004\n",
            "          macro avg       0.07      0.44      0.10      7004\n",
            "       weighted avg       0.05      0.70      0.09      7004\n",
            "        samples avg       0.04      0.11      0.06      7004\n",
            "\n"
          ]
        },
        {
          "output_type": "stream",
          "name": "stderr",
          "text": [
            "/usr/local/lib/python3.7/dist-packages/sklearn/metrics/_classification.py:1318: UndefinedMetricWarning: Recall and F-score are ill-defined and being set to 0.0 in samples with no true labels. Use `zero_division` parameter to control this behavior.\n",
            "  _warn_prf(average, modifier, msg_start, len(result))\n"
          ]
        }
      ]
    },
    {
      "cell_type": "code",
      "source": [
        ""
      ],
      "metadata": {
        "id": "ZEWzwivJYJem"
      },
      "execution_count": 29,
      "outputs": []
    }
  ]
}