{
 "cells": [
  {
   "cell_type": "code",
   "execution_count": 338,
   "id": "e4ab1898-9088-46d0-9358-957d6d548fd2",
   "metadata": {},
   "outputs": [],
   "source": [
    "import json\n",
    "import re\n",
    "\n",
    "import matplotlib.pyplot as plt\n",
    "import numpy as np\n",
    "import pandas as pd\n",
    "pd.set_option('display.max_colwidth', 100)"
   ]
  },
  {
   "cell_type": "code",
   "execution_count": 95,
   "id": "c97b6b06-3844-4006-b1c4-ae3e2b9a7604",
   "metadata": {},
   "outputs": [],
   "source": [
    "with open('data/topicalchat_midas_cobot_entities.json', 'r') as f:\n",
    "    data = json.load(f)"
   ]
  },
  {
   "cell_type": "code",
   "execution_count": 5,
   "id": "22191729-a81a-4851-a165-845ce45c0b8a",
   "metadata": {},
   "outputs": [],
   "source": [
    "with open('data/topicalchat_midas_cobot_entities_.json', 'r') as f:\n",
    "    data_ = json.load(f)"
   ]
  },
  {
   "cell_type": "code",
   "execution_count": 6,
   "id": "35378dad-1bad-4d07-9741-fd94cde1b7ec",
   "metadata": {},
   "outputs": [
    {
     "data": {
      "text/plain": [
       "(8628, 8628)"
      ]
     },
     "execution_count": 6,
     "metadata": {},
     "output_type": "execute_result"
    }
   ],
   "source": [
    "len(data), len(data_)"
   ]
  },
  {
   "cell_type": "code",
   "execution_count": 251,
   "id": "8a5a42a3-446d-4caf-a00b-bb5e7cb334d1",
   "metadata": {},
   "outputs": [],
   "source": [
    "def split_utterance(ut: dict) -> tuple:\n",
    "    \"\"\" \n",
    "    if an utterance contains more than one sentence,\n",
    "    split it and align with MIDAS labels\n",
    "    \"\"\"\n",
    "    sents = re.split('(?<=[\\.\\?!])\\s', ut['text'], maxsplit=len(ut['midas_label'])-1)\n",
    "\n",
    "    if len(sents) != len(ut['midas_label']):\n",
    "        # for now, skip this category as it is not clear why they do not correspond\n",
    "        return list(), list()\n",
    "    \n",
    "    midas_labels = [max(labels, key=labels.get) for labels in ut['midas_label']]\n",
    "    \n",
    "    one_entity = list()\n",
    "    zero_entity = list()\n",
    "    \n",
    "    for sent, midas_label in zip(sents, midas_labels):\n",
    "        counter = 0\n",
    "        sentence_ents = []\n",
    "        \n",
    "        if 'message' not in ut['ner']:\n",
    "            for ent in ut['ner']['response']:\n",
    "                if ent['text'] in sent:\n",
    "                    sentence_ents.append(ent)\n",
    "                    counter = len(sentence_ents)\n",
    "                \n",
    "        if counter > 1:\n",
    "        # skip if an utterance has more than 1 entity\n",
    "            continue\n",
    "        \n",
    "        if counter == 0:\n",
    "            # if there are no entities, use only midas labels\n",
    "            zero_entity.append({\n",
    "                'text': sent,\n",
    "                'midas_label': midas_label})\n",
    "            continue\n",
    "\n",
    "        one_entity.append({\n",
    "            'text': sent.replace(sentence_ents[0]['text'], sentence_ents[0]['label'].upper()),\n",
    "            'midas_label': midas_label,\n",
    "            'entity': sentence_ents[0]})\n",
    "        \n",
    "    return one_entity, zero_entity"
   ]
  },
  {
   "cell_type": "code",
   "execution_count": 252,
   "id": "b2f44956-2352-46b8-8e11-cb93bffe3cf7",
   "metadata": {},
   "outputs": [],
   "source": [
    "one_entity_df = []\n",
    "zero_entity_df = []\n",
    "\n",
    "for idx in list(data_.keys()):\n",
    "    for ut in data_[idx]:\n",
    "        if 'message' in ut['ner'] or len(ut['ner']['response']) == 0:\n",
    "            # skip utterences that have no entities\n",
    "            _, zero_entity = split_utterance(ut)\n",
    "            zero_entity_df.extend(zero_entity)\n",
    "            continue\n",
    "        \n",
    "        if len(ut['midas_label']) == 1 and len(ut['ner']['response']) == 1:\n",
    "            # take those that have one sentence and one entity\n",
    "            one_entity_df.append(\n",
    "                {'text': ut['text'].replace(ut['ner']['response'][0]['text'], ut['ner']['response'][0]['label'].upper()),\n",
    "                'midas_label': max(ut['midas_label'][0], key=ut['midas_label'][0].get),\n",
    "                'entity': ut['ner']['response'][0]})\n",
    "            continue\n",
    "\n",
    "        if len(ut['midas_label']) > 1:\n",
    "            one_entity, zero_entity = split_utterance(ut)\n",
    "            zero_entity_df.extend(zero_entity)\n",
    "            one_entity_df.extend(one_entity)\n",
    "\n",
    "one_entity_df = pd.json_normalize(one_entity_df)\n",
    "zero_entity_df = pd.json_normalize(zero_entity_df)"
   ]
  },
  {
   "cell_type": "code",
   "execution_count": 253,
   "id": "e130a678-b0a3-4c97-a0ea-79cdad88aa3a",
   "metadata": {},
   "outputs": [
    {
     "data": {
      "text/html": [
       "<div>\n",
       "<style scoped>\n",
       "    .dataframe tbody tr th:only-of-type {\n",
       "        vertical-align: middle;\n",
       "    }\n",
       "\n",
       "    .dataframe tbody tr th {\n",
       "        vertical-align: top;\n",
       "    }\n",
       "\n",
       "    .dataframe thead th {\n",
       "        text-align: right;\n",
       "    }\n",
       "</style>\n",
       "<table border=\"1\" class=\"dataframe\">\n",
       "  <thead>\n",
       "    <tr style=\"text-align: right;\">\n",
       "      <th></th>\n",
       "      <th>text</th>\n",
       "      <th>midas_label</th>\n",
       "      <th>entity.text</th>\n",
       "      <th>entity.label</th>\n",
       "    </tr>\n",
       "  </thead>\n",
       "  <tbody>\n",
       "    <tr>\n",
       "      <th>0</th>\n",
       "      <td>Both are excellent MISC they are helpful in ma...</td>\n",
       "      <td>opinion</td>\n",
       "      <td>technology</td>\n",
       "      <td>misc</td>\n",
       "    </tr>\n",
       "    <tr>\n",
       "      <th>1</th>\n",
       "      <td>I think ANAPHOR are a monopoly in some sense.</td>\n",
       "      <td>opinion</td>\n",
       "      <td>they</td>\n",
       "      <td>anaphor</td>\n",
       "    </tr>\n",
       "    <tr>\n",
       "      <th>2</th>\n",
       "      <td>Yeah, ANAPHOR services are good.</td>\n",
       "      <td>comment</td>\n",
       "      <td>their</td>\n",
       "      <td>anaphor</td>\n",
       "    </tr>\n",
       "    <tr>\n",
       "      <th>3</th>\n",
       "      <td>By the way, do you like MISC?</td>\n",
       "      <td>yes_no_question</td>\n",
       "      <td>Fish</td>\n",
       "      <td>misc</td>\n",
       "    </tr>\n",
       "    <tr>\n",
       "      <th>4</th>\n",
       "      <td>MISC is the biggest part in the eco-system.</td>\n",
       "      <td>statement</td>\n",
       "      <td>Fish</td>\n",
       "      <td>misc</td>\n",
       "    </tr>\n",
       "  </tbody>\n",
       "</table>\n",
       "</div>"
      ],
      "text/plain": [
       "                                                text      midas_label  \\\n",
       "0  Both are excellent MISC they are helpful in ma...          opinion   \n",
       "1     I think ANAPHOR are a monopoly in some sense.           opinion   \n",
       "2                   Yeah, ANAPHOR services are good.          comment   \n",
       "3                     By the way, do you like MISC?   yes_no_question   \n",
       "4        MISC is the biggest part in the eco-system.        statement   \n",
       "\n",
       "  entity.text entity.label  \n",
       "0  technology         misc  \n",
       "1        they      anaphor  \n",
       "2       their      anaphor  \n",
       "3        Fish         misc  \n",
       "4        Fish         misc  "
      ]
     },
     "execution_count": 253,
     "metadata": {},
     "output_type": "execute_result"
    }
   ],
   "source": [
    "one_entity_df.head()"
   ]
  },
  {
   "cell_type": "code",
   "execution_count": 347,
   "id": "5f072849-a922-4672-adf1-c09fe1ba7211",
   "metadata": {},
   "outputs": [],
   "source": [
    "one_freq = one_entity_df.value_counts([\"midas_label\", \"entity.label\"]).reset_index()\n",
    "one_freq['category'] = one_freq[\"midas_label\"] + \"+\" + one_freq[\"entity.label\"]\n",
    "one_freq = one_freq.iloc[:, [3,2,0,1]].rename(columns = {0: \"counter\"})"
   ]
  },
  {
   "cell_type": "code",
   "execution_count": 348,
   "id": "35067a90-cb35-46d5-856b-ac6cc1a2a0da",
   "metadata": {},
   "outputs": [
    {
     "data": {
      "text/html": [
       "<div>\n",
       "<style scoped>\n",
       "    .dataframe tbody tr th:only-of-type {\n",
       "        vertical-align: middle;\n",
       "    }\n",
       "\n",
       "    .dataframe tbody tr th {\n",
       "        vertical-align: top;\n",
       "    }\n",
       "\n",
       "    .dataframe thead th {\n",
       "        text-align: right;\n",
       "    }\n",
       "</style>\n",
       "<table border=\"1\" class=\"dataframe\">\n",
       "  <thead>\n",
       "    <tr style=\"text-align: right;\">\n",
       "      <th></th>\n",
       "      <th>category</th>\n",
       "      <th>counter</th>\n",
       "      <th>midas_label</th>\n",
       "      <th>entity.label</th>\n",
       "    </tr>\n",
       "  </thead>\n",
       "  <tbody>\n",
       "    <tr>\n",
       "      <th>0</th>\n",
       "      <td>opinion+misc</td>\n",
       "      <td>16112</td>\n",
       "      <td>opinion</td>\n",
       "      <td>misc</td>\n",
       "    </tr>\n",
       "    <tr>\n",
       "      <th>1</th>\n",
       "      <td>opinion+anaphor</td>\n",
       "      <td>11524</td>\n",
       "      <td>opinion</td>\n",
       "      <td>anaphor</td>\n",
       "    </tr>\n",
       "    <tr>\n",
       "      <th>2</th>\n",
       "      <td>statement+misc</td>\n",
       "      <td>9599</td>\n",
       "      <td>statement</td>\n",
       "      <td>misc</td>\n",
       "    </tr>\n",
       "    <tr>\n",
       "      <th>3</th>\n",
       "      <td>statement+anaphor</td>\n",
       "      <td>5983</td>\n",
       "      <td>statement</td>\n",
       "      <td>anaphor</td>\n",
       "    </tr>\n",
       "    <tr>\n",
       "      <th>4</th>\n",
       "      <td>yes_no_question+misc</td>\n",
       "      <td>5459</td>\n",
       "      <td>yes_no_question</td>\n",
       "      <td>misc</td>\n",
       "    </tr>\n",
       "  </tbody>\n",
       "</table>\n",
       "</div>"
      ],
      "text/plain": [
       "               category  counter      midas_label entity.label\n",
       "0          opinion+misc    16112          opinion         misc\n",
       "1       opinion+anaphor    11524          opinion      anaphor\n",
       "2        statement+misc     9599        statement         misc\n",
       "3     statement+anaphor     5983        statement      anaphor\n",
       "4  yes_no_question+misc     5459  yes_no_question         misc"
      ]
     },
     "execution_count": 348,
     "metadata": {},
     "output_type": "execute_result"
    }
   ],
   "source": [
    "one_freq.head()"
   ]
  },
  {
   "cell_type": "code",
   "execution_count": 368,
   "id": "31638a21-a4d6-48ea-a643-df788095efc2",
   "metadata": {},
   "outputs": [
    {
     "data": {
      "image/png": "[encoded data removed]",
      "text/plain": [
       "<Figure size 1080x720 with 1 Axes>"
      ]
     },
     "metadata": {
      "needs_background": "light"
     },
     "output_type": "display_data"
    }
   ],
   "source": [
    "#defining the threshold \n",
    "df = one_freq[one_freq['entity.label'] != 'misc'].iloc[:, [0,1]]\n",
    "threshold = 200\n",
    "mask = df['counter'] < threshold\n",
    "df1 = df[~mask].copy()\n",
    "df1.loc[df.shape[0]+1] = df.loc[mask, 'counter'].sum()\n",
    "\n",
    "labels = df1.category.tolist()\n",
    "labels[-1] = 'other'\n",
    "y_pos = np.arange(len(labels))\n",
    "counter = df1.counter.tolist()\n",
    "\n",
    "plt.figure(figsize=(15,10))\n",
    "plt.barh(y_pos, counter, align='center', alpha=0.5)\n",
    "plt.yticks(y_pos, labels)\n",
    "plt.gca().invert_yaxis()\n",
    "plt.title('MIDAS LABEL + ENTITY CATEGORY frequency (excl. MISC)')\n",
    "plt.savefig(\"img/groupings.png\")"
   ]
  },
  {
   "cell_type": "code",
   "execution_count": 388,
   "id": "3e704f51-0d82-4380-99b3-2d05e4781468",
   "metadata": {},
   "outputs": [
    {
     "data": {
      "image/png": "[encoded data removed]",
      "text/plain": [
       "<Figure size 432x288 with 1 Axes>"
      ]
     },
     "metadata": {
      "needs_background": "light"
     },
     "output_type": "display_data"
    }
   ],
   "source": [
    "zero_freq = zero_entity_df.value_counts([\"midas_label\"]).reset_index().rename(columns = {0: \"counter\"})\n",
    "fig, ax = plt.subplots()\n",
    "# hide axes\n",
    "fig.patch.set_visible(False)\n",
    "ax.axis('off')\n",
    "ax.axis('tight')\n",
    "ax.table(cellText=zero_freq.values, colLabels=zero_freq.columns, loc='center')\n",
    "fig.tight_layout()\n",
    "plt.savefig(\"img/zero_ent_by_midas.png\")"
   ]
  },
  {
   "cell_type": "code",
   "execution_count": 342,
   "id": "1b55c91b-4bdd-4518-82f9-369cc8e7a37b",
   "metadata": {},
   "outputs": [
    {
     "data": {
      "text/html": [
       "<div>\n",
       "<style scoped>\n",
       "    .dataframe tbody tr th:only-of-type {\n",
       "        vertical-align: middle;\n",
       "    }\n",
       "\n",
       "    .dataframe tbody tr th {\n",
       "        vertical-align: top;\n",
       "    }\n",
       "\n",
       "    .dataframe thead th {\n",
       "        text-align: right;\n",
       "    }\n",
       "</style>\n",
       "<table border=\"1\" class=\"dataframe\">\n",
       "  <thead>\n",
       "    <tr style=\"text-align: right;\">\n",
       "      <th></th>\n",
       "      <th>text</th>\n",
       "      <th>midas_label</th>\n",
       "    </tr>\n",
       "  </thead>\n",
       "  <tbody>\n",
       "    <tr>\n",
       "      <th>168</th>\n",
       "      <td>DId you know that?</td>\n",
       "      <td>yes_no_question</td>\n",
       "    </tr>\n",
       "    <tr>\n",
       "      <th>173</th>\n",
       "      <td>Do you have any now?</td>\n",
       "      <td>yes_no_question</td>\n",
       "    </tr>\n",
       "    <tr>\n",
       "      <th>202</th>\n",
       "      <td>Do you?</td>\n",
       "      <td>yes_no_question</td>\n",
       "    </tr>\n",
       "    <tr>\n",
       "      <th>316</th>\n",
       "      <td>Do they really?</td>\n",
       "      <td>yes_no_question</td>\n",
       "    </tr>\n",
       "    <tr>\n",
       "      <th>344</th>\n",
       "      <td>Do you know what the 'candy desk' tradition is about?</td>\n",
       "      <td>yes_no_question</td>\n",
       "    </tr>\n",
       "    <tr>\n",
       "      <th>...</th>\n",
       "      <td>...</td>\n",
       "      <td>...</td>\n",
       "    </tr>\n",
       "    <tr>\n",
       "      <th>116409</th>\n",
       "      <td>Do you play?</td>\n",
       "      <td>yes_no_question</td>\n",
       "    </tr>\n",
       "    <tr>\n",
       "      <th>116429</th>\n",
       "      <td>You?</td>\n",
       "      <td>yes_no_question</td>\n",
       "    </tr>\n",
       "    <tr>\n",
       "      <th>116561</th>\n",
       "      <td>Yeah isn't that just crazy how many there are?</td>\n",
       "      <td>yes_no_question</td>\n",
       "    </tr>\n",
       "    <tr>\n",
       "      <th>116624</th>\n",
       "      <td>Do you enjoy any in particular?</td>\n",
       "      <td>yes_no_question</td>\n",
       "    </tr>\n",
       "    <tr>\n",
       "      <th>116639</th>\n",
       "      <td>Do you?</td>\n",
       "      <td>yes_no_question</td>\n",
       "    </tr>\n",
       "  </tbody>\n",
       "</table>\n",
       "<p>3764 rows × 2 columns</p>\n",
       "</div>"
      ],
      "text/plain": [
       "                                                          text      midas_label\n",
       "168                                         DId you know that?  yes_no_question\n",
       "173                                       Do you have any now?  yes_no_question\n",
       "202                                                    Do you?  yes_no_question\n",
       "316                                            Do they really?  yes_no_question\n",
       "344      Do you know what the 'candy desk' tradition is about?  yes_no_question\n",
       "...                                                        ...              ...\n",
       "116409                                            Do you play?  yes_no_question\n",
       "116429                                                    You?  yes_no_question\n",
       "116561          Yeah isn't that just crazy how many there are?  yes_no_question\n",
       "116624                         Do you enjoy any in particular?  yes_no_question\n",
       "116639                                                 Do you?  yes_no_question\n",
       "\n",
       "[3764 rows x 2 columns]"
      ]
     },
     "execution_count": 342,
     "metadata": {},
     "output_type": "execute_result"
    }
   ],
   "source": [
    "zero_entity_df[zero_entity_df.midas_label == 'yes_no_question']"
   ]
  },
  {
   "cell_type": "code",
   "execution_count": 363,
   "id": "27e298de-c96a-498b-8e1f-413344d49169",
   "metadata": {},
   "outputs": [],
   "source": [
    "result = one_entity_df.to_json(orient=\"records\")\n",
    "parsed = json.loads(result)  \n",
    "\n",
    "one_entitiy_dataset = {}\n",
    "\n",
    "for sample in parsed:\n",
    "    category = sample['midas_label'] + \"__\" + sample['entity.label']\n",
    "    \n",
    "    if category not in one_entitiy_dataset:\n",
    "        one_entitiy_dataset[category] = [sample['text'].strip()]\n",
    "    else:\n",
    "        one_entitiy_dataset[category].append(sample['text'].strip())\n",
    "        \n",
    "with open('data/one_entity.json', 'w', encoding='utf-8') as f:\n",
    "    json.dump(one_entitiy_dataset, f, ensure_ascii=False, indent=4)"
   ]
  },
  {
   "cell_type": "code",
   "execution_count": 365,
   "id": "27defe04-59c5-42fa-b714-ddf7d48cdcb3",
   "metadata": {},
   "outputs": [],
   "source": [
    "result = zero_entity_df.to_json(orient=\"records\")\n",
    "parsed = json.loads(result)\n",
    "\n",
    "zero_entitiy_dataset = {}\n",
    "\n",
    "for sample in parsed:\n",
    "    if sample['midas_label'] not in zero_entitiy_dataset:\n",
    "        zero_entitiy_dataset[sample['midas_label']] = [sample['text'].strip()]\n",
    "    else:\n",
    "        zero_entitiy_dataset[sample['midas_label']].append(sample['text'].strip())\n",
    "        \n",
    "with open('data/zero_entity.json', 'w', encoding='utf-8') as f:\n",
    "    json.dump(zero_entitiy_dataset, f, ensure_ascii=False, indent=4)"
   ]
  },
  {
   "cell_type": "code",
   "execution_count": null,
   "id": "0fea6ba2-678c-416a-a908-098cb373e082",
   "metadata": {},
   "outputs": [],
   "source": []
  }
 ],
 "metadata": {
  "kernelspec": {
   "display_name": "Python 3 (ipykernel)",
   "language": "python",
   "name": "python3"
  },
  "language_info": {
   "codemirror_mode": {
    "name": "ipython",
    "version": 3
   },
   "file_extension": ".py",
   "mimetype": "text/x-python",
   "name": "python",
   "nbconvert_exporter": "python",
   "pygments_lexer": "ipython3",
   "version": "3.8.2"
  }
 },
 "nbformat": 4,
 "nbformat_minor": 5
}
