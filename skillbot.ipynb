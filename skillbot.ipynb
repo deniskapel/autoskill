{
 "cells": [
  {
   "cell_type": "code",
   "execution_count": 33,
   "id": "21d099ca-6007-4220-87ee-a5743b2f41ab",
   "metadata": {},
   "outputs": [],
   "source": [
    "import json\n",
    "import random\n",
    "\n",
    "from collections import Counter\n",
    "\n",
    "import pandas as pd\n",
    "from sklearn.model_selection import train_test_split\n",
    "\n",
    "from utils.data2seq import Dial2seq, SequencePreprocessor"
   ]
  },
  {
   "cell_type": "markdown",
   "id": "58f5d5b4-abe4-4b37-9960-80a89c5f37e0",
   "metadata": {},
   "source": [
    "## Merging TC and DD and splitting them into train, val and test"
   ]
  },
  {
   "cell_type": "code",
   "execution_count": 7,
   "id": "047d07f0-5692-4b47-a83b-460d78152334",
   "metadata": {},
   "outputs": [],
   "source": [
    "topical_sequencer = Dial2seq('data/topical_chat_annotated.json', 3)\n",
    "daily_sequencer = Dial2seq('data/daily_dialogue_annotated.json', 3)"
   ]
  },
  {
   "cell_type": "code",
   "execution_count": 9,
   "id": "0339f1a5-636b-433a-85c8-a0efe4999489",
   "metadata": {},
   "outputs": [],
   "source": [
    "daily = daily_sequencer.transform()\n",
    "topical = topical_sequencer.transform()"
   ]
  },
  {
   "cell_type": "code",
   "execution_count": 10,
   "id": "f4d00878-8cda-4a8b-8b72-233f24df5197",
   "metadata": {},
   "outputs": [],
   "source": [
    "daily_preproc = SequencePreprocessor()"
   ]
  },
  {
   "cell_type": "code",
   "execution_count": 11,
   "id": "6a84b2fc-c36e-44db-94d6-be38598238fb",
   "metadata": {},
   "outputs": [
    {
     "data": {
      "text/plain": [
       "29656"
      ]
     },
     "execution_count": 11,
     "metadata": {},
     "output_type": "execute_result"
    }
   ],
   "source": [
    "daily_dataset = daily_preproc.transform(daily)\n",
    "len(daily_dataset)"
   ]
  },
  {
   "cell_type": "code",
   "execution_count": 14,
   "id": "cebeb32b-3f23-459f-9452-92497f31cc6a",
   "metadata": {},
   "outputs": [
    {
     "data": {
      "text/plain": [
       "84140"
      ]
     },
     "execution_count": 14,
     "metadata": {},
     "output_type": "execute_result"
    }
   ],
   "source": [
    "topical_preproc = SequencePreprocessor()\n",
    "topical_dataset = topical_preproc.transform(topical)\n",
    "len(topical_dataset)"
   ]
  },
  {
   "cell_type": "code",
   "execution_count": 15,
   "id": "a0956648-c2a7-410c-bef3-31385518ccc0",
   "metadata": {},
   "outputs": [],
   "source": [
    "midas_dataset = list()\n",
    "midas_entity_dataset = list()\n",
    "\n",
    "for sample in daily_dataset:\n",
    "    # if there is no annotated entity, add it to midas dataset\n",
    "    if not sample['predict']['entity']['label']:\n",
    "        midas_dataset.append(sample)\n",
    "    else:\n",
    "        midas_entity_dataset.append(sample)\n",
    "\n",
    "for sample in topical_dataset:\n",
    "    # if there is no annotated entity, add it to midas dataset\n",
    "    if not sample['predict']['entity']['label']:\n",
    "        midas_dataset.append(sample)\n",
    "    else:\n",
    "        midas_entity_dataset.append(sample)"
   ]
  },
  {
   "cell_type": "code",
   "execution_count": 16,
   "id": "f5d9917b-271d-47b4-b2ea-7a24894a9bce",
   "metadata": {},
   "outputs": [
    {
     "data": {
      "text/plain": [
       "(101327, 12469)"
      ]
     },
     "execution_count": 16,
     "metadata": {},
     "output_type": "execute_result"
    }
   ],
   "source": [
    "len(midas_dataset), len(midas_entity_dataset)"
   ]
  },
  {
   "cell_type": "code",
   "execution_count": 35,
   "id": "14e7c9e8-525d-42b3-a027-d37ec4009f43",
   "metadata": {},
   "outputs": [],
   "source": [
    "random.Random(42).shuffle(midas_entity_dataset)"
   ]
  },
  {
   "cell_type": "code",
   "execution_count": 36,
   "id": "17862695-1e63-45be-93ff-e0cb0767c842",
   "metadata": {},
   "outputs": [],
   "source": [
    "train, val_test = train_test_split(midas_entity_dataset, test_size=0.2, random_state=42)\n",
    "val, test = train_test_split(val_test, test_size=0.5, random_state=42)"
   ]
  },
  {
   "cell_type": "code",
   "execution_count": 62,
   "id": "3face3be-2aa1-4b83-976a-50cbffa8ec74",
   "metadata": {},
   "outputs": [],
   "source": [
    "%%bash\n",
    "mkdir data/annotated"
   ]
  },
  {
   "cell_type": "code",
   "execution_count": 63,
   "id": "b805a9fb-8a08-4902-b509-20bca484ca99",
   "metadata": {},
   "outputs": [],
   "source": [
    "with open('data/annotated/train.json', 'w', encoding='utf-8') as f:\n",
    "    json.dump(train, f, ensure_ascii=False, indent=2)\n",
    "    \n",
    "with open('data/annotated/val.json', 'w', encoding='utf-8') as f:\n",
    "    json.dump(val, f, ensure_ascii=False, indent=2)\n",
    "    \n",
    "with open('data/annotated/test.json', 'w', encoding='utf-8') as f:\n",
    "    json.dump(test, f, ensure_ascii=False, indent=2)"
   ]
  },
  {
   "cell_type": "markdown",
   "id": "4cc92454-bbce-4729-a26c-38768297f144",
   "metadata": {},
   "source": [
    "## Stats for train/val/test"
   ]
  },
  {
   "cell_type": "code",
   "execution_count": 37,
   "id": "ba3c5757-9ab8-4192-ac29-e23e963224a5",
   "metadata": {},
   "outputs": [],
   "source": [
    "target_train = [sample['predict'] for sample in train]\n",
    "target_val = [sample['predict'] for sample in val]\n",
    "target_test = [sample['predict'] for sample in test]"
   ]
  },
  {
   "cell_type": "code",
   "execution_count": 38,
   "id": "51701e88-a588-4474-9364-7ade8802a0d5",
   "metadata": {},
   "outputs": [],
   "source": [
    "target_train = pd.json_normalize(target_train)\n",
    "target_val = pd.json_normalize(target_val)\n",
    "target_test = pd.json_normalize(target_test)"
   ]
  },
  {
   "cell_type": "markdown",
   "id": "04618a47-6d5c-42a5-8256-13f96bea9fde",
   "metadata": {},
   "source": [
    "### Midas stats"
   ]
  },
  {
   "cell_type": "code",
   "execution_count": 39,
   "id": "09a0c709-bd2e-4852-ac2f-c883a9bb374a",
   "metadata": {},
   "outputs": [
    {
     "data": {
      "text/plain": [
       "opinion                  4048\n",
       "statement                4013\n",
       "yes_no_question           875\n",
       "pos_answer                254\n",
       "comment                   176\n",
       "command                   168\n",
       "open_question_factual     162\n",
       "open_question_opinion     152\n",
       "neg_answer                 82\n",
       "complaint                  24\n",
       "dev_command                10\n",
       "appreciation                8\n",
       "other_answers               3\n",
       "Name: midas, dtype: int64"
      ]
     },
     "execution_count": 39,
     "metadata": {},
     "output_type": "execute_result"
    }
   ],
   "source": [
    "target_train['midas'].value_counts()"
   ]
  },
  {
   "cell_type": "code",
   "execution_count": 40,
   "id": "bb8f7e81-42c5-4941-a986-e4767b8833d1",
   "metadata": {},
   "outputs": [
    {
     "data": {
      "text/plain": [
       "statement                503\n",
       "opinion                  502\n",
       "yes_no_question          106\n",
       "open_question_opinion     27\n",
       "pos_answer                26\n",
       "command                   26\n",
       "comment                   23\n",
       "open_question_factual     18\n",
       "neg_answer                 8\n",
       "complaint                  6\n",
       "dev_command                2\n",
       "Name: midas, dtype: int64"
      ]
     },
     "execution_count": 40,
     "metadata": {},
     "output_type": "execute_result"
    }
   ],
   "source": [
    "target_val['midas'].value_counts()"
   ]
  },
  {
   "cell_type": "code",
   "execution_count": 41,
   "id": "f55888d5-5547-43ed-83c1-1ceba0fa8062",
   "metadata": {},
   "outputs": [
    {
     "data": {
      "text/plain": [
       "statement                519\n",
       "opinion                  501\n",
       "yes_no_question           88\n",
       "pos_answer                36\n",
       "open_question_factual     30\n",
       "comment                   23\n",
       "open_question_opinion     21\n",
       "command                   18\n",
       "neg_answer                 5\n",
       "complaint                  5\n",
       "dev_command                1\n",
       "Name: midas, dtype: int64"
      ]
     },
     "execution_count": 41,
     "metadata": {},
     "output_type": "execute_result"
    }
   ],
   "source": [
    "target_test['midas'].value_counts()"
   ]
  },
  {
   "cell_type": "markdown",
   "id": "15bc9199-35df-46b6-a9ae-a8317e0e80d7",
   "metadata": {},
   "source": [
    "**validate that all midas labels from val and test are present in train**"
   ]
  },
  {
   "cell_type": "code",
   "execution_count": 58,
   "id": "17ab5d42-0159-44ef-9d69-89368dc9c233",
   "metadata": {},
   "outputs": [
    {
     "data": {
      "text/plain": [
       "set()"
      ]
     },
     "execution_count": 58,
     "metadata": {},
     "output_type": "execute_result"
    }
   ],
   "source": [
    "set(target_val['midas'].value_counts().index.tolist()) -set(target_train['midas'].value_counts().index.tolist())"
   ]
  },
  {
   "cell_type": "code",
   "execution_count": 59,
   "id": "d408e40e-9e84-4fdb-8a8d-841ec65944a3",
   "metadata": {},
   "outputs": [
    {
     "data": {
      "text/plain": [
       "set()"
      ]
     },
     "execution_count": 59,
     "metadata": {},
     "output_type": "execute_result"
    }
   ],
   "source": [
    "set(target_test['midas'].value_counts().index.tolist()) - set(target_train['midas'].value_counts().index.tolist())"
   ]
  },
  {
   "cell_type": "markdown",
   "id": "dc782169-f0f4-4a9a-89e4-0d6d895e3579",
   "metadata": {},
   "source": [
    "### Entity stats"
   ]
  },
  {
   "cell_type": "code",
   "execution_count": 44,
   "id": "dbeaff61-15dd-4db8-b113-99be882b6ec7",
   "metadata": {},
   "outputs": [
    {
     "data": {
      "text/plain": [
       "person                 2254\n",
       "videoname              1517\n",
       "location               1137\n",
       "organization            825\n",
       "device                  645\n",
       "duration                634\n",
       "genre                   541\n",
       "sport                   508\n",
       "number                  464\n",
       "sportteam               370\n",
       "softwareapplication     315\n",
       "vehicle                 165\n",
       "event                   143\n",
       "position                130\n",
       "date                    130\n",
       "year                     88\n",
       "gamename                 55\n",
       "party                    40\n",
       "bookname                 10\n",
       "songname                  4\n",
       "Name: entity.label, dtype: int64"
      ]
     },
     "execution_count": 44,
     "metadata": {},
     "output_type": "execute_result"
    }
   ],
   "source": [
    "target_train['entity.label'].value_counts()"
   ]
  },
  {
   "cell_type": "code",
   "execution_count": 43,
   "id": "3877a4b4-2234-4f6b-b4e8-41a67863ce36",
   "metadata": {},
   "outputs": [
    {
     "data": {
      "text/plain": [
       "person                 281\n",
       "videoname              206\n",
       "location               140\n",
       "organization            98\n",
       "device                  78\n",
       "duration                77\n",
       "genre                   73\n",
       "sport                   62\n",
       "number                  56\n",
       "sportteam               54\n",
       "softwareapplication     34\n",
       "event                   24\n",
       "vehicle                 17\n",
       "position                15\n",
       "date                    15\n",
       "year                    10\n",
       "gamename                 5\n",
       "party                    2\n",
       "Name: entity.label, dtype: int64"
      ]
     },
     "execution_count": 43,
     "metadata": {},
     "output_type": "execute_result"
    }
   ],
   "source": [
    "target_val['entity.label'].value_counts()"
   ]
  },
  {
   "cell_type": "code",
   "execution_count": 45,
   "id": "00db3f68-24a1-4265-986a-56ffefa6e036",
   "metadata": {},
   "outputs": [
    {
     "data": {
      "text/plain": [
       "person                 295\n",
       "videoname              176\n",
       "location               145\n",
       "organization            86\n",
       "device                  84\n",
       "genre                   77\n",
       "duration                77\n",
       "number                  61\n",
       "sport                   61\n",
       "sportteam               43\n",
       "softwareapplication     42\n",
       "vehicle                 25\n",
       "event                   23\n",
       "position                16\n",
       "date                    15\n",
       "year                     8\n",
       "gamename                 7\n",
       "party                    5\n",
       "bookname                 1\n",
       "Name: entity.label, dtype: int64"
      ]
     },
     "execution_count": 45,
     "metadata": {},
     "output_type": "execute_result"
    }
   ],
   "source": [
    "target_test['entity.label'].value_counts()"
   ]
  },
  {
   "cell_type": "code",
   "execution_count": 48,
   "id": "09e10a0f-16d3-4196-b588-e5b43141cb79",
   "metadata": {},
   "outputs": [
    {
     "data": {
      "text/plain": [
       "person                 2254\n",
       "videoname              1517\n",
       "location               1137\n",
       "organization            825\n",
       "device                  645\n",
       "duration                634\n",
       "genre                   541\n",
       "sport                   508\n",
       "number                  464\n",
       "sportteam               370\n",
       "softwareapplication     315\n",
       "vehicle                 165\n",
       "event                   143\n",
       "position                130\n",
       "date                    130\n",
       "year                     88\n",
       "gamename                 55\n",
       "party                    40\n",
       "bookname                 10\n",
       "songname                  4\n",
       "Name: entity.label, dtype: int64"
      ]
     },
     "execution_count": 48,
     "metadata": {},
     "output_type": "execute_result"
    }
   ],
   "source": [
    "target_train['entity.label'].value_counts()"
   ]
  },
  {
   "cell_type": "markdown",
   "id": "b8e9d516-42ec-4491-87dd-2a00cf554dc6",
   "metadata": {},
   "source": [
    "**validate that all entities from val and test are present in train**"
   ]
  },
  {
   "cell_type": "code",
   "execution_count": 56,
   "id": "3139ffbe-a161-4d07-afd2-c67d2ff17a9a",
   "metadata": {},
   "outputs": [
    {
     "data": {
      "text/plain": [
       "set()"
      ]
     },
     "execution_count": 56,
     "metadata": {},
     "output_type": "execute_result"
    }
   ],
   "source": [
    "set(target_val['entity.label'].value_counts().index.tolist()) -set(target_train['entity.label'].value_counts().index.tolist())"
   ]
  },
  {
   "cell_type": "code",
   "execution_count": 57,
   "id": "6823536d-4f12-440c-893c-6531c03438a6",
   "metadata": {},
   "outputs": [
    {
     "data": {
      "text/plain": [
       "set()"
      ]
     },
     "execution_count": 57,
     "metadata": {},
     "output_type": "execute_result"
    }
   ],
   "source": [
    "set(target_test['entity.label'].value_counts().index.tolist()) -set(target_train['entity.label'].value_counts().index.tolist())"
   ]
  },
  {
   "cell_type": "code",
   "execution_count": null,
   "id": "d8f992ca-26a0-466f-88bf-71d7df0f93a1",
   "metadata": {},
   "outputs": [],
   "source": []
  }
 ],
 "metadata": {
  "kernelspec": {
   "display_name": "Python 3 (ipykernel)",
   "language": "python",
   "name": "python3"
  },
  "language_info": {
   "codemirror_mode": {
    "name": "ipython",
    "version": 3
   },
   "file_extension": ".py",
   "mimetype": "text/x-python",
   "name": "python",
   "nbconvert_exporter": "python",
   "pygments_lexer": "ipython3",
   "version": "3.8.2"
  }
 },
 "nbformat": 4,
 "nbformat_minor": 5
}
