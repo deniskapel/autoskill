{
 "cells": [
  {
   "cell_type": "code",
   "execution_count": 1,
   "id": "d7407b7f-6925-4b80-8041-5a14a5934e3e",
   "metadata": {},
   "outputs": [],
   "source": [
    "import json\n",
    "from collections import Counter\n",
    "\n",
    "import numpy as np\n",
    "from nltk.tokenize import sent_tokenize\n",
    "\n",
    "from utils.data2seq import Dial2seq, SequencePreprocessor"
   ]
  },
  {
   "cell_type": "code",
   "execution_count": 2,
   "id": "42c3b9d6-9dda-40c5-aba7-4c608b02ec12",
   "metadata": {},
   "outputs": [],
   "source": [
    "sequencer = Dial2seq('data/topicalchat_midas_cobot_entities_.json', 3)"
   ]
  },
  {
   "cell_type": "code",
   "execution_count": 3,
   "id": "23235657-03bd-4818-9ebe-aab09a1f58df",
   "metadata": {},
   "outputs": [],
   "source": [
    "seqs = sequencer.transform()"
   ]
  },
  {
   "cell_type": "code",
   "execution_count": 4,
   "id": "ff77dac1-4a55-4415-9496-a184d8745c01",
   "metadata": {},
   "outputs": [
    {
     "data": {
      "text/plain": [
       "162494"
      ]
     },
     "execution_count": 4,
     "metadata": {},
     "output_type": "execute_result"
    }
   ],
   "source": [
    "len(seqs)"
   ]
  },
  {
   "cell_type": "code",
   "execution_count": 5,
   "id": "e4ab3e33-ac71-4260-be52-09dad5a65993",
   "metadata": {},
   "outputs": [
    {
     "name": "stdout",
     "output_type": "stream",
     "text": [
      "organization \n",
      "\n",
      "anaphor \n",
      "\n",
      "organization \n",
      "\n"
     ]
    }
   ],
   "source": [
    "for seq in seqs[0:3]:\n",
    "    print(seq[-1]['ner']['response'][0]['label'], '\\n')"
   ]
  },
  {
   "cell_type": "code",
   "execution_count": 6,
   "id": "3d119ce2-45f6-4352-a2ac-d3aed5e99515",
   "metadata": {},
   "outputs": [],
   "source": [
    "preproc = SequencePreprocessor()"
   ]
  },
  {
   "cell_type": "code",
   "execution_count": 7,
   "id": "2e9303b1-4c5f-4ea6-8818-732995e3c1f0",
   "metadata": {},
   "outputs": [
    {
     "name": "stdout",
     "output_type": "stream",
     "text": [
      "{'previous_text': ['Yes it helped him smooth out his dance moves', 'Nice. Do you like Shakespeare?', 'Yes I do. Do you know that he popularized many phrases'], 'previous_midas': [['pos_answer'], ['comment', 'yes_no_question'], ['pos_answer', 'yes_no_question']], 'midas_vectors': [[[0.004489609505981207, 0.005659966263920069, 0.008467592298984528, 0.001957598840817809, 0.0032978374511003494, 0.0016933480510488153, 0.0015114849666133523, 0.001163744367659092, 0.011162664741277695, 0.002088370034471154, 0.8511312007904053, 0.10295984894037247, 0.004416705574840307]], [[0.33323583006858826, 0.0063044424168765545, 0.46820133924484253, 0.007547429762780666, 0.014540870673954487, 0.0016343685565516353, 0.003681134432554245, 0.0049273851327598095, 0.0934942215681076, 0.006875962950289249, 0.016408585011959076, 0.037494078278541565, 0.005654338281601667], [0.005343989469110966, 0.03268001973628998, 0.00530182896181941, 0.008314643055200577, 0.018734272569417953, 0.004701630212366581, 0.006959056947380304, 0.008828757330775261, 0.0016554039902985096, 0.00332073075696826, 0.017133507877588272, 0.004320445004850626, 0.8827057480812073]], [[0.0009711685124784708, 0.0010004272917285562, 0.0009106132201850414, 0.0003361883573234081, 0.0006613716832362115, 0.0012890041107311845, 0.00037702909321524203, 0.0003877524577546865, 0.000794330146163702, 0.0006375772063620389, 0.9901092052459717, 0.0018491200171411037, 0.0006762912380509079], [0.006708336994051933, 0.09151925891637802, 0.006718905176967382, 0.018919171765446663, 0.027768371626734734, 0.007621275261044502, 0.010829552076756954, 0.009083186276257038, 0.001821781974285841, 0.004542238544672728, 0.03815639764070511, 0.019157307222485542, 0.7571542263031006]]], 'previous_entities': [[{'text': 'it', 'label': 'anaphor'}, {'text': 'him', 'label': 'anaphor'}, {'text': 'dance moves', 'label': 'misc'}], [{'text': 'Shakespeare', 'label': 'person'}], [{'text': 'he', 'label': 'anaphor'}]], 'predict': {'text': 'Yes like good riddance, in my heart of hearts and such', 'midas': 'opinion', 'entity': {'text': 'good riddance', 'label': 'videoname'}}} \n",
      "\n"
     ]
    }
   ],
   "source": [
    "for seq in preproc.transform(seqs[0:50]):\n",
    "    print(seq, '\\n')"
   ]
  },
  {
   "cell_type": "code",
   "execution_count": 8,
   "id": "e17aaf5b-daad-4fac-901f-8aabcc7322f0",
   "metadata": {
    "tags": []
   },
   "outputs": [
    {
     "data": {
      "text/plain": [
       "10565"
      ]
     },
     "execution_count": 8,
     "metadata": {},
     "output_type": "execute_result"
    }
   ],
   "source": [
    "dataset = preproc.transform(seqs)\n",
    "len(dataset)"
   ]
  },
  {
   "cell_type": "code",
   "execution_count": 9,
   "id": "a4fd1792-42ef-4d97-a80b-590c35db233d",
   "metadata": {
    "tags": []
   },
   "outputs": [
    {
     "data": {
      "text/plain": [
       "[('opinion', 4855),\n",
       " ('statement', 3256),\n",
       " ('yes_no_question', 1355),\n",
       " ('comment', 335),\n",
       " ('open_question_opinion', 215),\n",
       " ('pos_answer', 200),\n",
       " ('open_question_factual', 170),\n",
       " ('command', 87),\n",
       " ('neg_answer', 53),\n",
       " ('complaint', 22),\n",
       " ('dev_command', 8),\n",
       " ('appreciation', 6),\n",
       " ('other_answers', 4)]"
      ]
     },
     "execution_count": 9,
     "metadata": {},
     "output_type": "execute_result"
    }
   ],
   "source": [
    "preproc.midas_target.most_common()"
   ]
  },
  {
   "cell_type": "code",
   "execution_count": 10,
   "id": "3fbdb4b4-8867-4932-b00b-6537557f0da3",
   "metadata": {},
   "outputs": [
    {
     "data": {
      "text/plain": [
       "[('person', 2516),\n",
       " ('videoname', 1625),\n",
       " ('location', 1016),\n",
       " ('device', 976),\n",
       " ('organization', 833),\n",
       " ('genre', 638),\n",
       " ('sport', 467),\n",
       " ('number', 408),\n",
       " ('softwareapplication', 376),\n",
       " ('sportteam', 374),\n",
       " ('duration', 281),\n",
       " ('year', 195),\n",
       " ('position', 156),\n",
       " ('event', 128),\n",
       " ('vehicle', 127),\n",
       " ('date', 105),\n",
       " ('gamename', 99),\n",
       " ('wear', 76),\n",
       " ('channelname', 49),\n",
       " ('sportrole', 49),\n",
       " ('songname', 33),\n",
       " ('party', 29),\n",
       " ('bookname', 8),\n",
       " ('venue', 1),\n",
       " ('ordinal', 1)]"
      ]
     },
     "execution_count": 10,
     "metadata": {},
     "output_type": "execute_result"
    }
   ],
   "source": [
    "preproc.entity_target.most_common()"
   ]
  },
  {
   "cell_type": "code",
   "execution_count": 11,
   "id": "011c3998-54a0-4720-8804-24ba96d28523",
   "metadata": {},
   "outputs": [
    {
     "data": {
      "text/plain": [
       "[('opinion_person', 1270),\n",
       " ('opinion_videoname', 775),\n",
       " ('statement_person', 658),\n",
       " ('statement_videoname', 458),\n",
       " ('opinion_location', 426),\n",
       " ('statement_location', 406),\n",
       " ('opinion_organization', 372),\n",
       " ('statement_device', 361),\n",
       " ('opinion_device', 358),\n",
       " ('opinion_genre', 350),\n",
       " ('yes_no_question_person', 312),\n",
       " ('yes_no_question_videoname', 282),\n",
       " ('statement_organization', 280),\n",
       " ('statement_number', 221),\n",
       " ('opinion_sportteam', 218),\n",
       " ('opinion_sport', 215),\n",
       " ('yes_no_question_device', 148),\n",
       " ('opinion_softwareapplication', 144),\n",
       " ('statement_softwareapplication', 135),\n",
       " ('statement_duration', 128),\n",
       " ('opinion_number', 126),\n",
       " ('statement_genre', 111),\n",
       " ('yes_no_question_genre', 104),\n",
       " ('opinion_duration', 103),\n",
       " ('yes_no_question_organization', 96),\n",
       " ('statement_year', 96),\n",
       " ('statement_sportteam', 95),\n",
       " ('statement_sport', 92),\n",
       " ('comment_person', 90),\n",
       " ('yes_no_question_sport', 90),\n",
       " ('yes_no_question_location', 87),\n",
       " ('opinion_position', 82),\n",
       " ('opinion_date', 81),\n",
       " ('opinion_year', 70),\n",
       " ('yes_no_question_softwareapplication', 67),\n",
       " ('open_question_opinion_person', 56),\n",
       " ('open_question_factual_person', 55),\n",
       " ('opinion_event', 54),\n",
       " ('opinion_gamename', 53),\n",
       " ('opinion_vehicle', 50),\n",
       " ('statement_vehicle', 45),\n",
       " ('statement_event', 42),\n",
       " ('comment_location', 39),\n",
       " ('comment_videoname', 38),\n",
       " ('pos_answer_genre', 32),\n",
       " ('pos_answer_device', 31),\n",
       " ('yes_no_question_sportteam', 29),\n",
       " ('statement_wear', 28),\n",
       " ('statement_gamename', 28),\n",
       " ('command_person', 27),\n",
       " ('pos_answer_person', 27),\n",
       " ('opinion_wear', 26),\n",
       " ('opinion_sportrole', 25),\n",
       " ('open_question_opinion_device', 24),\n",
       " ('comment_device', 23),\n",
       " ('open_question_opinion_genre', 23),\n",
       " ('open_question_opinion_videoname', 23),\n",
       " ('opinion_party', 22),\n",
       " ('yes_no_question_event', 22),\n",
       " ('pos_answer_sport', 22),\n",
       " ('pos_answer_videoname', 21),\n",
       " ('comment_organization', 21),\n",
       " ('statement_position', 21),\n",
       " ('open_question_factual_organization', 19),\n",
       " ('yes_no_question_position', 19),\n",
       " ('opinion_songname', 18),\n",
       " ('open_question_opinion_organization', 18),\n",
       " ('comment_duration', 18),\n",
       " ('yes_no_question_vehicle', 18),\n",
       " ('open_question_factual_device', 18),\n",
       " ('comment_number', 17),\n",
       " ('open_question_opinion_location', 16),\n",
       " ('yes_no_question_number', 15),\n",
       " ('yes_no_question_gamename', 15),\n",
       " ('statement_channelname', 15),\n",
       " ('open_question_factual_location', 15),\n",
       " ('pos_answer_organization', 15),\n",
       " ('comment_sport', 14),\n",
       " ('yes_no_question_channelname', 14),\n",
       " ('opinion_channelname', 13),\n",
       " ('open_question_opinion_sport', 13),\n",
       " ('statement_date', 12),\n",
       " ('pos_answer_duration', 11),\n",
       " ('comment_year', 11),\n",
       " ('neg_answer_person', 11),\n",
       " ('open_question_factual_number', 11),\n",
       " ('open_question_factual_videoname', 10),\n",
       " ('statement_sportrole', 10),\n",
       " ('pos_answer_location', 9),\n",
       " ('open_question_opinion_sportteam', 9),\n",
       " ('command_sport', 9),\n",
       " ('comment_position', 9),\n",
       " ('comment_sportteam', 9),\n",
       " ('open_question_factual_position', 9),\n",
       " ('yes_no_question_duration', 8),\n",
       " ('yes_no_question_year', 8),\n",
       " ('command_videoname', 8),\n",
       " ('comment_genre', 8),\n",
       " ('command_device', 8),\n",
       " ('comment_wear', 7),\n",
       " ('command_location', 7),\n",
       " ('command_organization', 7),\n",
       " ('comment_date', 7),\n",
       " ('yes_no_question_songname', 7),\n",
       " ('neg_answer_sport', 7),\n",
       " ('neg_answer_videoname', 7),\n",
       " ('pos_answer_softwareapplication', 7),\n",
       " ('comment_softwareapplication', 7),\n",
       " ('command_position', 7),\n",
       " ('neg_answer_location', 6),\n",
       " ('yes_no_question_wear', 6),\n",
       " ('statement_party', 6),\n",
       " ('open_question_opinion_number', 6),\n",
       " ('open_question_opinion_position', 6),\n",
       " ('pos_answer_sportteam', 5),\n",
       " ('open_question_factual_softwareapplication', 5),\n",
       " ('complaint_person', 5),\n",
       " ('open_question_opinion_duration', 4),\n",
       " ('neg_answer_device', 4),\n",
       " ('statement_songname', 4),\n",
       " ('open_question_factual_duration', 4),\n",
       " ('comment_event', 4),\n",
       " ('pos_answer_year', 4),\n",
       " ('neg_answer_softwareapplication', 4),\n",
       " ('comment_vehicle', 4),\n",
       " ('pos_answer_vehicle', 4),\n",
       " ('open_question_factual_vehicle', 4),\n",
       " ('command_genre', 4),\n",
       " ('complaint_location', 4),\n",
       " ('comment_sportrole', 4),\n",
       " ('yes_no_question_sportrole', 4),\n",
       " ('statement_bookname', 3),\n",
       " ('pos_answer_wear', 3),\n",
       " ('open_question_opinion_event', 3),\n",
       " ('command_number', 3),\n",
       " ('open_question_factual_wear', 3),\n",
       " ('opinion_bookname', 3),\n",
       " ('open_question_opinion_wear', 3),\n",
       " ('pos_answer_number', 3),\n",
       " ('dev_command_date', 3),\n",
       " ('appreciation_person', 3),\n",
       " ('open_question_opinion_year', 3),\n",
       " ('open_question_factual_genre', 3),\n",
       " ('neg_answer_sportteam', 3),\n",
       " ('neg_answer_organization', 3),\n",
       " ('open_question_factual_sport', 3),\n",
       " ('open_question_opinion_sportrole', 3),\n",
       " ('open_question_opinion_softwareapplication', 3),\n",
       " ('pos_answer_channelname', 3),\n",
       " ('open_question_factual_sportteam', 3),\n",
       " ('open_question_factual_sportrole', 3),\n",
       " ('open_question_factual_event', 2),\n",
       " ('complaint_number', 2),\n",
       " ('neg_answer_genre', 2),\n",
       " ('comment_channelname', 2),\n",
       " ('comment_songname', 2),\n",
       " ('command_sportteam', 2),\n",
       " ('complaint_videoname', 2),\n",
       " ('neg_answer_number', 2),\n",
       " ('yes_no_question_bookname', 2),\n",
       " ('complaint_softwareapplication', 2),\n",
       " ('neg_answer_duration', 2),\n",
       " ('pos_answer_position', 2),\n",
       " ('open_question_factual_gamename', 2),\n",
       " ('yes_no_question_party', 1),\n",
       " ('pos_answer_songname', 1),\n",
       " ('dev_command_videoname', 1),\n",
       " ('appreciation_duration', 1),\n",
       " ('dev_command_person', 1),\n",
       " ('yes_no_question_date', 1),\n",
       " ('comment_gamename', 1),\n",
       " ('other_answers_organization', 1),\n",
       " ('neg_answer_vehicle', 1),\n",
       " ('command_softwareapplication', 1),\n",
       " ('complaint_genre', 1),\n",
       " ('other_answers_duration', 1),\n",
       " ('appreciation_location', 1),\n",
       " ('complaint_organization', 1),\n",
       " ('opinion_venue', 1),\n",
       " ('complaint_channelname', 1),\n",
       " ('dev_command_softwareapplication', 1),\n",
       " ('open_question_opinion_songname', 1),\n",
       " ('open_question_opinion_vehicle', 1),\n",
       " ('complaint_year', 1),\n",
       " ('open_question_factual_year', 1),\n",
       " ('command_channelname', 1),\n",
       " ('statement_ordinal', 1),\n",
       " ('neg_answer_position', 1),\n",
       " ('appreciation_number', 1),\n",
       " ('complaint_duration', 1),\n",
       " ('dev_command_device', 1),\n",
       " ('command_year', 1),\n",
       " ('other_answers_number', 1),\n",
       " ('command_event', 1),\n",
       " ('dev_command_sport', 1),\n",
       " ('other_answers_person', 1),\n",
       " ('command_date', 1),\n",
       " ('complaint_sport', 1),\n",
       " ('complaint_sportteam', 1)]"
      ]
     },
     "execution_count": 11,
     "metadata": {},
     "output_type": "execute_result"
    }
   ],
   "source": [
    "preproc.midas_and_entity_target.most_common()"
   ]
  },
  {
   "cell_type": "code",
   "execution_count": 36,
   "id": "d1f15bc5-bcdc-4f31-b00f-f820432b5abc",
   "metadata": {},
   "outputs": [],
   "source": [
    "with open('data/dataset.json', 'w', encoding='utf-8') as f:\n",
    "    json.dump(dataset, f, ensure_ascii=False, indent=2)"
   ]
  },
  {
   "cell_type": "code",
   "execution_count": 37,
   "id": "1adc874a-9e74-4012-90cf-fc3909e8e75f",
   "metadata": {},
   "outputs": [],
   "source": [
    "labels = dict()\n",
    "\n",
    "labels['midas2id'] = {label: i for i, label in enumerate(preproc.midas_all.keys())}\n",
    "labels['entities2id'] = {label: i for i, label in enumerate(preproc.entity_all.keys())}\n",
    "labels['target_midas2id'] = {label: i for i, label in enumerate(preproc.midas_target.keys())}\n",
    "labels['target_entity2id'] = {label: i for i, label in enumerate(preproc.entity_target.keys())}\n",
    "labels['target_midas_and_entity2id'] = {label: i for i, label in enumerate(preproc.midas_and_entity_target.keys())}\n",
    "\n",
    "with open('data/labels.json', 'w', encoding='utf-8') as f:\n",
    "    json.dump(labels, f, ensure_ascii=False, indent=2)"
   ]
  },
  {
   "cell_type": "code",
   "execution_count": null,
   "id": "fc300ca0-8dad-46e7-b7f4-e312c895698d",
   "metadata": {},
   "outputs": [],
   "source": []
  }
 ],
 "metadata": {
  "kernelspec": {
   "display_name": "Python 3 (ipykernel)",
   "language": "python",
   "name": "python3"
  },
  "language_info": {
   "codemirror_mode": {
    "name": "ipython",
    "version": 3
   },
   "file_extension": ".py",
   "mimetype": "text/x-python",
   "name": "python",
   "nbconvert_exporter": "python",
   "pygments_lexer": "ipython3",
   "version": "3.8.2"
  }
 },
 "nbformat": 4,
 "nbformat_minor": 5
}
