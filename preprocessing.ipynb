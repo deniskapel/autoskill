{
 "cells": [
  {
   "cell_type": "code",
   "execution_count": 1,
   "id": "d7407b7f-6925-4b80-8041-5a14a5934e3e",
   "metadata": {},
   "outputs": [],
   "source": [
    "import json\n",
    "from collections import Counter\n",
    "\n",
    "import numpy as np\n",
    "from nltk.tokenize import sent_tokenize\n",
    "\n",
    "from utils.data2seq import Dial2seq, SequencePreprocessor"
   ]
  },
  {
   "cell_type": "code",
   "execution_count": 2,
   "id": "42c3b9d6-9dda-40c5-aba7-4c608b02ec12",
   "metadata": {},
   "outputs": [],
   "source": [
    "sequencer = Dial2seq('data/topicalchat_midas_cobot_entities_.json', 3)"
   ]
  },
  {
   "cell_type": "code",
   "execution_count": 3,
   "id": "23235657-03bd-4818-9ebe-aab09a1f58df",
   "metadata": {},
   "outputs": [],
   "source": [
    "seqs = sequencer.transform()"
   ]
  },
  {
   "cell_type": "code",
   "execution_count": 4,
   "id": "ff77dac1-4a55-4415-9496-a184d8745c01",
   "metadata": {},
   "outputs": [
    {
     "data": {
      "text/plain": [
       "162494"
      ]
     },
     "execution_count": 4,
     "metadata": {},
     "output_type": "execute_result"
    }
   ],
   "source": [
    "len(seqs)"
   ]
  },
  {
   "cell_type": "code",
   "execution_count": 5,
   "id": "e4ab3e33-ac71-4260-be52-09dad5a65993",
   "metadata": {},
   "outputs": [
    {
     "name": "stdout",
     "output_type": "stream",
     "text": [
      "organization \n",
      "\n",
      "anaphor \n",
      "\n",
      "organization \n",
      "\n"
     ]
    }
   ],
   "source": [
    "for seq in seqs[0:3]:\n",
    "    print(seq[-1]['ner']['response'][0]['label'], '\\n')"
   ]
  },
  {
   "cell_type": "code",
   "execution_count": 6,
   "id": "3d119ce2-45f6-4352-a2ac-d3aed5e99515",
   "metadata": {},
   "outputs": [],
   "source": [
    "preproc = SequencePreprocessor()"
   ]
  },
  {
   "cell_type": "code",
   "execution_count": 7,
   "id": "2e9303b1-4c5f-4ea6-8818-732995e3c1f0",
   "metadata": {},
   "outputs": [
    {
     "name": "stdout",
     "output_type": "stream",
     "text": [
      "{'previous_text': ['Google is leading the alphabet subsidiary and will continue to be the Umbrella company for Alphabet internet interest.', 'Did you know Google had hundreds of live goats to cut the grass in the past? \\n', 'It is very interesting. Google provide \"Chrome OS\" which is a light weight OS. Google provided a lot of hardware mainly in 2010 to 2015. '], 'previous_midas': [['statement'], ['yes_no_question'], ['comment', 'statement', 'statement']], 'midas_vectors': [[[0.001440016203559935, 0.011605668812990189, 0.0031229499727487564, 0.0031691223848611116, 0.004141080193221569, 0.0013456976739689708, 0.002711065113544464, 0.001342577626928687, 0.1014678105711937, 0.0014571526553481817, 0.0017298738239333034, 0.864709734916687, 0.001757223391905427]], [[0.009326450526714325, 0.12051617354154587, 0.008179610595107079, 0.020255884155631065, 0.03977271541953087, 0.008093005046248436, 0.012120380997657776, 0.009426798671483994, 0.0024891614448279142, 0.004480868577957153, 0.03910575062036514, 0.03301240876317024, 0.6932207942008972]], [[0.19247007369995117, 0.004882945213466883, 0.7263777852058411, 0.009854600764811039, 0.009341624565422535, 0.0030108082573860884, 0.002989996923133731, 0.00332982512190938, 0.0236247219145298, 0.002769071375951171, 0.010503336787223816, 0.0035415003076195717, 0.007303680758923292], [0.0005736653693020344, 0.002800361020490527, 0.0014223995385691524, 0.0017144207376986742, 0.0022124145179986954, 0.0007872196729294956, 0.0011120459530502558, 0.00043744625872932374, 0.009313173592090607, 0.0008584542665630579, 0.0010382137261331081, 0.976563036441803, 0.0011671142419800162], [0.0010309824720025063, 0.004234868101775646, 0.002762655494734645, 0.001653164392337203, 0.002024565590545535, 0.0006855453830212355, 0.0006927067879587412, 0.0005156771512702107, 0.009791499935090542, 0.0011585050961002707, 0.0016697753453627229, 0.9725021123886108, 0.0012778964592143893]]], 'previous_entities': [[{'text': 'Google', 'label': 'organization'}, {'text': 'alphabet', 'label': 'organization'}, {'text': 'Alphabet', 'label': 'organization'}, {'text': 'internet', 'label': 'misc'}], [{'text': 'Google', 'label': 'organization'}, {'text': 'hundreds', 'label': 'number'}, {'text': 'goats', 'label': 'misc'}, {'text': 'grass', 'label': 'misc'}], [{'text': 'Google', 'label': 'organization'}, {'text': 'Chrome OS', 'label': 'device'}, {'text': 'Google', 'label': 'organization'}, {'text': 'hardware', 'label': 'misc'}, {'text': '2010', 'label': 'year'}, {'text': '2015', 'label': 'year'}]], 'predict': {'text': 'I like Google Chrome.', 'midas': 'opinion', 'entity': {'text': 'Google', 'label': 'softwareapplication'}}} \n",
      "\n"
     ]
    }
   ],
   "source": [
    "for seq in preproc.transform(seqs[0:50]):\n",
    "    print(seq, '\\n')"
   ]
  },
  {
   "cell_type": "code",
   "execution_count": 8,
   "id": "e17aaf5b-daad-4fac-901f-8aabcc7322f0",
   "metadata": {
    "tags": []
   },
   "outputs": [
    {
     "data": {
      "text/plain": [
       "12055"
      ]
     },
     "execution_count": 8,
     "metadata": {},
     "output_type": "execute_result"
    }
   ],
   "source": [
    "dataset = preproc.transform(seqs)\n",
    "len(dataset)"
   ]
  },
  {
   "cell_type": "code",
   "execution_count": 9,
   "id": "a4fd1792-42ef-4d97-a80b-590c35db233d",
   "metadata": {
    "tags": []
   },
   "outputs": [
    {
     "data": {
      "text/plain": [
       "[('opinion', 5508),\n",
       " ('statement', 4455),\n",
       " ('yes_no_question', 1226),\n",
       " ('comment', 209),\n",
       " ('open_question_opinion', 174),\n",
       " ('open_question_factual', 169),\n",
       " ('pos_answer', 148),\n",
       " ('command', 105),\n",
       " ('neg_answer', 35),\n",
       " ('complaint', 19),\n",
       " ('dev_command', 7),\n",
       " ('appreciation', 1)]"
      ]
     },
     "execution_count": 9,
     "metadata": {},
     "output_type": "execute_result"
    }
   ],
   "source": [
    "preproc.midas_target.most_common()"
   ]
  },
  {
   "cell_type": "code",
   "execution_count": 10,
   "id": "3fbdb4b4-8867-4932-b00b-6537557f0da3",
   "metadata": {},
   "outputs": [
    {
     "data": {
      "text/plain": [
       "[('person', 2669),\n",
       " ('videoname', 1570),\n",
       " ('location', 1369),\n",
       " ('organization', 1127),\n",
       " ('device', 1012),\n",
       " ('number', 734),\n",
       " ('genre', 677),\n",
       " ('sport', 566),\n",
       " ('sportteam', 421),\n",
       " ('softwareapplication', 392),\n",
       " ('duration', 276),\n",
       " ('year', 237),\n",
       " ('position', 189),\n",
       " ('event', 185),\n",
       " ('vehicle', 136),\n",
       " ('gamename', 103),\n",
       " ('wear', 83),\n",
       " ('date', 83),\n",
       " ('sportrole', 67),\n",
       " ('channelname', 64),\n",
       " ('party', 49),\n",
       " ('songname', 35),\n",
       " ('ordinal', 5),\n",
       " ('bookname', 5),\n",
       " ('venue', 2)]"
      ]
     },
     "execution_count": 10,
     "metadata": {},
     "output_type": "execute_result"
    }
   ],
   "source": [
    "preproc.entity_target.most_common()"
   ]
  },
  {
   "cell_type": "code",
   "execution_count": 11,
   "id": "011c3998-54a0-4720-8804-24ba96d28523",
   "metadata": {},
   "outputs": [
    {
     "data": {
      "text/plain": [
       "[('opinion_person', 1316),\n",
       " ('statement_person', 868),\n",
       " ('opinion_videoname', 759),\n",
       " ('opinion_location', 588),\n",
       " ('statement_location', 588),\n",
       " ('opinion_organization', 507),\n",
       " ('statement_videoname', 506),\n",
       " ('statement_number', 478),\n",
       " ('statement_organization', 431),\n",
       " ('opinion_device', 421),\n",
       " ('statement_device', 413),\n",
       " ('opinion_genre', 394),\n",
       " ('yes_no_question_person', 285),\n",
       " ('opinion_sport', 277),\n",
       " ('yes_no_question_videoname', 231),\n",
       " ('opinion_sportteam', 226),\n",
       " ('opinion_number', 192),\n",
       " ('statement_softwareapplication', 170),\n",
       " ('statement_duration', 161),\n",
       " ('statement_sport', 151),\n",
       " ('opinion_softwareapplication', 143),\n",
       " ('statement_sportteam', 135),\n",
       " ('statement_genre', 130),\n",
       " ('statement_year', 124),\n",
       " ('yes_no_question_location', 112),\n",
       " ('yes_no_question_device', 106),\n",
       " ('yes_no_question_organization', 100),\n",
       " ('opinion_position', 98),\n",
       " ('opinion_duration', 89),\n",
       " ('yes_no_question_genre', 87),\n",
       " ('opinion_year', 83),\n",
       " ('opinion_event', 80),\n",
       " ('yes_no_question_sport', 77),\n",
       " ('statement_event', 63),\n",
       " ('opinion_date', 60),\n",
       " ('opinion_gamename', 59),\n",
       " ('comment_person', 56),\n",
       " ('statement_vehicle', 56),\n",
       " ('opinion_vehicle', 53),\n",
       " ('yes_no_question_softwareapplication', 52),\n",
       " ('open_question_factual_person', 50),\n",
       " ('open_question_opinion_person', 47),\n",
       " ('statement_position', 39),\n",
       " ('opinion_wear', 37),\n",
       " ('opinion_sportrole', 36),\n",
       " ('statement_gamename', 34),\n",
       " ('opinion_party', 33),\n",
       " ('pos_answer_genre', 31),\n",
       " ('opinion_channelname', 30),\n",
       " ('statement_wear', 29),\n",
       " ('yes_no_question_sportteam', 28),\n",
       " ('yes_no_question_event', 27),\n",
       " ('yes_no_question_number', 27),\n",
       " ('command_person', 24),\n",
       " ('open_question_factual_organization', 24),\n",
       " ('comment_location', 23),\n",
       " ('open_question_factual_location', 22),\n",
       " ('pos_answer_device', 22),\n",
       " ('statement_channelname', 22),\n",
       " ('opinion_songname', 19),\n",
       " ('comment_videoname', 19),\n",
       " ('statement_sportrole', 19),\n",
       " ('comment_organization', 18),\n",
       " ('yes_no_question_position', 18),\n",
       " ('open_question_opinion_genre', 17),\n",
       " ('open_question_opinion_organization', 17),\n",
       " ('pos_answer_sport', 17),\n",
       " ('pos_answer_videoname', 17),\n",
       " ('statement_date', 16),\n",
       " ('open_question_opinion_videoname', 15),\n",
       " ('yes_no_question_year', 15),\n",
       " ('yes_no_question_vehicle', 15),\n",
       " ('command_location', 14),\n",
       " ('open_question_opinion_location', 14),\n",
       " ('comment_number', 14),\n",
       " ('pos_answer_organization', 14),\n",
       " ('open_question_opinion_sport', 13),\n",
       " ('pos_answer_person', 13),\n",
       " ('command_organization', 12),\n",
       " ('open_question_factual_device', 12),\n",
       " ('comment_device', 12),\n",
       " ('comment_sport', 11),\n",
       " ('open_question_factual_position', 11),\n",
       " ('statement_party', 11),\n",
       " ('open_question_factual_videoname', 10),\n",
       " ('command_sport', 10),\n",
       " ('open_question_opinion_device', 10),\n",
       " ('comment_sportteam', 10),\n",
       " ('open_question_factual_number', 10),\n",
       " ('command_device', 10),\n",
       " ('yes_no_question_gamename', 9),\n",
       " ('yes_no_question_duration', 9),\n",
       " ('open_question_opinion_position', 8),\n",
       " ('open_question_opinion_sportteam', 8),\n",
       " ('statement_songname', 8),\n",
       " ('yes_no_question_channelname', 7),\n",
       " ('yes_no_question_songname', 7),\n",
       " ('comment_year', 7),\n",
       " ('command_videoname', 7),\n",
       " ('open_question_opinion_number', 7),\n",
       " ('comment_position', 7),\n",
       " ('pos_answer_softwareapplication', 7),\n",
       " ('neg_answer_person', 6),\n",
       " ('comment_genre', 6),\n",
       " ('command_genre', 6),\n",
       " ('command_position', 6),\n",
       " ('yes_no_question_wear', 5),\n",
       " ('comment_softwareapplication', 5),\n",
       " ('comment_event', 5),\n",
       " ('open_question_factual_sportteam', 5),\n",
       " ('comment_wear', 4),\n",
       " ('opinion_ordinal', 4),\n",
       " ('open_question_opinion_event', 4),\n",
       " ('comment_duration', 4),\n",
       " ('pos_answer_duration', 4),\n",
       " ('neg_answer_device', 4),\n",
       " ('open_question_factual_duration', 4),\n",
       " ('open_question_factual_softwareapplication', 4),\n",
       " ('neg_answer_sport', 4),\n",
       " ('pos_answer_year', 4),\n",
       " ('neg_answer_softwareapplication', 4),\n",
       " ('pos_answer_vehicle', 4),\n",
       " ('neg_answer_location', 3),\n",
       " ('yes_no_question_party', 3),\n",
       " ('pos_answer_sportteam', 3),\n",
       " ('neg_answer_videoname', 3),\n",
       " ('command_sportteam', 3),\n",
       " ('pos_answer_location', 3),\n",
       " ('open_question_factual_sport', 3),\n",
       " ('command_event', 3),\n",
       " ('open_question_factual_vehicle', 3),\n",
       " ('open_question_factual_genre', 3),\n",
       " ('complaint_person', 3),\n",
       " ('yes_no_question_sportrole', 3),\n",
       " ('open_question_factual_sportrole', 3),\n",
       " ('open_question_factual_event', 2),\n",
       " ('command_number', 2),\n",
       " ('open_question_factual_wear', 2),\n",
       " ('complaint_number', 2),\n",
       " ('comment_date', 2),\n",
       " ('command_wear', 2),\n",
       " ('statement_bookname', 2),\n",
       " ('opinion_bookname', 2),\n",
       " ('neg_answer_genre', 2),\n",
       " ('open_question_opinion_softwareapplication', 2),\n",
       " ('yes_no_question_date', 2),\n",
       " ('pos_answer_wear', 2),\n",
       " ('command_softwareapplication', 2),\n",
       " ('open_question_opinion_wear', 2),\n",
       " ('open_question_opinion_year', 2),\n",
       " ('dev_command_date', 2),\n",
       " ('neg_answer_organization', 2),\n",
       " ('open_question_opinion_duration', 2),\n",
       " ('complaint_videoname', 2),\n",
       " ('complaint_softwareapplication', 2),\n",
       " ('complaint_organization', 2),\n",
       " ('open_question_opinion_sportrole', 2),\n",
       " ('comment_vehicle', 2),\n",
       " ('opinion_venue', 2),\n",
       " ('pos_answer_channelname', 2),\n",
       " ('open_question_opinion_vehicle', 2),\n",
       " ('dev_command_device', 2),\n",
       " ('pos_answer_position', 2),\n",
       " ('neg_answer_sportteam', 2),\n",
       " ('complaint_location', 2),\n",
       " ('comment_sportrole', 2),\n",
       " ('complaint_sport', 2),\n",
       " ('open_question_opinion_party', 1),\n",
       " ('neg_answer_event', 1),\n",
       " ('command_duration', 1),\n",
       " ('dev_command_videoname', 1),\n",
       " ('pos_answer_party', 1),\n",
       " ('comment_channelname', 1),\n",
       " ('comment_songname', 1),\n",
       " ('yes_no_question_bookname', 1),\n",
       " ('neg_answer_vehicle', 1),\n",
       " ('complaint_genre', 1),\n",
       " ('open_question_opinion_channelname', 1),\n",
       " ('appreciation_person', 1),\n",
       " ('dev_command_softwareapplication', 1),\n",
       " ('complaint_year', 1),\n",
       " ('neg_answer_duration', 1),\n",
       " ('neg_answer_number', 1),\n",
       " ('command_channelname', 1),\n",
       " ('statement_ordinal', 1),\n",
       " ('complaint_duration', 1),\n",
       " ('pos_answer_number', 1),\n",
       " ('command_year', 1),\n",
       " ('open_question_factual_gamename', 1),\n",
       " ('neg_answer_sportrole', 1),\n",
       " ('pos_answer_sportrole', 1),\n",
       " ('dev_command_sport', 1),\n",
       " ('command_date', 1),\n",
       " ('complaint_sportteam', 1)]"
      ]
     },
     "execution_count": 11,
     "metadata": {},
     "output_type": "execute_result"
    }
   ],
   "source": [
    "preproc.midas_and_entity_target.most_common()"
   ]
  },
  {
   "cell_type": "code",
   "execution_count": 12,
   "id": "d1f15bc5-bcdc-4f31-b00f-f820432b5abc",
   "metadata": {},
   "outputs": [],
   "source": [
    "with open('data/dataset.json', 'w', encoding='utf-8') as f:\n",
    "    json.dump(dataset, f, ensure_ascii=False, indent=2)"
   ]
  },
  {
   "cell_type": "code",
   "execution_count": 13,
   "id": "1adc874a-9e74-4012-90cf-fc3909e8e75f",
   "metadata": {},
   "outputs": [],
   "source": [
    "labels = dict()\n",
    "\n",
    "labels['midas2id'] = {label: i for i, label in enumerate(preproc.midas_all.keys())}\n",
    "labels['entities2id'] = {label: i for i, label in enumerate(preproc.entity_all.keys())}\n",
    "labels['target_midas2id'] = {label: i for i, label in enumerate(preproc.midas_target.keys())}\n",
    "labels['target_entity2id'] = {label: i for i, label in enumerate(preproc.entity_target.keys())}\n",
    "labels['target_midas_and_entity2id'] = {label: i for i, label in enumerate(preproc.midas_and_entity_target.keys())}\n",
    "\n",
    "with open('data/labels.json', 'w', encoding='utf-8') as f:\n",
    "    json.dump(labels, f, ensure_ascii=False, indent=2)"
   ]
  },
  {
   "cell_type": "code",
   "execution_count": null,
   "id": "80bf6da4-b26e-41d1-bed7-9c417ce475ab",
   "metadata": {},
   "outputs": [],
   "source": []
  }
 ],
 "metadata": {
  "kernelspec": {
   "display_name": "Python 3 (ipykernel)",
   "language": "python",
   "name": "python3"
  },
  "language_info": {
   "codemirror_mode": {
    "name": "ipython",
    "version": 3
   },
   "file_extension": ".py",
   "mimetype": "text/x-python",
   "name": "python",
   "nbconvert_exporter": "python",
   "pygments_lexer": "ipython3",
   "version": "3.8.2"
  }
 },
 "nbformat": 4,
 "nbformat_minor": 5
}
