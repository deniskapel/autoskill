{
 "cells": [
  {
   "cell_type": "code",
   "execution_count": 1,
   "id": "d7407b7f-6925-4b80-8041-5a14a5934e3e",
   "metadata": {},
   "outputs": [],
   "source": [
    "import json\n",
    "from collections import Counter\n",
    "\n",
    "from utils.data2seq import Dial2seq, SequencePreprocessor"
   ]
  },
  {
   "cell_type": "code",
   "execution_count": 2,
   "id": "42c3b9d6-9dda-40c5-aba7-4c608b02ec12",
   "metadata": {},
   "outputs": [],
   "source": [
    "topical_sequencer = Dial2seq('data/topical_chat_annotated.json', 3)\n",
    "daily_sequencer = Dial2seq('data/daily_dialogue_annotated.json', 3)"
   ]
  },
  {
   "cell_type": "markdown",
   "id": "446ea328-d22c-4caa-b284-225a049df544",
   "metadata": {
    "tags": []
   },
   "source": [
    "## Daily Dialogue"
   ]
  },
  {
   "cell_type": "code",
   "execution_count": 3,
   "id": "23235657-03bd-4818-9ebe-aab09a1f58df",
   "metadata": {},
   "outputs": [],
   "source": [
    "daily = daily_sequencer.transform()"
   ]
  },
  {
   "cell_type": "code",
   "execution_count": 4,
   "id": "ff77dac1-4a55-4415-9496-a184d8745c01",
   "metadata": {},
   "outputs": [
    {
     "data": {
      "text/plain": [
       "61087"
      ]
     },
     "execution_count": 4,
     "metadata": {},
     "output_type": "execute_result"
    }
   ],
   "source": [
    "len(daily)"
   ]
  },
  {
   "cell_type": "code",
   "execution_count": 5,
   "id": "3d119ce2-45f6-4352-a2ac-d3aed5e99515",
   "metadata": {},
   "outputs": [],
   "source": [
    "daily_preproc = SequencePreprocessor()"
   ]
  },
  {
   "cell_type": "code",
   "execution_count": 6,
   "id": "e17aaf5b-daad-4fac-901f-8aabcc7322f0",
   "metadata": {
    "tags": []
   },
   "outputs": [
    {
     "data": {
      "text/plain": [
       "2352"
      ]
     },
     "execution_count": 6,
     "metadata": {},
     "output_type": "execute_result"
    }
   ],
   "source": [
    "daily_dataset = daily_preproc.transform(daily)\n",
    "len(daily_dataset)"
   ]
  },
  {
   "cell_type": "code",
   "execution_count": 7,
   "id": "a4fd1792-42ef-4d97-a80b-590c35db233d",
   "metadata": {
    "tags": []
   },
   "outputs": [
    {
     "data": {
      "text/plain": [
       "[('statement', 1441),\n",
       " ('opinion', 415),\n",
       " ('yes_no_question', 173),\n",
       " ('open_question_factual', 104),\n",
       " ('open_question_opinion', 82),\n",
       " ('command', 61),\n",
       " ('neg_answer', 25),\n",
       " ('pos_answer', 17),\n",
       " ('comment', 13),\n",
       " ('complaint', 11),\n",
       " ('dev_command', 9),\n",
       " ('other_answers', 1)]"
      ]
     },
     "execution_count": 7,
     "metadata": {},
     "output_type": "execute_result"
    }
   ],
   "source": [
    "daily_preproc.midas_target.most_common()"
   ]
  },
  {
   "cell_type": "code",
   "execution_count": 8,
   "id": "3fbdb4b4-8867-4932-b00b-6537557f0da3",
   "metadata": {},
   "outputs": [
    {
     "data": {
      "text/plain": [
       "[('duration', 545),\n",
       " ('location', 348),\n",
       " ('number', 344),\n",
       " ('device', 231),\n",
       " ('person', 204),\n",
       " ('videoname', 188),\n",
       " ('date', 129),\n",
       " ('vehicle', 105),\n",
       " ('organization', 74),\n",
       " ('sport', 61),\n",
       " ('genre', 60),\n",
       " ('event', 21),\n",
       " ('sportteam', 16),\n",
       " ('year', 10),\n",
       " ('position', 9),\n",
       " ('gamename', 4),\n",
       " ('softwareapplication', 2),\n",
       " ('songname', 1)]"
      ]
     },
     "execution_count": 8,
     "metadata": {},
     "output_type": "execute_result"
    }
   ],
   "source": [
    "daily_preproc.entity_target.most_common()"
   ]
  },
  {
   "cell_type": "code",
   "execution_count": 9,
   "id": "011c3998-54a0-4720-8804-24ba96d28523",
   "metadata": {},
   "outputs": [
    {
     "data": {
      "text/plain": [
       "[('statement_duration', 447),\n",
       " ('statement_number', 289),\n",
       " ('statement_location', 205),\n",
       " ('statement_person', 109),\n",
       " ('statement_device', 102),\n",
       " ('opinion_videoname', 87),\n",
       " ('statement_videoname', 79),\n",
       " ('statement_date', 69),\n",
       " ('statement_vehicle', 57),\n",
       " ('opinion_location', 48),\n",
       " ('opinion_person', 43),\n",
       " ('statement_organization', 41),\n",
       " ('yes_no_question_device', 40),\n",
       " ('opinion_genre', 39),\n",
       " ('opinion_device', 37),\n",
       " ('opinion_duration', 34),\n",
       " ('yes_no_question_location', 33),\n",
       " ('open_question_factual_location', 27),\n",
       " ('opinion_sport', 25),\n",
       " ('opinion_number', 23),\n",
       " ('yes_no_question_duration', 20),\n",
       " ('opinion_date', 20),\n",
       " ('open_question_opinion_location', 20),\n",
       " ('opinion_vehicle', 18),\n",
       " ('yes_no_question_person', 18),\n",
       " ('yes_no_question_date', 17),\n",
       " ('opinion_organization', 16),\n",
       " ('statement_sport', 14),\n",
       " ('yes_no_question_vehicle', 13),\n",
       " ('open_question_factual_device', 12),\n",
       " ('command_number', 12),\n",
       " ('opinion_sportteam', 12),\n",
       " ('open_question_factual_vehicle', 12),\n",
       " ('open_question_opinion_device', 12),\n",
       " ('open_question_factual_person', 12),\n",
       " ('open_question_factual_duration', 12),\n",
       " ('command_duration', 11),\n",
       " ('yes_no_question_sport', 11),\n",
       " ('statement_genre', 10),\n",
       " ('open_question_opinion_person', 9),\n",
       " ('open_question_opinion_number', 8),\n",
       " ('command_device', 8),\n",
       " ('yes_no_question_videoname', 8),\n",
       " ('statement_event', 8),\n",
       " ('command_location', 7),\n",
       " ('command_person', 7),\n",
       " ('open_question_factual_organization', 7),\n",
       " ('open_question_opinion_duration', 7),\n",
       " ('dev_command_device', 7),\n",
       " ('open_question_opinion_date', 6),\n",
       " ('open_question_factual_date', 6),\n",
       " ('neg_answer_duration', 6),\n",
       " ('pos_answer_date', 6),\n",
       " ('open_question_opinion_genre', 5),\n",
       " ('open_question_opinion_organization', 5),\n",
       " ('opinion_position', 5),\n",
       " ('pos_answer_device', 4),\n",
       " ('statement_year', 4),\n",
       " ('command_date', 4),\n",
       " ('open_question_factual_event', 4),\n",
       " ('command_videoname', 4),\n",
       " ('opinion_event', 4),\n",
       " ('open_question_opinion_sport', 4),\n",
       " ('open_question_factual_videoname', 3),\n",
       " ('complaint_videoname', 3),\n",
       " ('open_question_opinion_videoname', 3),\n",
       " ('command_vehicle', 3),\n",
       " ('comment_person', 3),\n",
       " ('complaint_device', 3),\n",
       " ('yes_no_question_event', 3),\n",
       " ('yes_no_question_organization', 3),\n",
       " ('neg_answer_sport', 3),\n",
       " ('yes_no_question_number', 3),\n",
       " ('statement_sportteam', 3),\n",
       " ('open_question_factual_year', 3),\n",
       " ('comment_device', 3),\n",
       " ('neg_answer_device', 3),\n",
       " ('comment_number', 3),\n",
       " ('neg_answer_location', 3),\n",
       " ('neg_answer_number', 2),\n",
       " ('opinion_gamename', 2),\n",
       " ('open_question_factual_number', 2),\n",
       " ('pos_answer_number', 2),\n",
       " ('open_question_factual_genre', 2),\n",
       " ('open_question_factual_sport', 2),\n",
       " ('statement_gamename', 2),\n",
       " ('opinion_year', 2),\n",
       " ('yes_no_question_genre', 2),\n",
       " ('complaint_location', 2),\n",
       " ('comment_duration', 2),\n",
       " ('complaint_duration', 2),\n",
       " ('neg_answer_person', 2),\n",
       " ('pos_answer_duration', 2),\n",
       " ('comment_location', 1),\n",
       " ('yes_no_question_softwareapplication', 1),\n",
       " ('neg_answer_year', 1),\n",
       " ('command_sportteam', 1),\n",
       " ('command_songname', 1),\n",
       " ('dev_command_location', 1),\n",
       " ('pos_answer_genre', 1),\n",
       " ('pos_answer_location', 1),\n",
       " ('complaint_person', 1),\n",
       " ('open_question_opinion_position', 1),\n",
       " ('open_question_opinion_vehicle', 1),\n",
       " ('neg_answer_vehicle', 1),\n",
       " ('statement_softwareapplication', 1),\n",
       " ('neg_answer_position', 1),\n",
       " ('open_question_opinion_event', 1),\n",
       " ('neg_answer_date', 1),\n",
       " ('yes_no_question_position', 1),\n",
       " ('command_sport', 1),\n",
       " ('neg_answer_videoname', 1),\n",
       " ('other_answers_duration', 1),\n",
       " ('statement_position', 1),\n",
       " ('neg_answer_genre', 1),\n",
       " ('command_event', 1),\n",
       " ('dev_command_duration', 1),\n",
       " ('pos_answer_sport', 1),\n",
       " ('command_organization', 1),\n",
       " ('comment_organization', 1)]"
      ]
     },
     "execution_count": 9,
     "metadata": {},
     "output_type": "execute_result"
    }
   ],
   "source": [
    "daily_preproc.midas_and_entity_target.most_common()"
   ]
  },
  {
   "cell_type": "code",
   "execution_count": 10,
   "id": "d1f15bc5-bcdc-4f31-b00f-f820432b5abc",
   "metadata": {},
   "outputs": [],
   "source": [
    "with open('data/daily_dataset.json', 'w', encoding='utf-8') as f:\n",
    "    json.dump(daily_dataset, f, ensure_ascii=False, indent=2)"
   ]
  },
  {
   "cell_type": "code",
   "execution_count": 11,
   "id": "1adc874a-9e74-4012-90cf-fc3909e8e75f",
   "metadata": {},
   "outputs": [],
   "source": [
    "daily_labels = dict()\n",
    "\n",
    "daily_labels['midas2id'] = {label: i for i, label in enumerate(daily_preproc.midas_all.keys())}\n",
    "daily_labels['entities2id'] = {label: i for i, label in enumerate(daily_preproc.entity_all.keys())}\n",
    "daily_labels['target_midas2id'] = {label: i for i, label in enumerate(daily_preproc.midas_target.keys())}\n",
    "daily_labels['target_entity2id'] = {label: i for i, label in enumerate(daily_preproc.entity_target.keys())}\n",
    "daily_labels['target_midas_and_entity2id'] = {label: i for i, label in enumerate(daily_preproc.midas_and_entity_target.keys())}\n",
    "\n",
    "with open('data/daily_labels.json', 'w', encoding='utf-8') as f:\n",
    "    json.dump(daily_labels, f, ensure_ascii=False, indent=2)"
   ]
  },
  {
   "cell_type": "markdown",
   "id": "ccd30dac-9aa7-40b1-a16a-adbf241ab493",
   "metadata": {},
   "source": [
    "## Topical Chat"
   ]
  },
  {
   "cell_type": "code",
   "execution_count": 12,
   "id": "06871908-13f2-4bbb-a220-95f781400585",
   "metadata": {},
   "outputs": [],
   "source": [
    "topical = topical_sequencer.transform()"
   ]
  },
  {
   "cell_type": "code",
   "execution_count": 13,
   "id": "71ee2f9e-f30c-461c-abe1-f923b505873e",
   "metadata": {},
   "outputs": [
    {
     "data": {
      "text/plain": [
       "162494"
      ]
     },
     "execution_count": 13,
     "metadata": {},
     "output_type": "execute_result"
    }
   ],
   "source": [
    "len(topical)"
   ]
  },
  {
   "cell_type": "code",
   "execution_count": 14,
   "id": "1713fb1b-7550-49b1-9919-43ba330fbb16",
   "metadata": {},
   "outputs": [],
   "source": [
    "topical_preproc = SequencePreprocessor()"
   ]
  },
  {
   "cell_type": "code",
   "execution_count": 15,
   "id": "5beb2195-c6ec-44a4-ac2b-69e75b882b5b",
   "metadata": {
    "tags": []
   },
   "outputs": [
    {
     "data": {
      "text/plain": [
       "10117"
      ]
     },
     "execution_count": 15,
     "metadata": {},
     "output_type": "execute_result"
    }
   ],
   "source": [
    "topical_dataset = topical_preproc.transform(topical)\n",
    "len(topical_dataset)"
   ]
  },
  {
   "cell_type": "code",
   "execution_count": 16,
   "id": "43ac7fa5-e3a8-4af4-9dfc-17f92459c5a5",
   "metadata": {
    "tags": []
   },
   "outputs": [
    {
     "data": {
      "text/plain": [
       "[('opinion', 4636),\n",
       " ('statement', 3594),\n",
       " ('yes_no_question', 896),\n",
       " ('pos_answer', 299),\n",
       " ('comment', 209),\n",
       " ('command', 151),\n",
       " ('open_question_opinion', 118),\n",
       " ('open_question_factual', 106),\n",
       " ('neg_answer', 70),\n",
       " ('complaint', 24),\n",
       " ('appreciation', 8),\n",
       " ('dev_command', 4),\n",
       " ('other_answers', 2)]"
      ]
     },
     "execution_count": 16,
     "metadata": {},
     "output_type": "execute_result"
    }
   ],
   "source": [
    "topical_preproc.midas_target.most_common()"
   ]
  },
  {
   "cell_type": "code",
   "execution_count": 17,
   "id": "bb1ecd0b-f089-4e6e-bd10-de5fdacf9412",
   "metadata": {},
   "outputs": [
    {
     "data": {
      "text/plain": [
       "[('person', 2626),\n",
       " ('videoname', 1711),\n",
       " ('location', 1074),\n",
       " ('organization', 935),\n",
       " ('genre', 631),\n",
       " ('device', 576),\n",
       " ('sport', 570),\n",
       " ('sportteam', 451),\n",
       " ('softwareapplication', 389),\n",
       " ('duration', 243),\n",
       " ('number', 237),\n",
       " ('event', 169),\n",
       " ('position', 152),\n",
       " ('vehicle', 102),\n",
       " ('year', 96),\n",
       " ('gamename', 63),\n",
       " ('party', 47),\n",
       " ('date', 31),\n",
       " ('bookname', 11),\n",
       " ('songname', 3)]"
      ]
     },
     "execution_count": 17,
     "metadata": {},
     "output_type": "execute_result"
    }
   ],
   "source": [
    "topical_preproc.entity_target.most_common()"
   ]
  },
  {
   "cell_type": "code",
   "execution_count": 18,
   "id": "aad4618e-1294-4cda-b2ea-f1c77edef86c",
   "metadata": {},
   "outputs": [
    {
     "data": {
      "text/plain": [
       "[('opinion_person', 1334),\n",
       " ('opinion_videoname', 815),\n",
       " ('statement_person', 809),\n",
       " ('statement_videoname', 568),\n",
       " ('statement_location', 497),\n",
       " ('opinion_organization', 443),\n",
       " ('opinion_location', 429),\n",
       " ('opinion_genre', 348),\n",
       " ('statement_organization', 316),\n",
       " ('opinion_sport', 282),\n",
       " ('opinion_sportteam', 250),\n",
       " ('statement_device', 243),\n",
       " ('yes_no_question_person', 236),\n",
       " ('opinion_device', 211),\n",
       " ('yes_no_question_videoname', 211),\n",
       " ('statement_softwareapplication', 178),\n",
       " ('statement_duration', 172),\n",
       " ('statement_number', 158),\n",
       " ('statement_sportteam', 151),\n",
       " ('statement_sport', 146),\n",
       " ('opinion_softwareapplication', 132),\n",
       " ('statement_genre', 124),\n",
       " ('yes_no_question_genre', 74),\n",
       " ('opinion_event', 71),\n",
       " ('opinion_position', 70),\n",
       " ('yes_no_question_organization', 69),\n",
       " ('comment_person', 65),\n",
       " ('yes_no_question_device', 62),\n",
       " ('statement_event', 60),\n",
       " ('yes_no_question_location', 60),\n",
       " ('yes_no_question_sport', 60),\n",
       " ('opinion_duration', 58),\n",
       " ('pos_answer_genre', 50),\n",
       " ('opinion_number', 48),\n",
       " ('open_question_opinion_person', 47),\n",
       " ('statement_vehicle', 46),\n",
       " ('pos_answer_person', 44),\n",
       " ('opinion_year', 42),\n",
       " ('yes_no_question_softwareapplication', 42),\n",
       " ('open_question_factual_person', 38),\n",
       " ('opinion_vehicle', 38),\n",
       " ('pos_answer_sport', 36),\n",
       " ('statement_year', 36),\n",
       " ('pos_answer_videoname', 34),\n",
       " ('comment_videoname', 32),\n",
       " ('pos_answer_organization', 31),\n",
       " ('command_person', 30),\n",
       " ('statement_position', 30),\n",
       " ('opinion_gamename', 29),\n",
       " ('comment_location', 26),\n",
       " ('statement_gamename', 25),\n",
       " ('comment_organization', 24),\n",
       " ('command_organization', 23),\n",
       " ('opinion_party', 22),\n",
       " ('yes_no_question_event', 22),\n",
       " ('pos_answer_number', 20),\n",
       " ('statement_date', 18),\n",
       " ('command_position', 18),\n",
       " ('yes_no_question_sportteam', 17),\n",
       " ('pos_answer_softwareapplication', 16),\n",
       " ('command_device', 16),\n",
       " ('command_videoname', 15),\n",
       " ('open_question_factual_organization', 14),\n",
       " ('neg_answer_person', 14),\n",
       " ('command_sport', 14),\n",
       " ('pos_answer_location', 13),\n",
       " ('open_question_factual_location', 13),\n",
       " ('neg_answer_location', 12),\n",
       " ('pos_answer_device', 12),\n",
       " ('open_question_opinion_genre', 11),\n",
       " ('command_location', 11),\n",
       " ('pos_answer_year', 11),\n",
       " ('open_question_factual_device', 11),\n",
       " ('statement_party', 10),\n",
       " ('comment_sport', 10),\n",
       " ('comment_device', 10),\n",
       " ('command_genre', 10),\n",
       " ('open_question_opinion_organization', 10),\n",
       " ('open_question_factual_videoname', 9),\n",
       " ('open_question_opinion_sport', 9),\n",
       " ('neg_answer_videoname', 9),\n",
       " ('comment_position', 9),\n",
       " ('pos_answer_party', 9),\n",
       " ('comment_sportteam', 9),\n",
       " ('opinion_date', 9),\n",
       " ('open_question_opinion_position', 9),\n",
       " ('open_question_opinion_location', 8),\n",
       " ('yes_no_question_position', 8),\n",
       " ('neg_answer_sport', 8),\n",
       " ('pos_answer_sportteam', 8),\n",
       " ('open_question_opinion_sportteam', 7),\n",
       " ('neg_answer_softwareapplication', 7),\n",
       " ('yes_no_question_gamename', 7),\n",
       " ('comment_genre', 7),\n",
       " ('open_question_opinion_videoname', 7),\n",
       " ('yes_no_question_vehicle', 7),\n",
       " ('neg_answer_device', 6),\n",
       " ('complaint_person', 6),\n",
       " ('command_event', 5),\n",
       " ('opinion_bookname', 5),\n",
       " ('statement_bookname', 5),\n",
       " ('complaint_videoname', 5),\n",
       " ('pos_answer_duration', 5),\n",
       " ('open_question_factual_position', 5),\n",
       " ('yes_no_question_party', 4),\n",
       " ('yes_no_question_year', 4),\n",
       " ('yes_no_question_duration', 4),\n",
       " ('open_question_opinion_device', 4),\n",
       " ('command_softwareapplication', 4),\n",
       " ('appreciation_videoname', 4),\n",
       " ('neg_answer_genre', 4),\n",
       " ('complaint_location', 4),\n",
       " ('comment_softwareapplication', 4),\n",
       " ('yes_no_question_number', 4),\n",
       " ('pos_answer_vehicle', 4),\n",
       " ('open_question_factual_event', 3),\n",
       " ('open_question_opinion_event', 3),\n",
       " ('open_question_factual_number', 3),\n",
       " ('yes_no_question_date', 3),\n",
       " ('comment_vehicle', 3),\n",
       " ('complaint_softwareapplication', 3),\n",
       " ('command_sportteam', 3),\n",
       " ('comment_duration', 3),\n",
       " ('open_question_factual_sport', 3),\n",
       " ('appreciation_person', 3),\n",
       " ('neg_answer_organization', 3),\n",
       " ('neg_answer_sportteam', 3),\n",
       " ('statement_songname', 2),\n",
       " ('comment_number', 2),\n",
       " ('open_question_factual_softwareapplication', 2),\n",
       " ('comment_year', 2),\n",
       " ('comment_event', 2),\n",
       " ('complaint_organization', 2),\n",
       " ('open_question_factual_vehicle', 2),\n",
       " ('open_question_factual_sportteam', 2),\n",
       " ('pos_answer_position', 2),\n",
       " ('pos_answer_event', 2),\n",
       " ('complaint_gamename', 1),\n",
       " ('open_question_opinion_party', 1),\n",
       " ('pos_answer_gamename', 1),\n",
       " ('command_number', 1),\n",
       " ('yes_no_question_bookname', 1),\n",
       " ('neg_answer_vehicle', 1),\n",
       " ('dev_command_videoname', 1),\n",
       " ('complaint_genre', 1),\n",
       " ('open_question_opinion_softwareapplication', 1),\n",
       " ('yes_no_question_songname', 1),\n",
       " ('pos_answer_date', 1),\n",
       " ('open_question_opinion_vehicle', 1),\n",
       " ('dev_command_genre', 1),\n",
       " ('open_question_factual_genre', 1),\n",
       " ('appreciation_location', 1),\n",
       " ('comment_party', 1),\n",
       " ('dev_command_device', 1),\n",
       " ('neg_answer_duration', 1),\n",
       " ('complaint_number', 1),\n",
       " ('neg_answer_event', 1),\n",
       " ('neg_answer_position', 1),\n",
       " ('command_year', 1),\n",
       " ('other_answers_videoname', 1),\n",
       " ('dev_command_sport', 1),\n",
       " ('other_answers_sportteam', 1),\n",
       " ('complaint_sport', 1)]"
      ]
     },
     "execution_count": 18,
     "metadata": {},
     "output_type": "execute_result"
    }
   ],
   "source": [
    "topical_preproc.midas_and_entity_target.most_common()"
   ]
  },
  {
   "cell_type": "code",
   "execution_count": 19,
   "id": "e272008c-ded5-409c-9fd0-f7e39c862f2c",
   "metadata": {},
   "outputs": [],
   "source": [
    "with open('data/topical_dataset.json', 'w', encoding='utf-8') as f:\n",
    "    json.dump(topical_dataset, f, ensure_ascii=False, indent=2)"
   ]
  },
  {
   "cell_type": "code",
   "execution_count": 20,
   "id": "dce5b7a0-c131-4f68-bf13-8738a40f9f6a",
   "metadata": {},
   "outputs": [],
   "source": [
    "topical_labels = dict()\n",
    "\n",
    "topical_labels['midas2id'] = {label: i for i, label in enumerate(topical_preproc.midas_all.keys())}\n",
    "topical_labels['entities2id'] = {label: i for i, label in enumerate(topical_preproc.entity_all.keys())}\n",
    "topical_labels['target_midas2id'] = {label: i for i, label in enumerate(topical_preproc.midas_target.keys())}\n",
    "topical_labels['target_entity2id'] = {label: i for i, label in enumerate(topical_preproc.entity_target.keys())}\n",
    "topical_labels['target_midas_and_entity2id'] = {label: i for i, label in enumerate(topical_preproc.midas_and_entity_target.keys())}\n",
    "\n",
    "with open('data/topical_labels.json', 'w', encoding='utf-8') as f:\n",
    "    json.dump(topical_labels, f, ensure_ascii=False, indent=2)"
   ]
  }
 ],
 "metadata": {
  "kernelspec": {
   "display_name": "Python 3 (ipykernel)",
   "language": "python",
   "name": "python3"
  },
  "language_info": {
   "codemirror_mode": {
    "name": "ipython",
    "version": 3
   },
   "file_extension": ".py",
   "mimetype": "text/x-python",
   "name": "python",
   "nbconvert_exporter": "python",
   "pygments_lexer": "ipython3",
   "version": "3.8.2"
  }
 },
 "nbformat": 4,
 "nbformat_minor": 5
}
