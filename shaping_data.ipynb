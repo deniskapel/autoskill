{
 "cells": [
  {
   "cell_type": "code",
   "execution_count": 1,
   "id": "9863d095-2c51-49b6-9b00-45f0f045141a",
   "metadata": {},
   "outputs": [],
   "source": [
    "import json\n",
    "import pickle\n",
    "\n",
    "import torch\n",
    "import numpy as np\n",
    "\n",
    "from spacy.lang.en import English\n",
    "from sklearn.model_selection import train_test_split\n",
    "\n",
    "from torch.utils.data import DataLoader\n",
    "from torch import nn\n",
    "from tqdm.notebook import tqdm\n",
    "\n",
    "from utils.preprocessing import spacy_tokenize, dummy_fn\n",
    "from utils.autoskill_torch import SkillDataset, collate_fn"
   ]
  },
  {
   "cell_type": "code",
   "execution_count": 2,
   "id": "127cd224-6382-44fb-baf0-3f9d4c6853ff",
   "metadata": {},
   "outputs": [],
   "source": [
    "with open('data/labels.json', 'r') as f:\n",
    "    labels_map = json.load(f)\n",
    "\n",
    "with open('data/dataset.json', 'r') as f:\n",
    "    data = json.load(f)\n",
    "    \n",
    "train, test = train_test_split(data, test_size=0.2, random_state=42)"
   ]
  },
  {
   "cell_type": "code",
   "execution_count": 3,
   "id": "72abec03-9429-4f2c-ad47-518288f99660",
   "metadata": {},
   "outputs": [
    {
     "data": {
      "text/plain": [
       "(8452, 2113)"
      ]
     },
     "execution_count": 3,
     "metadata": {},
     "output_type": "execute_result"
    }
   ],
   "source": [
    "len(train), len(test)"
   ]
  },
  {
   "cell_type": "code",
   "execution_count": 4,
   "id": "f4c1c4af-ce28-4b8e-9ba0-87fda2796af4",
   "metadata": {},
   "outputs": [
    {
     "data": {
      "text/plain": [
       "TfidfVectorizer(lowercase=False, max_df=0.8, max_features=300, min_df=3,\n",
       "                preprocessor=<function dummy_fn at 0x0000020E13D974C0>,\n",
       "                token_pattern=None,\n",
       "                tokenizer=<function dummy_fn at 0x0000020E13D974C0>)"
      ]
     },
     "execution_count": 4,
     "metadata": {},
     "output_type": "execute_result"
    }
   ],
   "source": [
    "tokenizer = English().tokenizer\n",
    "tfidf = pickle.load(open(\"models/tfidf_3_08_300.pkl\", 'rb'))\n",
    "tfidf"
   ]
  },
  {
   "cell_type": "code",
   "execution_count": 5,
   "id": "47bd6109-0fa1-441a-b8eb-a1bc2b28e7f4",
   "metadata": {},
   "outputs": [
    {
     "data": {
      "text/plain": [
       "8452"
      ]
     },
     "execution_count": 5,
     "metadata": {},
     "output_type": "execute_result"
    }
   ],
   "source": [
    "train_dataset = SkillDataset(\n",
    "    train, labels_map, \n",
    "    tokenizer=tokenizer,\n",
    "    tfidf_model=tfidf\n",
    ")\n",
    "\n",
    "len(train_dataset)"
   ]
  },
  {
   "cell_type": "code",
   "execution_count": 6,
   "id": "09f551cd-69f6-47e7-a60c-0212e9736693",
   "metadata": {},
   "outputs": [
    {
     "name": "stdout",
     "output_type": "stream",
     "text": [
      "(1023,) \n",
      "\n",
      "([2, 10], 17) \n",
      "\n"
     ]
    }
   ],
   "source": [
    "print(train_dataset[42][0].shape, '\\n') # x_vec\n",
    "print(train_dataset[42][1], '\\n') # y labels: ([midas_id, entity_id], midas_and_entity_id)"
   ]
  },
  {
   "cell_type": "code",
   "execution_count": 7,
   "id": "e4d23db6-57f4-485f-9136-2d6eb9157c4c",
   "metadata": {},
   "outputs": [
    {
     "data": {
      "text/plain": [
       "2113"
      ]
     },
     "execution_count": 7,
     "metadata": {},
     "output_type": "execute_result"
    }
   ],
   "source": [
    "test_dataset = SkillDataset(\n",
    "    test, labels_map, \n",
    "    tokenizer=tokenizer,\n",
    "    tfidf_model=tfidf\n",
    ")\n",
    "\n",
    "len(test_dataset)"
   ]
  },
  {
   "cell_type": "code",
   "execution_count": 8,
   "id": "db30d9a6-9a7e-48f6-8a07-6255e54d5fd2",
   "metadata": {},
   "outputs": [],
   "source": [
    "train_loader = DataLoader(\n",
    "    train_dataset, batch_size=32, \n",
    "    shuffle=True, collate_fn=collate_fn)\n",
    "\n",
    "test_loader = DataLoader(\n",
    "    test_dataset, batch_size=32, \n",
    "    shuffle=True, collate_fn=collate_fn)"
   ]
  },
  {
   "cell_type": "code",
   "execution_count": 9,
   "id": "b8e200d1-3ae6-4010-9922-c51b3b4c9b72",
   "metadata": {},
   "outputs": [
    {
     "data": {
      "text/plain": [
       "(torch.Size([32, 1023]), torch.Size([32, 2]), torch.Size([32]))"
      ]
     },
     "execution_count": 9,
     "metadata": {},
     "output_type": "execute_result"
    }
   ],
   "source": [
    "for batch in train_loader:\n",
    "    break\n",
    "\n",
    "batch[0].shape, batch[1].shape, batch[2].shape"
   ]
  },
  {
   "cell_type": "code",
   "execution_count": 10,
   "id": "b140f3a4-faed-4c22-9b4d-e9353f2b356d",
   "metadata": {},
   "outputs": [
    {
     "data": {
      "application/vnd.jupyter.widget-view+json": {
       "model_id": "c172c233aefa47d980ceccf1ccc7609d",
       "version_major": 2,
       "version_minor": 0
      },
      "text/plain": [
       "Testing:   0%|          | 0/8452 [00:00<?, ?it/s]"
      ]
     },
     "metadata": {},
     "output_type": "display_data"
    }
   ],
   "source": [
    "progress_bar = tqdm(total=len(train_loader.dataset), desc='Testing')\n",
    "\n",
    "for x, y_m, y_s in train_loader:\n",
    "    progress_bar.update(x.size(0))\n",
    "    \n",
    "progress_bar.close()"
   ]
  },
  {
   "cell_type": "code",
   "execution_count": 11,
   "id": "7eb6087a-d92c-4ff2-bc74-00488c5ea4fe",
   "metadata": {},
   "outputs": [
    {
     "data": {
      "application/vnd.jupyter.widget-view+json": {
       "model_id": "7a8d1233c6b2480e97aeff1f4925c746",
       "version_major": 2,
       "version_minor": 0
      },
      "text/plain": [
       "Testing:   0%|          | 0/2113 [00:00<?, ?it/s]"
      ]
     },
     "metadata": {},
     "output_type": "display_data"
    }
   ],
   "source": [
    "progress_bar = tqdm(total=len(test_loader.dataset), desc='Testing')\n",
    "\n",
    "for x, y_m, y_s in test_loader:\n",
    "    progress_bar.update(x.size(0))\n",
    "    \n",
    "progress_bar.close()"
   ]
  },
  {
   "cell_type": "code",
   "execution_count": null,
   "id": "742bd673-6203-4b30-bd8c-a3b279236dac",
   "metadata": {},
   "outputs": [],
   "source": []
  }
 ],
 "metadata": {
  "kernelspec": {
   "display_name": "Python 3 (ipykernel)",
   "language": "python",
   "name": "python3"
  },
  "language_info": {
   "codemirror_mode": {
    "name": "ipython",
    "version": 3
   },
   "file_extension": ".py",
   "mimetype": "text/x-python",
   "name": "python",
   "nbconvert_exporter": "python",
   "pygments_lexer": "ipython3",
   "version": "3.8.2"
  }
 },
 "nbformat": 4,
 "nbformat_minor": 5
}
