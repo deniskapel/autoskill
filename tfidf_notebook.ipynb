{
 "cells": [
  {
   "cell_type": "code",
   "execution_count": 1,
   "id": "9863d095-2c51-49b6-9b00-45f0f045141a",
   "metadata": {},
   "outputs": [],
   "source": [
    "import json\n",
    "import pickle\n",
    "\n",
    "import numpy as np\n",
    "import pandas as pd\n",
    "\n",
    "from spacy.lang.en import English\n",
    "from sklearn.model_selection import train_test_split\n",
    "from sklearn.feature_extraction.text import TfidfVectorizer\n",
    "\n",
    "from utils.preprocessing import spacy_tokenize, dummy_fn"
   ]
  },
  {
   "cell_type": "code",
   "execution_count": 2,
   "id": "127cd224-6382-44fb-baf0-3f9d4c6853ff",
   "metadata": {},
   "outputs": [],
   "source": [
    "with open('data/dataset.json', 'r') as f:\n",
    "    data = json.load(f)\n",
    "    \n",
    "train, test = train_test_split(data, test_size=0.2, random_state=42)"
   ]
  },
  {
   "cell_type": "code",
   "execution_count": 3,
   "id": "72abec03-9429-4f2c-ad47-518288f99660",
   "metadata": {},
   "outputs": [
    {
     "data": {
      "text/plain": [
       "(8452, 2113)"
      ]
     },
     "execution_count": 3,
     "metadata": {},
     "output_type": "execute_result"
    }
   ],
   "source": [
    "len(train), len(test)"
   ]
  },
  {
   "cell_type": "code",
   "execution_count": 4,
   "id": "f4c1c4af-ce28-4b8e-9ba0-87fda2796af4",
   "metadata": {},
   "outputs": [],
   "source": [
    "tokenizer = English().tokenizer\n",
    "texts = [ut for sample in train for ut in sample['previous_text']]\n",
    "texts = [spacy_tokenize(ut, tokenizer) for ut in texts]\n",
    "\n",
    "tfidf = TfidfVectorizer(\n",
    "    lowercase=False,\n",
    "    analyzer='word',\n",
    "    tokenizer=dummy_fn,\n",
    "    preprocessor=dummy_fn,\n",
    "    token_pattern=None,\n",
    "    min_df=3,\n",
    "    max_df=0.8,\n",
    "    max_features = 300,\n",
    ")"
   ]
  },
  {
   "cell_type": "code",
   "execution_count": 5,
   "id": "c0125c07-a44c-4f67-80c6-1aefeee63476",
   "metadata": {},
   "outputs": [
    {
     "data": {
      "text/plain": [
       "TfidfVectorizer(lowercase=False, max_df=0.8, max_features=300, min_df=3,\n",
       "                preprocessor=<function dummy_fn at 0x0000020DF76C6700>,\n",
       "                token_pattern=None,\n",
       "                tokenizer=<function dummy_fn at 0x0000020DF76C6700>)"
      ]
     },
     "execution_count": 5,
     "metadata": {},
     "output_type": "execute_result"
    }
   ],
   "source": [
    "tfidf.fit(texts)"
   ]
  },
  {
   "cell_type": "code",
   "execution_count": 6,
   "id": "b0085997-fca8-4160-bc65-695f21d4770e",
   "metadata": {},
   "outputs": [
    {
     "data": {
      "text/plain": [
       "(1, 300)"
      ]
     },
     "execution_count": 6,
     "metadata": {},
     "output_type": "execute_result"
    }
   ],
   "source": [
    "tfidf.transform(texts[34:35]).todense().shape"
   ]
  },
  {
   "cell_type": "code",
   "execution_count": 7,
   "id": "919279d1-06db-4d3e-b94a-1e62dfc6150f",
   "metadata": {},
   "outputs": [],
   "source": [
    "pickle.dump(tfidf, open(\"models/tfidf_3_08_300.pkl\", \"wb\"))"
   ]
  },
  {
   "cell_type": "code",
   "execution_count": 8,
   "id": "9ef87765-02cd-45ee-bcaa-48cb5db13d51",
   "metadata": {},
   "outputs": [
    {
     "data": {
      "text/plain": [
       "TfidfVectorizer(lowercase=False, max_df=0.8, max_features=300, min_df=3,\n",
       "                preprocessor=<function dummy_fn at 0x0000020DF76C6700>,\n",
       "                token_pattern=None,\n",
       "                tokenizer=<function dummy_fn at 0x0000020DF76C6700>)"
      ]
     },
     "execution_count": 8,
     "metadata": {},
     "output_type": "execute_result"
    }
   ],
   "source": [
    "tf_loaded = pickle.load(open(\"models/tfidf_3_08_300.pkl\", 'rb'))\n",
    "tf_loaded"
   ]
  },
  {
   "cell_type": "code",
   "execution_count": 9,
   "id": "d04d681b-37e8-40cf-bc0d-d134403c9776",
   "metadata": {},
   "outputs": [
    {
     "data": {
      "text/plain": [
       "True"
      ]
     },
     "execution_count": 9,
     "metadata": {},
     "output_type": "execute_result"
    }
   ],
   "source": [
    "np.all(tfidf.transform(texts[34:35]).todense() == tf_loaded.transform(texts[34:35]).todense())"
   ]
  }
 ],
 "metadata": {
  "kernelspec": {
   "display_name": "Python 3 (ipykernel)",
   "language": "python",
   "name": "python3"
  },
  "language_info": {
   "codemirror_mode": {
    "name": "ipython",
    "version": 3
   },
   "file_extension": ".py",
   "mimetype": "text/x-python",
   "name": "python",
   "nbconvert_exporter": "python",
   "pygments_lexer": "ipython3",
   "version": "3.8.2"
  }
 },
 "nbformat": 4,
 "nbformat_minor": 5
}
