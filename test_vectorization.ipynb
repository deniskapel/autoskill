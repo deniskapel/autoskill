{
 "cells": [
  {
   "cell_type": "code",
   "execution_count": 1,
   "id": "36f46ded-68a1-4ccc-8afb-7685f38df2b7",
   "metadata": {},
   "outputs": [],
   "source": [
    "import json\n",
    "import os\n",
    "\n",
    "import tensorflow_hub as hub\n",
    "\n",
    "from utils.dataset import SampleVectorizer, SkillDataset\n",
    "from utils.preprocessing import LabelEncoder"
   ]
  },
  {
   "cell_type": "code",
   "execution_count": 2,
   "id": "09557364-6223-45de-a6c4-28a62ffd58d1",
   "metadata": {},
   "outputs": [
    {
     "name": "stdout",
     "output_type": "stream",
     "text": [
      "module https://tfhub.dev/google/universal-sentence-encoder/4 loaded\n"
     ]
    }
   ],
   "source": [
    "os.environ['TFHUB_CACHE_DIR'] = './models/tf_cache'\n",
    "module_url = \"https://tfhub.dev/google/universal-sentence-encoder/4\"\n",
    "encoder = hub.load(module_url)\n",
    "print (\"module %s loaded\" % module_url)"
   ]
  },
  {
   "cell_type": "code",
   "execution_count": 3,
   "id": "49d3c172-30c6-4e29-8a30-f9a53f9de90c",
   "metadata": {},
   "outputs": [],
   "source": [
    "with open('data/annotated/train.json', 'r', encoding=\"utf8\") as f:\n",
    "    train = json.load(f)\n",
    "    \n",
    "with open('data/labels.json', 'r', encoding=\"utf8\") as f:\n",
    "    labels2id = json.load(f)"
   ]
  },
  {
   "cell_type": "code",
   "execution_count": 4,
   "id": "bed485aa-588e-43f2-bedd-aa31a5f8770c",
   "metadata": {},
   "outputs": [],
   "source": [
    "label_encoder = LabelEncoder(\n",
    "    classes = list(labels2id['target_midas2id']), \n",
    "    encoding = 'midas'\n",
    ")\n",
    "\n",
    "vectorizer = SampleVectorizer(\n",
    "    text_vectorizer=encoder, \n",
    "    labels2id=labels2id,\n",
    "    context_len=3, embed_dim= 512\n",
    ")\n",
    "\n",
    "dataset = SkillDataset(\n",
    "    data=train, vectorizer=vectorizer,\n",
    "    label_encoder=label_encoder,\n",
    "    shuffle=False, batch_size=32)"
   ]
  },
  {
   "cell_type": "code",
   "execution_count": 6,
   "id": "c8533d89-d8ab-45e8-bd15-36af376f67ce",
   "metadata": {},
   "outputs": [],
   "source": [
    "X, y = dataset[0]"
   ]
  },
  {
   "cell_type": "code",
   "execution_count": 7,
   "id": "f5811cee-c3e9-4250-9ebb-11077779f439",
   "metadata": {},
   "outputs": [
    {
     "data": {
      "text/plain": [
       "((32, 1641), (32, 13))"
      ]
     },
     "execution_count": 7,
     "metadata": {},
     "output_type": "execute_result"
    }
   ],
   "source": [
    "X.shape, y.shape"
   ]
  },
  {
   "cell_type": "code",
   "execution_count": 10,
   "id": "71ac53a4-d646-465e-a2ad-0c0242058d0d",
   "metadata": {},
   "outputs": [
    {
     "data": {
      "text/plain": [
       "(array([-0.09168839,  0.02705939,  0.03336384,  0.07689012, -0.02818591,\n",
       "         0.0491365 , -0.00391493,  0.05874949,  0.00308139, -0.04186026,\n",
       "        -0.06855904,  0.02484504,  0.01633088,  0.01800327,  0.08869925,\n",
       "         0.78609908,  0.01410441,  0.01542499,  0.02457764,  0.02052638,\n",
       "         0.89074415,  0.01123322,  0.00991445,  0.01898782,  0.01123207,\n",
       "         0.        ,  0.        ,  1.        ,  0.        ,  0.        ,\n",
       "         0.        ,  0.        ,  0.        ,  0.        ,  0.        ,\n",
       "         0.        ,  0.        ,  0.        ,  0.        ,  0.        ,\n",
       "         0.        ,  0.        ,  0.        ,  0.        ,  0.        ,\n",
       "         0.        ,  0.        ,  0.0297092 , -0.07334093,  0.09041272]),\n",
       " array([1, 0, 0, 0, 0, 0, 0, 0, 0, 0, 0, 0, 0]))"
      ]
     },
     "execution_count": 10,
     "metadata": {},
     "output_type": "execute_result"
    }
   ],
   "source": [
    "X[1, 500:550], y[1,:]"
   ]
  },
  {
   "cell_type": "code",
   "execution_count": null,
   "id": "48be6bd7-b8e4-4b9c-a104-f7ba006c3241",
   "metadata": {},
   "outputs": [],
   "source": []
  }
 ],
 "metadata": {
  "kernelspec": {
   "display_name": "Python 3 (ipykernel)",
   "language": "python",
   "name": "python3"
  },
  "language_info": {
   "codemirror_mode": {
    "name": "ipython",
    "version": 3
   },
   "file_extension": ".py",
   "mimetype": "text/x-python",
   "name": "python",
   "nbconvert_exporter": "python",
   "pygments_lexer": "ipython3",
   "version": "3.8.2"
  }
 },
 "nbformat": 4,
 "nbformat_minor": 5
}
