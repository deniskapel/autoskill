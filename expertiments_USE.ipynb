{
 "cells": [
  {
   "cell_type": "code",
   "execution_count": 1,
   "id": "899ed118-2493-413b-9fdc-bf994b8feb7b",
   "metadata": {},
   "outputs": [],
   "source": [
    "import json\n",
    "import pickle\n",
    "import os\n",
    "from collections import Counter\n",
    "\n",
    "import numpy as np\n",
    "import tensorflow as tf\n",
    "import tensorflow_hub as hub\n",
    "\n",
    "from catboost import CatBoostClassifier, Pool\n",
    "from sklearn.linear_model import LogisticRegression\n",
    "from sklearn.ensemble import RandomForestClassifier\n",
    "from sklearn.model_selection import train_test_split\n",
    "from sklearn.metrics import f1_score, accuracy_score\n",
    "from tqdm.notebook import tqdm\n",
    "\n",
    "from utils.preprocessing import LabelEncoder\n",
    "from utils.tensorflow_utils import SkillDataset"
   ]
  },
  {
   "cell_type": "code",
   "execution_count": 2,
   "id": "aefbb6a4-e559-4044-a4df-73b413487dc3",
   "metadata": {},
   "outputs": [
    {
     "name": "stdout",
     "output_type": "stream",
     "text": [
      "module https://tfhub.dev/google/universal-sentence-encoder/4 loaded\n"
     ]
    }
   ],
   "source": [
    "os.environ['TFHUB_CACHE_DIR'] = './models/tf_cache'\n",
    "module_url = \"https://tfhub.dev/google/universal-sentence-encoder/4\"\n",
    "encoder = hub.load(module_url)\n",
    "print (\"module %s loaded\" % module_url)"
   ]
  },
  {
   "cell_type": "markdown",
   "id": "e965aa23-0eae-4133-86f6-14f6317e140f",
   "metadata": {
    "tags": []
   },
   "source": [
    "# Daily"
   ]
  },
  {
   "cell_type": "code",
   "execution_count": 3,
   "id": "7ca6ee9b-8893-4cb4-bde0-32f2194bf85b",
   "metadata": {},
   "outputs": [],
   "source": [
    "with open('data/daily_labels.json', 'r', encoding=\"utf8\") as f:\n",
    "    daily_labels_map = json.load(f)\n",
    "\n",
    "with open('data/daily_dataset.json', 'r', encoding=\"utf8\") as f:\n",
    "    daily = json.load(f)"
   ]
  },
  {
   "cell_type": "code",
   "execution_count": 4,
   "id": "c9571a03-5795-49f2-b3a2-e087f7bdafe0",
   "metadata": {},
   "outputs": [],
   "source": [
    "PARAMS = {\n",
    "    'embed_dim': 512,\n",
    "    'n_previous': 3\n",
    "}"
   ]
  },
  {
   "cell_type": "markdown",
   "id": "607ba62f-573f-4997-914c-d406c1304411",
   "metadata": {
    "tags": []
   },
   "source": [
    "### Midas"
   ]
  },
  {
   "cell_type": "code",
   "execution_count": 5,
   "id": "553b65ee-c405-4f62-be1a-82d7cd459c15",
   "metadata": {},
   "outputs": [],
   "source": [
    "daily_dataset = SkillDataset(\n",
    "    data=daily, vars2id=daily_labels_map,\n",
    "    text_vectorizer=encoder,\n",
    "    label_encoder=LabelEncoder(\n",
    "        list(daily_labels_map['target_midas2id']),\n",
    "        'midas'),\n",
    "    shuffle=False, batch_size=len(daily), **PARAMS)"
   ]
  },
  {
   "cell_type": "code",
   "execution_count": 6,
   "id": "0da53383-8b81-429e-be13-80e5ab460865",
   "metadata": {},
   "outputs": [],
   "source": [
    "for X, y in daily_dataset:\n",
    "    break"
   ]
  },
  {
   "cell_type": "code",
   "execution_count": 7,
   "id": "72eb684b-4f59-4c4e-ade4-35829d0307c0",
   "metadata": {},
   "outputs": [
    {
     "data": {
      "text/plain": [
       "((2352, 1635), (2352, 12))"
      ]
     },
     "execution_count": 7,
     "metadata": {},
     "output_type": "execute_result"
    }
   ],
   "source": [
    "X.shape, y.shape"
   ]
  },
  {
   "cell_type": "code",
   "execution_count": 8,
   "id": "a83e7ae5-9012-438d-8d05-b9c0cf6bf145",
   "metadata": {},
   "outputs": [],
   "source": [
    "X_train, X_test, y_train, y_test = train_test_split(X, y, test_size=0.2, random_state=42)"
   ]
  },
  {
   "cell_type": "code",
   "execution_count": 9,
   "id": "e88d26f5-c055-4713-8550-37713ac197de",
   "metadata": {},
   "outputs": [
    {
     "data": {
      "text/plain": [
       "((1881, 1635), (471, 1635), (1881, 12), (471, 12))"
      ]
     },
     "execution_count": 9,
     "metadata": {},
     "output_type": "execute_result"
    }
   ],
   "source": [
    "X_train.shape, X_test.shape, y_train.shape, y_test.shape"
   ]
  },
  {
   "cell_type": "code",
   "execution_count": 10,
   "id": "c695f276-23d3-438a-aa70-fee5083f1daa",
   "metadata": {},
   "outputs": [
    {
     "data": {
      "text/plain": [
       "array([1., 0., 0., 0., 0., 0., 0., 0., 0., 0., 0., 0., 0., 0., 0.])"
      ]
     },
     "execution_count": 10,
     "metadata": {},
     "output_type": "execute_result"
    }
   ],
   "source": [
    "X[0,525:540]"
   ]
  },
  {
   "cell_type": "code",
   "execution_count": 11,
   "id": "47a7439b-2409-4f83-aeb7-f1959338742c",
   "metadata": {},
   "outputs": [
    {
     "data": {
      "text/plain": [
       "array([0.72599681, 0.08867624, 0.05677831, 0.2169059 , 0.00574163,\n",
       "       0.        , 0.01339713, 0.0414673 , 0.00574163, 0.03189793,\n",
       "       0.00829346, 0.00510367])"
      ]
     },
     "execution_count": 11,
     "metadata": {},
     "output_type": "execute_result"
    }
   ],
   "source": [
    "n_bins = len(daily_labels_map['target_midas2id'])\n",
    "class_weights, _ = np.histogram(np.argmax(y_train, axis=-1), bins=n_bins, density=True)\n",
    "class_weights"
   ]
  },
  {
   "cell_type": "markdown",
   "id": "07ee4761-e51c-4845-9c04-63804f564cb3",
   "metadata": {
    "tags": []
   },
   "source": [
    "### Catboost"
   ]
  },
  {
   "cell_type": "code",
   "execution_count": 12,
   "id": "e2b8e82c-d1ba-4690-b739-6849683fa718",
   "metadata": {
    "tags": []
   },
   "outputs": [],
   "source": [
    "cb_train = Pool(np.float32(X_train), label=np.argmax(y_train, axis=-1).tolist())\n",
    "cb_eval = Pool(np.float32(X_test), label=np.argmax(y_test, axis=-1).tolist())"
   ]
  },
  {
   "cell_type": "code",
   "execution_count": 13,
   "id": "04291d76-5ab6-41a0-b9a4-0233c6a601d1",
   "metadata": {},
   "outputs": [
    {
     "name": "stdout",
     "output_type": "stream",
     "text": [
      "0:\tlearn: 0.6049973\ttotal: 391ms\tremaining: 3.52s\n",
      "1:\tlearn: 0.6049973\ttotal: 583ms\tremaining: 2.33s\n",
      "2:\tlearn: 0.6049973\ttotal: 797ms\tremaining: 1.86s\n",
      "3:\tlearn: 0.6049973\ttotal: 985ms\tremaining: 1.48s\n",
      "4:\tlearn: 0.6049973\ttotal: 1.18s\tremaining: 1.18s\n",
      "5:\tlearn: 0.6049973\ttotal: 1.38s\tremaining: 920ms\n",
      "6:\tlearn: 0.6049973\ttotal: 1.59s\tremaining: 681ms\n",
      "7:\tlearn: 0.6049973\ttotal: 1.79s\tremaining: 447ms\n",
      "8:\tlearn: 0.6049973\ttotal: 2s\tremaining: 222ms\n",
      "9:\tlearn: 0.6049973\ttotal: 2.23s\tremaining: 0us\n"
     ]
    },
    {
     "data": {
      "text/plain": [
       "<catboost.core.CatBoostClassifier at 0x20215805d30>"
      ]
     },
     "execution_count": 13,
     "metadata": {},
     "output_type": "execute_result"
    }
   ],
   "source": [
    "model_params = {\n",
    "    'task_type': 'CPU',\n",
    "    'iterations': 10,\n",
    "    'learning_rate': 0.001,\n",
    "    'depth': 3,\n",
    "    'verbose': True,\n",
    "    'loss_function': 'MultiClass',\n",
    "    'eval_metric': 'Accuracy',\n",
    "    # 'use_best_model': True,\n",
    "    # 'class_weights': class_weights\n",
    "}\n",
    "\n",
    "fit_params = {\n",
    "    # 'use_best_model': True,\n",
    "    'early_stopping_rounds': 5,\n",
    "    # 'eval_set': cb_eval, \n",
    "    \n",
    "}\n",
    "\n",
    "model = CatBoostClassifier(**model_params)\n",
    "model.fit(cb_train, **fit_params)"
   ]
  },
  {
   "cell_type": "code",
   "execution_count": 14,
   "id": "2e6b0ac5-f724-47d8-97ef-8b45ba61effe",
   "metadata": {},
   "outputs": [
    {
     "name": "stdout",
     "output_type": "stream",
     "text": [
      "class =  (471, 1)\n"
     ]
    }
   ],
   "source": [
    "cb_pred = model.predict(cb_eval)\n",
    "print(\"class = \", cb_pred.shape)"
   ]
  },
  {
   "cell_type": "code",
   "execution_count": 15,
   "id": "2318345b-157b-4b46-984a-d1b95a1583e4",
   "metadata": {},
   "outputs": [
    {
     "data": {
      "text/plain": [
       "Counter({0: 471})"
      ]
     },
     "execution_count": 15,
     "metadata": {},
     "output_type": "execute_result"
    }
   ],
   "source": [
    "Counter(cb_pred.squeeze())"
   ]
  },
  {
   "cell_type": "code",
   "execution_count": 17,
   "id": "4fad23ef-8eea-4482-953a-6f9785355529",
   "metadata": {},
   "outputs": [
    {
     "data": {
      "text/plain": [
       "0.643312101910828"
      ]
     },
     "execution_count": 17,
     "metadata": {},
     "output_type": "execute_result"
    }
   ],
   "source": [
    "accuracy_score(np.argmax(y_test, axis=-1), cb_pred.squeeze())"
   ]
  },
  {
   "cell_type": "code",
   "execution_count": 18,
   "id": "7d5faf5e-069d-44c3-8ab9-987f764e15ab",
   "metadata": {},
   "outputs": [
    {
     "data": {
      "text/plain": [
       "0.643312101910828"
      ]
     },
     "execution_count": 18,
     "metadata": {},
     "output_type": "execute_result"
    }
   ],
   "source": [
    "model.score(cb_eval)"
   ]
  },
  {
   "cell_type": "code",
   "execution_count": 16,
   "id": "02dac0ab-c303-4aed-a4a3-3bfe46002efe",
   "metadata": {},
   "outputs": [
    {
     "data": {
      "text/plain": [
       "0.5036784673875475"
      ]
     },
     "execution_count": 16,
     "metadata": {},
     "output_type": "execute_result"
    }
   ],
   "source": [
    "f1_score(np.argmax(y_test, axis=-1), cb_pred.squeeze(), average='weighted')"
   ]
  },
  {
   "cell_type": "markdown",
   "id": "b3d29ca1-8c75-446c-82dc-fe8089e54e3d",
   "metadata": {
    "tags": []
   },
   "source": [
    "### LogisticRegression"
   ]
  },
  {
   "cell_type": "code",
   "execution_count": 19,
   "id": "a215cc32-a449-43ab-8f9b-b8ab8d689025",
   "metadata": {
    "tags": []
   },
   "outputs": [
    {
     "data": {
      "text/plain": [
       "LogisticRegression(max_iter=500, random_state=42)"
      ]
     },
     "execution_count": 19,
     "metadata": {},
     "output_type": "execute_result"
    }
   ],
   "source": [
    "lg = LogisticRegression(random_state=42, max_iter=500)\n",
    "lg.fit(X_train, np.argmax(y_train, axis=-1))"
   ]
  },
  {
   "cell_type": "code",
   "execution_count": 20,
   "id": "fb84b8e4-7b30-4f36-966b-3144fa811596",
   "metadata": {},
   "outputs": [],
   "source": [
    "logreg_pred = lg.predict(X_test)"
   ]
  },
  {
   "cell_type": "code",
   "execution_count": 21,
   "id": "fb8b1250-df59-4bcd-a0cc-3b95bbe85144",
   "metadata": {},
   "outputs": [
    {
     "data": {
      "text/plain": [
       "Counter({0: 358, 3: 70, 1: 26, 2: 7, 8: 1, 6: 7, 9: 2})"
      ]
     },
     "execution_count": 21,
     "metadata": {},
     "output_type": "execute_result"
    }
   ],
   "source": [
    "Counter(logreg_pred)"
   ]
  },
  {
   "cell_type": "code",
   "execution_count": 23,
   "id": "bec77712-069d-4aee-9d30-eff3f028cbcc",
   "metadata": {},
   "outputs": [
    {
     "data": {
      "text/plain": [
       "0.6857749469214437"
      ]
     },
     "execution_count": 23,
     "metadata": {},
     "output_type": "execute_result"
    }
   ],
   "source": [
    "accuracy_score(np.argmax(y_test, axis=-1), logreg_pred)"
   ]
  },
  {
   "cell_type": "code",
   "execution_count": 22,
   "id": "cf4cf1e9-ebca-454e-afd9-7ba1c8d28301",
   "metadata": {},
   "outputs": [
    {
     "data": {
      "text/plain": [
       "0.6498555648589889"
      ]
     },
     "execution_count": 22,
     "metadata": {},
     "output_type": "execute_result"
    }
   ],
   "source": [
    "f1_score(np.argmax(y_test, axis=-1), logreg_pred, average='weighted')"
   ]
  },
  {
   "cell_type": "markdown",
   "id": "6ce06000-49f4-4353-a43e-4636cc9922a6",
   "metadata": {
    "tags": []
   },
   "source": [
    "### RandomForeset"
   ]
  },
  {
   "cell_type": "code",
   "execution_count": 24,
   "id": "ec2f01a6-71c3-4371-8ef0-43754af8a4f0",
   "metadata": {},
   "outputs": [],
   "source": [
    "rf = RandomForestClassifier(max_depth=10, random_state=42)"
   ]
  },
  {
   "cell_type": "code",
   "execution_count": 25,
   "id": "5710b144-ee0e-4acf-b060-f0abd5f5e833",
   "metadata": {},
   "outputs": [
    {
     "data": {
      "text/plain": [
       "RandomForestClassifier(max_depth=10, random_state=42)"
      ]
     },
     "execution_count": 25,
     "metadata": {},
     "output_type": "execute_result"
    }
   ],
   "source": [
    "rf.fit(X_train, np.argmax(y_train, axis=-1))"
   ]
  },
  {
   "cell_type": "code",
   "execution_count": 26,
   "id": "0561fab7-dff1-49fe-b024-b58a6cc616df",
   "metadata": {},
   "outputs": [],
   "source": [
    "rf_preds = rf.predict(X_test)"
   ]
  },
  {
   "cell_type": "code",
   "execution_count": 29,
   "id": "976e8c5d-9592-4fd1-8afb-d7d4dedcbf83",
   "metadata": {
    "tags": []
   },
   "outputs": [
    {
     "data": {
      "text/plain": [
       "Counter({0: 442, 1: 6, 3: 18, 6: 2, 9: 1, 2: 2})"
      ]
     },
     "execution_count": 29,
     "metadata": {},
     "output_type": "execute_result"
    }
   ],
   "source": [
    "Counter(rf_preds)"
   ]
  },
  {
   "cell_type": "code",
   "execution_count": 28,
   "id": "510247d4-34c9-45b5-92a4-821e89a04423",
   "metadata": {},
   "outputs": [
    {
     "data": {
      "text/plain": [
       "0.7048832271762208"
      ]
     },
     "execution_count": 28,
     "metadata": {},
     "output_type": "execute_result"
    }
   ],
   "source": [
    "accuracy_score(np.argmax(y_test, axis=-1), rf_preds)"
   ]
  },
  {
   "cell_type": "code",
   "execution_count": 27,
   "id": "71113f3d-c77f-484b-af3f-0017382761e3",
   "metadata": {},
   "outputs": [
    {
     "data": {
      "text/plain": [
       "0.6250694931881164"
      ]
     },
     "execution_count": 27,
     "metadata": {},
     "output_type": "execute_result"
    }
   ],
   "source": [
    "f1_score(np.argmax(y_test, axis=-1), rf_preds, average='weighted')"
   ]
  },
  {
   "cell_type": "markdown",
   "id": "b3c75faf-48b1-495d-86bc-1ddaf482aee0",
   "metadata": {
    "tags": []
   },
   "source": [
    "## Entities"
   ]
  },
  {
   "cell_type": "code",
   "execution_count": 30,
   "id": "48d93e37-a4dd-4665-9745-365757cf2409",
   "metadata": {},
   "outputs": [],
   "source": [
    "daily_dataset = SkillDataset(\n",
    "    data=daily, vars2id=daily_labels_map,\n",
    "    text_vectorizer=encoder,\n",
    "    label_encoder=LabelEncoder(\n",
    "        list(daily_labels_map['target_entity2id']),\n",
    "        'entity'),\n",
    "    shuffle=False, batch_size=len(daily), **PARAMS)"
   ]
  },
  {
   "cell_type": "code",
   "execution_count": 31,
   "id": "6cc960e3-05ba-4f06-9ba7-0073361311e3",
   "metadata": {},
   "outputs": [],
   "source": [
    "for X, y in daily_dataset:\n",
    "    break"
   ]
  },
  {
   "cell_type": "code",
   "execution_count": 32,
   "id": "e6a9b18c-baf9-4046-ba55-026c7eff4975",
   "metadata": {},
   "outputs": [],
   "source": [
    "X_train, X_test, y_train, y_test = train_test_split(X, y, test_size=0.2, random_state=42)"
   ]
  },
  {
   "cell_type": "code",
   "execution_count": 33,
   "id": "19050e97-cfc5-4abe-b531-58e2322775b2",
   "metadata": {},
   "outputs": [
    {
     "data": {
      "text/plain": [
       "((1881, 1635), (471, 1635), (1881, 18), (471, 18))"
      ]
     },
     "execution_count": 33,
     "metadata": {},
     "output_type": "execute_result"
    }
   ],
   "source": [
    "X_train.shape, X_test.shape, y_train.shape, y_test.shape"
   ]
  },
  {
   "cell_type": "code",
   "execution_count": 34,
   "id": "22f0382a-90d1-4c12-a84a-bb525fe2084c",
   "metadata": {},
   "outputs": [
    {
     "data": {
      "text/plain": [
       "array([1., 0., 0., 0., 0., 0., 0., 0., 0., 0., 0., 0., 0., 0., 0.])"
      ]
     },
     "execution_count": 34,
     "metadata": {},
     "output_type": "execute_result"
    }
   ],
   "source": [
    "X[0,525:540]"
   ]
  },
  {
   "cell_type": "code",
   "execution_count": 35,
   "id": "2b8f15e7-6ed4-4afd-ba80-36a9517a6918",
   "metadata": {},
   "outputs": [
    {
     "data": {
      "text/plain": [
       "array([0.15592457, 0.15761328, 0.23754574, 0.08893892, 0.10357444,\n",
       "       0.09513088, 0.05797917, 0.04503237, 0.02589361, 0.03321137,\n",
       "       0.02983394, 0.00168871, 0.00394033, 0.00900647, 0.00844357,\n",
       "       0.0005629 , 0.00394033, 0.0005629 ])"
      ]
     },
     "execution_count": 35,
     "metadata": {},
     "output_type": "execute_result"
    }
   ],
   "source": [
    "n_bins = len(daily_labels_map['target_entity2id'])\n",
    "class_weights, _ = np.histogram(np.argmax(y_train, axis=-1), bins=n_bins, density=True)\n",
    "class_weights"
   ]
  },
  {
   "cell_type": "markdown",
   "id": "d967f27a-6013-4f9a-aa0a-bf64132c6250",
   "metadata": {
    "tags": []
   },
   "source": [
    "### Catboost"
   ]
  },
  {
   "cell_type": "code",
   "execution_count": 36,
   "id": "df2f637e-6124-465d-91de-fd56dad2d56a",
   "metadata": {},
   "outputs": [
    {
     "name": "stdout",
     "output_type": "stream",
     "text": [
      "0:\tlearn: 0.4549025\ttest: 0.5314769\tbest: 0.5314769 (0)\ttotal: 438ms\tremaining: 43.4s\n",
      "1:\tlearn: 0.4959505\ttest: 0.5276088\tbest: 0.5314769 (0)\ttotal: 830ms\tremaining: 40.7s\n",
      "2:\tlearn: 0.4984471\ttest: 0.5568488\tbest: 0.5568488 (2)\ttotal: 1.3s\tremaining: 42.1s\n",
      "3:\tlearn: 0.5241481\ttest: 0.5425446\tbest: 0.5568488 (2)\ttotal: 1.74s\tremaining: 41.8s\n",
      "4:\tlearn: 0.5485906\ttest: 0.5546248\tbest: 0.5568488 (2)\ttotal: 2.19s\tremaining: 41.6s\n",
      "5:\tlearn: 0.5570344\ttest: 0.5558017\tbest: 0.5568488 (2)\ttotal: 2.59s\tremaining: 40.5s\n",
      "6:\tlearn: 0.5619471\ttest: 0.5470963\tbest: 0.5568488 (2)\ttotal: 3.02s\tremaining: 40.1s\n",
      "7:\tlearn: 0.5654446\ttest: 0.5593323\tbest: 0.5593323 (7)\ttotal: 3.44s\tremaining: 39.5s\n",
      "8:\tlearn: 0.5604133\ttest: 0.5484376\tbest: 0.5593323 (7)\ttotal: 3.83s\tremaining: 38.8s\n",
      "9:\tlearn: 0.5597796\ttest: 0.5484722\tbest: 0.5593323 (7)\ttotal: 4.27s\tremaining: 38.4s\n",
      "10:\tlearn: 0.5587809\ttest: 0.5495539\tbest: 0.5593323 (7)\ttotal: 4.65s\tremaining: 37.7s\n",
      "11:\tlearn: 0.5650572\ttest: 0.5568228\tbest: 0.5593323 (7)\ttotal: 5.07s\tremaining: 37.2s\n",
      "12:\tlearn: 0.5521687\ttest: 0.5617812\tbest: 0.5617812 (12)\ttotal: 5.47s\tremaining: 36.6s\n",
      "13:\tlearn: 0.5533980\ttest: 0.5640917\tbest: 0.5640917 (13)\ttotal: 5.87s\tremaining: 36.1s\n",
      "14:\tlearn: 0.5587451\ttest: 0.5543998\tbest: 0.5640917 (13)\ttotal: 6.3s\tremaining: 35.7s\n",
      "15:\tlearn: 0.5571732\ttest: 0.5508865\tbest: 0.5640917 (13)\ttotal: 6.69s\tremaining: 35.1s\n",
      "16:\tlearn: 0.5562283\ttest: 0.5545383\tbest: 0.5640917 (13)\ttotal: 7.13s\tremaining: 34.8s\n",
      "17:\tlearn: 0.5584249\ttest: 0.5618072\tbest: 0.5640917 (13)\ttotal: 7.51s\tremaining: 34.2s\n",
      "18:\tlearn: 0.5528002\ttest: 0.5618072\tbest: 0.5640917 (13)\ttotal: 7.92s\tremaining: 33.8s\n",
      "Stopped by overfitting detector  (5 iterations wait)\n",
      "\n",
      "bestTest = 0.5640916876\n",
      "bestIteration = 13\n",
      "\n",
      "Shrink model to first 14 iterations.\n",
      "class =  (471, 1)\n"
     ]
    }
   ],
   "source": [
    "cb_train = Pool(np.float32(X_train), label=np.argmax(y_train, axis=-1).tolist())\n",
    "cb_eval = Pool(np.float32(X_test), label=np.argmax(y_test, axis=-1).tolist())\n",
    "\n",
    "model_params = {\n",
    "    'task_type': 'CPU',\n",
    "    'iterations': 100,\n",
    "    'learning_rate': 0.001,\n",
    "    'depth': 3,\n",
    "    'verbose': True,\n",
    "    'loss_function': 'MultiClass',\n",
    "    'eval_metric': 'Accuracy',\n",
    "    'use_best_model': True,\n",
    "    'class_weights': class_weights\n",
    "}\n",
    "\n",
    "fit_params = {\n",
    "    'use_best_model': True,\n",
    "    'early_stopping_rounds': 5,\n",
    "    'eval_set': cb_eval, \n",
    "}\n",
    "\n",
    "model = CatBoostClassifier(**model_params)\n",
    "model.fit(cb_train, **fit_params)\n",
    "\n",
    "cb_pred = model.predict(cb_eval)\n",
    "print(\"class = \", cb_pred.shape)"
   ]
  },
  {
   "cell_type": "code",
   "execution_count": 37,
   "id": "2c327bf0-b08d-4a72-9527-18680a558bd6",
   "metadata": {},
   "outputs": [
    {
     "data": {
      "text/plain": [
       "Counter({2: 300, 1: 95, 0: 76})"
      ]
     },
     "execution_count": 37,
     "metadata": {},
     "output_type": "execute_result"
    }
   ],
   "source": [
    "Counter(cb_pred.squeeze())"
   ]
  },
  {
   "cell_type": "code",
   "execution_count": 38,
   "id": "0e93b3f3-d0e3-4a4d-a858-a90a24216027",
   "metadata": {},
   "outputs": [
    {
     "data": {
      "text/plain": [
       "0.3821656050955414"
      ]
     },
     "execution_count": 38,
     "metadata": {},
     "output_type": "execute_result"
    }
   ],
   "source": [
    "accuracy_score(np.argmax(y_test, axis=-1), cb_pred)"
   ]
  },
  {
   "cell_type": "code",
   "execution_count": 39,
   "id": "a51fdd9a-b841-4dc6-921d-f8007754e96a",
   "metadata": {},
   "outputs": [
    {
     "data": {
      "text/plain": [
       "0.271446939206632"
      ]
     },
     "execution_count": 39,
     "metadata": {},
     "output_type": "execute_result"
    }
   ],
   "source": [
    "f1_score(np.argmax(y_test, axis=-1), cb_pred.squeeze(), average='weighted')"
   ]
  },
  {
   "cell_type": "markdown",
   "id": "db19dff0-5168-4677-aab6-5d4bf44fee32",
   "metadata": {
    "tags": []
   },
   "source": [
    "### LogisticRegression"
   ]
  },
  {
   "cell_type": "code",
   "execution_count": 40,
   "id": "f470b582-5217-4f1c-a686-42c0a8d56af6",
   "metadata": {},
   "outputs": [
    {
     "data": {
      "text/plain": [
       "LogisticRegression(max_iter=500, random_state=42)"
      ]
     },
     "execution_count": 40,
     "metadata": {},
     "output_type": "execute_result"
    }
   ],
   "source": [
    "lg = LogisticRegression(random_state=42, max_iter=500)\n",
    "lg.fit(X_train, np.argmax(y_train, axis=-1))"
   ]
  },
  {
   "cell_type": "code",
   "execution_count": 41,
   "id": "81a4c387-3487-44b2-8190-288f6b711a9d",
   "metadata": {},
   "outputs": [],
   "source": [
    "logreg_pred = lg.predict(X_test)"
   ]
  },
  {
   "cell_type": "code",
   "execution_count": 42,
   "id": "51100925-eece-4774-b4e1-1ba1719c1518",
   "metadata": {},
   "outputs": [
    {
     "data": {
      "text/plain": [
       "Counter({2: 134,\n",
       "         0: 76,\n",
       "         1: 75,\n",
       "         4: 48,\n",
       "         3: 34,\n",
       "         6: 19,\n",
       "         5: 46,\n",
       "         7: 15,\n",
       "         9: 4,\n",
       "         8: 8,\n",
       "         10: 10,\n",
       "         13: 1,\n",
       "         12: 1})"
      ]
     },
     "execution_count": 42,
     "metadata": {},
     "output_type": "execute_result"
    }
   ],
   "source": [
    "Counter(logreg_pred)"
   ]
  },
  {
   "cell_type": "code",
   "execution_count": 44,
   "id": "7c34cc36-2632-4ac4-9c4e-afd39c580c4a",
   "metadata": {},
   "outputs": [
    {
     "data": {
      "text/plain": [
       "0.5966029723991507"
      ]
     },
     "execution_count": 44,
     "metadata": {},
     "output_type": "execute_result"
    }
   ],
   "source": [
    "accuracy_score(np.argmax(y_test, axis=-1), logreg_pred)"
   ]
  },
  {
   "cell_type": "code",
   "execution_count": 43,
   "id": "9982da60-a1a2-4159-947b-9c42b779dfbc",
   "metadata": {},
   "outputs": [
    {
     "data": {
      "text/plain": [
       "0.58746736576402"
      ]
     },
     "execution_count": 43,
     "metadata": {},
     "output_type": "execute_result"
    }
   ],
   "source": [
    "f1_score(np.argmax(y_test, axis=-1), logreg_pred, average='weighted')"
   ]
  },
  {
   "cell_type": "markdown",
   "id": "b6143669-2304-4d25-a2f3-d253c2e39c0a",
   "metadata": {
    "tags": []
   },
   "source": [
    "### RandomForest"
   ]
  },
  {
   "cell_type": "code",
   "execution_count": 45,
   "id": "7247be1b-f4f1-424e-9f5b-c692cb571bef",
   "metadata": {},
   "outputs": [],
   "source": [
    "rf = RandomForestClassifier(max_depth=10, random_state=42)"
   ]
  },
  {
   "cell_type": "code",
   "execution_count": 46,
   "id": "f6117dfe-9df4-4b21-841a-ea7af355cac3",
   "metadata": {},
   "outputs": [
    {
     "data": {
      "text/plain": [
       "RandomForestClassifier(max_depth=10, random_state=42)"
      ]
     },
     "execution_count": 46,
     "metadata": {},
     "output_type": "execute_result"
    }
   ],
   "source": [
    "rf.fit(X_train, np.argmax(y_train, axis=-1))"
   ]
  },
  {
   "cell_type": "code",
   "execution_count": 47,
   "id": "5a698ab4-ec04-4776-af6a-983457ffaeeb",
   "metadata": {},
   "outputs": [],
   "source": [
    "rf_preds = rf.predict(X_test)"
   ]
  },
  {
   "cell_type": "code",
   "execution_count": 50,
   "id": "d01e49d9-2ed3-4a15-ba4e-b5170a76a365",
   "metadata": {
    "tags": []
   },
   "outputs": [
    {
     "data": {
      "text/plain": [
       "Counter({2: 193,\n",
       "         4: 40,\n",
       "         1: 89,\n",
       "         0: 76,\n",
       "         7: 8,\n",
       "         5: 34,\n",
       "         3: 11,\n",
       "         10: 3,\n",
       "         6: 14,\n",
       "         12: 1,\n",
       "         9: 1,\n",
       "         8: 1})"
      ]
     },
     "execution_count": 50,
     "metadata": {},
     "output_type": "execute_result"
    }
   ],
   "source": [
    "Counter(rf_preds)"
   ]
  },
  {
   "cell_type": "code",
   "execution_count": 49,
   "id": "02abf297-c188-48e8-9d5e-ddc6d14a6c17",
   "metadata": {},
   "outputs": [
    {
     "data": {
      "text/plain": [
       "0.6050955414012739"
      ]
     },
     "execution_count": 49,
     "metadata": {},
     "output_type": "execute_result"
    }
   ],
   "source": [
    "accuracy_score(np.argmax(y_test, axis=-1), rf_preds)"
   ]
  },
  {
   "cell_type": "code",
   "execution_count": 48,
   "id": "7b5efe82-585b-4b95-b9c8-893d9a8d6b80",
   "metadata": {},
   "outputs": [
    {
     "data": {
      "text/plain": [
       "0.5706488233926231"
      ]
     },
     "execution_count": 48,
     "metadata": {},
     "output_type": "execute_result"
    }
   ],
   "source": [
    "f1_score(np.argmax(y_test, axis=-1), rf_preds, average='weighted')"
   ]
  },
  {
   "cell_type": "markdown",
   "id": "be215a60-3b70-46eb-8a71-d6535c9d8312",
   "metadata": {
    "tags": []
   },
   "source": [
    "## Concatenation"
   ]
  },
  {
   "cell_type": "code",
   "execution_count": 51,
   "id": "8a01d122-eedb-4ccc-9b3c-b3f0243738f9",
   "metadata": {},
   "outputs": [],
   "source": [
    "daily_dataset = SkillDataset(\n",
    "    data=daily, vars2id=daily_labels_map,\n",
    "    text_vectorizer=encoder,\n",
    "    label_encoder=LabelEncoder(\n",
    "        list(daily_labels_map['target_midas_and_entity2id']),\n",
    "        'concatenation'),\n",
    "    shuffle=False, batch_size=len(daily), **PARAMS)"
   ]
  },
  {
   "cell_type": "code",
   "execution_count": 52,
   "id": "7f576511-7dfc-4b4a-baab-9552e4c87394",
   "metadata": {},
   "outputs": [],
   "source": [
    "for X, y in daily_dataset:\n",
    "    break"
   ]
  },
  {
   "cell_type": "code",
   "execution_count": 53,
   "id": "2edb4b69-ba55-4c5a-a140-1ded3bbd84e9",
   "metadata": {},
   "outputs": [
    {
     "data": {
      "text/plain": [
       "((2352, 1635), (2352, 120))"
      ]
     },
     "execution_count": 53,
     "metadata": {},
     "output_type": "execute_result"
    }
   ],
   "source": [
    "X.shape, y.shape"
   ]
  },
  {
   "cell_type": "code",
   "execution_count": 54,
   "id": "384dbe86-f810-4891-87ee-d67381cce5f4",
   "metadata": {},
   "outputs": [],
   "source": [
    "X_train, X_test, y_train, y_test = train_test_split(X, y, test_size=0.2, random_state=42)"
   ]
  },
  {
   "cell_type": "code",
   "execution_count": 55,
   "id": "847be53b-7e09-4232-b41b-2155a9c81a9d",
   "metadata": {},
   "outputs": [
    {
     "data": {
      "text/plain": [
       "((1881, 1635), (471, 1635), (1881, 120), (471, 120))"
      ]
     },
     "execution_count": 55,
     "metadata": {},
     "output_type": "execute_result"
    }
   ],
   "source": [
    "X_train.shape, X_test.shape, y_train.shape, y_test.shape"
   ]
  },
  {
   "cell_type": "code",
   "execution_count": 56,
   "id": "72370096-2e77-494a-97b3-2a2e8e0a8041",
   "metadata": {},
   "outputs": [
    {
     "data": {
      "text/plain": [
       "array([1., 0., 0., 0., 0., 0., 0., 0., 0., 0., 0., 0., 0., 0., 0.])"
      ]
     },
     "execution_count": 56,
     "metadata": {},
     "output_type": "execute_result"
    }
   ],
   "source": [
    "X[0,525:540]"
   ]
  },
  {
   "cell_type": "code",
   "execution_count": 57,
   "id": "a7aff40a-b315-4799-ad03-4b5f591a7225",
   "metadata": {},
   "outputs": [
    {
     "data": {
      "text/plain": [
       "array([0.12488849, 0.01351607, 0.08920607, 0.18327792, 0.00162193,\n",
       "       0.01730057, 0.0189225 , 0.00162193, 0.03676371, 0.00108129,\n",
       "       0.00702836, 0.00432514, 0.01243478, 0.00054064, 0.02378828,\n",
       "       0.00540643, 0.00270321, 0.0491985 , 0.02054443, 0.0416295 ,\n",
       "       0.01621928, 0.00919093, 0.00540643, 0.0189225 , 0.00648771,\n",
       "       0.00162193, 0.00919093, 0.03838564, 0.00865029, 0.01081286,\n",
       "       0.02973536, 0.00540643, 0.00270321, 0.00270321, 0.00108129,\n",
       "       0.00432514, 0.01621928, 0.00486579, 0.01946314, 0.00216257,\n",
       "       0.00919093, 0.0037845 , 0.00270321, 0.00162193, 0.00108129,\n",
       "       0.0037845 , 0.00162193, 0.00162193, 0.00162193, 0.00108129,\n",
       "       0.00324386, 0.0037845 , 0.00324386, 0.00648771, 0.0037845 ,\n",
       "       0.00054064, 0.00648771, 0.00540643, 0.00486579, 0.        ,\n",
       "       0.00270321, 0.00054064, 0.00648771, 0.00919093, 0.00108129,\n",
       "       0.00054064, 0.00540643, 0.00270321, 0.00216257, 0.00108129,\n",
       "       0.00054064, 0.00054064, 0.00054064, 0.00054064, 0.00594707,\n",
       "       0.00540643, 0.00054064, 0.00216257, 0.00108129, 0.00108129,\n",
       "       0.00108129, 0.00162193, 0.00054064, 0.00054064, 0.00054064,\n",
       "       0.00054064, 0.00108129, 0.00162193, 0.00054064, 0.00054064,\n",
       "       0.00054064, 0.00054064, 0.00162193, 0.00054064, 0.00108129,\n",
       "       0.00162193, 0.00054064, 0.00054064, 0.        , 0.00108129,\n",
       "       0.        , 0.        , 0.00162193, 0.00162193, 0.00054064,\n",
       "       0.00162193, 0.00162193, 0.00054064, 0.00054064, 0.00108129,\n",
       "       0.00054064, 0.00054064, 0.        , 0.00054064, 0.00054064,\n",
       "       0.00054064, 0.00162193, 0.00054064, 0.        , 0.00054064])"
      ]
     },
     "execution_count": 57,
     "metadata": {},
     "output_type": "execute_result"
    }
   ],
   "source": [
    "n_bins = len(daily_labels_map['target_midas_and_entity2id'])\n",
    "class_weights, _ = np.histogram(np.argmax(y_train, axis=-1), bins=n_bins, density=True)\n",
    "class_weights"
   ]
  },
  {
   "cell_type": "markdown",
   "id": "bb20f41e-b8ca-4029-baf6-8c5e280bb166",
   "metadata": {
    "tags": []
   },
   "source": [
    "### Catboost"
   ]
  },
  {
   "cell_type": "code",
   "execution_count": 58,
   "id": "222834c5-9d3a-4fb6-bc31-536745be4356",
   "metadata": {
    "tags": []
   },
   "outputs": [],
   "source": [
    "cb_train = Pool(np.float32(X_train), label=np.argmax(y_train, axis=-1).tolist())\n",
    "cb_eval = Pool(np.float32(X_test), label=np.argmax(y_test, axis=-1).tolist())"
   ]
  },
  {
   "cell_type": "code",
   "execution_count": 59,
   "id": "e0b08291-211f-4ee4-82a6-9abcd6fb7236",
   "metadata": {},
   "outputs": [
    {
     "name": "stdout",
     "output_type": "stream",
     "text": [
      "0:\tlearn: 0.2413610\ttotal: 3.77s\tremaining: 52.7s\n",
      "1:\tlearn: 0.2456140\ttotal: 7.73s\tremaining: 50.2s\n",
      "2:\tlearn: 0.2551834\ttotal: 11.6s\tremaining: 46.5s\n",
      "3:\tlearn: 0.2567783\ttotal: 15.7s\tremaining: 43.2s\n",
      "4:\tlearn: 0.2557150\ttotal: 19.7s\tremaining: 39.4s\n",
      "5:\tlearn: 0.2503987\ttotal: 23.5s\tremaining: 35.3s\n",
      "6:\tlearn: 0.2498671\ttotal: 27.4s\tremaining: 31.3s\n",
      "7:\tlearn: 0.2509304\ttotal: 31.3s\tremaining: 27.4s\n",
      "8:\tlearn: 0.2440191\ttotal: 35s\tremaining: 23.3s\n",
      "9:\tlearn: 0.2424242\ttotal: 38.7s\tremaining: 19.3s\n",
      "10:\tlearn: 0.2445508\ttotal: 42.3s\tremaining: 15.4s\n",
      "11:\tlearn: 0.2541201\ttotal: 45.9s\tremaining: 11.5s\n",
      "12:\tlearn: 0.2541201\ttotal: 49.5s\tremaining: 7.61s\n",
      "13:\tlearn: 0.2535885\ttotal: 53.1s\tremaining: 3.79s\n",
      "14:\tlearn: 0.2525253\ttotal: 56.7s\tremaining: 0us\n"
     ]
    },
    {
     "data": {
      "text/plain": [
       "<catboost.core.CatBoostClassifier at 0x20215832310>"
      ]
     },
     "execution_count": 59,
     "metadata": {},
     "output_type": "execute_result"
    }
   ],
   "source": [
    "model_params = {\n",
    "    'task_type': 'CPU',\n",
    "    'iterations': 15,\n",
    "    'learning_rate': 0.001,\n",
    "    'depth': 3,\n",
    "    'verbose': True,\n",
    "    'loss_function': 'MultiClass',\n",
    "    'eval_metric': 'Accuracy',\n",
    "    # 'use_best_model': True,\n",
    "    # 'class_weights': class_weights\n",
    "}\n",
    "\n",
    "fit_params = {\n",
    "    # 'use_best_model': True,\n",
    "    'early_stopping_rounds': 5,\n",
    "    # 'eval_set': cb_eval, \n",
    "    \n",
    "}\n",
    "\n",
    "model = CatBoostClassifier(**model_params)\n",
    "model.fit(cb_train, **fit_params)"
   ]
  },
  {
   "cell_type": "code",
   "execution_count": 60,
   "id": "fe4e9948-63e1-4c88-91c3-0b73e73e7b30",
   "metadata": {},
   "outputs": [
    {
     "name": "stdout",
     "output_type": "stream",
     "text": [
      "class =  (471, 1)\n"
     ]
    }
   ],
   "source": [
    "cb_pred = model.predict(cb_eval)\n",
    "print(\"class = \", cb_pred.shape)"
   ]
  },
  {
   "cell_type": "code",
   "execution_count": 61,
   "id": "8d85f18c-1ce0-4c09-9d5c-4e1a68055a68",
   "metadata": {},
   "outputs": [
    {
     "data": {
      "text/plain": [
       "Counter({0: 203, 2: 12, 3: 256})"
      ]
     },
     "execution_count": 61,
     "metadata": {},
     "output_type": "execute_result"
    }
   ],
   "source": [
    "Counter(cb_pred.squeeze())"
   ]
  },
  {
   "cell_type": "code",
   "execution_count": 62,
   "id": "b46a7546-8de7-48c6-af71-be211df640ec",
   "metadata": {},
   "outputs": [
    {
     "data": {
      "text/plain": [
       "0.2823779193205945"
      ]
     },
     "execution_count": 62,
     "metadata": {},
     "output_type": "execute_result"
    }
   ],
   "source": [
    "accuracy_score(np.argmax(y_test, axis=-1), cb_pred.squeeze())"
   ]
  },
  {
   "cell_type": "code",
   "execution_count": 63,
   "id": "2f26e157-0235-4d63-a775-bc0fddeef425",
   "metadata": {},
   "outputs": [
    {
     "data": {
      "text/plain": [
       "0.2823779193205945"
      ]
     },
     "execution_count": 63,
     "metadata": {},
     "output_type": "execute_result"
    }
   ],
   "source": [
    "model.score(cb_eval)"
   ]
  },
  {
   "cell_type": "code",
   "execution_count": 64,
   "id": "4d6408d5-d657-4fd1-a2c0-bbbd8bd76bcc",
   "metadata": {},
   "outputs": [
    {
     "data": {
      "text/plain": [
       "0.16494663628421588"
      ]
     },
     "execution_count": 64,
     "metadata": {},
     "output_type": "execute_result"
    }
   ],
   "source": [
    "f1_score(np.argmax(y_test, axis=-1), cb_pred.squeeze(), average='weighted')"
   ]
  },
  {
   "cell_type": "markdown",
   "id": "9a338e86-120a-4e64-9075-0dd418dd1623",
   "metadata": {
    "tags": []
   },
   "source": [
    "### LogisticRegression"
   ]
  },
  {
   "cell_type": "code",
   "execution_count": 65,
   "id": "1c0e2482-1dcb-4d80-99f2-8d789d22b419",
   "metadata": {},
   "outputs": [
    {
     "data": {
      "text/plain": [
       "LogisticRegression(max_iter=500, random_state=42)"
      ]
     },
     "execution_count": 65,
     "metadata": {},
     "output_type": "execute_result"
    }
   ],
   "source": [
    "lg = LogisticRegression(random_state=42, max_iter=500)\n",
    "lg.fit(X_train, np.argmax(y_train, axis=-1))"
   ]
  },
  {
   "cell_type": "code",
   "execution_count": 66,
   "id": "aa4bf17a-148a-4c17-a1b1-29f51d62512b",
   "metadata": {},
   "outputs": [],
   "source": [
    "logreg_pred = lg.predict(X_test)"
   ]
  },
  {
   "cell_type": "code",
   "execution_count": 67,
   "id": "3bacd057-ee5a-415a-81f8-0a439a89cf5e",
   "metadata": {},
   "outputs": [
    {
     "data": {
      "text/plain": [
       "Counter({3: 158,\n",
       "         0: 84,\n",
       "         2: 49,\n",
       "         19: 25,\n",
       "         27: 21,\n",
       "         14: 8,\n",
       "         20: 4,\n",
       "         1: 6,\n",
       "         23: 8,\n",
       "         17: 40,\n",
       "         8: 16,\n",
       "         22: 1,\n",
       "         38: 9,\n",
       "         18: 5,\n",
       "         28: 3,\n",
       "         56: 2,\n",
       "         78: 1,\n",
       "         84: 1,\n",
       "         5: 3,\n",
       "         67: 1,\n",
       "         21: 3,\n",
       "         57: 1,\n",
       "         6: 2,\n",
       "         66: 1,\n",
       "         30: 8,\n",
       "         74: 3,\n",
       "         98: 1,\n",
       "         10: 1,\n",
       "         12: 1,\n",
       "         15: 2,\n",
       "         40: 1,\n",
       "         26: 1,\n",
       "         58: 1})"
      ]
     },
     "execution_count": 67,
     "metadata": {},
     "output_type": "execute_result"
    }
   ],
   "source": [
    "Counter(logreg_pred)"
   ]
  },
  {
   "cell_type": "code",
   "execution_count": 69,
   "id": "4e273627-89c7-4463-9d68-65edd68c47de",
   "metadata": {},
   "outputs": [
    {
     "data": {
      "text/plain": [
       "0.45222929936305734"
      ]
     },
     "execution_count": 69,
     "metadata": {},
     "output_type": "execute_result"
    }
   ],
   "source": [
    "accuracy_score(np.argmax(y_test, axis=-1), logreg_pred)"
   ]
  },
  {
   "cell_type": "code",
   "execution_count": 68,
   "id": "72e7df7e-9888-4b2f-965e-a93360a7c889",
   "metadata": {},
   "outputs": [
    {
     "data": {
      "text/plain": [
       "0.4020569694836455"
      ]
     },
     "execution_count": 68,
     "metadata": {},
     "output_type": "execute_result"
    }
   ],
   "source": [
    "f1_score(np.argmax(y_test, axis=-1), logreg_pred, average='weighted')"
   ]
  },
  {
   "cell_type": "markdown",
   "id": "02d9720f-67c9-4614-870f-bed418984917",
   "metadata": {},
   "source": [
    "### RandomForest"
   ]
  },
  {
   "cell_type": "code",
   "execution_count": 70,
   "id": "7478948d-796e-4386-a7f4-238d5d7f5d60",
   "metadata": {},
   "outputs": [],
   "source": [
    "rf = RandomForestClassifier(max_depth=10, random_state=42)"
   ]
  },
  {
   "cell_type": "code",
   "execution_count": 71,
   "id": "f2690be4-1bb6-464b-a2ba-012e4b91cc24",
   "metadata": {},
   "outputs": [
    {
     "data": {
      "text/plain": [
       "RandomForestClassifier(max_depth=10, random_state=42)"
      ]
     },
     "execution_count": 71,
     "metadata": {},
     "output_type": "execute_result"
    }
   ],
   "source": [
    "rf.fit(X_train, np.argmax(y_train, axis=-1))"
   ]
  },
  {
   "cell_type": "code",
   "execution_count": 72,
   "id": "fb15dfb8-0ee3-43bc-bc69-4004522b98c4",
   "metadata": {},
   "outputs": [],
   "source": [
    "rf_preds = rf.predict(X_test)"
   ]
  },
  {
   "cell_type": "code",
   "execution_count": 73,
   "id": "3e72b7b9-d064-42f2-897e-25ebec31008d",
   "metadata": {
    "tags": []
   },
   "outputs": [
    {
     "data": {
      "text/plain": [
       "Counter({0: 105,\n",
       "         2: 54,\n",
       "         3: 249,\n",
       "         14: 3,\n",
       "         20: 2,\n",
       "         36: 1,\n",
       "         19: 5,\n",
       "         17: 21,\n",
       "         27: 5,\n",
       "         52: 1,\n",
       "         38: 5,\n",
       "         28: 1,\n",
       "         5: 1,\n",
       "         1: 3,\n",
       "         67: 1,\n",
       "         21: 1,\n",
       "         18: 1,\n",
       "         56: 1,\n",
       "         77: 1,\n",
       "         33: 1,\n",
       "         66: 1,\n",
       "         98: 1,\n",
       "         10: 1,\n",
       "         8: 1,\n",
       "         12: 1,\n",
       "         15: 1,\n",
       "         40: 1,\n",
       "         45: 1,\n",
       "         30: 1})"
      ]
     },
     "execution_count": 73,
     "metadata": {},
     "output_type": "execute_result"
    }
   ],
   "source": [
    "Counter(rf_preds)"
   ]
  },
  {
   "cell_type": "code",
   "execution_count": 75,
   "id": "5bf5b296-aa13-48b9-bf67-f932c1f74a8c",
   "metadata": {},
   "outputs": [
    {
     "data": {
      "text/plain": [
       "0.4692144373673036"
      ]
     },
     "execution_count": 75,
     "metadata": {},
     "output_type": "execute_result"
    }
   ],
   "source": [
    "accuracy_score(np.argmax(y_test, axis=-1), rf_preds)"
   ]
  },
  {
   "cell_type": "code",
   "execution_count": 74,
   "id": "93971e73-8e0c-4fb7-9db1-a4aa8dfcca2a",
   "metadata": {},
   "outputs": [
    {
     "data": {
      "text/plain": [
       "0.3841952680581085"
      ]
     },
     "execution_count": 74,
     "metadata": {},
     "output_type": "execute_result"
    }
   ],
   "source": [
    "f1_score(np.argmax(y_test, axis=-1), rf_preds, average='weighted')"
   ]
  },
  {
   "cell_type": "markdown",
   "id": "35cf04ac-9ea8-4980-9aba-6b9392dcb901",
   "metadata": {
    "tags": []
   },
   "source": [
    "# Topical"
   ]
  },
  {
   "cell_type": "code",
   "execution_count": 76,
   "id": "157443f6-434c-46de-a8fe-570ddaab22d8",
   "metadata": {},
   "outputs": [],
   "source": [
    "with open('data/topical_labels.json', 'r', encoding=\"utf8\") as f:\n",
    "    topical_labels_map = json.load(f)\n",
    "\n",
    "with open('data/topical_dataset.json', 'r', encoding=\"utf8\") as f:\n",
    "    topical = json.load(f)"
   ]
  },
  {
   "cell_type": "code",
   "execution_count": 77,
   "id": "8474957d-64cf-4d44-b0fd-cf989324ddf4",
   "metadata": {},
   "outputs": [],
   "source": [
    "PARAMS = {\n",
    "    'embed_dim': 512,\n",
    "    'n_previous': 3\n",
    "}"
   ]
  },
  {
   "cell_type": "markdown",
   "id": "36bfb4e4-c5a0-4d74-b164-14855ef25e42",
   "metadata": {
    "tags": []
   },
   "source": [
    "### Midas"
   ]
  },
  {
   "cell_type": "code",
   "execution_count": 78,
   "id": "f66d509f-8f5b-4c7f-922b-4c5968179264",
   "metadata": {},
   "outputs": [],
   "source": [
    "topical_dataset = SkillDataset(\n",
    "    data=topical, vars2id=topical_labels_map,\n",
    "    text_vectorizer=encoder,\n",
    "    label_encoder=LabelEncoder(\n",
    "        list(topical_labels_map['target_midas2id']),\n",
    "        'midas'),\n",
    "    shuffle=False, batch_size=len(topical), **PARAMS)"
   ]
  },
  {
   "cell_type": "code",
   "execution_count": 79,
   "id": "09a38330-917e-4956-b55a-aef5cb3d72bf",
   "metadata": {},
   "outputs": [],
   "source": [
    "for X, y in topical_dataset:\n",
    "    break"
   ]
  },
  {
   "cell_type": "code",
   "execution_count": 80,
   "id": "a858832d-e5a6-4f65-8b03-2eee1b925a6a",
   "metadata": {},
   "outputs": [
    {
     "data": {
      "text/plain": [
       "((10117, 1641), (10117, 13))"
      ]
     },
     "execution_count": 80,
     "metadata": {},
     "output_type": "execute_result"
    }
   ],
   "source": [
    "X.shape, y.shape"
   ]
  },
  {
   "cell_type": "code",
   "execution_count": 81,
   "id": "cb16d41f-f181-46c7-b9b5-e7a3b92abe75",
   "metadata": {},
   "outputs": [],
   "source": [
    "X_train, X_test, y_train, y_test = train_test_split(X, y, test_size=0.2, random_state=42)"
   ]
  },
  {
   "cell_type": "code",
   "execution_count": 82,
   "id": "73bc3dff-2f78-42a3-b4df-7d819966c4e1",
   "metadata": {},
   "outputs": [
    {
     "data": {
      "text/plain": [
       "((8093, 1641), (2024, 1641), (8093, 13), (2024, 13))"
      ]
     },
     "execution_count": 82,
     "metadata": {},
     "output_type": "execute_result"
    }
   ],
   "source": [
    "X_train.shape, X_test.shape, y_train.shape, y_test.shape"
   ]
  },
  {
   "cell_type": "code",
   "execution_count": 83,
   "id": "ac6a1267-7286-4124-97a2-97cecbc656cb",
   "metadata": {},
   "outputs": [
    {
     "data": {
      "text/plain": [
       "array([1., 1., 0., 0., 0., 0., 0., 0., 0., 0., 0., 0., 0., 0., 0.])"
      ]
     },
     "execution_count": 83,
     "metadata": {},
     "output_type": "execute_result"
    }
   ],
   "source": [
    "X[0,525:540]"
   ]
  },
  {
   "cell_type": "code",
   "execution_count": 84,
   "id": "1aff425b-fba2-499e-bdc1-de03a0a36a4c",
   "metadata": {},
   "outputs": [
    {
     "data": {
      "text/plain": [
       "array([3.86187652e-01, 3.27958318e-02, 4.91937477e-01, 9.63795873e-02,\n",
       "       7.63005066e-03, 1.68664278e-02, 1.19135879e-02, 1.20474484e-02,\n",
       "       2.30240125e-02, 2.94493183e-03, 9.37023765e-04, 4.01581614e-04,\n",
       "       2.67721076e-04])"
      ]
     },
     "execution_count": 84,
     "metadata": {},
     "output_type": "execute_result"
    }
   ],
   "source": [
    "n_bins = len(topical_labels_map['target_midas2id'])\n",
    "class_weights, _ = np.histogram(np.argmax(y_train, axis=-1), bins=n_bins, density=True)\n",
    "class_weights"
   ]
  },
  {
   "cell_type": "markdown",
   "id": "fda667f8-5c4f-45dc-bf25-b814bf36a9be",
   "metadata": {
    "tags": []
   },
   "source": [
    "### Catboost"
   ]
  },
  {
   "cell_type": "code",
   "execution_count": 85,
   "id": "f25e632d-5364-4fcf-a928-498a980375cc",
   "metadata": {
    "tags": []
   },
   "outputs": [],
   "source": [
    "cb_train = Pool(np.float32(X_train), label=np.argmax(y_train, axis=-1).tolist())\n",
    "cb_eval = Pool(np.float32(X_test), label=np.argmax(y_test, axis=-1).tolist())"
   ]
  },
  {
   "cell_type": "code",
   "execution_count": 86,
   "id": "256fb6cf-1b98-4d6d-b400-34077f86b133",
   "metadata": {},
   "outputs": [
    {
     "name": "stdout",
     "output_type": "stream",
     "text": [
      "0:\tlearn: 0.6019261\ttest: 0.6125747\tbest: 0.6125747 (0)\ttotal: 427ms\tremaining: 3.84s\n",
      "1:\tlearn: 0.6012399\ttest: 0.6155530\tbest: 0.6155530 (1)\ttotal: 863ms\tremaining: 3.45s\n",
      "2:\tlearn: 0.6009832\ttest: 0.6161942\tbest: 0.6161942 (2)\ttotal: 1.28s\tremaining: 2.98s\n",
      "3:\tlearn: 0.6009832\ttest: 0.6161942\tbest: 0.6161942 (2)\ttotal: 1.65s\tremaining: 2.48s\n",
      "4:\tlearn: 0.6009832\ttest: 0.6161942\tbest: 0.6161942 (2)\ttotal: 2.06s\tremaining: 2.06s\n",
      "5:\tlearn: 0.6009832\ttest: 0.6161942\tbest: 0.6161942 (2)\ttotal: 2.52s\tremaining: 1.68s\n",
      "6:\tlearn: 0.6009832\ttest: 0.6161942\tbest: 0.6161942 (2)\ttotal: 2.95s\tremaining: 1.26s\n",
      "7:\tlearn: 0.6009832\ttest: 0.6161942\tbest: 0.6161942 (2)\ttotal: 3.44s\tremaining: 861ms\n",
      "Stopped by overfitting detector  (5 iterations wait)\n",
      "\n",
      "bestTest = 0.6161941837\n",
      "bestIteration = 2\n",
      "\n",
      "Shrink model to first 3 iterations.\n"
     ]
    },
    {
     "data": {
      "text/plain": [
       "<catboost.core.CatBoostClassifier at 0x20215805c70>"
      ]
     },
     "execution_count": 86,
     "metadata": {},
     "output_type": "execute_result"
    }
   ],
   "source": [
    "model_params = {\n",
    "    'task_type': 'CPU',\n",
    "    'iterations': 10,\n",
    "    'learning_rate': 0.001,\n",
    "    'depth': 3,\n",
    "    'verbose': True,\n",
    "    'loss_function': 'MultiClass',\n",
    "    'eval_metric': 'Accuracy',\n",
    "    'use_best_model': True,\n",
    "    'class_weights': class_weights\n",
    "}\n",
    "\n",
    "fit_params = {\n",
    "    'use_best_model': True,\n",
    "    'early_stopping_rounds': 5,\n",
    "    'eval_set': cb_eval, \n",
    "}\n",
    "\n",
    "model = CatBoostClassifier(**model_params)\n",
    "model.fit(cb_train, **fit_params)"
   ]
  },
  {
   "cell_type": "code",
   "execution_count": 87,
   "id": "a86f3451-83e1-4d91-a256-5940a99b9207",
   "metadata": {},
   "outputs": [
    {
     "name": "stdout",
     "output_type": "stream",
     "text": [
      "class =  (2024, 1)\n"
     ]
    }
   ],
   "source": [
    "cb_pred = model.predict(cb_eval)\n",
    "print(\"class = \", cb_pred.shape)"
   ]
  },
  {
   "cell_type": "code",
   "execution_count": 88,
   "id": "71b2d2df-619a-41d2-9f5a-5ed32125b290",
   "metadata": {},
   "outputs": [
    {
     "data": {
      "text/plain": [
       "Counter({2: 2024})"
      ]
     },
     "execution_count": 88,
     "metadata": {},
     "output_type": "execute_result"
    }
   ],
   "source": [
    "Counter(cb_pred.squeeze())"
   ]
  },
  {
   "cell_type": "code",
   "execution_count": 89,
   "id": "0ffdef5a-ef94-4612-b62a-bf32ee044a42",
   "metadata": {},
   "outputs": [
    {
     "data": {
      "text/plain": [
       "0.47480237154150196"
      ]
     },
     "execution_count": 89,
     "metadata": {},
     "output_type": "execute_result"
    }
   ],
   "source": [
    "accuracy_score(np.argmax(y_test, axis=-1), cb_pred.squeeze())"
   ]
  },
  {
   "cell_type": "code",
   "execution_count": 90,
   "id": "67a02ea8-1f9c-476a-a056-1e0ac45a6b42",
   "metadata": {},
   "outputs": [
    {
     "data": {
      "text/plain": [
       "0.47480237154150196"
      ]
     },
     "execution_count": 90,
     "metadata": {},
     "output_type": "execute_result"
    }
   ],
   "source": [
    "model.score(cb_eval)"
   ]
  },
  {
   "cell_type": "code",
   "execution_count": 91,
   "id": "9a5b263d-22ad-4bae-b794-fa4ae8073ac8",
   "metadata": {},
   "outputs": [
    {
     "data": {
      "text/plain": [
       "0.30571864593057513"
      ]
     },
     "execution_count": 91,
     "metadata": {},
     "output_type": "execute_result"
    }
   ],
   "source": [
    "f1_score(np.argmax(y_test, axis=-1), cb_pred.squeeze(), average='weighted')"
   ]
  },
  {
   "cell_type": "markdown",
   "id": "51338ea1-a88b-4eb1-a151-ffa074881605",
   "metadata": {
    "tags": []
   },
   "source": [
    "### LogisticRegression"
   ]
  },
  {
   "cell_type": "code",
   "execution_count": 92,
   "id": "68d3023a-9483-451d-a06d-fd2b8a0da164",
   "metadata": {},
   "outputs": [
    {
     "data": {
      "text/plain": [
       "LogisticRegression(max_iter=500, random_state=42)"
      ]
     },
     "execution_count": 92,
     "metadata": {},
     "output_type": "execute_result"
    }
   ],
   "source": [
    "lg = LogisticRegression(random_state=42, max_iter=500)\n",
    "lg.fit(X_train, np.argmax(y_train, axis=-1))"
   ]
  },
  {
   "cell_type": "code",
   "execution_count": 93,
   "id": "43a7f942-877d-42b2-a3d2-b0587096245a",
   "metadata": {},
   "outputs": [],
   "source": [
    "logreg_pred = lg.predict(X_test)"
   ]
  },
  {
   "cell_type": "code",
   "execution_count": 94,
   "id": "7c6a78ee-606f-4a02-a95d-7bb7f6e44ad2",
   "metadata": {},
   "outputs": [
    {
     "data": {
      "text/plain": [
       "Counter({0: 758, 2: 1171, 3: 66, 1: 26, 8: 3})"
      ]
     },
     "execution_count": 94,
     "metadata": {},
     "output_type": "execute_result"
    }
   ],
   "source": [
    "Counter(logreg_pred)"
   ]
  },
  {
   "cell_type": "code",
   "execution_count": 95,
   "id": "ce296ca3-726f-4132-93ef-9a1c5d58d090",
   "metadata": {},
   "outputs": [
    {
     "data": {
      "text/plain": [
       "0.4782608695652174"
      ]
     },
     "execution_count": 95,
     "metadata": {},
     "output_type": "execute_result"
    }
   ],
   "source": [
    "accuracy_score(np.argmax(y_test, axis=-1), logreg_pred)"
   ]
  },
  {
   "cell_type": "code",
   "execution_count": 96,
   "id": "493148bb-f061-447e-947b-22239abf15a7",
   "metadata": {},
   "outputs": [
    {
     "data": {
      "text/plain": [
       "0.4477238510100303"
      ]
     },
     "execution_count": 96,
     "metadata": {},
     "output_type": "execute_result"
    }
   ],
   "source": [
    "f1_score(np.argmax(y_test, axis=-1), logreg_pred, average='weighted')"
   ]
  },
  {
   "cell_type": "markdown",
   "id": "a8ce0f23-a35c-400a-ae39-4bfaca5ee641",
   "metadata": {
    "tags": []
   },
   "source": [
    "### RandomForeset"
   ]
  },
  {
   "cell_type": "code",
   "execution_count": 97,
   "id": "9ffe0918-1f1d-4b2a-b539-c10f85535eab",
   "metadata": {},
   "outputs": [],
   "source": [
    "rf = RandomForestClassifier(max_depth=10, random_state=42)"
   ]
  },
  {
   "cell_type": "code",
   "execution_count": 98,
   "id": "cc60603b-c7fc-419d-b370-247dc90b9a8b",
   "metadata": {},
   "outputs": [
    {
     "data": {
      "text/plain": [
       "RandomForestClassifier(max_depth=10, random_state=42)"
      ]
     },
     "execution_count": 98,
     "metadata": {},
     "output_type": "execute_result"
    }
   ],
   "source": [
    "rf.fit(X_train, np.argmax(y_train, axis=-1))"
   ]
  },
  {
   "cell_type": "code",
   "execution_count": 99,
   "id": "73f91f16-5e43-4d84-8c5d-85be9283a6f1",
   "metadata": {},
   "outputs": [],
   "source": [
    "rf_preds = rf.predict(X_test)"
   ]
  },
  {
   "cell_type": "code",
   "execution_count": 101,
   "id": "361fe370-851d-4cc2-806a-608c412017b6",
   "metadata": {
    "tags": []
   },
   "outputs": [
    {
     "data": {
      "text/plain": [
       "Counter({2: 1597, 0: 425, 1: 2})"
      ]
     },
     "execution_count": 101,
     "metadata": {},
     "output_type": "execute_result"
    }
   ],
   "source": [
    "Counter(rf_preds)"
   ]
  },
  {
   "cell_type": "code",
   "execution_count": 100,
   "id": "84aa5bd2-86d5-4e69-a818-62e4fdb5bd17",
   "metadata": {},
   "outputs": [
    {
     "data": {
      "text/plain": [
       "0.5177865612648221"
      ]
     },
     "execution_count": 100,
     "metadata": {},
     "output_type": "execute_result"
    }
   ],
   "source": [
    "accuracy_score(np.argmax(y_test, axis=-1), rf_preds)"
   ]
  },
  {
   "cell_type": "code",
   "execution_count": 102,
   "id": "e49af0cd-feb1-4fd7-b331-97572dfba516",
   "metadata": {},
   "outputs": [
    {
     "data": {
      "text/plain": [
       "0.44280225928025957"
      ]
     },
     "execution_count": 102,
     "metadata": {},
     "output_type": "execute_result"
    }
   ],
   "source": [
    "f1_score(np.argmax(y_test, axis=-1), rf_preds, average='weighted')"
   ]
  },
  {
   "cell_type": "markdown",
   "id": "e48b3b54-0f21-4a4e-866e-a4c37221114f",
   "metadata": {
    "tags": []
   },
   "source": [
    "## Entities"
   ]
  },
  {
   "cell_type": "code",
   "execution_count": 103,
   "id": "f517a82e-b5ea-4bc1-918c-94b4f3acc17e",
   "metadata": {},
   "outputs": [],
   "source": [
    "topical_dataset = SkillDataset(\n",
    "    data=topical, vars2id=topical_labels_map,\n",
    "    text_vectorizer=encoder,\n",
    "    label_encoder=LabelEncoder(\n",
    "        list(topical_labels_map['target_entity2id']),\n",
    "        'entity'),\n",
    "    shuffle=False, batch_size=len(topical), **PARAMS)"
   ]
  },
  {
   "cell_type": "code",
   "execution_count": 104,
   "id": "ef56fa4a-17b9-4d3d-9ee5-6986ed71d0f3",
   "metadata": {},
   "outputs": [],
   "source": [
    "for X, y in topical_dataset:\n",
    "    break"
   ]
  },
  {
   "cell_type": "code",
   "execution_count": 105,
   "id": "57f4964d-dbad-47a2-b2ae-3bf9669393ac",
   "metadata": {},
   "outputs": [],
   "source": [
    "X_train, X_test, y_train, y_test = train_test_split(X, y, test_size=0.2, random_state=42)"
   ]
  },
  {
   "cell_type": "code",
   "execution_count": 106,
   "id": "09f8e103-7bbc-4507-8390-07f97486cdd5",
   "metadata": {},
   "outputs": [
    {
     "data": {
      "text/plain": [
       "((8093, 1641), (2024, 1641), (8093, 20), (2024, 20))"
      ]
     },
     "execution_count": 106,
     "metadata": {},
     "output_type": "execute_result"
    }
   ],
   "source": [
    "X_train.shape, X_test.shape, y_train.shape, y_test.shape"
   ]
  },
  {
   "cell_type": "code",
   "execution_count": 107,
   "id": "84c5158d-f4e3-4df2-a37b-625e9aaca31f",
   "metadata": {},
   "outputs": [
    {
     "data": {
      "text/plain": [
       "array([1., 1., 0., 0., 0., 0., 0., 0., 0., 0., 0., 0., 0., 0., 0.])"
      ]
     },
     "execution_count": 107,
     "metadata": {},
     "output_type": "execute_result"
    }
   ],
   "source": [
    "X[0,525:540]"
   ]
  },
  {
   "cell_type": "code",
   "execution_count": 108,
   "id": "84f01c4e-e2b9-4aaa-94c0-bacad5d1f1ad",
   "metadata": {},
   "outputs": [
    {
     "data": {
      "text/plain": [
       "array([0.17363934, 0.27340066, 0.11549942, 0.06815507, 0.05983078,\n",
       "       0.09598939, 0.00429221, 0.05931052, 0.04162141, 0.02419245,\n",
       "       0.02510292, 0.0165185 , 0.04773456, 0.00650335, 0.01027529,\n",
       "       0.01053542, 0.0003902 , 0.01560803, 0.0011706 , 0.00286147])"
      ]
     },
     "execution_count": 108,
     "metadata": {},
     "output_type": "execute_result"
    }
   ],
   "source": [
    "n_bins = len(topical_labels_map['target_entity2id'])\n",
    "class_weights, _ = np.histogram(np.argmax(y_train, axis=-1), bins=n_bins, density=True)\n",
    "class_weights"
   ]
  },
  {
   "cell_type": "markdown",
   "id": "9a6c45f9-778d-4ff3-908d-021e3fa65b8b",
   "metadata": {
    "tags": []
   },
   "source": [
    "### Catboost"
   ]
  },
  {
   "cell_type": "code",
   "execution_count": 109,
   "id": "f3e2e496-2910-4d3c-85e7-2ee82011bd74",
   "metadata": {},
   "outputs": [
    {
     "name": "stdout",
     "output_type": "stream",
     "text": [
      "0:\tlearn: 0.5439720\ttest: 0.5414431\tbest: 0.5414431 (0)\ttotal: 824ms\tremaining: 11.5s\n",
      "1:\tlearn: 0.5480854\ttest: 0.5433233\tbest: 0.5433233 (1)\ttotal: 1.5s\tremaining: 9.76s\n",
      "2:\tlearn: 0.5443439\ttest: 0.5336498\tbest: 0.5433233 (1)\ttotal: 2.16s\tremaining: 8.63s\n",
      "3:\tlearn: 0.5466529\ttest: 0.5421011\tbest: 0.5433233 (1)\ttotal: 2.87s\tremaining: 7.88s\n",
      "4:\tlearn: 0.5499386\ttest: 0.5517228\tbest: 0.5517228 (4)\ttotal: 3.55s\tremaining: 7.09s\n",
      "5:\tlearn: 0.5473180\ttest: 0.5451900\tbest: 0.5517228 (4)\ttotal: 4.2s\tremaining: 6.29s\n",
      "6:\tlearn: 0.5474339\ttest: 0.5427189\tbest: 0.5517228 (4)\ttotal: 5.02s\tremaining: 5.74s\n",
      "7:\tlearn: 0.5420474\ttest: 0.5370015\tbest: 0.5517228 (4)\ttotal: 5.74s\tremaining: 5.02s\n",
      "8:\tlearn: 0.5435165\ttest: 0.5377114\tbest: 0.5517228 (4)\ttotal: 6.57s\tremaining: 4.38s\n",
      "9:\tlearn: 0.5423816\ttest: 0.5357660\tbest: 0.5517228 (4)\ttotal: 7.3s\tremaining: 3.65s\n",
      "Stopped by overfitting detector  (5 iterations wait)\n",
      "\n",
      "bestTest = 0.5517227504\n",
      "bestIteration = 4\n",
      "\n",
      "Shrink model to first 5 iterations.\n",
      "class =  (2024, 1)\n"
     ]
    }
   ],
   "source": [
    "cb_train = Pool(np.float32(X_train), label=np.argmax(y_train, axis=-1).tolist())\n",
    "cb_eval = Pool(np.float32(X_test), label=np.argmax(y_test, axis=-1).tolist())\n",
    "\n",
    "model_params = {\n",
    "    'task_type': 'CPU',\n",
    "    'iterations': 15,\n",
    "    'learning_rate': 0.001,\n",
    "    'depth': 3,\n",
    "    'verbose': True,\n",
    "    'loss_function': 'MultiClass',\n",
    "    'eval_metric': 'Accuracy',\n",
    "    'use_best_model': True,\n",
    "    'class_weights': class_weights\n",
    "}\n",
    "\n",
    "fit_params = {\n",
    "    'use_best_model': True,\n",
    "    'early_stopping_rounds': 5,\n",
    "    'eval_set': cb_eval, \n",
    "}\n",
    "\n",
    "model = CatBoostClassifier(**model_params)\n",
    "model.fit(cb_train, **fit_params)\n",
    "\n",
    "cb_pred = model.predict(cb_eval)\n",
    "print(\"class = \", cb_pred.shape)"
   ]
  },
  {
   "cell_type": "code",
   "execution_count": 110,
   "id": "3ecc4ea6-4a47-40e3-80c0-680ede0acba1",
   "metadata": {},
   "outputs": [
    {
     "data": {
      "text/plain": [
       "Counter({1: 1732, 0: 292})"
      ]
     },
     "execution_count": 110,
     "metadata": {},
     "output_type": "execute_result"
    }
   ],
   "source": [
    "Counter(cb_pred.squeeze())"
   ]
  },
  {
   "cell_type": "code",
   "execution_count": 111,
   "id": "7fcbc32d-b0db-4d8d-9777-420a140b3ec5",
   "metadata": {},
   "outputs": [
    {
     "data": {
      "text/plain": [
       "0.3038537549407115"
      ]
     },
     "execution_count": 111,
     "metadata": {},
     "output_type": "execute_result"
    }
   ],
   "source": [
    "accuracy_score(np.argmax(y_test, axis=-1), cb_pred)"
   ]
  },
  {
   "cell_type": "code",
   "execution_count": 112,
   "id": "a2e44f09-ec57-4ca1-8e5c-4747ef74b97a",
   "metadata": {},
   "outputs": [
    {
     "data": {
      "text/plain": [
       "0.18394759551622514"
      ]
     },
     "execution_count": 112,
     "metadata": {},
     "output_type": "execute_result"
    }
   ],
   "source": [
    "f1_score(np.argmax(y_test, axis=-1), cb_pred.squeeze(), average='weighted')"
   ]
  },
  {
   "cell_type": "markdown",
   "id": "810ffb13-a31f-4a18-98a5-c044f2714291",
   "metadata": {
    "tags": []
   },
   "source": [
    "### LogisticRegression"
   ]
  },
  {
   "cell_type": "code",
   "execution_count": 113,
   "id": "4d1d81e6-5392-43db-81e7-dc86ed854b55",
   "metadata": {},
   "outputs": [
    {
     "data": {
      "text/plain": [
       "LogisticRegression(max_iter=500, random_state=42)"
      ]
     },
     "execution_count": 113,
     "metadata": {},
     "output_type": "execute_result"
    }
   ],
   "source": [
    "lg = LogisticRegression(random_state=42, max_iter=500)\n",
    "lg.fit(X_train, np.argmax(y_train, axis=-1))"
   ]
  },
  {
   "cell_type": "code",
   "execution_count": 114,
   "id": "6273c680-303f-4598-84bd-d82c4ee30d8f",
   "metadata": {},
   "outputs": [],
   "source": [
    "logreg_pred = lg.predict(X_test)"
   ]
  },
  {
   "cell_type": "code",
   "execution_count": 115,
   "id": "6e90727e-2410-463a-a4c0-301642a371c4",
   "metadata": {},
   "outputs": [
    {
     "data": {
      "text/plain": [
       "Counter({12: 98,\n",
       "         1: 659,\n",
       "         5: 201,\n",
       "         4: 112,\n",
       "         8: 67,\n",
       "         0: 358,\n",
       "         2: 226,\n",
       "         7: 108,\n",
       "         3: 97,\n",
       "         9: 22,\n",
       "         17: 15,\n",
       "         11: 13,\n",
       "         10: 21,\n",
       "         14: 5,\n",
       "         15: 15,\n",
       "         6: 5,\n",
       "         13: 2})"
      ]
     },
     "execution_count": 115,
     "metadata": {},
     "output_type": "execute_result"
    }
   ],
   "source": [
    "Counter(logreg_pred)"
   ]
  },
  {
   "cell_type": "code",
   "execution_count": 117,
   "id": "27ce9c85-6cb6-4395-b02b-40ec62f8a1b4",
   "metadata": {},
   "outputs": [
    {
     "data": {
      "text/plain": [
       "0.4491106719367589"
      ]
     },
     "execution_count": 117,
     "metadata": {},
     "output_type": "execute_result"
    }
   ],
   "source": [
    "accuracy_score(np.argmax(y_test, axis=-1), logreg_pred)"
   ]
  },
  {
   "cell_type": "code",
   "execution_count": 116,
   "id": "b8b3e433-4246-4482-8a92-5d0fac254b32",
   "metadata": {},
   "outputs": [
    {
     "data": {
      "text/plain": [
       "0.43455429861165723"
      ]
     },
     "execution_count": 116,
     "metadata": {},
     "output_type": "execute_result"
    }
   ],
   "source": [
    "f1_score(np.argmax(y_test, axis=-1), logreg_pred, average='weighted')"
   ]
  },
  {
   "cell_type": "markdown",
   "id": "d23aef8e-1735-4c35-8851-431739838134",
   "metadata": {
    "tags": []
   },
   "source": [
    "### RandomForest"
   ]
  },
  {
   "cell_type": "code",
   "execution_count": 118,
   "id": "96fb4cc7-3cb9-40cf-b56b-c847f533a63e",
   "metadata": {},
   "outputs": [],
   "source": [
    "rf = RandomForestClassifier(max_depth=10, random_state=42)"
   ]
  },
  {
   "cell_type": "code",
   "execution_count": 119,
   "id": "dc565f88-3ae9-4cee-8867-33245dfaf0f9",
   "metadata": {},
   "outputs": [
    {
     "data": {
      "text/plain": [
       "RandomForestClassifier(max_depth=10, random_state=42)"
      ]
     },
     "execution_count": 119,
     "metadata": {},
     "output_type": "execute_result"
    }
   ],
   "source": [
    "rf.fit(X_train, np.argmax(y_train, axis=-1))"
   ]
  },
  {
   "cell_type": "code",
   "execution_count": 120,
   "id": "56932727-771f-4565-a7d6-a45390b26b93",
   "metadata": {},
   "outputs": [],
   "source": [
    "rf_preds = rf.predict(X_test)"
   ]
  },
  {
   "cell_type": "code",
   "execution_count": 123,
   "id": "a3295ac9-49f5-4501-b268-1d96ebe12ac0",
   "metadata": {
    "tags": []
   },
   "outputs": [
    {
     "data": {
      "text/plain": [
       "Counter({12: 62, 1: 1165, 0: 318, 4: 56, 5: 109, 2: 202, 7: 81, 8: 11, 3: 20})"
      ]
     },
     "execution_count": 123,
     "metadata": {},
     "output_type": "execute_result"
    }
   ],
   "source": [
    "Counter(rf_preds)"
   ]
  },
  {
   "cell_type": "code",
   "execution_count": 122,
   "id": "68075810-ddd8-42dd-9961-ab9545409064",
   "metadata": {},
   "outputs": [
    {
     "data": {
      "text/plain": [
       "0.4426877470355731"
      ]
     },
     "execution_count": 122,
     "metadata": {},
     "output_type": "execute_result"
    }
   ],
   "source": [
    "accuracy_score(np.argmax(y_test, axis=-1), rf_preds)"
   ]
  },
  {
   "cell_type": "code",
   "execution_count": 121,
   "id": "42440eb6-a492-487f-8448-6d60a0c3352f",
   "metadata": {},
   "outputs": [
    {
     "data": {
      "text/plain": [
       "0.39009887868759885"
      ]
     },
     "execution_count": 121,
     "metadata": {},
     "output_type": "execute_result"
    }
   ],
   "source": [
    "f1_score(np.argmax(y_test, axis=-1), rf_preds, average='weighted')"
   ]
  },
  {
   "cell_type": "markdown",
   "id": "b33820b6-8888-4adc-8c6e-38caaedf4432",
   "metadata": {
    "tags": []
   },
   "source": [
    "## Concatenation"
   ]
  },
  {
   "cell_type": "code",
   "execution_count": 124,
   "id": "98c26fda-14ba-4765-8c6f-2bb900c399c0",
   "metadata": {},
   "outputs": [],
   "source": [
    "topical_dataset = SkillDataset(\n",
    "    data=topical, vars2id=topical_labels_map,\n",
    "    text_vectorizer=encoder,\n",
    "    label_encoder=LabelEncoder(\n",
    "        list(topical_labels_map['target_midas_and_entity2id']),\n",
    "        'concatenation'),\n",
    "    shuffle=False, batch_size=len(topical), **PARAMS)"
   ]
  },
  {
   "cell_type": "code",
   "execution_count": 125,
   "id": "c3c3bf7e-04d9-4a44-acac-16e0aa10df74",
   "metadata": {},
   "outputs": [],
   "source": [
    "for X, y in topical_dataset:\n",
    "    break"
   ]
  },
  {
   "cell_type": "code",
   "execution_count": 126,
   "id": "3c4e9836-7dba-4d53-830c-1d4c8b76acd2",
   "metadata": {},
   "outputs": [
    {
     "data": {
      "text/plain": [
       "((10117, 1641), (10117, 163))"
      ]
     },
     "execution_count": 126,
     "metadata": {},
     "output_type": "execute_result"
    }
   ],
   "source": [
    "X.shape, y.shape"
   ]
  },
  {
   "cell_type": "code",
   "execution_count": 127,
   "id": "3a513003-0e72-47ef-947e-0bf2a912c5ba",
   "metadata": {},
   "outputs": [],
   "source": [
    "X_train, X_test, y_train, y_test = train_test_split(X, y, test_size=0.2, random_state=42)"
   ]
  },
  {
   "cell_type": "code",
   "execution_count": 128,
   "id": "325c34c5-600a-470c-b4c8-588c5e65d281",
   "metadata": {},
   "outputs": [
    {
     "data": {
      "text/plain": [
       "((8093, 1641), (2024, 1641), (8093, 163), (2024, 163))"
      ]
     },
     "execution_count": 128,
     "metadata": {},
     "output_type": "execute_result"
    }
   ],
   "source": [
    "X_train.shape, X_test.shape, y_train.shape, y_test.shape"
   ]
  },
  {
   "cell_type": "code",
   "execution_count": 129,
   "id": "a4ff7cd2-d6e6-44d3-8818-e7fbb4c42dc6",
   "metadata": {},
   "outputs": [
    {
     "data": {
      "text/plain": [
       "array([1., 1., 0., 0., 0., 0., 0., 0., 0., 0., 0., 0., 0., 0., 0.])"
      ]
     },
     "execution_count": 129,
     "metadata": {},
     "output_type": "execute_result"
    }
   ],
   "source": [
    "X[0,525:540]"
   ]
  },
  {
   "cell_type": "code",
   "execution_count": 130,
   "id": "0ffdffa5-b28d-4e39-a142-a03d5c335f45",
   "metadata": {},
   "outputs": [
    {
     "data": {
      "text/plain": [
       "array([5.50765560e-02, 3.60546304e-03, 7.69579869e-02, 8.11850815e-02,\n",
       "       5.10981141e-02, 3.68005882e-02, 1.31785890e-01, 1.18109996e-02,\n",
       "       2.39949781e-02, 2.30003676e-02, 4.32655564e-02, 9.94610493e-04,\n",
       "       2.76004412e-02, 1.80273152e-02, 2.08868203e-02, 6.09198927e-03,\n",
       "       2.17571045e-02, 1.56651153e-02, 1.72813573e-02, 1.61624205e-03,\n",
       "       4.42601669e-02, 1.36758943e-03, 4.10276828e-03, 1.74056836e-03,\n",
       "       6.21631558e-04, 3.85411566e-03, 1.49191574e-02, 1.11893680e-03,\n",
       "       6.09198927e-03, 3.12059042e-02, 9.94610493e-04, 1.54164626e-02,\n",
       "       2.48652623e-03, 5.09737877e-03, 7.83255763e-03, 4.35142090e-03,\n",
       "       2.52382412e-02, 2.48652623e-03, 2.73517885e-03, 6.21631558e-03,\n",
       "       3.10815779e-03, 3.23248410e-03, 1.24326312e-04, 3.72978935e-04,\n",
       "       3.72978935e-03, 3.23248410e-03, 6.34064189e-03, 2.85950517e-03,\n",
       "       5.59468402e-03, 6.46496820e-03, 6.96227345e-03, 9.94610493e-04,\n",
       "       4.35142090e-03, 1.24326312e-03, 4.47574722e-03, 7.45957869e-04,\n",
       "       6.09198927e-03, 0.00000000e+00, 1.36758943e-03, 1.38002206e-02,\n",
       "       4.10276828e-03, 3.60546304e-03, 9.94610493e-04, 2.48652623e-04,\n",
       "       2.11354730e-03, 1.11893680e-03, 1.86489467e-03, 3.60546304e-03,\n",
       "       6.21631558e-04, 6.21631558e-04, 1.24326312e-04, 7.45957869e-04,\n",
       "       4.97305246e-04, 1.11893680e-03, 7.45957869e-04, 7.45957869e-04,\n",
       "       4.72439984e-03, 3.72978935e-04, 3.72978935e-04, 1.24326312e-04,\n",
       "       1.61624205e-03, 1.36758943e-03, 1.36758943e-03, 3.72978935e-04,\n",
       "       6.21631558e-04, 7.45957869e-04, 1.49191574e-03, 6.21631558e-04,\n",
       "       7.45957869e-04, 1.11893680e-03, 8.70284181e-04, 2.98383148e-03,\n",
       "       1.49191574e-03, 6.46496820e-03, 4.97305246e-04, 8.70284181e-04,\n",
       "       1.61624205e-03, 2.48652623e-04, 2.48652623e-04, 1.11893680e-03,\n",
       "       7.45957869e-04, 3.72978935e-04, 3.72978935e-04, 8.70284181e-04,\n",
       "       9.94610493e-04, 8.70284181e-04, 8.70284181e-04, 1.24326312e-04,\n",
       "       1.49191574e-03, 3.72978935e-04, 8.70284181e-04, 7.45957869e-04,\n",
       "       2.11354730e-03, 2.48652623e-04, 1.24326312e-04, 3.72978935e-04,\n",
       "       4.97305246e-04, 2.48652623e-04, 3.72978935e-04, 3.72978935e-04,\n",
       "       2.48652623e-04, 1.36758943e-03, 2.48652623e-04, 1.24326312e-03,\n",
       "       2.48652623e-04, 3.72978935e-04, 1.24326312e-04, 1.24326312e-04,\n",
       "       2.48652623e-04, 1.24326312e-04, 2.48652623e-04, 1.24326312e-04,\n",
       "       1.24326312e-04, 2.11354730e-03, 4.97305246e-04, 3.72978935e-04,\n",
       "       1.24326312e-04, 3.72978935e-04, 1.24326312e-04, 1.24326312e-04,\n",
       "       1.24326312e-04, 1.24326312e-04, 1.24326312e-04, 7.45957869e-04,\n",
       "       1.24326312e-04, 1.24326312e-04, 1.24326312e-04, 4.97305246e-04,\n",
       "       1.24326312e-04, 1.24326312e-04, 1.24326312e-04, 1.24326312e-04,\n",
       "       1.24326312e-04, 1.24326312e-04, 1.24326312e-04, 1.24326312e-04,\n",
       "       0.00000000e+00, 2.48652623e-04, 1.24326312e-04, 2.48652623e-04,\n",
       "       0.00000000e+00, 1.24326312e-04, 1.24326312e-04])"
      ]
     },
     "execution_count": 130,
     "metadata": {},
     "output_type": "execute_result"
    }
   ],
   "source": [
    "n_bins = len(topical_labels_map['target_midas_and_entity2id'])\n",
    "class_weights, _ = np.histogram(np.argmax(y_train, axis=-1), bins=n_bins, density=True)\n",
    "class_weights"
   ]
  },
  {
   "cell_type": "markdown",
   "id": "4e859df9-bd54-4154-9060-8c3487d50a26",
   "metadata": {
    "tags": []
   },
   "source": [
    "### Catboost"
   ]
  },
  {
   "cell_type": "code",
   "execution_count": 131,
   "id": "8f941ff8-4467-4321-94c8-58b44a51b8d0",
   "metadata": {
    "tags": []
   },
   "outputs": [],
   "source": [
    "cb_train = Pool(np.float32(X_train), label=np.argmax(y_train, axis=-1).tolist())\n",
    "cb_eval = Pool(np.float32(X_test), label=np.argmax(y_test, axis=-1).tolist())"
   ]
  },
  {
   "cell_type": "code",
   "execution_count": 132,
   "id": "fe4abc57-d6b5-4495-8faf-f28da515d698",
   "metadata": {},
   "outputs": [
    {
     "name": "stdout",
     "output_type": "stream",
     "text": [
      "0:\tlearn: 0.1401211\ttotal: 9.1s\tremaining: 2m 7s\n",
      "1:\tlearn: 0.1333251\ttotal: 18.1s\tremaining: 1m 57s\n",
      "2:\tlearn: 0.1313481\ttotal: 27.1s\tremaining: 1m 48s\n",
      "3:\tlearn: 0.1325837\ttotal: 36.7s\tremaining: 1m 41s\n",
      "4:\tlearn: 0.1311010\ttotal: 46.1s\tremaining: 1m 32s\n",
      "5:\tlearn: 0.1309774\ttotal: 55.8s\tremaining: 1m 23s\n",
      "6:\tlearn: 0.1309774\ttotal: 1m 4s\tremaining: 1m 14s\n",
      "7:\tlearn: 0.1309774\ttotal: 1m 14s\tremaining: 1m 5s\n",
      "8:\tlearn: 0.1315952\ttotal: 1m 23s\tremaining: 55.8s\n",
      "9:\tlearn: 0.1309774\ttotal: 1m 33s\tremaining: 46.5s\n",
      "10:\tlearn: 0.1309774\ttotal: 1m 41s\tremaining: 36.9s\n",
      "11:\tlearn: 0.1309774\ttotal: 1m 50s\tremaining: 27.5s\n",
      "12:\tlearn: 0.1309774\ttotal: 1m 58s\tremaining: 18.3s\n",
      "13:\tlearn: 0.1309774\ttotal: 2m 7s\tremaining: 9.08s\n",
      "14:\tlearn: 0.1346843\ttotal: 2m 15s\tremaining: 0us\n"
     ]
    },
    {
     "data": {
      "text/plain": [
       "<catboost.core.CatBoostClassifier at 0x20237d43b20>"
      ]
     },
     "execution_count": 132,
     "metadata": {},
     "output_type": "execute_result"
    }
   ],
   "source": [
    "model_params = {\n",
    "    'task_type': 'CPU',\n",
    "    'iterations': 15,\n",
    "    'learning_rate': 0.001,\n",
    "    'depth': 3,\n",
    "    'verbose': True,\n",
    "    'loss_function': 'MultiClass',\n",
    "    'eval_metric': 'Accuracy',\n",
    "    # 'use_best_model': True,\n",
    "    # 'class_weights': class_weights\n",
    "}\n",
    "\n",
    "fit_params = {\n",
    "    # 'use_best_model': True,\n",
    "    'early_stopping_rounds': 5,\n",
    "    # 'eval_set': cb_eval, \n",
    "}\n",
    "\n",
    "model = CatBoostClassifier(**model_params)\n",
    "model.fit(cb_train, **fit_params)"
   ]
  },
  {
   "cell_type": "code",
   "execution_count": 133,
   "id": "0f0d16ec-c3cc-4a2d-bed2-4e3971bae10c",
   "metadata": {},
   "outputs": [
    {
     "name": "stdout",
     "output_type": "stream",
     "text": [
      "class =  (2024, 1)\n"
     ]
    }
   ],
   "source": [
    "cb_pred = model.predict(cb_eval)\n",
    "print(\"class = \", cb_pred.shape)"
   ]
  },
  {
   "cell_type": "code",
   "execution_count": 134,
   "id": "d9c94a1b-ac21-42dd-a032-6f970c4b14e9",
   "metadata": {},
   "outputs": [
    {
     "data": {
      "text/plain": [
       "Counter({6: 1999, 2: 25})"
      ]
     },
     "execution_count": 134,
     "metadata": {},
     "output_type": "execute_result"
    }
   ],
   "source": [
    "Counter(cb_pred.squeeze())"
   ]
  },
  {
   "cell_type": "code",
   "execution_count": 135,
   "id": "909b8286-6058-49e6-81a2-2357b3e87c77",
   "metadata": {},
   "outputs": [
    {
     "data": {
      "text/plain": [
       "0.13982213438735178"
      ]
     },
     "execution_count": 135,
     "metadata": {},
     "output_type": "execute_result"
    }
   ],
   "source": [
    "accuracy_score(np.argmax(y_test, axis=-1), cb_pred.squeeze())"
   ]
  },
  {
   "cell_type": "code",
   "execution_count": 136,
   "id": "5799bf91-5ad3-40a7-aabf-1fc934c64586",
   "metadata": {},
   "outputs": [
    {
     "data": {
      "text/plain": [
       "0.13982213438735178"
      ]
     },
     "execution_count": 136,
     "metadata": {},
     "output_type": "execute_result"
    }
   ],
   "source": [
    "model.score(cb_eval)"
   ]
  },
  {
   "cell_type": "code",
   "execution_count": 137,
   "id": "47db976e-32cd-4e58-af5c-21dfaf0f671e",
   "metadata": {},
   "outputs": [
    {
     "data": {
      "text/plain": [
       "0.04052507600327386"
      ]
     },
     "execution_count": 137,
     "metadata": {},
     "output_type": "execute_result"
    }
   ],
   "source": [
    "f1_score(np.argmax(y_test, axis=-1), cb_pred.squeeze(), average='weighted')"
   ]
  },
  {
   "cell_type": "markdown",
   "id": "7f4558df-ae34-48e7-8dc9-f9bed7fc129d",
   "metadata": {
    "tags": []
   },
   "source": [
    "### LogisticRegression"
   ]
  },
  {
   "cell_type": "code",
   "execution_count": 138,
   "id": "61d9023f-a5c2-4609-a921-1b9f5fd8d6e3",
   "metadata": {},
   "outputs": [
    {
     "data": {
      "text/plain": [
       "LogisticRegression(max_iter=500, random_state=42)"
      ]
     },
     "execution_count": 138,
     "metadata": {},
     "output_type": "execute_result"
    }
   ],
   "source": [
    "lg = LogisticRegression(random_state=42, max_iter=500)\n",
    "lg.fit(X_train, np.argmax(y_train, axis=-1))"
   ]
  },
  {
   "cell_type": "code",
   "execution_count": 139,
   "id": "670bfd04-6e1b-4de7-8a1c-eed28ba1ffbe",
   "metadata": {},
   "outputs": [],
   "source": [
    "logreg_pred = lg.predict(X_test)"
   ]
  },
  {
   "cell_type": "code",
   "execution_count": 140,
   "id": "01e9fa85-7c4b-43ab-b34f-c2caf0ed55dc",
   "metadata": {},
   "outputs": [
    {
     "data": {
      "text/plain": [
       "Counter({31: 24,\n",
       "         3: 205,\n",
       "         10: 136,\n",
       "         36: 57,\n",
       "         6: 455,\n",
       "         14: 47,\n",
       "         29: 58,\n",
       "         0: 128,\n",
       "         2: 218,\n",
       "         20: 99,\n",
       "         12: 77,\n",
       "         5: 79,\n",
       "         9: 15,\n",
       "         4: 140,\n",
       "         17: 21,\n",
       "         56: 2,\n",
       "         8: 50,\n",
       "         46: 4,\n",
       "         18: 29,\n",
       "         59: 19,\n",
       "         13: 37,\n",
       "         112: 1,\n",
       "         28: 4,\n",
       "         15: 1,\n",
       "         52: 1,\n",
       "         54: 5,\n",
       "         26: 28,\n",
       "         16: 21,\n",
       "         25: 3,\n",
       "         100: 3,\n",
       "         93: 9,\n",
       "         7: 11,\n",
       "         44: 3,\n",
       "         22: 3,\n",
       "         64: 3,\n",
       "         49: 1,\n",
       "         45: 4,\n",
       "         50: 1,\n",
       "         66: 2,\n",
       "         67: 5,\n",
       "         33: 3,\n",
       "         39: 1,\n",
       "         35: 1,\n",
       "         48: 2,\n",
       "         19: 2,\n",
       "         1: 1,\n",
       "         76: 1,\n",
       "         61: 1,\n",
       "         37: 1,\n",
       "         34: 1,\n",
       "         121: 1})"
      ]
     },
     "execution_count": 140,
     "metadata": {},
     "output_type": "execute_result"
    }
   ],
   "source": [
    "Counter(logreg_pred)"
   ]
  },
  {
   "cell_type": "code",
   "execution_count": 141,
   "id": "bcf9b1e4-6470-4a10-91ff-323391bc995b",
   "metadata": {},
   "outputs": [
    {
     "data": {
      "text/plain": [
       "0.23221343873517786"
      ]
     },
     "execution_count": 141,
     "metadata": {},
     "output_type": "execute_result"
    }
   ],
   "source": [
    "accuracy_score(np.argmax(y_test, axis=-1), logreg_pred)"
   ]
  },
  {
   "cell_type": "code",
   "execution_count": 142,
   "id": "b886db15-9b44-4fe2-81ac-a4c512a90e52",
   "metadata": {},
   "outputs": [
    {
     "data": {
      "text/plain": [
       "0.20415437113378418"
      ]
     },
     "execution_count": 142,
     "metadata": {},
     "output_type": "execute_result"
    }
   ],
   "source": [
    "f1_score(np.argmax(y_test, axis=-1), logreg_pred, average='weighted')"
   ]
  },
  {
   "cell_type": "markdown",
   "id": "347efa63-ce07-40d5-9293-41c2e1acc897",
   "metadata": {},
   "source": [
    "### RandomForest"
   ]
  },
  {
   "cell_type": "code",
   "execution_count": 143,
   "id": "fab60104-a344-42a3-8bb0-aeee1c04812f",
   "metadata": {},
   "outputs": [],
   "source": [
    "rf = RandomForestClassifier(max_depth=10, random_state=42)"
   ]
  },
  {
   "cell_type": "code",
   "execution_count": 144,
   "id": "ee17f960-f080-494f-94b9-3634571fe53d",
   "metadata": {},
   "outputs": [
    {
     "data": {
      "text/plain": [
       "RandomForestClassifier(max_depth=10, random_state=42)"
      ]
     },
     "execution_count": 144,
     "metadata": {},
     "output_type": "execute_result"
    }
   ],
   "source": [
    "rf.fit(X_train, np.argmax(y_train, axis=-1))"
   ]
  },
  {
   "cell_type": "code",
   "execution_count": 145,
   "id": "6b30873a-18e8-4ed4-b2d0-e91a223b9515",
   "metadata": {},
   "outputs": [],
   "source": [
    "rf_preds = rf.predict(X_test)"
   ]
  },
  {
   "cell_type": "code",
   "execution_count": 146,
   "id": "cad32f7c-10c3-4496-bae5-1752f1172704",
   "metadata": {
    "tags": []
   },
   "outputs": [
    {
     "data": {
      "text/plain": [
       "Counter({36: 63,\n",
       "         6: 1127,\n",
       "         2: 257,\n",
       "         8: 38,\n",
       "         4: 158,\n",
       "         10: 100,\n",
       "         20: 65,\n",
       "         12: 76,\n",
       "         3: 76,\n",
       "         5: 19,\n",
       "         0: 16,\n",
       "         13: 4,\n",
       "         14: 13,\n",
       "         29: 4,\n",
       "         31: 3,\n",
       "         22: 2,\n",
       "         100: 1,\n",
       "         18: 2})"
      ]
     },
     "execution_count": 146,
     "metadata": {},
     "output_type": "execute_result"
    }
   ],
   "source": [
    "Counter(rf_preds)"
   ]
  },
  {
   "cell_type": "code",
   "execution_count": 147,
   "id": "a6c34824-97b3-4186-8022-db89545fcdf5",
   "metadata": {},
   "outputs": [
    {
     "data": {
      "text/plain": [
       "0.2366600790513834"
      ]
     },
     "execution_count": 147,
     "metadata": {},
     "output_type": "execute_result"
    }
   ],
   "source": [
    "accuracy_score(np.argmax(y_test, axis=-1), rf_preds)"
   ]
  },
  {
   "cell_type": "code",
   "execution_count": 148,
   "id": "3fd99dc1-9ddc-4e0d-91d0-b38ceeae8166",
   "metadata": {
    "tags": []
   },
   "outputs": [
    {
     "data": {
      "text/plain": [
       "0.16820439359168493"
      ]
     },
     "execution_count": 148,
     "metadata": {},
     "output_type": "execute_result"
    }
   ],
   "source": [
    "f1_score(np.argmax(y_test, axis=-1), rf_preds, average='weighted')"
   ]
  },
  {
   "cell_type": "code",
   "execution_count": null,
   "id": "53926a47-b277-4898-9df1-9eb1758a2b15",
   "metadata": {},
   "outputs": [],
   "source": []
  },
  {
   "cell_type": "code",
   "execution_count": null,
   "id": "bc709b6e-41fd-4f57-bc0f-1e2ed86ccffd",
   "metadata": {},
   "outputs": [],
   "source": []
  },
  {
   "cell_type": "code",
   "execution_count": null,
   "id": "455f268f-78cf-4917-af01-a81925dafcf7",
   "metadata": {},
   "outputs": [],
   "source": []
  }
 ],
 "metadata": {
  "kernelspec": {
   "display_name": "Python 3 (ipykernel)",
   "language": "python",
   "name": "python3"
  },
  "language_info": {
   "codemirror_mode": {
    "name": "ipython",
    "version": 3
   },
   "file_extension": ".py",
   "mimetype": "text/x-python",
   "name": "python",
   "nbconvert_exporter": "python",
   "pygments_lexer": "ipython3",
   "version": "3.8.2"
  }
 },
 "nbformat": 4,
 "nbformat_minor": 5
}
