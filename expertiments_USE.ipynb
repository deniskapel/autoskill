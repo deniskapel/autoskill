{
 "cells": [
  {
   "cell_type": "code",
   "execution_count": 47,
   "id": "899ed118-2493-413b-9fdc-bf994b8feb7b",
   "metadata": {},
   "outputs": [],
   "source": [
    "import json\n",
    "import pickle\n",
    "import os\n",
    "from collections import Counter\n",
    "\n",
    "import numpy as np\n",
    "import tensorflow as tf\n",
    "import tensorflow_hub as hub\n",
    "\n",
    "from catboost import CatBoostClassifier, Pool\n",
    "from sklearn.linear_model import LogisticRegression\n",
    "from sklearn.ensemble import RandomForestClassifier\n",
    "from sklearn.model_selection import train_test_split\n",
    "from sklearn.metrics import f1_score, accuracy_score\n",
    "from tqdm.notebook import tqdm\n",
    "\n",
    "from utils.preprocessing import LabelEncoder\n",
    "from utils.tensorflow_utils import SkillDataset"
   ]
  },
  {
   "cell_type": "code",
   "execution_count": 6,
   "id": "aefbb6a4-e559-4044-a4df-73b413487dc3",
   "metadata": {},
   "outputs": [
    {
     "name": "stdout",
     "output_type": "stream",
     "text": [
      "module https://tfhub.dev/google/universal-sentence-encoder/4 loaded\n"
     ]
    }
   ],
   "source": [
    "os.environ['TFHUB_CACHE_DIR'] = './models/tf_cache'\n",
    "module_url = \"https://tfhub.dev/google/universal-sentence-encoder/4\"\n",
    "encoder = hub.load(module_url)\n",
    "print (\"module %s loaded\" % module_url)"
   ]
  },
  {
   "cell_type": "code",
   "execution_count": 7,
   "id": "7ca6ee9b-8893-4cb4-bde0-32f2194bf85b",
   "metadata": {},
   "outputs": [],
   "source": [
    "with open('data/labels.json', 'r') as f:\n",
    "    labels_map = json.load(f)\n",
    "\n",
    "with open('data/dataset.json', 'r') as f:\n",
    "    data = json.load(f)"
   ]
  },
  {
   "cell_type": "code",
   "execution_count": 8,
   "id": "c9571a03-5795-49f2-b3a2-e087f7bdafe0",
   "metadata": {},
   "outputs": [],
   "source": [
    "PARAMS = {\n",
    "    'embed_dim': 512,\n",
    "    'n_previous': 3\n",
    "}"
   ]
  },
  {
   "cell_type": "markdown",
   "id": "607ba62f-573f-4997-914c-d406c1304411",
   "metadata": {
    "tags": []
   },
   "source": [
    "## Midas"
   ]
  },
  {
   "cell_type": "code",
   "execution_count": 68,
   "id": "553b65ee-c405-4f62-be1a-82d7cd459c15",
   "metadata": {},
   "outputs": [],
   "source": [
    "dataset = SkillDataset(\n",
    "    data=data, vars2id=labels_map,\n",
    "    text_vectorizer=encoder,\n",
    "    label_encoder=LabelEncoder(\n",
    "        list(labels_map['target_midas2id']),\n",
    "        'midas'),\n",
    "    shuffle=False, batch_size=len(data), **PARAMS)"
   ]
  },
  {
   "cell_type": "code",
   "execution_count": 69,
   "id": "0da53383-8b81-429e-be13-80e5ab460865",
   "metadata": {},
   "outputs": [],
   "source": [
    "for X, y in dataset:\n",
    "    break"
   ]
  },
  {
   "cell_type": "code",
   "execution_count": 70,
   "id": "72eb684b-4f59-4c4e-ade4-35829d0307c0",
   "metadata": {},
   "outputs": [
    {
     "data": {
      "text/plain": [
       "((10565, 1659), (10565, 13))"
      ]
     },
     "execution_count": 70,
     "metadata": {},
     "output_type": "execute_result"
    }
   ],
   "source": [
    "X.shape, y.shape"
   ]
  },
  {
   "cell_type": "code",
   "execution_count": 71,
   "id": "a83e7ae5-9012-438d-8d05-b9c0cf6bf145",
   "metadata": {},
   "outputs": [],
   "source": [
    "X_train, X_test, y_train, y_test = train_test_split(X, y, test_size=0.2, random_state=42)"
   ]
  },
  {
   "cell_type": "code",
   "execution_count": 72,
   "id": "e88d26f5-c055-4713-8550-37713ac197de",
   "metadata": {},
   "outputs": [
    {
     "data": {
      "text/plain": [
       "((8452, 1659), (2113, 1659), (8452, 13), (2113, 13))"
      ]
     },
     "execution_count": 72,
     "metadata": {},
     "output_type": "execute_result"
    }
   ],
   "source": [
    "X_train.shape, X_test.shape, y_train.shape, y_test.shape"
   ]
  },
  {
   "cell_type": "code",
   "execution_count": 73,
   "id": "c695f276-23d3-438a-aa70-fee5083f1daa",
   "metadata": {},
   "outputs": [
    {
     "data": {
      "text/plain": [
       "array([1., 1., 0., 0., 0., 0., 0., 0., 0., 0., 0., 0., 0., 0., 0.])"
      ]
     },
     "execution_count": 73,
     "metadata": {},
     "output_type": "execute_result"
    }
   ],
   "source": [
    "X[0,525:540]"
   ]
  },
  {
   "cell_type": "code",
   "execution_count": 74,
   "id": "47a7439b-2409-4f83-aeb7-f1959338742c",
   "metadata": {},
   "outputs": [
    {
     "data": {
      "text/plain": [
       "array([0.54252893, 0.15492837, 0.36019447, 0.03467711, 0.02293164,\n",
       "       0.02908403, 0.        , 0.01006755, 0.01733855, 0.00279654,\n",
       "       0.0067117 , 0.        , 0.00055931])"
      ]
     },
     "execution_count": 74,
     "metadata": {},
     "output_type": "execute_result"
    }
   ],
   "source": [
    "class_weights, _ = np.histogram(np.argmax(y_test, axis=-1), bins=13, density=True)\n",
    "class_weights"
   ]
  },
  {
   "cell_type": "markdown",
   "id": "07ee4761-e51c-4845-9c04-63804f564cb3",
   "metadata": {
    "tags": []
   },
   "source": [
    "### Catboost"
   ]
  },
  {
   "cell_type": "code",
   "execution_count": 75,
   "id": "e2b8e82c-d1ba-4690-b739-6849683fa718",
   "metadata": {
    "tags": []
   },
   "outputs": [],
   "source": [
    "cb_train = Pool(np.float32(X_train), label=np.argmax(y_train, axis=-1).tolist())\n",
    "cb_eval = Pool(np.float32(X_test), label=np.argmax(y_test, axis=-1).tolist())"
   ]
  },
  {
   "cell_type": "code",
   "execution_count": 76,
   "id": "04291d76-5ab6-41a0-b9a4-0233c6a601d1",
   "metadata": {},
   "outputs": [
    {
     "name": "stdout",
     "output_type": "stream",
     "text": [
      "0:\tlearn: 0.6514772\ttest: 0.6527831\tbest: 0.6527831 (0)\ttotal: 376ms\tremaining: 37.2s\n",
      "1:\tlearn: 0.6514222\ttest: 0.6527831\tbest: 0.6527831 (0)\ttotal: 706ms\tremaining: 34.6s\n",
      "2:\tlearn: 0.6514222\ttest: 0.6527831\tbest: 0.6527831 (0)\ttotal: 1.04s\tremaining: 33.7s\n",
      "3:\tlearn: 0.6514222\ttest: 0.6527831\tbest: 0.6527831 (0)\ttotal: 1.39s\tremaining: 33.4s\n",
      "4:\tlearn: 0.6514222\ttest: 0.6527831\tbest: 0.6527831 (0)\ttotal: 1.73s\tremaining: 32.8s\n",
      "5:\tlearn: 0.6514222\ttest: 0.6527831\tbest: 0.6527831 (0)\ttotal: 2.12s\tremaining: 33.3s\n",
      "Stopped by overfitting detector  (5 iterations wait)\n",
      "\n",
      "bestTest = 0.6527830795\n",
      "bestIteration = 0\n",
      "\n",
      "Shrink model to first 1 iterations.\n"
     ]
    },
    {
     "data": {
      "text/plain": [
       "<catboost.core.CatBoostClassifier at 0x1f7a39f1af0>"
      ]
     },
     "execution_count": 76,
     "metadata": {},
     "output_type": "execute_result"
    }
   ],
   "source": [
    "model_params = {\n",
    "    'task_type': 'CPU',\n",
    "    'iterations': 100,\n",
    "    'learning_rate': 0.001,\n",
    "    'depth': 3,\n",
    "    'verbose': True,\n",
    "    'loss_function': 'MultiClass',\n",
    "    'eval_metric': 'Accuracy',\n",
    "    'use_best_model': True,\n",
    "    'class_weights': class_weights\n",
    "}\n",
    "\n",
    "fit_params = {\n",
    "    'use_best_model': True,\n",
    "    'early_stopping_rounds': 5,\n",
    "}\n",
    "\n",
    "model = CatBoostClassifier(**model_params)\n",
    "model.fit(cb_train, eval_set=cb_eval, **fit_params)"
   ]
  },
  {
   "cell_type": "code",
   "execution_count": 77,
   "id": "2e6b0ac5-f724-47d8-97ef-8b45ba61effe",
   "metadata": {},
   "outputs": [
    {
     "name": "stdout",
     "output_type": "stream",
     "text": [
      "class =  (2113, 1)\n"
     ]
    }
   ],
   "source": [
    "cb_pred = model.predict(cb_eval)\n",
    "print(\"class = \", cb_pred.shape)"
   ]
  },
  {
   "cell_type": "code",
   "execution_count": 80,
   "id": "2318345b-157b-4b46-984a-d1b95a1583e4",
   "metadata": {},
   "outputs": [
    {
     "data": {
      "text/plain": [
       "Counter({0: 2113})"
      ]
     },
     "execution_count": 80,
     "metadata": {},
     "output_type": "execute_result"
    }
   ],
   "source": [
    "Counter(cb_pred.squeeze())"
   ]
  },
  {
   "cell_type": "code",
   "execution_count": 78,
   "id": "02dac0ab-c303-4aed-a4a3-3bfe46002efe",
   "metadata": {},
   "outputs": [
    {
     "data": {
      "text/plain": [
       "0.28886867036750546"
      ]
     },
     "execution_count": 78,
     "metadata": {},
     "output_type": "execute_result"
    }
   ],
   "source": [
    "f1_score(np.argmax(y_test, axis=-1), cb_pred.squeeze(), average='weighted')"
   ]
  },
  {
   "cell_type": "code",
   "execution_count": 79,
   "id": "4fad23ef-8eea-4482-953a-6f9785355529",
   "metadata": {},
   "outputs": [
    {
     "data": {
      "text/plain": [
       "0.45906294368196876"
      ]
     },
     "execution_count": 79,
     "metadata": {},
     "output_type": "execute_result"
    }
   ],
   "source": [
    "accuracy_score(np.argmax(y_test, axis=-1), preds_class.squeeze())"
   ]
  },
  {
   "cell_type": "code",
   "execution_count": 97,
   "id": "7d5faf5e-069d-44c3-8ab9-987f764e15ab",
   "metadata": {},
   "outputs": [
    {
     "data": {
      "text/plain": [
       "0.45906294368196876"
      ]
     },
     "execution_count": 97,
     "metadata": {},
     "output_type": "execute_result"
    }
   ],
   "source": [
    "model.score(cb_eval)"
   ]
  },
  {
   "cell_type": "markdown",
   "id": "b3d29ca1-8c75-446c-82dc-fe8089e54e3d",
   "metadata": {
    "tags": []
   },
   "source": [
    "### LogisticRegression"
   ]
  },
  {
   "cell_type": "code",
   "execution_count": 81,
   "id": "a215cc32-a449-43ab-8f9b-b8ab8d689025",
   "metadata": {},
   "outputs": [
    {
     "data": {
      "text/plain": [
       "LogisticRegression(max_iter=1000, random_state=42)"
      ]
     },
     "execution_count": 81,
     "metadata": {},
     "output_type": "execute_result"
    }
   ],
   "source": [
    "lg = LogisticRegression(random_state=42, max_iter=1000)\n",
    "lg.fit(X_train, np.argmax(y_train, axis=-1))"
   ]
  },
  {
   "cell_type": "code",
   "execution_count": 82,
   "id": "fb84b8e4-7b30-4f36-966b-3144fa811596",
   "metadata": {},
   "outputs": [],
   "source": [
    "logreg_pred = lg.predict(X_test)"
   ]
  },
  {
   "cell_type": "code",
   "execution_count": 83,
   "id": "fb8b1250-df59-4bcd-a0cc-3b95bbe85144",
   "metadata": {},
   "outputs": [
    {
     "data": {
      "text/plain": [
       "Counter({0: 1316, 1: 159, 4: 14, 2: 615, 3: 9})"
      ]
     },
     "execution_count": 83,
     "metadata": {},
     "output_type": "execute_result"
    }
   ],
   "source": [
    "Counter(logreg_pred)"
   ]
  },
  {
   "cell_type": "code",
   "execution_count": 84,
   "id": "cf4cf1e9-ebca-454e-afd9-7ba1c8d28301",
   "metadata": {},
   "outputs": [
    {
     "data": {
      "text/plain": [
       "0.4247766676298006"
      ]
     },
     "execution_count": 84,
     "metadata": {},
     "output_type": "execute_result"
    }
   ],
   "source": [
    "f1_score(np.argmax(y_test, axis=-1), logreg_pred, average='weighted')"
   ]
  },
  {
   "cell_type": "code",
   "execution_count": 85,
   "id": "bec77712-069d-4aee-9d30-eff3f028cbcc",
   "metadata": {},
   "outputs": [
    {
     "data": {
      "text/plain": [
       "0.4637955513487932"
      ]
     },
     "execution_count": 85,
     "metadata": {},
     "output_type": "execute_result"
    }
   ],
   "source": [
    "accuracy_score(np.argmax(y_test, axis=-1), logreg_pred)"
   ]
  },
  {
   "cell_type": "markdown",
   "id": "6ce06000-49f4-4353-a43e-4636cc9922a6",
   "metadata": {
    "tags": []
   },
   "source": [
    "### RandomForeset"
   ]
  },
  {
   "cell_type": "code",
   "execution_count": 86,
   "id": "ec2f01a6-71c3-4371-8ef0-43754af8a4f0",
   "metadata": {},
   "outputs": [],
   "source": [
    "rf = RandomForestClassifier(max_depth=4, random_state=42)"
   ]
  },
  {
   "cell_type": "code",
   "execution_count": 87,
   "id": "5710b144-ee0e-4acf-b060-f0abd5f5e833",
   "metadata": {},
   "outputs": [
    {
     "data": {
      "text/plain": [
       "RandomForestClassifier(max_depth=4, random_state=42)"
      ]
     },
     "execution_count": 87,
     "metadata": {},
     "output_type": "execute_result"
    }
   ],
   "source": [
    "rf.fit(X_train, np.argmax(y_train, axis=-1))"
   ]
  },
  {
   "cell_type": "code",
   "execution_count": 88,
   "id": "0561fab7-dff1-49fe-b024-b58a6cc616df",
   "metadata": {},
   "outputs": [],
   "source": [
    "rf_preds = rf.predict(X_test)"
   ]
  },
  {
   "cell_type": "code",
   "execution_count": 89,
   "id": "71113f3d-c77f-484b-af3f-0017382761e3",
   "metadata": {},
   "outputs": [
    {
     "data": {
      "text/plain": [
       "0.30172021809033683"
      ]
     },
     "execution_count": 89,
     "metadata": {},
     "output_type": "execute_result"
    }
   ],
   "source": [
    "f1_score(np.argmax(y_test, axis=-1), rf_preds, average='weighted')"
   ]
  },
  {
   "cell_type": "code",
   "execution_count": 90,
   "id": "510247d4-34c9-45b5-92a4-821e89a04423",
   "metadata": {},
   "outputs": [
    {
     "data": {
      "text/plain": [
       "0.4633222905821107"
      ]
     },
     "execution_count": 90,
     "metadata": {},
     "output_type": "execute_result"
    }
   ],
   "source": [
    "accuracy_score(np.argmax(y_test, axis=-1), rf_preds)"
   ]
  },
  {
   "cell_type": "code",
   "execution_count": 91,
   "id": "976e8c5d-9592-4fd1-8afb-d7d4dedcbf83",
   "metadata": {
    "tags": []
   },
   "outputs": [
    {
     "data": {
      "text/plain": [
       "Counter({0: 2090, 2: 23})"
      ]
     },
     "execution_count": 91,
     "metadata": {},
     "output_type": "execute_result"
    }
   ],
   "source": [
    "Counter(rf_preds)"
   ]
  },
  {
   "cell_type": "markdown",
   "id": "b3c75faf-48b1-495d-86bc-1ddaf482aee0",
   "metadata": {
    "tags": []
   },
   "source": [
    "## Entities"
   ]
  },
  {
   "cell_type": "code",
   "execution_count": 98,
   "id": "48d93e37-a4dd-4665-9745-365757cf2409",
   "metadata": {},
   "outputs": [],
   "source": [
    "dataset = SkillDataset(\n",
    "    data=data, vars2id=labels_map,\n",
    "    text_vectorizer=encoder,\n",
    "    label_encoder=LabelEncoder(\n",
    "        list(labels_map['target_entity2id']),\n",
    "        'entity'),\n",
    "    shuffle=False, batch_size=len(data), **PARAMS)"
   ]
  },
  {
   "cell_type": "code",
   "execution_count": 99,
   "id": "6cc960e3-05ba-4f06-9ba7-0073361311e3",
   "metadata": {},
   "outputs": [],
   "source": [
    "for X, y in dataset:\n",
    "    break"
   ]
  },
  {
   "cell_type": "code",
   "execution_count": 100,
   "id": "e6a9b18c-baf9-4046-ba55-026c7eff4975",
   "metadata": {},
   "outputs": [],
   "source": [
    "X_train, X_test, y_train, y_test = train_test_split(X, y, test_size=0.2, random_state=42)"
   ]
  },
  {
   "cell_type": "code",
   "execution_count": 101,
   "id": "19050e97-cfc5-4abe-b531-58e2322775b2",
   "metadata": {},
   "outputs": [
    {
     "data": {
      "text/plain": [
       "((8452, 1659), (2113, 1659), (8452, 25), (2113, 25))"
      ]
     },
     "execution_count": 101,
     "metadata": {},
     "output_type": "execute_result"
    }
   ],
   "source": [
    "X_train.shape, X_test.shape, y_train.shape, y_test.shape"
   ]
  },
  {
   "cell_type": "code",
   "execution_count": 102,
   "id": "22f0382a-90d1-4c12-a84a-bb525fe2084c",
   "metadata": {},
   "outputs": [
    {
     "data": {
      "text/plain": [
       "array([1., 1., 0., 0., 0., 0., 0., 0., 0., 0., 0., 0., 0., 0., 0.])"
      ]
     },
     "execution_count": 102,
     "metadata": {},
     "output_type": "execute_result"
    }
   ],
   "source": [
    "X[0,525:540]"
   ]
  },
  {
   "cell_type": "code",
   "execution_count": 103,
   "id": "2b8f15e7-6ed4-4afd-ba80-36a9517a6918",
   "metadata": {},
   "outputs": [
    {
     "data": {
      "text/plain": [
       "array([0.17962397, 0.04517489, 0.01129372, 0.27481392, 0.00860474,\n",
       "       0.10594588, 0.05485523, 0.03119219, 0.        , 0.03388117,\n",
       "       0.09411436, 0.10971045, 0.01828508, 0.00107559, 0.01882287,\n",
       "       0.00322678, 0.        , 0.05055285, 0.04571269, 0.01021813,\n",
       "       0.00537796, 0.00215119, 0.0145205 , 0.01183152, 0.00537796])"
      ]
     },
     "execution_count": 103,
     "metadata": {},
     "output_type": "execute_result"
    }
   ],
   "source": [
    "class_weights, _ = np.histogram(np.argmax(y_test, axis=-1), bins=25, density=True)\n",
    "class_weights"
   ]
  },
  {
   "cell_type": "markdown",
   "id": "d967f27a-6013-4f9a-aa0a-bf64132c6250",
   "metadata": {
    "tags": []
   },
   "source": [
    "### Catboost"
   ]
  },
  {
   "cell_type": "code",
   "execution_count": 104,
   "id": "df2f637e-6124-465d-91de-fd56dad2d56a",
   "metadata": {},
   "outputs": [
    {
     "name": "stdout",
     "output_type": "stream",
     "text": [
      "0:\tlearn: 0.5727428\ttest: 0.5863033\tbest: 0.5863033 (0)\ttotal: 732ms\tremaining: 1m 12s\n",
      "1:\tlearn: 0.5801527\ttest: 0.5958832\tbest: 0.5958832 (1)\ttotal: 1.37s\tremaining: 1m 7s\n",
      "2:\tlearn: 0.5727074\ttest: 0.5852013\tbest: 0.5958832 (1)\ttotal: 1.98s\tremaining: 1m 4s\n",
      "3:\tlearn: 0.5965445\ttest: 0.6065693\tbest: 0.6065693 (3)\ttotal: 2.6s\tremaining: 1m 2s\n",
      "4:\tlearn: 0.5974321\ttest: 0.6092500\tbest: 0.6092500 (4)\ttotal: 3.23s\tremaining: 1m 1s\n",
      "5:\tlearn: 0.5967630\ttest: 0.6086450\tbest: 0.6092500 (4)\ttotal: 3.84s\tremaining: 1m\n",
      "6:\tlearn: 0.5924798\ttest: 0.6056730\tbest: 0.6092500 (4)\ttotal: 4.49s\tremaining: 59.7s\n",
      "7:\tlearn: 0.5753675\ttest: 0.5866027\tbest: 0.6092500 (4)\ttotal: 5.12s\tremaining: 58.8s\n",
      "8:\tlearn: 0.5962978\ttest: 0.6079646\tbest: 0.6092500 (4)\ttotal: 5.74s\tremaining: 58.1s\n",
      "9:\tlearn: 0.5801923\ttest: 0.5965127\tbest: 0.6092500 (4)\ttotal: 6.35s\tremaining: 57.1s\n",
      "Stopped by overfitting detector  (5 iterations wait)\n",
      "\n",
      "bestTest = 0.6092499774\n",
      "bestIteration = 4\n",
      "\n",
      "Shrink model to first 5 iterations.\n",
      "class =  (2113, 1)\n"
     ]
    }
   ],
   "source": [
    "cb_train = Pool(np.float32(X_train), label=np.argmax(y_train, axis=-1).tolist())\n",
    "cb_eval = Pool(np.float32(X_test), label=np.argmax(y_test, axis=-1).tolist())\n",
    "\n",
    "model_params = {\n",
    "    'task_type': 'CPU',\n",
    "    'iterations': 100,\n",
    "    'learning_rate': 0.001,\n",
    "    'depth': 3,\n",
    "    'verbose': True,\n",
    "    'loss_function': 'MultiClass',\n",
    "    'eval_metric': 'Accuracy',\n",
    "    'use_best_model': True,\n",
    "    'class_weights': class_weights\n",
    "}\n",
    "\n",
    "fit_params = {\n",
    "    'use_best_model': True,\n",
    "    'early_stopping_rounds': 5,\n",
    "}\n",
    "\n",
    "model = CatBoostClassifier(**model_params)\n",
    "model.fit(cb_train, eval_set=cb_eval, **fit_params)\n",
    "\n",
    "cb_pred = model.predict(cb_eval)\n",
    "print(\"class = \", cb_pred.shape)"
   ]
  },
  {
   "cell_type": "code",
   "execution_count": 107,
   "id": "2c327bf0-b08d-4a72-9527-18680a558bd6",
   "metadata": {},
   "outputs": [
    {
     "data": {
      "text/plain": [
       "Counter({3: 1768, 0: 203, 5: 142})"
      ]
     },
     "execution_count": 107,
     "metadata": {},
     "output_type": "execute_result"
    }
   ],
   "source": [
    "Counter(cb_pred.squeeze())"
   ]
  },
  {
   "cell_type": "code",
   "execution_count": 105,
   "id": "a51fdd9a-b841-4dc6-921d-f8007754e96a",
   "metadata": {},
   "outputs": [
    {
     "data": {
      "text/plain": [
       "0.21241815248745655"
      ]
     },
     "execution_count": 105,
     "metadata": {},
     "output_type": "execute_result"
    }
   ],
   "source": [
    "f1_score(np.argmax(y_test, axis=-1), cb_pred.squeeze(), average='weighted')"
   ]
  },
  {
   "cell_type": "code",
   "execution_count": 106,
   "id": "0e93b3f3-d0e3-4a4d-a858-a90a24216027",
   "metadata": {},
   "outputs": [
    {
     "data": {
      "text/plain": [
       "0.31803123521060106"
      ]
     },
     "execution_count": 106,
     "metadata": {},
     "output_type": "execute_result"
    }
   ],
   "source": [
    "accuracy_score(np.argmax(y_test, axis=-1), cb_pred)"
   ]
  },
  {
   "cell_type": "markdown",
   "id": "db19dff0-5168-4677-aab6-5d4bf44fee32",
   "metadata": {
    "tags": []
   },
   "source": [
    "### LogisticRegression"
   ]
  },
  {
   "cell_type": "code",
   "execution_count": 108,
   "id": "f470b582-5217-4f1c-a686-42c0a8d56af6",
   "metadata": {},
   "outputs": [
    {
     "data": {
      "text/plain": [
       "LogisticRegression(max_iter=1000, random_state=42)"
      ]
     },
     "execution_count": 108,
     "metadata": {},
     "output_type": "execute_result"
    }
   ],
   "source": [
    "lg = LogisticRegression(random_state=42, max_iter=1000)\n",
    "lg.fit(X_train, np.argmax(y_train, axis=-1))"
   ]
  },
  {
   "cell_type": "code",
   "execution_count": 109,
   "id": "81a4c387-3487-44b2-8190-288f6b711a9d",
   "metadata": {},
   "outputs": [],
   "source": [
    "logreg_pred = lg.predict(X_test)"
   ]
  },
  {
   "cell_type": "code",
   "execution_count": 115,
   "id": "51100925-eece-4774-b4e1-1ba1719c1518",
   "metadata": {},
   "outputs": [
    {
     "data": {
      "text/plain": [
       "Counter({4: 15,\n",
       "         3: 686,\n",
       "         0: 360,\n",
       "         5: 202,\n",
       "         8: 19,\n",
       "         10: 217,\n",
       "         7: 48,\n",
       "         9: 161,\n",
       "         6: 116,\n",
       "         2: 13,\n",
       "         16: 73,\n",
       "         15: 95,\n",
       "         19: 3,\n",
       "         1: 45,\n",
       "         22: 4,\n",
       "         21: 12,\n",
       "         11: 16,\n",
       "         20: 3,\n",
       "         13: 12,\n",
       "         17: 7,\n",
       "         18: 6})"
      ]
     },
     "execution_count": 115,
     "metadata": {},
     "output_type": "execute_result"
    }
   ],
   "source": [
    "Counter(logreg_pred)"
   ]
  },
  {
   "cell_type": "code",
   "execution_count": 116,
   "id": "9982da60-a1a2-4159-947b-9c42b779dfbc",
   "metadata": {},
   "outputs": [
    {
     "data": {
      "text/plain": [
       "0.4155409488647077"
      ]
     },
     "execution_count": 116,
     "metadata": {},
     "output_type": "execute_result"
    }
   ],
   "source": [
    "f1_score(np.argmax(y_test, axis=-1), logreg_pred, average='weighted')"
   ]
  },
  {
   "cell_type": "code",
   "execution_count": 117,
   "id": "7c34cc36-2632-4ac4-9c4e-afd39c580c4a",
   "metadata": {},
   "outputs": [
    {
     "data": {
      "text/plain": [
       "0.4335068622811169"
      ]
     },
     "execution_count": 117,
     "metadata": {},
     "output_type": "execute_result"
    }
   ],
   "source": [
    "accuracy_score(np.argmax(y_test, axis=-1), logreg_pred)"
   ]
  },
  {
   "cell_type": "markdown",
   "id": "b6143669-2304-4d25-a2f3-d253c2e39c0a",
   "metadata": {
    "tags": []
   },
   "source": [
    "### RandomForest"
   ]
  },
  {
   "cell_type": "code",
   "execution_count": 118,
   "id": "7247be1b-f4f1-424e-9f5b-c692cb571bef",
   "metadata": {},
   "outputs": [],
   "source": [
    "rf = RandomForestClassifier(max_depth=5, random_state=42)"
   ]
  },
  {
   "cell_type": "code",
   "execution_count": 119,
   "id": "f6117dfe-9df4-4b21-841a-ea7af355cac3",
   "metadata": {},
   "outputs": [
    {
     "data": {
      "text/plain": [
       "RandomForestClassifier(max_depth=5, random_state=42)"
      ]
     },
     "execution_count": 119,
     "metadata": {},
     "output_type": "execute_result"
    }
   ],
   "source": [
    "rf.fit(X_train, np.argmax(y_train, axis=-1))"
   ]
  },
  {
   "cell_type": "code",
   "execution_count": 120,
   "id": "5a698ab4-ec04-4776-af6a-983457ffaeeb",
   "metadata": {},
   "outputs": [],
   "source": [
    "rf_preds = rf.predict(X_test)"
   ]
  },
  {
   "cell_type": "code",
   "execution_count": 121,
   "id": "7b5efe82-585b-4b95-b9c8-893d9a8d6b80",
   "metadata": {},
   "outputs": [
    {
     "data": {
      "text/plain": [
       "0.28376075471050893"
      ]
     },
     "execution_count": 121,
     "metadata": {},
     "output_type": "execute_result"
    }
   ],
   "source": [
    "f1_score(np.argmax(y_test, axis=-1), rf_preds, average='weighted')"
   ]
  },
  {
   "cell_type": "code",
   "execution_count": 122,
   "id": "02abf297-c188-48e8-9d5e-ddc6d14a6c17",
   "metadata": {},
   "outputs": [
    {
     "data": {
      "text/plain": [
       "0.36393752957879794"
      ]
     },
     "execution_count": 122,
     "metadata": {},
     "output_type": "execute_result"
    }
   ],
   "source": [
    "accuracy_score(np.argmax(y_test, axis=-1), rf_preds)"
   ]
  },
  {
   "cell_type": "code",
   "execution_count": 123,
   "id": "d01e49d9-2ed3-4a15-ba4e-b5170a76a365",
   "metadata": {
    "tags": []
   },
   "outputs": [
    {
     "data": {
      "text/plain": [
       "Counter({3: 1572, 10: 100, 0: 295, 5: 100, 16: 11, 9: 11, 15: 24})"
      ]
     },
     "execution_count": 123,
     "metadata": {},
     "output_type": "execute_result"
    }
   ],
   "source": [
    "Counter(rf_preds)"
   ]
  },
  {
   "cell_type": "markdown",
   "id": "be215a60-3b70-46eb-8a71-d6535c9d8312",
   "metadata": {
    "tags": []
   },
   "source": [
    "## Concatenation"
   ]
  },
  {
   "cell_type": "code",
   "execution_count": 131,
   "id": "8a01d122-eedb-4ccc-9b3c-b3f0243738f9",
   "metadata": {},
   "outputs": [],
   "source": [
    "dataset = SkillDataset(\n",
    "    data=data, vars2id=labels_map,\n",
    "    text_vectorizer=encoder,\n",
    "    label_encoder=LabelEncoder(\n",
    "        list(labels_map['target_midas_and_entity2id']),\n",
    "        'concatenation'),\n",
    "    shuffle=False, batch_size=len(data), **PARAMS)"
   ]
  },
  {
   "cell_type": "code",
   "execution_count": 132,
   "id": "7f576511-7dfc-4b4a-baab-9552e4c87394",
   "metadata": {},
   "outputs": [],
   "source": [
    "for X, y in dataset:\n",
    "    break"
   ]
  },
  {
   "cell_type": "code",
   "execution_count": 133,
   "id": "2edb4b69-ba55-4c5a-a140-1ded3bbd84e9",
   "metadata": {},
   "outputs": [
    {
     "data": {
      "text/plain": [
       "((10565, 1659), (10565, 199))"
      ]
     },
     "execution_count": 133,
     "metadata": {},
     "output_type": "execute_result"
    }
   ],
   "source": [
    "X.shape, y.shape"
   ]
  },
  {
   "cell_type": "code",
   "execution_count": 134,
   "id": "384dbe86-f810-4891-87ee-d67381cce5f4",
   "metadata": {},
   "outputs": [],
   "source": [
    "X_train, X_test, y_train, y_test = train_test_split(X, y, test_size=0.2, random_state=42)"
   ]
  },
  {
   "cell_type": "code",
   "execution_count": 135,
   "id": "847be53b-7e09-4232-b41b-2155a9c81a9d",
   "metadata": {},
   "outputs": [
    {
     "data": {
      "text/plain": [
       "((8452, 1659), (2113, 1659), (8452, 199), (2113, 199))"
      ]
     },
     "execution_count": 135,
     "metadata": {},
     "output_type": "execute_result"
    }
   ],
   "source": [
    "X_train.shape, X_test.shape, y_train.shape, y_test.shape"
   ]
  },
  {
   "cell_type": "code",
   "execution_count": 136,
   "id": "72370096-2e77-494a-97b3-2a2e8e0a8041",
   "metadata": {},
   "outputs": [
    {
     "data": {
      "text/plain": [
       "array([1., 1., 0., 0., 0., 0., 0., 0., 0., 0., 0., 0., 0., 0., 0.])"
      ]
     },
     "execution_count": 136,
     "metadata": {},
     "output_type": "execute_result"
    }
   ],
   "source": [
    "X[0,525:540]"
   ]
  },
  {
   "cell_type": "code",
   "execution_count": 137,
   "id": "a7aff40a-b315-4799-ad03-4b5f591a7225",
   "metadata": {},
   "outputs": [
    {
     "data": {
      "text/plain": [
       "array([0.07848241, 0.00142695, 0.00903737, 0.03281992, 0.06563983,\n",
       "       0.0009513 , 0.03710078, 0.0261608 , 0.00332956, 0.00903737,\n",
       "       0.01950169, 0.11986405, 0.00237825, 0.        , 0.01046432,\n",
       "       0.03281992, 0.03852773, 0.04090598, 0.00570781, 0.01522083,\n",
       "       0.03995468, 0.04090598, 0.01189127, 0.00428086, 0.00047565,\n",
       "       0.00856172, 0.0009513 , 0.00665911, 0.01331823, 0.02853906,\n",
       "       0.00332956, 0.0009513 , 0.00142695, 0.00237825, 0.00808607,\n",
       "       0.00951302, 0.01855039, 0.0223556 , 0.00237825, 0.00285391,\n",
       "       0.0252095 , 0.00570781, 0.0009513 , 0.00570781, 0.0009513 ,\n",
       "       0.00713476, 0.0019026 , 0.00332956, 0.01236693, 0.        ,\n",
       "       0.01236693, 0.00285391, 0.00142695, 0.00475651, 0.        ,\n",
       "       0.0019026 , 0.00285391, 0.00998867, 0.00856172, 0.00237825,\n",
       "       0.0009513 , 0.00047565, 0.00237825, 0.00285391, 0.00047565,\n",
       "       0.0009513 , 0.00047565, 0.01426953, 0.0009513 , 0.00380521,\n",
       "       0.00047565, 0.00285391, 0.0019026 , 0.00142695, 0.00237825,\n",
       "       0.        , 0.        , 0.00047565, 0.        , 0.00380521,\n",
       "       0.00285391, 0.00428086, 0.0009513 , 0.0009513 , 0.00332956,\n",
       "       0.        , 0.00047565, 0.00142695, 0.00047565, 0.00047565,\n",
       "       0.00142695, 0.00332956, 0.00142695, 0.00237825, 0.00047565,\n",
       "       0.0009513 , 0.0009513 , 0.        , 0.0009513 , 0.00428086,\n",
       "       0.0019026 , 0.        , 0.0009513 , 0.0009513 , 0.0009513 ,\n",
       "       0.0009513 , 0.00047565, 0.00380521, 0.00237825, 0.00047565,\n",
       "       0.        , 0.        , 0.0019026 , 0.        , 0.00237825,\n",
       "       0.0009513 , 0.        , 0.00047565, 0.00047565, 0.00047565,\n",
       "       0.0009513 , 0.0009513 , 0.        , 0.00047565, 0.        ,\n",
       "       0.00047565, 0.        , 0.        , 0.00047565, 0.        ,\n",
       "       0.0009513 , 0.00047565, 0.        , 0.00142695, 0.00047565,\n",
       "       0.00047565, 0.0009513 , 0.        , 0.00047565, 0.0009513 ,\n",
       "       0.00047565, 0.        , 0.        , 0.        , 0.        ,\n",
       "       0.        , 0.        , 0.0019026 , 0.        , 0.        ,\n",
       "       0.00047565, 0.        , 0.0009513 , 0.00047565, 0.00047565,\n",
       "       0.        , 0.00047565, 0.00047565, 0.        , 0.00142695,\n",
       "       0.00047565, 0.0019026 , 0.        , 0.        , 0.00047565,\n",
       "       0.        , 0.00047565, 0.00047565, 0.        , 0.0009513 ,\n",
       "       0.00047565, 0.        , 0.        , 0.        , 0.00047565,\n",
       "       0.        , 0.        , 0.        , 0.        , 0.        ,\n",
       "       0.        , 0.        , 0.        , 0.00047565, 0.        ,\n",
       "       0.        , 0.00047565, 0.        , 0.        , 0.0009513 ,\n",
       "       0.        , 0.0009513 , 0.        , 0.        , 0.        ,\n",
       "       0.        , 0.        , 0.00047565, 0.00047565])"
      ]
     },
     "execution_count": 137,
     "metadata": {},
     "output_type": "execute_result"
    }
   ],
   "source": [
    "class_weights, _ = np.histogram(np.argmax(y_test, axis=-1), bins=199, density=True)\n",
    "class_weights"
   ]
  },
  {
   "cell_type": "markdown",
   "id": "bb20f41e-b8ca-4029-baf6-8c5e280bb166",
   "metadata": {
    "tags": []
   },
   "source": [
    "### Catboost"
   ]
  },
  {
   "cell_type": "code",
   "execution_count": 141,
   "id": "222834c5-9d3a-4fb6-bc31-536745be4356",
   "metadata": {
    "tags": []
   },
   "outputs": [],
   "source": [
    "cb_train = Pool(np.float32(X_train), label=np.argmax(y_train, axis=-1).tolist())\n",
    "cb_eval = Pool(np.float32(X_test), label=np.argmax(y_test, axis=-1).tolist())"
   ]
  },
  {
   "cell_type": "code",
   "execution_count": 144,
   "id": "e0b08291-211f-4ee4-82a6-9abcd6fb7236",
   "metadata": {},
   "outputs": [
    {
     "name": "stderr",
     "output_type": "stream",
     "text": [
      "Custom logger is already specified. Specify more than one logger at same time is not thread safe."
     ]
    },
    {
     "name": "stdout",
     "output_type": "stream",
     "text": [
      "0:\tlearn: 0.1261240\ttotal: 10.1s\tremaining: 40.3s\n",
      "1:\tlearn: 0.1476574\ttotal: 21.7s\tremaining: 32.6s\n",
      "2:\tlearn: 0.1482489\ttotal: 32.7s\tremaining: 21.8s\n",
      "3:\tlearn: 0.1473024\ttotal: 43.5s\tremaining: 10.9s\n",
      "4:\tlearn: 0.1471841\ttotal: 54.9s\tremaining: 0us\n"
     ]
    },
    {
     "data": {
      "text/plain": [
       "<catboost.core.CatBoostClassifier at 0x1f7a35a12e0>"
      ]
     },
     "execution_count": 144,
     "metadata": {},
     "output_type": "execute_result"
    }
   ],
   "source": [
    "model_params = {\n",
    "    'task_type': 'CPU',\n",
    "    'iterations': 5,\n",
    "    'learning_rate': 0.001,\n",
    "    'depth': 3,\n",
    "    'verbose': True,\n",
    "    'loss_function': 'MultiClass',\n",
    "    'eval_metric': 'Accuracy',\n",
    "    # 'use_best_model': True,\n",
    "    # 'class_weights': class_weights\n",
    "}\n",
    "\n",
    "fit_params = {\n",
    "    # 'use_best_model': True,\n",
    "    'early_stopping_rounds': 5,\n",
    "}\n",
    "\n",
    "model = CatBoostClassifier(**model_params)\n",
    "model.fit(cb_train, **fit_params)"
   ]
  },
  {
   "cell_type": "code",
   "execution_count": 145,
   "id": "fe4e9948-63e1-4c88-91c3-0b73e73e7b30",
   "metadata": {},
   "outputs": [
    {
     "name": "stdout",
     "output_type": "stream",
     "text": [
      "class =  (2113, 1)\n"
     ]
    }
   ],
   "source": [
    "cb_pred = model.predict(cb_eval)\n",
    "print(\"class = \", cb_pred.shape)"
   ]
  },
  {
   "cell_type": "code",
   "execution_count": 146,
   "id": "8d85f18c-1ce0-4c09-9d5c-4e1a68055a68",
   "metadata": {},
   "outputs": [
    {
     "data": {
      "text/plain": [
       "Counter({11: 1658, 0: 455})"
      ]
     },
     "execution_count": 146,
     "metadata": {},
     "output_type": "execute_result"
    }
   ],
   "source": [
    "Counter(cb_pred.squeeze())"
   ]
  },
  {
   "cell_type": "code",
   "execution_count": 147,
   "id": "4d6408d5-d657-4fd1-a2c0-bbbd8bd76bcc",
   "metadata": {},
   "outputs": [
    {
     "data": {
      "text/plain": [
       "0.050506459358042266"
      ]
     },
     "execution_count": 147,
     "metadata": {},
     "output_type": "execute_result"
    }
   ],
   "source": [
    "f1_score(np.argmax(y_test, axis=-1), cb_pred.squeeze(), average='weighted')"
   ]
  },
  {
   "cell_type": "code",
   "execution_count": 148,
   "id": "b46a7546-8de7-48c6-af71-be211df640ec",
   "metadata": {},
   "outputs": [
    {
     "data": {
      "text/plain": [
       "0.07808802650260294"
      ]
     },
     "execution_count": 148,
     "metadata": {},
     "output_type": "execute_result"
    }
   ],
   "source": [
    "accuracy_score(np.argmax(y_test, axis=-1), preds_class.squeeze())"
   ]
  },
  {
   "cell_type": "code",
   "execution_count": 149,
   "id": "2f26e157-0235-4d63-a775-bc0fddeef425",
   "metadata": {},
   "outputs": [
    {
     "data": {
      "text/plain": [
       "0.150970184571699"
      ]
     },
     "execution_count": 149,
     "metadata": {},
     "output_type": "execute_result"
    }
   ],
   "source": [
    "model.score(cb_eval)"
   ]
  },
  {
   "cell_type": "markdown",
   "id": "9a338e86-120a-4e64-9075-0dd418dd1623",
   "metadata": {
    "tags": []
   },
   "source": [
    "### LogisticRegression"
   ]
  },
  {
   "cell_type": "code",
   "execution_count": 151,
   "id": "1c0e2482-1dcb-4d80-99f2-8d789d22b419",
   "metadata": {},
   "outputs": [
    {
     "data": {
      "text/plain": [
       "LogisticRegression(max_iter=1000, random_state=42)"
      ]
     },
     "execution_count": 151,
     "metadata": {},
     "output_type": "execute_result"
    }
   ],
   "source": [
    "lg = LogisticRegression(random_state=42, max_iter=1000)\n",
    "lg.fit(X_train, np.argmax(y_train, axis=-1))"
   ]
  },
  {
   "cell_type": "code",
   "execution_count": 152,
   "id": "aa4bf17a-148a-4c17-a1b1-29f51d62512b",
   "metadata": {},
   "outputs": [],
   "source": [
    "logreg_pred = lg.predict(X_test)"
   ]
  },
  {
   "cell_type": "code",
   "execution_count": 153,
   "id": "3bacd057-ee5a-415a-81f8-0a439a89cf5e",
   "metadata": {},
   "outputs": [
    {
     "data": {
      "text/plain": [
       "Counter({11: 484,\n",
       "         0: 233,\n",
       "         15: 101,\n",
       "         22: 14,\n",
       "         3: 51,\n",
       "         17: 98,\n",
       "         4: 139,\n",
       "         9: 21,\n",
       "         16: 102,\n",
       "         7: 94,\n",
       "         18: 8,\n",
       "         2: 14,\n",
       "         21: 97,\n",
       "         48: 18,\n",
       "         6: 81,\n",
       "         37: 54,\n",
       "         67: 26,\n",
       "         36: 82,\n",
       "         28: 9,\n",
       "         44: 4,\n",
       "         20: 124,\n",
       "         108: 3,\n",
       "         40: 55,\n",
       "         29: 47,\n",
       "         35: 6,\n",
       "         41: 4,\n",
       "         57: 8,\n",
       "         10: 49,\n",
       "         107: 3,\n",
       "         58: 5,\n",
       "         80: 1,\n",
       "         34: 5,\n",
       "         33: 2,\n",
       "         71: 7,\n",
       "         53: 1,\n",
       "         114: 1,\n",
       "         50: 8,\n",
       "         69: 4,\n",
       "         161: 1,\n",
       "         19: 5,\n",
       "         52: 5,\n",
       "         23: 4,\n",
       "         81: 5,\n",
       "         45: 8,\n",
       "         38: 1,\n",
       "         42: 1,\n",
       "         39: 4,\n",
       "         14: 2,\n",
       "         8: 7,\n",
       "         25: 5,\n",
       "         59: 1,\n",
       "         109: 1})"
      ]
     },
     "execution_count": 153,
     "metadata": {},
     "output_type": "execute_result"
    }
   ],
   "source": [
    "Counter(logreg_pred)"
   ]
  },
  {
   "cell_type": "code",
   "execution_count": 154,
   "id": "72e7df7e-9888-4b2f-965e-a93360a7c889",
   "metadata": {},
   "outputs": [
    {
     "data": {
      "text/plain": [
       "0.19195402111020096"
      ]
     },
     "execution_count": 154,
     "metadata": {},
     "output_type": "execute_result"
    }
   ],
   "source": [
    "f1_score(np.argmax(y_test, axis=-1), logreg_pred, average='weighted')"
   ]
  },
  {
   "cell_type": "code",
   "execution_count": 155,
   "id": "4e273627-89c7-4463-9d68-65edd68c47de",
   "metadata": {},
   "outputs": [
    {
     "data": {
      "text/plain": [
       "0.22716516800757217"
      ]
     },
     "execution_count": 155,
     "metadata": {},
     "output_type": "execute_result"
    }
   ],
   "source": [
    "accuracy_score(np.argmax(y_test, axis=-1), logreg_pred)"
   ]
  },
  {
   "cell_type": "markdown",
   "id": "02d9720f-67c9-4614-870f-bed418984917",
   "metadata": {},
   "source": [
    "### RandomForest"
   ]
  },
  {
   "cell_type": "code",
   "execution_count": 156,
   "id": "7478948d-796e-4386-a7f4-238d5d7f5d60",
   "metadata": {},
   "outputs": [],
   "source": [
    "rf = RandomForestClassifier(max_depth=4, random_state=42)"
   ]
  },
  {
   "cell_type": "code",
   "execution_count": 157,
   "id": "f2690be4-1bb6-464b-a2ba-012e4b91cc24",
   "metadata": {},
   "outputs": [
    {
     "data": {
      "text/plain": [
       "RandomForestClassifier(max_depth=4, random_state=42)"
      ]
     },
     "execution_count": 157,
     "metadata": {},
     "output_type": "execute_result"
    }
   ],
   "source": [
    "rf.fit(X_train, np.argmax(y_train, axis=-1))"
   ]
  },
  {
   "cell_type": "code",
   "execution_count": 158,
   "id": "fb15dfb8-0ee3-43bc-bc69-4004522b98c4",
   "metadata": {},
   "outputs": [],
   "source": [
    "rf_preds = rf.predict(X_test)"
   ]
  },
  {
   "cell_type": "code",
   "execution_count": 161,
   "id": "3e72b7b9-d064-42f2-897e-25ebec31008d",
   "metadata": {
    "tags": []
   },
   "outputs": [
    {
     "data": {
      "text/plain": [
       "Counter({11: 1763, 0: 253, 15: 21, 6: 36, 20: 24, 37: 11, 36: 3, 16: 2})"
      ]
     },
     "execution_count": 161,
     "metadata": {},
     "output_type": "execute_result"
    }
   ],
   "source": [
    "Counter(rf_preds)"
   ]
  },
  {
   "cell_type": "code",
   "execution_count": 159,
   "id": "93971e73-8e0c-4fb7-9db1-a4aa8dfcca2a",
   "metadata": {},
   "outputs": [
    {
     "data": {
      "text/plain": [
       "0.08049459516034534"
      ]
     },
     "execution_count": 159,
     "metadata": {},
     "output_type": "execute_result"
    }
   ],
   "source": [
    "f1_score(np.argmax(y_test, axis=-1), rf_preds, average='weighted')"
   ]
  },
  {
   "cell_type": "code",
   "execution_count": 160,
   "id": "5bf5b296-aa13-48b9-bf67-f932c1f74a8c",
   "metadata": {},
   "outputs": [
    {
     "data": {
      "text/plain": [
       "0.16469474680548982"
      ]
     },
     "execution_count": 160,
     "metadata": {},
     "output_type": "execute_result"
    }
   ],
   "source": [
    "accuracy_score(np.argmax(y_test, axis=-1), rf_preds)"
   ]
  }
 ],
 "metadata": {
  "kernelspec": {
   "display_name": "Python 3 (ipykernel)",
   "language": "python",
   "name": "python3"
  },
  "language_info": {
   "codemirror_mode": {
    "name": "ipython",
    "version": 3
   },
   "file_extension": ".py",
   "mimetype": "text/x-python",
   "name": "python",
   "nbconvert_exporter": "python",
   "pygments_lexer": "ipython3",
   "version": "3.8.2"
  }
 },
 "nbformat": 4,
 "nbformat_minor": 5
}
