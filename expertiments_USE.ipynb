{
 "cells": [
  {
   "cell_type": "code",
   "execution_count": 1,
   "id": "899ed118-2493-413b-9fdc-bf994b8feb7b",
   "metadata": {},
   "outputs": [],
   "source": [
    "import json\n",
    "import pickle\n",
    "import os\n",
    "from collections import Counter\n",
    "\n",
    "import numpy as np\n",
    "import tensorflow as tf\n",
    "import tensorflow_hub as hub\n",
    "\n",
    "from catboost import CatBoostClassifier, Pool\n",
    "from sklearn.linear_model import LogisticRegression\n",
    "from sklearn.ensemble import RandomForestClassifier\n",
    "from sklearn.model_selection import train_test_split\n",
    "from sklearn.metrics import f1_score, accuracy_score\n",
    "from tqdm.notebook import tqdm\n",
    "\n",
    "from utils.preprocessing import LabelEncoder\n",
    "from utils.tensorflow_utils import SkillDataset"
   ]
  },
  {
   "cell_type": "code",
   "execution_count": 2,
   "id": "aefbb6a4-e559-4044-a4df-73b413487dc3",
   "metadata": {},
   "outputs": [
    {
     "name": "stdout",
     "output_type": "stream",
     "text": [
      "module https://tfhub.dev/google/universal-sentence-encoder/4 loaded\n"
     ]
    }
   ],
   "source": [
    "os.environ['TFHUB_CACHE_DIR'] = './models/tf_cache'\n",
    "module_url = \"https://tfhub.dev/google/universal-sentence-encoder/4\"\n",
    "encoder = hub.load(module_url)\n",
    "print (\"module %s loaded\" % module_url)"
   ]
  },
  {
   "cell_type": "code",
   "execution_count": 3,
   "id": "7ca6ee9b-8893-4cb4-bde0-32f2194bf85b",
   "metadata": {},
   "outputs": [],
   "source": [
    "with open('data/labels.json', 'r', encoding=\"utf8\") as f:\n",
    "    labels_map = json.load(f)\n",
    "\n",
    "with open('data/dataset.json', 'r', encoding=\"utf8\") as f:\n",
    "    data = json.load(f)"
   ]
  },
  {
   "cell_type": "code",
   "execution_count": 4,
   "id": "c9571a03-5795-49f2-b3a2-e087f7bdafe0",
   "metadata": {},
   "outputs": [],
   "source": [
    "PARAMS = {\n",
    "    'embed_dim': 512,\n",
    "    'n_previous': 3\n",
    "}"
   ]
  },
  {
   "cell_type": "markdown",
   "id": "607ba62f-573f-4997-914c-d406c1304411",
   "metadata": {
    "tags": []
   },
   "source": [
    "## Midas"
   ]
  },
  {
   "cell_type": "code",
   "execution_count": 5,
   "id": "553b65ee-c405-4f62-be1a-82d7cd459c15",
   "metadata": {},
   "outputs": [],
   "source": [
    "dataset = SkillDataset(\n",
    "    data=data, vars2id=labels_map,\n",
    "    text_vectorizer=encoder,\n",
    "    label_encoder=LabelEncoder(\n",
    "        list(labels_map['target_midas2id']),\n",
    "        'midas'),\n",
    "    shuffle=False, batch_size=len(data), **PARAMS)"
   ]
  },
  {
   "cell_type": "code",
   "execution_count": 6,
   "id": "0da53383-8b81-429e-be13-80e5ab460865",
   "metadata": {},
   "outputs": [],
   "source": [
    "for X, y in dataset:\n",
    "    break"
   ]
  },
  {
   "cell_type": "code",
   "execution_count": 7,
   "id": "72eb684b-4f59-4c4e-ade4-35829d0307c0",
   "metadata": {},
   "outputs": [
    {
     "data": {
      "text/plain": [
       "((12055, 1659), (12055, 12))"
      ]
     },
     "execution_count": 7,
     "metadata": {},
     "output_type": "execute_result"
    }
   ],
   "source": [
    "X.shape, y.shape"
   ]
  },
  {
   "cell_type": "code",
   "execution_count": 8,
   "id": "a83e7ae5-9012-438d-8d05-b9c0cf6bf145",
   "metadata": {},
   "outputs": [],
   "source": [
    "X_train, X_test, y_train, y_test = train_test_split(X, y, test_size=0.2, random_state=42)"
   ]
  },
  {
   "cell_type": "code",
   "execution_count": 9,
   "id": "e88d26f5-c055-4713-8550-37713ac197de",
   "metadata": {},
   "outputs": [
    {
     "data": {
      "text/plain": [
       "((9644, 1659), (2411, 1659), (9644, 12), (2411, 12))"
      ]
     },
     "execution_count": 9,
     "metadata": {},
     "output_type": "execute_result"
    }
   ],
   "source": [
    "X_train.shape, X_test.shape, y_train.shape, y_test.shape"
   ]
  },
  {
   "cell_type": "code",
   "execution_count": 10,
   "id": "c695f276-23d3-438a-aa70-fee5083f1daa",
   "metadata": {},
   "outputs": [
    {
     "data": {
      "text/plain": [
       "array([1., 1., 0., 0., 0., 0., 0., 0., 0., 0., 0., 0., 0., 0., 0.])"
      ]
     },
     "execution_count": 10,
     "metadata": {},
     "output_type": "execute_result"
    }
   ],
   "source": [
    "X[0,525:540]"
   ]
  },
  {
   "cell_type": "code",
   "execution_count": 14,
   "id": "47a7439b-2409-4f83-aeb7-f1959338742c",
   "metadata": {},
   "outputs": [
    {
     "data": {
      "text/plain": [
       "array([0.54997926, 0.12343426, 0.43102447, 0.02438822, 0.0184156 ,\n",
       "       0.        , 0.01045209, 0.015927  , 0.02040647, 0.00149316,\n",
       "       0.00348403, 0.00099544])"
      ]
     },
     "execution_count": 14,
     "metadata": {},
     "output_type": "execute_result"
    }
   ],
   "source": [
    "class_weights, _ = np.histogram(np.argmax(y_test, axis=-1), bins=12, density=True)\n",
    "class_weights"
   ]
  },
  {
   "cell_type": "markdown",
   "id": "07ee4761-e51c-4845-9c04-63804f564cb3",
   "metadata": {
    "tags": []
   },
   "source": [
    "### Catboost"
   ]
  },
  {
   "cell_type": "code",
   "execution_count": 15,
   "id": "e2b8e82c-d1ba-4690-b739-6849683fa718",
   "metadata": {
    "tags": []
   },
   "outputs": [],
   "source": [
    "cb_train = Pool(np.float32(X_train), label=np.argmax(y_train, axis=-1).tolist())\n",
    "cb_eval = Pool(np.float32(X_test), label=np.argmax(y_test, axis=-1).tolist())"
   ]
  },
  {
   "cell_type": "code",
   "execution_count": 16,
   "id": "04291d76-5ab6-41a0-b9a4-0233c6a601d1",
   "metadata": {},
   "outputs": [
    {
     "name": "stderr",
     "output_type": "stream",
     "text": [
      "Custom logger is already specified. Specify more than one logger at same time is not thread safe."
     ]
    },
    {
     "name": "stdout",
     "output_type": "stream",
     "text": [
      "0:\tlearn: 0.5908422\ttest: 0.5993200\tbest: 0.5993200 (0)\ttotal: 641ms\tremaining: 1m 3s\n",
      "1:\tlearn: 0.5906719\ttest: 0.5990124\tbest: 0.5993200 (0)\ttotal: 1.05s\tremaining: 51.7s\n",
      "2:\tlearn: 0.5906719\ttest: 0.5990124\tbest: 0.5993200 (0)\ttotal: 1.48s\tremaining: 48s\n",
      "3:\tlearn: 0.5906719\ttest: 0.5990124\tbest: 0.5993200 (0)\ttotal: 1.89s\tremaining: 45.3s\n",
      "4:\tlearn: 0.5906719\ttest: 0.5990124\tbest: 0.5993200 (0)\ttotal: 2.25s\tremaining: 42.8s\n",
      "5:\tlearn: 0.5906719\ttest: 0.5990124\tbest: 0.5993200 (0)\ttotal: 2.65s\tremaining: 41.6s\n",
      "Stopped by overfitting detector  (5 iterations wait)\n",
      "\n",
      "bestTest = 0.5993199638\n",
      "bestIteration = 0\n",
      "\n",
      "Shrink model to first 1 iterations.\n"
     ]
    },
    {
     "data": {
      "text/plain": [
       "<catboost.core.CatBoostClassifier at 0x2b2bca44d90>"
      ]
     },
     "execution_count": 16,
     "metadata": {},
     "output_type": "execute_result"
    }
   ],
   "source": [
    "model_params = {\n",
    "    'task_type': 'CPU',\n",
    "    'iterations': 100,\n",
    "    'learning_rate': 0.001,\n",
    "    'depth': 3,\n",
    "    'verbose': True,\n",
    "    'loss_function': 'MultiClass',\n",
    "    'eval_metric': 'Accuracy',\n",
    "    'use_best_model': True,\n",
    "    'class_weights': class_weights\n",
    "}\n",
    "\n",
    "fit_params = {\n",
    "    'use_best_model': True,\n",
    "    'early_stopping_rounds': 5,\n",
    "}\n",
    "\n",
    "model = CatBoostClassifier(**model_params)\n",
    "model.fit(cb_train, eval_set=cb_eval, **fit_params)"
   ]
  },
  {
   "cell_type": "code",
   "execution_count": 17,
   "id": "2e6b0ac5-f724-47d8-97ef-8b45ba61effe",
   "metadata": {},
   "outputs": [
    {
     "name": "stdout",
     "output_type": "stream",
     "text": [
      "class =  (2411, 1)\n"
     ]
    }
   ],
   "source": [
    "cb_pred = model.predict(cb_eval)\n",
    "print(\"class = \", cb_pred.shape)"
   ]
  },
  {
   "cell_type": "code",
   "execution_count": 18,
   "id": "2318345b-157b-4b46-984a-d1b95a1583e4",
   "metadata": {},
   "outputs": [
    {
     "data": {
      "text/plain": [
       "Counter({0: 2407, 2: 4})"
      ]
     },
     "execution_count": 18,
     "metadata": {},
     "output_type": "execute_result"
    }
   ],
   "source": [
    "Counter(cb_pred.squeeze())"
   ]
  },
  {
   "cell_type": "code",
   "execution_count": 19,
   "id": "02dac0ab-c303-4aed-a4a3-3bfe46002efe",
   "metadata": {},
   "outputs": [
    {
     "data": {
      "text/plain": [
       "0.28979546709017007"
      ]
     },
     "execution_count": 19,
     "metadata": {},
     "output_type": "execute_result"
    }
   ],
   "source": [
    "f1_score(np.argmax(y_test, axis=-1), cb_pred.squeeze(), average='weighted')"
   ]
  },
  {
   "cell_type": "code",
   "execution_count": 21,
   "id": "4fad23ef-8eea-4482-953a-6f9785355529",
   "metadata": {},
   "outputs": [
    {
     "data": {
      "text/plain": [
       "0.45873081708834507"
      ]
     },
     "execution_count": 21,
     "metadata": {},
     "output_type": "execute_result"
    }
   ],
   "source": [
    "accuracy_score(np.argmax(y_test, axis=-1), cb_pred.squeeze())"
   ]
  },
  {
   "cell_type": "code",
   "execution_count": 22,
   "id": "7d5faf5e-069d-44c3-8ab9-987f764e15ab",
   "metadata": {},
   "outputs": [
    {
     "data": {
      "text/plain": [
       "0.45873081708834507"
      ]
     },
     "execution_count": 22,
     "metadata": {},
     "output_type": "execute_result"
    }
   ],
   "source": [
    "model.score(cb_eval)"
   ]
  },
  {
   "cell_type": "markdown",
   "id": "b3d29ca1-8c75-446c-82dc-fe8089e54e3d",
   "metadata": {
    "tags": []
   },
   "source": [
    "### LogisticRegression"
   ]
  },
  {
   "cell_type": "code",
   "execution_count": 46,
   "id": "a215cc32-a449-43ab-8f9b-b8ab8d689025",
   "metadata": {},
   "outputs": [
    {
     "data": {
      "text/plain": [
       "LogisticRegression(max_iter=500, random_state=42)"
      ]
     },
     "execution_count": 46,
     "metadata": {},
     "output_type": "execute_result"
    }
   ],
   "source": [
    "lg = LogisticRegression(random_state=42, max_iter=500)\n",
    "lg.fit(X_train, np.argmax(y_train, axis=-1))"
   ]
  },
  {
   "cell_type": "code",
   "execution_count": 47,
   "id": "fb84b8e4-7b30-4f36-966b-3144fa811596",
   "metadata": {},
   "outputs": [],
   "source": [
    "logreg_pred = lg.predict(X_test)"
   ]
  },
  {
   "cell_type": "code",
   "execution_count": 48,
   "id": "fb8b1250-df59-4bcd-a0cc-3b95bbe85144",
   "metadata": {},
   "outputs": [
    {
     "data": {
      "text/plain": [
       "Counter({2: 894, 1: 79, 0: 1431, 6: 4, 7: 1, 9: 1, 3: 1})"
      ]
     },
     "execution_count": 48,
     "metadata": {},
     "output_type": "execute_result"
    }
   ],
   "source": [
    "Counter(logreg_pred)"
   ]
  },
  {
   "cell_type": "code",
   "execution_count": 49,
   "id": "cf4cf1e9-ebca-454e-afd9-7ba1c8d28301",
   "metadata": {},
   "outputs": [
    {
     "data": {
      "text/plain": [
       "0.4429244218180792"
      ]
     },
     "execution_count": 49,
     "metadata": {},
     "output_type": "execute_result"
    }
   ],
   "source": [
    "f1_score(np.argmax(y_test, axis=-1), logreg_pred, average='weighted')"
   ]
  },
  {
   "cell_type": "code",
   "execution_count": 50,
   "id": "bec77712-069d-4aee-9d30-eff3f028cbcc",
   "metadata": {},
   "outputs": [
    {
     "data": {
      "text/plain": [
       "0.4807133969307341"
      ]
     },
     "execution_count": 50,
     "metadata": {},
     "output_type": "execute_result"
    }
   ],
   "source": [
    "accuracy_score(np.argmax(y_test, axis=-1), logreg_pred)"
   ]
  },
  {
   "cell_type": "markdown",
   "id": "6ce06000-49f4-4353-a43e-4636cc9922a6",
   "metadata": {
    "tags": []
   },
   "source": [
    "### RandomForeset"
   ]
  },
  {
   "cell_type": "code",
   "execution_count": 69,
   "id": "ec2f01a6-71c3-4371-8ef0-43754af8a4f0",
   "metadata": {},
   "outputs": [],
   "source": [
    "rf = RandomForestClassifier(max_depth=10, random_state=42)"
   ]
  },
  {
   "cell_type": "code",
   "execution_count": 70,
   "id": "5710b144-ee0e-4acf-b060-f0abd5f5e833",
   "metadata": {},
   "outputs": [
    {
     "data": {
      "text/plain": [
       "RandomForestClassifier(max_depth=10, random_state=42)"
      ]
     },
     "execution_count": 70,
     "metadata": {},
     "output_type": "execute_result"
    }
   ],
   "source": [
    "rf.fit(X_train, np.argmax(y_train, axis=-1))"
   ]
  },
  {
   "cell_type": "code",
   "execution_count": 71,
   "id": "0561fab7-dff1-49fe-b024-b58a6cc616df",
   "metadata": {},
   "outputs": [],
   "source": [
    "rf_preds = rf.predict(X_test)"
   ]
  },
  {
   "cell_type": "code",
   "execution_count": 72,
   "id": "71113f3d-c77f-484b-af3f-0017382761e3",
   "metadata": {},
   "outputs": [
    {
     "data": {
      "text/plain": [
       "0.4109948947237741"
      ]
     },
     "execution_count": 72,
     "metadata": {},
     "output_type": "execute_result"
    }
   ],
   "source": [
    "f1_score(np.argmax(y_test, axis=-1), rf_preds, average='weighted')"
   ]
  },
  {
   "cell_type": "code",
   "execution_count": 73,
   "id": "510247d4-34c9-45b5-92a4-821e89a04423",
   "metadata": {},
   "outputs": [
    {
     "data": {
      "text/plain": [
       "0.49108253836582333"
      ]
     },
     "execution_count": 73,
     "metadata": {},
     "output_type": "execute_result"
    }
   ],
   "source": [
    "accuracy_score(np.argmax(y_test, axis=-1), rf_preds)"
   ]
  },
  {
   "cell_type": "code",
   "execution_count": 74,
   "id": "976e8c5d-9592-4fd1-8afb-d7d4dedcbf83",
   "metadata": {
    "tags": []
   },
   "outputs": [
    {
     "data": {
      "text/plain": [
       "Counter({2: 469, 0: 1942})"
      ]
     },
     "execution_count": 74,
     "metadata": {},
     "output_type": "execute_result"
    }
   ],
   "source": [
    "Counter(rf_preds)"
   ]
  },
  {
   "cell_type": "markdown",
   "id": "b3c75faf-48b1-495d-86bc-1ddaf482aee0",
   "metadata": {
    "tags": []
   },
   "source": [
    "## Entities"
   ]
  },
  {
   "cell_type": "code",
   "execution_count": 75,
   "id": "48d93e37-a4dd-4665-9745-365757cf2409",
   "metadata": {},
   "outputs": [],
   "source": [
    "dataset = SkillDataset(\n",
    "    data=data, vars2id=labels_map,\n",
    "    text_vectorizer=encoder,\n",
    "    label_encoder=LabelEncoder(\n",
    "        list(labels_map['target_entity2id']),\n",
    "        'entity'),\n",
    "    shuffle=False, batch_size=len(data), **PARAMS)"
   ]
  },
  {
   "cell_type": "code",
   "execution_count": 76,
   "id": "6cc960e3-05ba-4f06-9ba7-0073361311e3",
   "metadata": {},
   "outputs": [],
   "source": [
    "for X, y in dataset:\n",
    "    break"
   ]
  },
  {
   "cell_type": "code",
   "execution_count": 77,
   "id": "e6a9b18c-baf9-4046-ba55-026c7eff4975",
   "metadata": {},
   "outputs": [],
   "source": [
    "X_train, X_test, y_train, y_test = train_test_split(X, y, test_size=0.2, random_state=42)"
   ]
  },
  {
   "cell_type": "code",
   "execution_count": 78,
   "id": "19050e97-cfc5-4abe-b531-58e2322775b2",
   "metadata": {},
   "outputs": [
    {
     "data": {
      "text/plain": [
       "((9644, 1659), (2411, 1659), (9644, 25), (2411, 25))"
      ]
     },
     "execution_count": 78,
     "metadata": {},
     "output_type": "execute_result"
    }
   ],
   "source": [
    "X_train.shape, X_test.shape, y_train.shape, y_test.shape"
   ]
  },
  {
   "cell_type": "code",
   "execution_count": 79,
   "id": "22f0382a-90d1-4c12-a84a-bb525fe2084c",
   "metadata": {},
   "outputs": [
    {
     "data": {
      "text/plain": [
       "array([1., 1., 0., 0., 0., 0., 0., 0., 0., 0., 0., 0., 0., 0., 0.])"
      ]
     },
     "execution_count": 79,
     "metadata": {},
     "output_type": "execute_result"
    }
   ],
   "source": [
    "X[0,525:540]"
   ]
  },
  {
   "cell_type": "code",
   "execution_count": 80,
   "id": "2b8f15e7-6ed4-4afd-ba80-36a9517a6918",
   "metadata": {},
   "outputs": [
    {
     "data": {
      "text/plain": [
       "array([0.03715609, 0.08597746, 0.06221485, 0.23200954, 0.12010922,\n",
       "       0.00734481, 0.05746233, 0.09461842, 0.1326386 , 0.00734481,\n",
       "       0.05141366, 0.00518457, 0.01684985, 0.02592285, 0.00259229,\n",
       "       0.01771395, 0.01252938, 0.03499585, 0.00475252, 0.        ,\n",
       "       0.01296143, 0.01252938, 0.        , 0.00691276, 0.00043205])"
      ]
     },
     "execution_count": 80,
     "metadata": {},
     "output_type": "execute_result"
    }
   ],
   "source": [
    "class_weights, _ = np.histogram(np.argmax(y_test, axis=-1), bins=25, density=True)\n",
    "class_weights"
   ]
  },
  {
   "cell_type": "markdown",
   "id": "d967f27a-6013-4f9a-aa0a-bf64132c6250",
   "metadata": {
    "tags": []
   },
   "source": [
    "### Catboost"
   ]
  },
  {
   "cell_type": "code",
   "execution_count": 81,
   "id": "df2f637e-6124-465d-91de-fd56dad2d56a",
   "metadata": {},
   "outputs": [
    {
     "name": "stdout",
     "output_type": "stream",
     "text": [
      "0:\tlearn: 0.4861228\ttest: 0.4924351\tbest: 0.4924351 (0)\ttotal: 934ms\tremaining: 1m 32s\n",
      "1:\tlearn: 0.4817112\ttest: 0.4882911\tbest: 0.4924351 (0)\ttotal: 1.7s\tremaining: 1m 23s\n",
      "2:\tlearn: 0.4819379\ttest: 0.4884737\tbest: 0.4924351 (0)\ttotal: 2.54s\tremaining: 1m 22s\n",
      "3:\tlearn: 0.4809126\ttest: 0.4834971\tbest: 0.4924351 (0)\ttotal: 3.36s\tremaining: 1m 20s\n",
      "4:\tlearn: 0.4817724\ttest: 0.4868164\tbest: 0.4924351 (0)\ttotal: 4.08s\tremaining: 1m 17s\n",
      "5:\tlearn: 0.4816185\ttest: 0.4880446\tbest: 0.4924351 (0)\ttotal: 4.89s\tremaining: 1m 16s\n",
      "Stopped by overfitting detector  (5 iterations wait)\n",
      "\n",
      "bestTest = 0.4924350775\n",
      "bestIteration = 0\n",
      "\n",
      "Shrink model to first 1 iterations.\n",
      "class =  (2411, 1)\n"
     ]
    }
   ],
   "source": [
    "cb_train = Pool(np.float32(X_train), label=np.argmax(y_train, axis=-1).tolist())\n",
    "cb_eval = Pool(np.float32(X_test), label=np.argmax(y_test, axis=-1).tolist())\n",
    "\n",
    "model_params = {\n",
    "    'task_type': 'CPU',\n",
    "    'iterations': 100,\n",
    "    'learning_rate': 0.001,\n",
    "    'depth': 3,\n",
    "    'verbose': True,\n",
    "    'loss_function': 'MultiClass',\n",
    "    'eval_metric': 'Accuracy',\n",
    "    'use_best_model': True,\n",
    "    'class_weights': class_weights\n",
    "}\n",
    "\n",
    "fit_params = {\n",
    "    'use_best_model': True,\n",
    "    'early_stopping_rounds': 5,\n",
    "}\n",
    "\n",
    "model = CatBoostClassifier(**model_params)\n",
    "model.fit(cb_train, eval_set=cb_eval, **fit_params)\n",
    "\n",
    "cb_pred = model.predict(cb_eval)\n",
    "print(\"class = \", cb_pred.shape)"
   ]
  },
  {
   "cell_type": "code",
   "execution_count": 82,
   "id": "2c327bf0-b08d-4a72-9527-18680a558bd6",
   "metadata": {},
   "outputs": [
    {
     "data": {
      "text/plain": [
       "Counter({3: 2141, 4: 107, 8: 163})"
      ]
     },
     "execution_count": 82,
     "metadata": {},
     "output_type": "execute_result"
    }
   ],
   "source": [
    "Counter(cb_pred.squeeze())"
   ]
  },
  {
   "cell_type": "code",
   "execution_count": 83,
   "id": "a51fdd9a-b841-4dc6-921d-f8007754e96a",
   "metadata": {},
   "outputs": [
    {
     "data": {
      "text/plain": [
       "0.15219628899385088"
      ]
     },
     "execution_count": 83,
     "metadata": {},
     "output_type": "execute_result"
    }
   ],
   "source": [
    "f1_score(np.argmax(y_test, axis=-1), cb_pred.squeeze(), average='weighted')"
   ]
  },
  {
   "cell_type": "code",
   "execution_count": 84,
   "id": "0e93b3f3-d0e3-4a4d-a858-a90a24216027",
   "metadata": {},
   "outputs": [
    {
     "data": {
      "text/plain": [
       "0.2600580671920365"
      ]
     },
     "execution_count": 84,
     "metadata": {},
     "output_type": "execute_result"
    }
   ],
   "source": [
    "accuracy_score(np.argmax(y_test, axis=-1), cb_pred)"
   ]
  },
  {
   "cell_type": "markdown",
   "id": "db19dff0-5168-4677-aab6-5d4bf44fee32",
   "metadata": {
    "tags": []
   },
   "source": [
    "### LogisticRegression"
   ]
  },
  {
   "cell_type": "code",
   "execution_count": 85,
   "id": "f470b582-5217-4f1c-a686-42c0a8d56af6",
   "metadata": {},
   "outputs": [
    {
     "data": {
      "text/plain": [
       "LogisticRegression(max_iter=500, random_state=42)"
      ]
     },
     "execution_count": 85,
     "metadata": {},
     "output_type": "execute_result"
    }
   ],
   "source": [
    "lg = LogisticRegression(random_state=42, max_iter=500)\n",
    "lg.fit(X_train, np.argmax(y_train, axis=-1))"
   ]
  },
  {
   "cell_type": "code",
   "execution_count": 86,
   "id": "81a4c387-3487-44b2-8190-288f6b711a9d",
   "metadata": {},
   "outputs": [],
   "source": [
    "logreg_pred = lg.predict(X_test)"
   ]
  },
  {
   "cell_type": "code",
   "execution_count": 87,
   "id": "51100925-eece-4774-b4e1-1ba1719c1518",
   "metadata": {},
   "outputs": [
    {
     "data": {
      "text/plain": [
       "Counter({3: 727,\n",
       "         6: 99,\n",
       "         8: 319,\n",
       "         4: 308,\n",
       "         1: 208,\n",
       "         9: 18,\n",
       "         17: 89,\n",
       "         7: 252,\n",
       "         2: 98,\n",
       "         10: 116,\n",
       "         21: 17,\n",
       "         12: 8,\n",
       "         23: 4,\n",
       "         5: 13,\n",
       "         13: 29,\n",
       "         0: 51,\n",
       "         20: 24,\n",
       "         11: 3,\n",
       "         18: 9,\n",
       "         15: 13,\n",
       "         16: 6})"
      ]
     },
     "execution_count": 87,
     "metadata": {},
     "output_type": "execute_result"
    }
   ],
   "source": [
    "Counter(logreg_pred)"
   ]
  },
  {
   "cell_type": "code",
   "execution_count": 88,
   "id": "9982da60-a1a2-4159-947b-9c42b779dfbc",
   "metadata": {},
   "outputs": [
    {
     "data": {
      "text/plain": [
       "0.3951676488785533"
      ]
     },
     "execution_count": 88,
     "metadata": {},
     "output_type": "execute_result"
    }
   ],
   "source": [
    "f1_score(np.argmax(y_test, axis=-1), logreg_pred, average='weighted')"
   ]
  },
  {
   "cell_type": "code",
   "execution_count": 89,
   "id": "7c34cc36-2632-4ac4-9c4e-afd39c580c4a",
   "metadata": {},
   "outputs": [
    {
     "data": {
      "text/plain": [
       "0.41144753214433843"
      ]
     },
     "execution_count": 89,
     "metadata": {},
     "output_type": "execute_result"
    }
   ],
   "source": [
    "accuracy_score(np.argmax(y_test, axis=-1), logreg_pred)"
   ]
  },
  {
   "cell_type": "markdown",
   "id": "b6143669-2304-4d25-a2f3-d253c2e39c0a",
   "metadata": {
    "tags": []
   },
   "source": [
    "### RandomForest"
   ]
  },
  {
   "cell_type": "code",
   "execution_count": 90,
   "id": "7247be1b-f4f1-424e-9f5b-c692cb571bef",
   "metadata": {},
   "outputs": [],
   "source": [
    "rf = RandomForestClassifier(max_depth=10, random_state=42)"
   ]
  },
  {
   "cell_type": "code",
   "execution_count": 91,
   "id": "f6117dfe-9df4-4b21-841a-ea7af355cac3",
   "metadata": {},
   "outputs": [
    {
     "data": {
      "text/plain": [
       "RandomForestClassifier(max_depth=10, random_state=42)"
      ]
     },
     "execution_count": 91,
     "metadata": {},
     "output_type": "execute_result"
    }
   ],
   "source": [
    "rf.fit(X_train, np.argmax(y_train, axis=-1))"
   ]
  },
  {
   "cell_type": "code",
   "execution_count": 92,
   "id": "5a698ab4-ec04-4776-af6a-983457ffaeeb",
   "metadata": {},
   "outputs": [],
   "source": [
    "rf_preds = rf.predict(X_test)"
   ]
  },
  {
   "cell_type": "code",
   "execution_count": 93,
   "id": "7b5efe82-585b-4b95-b9c8-893d9a8d6b80",
   "metadata": {},
   "outputs": [
    {
     "data": {
      "text/plain": [
       "0.32260967440778654"
      ]
     },
     "execution_count": 93,
     "metadata": {},
     "output_type": "execute_result"
    }
   ],
   "source": [
    "f1_score(np.argmax(y_test, axis=-1), rf_preds, average='weighted')"
   ]
  },
  {
   "cell_type": "code",
   "execution_count": 94,
   "id": "02abf297-c188-48e8-9d5e-ddc6d14a6c17",
   "metadata": {},
   "outputs": [
    {
     "data": {
      "text/plain": [
       "0.3919535462463708"
      ]
     },
     "execution_count": 94,
     "metadata": {},
     "output_type": "execute_result"
    }
   ],
   "source": [
    "accuracy_score(np.argmax(y_test, axis=-1), rf_preds)"
   ]
  },
  {
   "cell_type": "code",
   "execution_count": 95,
   "id": "d01e49d9-2ed3-4a15-ba4e-b5170a76a365",
   "metadata": {
    "tags": []
   },
   "outputs": [
    {
     "data": {
      "text/plain": [
       "Counter({3: 1231, 4: 385, 8: 340, 7: 144, 1: 140, 17: 60, 10: 103, 6: 8})"
      ]
     },
     "execution_count": 95,
     "metadata": {},
     "output_type": "execute_result"
    }
   ],
   "source": [
    "Counter(rf_preds)"
   ]
  },
  {
   "cell_type": "markdown",
   "id": "be215a60-3b70-46eb-8a71-d6535c9d8312",
   "metadata": {
    "tags": []
   },
   "source": [
    "## Concatenation"
   ]
  },
  {
   "cell_type": "code",
   "execution_count": 96,
   "id": "8a01d122-eedb-4ccc-9b3c-b3f0243738f9",
   "metadata": {},
   "outputs": [],
   "source": [
    "dataset = SkillDataset(\n",
    "    data=data, vars2id=labels_map,\n",
    "    text_vectorizer=encoder,\n",
    "    label_encoder=LabelEncoder(\n",
    "        list(labels_map['target_midas_and_entity2id']),\n",
    "        'concatenation'),\n",
    "    shuffle=False, batch_size=len(data), **PARAMS)"
   ]
  },
  {
   "cell_type": "code",
   "execution_count": 97,
   "id": "7f576511-7dfc-4b4a-baab-9552e4c87394",
   "metadata": {},
   "outputs": [],
   "source": [
    "for X, y in dataset:\n",
    "    break"
   ]
  },
  {
   "cell_type": "code",
   "execution_count": 98,
   "id": "2edb4b69-ba55-4c5a-a140-1ded3bbd84e9",
   "metadata": {},
   "outputs": [
    {
     "data": {
      "text/plain": [
       "((12055, 1659), (12055, 194))"
      ]
     },
     "execution_count": 98,
     "metadata": {},
     "output_type": "execute_result"
    }
   ],
   "source": [
    "X.shape, y.shape"
   ]
  },
  {
   "cell_type": "code",
   "execution_count": 99,
   "id": "384dbe86-f810-4891-87ee-d67381cce5f4",
   "metadata": {},
   "outputs": [],
   "source": [
    "X_train, X_test, y_train, y_test = train_test_split(X, y, test_size=0.2, random_state=42)"
   ]
  },
  {
   "cell_type": "code",
   "execution_count": 100,
   "id": "847be53b-7e09-4232-b41b-2155a9c81a9d",
   "metadata": {},
   "outputs": [
    {
     "data": {
      "text/plain": [
       "((9644, 1659), (2411, 1659), (9644, 194), (2411, 194))"
      ]
     },
     "execution_count": 100,
     "metadata": {},
     "output_type": "execute_result"
    }
   ],
   "source": [
    "X_train.shape, X_test.shape, y_train.shape, y_test.shape"
   ]
  },
  {
   "cell_type": "code",
   "execution_count": 101,
   "id": "72370096-2e77-494a-97b3-2a2e8e0a8041",
   "metadata": {},
   "outputs": [
    {
     "data": {
      "text/plain": [
       "array([1., 1., 0., 0., 0., 0., 0., 0., 0., 0., 0., 0., 0., 0., 0.])"
      ]
     },
     "execution_count": 101,
     "metadata": {},
     "output_type": "execute_result"
    }
   ],
   "source": [
    "X[0,525:540]"
   ]
  },
  {
   "cell_type": "code",
   "execution_count": 102,
   "id": "a7aff40a-b315-4799-ad03-4b5f591a7225",
   "metadata": {},
   "outputs": [
    {
     "data": {
      "text/plain": [
       "array([0.01718253, 0.00754355, 0.03729867, 0.07459733, 0.02388791,\n",
       "       0.04861399, 0.        , 0.10519062, 0.0331078 , 0.0331078 ,\n",
       "       0.04190861, 0.05909114, 0.04651856, 0.01173441, 0.00502903,\n",
       "       0.02472608, 0.0393941 , 0.00754355, 0.00335269, 0.05112851,\n",
       "       0.03394598, 0.01592527, 0.00251452, 0.01341076, 0.01718253,\n",
       "       0.00125726, 0.00209543, 0.00502903, 0.00377178, 0.00963898,\n",
       "       0.00125726, 0.00335269, 0.00796264, 0.00712446, 0.00167634,\n",
       "       0.00754355, 0.02095431, 0.00377178, 0.00460995, 0.01047715,\n",
       "       0.00167634, 0.00251452, 0.00125726, 0.        , 0.00041909,\n",
       "       0.00670538, 0.00041909, 0.00754355, 0.00796264, 0.00209543,\n",
       "       0.00167634, 0.        , 0.00125726, 0.0121535 , 0.00209543,\n",
       "       0.        , 0.00670538, 0.00167634, 0.00251452, 0.00251452,\n",
       "       0.        , 0.00083817, 0.00586721, 0.00041909, 0.00921989,\n",
       "       0.00167634, 0.00125726, 0.00041909, 0.00209543, 0.        ,\n",
       "       0.00041909, 0.00041909, 0.00041909, 0.00125726, 0.00125726,\n",
       "       0.0029336 , 0.        , 0.00209543, 0.00041909, 0.00125726,\n",
       "       0.00544812, 0.00083817, 0.00041909, 0.00167634, 0.        ,\n",
       "       0.00335269, 0.00041909, 0.00083817, 0.00125726, 0.00083817,\n",
       "       0.        , 0.00041909, 0.00419086, 0.00083817, 0.00125726,\n",
       "       0.00125726, 0.        , 0.        , 0.        , 0.00125726,\n",
       "       0.00460995, 0.        , 0.00628629, 0.00041909, 0.        ,\n",
       "       0.        , 0.        , 0.        , 0.0029336 , 0.        ,\n",
       "       0.00083817, 0.00167634, 0.00041909, 0.        , 0.00083817,\n",
       "       0.        , 0.00167634, 0.00041909, 0.        , 0.        ,\n",
       "       0.        , 0.00083817, 0.00125726, 0.00083817, 0.00167634,\n",
       "       0.        , 0.        , 0.        , 0.        , 0.00125726,\n",
       "       0.00125726, 0.        , 0.        , 0.00167634, 0.00041909,\n",
       "       0.00041909, 0.00041909, 0.        , 0.00041909, 0.00041909,\n",
       "       0.00041909, 0.00041909, 0.        , 0.        , 0.        ,\n",
       "       0.        , 0.        , 0.00041909, 0.        , 0.        ,\n",
       "       0.        , 0.00041909, 0.        , 0.00125726, 0.        ,\n",
       "       0.00041909, 0.        , 0.00083817, 0.00083817, 0.00041909,\n",
       "       0.00083817, 0.        , 0.00041909, 0.00041909, 0.00125726,\n",
       "       0.00041909, 0.        , 0.        , 0.        , 0.00419086,\n",
       "       0.        , 0.00041909, 0.00041909, 0.        , 0.        ,\n",
       "       0.00041909, 0.        , 0.        , 0.        , 0.00083817,\n",
       "       0.        , 0.        , 0.        , 0.        , 0.00083817,\n",
       "       0.        , 0.        , 0.00041909, 0.00041909, 0.        ,\n",
       "       0.        , 0.        , 0.        , 0.00041909])"
      ]
     },
     "execution_count": 102,
     "metadata": {},
     "output_type": "execute_result"
    }
   ],
   "source": [
    "class_weights, _ = np.histogram(np.argmax(y_test, axis=-1), bins=194, density=True)\n",
    "class_weights"
   ]
  },
  {
   "cell_type": "markdown",
   "id": "bb20f41e-b8ca-4029-baf6-8c5e280bb166",
   "metadata": {
    "tags": []
   },
   "source": [
    "### Catboost"
   ]
  },
  {
   "cell_type": "code",
   "execution_count": 103,
   "id": "222834c5-9d3a-4fb6-bc31-536745be4356",
   "metadata": {
    "tags": []
   },
   "outputs": [],
   "source": [
    "cb_train = Pool(np.float32(X_train), label=np.argmax(y_train, axis=-1).tolist())\n",
    "cb_eval = Pool(np.float32(X_test), label=np.argmax(y_test, axis=-1).tolist())"
   ]
  },
  {
   "cell_type": "code",
   "execution_count": 104,
   "id": "e0b08291-211f-4ee4-82a6-9abcd6fb7236",
   "metadata": {},
   "outputs": [
    {
     "name": "stdout",
     "output_type": "stream",
     "text": [
      "0:\tlearn: 0.1134384\ttotal: 11.9s\tremaining: 47.6s\n",
      "1:\tlearn: 0.1119867\ttotal: 25s\tremaining: 37.5s\n",
      "2:\tlearn: 0.1106387\ttotal: 38.9s\tremaining: 25.9s\n",
      "3:\tlearn: 0.1112609\ttotal: 51.8s\tremaining: 12.9s\n",
      "4:\tlearn: 0.1252592\ttotal: 1m 6s\tremaining: 0us\n"
     ]
    },
    {
     "data": {
      "text/plain": [
       "<catboost.core.CatBoostClassifier at 0x2b32b2dbb20>"
      ]
     },
     "execution_count": 104,
     "metadata": {},
     "output_type": "execute_result"
    }
   ],
   "source": [
    "model_params = {\n",
    "    'task_type': 'CPU',\n",
    "    'iterations': 5,\n",
    "    'learning_rate': 0.001,\n",
    "    'depth': 3,\n",
    "    'verbose': True,\n",
    "    'loss_function': 'MultiClass',\n",
    "    'eval_metric': 'Accuracy',\n",
    "    # 'use_best_model': True,\n",
    "    # 'class_weights': class_weights\n",
    "}\n",
    "\n",
    "fit_params = {\n",
    "    # 'use_best_model': True,\n",
    "    'early_stopping_rounds': 5,\n",
    "}\n",
    "\n",
    "model = CatBoostClassifier(**model_params)\n",
    "model.fit(cb_train, **fit_params)"
   ]
  },
  {
   "cell_type": "code",
   "execution_count": 105,
   "id": "fe4e9948-63e1-4c88-91c3-0b73e73e7b30",
   "metadata": {},
   "outputs": [
    {
     "name": "stdout",
     "output_type": "stream",
     "text": [
      "class =  (2411, 1)\n"
     ]
    }
   ],
   "source": [
    "cb_pred = model.predict(cb_eval)\n",
    "print(\"class = \", cb_pred.shape)"
   ]
  },
  {
   "cell_type": "code",
   "execution_count": 106,
   "id": "8d85f18c-1ce0-4c09-9d5c-4e1a68055a68",
   "metadata": {},
   "outputs": [
    {
     "data": {
      "text/plain": [
       "Counter({7: 2293, 11: 113, 19: 4, 5: 1})"
      ]
     },
     "execution_count": 106,
     "metadata": {},
     "output_type": "execute_result"
    }
   ],
   "source": [
    "Counter(cb_pred.squeeze())"
   ]
  },
  {
   "cell_type": "code",
   "execution_count": 107,
   "id": "4d6408d5-d657-4fd1-a2c0-bbbd8bd76bcc",
   "metadata": {},
   "outputs": [
    {
     "data": {
      "text/plain": [
       "0.037171793026822476"
      ]
     },
     "execution_count": 107,
     "metadata": {},
     "output_type": "execute_result"
    }
   ],
   "source": [
    "f1_score(np.argmax(y_test, axis=-1), cb_pred.squeeze(), average='weighted')"
   ]
  },
  {
   "cell_type": "code",
   "execution_count": 109,
   "id": "b46a7546-8de7-48c6-af71-be211df640ec",
   "metadata": {},
   "outputs": [
    {
     "data": {
      "text/plain": [
       "0.11737868104520946"
      ]
     },
     "execution_count": 109,
     "metadata": {},
     "output_type": "execute_result"
    }
   ],
   "source": [
    "accuracy_score(np.argmax(y_test, axis=-1), cb_pred.squeeze())"
   ]
  },
  {
   "cell_type": "code",
   "execution_count": 110,
   "id": "2f26e157-0235-4d63-a775-bc0fddeef425",
   "metadata": {},
   "outputs": [
    {
     "data": {
      "text/plain": [
       "0.11737868104520946"
      ]
     },
     "execution_count": 110,
     "metadata": {},
     "output_type": "execute_result"
    }
   ],
   "source": [
    "model.score(cb_eval)"
   ]
  },
  {
   "cell_type": "markdown",
   "id": "9a338e86-120a-4e64-9075-0dd418dd1623",
   "metadata": {
    "tags": []
   },
   "source": [
    "### LogisticRegression"
   ]
  },
  {
   "cell_type": "code",
   "execution_count": 111,
   "id": "1c0e2482-1dcb-4d80-99f2-8d789d22b419",
   "metadata": {},
   "outputs": [
    {
     "data": {
      "text/plain": [
       "LogisticRegression(max_iter=500, random_state=42)"
      ]
     },
     "execution_count": 111,
     "metadata": {},
     "output_type": "execute_result"
    }
   ],
   "source": [
    "lg = LogisticRegression(random_state=42, max_iter=500)\n",
    "lg.fit(X_train, np.argmax(y_train, axis=-1))"
   ]
  },
  {
   "cell_type": "code",
   "execution_count": 112,
   "id": "aa4bf17a-148a-4c17-a1b1-29f51d62512b",
   "metadata": {},
   "outputs": [],
   "source": [
    "logreg_pred = lg.predict(X_test)"
   ]
  },
  {
   "cell_type": "code",
   "execution_count": 113,
   "id": "3bacd057-ee5a-415a-81f8-0a439a89cf5e",
   "metadata": {},
   "outputs": [
    {
     "data": {
      "text/plain": [
       "Counter({19: 152,\n",
       "         7: 491,\n",
       "         12: 80,\n",
       "         9: 99,\n",
       "         24: 25,\n",
       "         8: 99,\n",
       "         20: 91,\n",
       "         5: 175,\n",
       "         2: 106,\n",
       "         36: 56,\n",
       "         168: 2,\n",
       "         10: 155,\n",
       "         3: 192,\n",
       "         80: 7,\n",
       "         11: 192,\n",
       "         15: 80,\n",
       "         47: 24,\n",
       "         14: 15,\n",
       "         4: 26,\n",
       "         28: 5,\n",
       "         99: 19,\n",
       "         17: 9,\n",
       "         58: 2,\n",
       "         27: 5,\n",
       "         16: 100,\n",
       "         13: 30,\n",
       "         48: 6,\n",
       "         21: 18,\n",
       "         22: 1,\n",
       "         39: 1,\n",
       "         0: 21,\n",
       "         53: 31,\n",
       "         29: 12,\n",
       "         64: 6,\n",
       "         45: 8,\n",
       "         32: 2,\n",
       "         50: 2,\n",
       "         35: 3,\n",
       "         92: 3,\n",
       "         33: 6,\n",
       "         122: 2,\n",
       "         71: 2,\n",
       "         18: 3,\n",
       "         1: 7,\n",
       "         41: 3,\n",
       "         38: 3,\n",
       "         23: 24,\n",
       "         49: 1,\n",
       "         31: 2,\n",
       "         37: 1,\n",
       "         94: 1,\n",
       "         62: 1,\n",
       "         55: 1,\n",
       "         57: 1,\n",
       "         152: 1,\n",
       "         56: 1})"
      ]
     },
     "execution_count": 113,
     "metadata": {},
     "output_type": "execute_result"
    }
   ],
   "source": [
    "Counter(logreg_pred)"
   ]
  },
  {
   "cell_type": "code",
   "execution_count": 114,
   "id": "72e7df7e-9888-4b2f-965e-a93360a7c889",
   "metadata": {},
   "outputs": [
    {
     "data": {
      "text/plain": [
       "0.1819080875639939"
      ]
     },
     "execution_count": 114,
     "metadata": {},
     "output_type": "execute_result"
    }
   ],
   "source": [
    "f1_score(np.argmax(y_test, axis=-1), logreg_pred, average='weighted')"
   ]
  },
  {
   "cell_type": "code",
   "execution_count": 115,
   "id": "4e273627-89c7-4463-9d68-65edd68c47de",
   "metadata": {},
   "outputs": [
    {
     "data": {
      "text/plain": [
       "0.20821236001659063"
      ]
     },
     "execution_count": 115,
     "metadata": {},
     "output_type": "execute_result"
    }
   ],
   "source": [
    "accuracy_score(np.argmax(y_test, axis=-1), logreg_pred)"
   ]
  },
  {
   "cell_type": "markdown",
   "id": "02d9720f-67c9-4614-870f-bed418984917",
   "metadata": {},
   "source": [
    "### RandomForest"
   ]
  },
  {
   "cell_type": "code",
   "execution_count": 116,
   "id": "7478948d-796e-4386-a7f4-238d5d7f5d60",
   "metadata": {},
   "outputs": [],
   "source": [
    "rf = RandomForestClassifier(max_depth=10, random_state=42)"
   ]
  },
  {
   "cell_type": "code",
   "execution_count": 117,
   "id": "f2690be4-1bb6-464b-a2ba-012e4b91cc24",
   "metadata": {},
   "outputs": [
    {
     "data": {
      "text/plain": [
       "RandomForestClassifier(max_depth=10, random_state=42)"
      ]
     },
     "execution_count": 117,
     "metadata": {},
     "output_type": "execute_result"
    }
   ],
   "source": [
    "rf.fit(X_train, np.argmax(y_train, axis=-1))"
   ]
  },
  {
   "cell_type": "code",
   "execution_count": 118,
   "id": "fb15dfb8-0ee3-43bc-bc69-4004522b98c4",
   "metadata": {},
   "outputs": [],
   "source": [
    "rf_preds = rf.predict(X_test)"
   ]
  },
  {
   "cell_type": "code",
   "execution_count": 119,
   "id": "3e72b7b9-d064-42f2-897e-25ebec31008d",
   "metadata": {
    "tags": []
   },
   "outputs": [
    {
     "data": {
      "text/plain": [
       "Counter({7: 1210,\n",
       "         19: 169,\n",
       "         9: 24,\n",
       "         11: 298,\n",
       "         8: 80,\n",
       "         10: 118,\n",
       "         5: 205,\n",
       "         36: 61,\n",
       "         15: 101,\n",
       "         3: 66,\n",
       "         16: 37,\n",
       "         20: 18,\n",
       "         2: 16,\n",
       "         12: 2,\n",
       "         71: 1,\n",
       "         13: 3,\n",
       "         53: 1,\n",
       "         47: 1})"
      ]
     },
     "execution_count": 119,
     "metadata": {},
     "output_type": "execute_result"
    }
   ],
   "source": [
    "Counter(rf_preds)"
   ]
  },
  {
   "cell_type": "code",
   "execution_count": 120,
   "id": "93971e73-8e0c-4fb7-9db1-a4aa8dfcca2a",
   "metadata": {},
   "outputs": [
    {
     "data": {
      "text/plain": [
       "0.1189267491104623"
      ]
     },
     "execution_count": 120,
     "metadata": {},
     "output_type": "execute_result"
    }
   ],
   "source": [
    "f1_score(np.argmax(y_test, axis=-1), rf_preds, average='weighted')"
   ]
  },
  {
   "cell_type": "code",
   "execution_count": 121,
   "id": "5bf5b296-aa13-48b9-bf67-f932c1f74a8c",
   "metadata": {},
   "outputs": [
    {
     "data": {
      "text/plain": [
       "0.19079220240564082"
      ]
     },
     "execution_count": 121,
     "metadata": {},
     "output_type": "execute_result"
    }
   ],
   "source": [
    "accuracy_score(np.argmax(y_test, axis=-1), rf_preds)"
   ]
  }
 ],
 "metadata": {
  "kernelspec": {
   "display_name": "Python 3 (ipykernel)",
   "language": "python",
   "name": "python3"
  },
  "language_info": {
   "codemirror_mode": {
    "name": "ipython",
    "version": 3
   },
   "file_extension": ".py",
   "mimetype": "text/x-python",
   "name": "python",
   "nbconvert_exporter": "python",
   "pygments_lexer": "ipython3",
   "version": "3.8.2"
  }
 },
 "nbformat": 4,
 "nbformat_minor": 5
}
