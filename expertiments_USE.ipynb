{
 "cells": [
  {
   "cell_type": "code",
   "execution_count": 1,
   "id": "899ed118-2493-413b-9fdc-bf994b8feb7b",
   "metadata": {},
   "outputs": [],
   "source": [
    "import json\n",
    "import pickle\n",
    "\n",
    "import tensorflow as tf\n",
    "import tensorflow_hub as hub\n",
    "import numpy as np\n",
    "\n",
    "from sklearn.model_selection import train_test_split\n",
    "from tqdm.notebook import tqdm\n",
    "\n",
    "from utils.preprocessing import LabelEncoder\n",
    "from utils.tensorflow_utils import SkillDataset"
   ]
  },
  {
   "cell_type": "code",
   "execution_count": 2,
   "id": "aefbb6a4-e559-4044-a4df-73b413487dc3",
   "metadata": {},
   "outputs": [
    {
     "name": "stdout",
     "output_type": "stream",
     "text": [
      "module https://tfhub.dev/google/universal-sentence-encoder/4 loaded\n"
     ]
    }
   ],
   "source": [
    "module_url = \"https://tfhub.dev/google/universal-sentence-encoder/4\"\n",
    "encoder = hub.load(module_url)\n",
    "print (\"module %s loaded\" % module_url)"
   ]
  },
  {
   "cell_type": "code",
   "execution_count": 3,
   "id": "7ca6ee9b-8893-4cb4-bde0-32f2194bf85b",
   "metadata": {},
   "outputs": [],
   "source": [
    "with open('data/labels.json', 'r') as f:\n",
    "    labels_map = json.load(f)\n",
    "\n",
    "with open('data/dataset.json', 'r') as f:\n",
    "    data = json.load(f)"
   ]
  },
  {
   "cell_type": "code",
   "execution_count": 4,
   "id": "c9571a03-5795-49f2-b3a2-e087f7bdafe0",
   "metadata": {},
   "outputs": [],
   "source": [
    "PARAMS = {\n",
    "    'embed_dim': 512,\n",
    "    'n_previous': 3\n",
    "}"
   ]
  },
  {
   "cell_type": "code",
   "execution_count": 25,
   "id": "553b65ee-c405-4f62-be1a-82d7cd459c15",
   "metadata": {},
   "outputs": [],
   "source": [
    "dataset = SkillDataset(\n",
    "    data=data, vars2id=labels_map,\n",
    "    text_vectorizer=encoder,\n",
    "    label_encoder=LabelEncoder(\n",
    "        list(labels_map['target_midas2id']),\n",
    "        'midas'),\n",
    "    shuffle=True, batch_size=len(data), **PARAMS)"
   ]
  },
  {
   "cell_type": "code",
   "execution_count": 26,
   "id": "0da53383-8b81-429e-be13-80e5ab460865",
   "metadata": {},
   "outputs": [],
   "source": [
    "for X, y in dataset:\n",
    "    break"
   ]
  },
  {
   "cell_type": "code",
   "execution_count": 27,
   "id": "72eb684b-4f59-4c4e-ade4-35829d0307c0",
   "metadata": {},
   "outputs": [
    {
     "data": {
      "text/plain": [
       "((10565, 1659), (10565, 13))"
      ]
     },
     "execution_count": 27,
     "metadata": {},
     "output_type": "execute_result"
    }
   ],
   "source": [
    "X.shape, y.shape"
   ]
  },
  {
   "cell_type": "code",
   "execution_count": 28,
   "id": "a83e7ae5-9012-438d-8d05-b9c0cf6bf145",
   "metadata": {},
   "outputs": [],
   "source": [
    "X_train, X_test, y_train, y_test = train_test_split(X, y, test_size=0.2, random_state=42)"
   ]
  },
  {
   "cell_type": "code",
   "execution_count": 29,
   "id": "e88d26f5-c055-4713-8550-37713ac197de",
   "metadata": {},
   "outputs": [
    {
     "data": {
      "text/plain": [
       "((8452, 1659), (2113, 1659), (8452, 13), (2113, 13))"
      ]
     },
     "execution_count": 29,
     "metadata": {},
     "output_type": "execute_result"
    }
   ],
   "source": [
    "X_train.shape, X_test.shape, y_train.shape, y_test.shape"
   ]
  },
  {
   "cell_type": "markdown",
   "id": "07ee4761-e51c-4845-9c04-63804f564cb3",
   "metadata": {},
   "source": [
    "## Catboost"
   ]
  },
  {
   "cell_type": "code",
   "execution_count": 30,
   "id": "46a40f2a-62e1-461c-817b-f3a904aa17f0",
   "metadata": {},
   "outputs": [],
   "source": [
    "from catboost import (\n",
    "    CatBoostClassifier, Pool, sum_models\n",
    ")"
   ]
  },
  {
   "cell_type": "code",
   "execution_count": 31,
   "id": "e2b8e82c-d1ba-4690-b739-6849683fa718",
   "metadata": {},
   "outputs": [],
   "source": [
    "cb_train = Pool(np.float32(X_train), label=np.argmax(y_train, axis=-1).tolist())\n",
    "cb_eval = Pool(np.float32(X_test), label=np.argmax(y_test, axis=-1).tolist())"
   ]
  },
  {
   "cell_type": "code",
   "execution_count": 56,
   "id": "04291d76-5ab6-41a0-b9a4-0233c6a601d1",
   "metadata": {},
   "outputs": [
    {
     "name": "stdout",
     "output_type": "stream",
     "text": [
      "0:\tlearn: 0.4609560\ttest: 0.4600095\tbest: 0.4600095 (0)\ttotal: 1.58s\tremaining: 2m 36s\n",
      "1:\tlearn: 0.4598912\ttest: 0.4585897\tbest: 0.4600095 (0)\ttotal: 3.01s\tremaining: 2m 27s\n",
      "2:\tlearn: 0.4597728\ttest: 0.4590629\tbest: 0.4600095 (0)\ttotal: 4.29s\tremaining: 2m 18s\n",
      "3:\tlearn: 0.4596545\ttest: 0.4590629\tbest: 0.4600095 (0)\ttotal: 5.65s\tremaining: 2m 15s\n",
      "4:\tlearn: 0.4596545\ttest: 0.4590629\tbest: 0.4600095 (0)\ttotal: 7.1s\tremaining: 2m 14s\n",
      "5:\tlearn: 0.4595362\ttest: 0.4590629\tbest: 0.4600095 (0)\ttotal: 8.5s\tremaining: 2m 13s\n",
      "Stopped by overfitting detector  (5 iterations wait)\n",
      "\n",
      "bestTest = 0.4600094652\n",
      "bestIteration = 0\n",
      "\n",
      "Shrink model to first 1 iterations.\n"
     ]
    },
    {
     "data": {
      "text/plain": [
       "<catboost.core.CatBoostClassifier at 0x1d7aae21130>"
      ]
     },
     "execution_count": 56,
     "metadata": {},
     "output_type": "execute_result"
    }
   ],
   "source": [
    "model_params = {\n",
    "    'task_type': 'CPU',\n",
    "    'iterations': 100,\n",
    "    'learning_rate': 0.001,\n",
    "    'depth': 5,\n",
    "    'verbose': True,\n",
    "    'loss_function': 'MultiClass',\n",
    "    'eval_metric': 'Accuracy'\n",
    "    \n",
    "}\n",
    "\n",
    "fit_params = {\n",
    "    'use_best_model': True,\n",
    "    'early_stopping_rounds': 5,\n",
    "}\n",
    "\n",
    "model = CatBoostClassifier(**model_params)\n",
    "model.fit(cb_train, eval_set=cb_eval, **fit_params)"
   ]
  },
  {
   "cell_type": "code",
   "execution_count": 58,
   "id": "2e6b0ac5-f724-47d8-97ef-8b45ba61effe",
   "metadata": {},
   "outputs": [
    {
     "name": "stdout",
     "output_type": "stream",
     "text": [
      "class =  (2113, 1)\n",
      "proba =  (2113, 13)\n"
     ]
    }
   ],
   "source": [
    "preds_class = model.predict(cb_eval)\n",
    "preds_proba = model.predict_proba(cb_eval)\n",
    "print(\"class = \", preds_class.shape)\n",
    "print(\"proba = \", preds_proba.shape)"
   ]
  },
  {
   "cell_type": "code",
   "execution_count": 59,
   "id": "02dac0ab-c303-4aed-a4a3-3bfe46002efe",
   "metadata": {},
   "outputs": [
    {
     "name": "stdout",
     "output_type": "stream",
     "text": [
      "[0]\n",
      "[0]\n",
      "[0]\n",
      "[0]\n",
      "[0]\n",
      "[0]\n",
      "[0]\n",
      "[0]\n",
      "[0]\n",
      "[0]\n",
      "[0]\n",
      "[0]\n",
      "[0]\n",
      "[0]\n",
      "[0]\n",
      "[0]\n",
      "[0]\n",
      "[0]\n",
      "[0]\n",
      "[0]\n",
      "[0]\n",
      "[0]\n",
      "[0]\n",
      "[0]\n",
      "[0]\n",
      "[0]\n",
      "[0]\n",
      "[0]\n",
      "[0]\n",
      "[0]\n",
      "[0]\n",
      "[0]\n",
      "[0]\n",
      "[0]\n",
      "[0]\n",
      "[0]\n",
      "[0]\n",
      "[2]\n",
      "[0]\n",
      "[0]\n",
      "[0]\n",
      "[0]\n",
      "[0]\n",
      "[0]\n",
      "[0]\n",
      "[0]\n",
      "[0]\n",
      "[0]\n",
      "[0]\n",
      "[0]\n",
      "[0]\n",
      "[0]\n",
      "[0]\n",
      "[0]\n",
      "[0]\n",
      "[0]\n",
      "[0]\n",
      "[0]\n",
      "[0]\n",
      "[0]\n",
      "[0]\n",
      "[0]\n",
      "[0]\n",
      "[0]\n",
      "[0]\n",
      "[0]\n",
      "[0]\n",
      "[0]\n",
      "[0]\n",
      "[0]\n",
      "[0]\n",
      "[0]\n",
      "[0]\n",
      "[0]\n",
      "[0]\n",
      "[0]\n",
      "[0]\n",
      "[0]\n",
      "[0]\n",
      "[0]\n",
      "[0]\n",
      "[0]\n",
      "[0]\n",
      "[0]\n",
      "[0]\n",
      "[0]\n",
      "[0]\n",
      "[0]\n",
      "[0]\n",
      "[0]\n",
      "[0]\n",
      "[0]\n",
      "[0]\n",
      "[0]\n",
      "[0]\n",
      "[0]\n",
      "[0]\n",
      "[0]\n",
      "[0]\n",
      "[0]\n"
     ]
    }
   ],
   "source": [
    "for i in preds_class[1000:1100]:\n",
    "    print(i)"
   ]
  },
  {
   "cell_type": "code",
   "execution_count": null,
   "id": "a215cc32-a449-43ab-8f9b-b8ab8d689025",
   "metadata": {},
   "outputs": [],
   "source": []
  }
 ],
 "metadata": {
  "kernelspec": {
   "display_name": "Python 3 (ipykernel)",
   "language": "python",
   "name": "python3"
  },
  "language_info": {
   "codemirror_mode": {
    "name": "ipython",
    "version": 3
   },
   "file_extension": ".py",
   "mimetype": "text/x-python",
   "name": "python",
   "nbconvert_exporter": "python",
   "pygments_lexer": "ipython3",
   "version": "3.8.2"
  }
 },
 "nbformat": 4,
 "nbformat_minor": 5
}
