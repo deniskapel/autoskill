{
 "cells": [
  {
   "cell_type": "code",
   "execution_count": 1,
   "id": "49e34c39-4263-43c8-9b47-1a2f7c33b8d0",
   "metadata": {},
   "outputs": [],
   "source": [
    "import json\n",
    "import re\n",
    "from collections import Counter\n",
    "\n",
    "import pandas as pd"
   ]
  },
  {
   "cell_type": "code",
   "execution_count": 2,
   "id": "e9e4e120-00da-4298-b034-fd7d828f6e0d",
   "metadata": {},
   "outputs": [],
   "source": [
    "with open('data/daily_dataset.json', 'r', encoding=\"utf8\") as f:\n",
    "    daily = json.load(f)\n",
    "    \n",
    "with open('data/topical_dataset.json', 'r', encoding=\"utf8\") as f:\n",
    "    topical = json.load(f)"
   ]
  },
  {
   "cell_type": "markdown",
   "id": "0ab415e8-853c-48bd-a7f0-b3498f777b20",
   "metadata": {
    "tags": []
   },
   "source": [
    "## Daily"
   ]
  },
  {
   "cell_type": "code",
   "execution_count": 47,
   "id": "14891eda-3dcb-400d-b8ca-63355213801f",
   "metadata": {},
   "outputs": [],
   "source": [
    "target_sents = [sample['predict'] for sample in daily]"
   ]
  },
  {
   "cell_type": "code",
   "execution_count": 48,
   "id": "3ca1d4d7-61f0-4910-9a56-d13fe4d2be35",
   "metadata": {},
   "outputs": [],
   "source": [
    "df = pd.json_normalize(target_sents)"
   ]
  },
  {
   "cell_type": "code",
   "execution_count": 49,
   "id": "4fe05892-0146-402f-abbe-c812d1ad14e8",
   "metadata": {},
   "outputs": [
    {
     "data": {
      "text/html": [
       "<div>\n",
       "<style scoped>\n",
       "    .dataframe tbody tr th:only-of-type {\n",
       "        vertical-align: middle;\n",
       "    }\n",
       "\n",
       "    .dataframe tbody tr th {\n",
       "        vertical-align: top;\n",
       "    }\n",
       "\n",
       "    .dataframe thead th {\n",
       "        text-align: right;\n",
       "    }\n",
       "</style>\n",
       "<table border=\"1\" class=\"dataframe\">\n",
       "  <thead>\n",
       "    <tr style=\"text-align: right;\">\n",
       "      <th></th>\n",
       "      <th>text</th>\n",
       "      <th>midas</th>\n",
       "      <th>entity.label</th>\n",
       "      <th>entity.offsets</th>\n",
       "      <th>entity.text</th>\n",
       "    </tr>\n",
       "  </thead>\n",
       "  <tbody>\n",
       "    <tr>\n",
       "      <th>0</th>\n",
       "      <td>Hmm, 250NT is... NUMBER?!!</td>\n",
       "      <td>statement</td>\n",
       "      <td>number</td>\n",
       "      <td>[17, 26]</td>\n",
       "      <td>8 dollars</td>\n",
       "    </tr>\n",
       "    <tr>\n",
       "      <th>1</th>\n",
       "      <td>Are they from LOCATION?</td>\n",
       "      <td>yes_no_question</td>\n",
       "      <td>location</td>\n",
       "      <td>[14, 20]</td>\n",
       "      <td>taiwan</td>\n",
       "    </tr>\n",
       "    <tr>\n",
       "      <th>2</th>\n",
       "      <td>They're imported from LOCATION.</td>\n",
       "      <td>statement</td>\n",
       "      <td>location</td>\n",
       "      <td>[22, 33]</td>\n",
       "      <td>new zealand</td>\n",
       "    </tr>\n",
       "    <tr>\n",
       "      <th>3</th>\n",
       "      <td>Some woman in here when I tried to register DU...</td>\n",
       "      <td>statement</td>\n",
       "      <td>duration</td>\n",
       "      <td>[44, 55]</td>\n",
       "      <td>three weeks</td>\n",
       "    </tr>\n",
       "    <tr>\n",
       "      <th>4</th>\n",
       "      <td>It's been DURATION now.</td>\n",
       "      <td>statement</td>\n",
       "      <td>duration</td>\n",
       "      <td>[10, 17]</td>\n",
       "      <td>3 years</td>\n",
       "    </tr>\n",
       "  </tbody>\n",
       "</table>\n",
       "</div>"
      ],
      "text/plain": [
       "                                                text            midas  \\\n",
       "0                         Hmm, 250NT is... NUMBER?!!        statement   \n",
       "1                            Are they from LOCATION?  yes_no_question   \n",
       "2                    They're imported from LOCATION.        statement   \n",
       "3  Some woman in here when I tried to register DU...        statement   \n",
       "4                            It's been DURATION now.        statement   \n",
       "\n",
       "  entity.label entity.offsets  entity.text  \n",
       "0       number       [17, 26]    8 dollars  \n",
       "1     location       [14, 20]       taiwan  \n",
       "2     location       [22, 33]  new zealand  \n",
       "3     duration       [44, 55]  three weeks  \n",
       "4     duration       [10, 17]      3 years  "
      ]
     },
     "execution_count": 49,
     "metadata": {},
     "output_type": "execute_result"
    }
   ],
   "source": [
    "df.head()"
   ]
  },
  {
   "cell_type": "code",
   "execution_count": 52,
   "id": "36eb4898-2fe2-41e9-9b6b-0deaf6ae9fa8",
   "metadata": {},
   "outputs": [
    {
     "data": {
      "text/plain": [
       "midas                \n",
       "statement                1441\n",
       "opinion                   415\n",
       "yes_no_question           173\n",
       "open_question_factual     104\n",
       "open_question_opinion      82\n",
       "command                    61\n",
       "neg_answer                 25\n",
       "pos_answer                 17\n",
       "comment                    13\n",
       "complaint                  11\n",
       "dev_command                 9\n",
       "other_answers               1\n",
       "dtype: int64"
      ]
     },
     "execution_count": 52,
     "metadata": {},
     "output_type": "execute_result"
    }
   ],
   "source": [
    "df[['midas']].value_counts(normalize=True)"
   ]
  },
  {
   "cell_type": "code",
   "execution_count": 53,
   "id": "2d835bc2-2149-4fe7-9be3-6480dc5834a8",
   "metadata": {},
   "outputs": [
    {
     "data": {
      "text/plain": [
       "entity.label       \n",
       "duration               545\n",
       "location               348\n",
       "number                 344\n",
       "device                 231\n",
       "person                 204\n",
       "videoname              188\n",
       "date                   129\n",
       "vehicle                105\n",
       "organization            74\n",
       "sport                   61\n",
       "genre                   60\n",
       "event                   21\n",
       "sportteam               16\n",
       "year                    10\n",
       "position                 9\n",
       "gamename                 4\n",
       "softwareapplication      2\n",
       "songname                 1\n",
       "dtype: int64"
      ]
     },
     "execution_count": 53,
     "metadata": {},
     "output_type": "execute_result"
    }
   ],
   "source": [
    "df[['entity.label']].value_counts()"
   ]
  },
  {
   "cell_type": "code",
   "execution_count": 54,
   "id": "9cfd5c37-831d-43b6-be51-b5be29d10588",
   "metadata": {},
   "outputs": [],
   "source": [
    "rare_midas = ['other_answers', 'dev_command']\n",
    "rare_entity = ['songname', 'softwareapplication', 'gamename', 'position']\n",
    "df_common_midas = df[~df.midas.isin(rare_midas)]\n",
    "df_rare_midas = df[df.midas.isin(rare_midas)]\n",
    "df_common_entity = df[~df['entity.label'].isin(rare_entity)]"
   ]
  },
  {
   "cell_type": "code",
   "execution_count": 55,
   "id": "f6ae1b29-4383-4529-a852-5f1851efb7f8",
   "metadata": {},
   "outputs": [],
   "source": [
    "common_sampled_by_midas = df_common_midas.groupby('midas', group_keys=False).apply(lambda x: x.sample(10))\n",
    "common_sampled_by_entity = df_common_entity.groupby('entity.label', group_keys=False).apply(lambda x: x.sample(10))\n",
    "rare_sampled_by_midas = df_rare_midas.groupby('midas', group_keys=False).apply(lambda x: x.sample(1))"
   ]
  },
  {
   "cell_type": "code",
   "execution_count": 56,
   "id": "e7b92aaf-3084-4858-b76e-4f47dac5f5a2",
   "metadata": {},
   "outputs": [],
   "source": [
    "pd.concat([common_sampled_by_midas[['midas', 'text']], \n",
    "           rare_sampled_by_midas[['midas', 'text']]]).to_csv('data/daily_midas_sample.tsv', sep='\\t', index=False)"
   ]
  },
  {
   "cell_type": "code",
   "execution_count": 57,
   "id": "4169fdbe-773e-47cd-962d-0403938e9c03",
   "metadata": {},
   "outputs": [],
   "source": [
    "common_sampled_by_entity[['entity.label', 'text']].to_csv('data/daily_entity_sample.tsv', sep='\\t', index=False)"
   ]
  },
  {
   "cell_type": "code",
   "execution_count": 58,
   "id": "e6b45887-5242-4512-8d14-5d333e7f1696",
   "metadata": {},
   "outputs": [],
   "source": [
    "df['midas_entity'] = df[['midas', 'entity.label']].agg(' '.join, axis=1)"
   ]
  },
  {
   "cell_type": "code",
   "execution_count": 60,
   "id": "9cd0d801-0f8e-4fa7-8751-046eafde857e",
   "metadata": {},
   "outputs": [
    {
     "data": {
      "text/html": [
       "<div>\n",
       "<style scoped>\n",
       "    .dataframe tbody tr th:only-of-type {\n",
       "        vertical-align: middle;\n",
       "    }\n",
       "\n",
       "    .dataframe tbody tr th {\n",
       "        vertical-align: top;\n",
       "    }\n",
       "\n",
       "    .dataframe thead th {\n",
       "        text-align: right;\n",
       "    }\n",
       "</style>\n",
       "<table border=\"1\" class=\"dataframe\">\n",
       "  <thead>\n",
       "    <tr style=\"text-align: right;\">\n",
       "      <th></th>\n",
       "      <th>label</th>\n",
       "      <th>counts</th>\n",
       "    </tr>\n",
       "  </thead>\n",
       "  <tbody>\n",
       "    <tr>\n",
       "      <th>0</th>\n",
       "      <td>statement duration</td>\n",
       "      <td>447</td>\n",
       "    </tr>\n",
       "    <tr>\n",
       "      <th>1</th>\n",
       "      <td>statement number</td>\n",
       "      <td>289</td>\n",
       "    </tr>\n",
       "    <tr>\n",
       "      <th>2</th>\n",
       "      <td>statement location</td>\n",
       "      <td>205</td>\n",
       "    </tr>\n",
       "    <tr>\n",
       "      <th>3</th>\n",
       "      <td>statement person</td>\n",
       "      <td>109</td>\n",
       "    </tr>\n",
       "    <tr>\n",
       "      <th>4</th>\n",
       "      <td>statement device</td>\n",
       "      <td>102</td>\n",
       "    </tr>\n",
       "  </tbody>\n",
       "</table>\n",
       "</div>"
      ],
      "text/plain": [
       "                label  counts\n",
       "0  statement duration     447\n",
       "1    statement number     289\n",
       "2  statement location     205\n",
       "3    statement person     109\n",
       "4    statement device     102"
      ]
     },
     "execution_count": 60,
     "metadata": {},
     "output_type": "execute_result"
    }
   ],
   "source": [
    "label_count = df.midas_entity.value_counts().rename_axis('label').reset_index(name='counts')\n",
    "label_count.head()"
   ]
  },
  {
   "cell_type": "code",
   "execution_count": 61,
   "id": "71ae57c4-aa47-4540-a9db-9e1afe991118",
   "metadata": {},
   "outputs": [],
   "source": [
    "rare_midas_entity = label_count[label_count.counts <= 11].label.tolist()"
   ]
  },
  {
   "cell_type": "code",
   "execution_count": 62,
   "id": "3293ee9b-327c-468c-adbd-1caf21a39e49",
   "metadata": {},
   "outputs": [],
   "source": [
    "df_common_midas_entity = df[~df.midas_entity.isin(rare_midas_entity)]\n",
    "common_sampled_by_midas_and_entity = df_common_midas_entity.groupby(\n",
    "    'midas_entity', group_keys=False).apply(lambda x: x.sample(10))"
   ]
  },
  {
   "cell_type": "code",
   "execution_count": 63,
   "id": "6e31461c-d0aa-4f2c-99dd-562aef55606e",
   "metadata": {},
   "outputs": [],
   "source": [
    "common_sampled_by_midas_and_entity[['midas_entity', 'text']].to_csv('data/daily_midas_entity_sample.tsv', sep='\\t', index=False)"
   ]
  },
  {
   "cell_type": "code",
   "execution_count": 64,
   "id": "79447d83-a0ad-4530-a0cb-92d8ed5586c4",
   "metadata": {},
   "outputs": [],
   "source": [
    "df_rare_midas_entity = df[df.midas_entity.isin(rare_midas_entity)]\n",
    "rare_sampled_by_midas_and_entity = df_rare_midas_entity.groupby('midas_entity', group_keys=False).apply(lambda x: x.sample(1))"
   ]
  },
  {
   "cell_type": "code",
   "execution_count": 65,
   "id": "c099fdab-53bc-4f93-a054-1cebe9ffcfa4",
   "metadata": {},
   "outputs": [],
   "source": [
    "rare_sampled_by_midas_and_entity[['midas_entity', 'text']].to_csv('data/daily_midas_entity_rare_sampled.tsv', sep='\\t', index=False)"
   ]
  },
  {
   "cell_type": "code",
   "execution_count": 66,
   "id": "67ad0381-0a14-44b1-8772-f4bb9edcf0a6",
   "metadata": {},
   "outputs": [],
   "source": [
    "df[['midas_entity', 'text']].groupby(\n",
    "    'midas_entity', group_keys=False).apply(lambda x: x.sample(frac=1.0)).to_csv(\n",
    "    'data/daily_all_target_sentences.tsv', sep='\\t', index=False)"
   ]
  },
  {
   "cell_type": "markdown",
   "id": "0946a7a1-cc48-406e-991a-d1daaf897f58",
   "metadata": {
    "tags": []
   },
   "source": [
    "## Topical"
   ]
  },
  {
   "cell_type": "code",
   "execution_count": 18,
   "id": "eb735deb-7744-40d0-ac2d-6cc97cc8171f",
   "metadata": {},
   "outputs": [],
   "source": [
    "target_sents = [sample['predict'] for sample in topical]"
   ]
  },
  {
   "cell_type": "code",
   "execution_count": 19,
   "id": "d3c2decf-4577-4aea-923f-427dea16b844",
   "metadata": {},
   "outputs": [],
   "source": [
    "df = pd.json_normalize(target_sents)"
   ]
  },
  {
   "cell_type": "code",
   "execution_count": 20,
   "id": "e2039455-a759-4d79-a405-534408ef4439",
   "metadata": {},
   "outputs": [
    {
     "data": {
      "text/html": [
       "<div>\n",
       "<style scoped>\n",
       "    .dataframe tbody tr th:only-of-type {\n",
       "        vertical-align: middle;\n",
       "    }\n",
       "\n",
       "    .dataframe tbody tr th {\n",
       "        vertical-align: top;\n",
       "    }\n",
       "\n",
       "    .dataframe thead th {\n",
       "        text-align: right;\n",
       "    }\n",
       "</style>\n",
       "<table border=\"1\" class=\"dataframe\">\n",
       "  <thead>\n",
       "    <tr style=\"text-align: right;\">\n",
       "      <th></th>\n",
       "      <th>text</th>\n",
       "      <th>midas</th>\n",
       "      <th>entity.label</th>\n",
       "      <th>entity.offsets</th>\n",
       "      <th>entity.text</th>\n",
       "    </tr>\n",
       "  </thead>\n",
       "  <tbody>\n",
       "    <tr>\n",
       "      <th>0</th>\n",
       "      <td>Yes and he even was in the production of VIDEO...</td>\n",
       "      <td>statement</td>\n",
       "      <td>videoname</td>\n",
       "      <td>[41, 55]</td>\n",
       "      <td>the nutcracker</td>\n",
       "    </tr>\n",
       "    <tr>\n",
       "      <th>1</th>\n",
       "      <td>Yes like VIDEONAME.</td>\n",
       "      <td>pos_answer</td>\n",
       "      <td>videoname</td>\n",
       "      <td>[9, 22]</td>\n",
       "      <td>good riddance</td>\n",
       "    </tr>\n",
       "    <tr>\n",
       "      <th>2</th>\n",
       "      <td>Mine all time favorite was VIDEONAME.</td>\n",
       "      <td>opinion</td>\n",
       "      <td>videoname</td>\n",
       "      <td>[27, 41]</td>\n",
       "      <td>bozo the clown</td>\n",
       "    </tr>\n",
       "    <tr>\n",
       "      <th>3</th>\n",
       "      <td>A lot of people think the OT was so much bette...</td>\n",
       "      <td>opinion</td>\n",
       "      <td>videoname</td>\n",
       "      <td>[57, 65]</td>\n",
       "      <td>prequels</td>\n",
       "    </tr>\n",
       "    <tr>\n",
       "      <th>4</th>\n",
       "      <td>and PERSON did not have any of them</td>\n",
       "      <td>statement</td>\n",
       "      <td>person</td>\n",
       "      <td>[4, 14]</td>\n",
       "      <td>roosevelet</td>\n",
       "    </tr>\n",
       "  </tbody>\n",
       "</table>\n",
       "</div>"
      ],
      "text/plain": [
       "                                                text       midas entity.label  \\\n",
       "0  Yes and he even was in the production of VIDEO...   statement    videoname   \n",
       "1                                Yes like VIDEONAME.  pos_answer    videoname   \n",
       "2              Mine all time favorite was VIDEONAME.     opinion    videoname   \n",
       "3  A lot of people think the OT was so much bette...     opinion    videoname   \n",
       "4                and PERSON did not have any of them   statement       person   \n",
       "\n",
       "  entity.offsets     entity.text  \n",
       "0       [41, 55]  the nutcracker  \n",
       "1        [9, 22]   good riddance  \n",
       "2       [27, 41]  bozo the clown  \n",
       "3       [57, 65]        prequels  \n",
       "4        [4, 14]      roosevelet  "
      ]
     },
     "execution_count": 20,
     "metadata": {},
     "output_type": "execute_result"
    }
   ],
   "source": [
    "df.head()"
   ]
  },
  {
   "cell_type": "code",
   "execution_count": 43,
   "id": "8009febc-00ba-4f8c-a462-a6d5978d6512",
   "metadata": {},
   "outputs": [
    {
     "data": {
      "text/plain": [
       "midas                \n",
       "opinion                  0.458239\n",
       "statement                0.355244\n",
       "yes_no_question          0.088564\n",
       "pos_answer               0.029554\n",
       "comment                  0.020658\n",
       "command                  0.014925\n",
       "open_question_opinion    0.011664\n",
       "open_question_factual    0.010477\n",
       "neg_answer               0.006919\n",
       "complaint                0.002372\n",
       "appreciation             0.000791\n",
       "dev_command              0.000395\n",
       "other_answers            0.000198\n",
       "dtype: float64"
      ]
     },
     "execution_count": 43,
     "metadata": {},
     "output_type": "execute_result"
    }
   ],
   "source": [
    "df[['midas']].value_counts(normalize=True)"
   ]
  },
  {
   "cell_type": "code",
   "execution_count": 44,
   "id": "1eaef42c-d502-4f9c-a584-41df57f08df1",
   "metadata": {},
   "outputs": [
    {
     "data": {
      "text/plain": [
       "entity.label       \n",
       "person                 0.259563\n",
       "videoname              0.169121\n",
       "location               0.106158\n",
       "organization           0.092419\n",
       "genre                  0.062370\n",
       "device                 0.056934\n",
       "sport                  0.056341\n",
       "sportteam              0.044578\n",
       "softwareapplication    0.038450\n",
       "duration               0.024019\n",
       "number                 0.023426\n",
       "event                  0.016705\n",
       "position               0.015024\n",
       "vehicle                0.010082\n",
       "year                   0.009489\n",
       "gamename               0.006227\n",
       "party                  0.004646\n",
       "date                   0.003064\n",
       "bookname               0.001087\n",
       "songname               0.000297\n",
       "dtype: float64"
      ]
     },
     "execution_count": 44,
     "metadata": {},
     "output_type": "execute_result"
    }
   ],
   "source": [
    "df[['entity.label']].value_counts(normalize=True)"
   ]
  },
  {
   "cell_type": "code",
   "execution_count": 45,
   "id": "ee5725a5-c15b-430b-be65-9a49522cb107",
   "metadata": {},
   "outputs": [
    {
     "data": {
      "text/html": [
       "<div>\n",
       "<style scoped>\n",
       "    .dataframe tbody tr th:only-of-type {\n",
       "        vertical-align: middle;\n",
       "    }\n",
       "\n",
       "    .dataframe tbody tr th {\n",
       "        vertical-align: top;\n",
       "    }\n",
       "\n",
       "    .dataframe thead th {\n",
       "        text-align: right;\n",
       "    }\n",
       "</style>\n",
       "<table border=\"1\" class=\"dataframe\">\n",
       "  <thead>\n",
       "    <tr style=\"text-align: right;\">\n",
       "      <th></th>\n",
       "      <th>text</th>\n",
       "      <th>midas</th>\n",
       "      <th>entity.label</th>\n",
       "      <th>entity.offsets</th>\n",
       "      <th>entity.text</th>\n",
       "      <th>midas_entity</th>\n",
       "    </tr>\n",
       "  </thead>\n",
       "  <tbody>\n",
       "    <tr>\n",
       "      <th>0</th>\n",
       "      <td>Yes and he even was in the production of VIDEO...</td>\n",
       "      <td>statement</td>\n",
       "      <td>videoname</td>\n",
       "      <td>[41, 55]</td>\n",
       "      <td>the nutcracker</td>\n",
       "      <td>statement videoname</td>\n",
       "    </tr>\n",
       "    <tr>\n",
       "      <th>1</th>\n",
       "      <td>Yes like VIDEONAME.</td>\n",
       "      <td>pos_answer</td>\n",
       "      <td>videoname</td>\n",
       "      <td>[9, 22]</td>\n",
       "      <td>good riddance</td>\n",
       "      <td>pos_answer videoname</td>\n",
       "    </tr>\n",
       "    <tr>\n",
       "      <th>2</th>\n",
       "      <td>Mine all time favorite was VIDEONAME.</td>\n",
       "      <td>opinion</td>\n",
       "      <td>videoname</td>\n",
       "      <td>[27, 41]</td>\n",
       "      <td>bozo the clown</td>\n",
       "      <td>opinion videoname</td>\n",
       "    </tr>\n",
       "    <tr>\n",
       "      <th>3</th>\n",
       "      <td>A lot of people think the OT was so much bette...</td>\n",
       "      <td>opinion</td>\n",
       "      <td>videoname</td>\n",
       "      <td>[57, 65]</td>\n",
       "      <td>prequels</td>\n",
       "      <td>opinion videoname</td>\n",
       "    </tr>\n",
       "    <tr>\n",
       "      <th>4</th>\n",
       "      <td>and PERSON did not have any of them</td>\n",
       "      <td>statement</td>\n",
       "      <td>person</td>\n",
       "      <td>[4, 14]</td>\n",
       "      <td>roosevelet</td>\n",
       "      <td>statement person</td>\n",
       "    </tr>\n",
       "  </tbody>\n",
       "</table>\n",
       "</div>"
      ],
      "text/plain": [
       "                                                text       midas entity.label  \\\n",
       "0  Yes and he even was in the production of VIDEO...   statement    videoname   \n",
       "1                                Yes like VIDEONAME.  pos_answer    videoname   \n",
       "2              Mine all time favorite was VIDEONAME.     opinion    videoname   \n",
       "3  A lot of people think the OT was so much bette...     opinion    videoname   \n",
       "4                and PERSON did not have any of them   statement       person   \n",
       "\n",
       "  entity.offsets     entity.text          midas_entity  \n",
       "0       [41, 55]  the nutcracker   statement videoname  \n",
       "1        [9, 22]   good riddance  pos_answer videoname  \n",
       "2       [27, 41]  bozo the clown     opinion videoname  \n",
       "3       [57, 65]        prequels     opinion videoname  \n",
       "4        [4, 14]      roosevelet      statement person  "
      ]
     },
     "execution_count": 45,
     "metadata": {},
     "output_type": "execute_result"
    }
   ],
   "source": [
    "df.head()"
   ]
  },
  {
   "cell_type": "code",
   "execution_count": 29,
   "id": "cbdfcd95-3f42-4061-8cb5-a9bb99974e4d",
   "metadata": {},
   "outputs": [],
   "source": [
    "rare_midas = ['other_answers', 'appreciation', 'dev_command']\n",
    "rare_entity = ['songname']\n",
    "df_common_midas = df[~df.midas.isin(rare_midas)]\n",
    "df_rare_midas = df[df.midas.isin(rare_midas)]\n",
    "df_common_entity = df[~df['entity.label'].isin(rare_entity)]"
   ]
  },
  {
   "cell_type": "code",
   "execution_count": 30,
   "id": "0e8f2a54-af22-429a-93b4-b752fffdf0e0",
   "metadata": {},
   "outputs": [],
   "source": [
    "common_sampled_by_midas = df_common_midas.groupby('midas', group_keys=False).apply(lambda x: x.sample(10))\n",
    "common_sampled_by_entity = df_common_entity.groupby('entity.label', group_keys=False).apply(lambda x: x.sample(10))\n",
    "rare_sampled_by_midas = df_rare_midas.groupby('midas', group_keys=False).apply(lambda x: x.sample(1))"
   ]
  },
  {
   "cell_type": "code",
   "execution_count": 31,
   "id": "9e5f2fab-79a1-491f-9e98-d2e33010e170",
   "metadata": {},
   "outputs": [],
   "source": [
    "pd.concat([common_sampled_by_midas[['midas', 'text']], \n",
    "           rare_sampled_by_midas[['midas', 'text']]]).to_csv('data/topical_midas_sample.tsv', sep='\\t', index=False)"
   ]
  },
  {
   "cell_type": "code",
   "execution_count": 33,
   "id": "9f48c678-ab7e-4601-adc9-b922ee82f2ae",
   "metadata": {},
   "outputs": [],
   "source": [
    "common_sampled_by_entity[['entity.label', 'text']].to_csv('data/topical_entity_sample.tsv', sep='\\t', index=False)"
   ]
  },
  {
   "cell_type": "code",
   "execution_count": 34,
   "id": "d732c4e6-c27f-431a-8ec5-03bd44057497",
   "metadata": {},
   "outputs": [],
   "source": [
    "df['midas_entity'] = df[['midas', 'entity.label']].agg(' '.join, axis=1)"
   ]
  },
  {
   "cell_type": "code",
   "execution_count": 46,
   "id": "e8948b95-3e4f-4822-8b6f-130b50f23c7d",
   "metadata": {},
   "outputs": [
    {
     "data": {
      "text/html": [
       "<div>\n",
       "<style scoped>\n",
       "    .dataframe tbody tr th:only-of-type {\n",
       "        vertical-align: middle;\n",
       "    }\n",
       "\n",
       "    .dataframe tbody tr th {\n",
       "        vertical-align: top;\n",
       "    }\n",
       "\n",
       "    .dataframe thead th {\n",
       "        text-align: right;\n",
       "    }\n",
       "</style>\n",
       "<table border=\"1\" class=\"dataframe\">\n",
       "  <thead>\n",
       "    <tr style=\"text-align: right;\">\n",
       "      <th></th>\n",
       "      <th>label</th>\n",
       "      <th>counts</th>\n",
       "    </tr>\n",
       "  </thead>\n",
       "  <tbody>\n",
       "    <tr>\n",
       "      <th>0</th>\n",
       "      <td>opinion person</td>\n",
       "      <td>1334</td>\n",
       "    </tr>\n",
       "    <tr>\n",
       "      <th>1</th>\n",
       "      <td>opinion videoname</td>\n",
       "      <td>815</td>\n",
       "    </tr>\n",
       "    <tr>\n",
       "      <th>2</th>\n",
       "      <td>statement person</td>\n",
       "      <td>809</td>\n",
       "    </tr>\n",
       "    <tr>\n",
       "      <th>3</th>\n",
       "      <td>statement videoname</td>\n",
       "      <td>568</td>\n",
       "    </tr>\n",
       "    <tr>\n",
       "      <th>4</th>\n",
       "      <td>statement location</td>\n",
       "      <td>497</td>\n",
       "    </tr>\n",
       "  </tbody>\n",
       "</table>\n",
       "</div>"
      ],
      "text/plain": [
       "                 label  counts\n",
       "0       opinion person    1334\n",
       "1    opinion videoname     815\n",
       "2     statement person     809\n",
       "3  statement videoname     568\n",
       "4   statement location     497"
      ]
     },
     "execution_count": 46,
     "metadata": {},
     "output_type": "execute_result"
    }
   ],
   "source": [
    "label_count = df.midas_entity.value_counts().rename_axis('label').reset_index(name='counts')\n",
    "label_count.head()"
   ]
  },
  {
   "cell_type": "code",
   "execution_count": 36,
   "id": "d2033521-f86c-4009-8de4-31be1876ac07",
   "metadata": {},
   "outputs": [],
   "source": [
    "rare_midas_entity = label_count[label_count.counts <= 11].label.tolist()"
   ]
  },
  {
   "cell_type": "code",
   "execution_count": 37,
   "id": "3628ae83-b19c-4eed-acf7-bec6efb7c4a2",
   "metadata": {},
   "outputs": [],
   "source": [
    "df_common_midas_entity = df[~df.midas_entity.isin(rare_midas_entity)]\n",
    "common_sampled_by_midas_and_entity = df_common_midas_entity.groupby(\n",
    "    'midas_entity', group_keys=False).apply(lambda x: x.sample(10))"
   ]
  },
  {
   "cell_type": "code",
   "execution_count": 38,
   "id": "ead3fc68-9cbc-46cc-9bc0-32f44d3481ea",
   "metadata": {},
   "outputs": [],
   "source": [
    "common_sampled_by_midas_and_entity[['midas_entity', 'text']].to_csv('data/topical_midas_entity_sample.tsv', sep='\\t', index=False)"
   ]
  },
  {
   "cell_type": "code",
   "execution_count": 39,
   "id": "ff4499ec-a1f0-44b4-ac02-74d4d6c87a21",
   "metadata": {},
   "outputs": [],
   "source": [
    "df_rare_midas_entity = df[df.midas_entity.isin(rare_midas_entity)]\n",
    "rare_sampled_by_midas_and_entity = df_rare_midas_entity.groupby('midas_entity', group_keys=False).apply(lambda x: x.sample(1))"
   ]
  },
  {
   "cell_type": "code",
   "execution_count": 40,
   "id": "cd9b23c7-17af-4d1b-b0e3-737ee60e6336",
   "metadata": {},
   "outputs": [],
   "source": [
    "rare_sampled_by_midas_and_entity[['midas_entity', 'text']].to_csv('data/topical_midas_entity_rare_sampled.tsv', sep='\\t', index=False)"
   ]
  },
  {
   "cell_type": "code",
   "execution_count": 42,
   "id": "92fddf5b-b034-4b08-903b-46defbc9f100",
   "metadata": {},
   "outputs": [],
   "source": [
    "df[['midas_entity', 'text']].groupby(\n",
    "    'midas_entity', group_keys=False).apply(lambda x: x.sample(frac=1.0)).to_csv(\n",
    "    'data/topical_all_target_sentences.tsv', sep='\\t', index=False)"
   ]
  },
  {
   "cell_type": "code",
   "execution_count": null,
   "id": "af65845a-2822-43f9-b360-b78fcd2dd8b3",
   "metadata": {},
   "outputs": [],
   "source": []
  }
 ],
 "metadata": {
  "kernelspec": {
   "display_name": "Python 3 (ipykernel)",
   "language": "python",
   "name": "python3"
  },
  "language_info": {
   "codemirror_mode": {
    "name": "ipython",
    "version": 3
   },
   "file_extension": ".py",
   "mimetype": "text/x-python",
   "name": "python",
   "nbconvert_exporter": "python",
   "pygments_lexer": "ipython3",
   "version": "3.8.2"
  }
 },
 "nbformat": 4,
 "nbformat_minor": 5
}
