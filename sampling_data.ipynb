{
 "cells": [
  {
   "cell_type": "code",
   "execution_count": 7,
   "id": "49e34c39-4263-43c8-9b47-1a2f7c33b8d0",
   "metadata": {},
   "outputs": [],
   "source": [
    "import json\n",
    "from collections import Counter\n",
    "\n",
    "import pandas as pd"
   ]
  },
  {
   "cell_type": "code",
   "execution_count": 2,
   "id": "e9e4e120-00da-4298-b034-fd7d828f6e0d",
   "metadata": {},
   "outputs": [],
   "source": [
    "with open('data/dataset.json', 'r') as f:\n",
    "    data = json.load(f)"
   ]
  },
  {
   "cell_type": "code",
   "execution_count": 4,
   "id": "14891eda-3dcb-400d-b8ca-63355213801f",
   "metadata": {},
   "outputs": [],
   "source": [
    "target_sents = [sample['predict'] for sample in data]"
   ]
  },
  {
   "cell_type": "code",
   "execution_count": 9,
   "id": "3ca1d4d7-61f0-4910-9a56-d13fe4d2be35",
   "metadata": {},
   "outputs": [],
   "source": [
    "df = pd.json_normalize(target_sents)"
   ]
  },
  {
   "cell_type": "code",
   "execution_count": 17,
   "id": "4fe05892-0146-402f-abbe-c812d1ad14e8",
   "metadata": {},
   "outputs": [
    {
     "data": {
      "text/html": [
       "<div>\n",
       "<style scoped>\n",
       "    .dataframe tbody tr th:only-of-type {\n",
       "        vertical-align: middle;\n",
       "    }\n",
       "\n",
       "    .dataframe tbody tr th {\n",
       "        vertical-align: top;\n",
       "    }\n",
       "\n",
       "    .dataframe thead th {\n",
       "        text-align: right;\n",
       "    }\n",
       "</style>\n",
       "<table border=\"1\" class=\"dataframe\">\n",
       "  <thead>\n",
       "    <tr style=\"text-align: right;\">\n",
       "      <th></th>\n",
       "      <th>text</th>\n",
       "      <th>midas</th>\n",
       "      <th>entity.text</th>\n",
       "      <th>entity.label</th>\n",
       "    </tr>\n",
       "  </thead>\n",
       "  <tbody>\n",
       "    <tr>\n",
       "      <th>0</th>\n",
       "      <td>Yes like good riddance, in my heart of hearts ...</td>\n",
       "      <td>opinion</td>\n",
       "      <td>good riddance</td>\n",
       "      <td>videoname</td>\n",
       "    </tr>\n",
       "    <tr>\n",
       "      <th>1</th>\n",
       "      <td>I used to in my childhood but not any more, I ...</td>\n",
       "      <td>opinion</td>\n",
       "      <td>inspector Gadget</td>\n",
       "      <td>videoname</td>\n",
       "    </tr>\n",
       "    <tr>\n",
       "      <th>2</th>\n",
       "      <td>Yes, 20 quintillion, can you believe that?Wow</td>\n",
       "      <td>yes_no_question</td>\n",
       "      <td>20 quintillion</td>\n",
       "      <td>number</td>\n",
       "    </tr>\n",
       "    <tr>\n",
       "      <th>3</th>\n",
       "      <td>Yes indeed, interesting facts that will give m...</td>\n",
       "      <td>opinion</td>\n",
       "      <td>weekend</td>\n",
       "      <td>date</td>\n",
       "    </tr>\n",
       "    <tr>\n",
       "      <th>4</th>\n",
       "      <td>hmm that seems dumb like its just playing with...</td>\n",
       "      <td>yes_no_question</td>\n",
       "      <td>Teddy Roosevelt</td>\n",
       "      <td>person</td>\n",
       "    </tr>\n",
       "  </tbody>\n",
       "</table>\n",
       "</div>"
      ],
      "text/plain": [
       "                                                text            midas  \\\n",
       "0  Yes like good riddance, in my heart of hearts ...          opinion   \n",
       "1  I used to in my childhood but not any more, I ...          opinion   \n",
       "2      Yes, 20 quintillion, can you believe that?Wow  yes_no_question   \n",
       "3  Yes indeed, interesting facts that will give m...          opinion   \n",
       "4  hmm that seems dumb like its just playing with...  yes_no_question   \n",
       "\n",
       "        entity.text entity.label  \n",
       "0     good riddance    videoname  \n",
       "1  inspector Gadget    videoname  \n",
       "2    20 quintillion       number  \n",
       "3           weekend         date  \n",
       "4   Teddy Roosevelt       person  "
      ]
     },
     "execution_count": 17,
     "metadata": {},
     "output_type": "execute_result"
    }
   ],
   "source": [
    "df.head()"
   ]
  },
  {
   "cell_type": "code",
   "execution_count": 21,
   "id": "9327a762-828c-4508-bfae-ced23c8cb885",
   "metadata": {},
   "outputs": [],
   "source": [
    "def normalize_text(row):\n",
    "    return row['text'].replace(row['entity.text'], row['entity.label'].upper())"
   ]
  },
  {
   "cell_type": "code",
   "execution_count": 23,
   "id": "1e57215f-cf30-4701-97cf-a9896b8ac2b7",
   "metadata": {},
   "outputs": [],
   "source": [
    "df['normalized_text'] = df[['text', 'entity.text', 'entity.label']].apply(normalize_text, axis=1)"
   ]
  },
  {
   "cell_type": "code",
   "execution_count": 48,
   "id": "9cfd5c37-831d-43b6-be51-b5be29d10588",
   "metadata": {},
   "outputs": [],
   "source": [
    "rare_midas = ['other_answers', 'appreciation', 'dev_command']\n",
    "rare_entity = ['bookname', 'venue', 'ordinal']\n",
    "df_common_midas = df[~df.midas.isin(rare_midas)]\n",
    "df_rare_midas = df[df.midas.isin(rare_midas)]\n",
    "df_common_entity = df[~df['entity.label'].isin(rare_entity)]"
   ]
  },
  {
   "cell_type": "code",
   "execution_count": 53,
   "id": "f6ae1b29-4383-4529-a852-5f1851efb7f8",
   "metadata": {},
   "outputs": [],
   "source": [
    "common_sampled_by_midas = df_common_midas.groupby('midas', group_keys=False).apply(lambda x: x.sample(10))\n",
    "common_sampled_by_entity = df_common_entity.groupby('entity.label', group_keys=False).apply(lambda x: x.sample(10))\n",
    "rare_sampled_by_midas = df_rare_midas.groupby('midas', group_keys=False).apply(lambda x: x.sample(4))"
   ]
  },
  {
   "cell_type": "code",
   "execution_count": 63,
   "id": "e7b92aaf-3084-4858-b76e-4f47dac5f5a2",
   "metadata": {},
   "outputs": [],
   "source": [
    "pd.concat([common_sampled_by_midas[['midas', 'normalized_text']], \n",
    "           rare_sampled_by_midas[['midas', 'normalized_text']]]).to_csv('data/midas_sample.tsv', sep='\\t', index=False)"
   ]
  },
  {
   "cell_type": "code",
   "execution_count": 64,
   "id": "4169fdbe-773e-47cd-962d-0403938e9c03",
   "metadata": {},
   "outputs": [],
   "source": [
    "common_sampled_by_entity[['entity.label', 'normalized_text']].to_csv('data/entity_sample.tsv', sep='\\t', index=False)"
   ]
  },
  {
   "cell_type": "code",
   "execution_count": null,
   "id": "67c6e03e-b6bd-4f83-aafb-9e549f303f70",
   "metadata": {},
   "outputs": [],
   "source": []
  }
 ],
 "metadata": {
  "kernelspec": {
   "display_name": "Python 3 (ipykernel)",
   "language": "python",
   "name": "python3"
  },
  "language_info": {
   "codemirror_mode": {
    "name": "ipython",
    "version": 3
   },
   "file_extension": ".py",
   "mimetype": "text/x-python",
   "name": "python",
   "nbconvert_exporter": "python",
   "pygments_lexer": "ipython3",
   "version": "3.8.2"
  }
 },
 "nbformat": 4,
 "nbformat_minor": 5
}
