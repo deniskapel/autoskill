{
 "cells": [
  {
   "cell_type": "code",
   "execution_count": 1,
   "id": "49e34c39-4263-43c8-9b47-1a2f7c33b8d0",
   "metadata": {},
   "outputs": [],
   "source": [
    "import json\n",
    "import re\n",
    "from collections import Counter\n",
    "\n",
    "import pandas as pd"
   ]
  },
  {
   "cell_type": "code",
   "execution_count": 2,
   "id": "e9e4e120-00da-4298-b034-fd7d828f6e0d",
   "metadata": {},
   "outputs": [],
   "source": [
    "with open('data/dataset.json', 'r', encoding=\"utf8\") as f:\n",
    "    data = json.load(f)"
   ]
  },
  {
   "cell_type": "code",
   "execution_count": 3,
   "id": "14891eda-3dcb-400d-b8ca-63355213801f",
   "metadata": {},
   "outputs": [],
   "source": [
    "target_sents = [sample['predict'] for sample in data]"
   ]
  },
  {
   "cell_type": "code",
   "execution_count": 4,
   "id": "3ca1d4d7-61f0-4910-9a56-d13fe4d2be35",
   "metadata": {},
   "outputs": [],
   "source": [
    "df = pd.json_normalize(target_sents)"
   ]
  },
  {
   "cell_type": "code",
   "execution_count": 5,
   "id": "4fe05892-0146-402f-abbe-c812d1ad14e8",
   "metadata": {},
   "outputs": [
    {
     "data": {
      "text/html": [
       "<div>\n",
       "<style scoped>\n",
       "    .dataframe tbody tr th:only-of-type {\n",
       "        vertical-align: middle;\n",
       "    }\n",
       "\n",
       "    .dataframe tbody tr th {\n",
       "        vertical-align: top;\n",
       "    }\n",
       "\n",
       "    .dataframe thead th {\n",
       "        text-align: right;\n",
       "    }\n",
       "</style>\n",
       "<table border=\"1\" class=\"dataframe\">\n",
       "  <thead>\n",
       "    <tr style=\"text-align: right;\">\n",
       "      <th></th>\n",
       "      <th>text</th>\n",
       "      <th>midas</th>\n",
       "      <th>entity.text</th>\n",
       "      <th>entity.label</th>\n",
       "    </tr>\n",
       "  </thead>\n",
       "  <tbody>\n",
       "    <tr>\n",
       "      <th>0</th>\n",
       "      <td>I like Google Chrome.</td>\n",
       "      <td>opinion</td>\n",
       "      <td>Google</td>\n",
       "      <td>softwareapplication</td>\n",
       "    </tr>\n",
       "    <tr>\n",
       "      <th>1</th>\n",
       "      <td>Was Inspect Gadget a comics on Paper or a cart...</td>\n",
       "      <td>yes_no_question</td>\n",
       "      <td>TV</td>\n",
       "      <td>device</td>\n",
       "    </tr>\n",
       "    <tr>\n",
       "      <th>2</th>\n",
       "      <td>Over 1.5 million living animal species have be...</td>\n",
       "      <td>statement</td>\n",
       "      <td>1.5 million</td>\n",
       "      <td>number</td>\n",
       "    </tr>\n",
       "    <tr>\n",
       "      <th>3</th>\n",
       "      <td>Someone else can fill Harrison Fords shoes?</td>\n",
       "      <td>statement</td>\n",
       "      <td>Harrison Fords</td>\n",
       "      <td>person</td>\n",
       "    </tr>\n",
       "    <tr>\n",
       "      <th>4</th>\n",
       "      <td>Does Chewbacca appear in this movie?</td>\n",
       "      <td>yes_no_question</td>\n",
       "      <td>Chewbacca</td>\n",
       "      <td>person</td>\n",
       "    </tr>\n",
       "  </tbody>\n",
       "</table>\n",
       "</div>"
      ],
      "text/plain": [
       "                                                text            midas  \\\n",
       "0                              I like Google Chrome.          opinion   \n",
       "1  Was Inspect Gadget a comics on Paper or a cart...  yes_no_question   \n",
       "2  Over 1.5 million living animal species have be...        statement   \n",
       "3        Someone else can fill Harrison Fords shoes?        statement   \n",
       "4               Does Chewbacca appear in this movie?  yes_no_question   \n",
       "\n",
       "      entity.text         entity.label  \n",
       "0          Google  softwareapplication  \n",
       "1              TV               device  \n",
       "2     1.5 million               number  \n",
       "3  Harrison Fords               person  \n",
       "4       Chewbacca               person  "
      ]
     },
     "execution_count": 5,
     "metadata": {},
     "output_type": "execute_result"
    }
   ],
   "source": [
    "df.head()"
   ]
  },
  {
   "cell_type": "code",
   "execution_count": 6,
   "id": "9327a762-828c-4508-bfae-ced23c8cb885",
   "metadata": {},
   "outputs": [],
   "source": [
    "def normalize_text(row):\n",
    "    pattern = \"(?<![a-zA-z])\" + row['entity.text'] + \"(?![a-zA-Z])\"\n",
    "    return re.sub(pattern, row['entity.label'].upper(), row['text'])"
   ]
  },
  {
   "cell_type": "code",
   "execution_count": 7,
   "id": "1e57215f-cf30-4701-97cf-a9896b8ac2b7",
   "metadata": {},
   "outputs": [],
   "source": [
    "df['normalized_text'] = df[['text', 'entity.text', 'entity.label']].apply(normalize_text, axis=1)"
   ]
  },
  {
   "cell_type": "code",
   "execution_count": 8,
   "id": "9cfd5c37-831d-43b6-be51-b5be29d10588",
   "metadata": {},
   "outputs": [],
   "source": [
    "rare_midas = ['other_answers', 'appreciation', 'dev_command']\n",
    "rare_entity = ['bookname', 'venue', 'ordinal']\n",
    "df_common_midas = df[~df.midas.isin(rare_midas)]\n",
    "df_rare_midas = df[df.midas.isin(rare_midas)]\n",
    "df_common_entity = df[~df['entity.label'].isin(rare_entity)]"
   ]
  },
  {
   "cell_type": "code",
   "execution_count": 9,
   "id": "f6ae1b29-4383-4529-a852-5f1851efb7f8",
   "metadata": {},
   "outputs": [],
   "source": [
    "common_sampled_by_midas = df_common_midas.groupby('midas', group_keys=False).apply(lambda x: x.sample(10))\n",
    "common_sampled_by_entity = df_common_entity.groupby('entity.label', group_keys=False).apply(lambda x: x.sample(10))\n",
    "rare_sampled_by_midas = df_rare_midas.groupby('midas', group_keys=False).apply(lambda x: x.sample(1))"
   ]
  },
  {
   "cell_type": "code",
   "execution_count": 10,
   "id": "e7b92aaf-3084-4858-b76e-4f47dac5f5a2",
   "metadata": {},
   "outputs": [],
   "source": [
    "pd.concat([common_sampled_by_midas[['midas', 'normalized_text']], \n",
    "           rare_sampled_by_midas[['midas', 'normalized_text']]]).to_csv('data/midas_sample.tsv', sep='\\t', index=False)"
   ]
  },
  {
   "cell_type": "code",
   "execution_count": 11,
   "id": "4169fdbe-773e-47cd-962d-0403938e9c03",
   "metadata": {},
   "outputs": [],
   "source": [
    "common_sampled_by_entity[['entity.label', 'normalized_text']].to_csv('data/entity_sample.tsv', sep='\\t', index=False)"
   ]
  },
  {
   "cell_type": "code",
   "execution_count": 12,
   "id": "e6b45887-5242-4512-8d14-5d333e7f1696",
   "metadata": {},
   "outputs": [],
   "source": [
    "df['midas_entity'] = df[['midas', 'entity.label']].agg(' '.join, axis=1)"
   ]
  },
  {
   "cell_type": "code",
   "execution_count": 13,
   "id": "9cd0d801-0f8e-4fa7-8751-046eafde857e",
   "metadata": {},
   "outputs": [],
   "source": [
    "label_count = df.midas_entity.value_counts().rename_axis('label').reset_index(name='counts')"
   ]
  },
  {
   "cell_type": "code",
   "execution_count": 14,
   "id": "71ae57c4-aa47-4540-a9db-9e1afe991118",
   "metadata": {},
   "outputs": [],
   "source": [
    "rare_midas_entity = label_count[label_count.counts <= 11].label.tolist()"
   ]
  },
  {
   "cell_type": "code",
   "execution_count": 15,
   "id": "3293ee9b-327c-468c-adbd-1caf21a39e49",
   "metadata": {},
   "outputs": [],
   "source": [
    "df_common_midas_entity = df[~df.midas_entity.isin(rare_midas_entity)]\n",
    "common_sampled_by_midas_and_entity = df_common_midas_entity.groupby(\n",
    "    'midas_entity', group_keys=False).apply(lambda x: x.sample(10))"
   ]
  },
  {
   "cell_type": "code",
   "execution_count": 16,
   "id": "6e31461c-d0aa-4f2c-99dd-562aef55606e",
   "metadata": {},
   "outputs": [],
   "source": [
    "common_sampled_by_midas_and_entity[['midas_entity', 'normalized_text']].to_csv('data/midas_entity_sample.tsv', sep='\\t', index=False)"
   ]
  },
  {
   "cell_type": "code",
   "execution_count": 17,
   "id": "79447d83-a0ad-4530-a0cb-92d8ed5586c4",
   "metadata": {},
   "outputs": [],
   "source": [
    "df_rare_midas_entity = df[df.midas_entity.isin(rare_midas_entity)]\n",
    "rare_sampled_by_midas_and_entity = df_rare_midas_entity.groupby('midas_entity', group_keys=False).apply(lambda x: x.sample(1))"
   ]
  },
  {
   "cell_type": "code",
   "execution_count": 18,
   "id": "c099fdab-53bc-4f93-a054-1cebe9ffcfa4",
   "metadata": {},
   "outputs": [],
   "source": [
    "rare_sampled_by_midas_and_entity[['midas_entity', 'normalized_text']].to_csv('data/midas_entity_rare_sampled.tsv', sep='\\t', index=False)"
   ]
  },
  {
   "cell_type": "code",
   "execution_count": 19,
   "id": "67ad0381-0a14-44b1-8772-f4bb9edcf0a6",
   "metadata": {},
   "outputs": [],
   "source": [
    "df[['midas_entity', 'normalized_text']].groupby(\n",
    "    'midas_entity', group_keys=False).apply(lambda x: x.sample(frac=1.0)).to_csv(\n",
    "    'data/all_target_sentences.tsv', sep='\\t', index=False)"
   ]
  },
  {
   "cell_type": "code",
   "execution_count": null,
   "id": "70ad2858-3e16-4d70-a514-f70f8cf36aed",
   "metadata": {},
   "outputs": [],
   "source": []
  },
  {
   "cell_type": "code",
   "execution_count": null,
   "id": "af65845a-2822-43f9-b360-b78fcd2dd8b3",
   "metadata": {},
   "outputs": [],
   "source": []
  }
 ],
 "metadata": {
  "kernelspec": {
   "display_name": "Python 3 (ipykernel)",
   "language": "python",
   "name": "python3"
  },
  "language_info": {
   "codemirror_mode": {
    "name": "ipython",
    "version": 3
   },
   "file_extension": ".py",
   "mimetype": "text/x-python",
   "name": "python",
   "nbconvert_exporter": "python",
   "pygments_lexer": "ipython3",
   "version": "3.8.2"
  }
 },
 "nbformat": 4,
 "nbformat_minor": 5
}
