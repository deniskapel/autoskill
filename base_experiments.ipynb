{
 "cells": [
  {
   "cell_type": "code",
   "execution_count": 1,
   "id": "9863d095-2c51-49b6-9b00-45f0f045141a",
   "metadata": {},
   "outputs": [],
   "source": [
    "import json\n",
    "import pickle\n",
    "import statistics\n",
    "\n",
    "import torch\n",
    "import numpy as np\n",
    "\n",
    "from spacy.lang.en import English\n",
    "from sklearn.model_selection import train_test_split\n",
    "\n",
    "\n",
    "from torch.utils.data import DataLoader\n",
    "from torch import nn\n",
    "from tqdm.notebook import tqdm\n",
    "\n",
    "from utils.preprocessing import spacy_tokenize, dummy_fn\n",
    "from utils.autoskill_torch import SkillDataset, collate_fn \n",
    "from utils.base_torch_utils import train_single_model, evaluate_single_model, BaseModel"
   ]
  },
  {
   "cell_type": "code",
   "execution_count": 2,
   "id": "127cd224-6382-44fb-baf0-3f9d4c6853ff",
   "metadata": {},
   "outputs": [],
   "source": [
    "with open('data/labels.json', 'r', encoding=\"utf8\") as f:\n",
    "    labels_map = json.load(f)\n",
    "\n",
    "with open('data/dataset.json', 'r', encoding=\"utf8\") as f:\n",
    "    data = json.load(f)\n",
    "    \n",
    "train, test = train_test_split(data, test_size=0.2, random_state=42)"
   ]
  },
  {
   "cell_type": "code",
   "execution_count": 3,
   "id": "72abec03-9429-4f2c-ad47-518288f99660",
   "metadata": {},
   "outputs": [
    {
     "data": {
      "text/plain": [
       "(9644, 2411)"
      ]
     },
     "execution_count": 3,
     "metadata": {},
     "output_type": "execute_result"
    }
   ],
   "source": [
    "len(train), len(test)"
   ]
  },
  {
   "cell_type": "code",
   "execution_count": 4,
   "id": "f4c1c4af-ce28-4b8e-9ba0-87fda2796af4",
   "metadata": {},
   "outputs": [
    {
     "data": {
      "text/plain": [
       "TfidfVectorizer(lowercase=False, max_df=0.8, max_features=300, min_df=3,\n",
       "                preprocessor=<function dummy_fn at 0x000001D8C761F700>,\n",
       "                token_pattern=None,\n",
       "                tokenizer=<function dummy_fn at 0x000001D8C761F700>)"
      ]
     },
     "execution_count": 4,
     "metadata": {},
     "output_type": "execute_result"
    }
   ],
   "source": [
    "tokenizer = English().tokenizer\n",
    "tfidf = pickle.load(open(\"models/tfidf_3_08_300.pkl\", 'rb'))\n",
    "tfidf"
   ]
  },
  {
   "cell_type": "code",
   "execution_count": 5,
   "id": "47bd6109-0fa1-441a-b8eb-a1bc2b28e7f4",
   "metadata": {},
   "outputs": [
    {
     "data": {
      "text/plain": [
       "9644"
      ]
     },
     "execution_count": 5,
     "metadata": {},
     "output_type": "execute_result"
    }
   ],
   "source": [
    "train_dataset = SkillDataset(\n",
    "    train, labels_map, \n",
    "    tokenizer=tokenizer,\n",
    "    tfidf_model=tfidf\n",
    ")\n",
    "\n",
    "len(train_dataset)"
   ]
  },
  {
   "cell_type": "code",
   "execution_count": 6,
   "id": "09f551cd-69f6-47e7-a60c-0212e9736693",
   "metadata": {},
   "outputs": [
    {
     "name": "stdout",
     "output_type": "stream",
     "text": [
      "(1023,) \n",
      "\n",
      "([2, 17], 47) \n",
      "\n"
     ]
    }
   ],
   "source": [
    "print(train_dataset[42][0].shape, '\\n') # x_vec\n",
    "print(train_dataset[42][1], '\\n') # y labels: ([midas_id, entity_id], midas_and_entity_id)"
   ]
  },
  {
   "cell_type": "code",
   "execution_count": 7,
   "id": "e4d23db6-57f4-485f-9136-2d6eb9157c4c",
   "metadata": {},
   "outputs": [
    {
     "data": {
      "text/plain": [
       "2411"
      ]
     },
     "execution_count": 7,
     "metadata": {},
     "output_type": "execute_result"
    }
   ],
   "source": [
    "test_dataset = SkillDataset(\n",
    "    test, labels_map, \n",
    "    tokenizer=tokenizer,\n",
    "    tfidf_model=tfidf\n",
    ")\n",
    "\n",
    "len(test_dataset)"
   ]
  },
  {
   "cell_type": "code",
   "execution_count": 8,
   "id": "db30d9a6-9a7e-48f6-8a07-6255e54d5fd2",
   "metadata": {},
   "outputs": [],
   "source": [
    "train_loader = DataLoader(\n",
    "    train_dataset, batch_size=32, \n",
    "    shuffle=True, collate_fn=collate_fn)\n",
    "\n",
    "test_loader = DataLoader(\n",
    "    test_dataset, batch_size=32, \n",
    "    shuffle=True, collate_fn=collate_fn)"
   ]
  },
  {
   "cell_type": "code",
   "execution_count": 9,
   "id": "b8e200d1-3ae6-4010-9922-c51b3b4c9b72",
   "metadata": {},
   "outputs": [
    {
     "data": {
      "text/plain": [
       "(torch.Size([32, 1023]), torch.Size([32, 2]), torch.Size([32]), torch.float32)"
      ]
     },
     "execution_count": 9,
     "metadata": {},
     "output_type": "execute_result"
    }
   ],
   "source": [
    "for batch in train_loader:\n",
    "    break\n",
    "\n",
    "batch[0].shape, batch[1].shape, batch[2].shape, batch[0].dtype"
   ]
  },
  {
   "cell_type": "code",
   "execution_count": 10,
   "id": "b140f3a4-faed-4c22-9b4d-e9353f2b356d",
   "metadata": {},
   "outputs": [
    {
     "data": {
      "application/vnd.jupyter.widget-view+json": {
       "model_id": "e34c345ab0d04b0db943daf48b4f51cc",
       "version_major": 2,
       "version_minor": 0
      },
      "text/plain": [
       "Testing:   0%|          | 0/9644 [00:00<?, ?it/s]"
      ]
     },
     "metadata": {},
     "output_type": "display_data"
    }
   ],
   "source": [
    "progress_bar = tqdm(total=len(train_loader.dataset), desc='Testing')\n",
    "\n",
    "for x, y_m, y_s in train_loader:\n",
    "    progress_bar.update(x.size(0))\n",
    "    \n",
    "progress_bar.close()"
   ]
  },
  {
   "cell_type": "code",
   "execution_count": 11,
   "id": "7eb6087a-d92c-4ff2-bc74-00488c5ea4fe",
   "metadata": {},
   "outputs": [
    {
     "data": {
      "application/vnd.jupyter.widget-view+json": {
       "model_id": "86af80ac739f4d7092f2894a3edbf1d9",
       "version_major": 2,
       "version_minor": 0
      },
      "text/plain": [
       "Testing:   0%|          | 0/2411 [00:00<?, ?it/s]"
      ]
     },
     "metadata": {},
     "output_type": "display_data"
    }
   ],
   "source": [
    "progress_bar = tqdm(total=len(test_loader.dataset), desc='Testing')\n",
    "\n",
    "for x, y_m, y_s in test_loader:\n",
    "    progress_bar.update(x.size(0))\n",
    "    \n",
    "progress_bar.close()"
   ]
  },
  {
   "cell_type": "code",
   "execution_count": 12,
   "id": "2c4051b1-021a-4784-b002-d2928d30bf49",
   "metadata": {},
   "outputs": [],
   "source": [
    "DEVICE = torch.device('cuda' if torch.cuda.is_available() else 'cpu')"
   ]
  },
  {
   "cell_type": "code",
   "execution_count": 13,
   "id": "1c9a9750-d539-41b9-866e-9ec197e62ff1",
   "metadata": {},
   "outputs": [
    {
     "data": {
      "text/plain": [
       "BaseModel(\n",
       "  (linear_in): Linear(in_features=1023, out_features=512, bias=True)\n",
       "  (relu): ReLU()\n",
       "  (clf): Linear(in_features=512, out_features=194, bias=True)\n",
       ")"
      ]
     },
     "execution_count": 13,
     "metadata": {},
     "output_type": "execute_result"
    }
   ],
   "source": [
    "model = BaseModel(\n",
    "    input_size=batch[0].shape[1],\n",
    "    hidden_size=512,\n",
    "    n_classes=len(labels_map['target_midas_and_entity2id']),\n",
    "    batch_size=train_loader.batch_size\n",
    ")\n",
    "\n",
    "model.to(DEVICE)"
   ]
  },
  {
   "cell_type": "code",
   "execution_count": 14,
   "id": "7cea124b-df3f-413b-ac8b-ca2503212c19",
   "metadata": {},
   "outputs": [],
   "source": [
    "criterion = nn.CrossEntropyLoss()\n",
    "optimizer = torch.optim.Adam(params=model.parameters())"
   ]
  },
  {
   "cell_type": "code",
   "execution_count": 19,
   "id": "cb66c902-ad0d-4063-882c-ee962fc40a60",
   "metadata": {},
   "outputs": [],
   "source": [
    "# train loop\n",
    "NUM_EPOCHS = 5  # Задайте количество эпох\n",
    "\n",
    "TRAIN_SIZE = int(np.ceil(len(train_loader.dataset) / train_loader.batch_size))\n",
    "TEST_SIZE = int(np.ceil(len(test_loader.dataset) / test_loader.batch_size))\n",
    "\n",
    "train_losses = list()\n",
    "test_losses = list()\n",
    "\n",
    "test_f1 = list()\n",
    "test_acc = list()"
   ]
  },
  {
   "cell_type": "code",
   "execution_count": 20,
   "id": "633078a2-832b-4247-8527-a0668131a05a",
   "metadata": {},
   "outputs": [
    {
     "data": {
      "application/vnd.jupyter.widget-view+json": {
       "model_id": "ba78a42fcb234a9e80a65826411c86b5",
       "version_major": 2,
       "version_minor": 0
      },
      "text/plain": [
       "Train epoch 1:   0%|          | 0/302 [00:00<?, ?it/s]"
      ]
     },
     "metadata": {},
     "output_type": "display_data"
    },
    {
     "data": {
      "application/vnd.jupyter.widget-view+json": {
       "model_id": "9dcf72a4c88b468aafaf59a721f0de34",
       "version_major": 2,
       "version_minor": 0
      },
      "text/plain": [
       "Val epoch 1:   0%|          | 0/76 [00:00<?, ?it/s]"
      ]
     },
     "metadata": {},
     "output_type": "display_data"
    },
    {
     "name": "stdout",
     "output_type": "stream",
     "text": [
      "Epoch: 1\n",
      "Train loss - 0.0280 | Test loss - 6.1074\n",
      "TEST: f1 weighted - 0.1493 | accuracy - 0.1651\n",
      "\n"
     ]
    },
    {
     "data": {
      "application/vnd.jupyter.widget-view+json": {
       "model_id": "2cdf2d3e66654175840c1dfe822b60be",
       "version_major": 2,
       "version_minor": 0
      },
      "text/plain": [
       "Train epoch 2:   0%|          | 0/302 [00:00<?, ?it/s]"
      ]
     },
     "metadata": {},
     "output_type": "display_data"
    },
    {
     "data": {
      "application/vnd.jupyter.widget-view+json": {
       "model_id": "305ef3a253d241ba88071ccd99644cf1",
       "version_major": 2,
       "version_minor": 0
      },
      "text/plain": [
       "Val epoch 2:   0%|          | 0/76 [00:00<?, ?it/s]"
      ]
     },
     "metadata": {},
     "output_type": "display_data"
    },
    {
     "name": "stdout",
     "output_type": "stream",
     "text": [
      "Epoch: 2\n",
      "Train loss - 0.0227 | Test loss - 6.1992\n",
      "TEST: f1 weighted - 0.1514 | accuracy - 0.1676\n",
      "\n"
     ]
    },
    {
     "data": {
      "application/vnd.jupyter.widget-view+json": {
       "model_id": "17393231487a4e6fb245ba9a9d1038ba",
       "version_major": 2,
       "version_minor": 0
      },
      "text/plain": [
       "Train epoch 3:   0%|          | 0/302 [00:00<?, ?it/s]"
      ]
     },
     "metadata": {},
     "output_type": "display_data"
    },
    {
     "data": {
      "application/vnd.jupyter.widget-view+json": {
       "model_id": "3f5ce61ec9174ffab362d8fe007a649f",
       "version_major": 2,
       "version_minor": 0
      },
      "text/plain": [
       "Val epoch 3:   0%|          | 0/76 [00:00<?, ?it/s]"
      ]
     },
     "metadata": {},
     "output_type": "display_data"
    },
    {
     "name": "stdout",
     "output_type": "stream",
     "text": [
      "Epoch: 3\n",
      "Train loss - 0.0183 | Test loss - 6.3323\n",
      "TEST: f1 weighted - 0.1505 | accuracy - 0.1672\n",
      "\n"
     ]
    },
    {
     "data": {
      "application/vnd.jupyter.widget-view+json": {
       "model_id": "7ca128e2b1d14507965a05023fec183b",
       "version_major": 2,
       "version_minor": 0
      },
      "text/plain": [
       "Train epoch 4:   0%|          | 0/302 [00:00<?, ?it/s]"
      ]
     },
     "metadata": {},
     "output_type": "display_data"
    },
    {
     "data": {
      "application/vnd.jupyter.widget-view+json": {
       "model_id": "819f0e5dda39428095e8f57456b172bd",
       "version_major": 2,
       "version_minor": 0
      },
      "text/plain": [
       "Val epoch 4:   0%|          | 0/76 [00:00<?, ?it/s]"
      ]
     },
     "metadata": {},
     "output_type": "display_data"
    },
    {
     "name": "stdout",
     "output_type": "stream",
     "text": [
      "Epoch: 4\n",
      "Train loss - 0.0150 | Test loss - 6.4549\n",
      "TEST: f1 weighted - 0.1495 | accuracy - 0.1667\n",
      "\n"
     ]
    },
    {
     "data": {
      "application/vnd.jupyter.widget-view+json": {
       "model_id": "4fa92788ec4b4ce184b09dbdf3510026",
       "version_major": 2,
       "version_minor": 0
      },
      "text/plain": [
       "Train epoch 5:   0%|          | 0/302 [00:00<?, ?it/s]"
      ]
     },
     "metadata": {},
     "output_type": "display_data"
    },
    {
     "data": {
      "application/vnd.jupyter.widget-view+json": {
       "model_id": "97fd22f21e17453e85071bbd39ae4e0e",
       "version_major": 2,
       "version_minor": 0
      },
      "text/plain": [
       "Val epoch 5:   0%|          | 0/76 [00:00<?, ?it/s]"
      ]
     },
     "metadata": {},
     "output_type": "display_data"
    },
    {
     "name": "stdout",
     "output_type": "stream",
     "text": [
      "Epoch: 5\n",
      "Train loss - 0.0122 | Test loss - 6.5680\n",
      "TEST: f1 weighted - 0.1495 | accuracy - 0.1672\n",
      "\n"
     ]
    }
   ],
   "source": [
    "for e in range(1, NUM_EPOCHS+1):\n",
    "    \n",
    "    epoch_train_losses = train_single_model(\n",
    "        model=model, device=DEVICE, dataloader=train_loader, \n",
    "        n_batches=TRAIN_SIZE, epoch=e,\n",
    "        loss_fn=criterion, optimizer=optimizer,\n",
    "        clip=3.)\n",
    "    \n",
    "    epoch_test_losses, epoch_f1, epoch_acc = evaluate_single_model(\n",
    "        model=model, device=DEVICE, dataloader=test_loader, \n",
    "        n_batches=TEST_SIZE, epoch=e, loss_fn=criterion)\n",
    "    \n",
    "    message = f'Epoch: {e}\\n'\n",
    "    message += f'Train loss - {np.mean(epoch_train_losses):.4f} | Test loss - {np.mean(epoch_test_losses):.4f}\\n'\n",
    "    message += f'TEST: f1 weighted - {epoch_f1:.4f} | accuracy - {epoch_acc:.4f}\\n'\n",
    "\n",
    "    print(message)"
   ]
  },
  {
   "cell_type": "code",
   "execution_count": null,
   "id": "92b81935-7581-43da-8aa5-9e1813b30fb5",
   "metadata": {},
   "outputs": [],
   "source": []
  }
 ],
 "metadata": {
  "kernelspec": {
   "display_name": "Python 3 (ipykernel)",
   "language": "python",
   "name": "python3"
  },
  "language_info": {
   "codemirror_mode": {
    "name": "ipython",
    "version": 3
   },
   "file_extension": ".py",
   "mimetype": "text/x-python",
   "name": "python",
   "nbconvert_exporter": "python",
   "pygments_lexer": "ipython3",
   "version": "3.8.2"
  }
 },
 "nbformat": 4,
 "nbformat_minor": 5
}
