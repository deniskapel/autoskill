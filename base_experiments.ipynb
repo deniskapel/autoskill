{
 "cells": [
  {
   "cell_type": "code",
   "execution_count": 1,
   "id": "9863d095-2c51-49b6-9b00-45f0f045141a",
   "metadata": {},
   "outputs": [],
   "source": [
    "import json\n",
    "import pickle\n",
    "import statistics\n",
    "\n",
    "from collections import Counter\n",
    "\n",
    "import torch\n",
    "import numpy as np\n",
    "\n",
    "from catboost import CatBoostClassifier, Pool\n",
    "from spacy.lang.en import English\n",
    "from sklearn.linear_model import LogisticRegression\n",
    "from sklearn.ensemble import RandomForestClassifier\n",
    "from sklearn.model_selection import train_test_split\n",
    "from sklearn.metrics import f1_score, accuracy_score\n",
    "from torch.utils.data import DataLoader\n",
    "from torch import nn\n",
    "from tqdm.notebook import tqdm\n",
    "\n",
    "from utils.preprocessing import spacy_tokenize, dummy_fn\n",
    "from utils.autoskill_torch import SkillDataset, collate_fn \n",
    "from utils.base_torch_utils import train_single_model, evaluate_single_model, BaseModel"
   ]
  },
  {
   "cell_type": "code",
   "execution_count": 2,
   "id": "63afd115-9912-41d3-a934-7524581d3419",
   "metadata": {},
   "outputs": [],
   "source": [
    "DEVICE = torch.device('cuda' if torch.cuda.is_available() else 'cpu')"
   ]
  },
  {
   "cell_type": "code",
   "execution_count": 3,
   "id": "d774e017-d814-47d9-b7ba-0b402f675284",
   "metadata": {},
   "outputs": [],
   "source": [
    "with open('data/daily_labels.json', 'r', encoding=\"utf8\") as f:\n",
    "    daily_labels_map = json.load(f)\n",
    "\n",
    "with open('data/daily_dataset.json', 'r', encoding=\"utf8\") as f:\n",
    "    daily = json.load(f)"
   ]
  },
  {
   "cell_type": "code",
   "execution_count": 4,
   "id": "127cd224-6382-44fb-baf0-3f9d4c6853ff",
   "metadata": {},
   "outputs": [],
   "source": [
    "with open('data/topical_labels.json', 'r', encoding=\"utf8\") as f:\n",
    "    topical_labels_map = json.load(f)\n",
    "\n",
    "with open('data/topical_dataset.json', 'r', encoding=\"utf8\") as f:\n",
    "    topical = json.load(f)"
   ]
  },
  {
   "cell_type": "code",
   "execution_count": 5,
   "id": "7eac4e59-21f6-4bad-b4da-62ddf27ee9b3",
   "metadata": {},
   "outputs": [],
   "source": [
    "tokenizer = English().tokenizer"
   ]
  },
  {
   "cell_type": "markdown",
   "id": "bb6827dc-e87a-4df1-8e95-812a02d94fc3",
   "metadata": {
    "jp-MarkdownHeadingCollapsed": true,
    "tags": []
   },
   "source": [
    "# TFIDF + Linear_ReLu_Linear"
   ]
  },
  {
   "cell_type": "markdown",
   "id": "90cc69c0-82ab-4537-9564-ce773a24c597",
   "metadata": {
    "tags": []
   },
   "source": [
    "## Daily Dataset"
   ]
  },
  {
   "cell_type": "code",
   "execution_count": 4,
   "id": "fe05df4f-e9a3-472e-a427-bf8d72f999e8",
   "metadata": {},
   "outputs": [
    {
     "data": {
      "text/plain": [
       "(1881, 471)"
      ]
     },
     "execution_count": 4,
     "metadata": {},
     "output_type": "execute_result"
    }
   ],
   "source": [
    "daily_train, daily_test = train_test_split(daily, test_size=0.2, random_state=42)\n",
    "len(daily_train), len(daily_test)"
   ]
  },
  {
   "cell_type": "code",
   "execution_count": 5,
   "id": "0f105e35-8d25-48aa-b198-0e6283103ad9",
   "metadata": {},
   "outputs": [
    {
     "data": {
      "text/plain": [
       "TfidfVectorizer(lowercase=False, max_df=0.7, max_features=300, min_df=3,\n",
       "                preprocessor=<function dummy_fn at 0x0000022757040820>,\n",
       "                token_pattern=None,\n",
       "                tokenizer=<function dummy_fn at 0x0000022757040820>)"
      ]
     },
     "execution_count": 5,
     "metadata": {},
     "output_type": "execute_result"
    }
   ],
   "source": [
    "daily_tfidf = pickle.load(open(\"models/daily_tfidf_3_08_300.pkl\", 'rb'))\n",
    "daily_tfidf"
   ]
  },
  {
   "cell_type": "code",
   "execution_count": 6,
   "id": "1126fcc8-922e-431f-8b56-3dfb4e455728",
   "metadata": {},
   "outputs": [
    {
     "data": {
      "text/plain": [
       "1881"
      ]
     },
     "execution_count": 6,
     "metadata": {},
     "output_type": "execute_result"
    }
   ],
   "source": [
    "daily_train_dataset = SkillDataset(\n",
    "    daily_train, daily_labels_map, \n",
    "    tokenizer=tokenizer,\n",
    "    tfidf_model=daily_tfidf\n",
    ")\n",
    "\n",
    "len(daily_train_dataset)"
   ]
  },
  {
   "cell_type": "code",
   "execution_count": 7,
   "id": "f7579c4a-1542-45f0-a04c-b00e7bfe4498",
   "metadata": {},
   "outputs": [
    {
     "name": "stdout",
     "output_type": "stream",
     "text": [
      "(999,) \n",
      "\n",
      "[0, 5, 17] \n",
      "\n"
     ]
    }
   ],
   "source": [
    "print(daily_train_dataset[42][0].shape, '\\n') # x_vec\n",
    "print(daily_train_dataset[42][1], '\\n') # y labels: ([midas_id, entity_id], midas_and_entity_id)"
   ]
  },
  {
   "cell_type": "code",
   "execution_count": 8,
   "id": "6c7638ec-6684-448d-83dc-1ba266c2f92f",
   "metadata": {},
   "outputs": [
    {
     "data": {
      "text/plain": [
       "471"
      ]
     },
     "execution_count": 8,
     "metadata": {},
     "output_type": "execute_result"
    }
   ],
   "source": [
    "daily_test_dataset = SkillDataset(\n",
    "    daily_test, daily_labels_map, \n",
    "    tokenizer=tokenizer,\n",
    "    tfidf_model=daily_tfidf\n",
    ")\n",
    "\n",
    "len(daily_test_dataset)"
   ]
  },
  {
   "cell_type": "code",
   "execution_count": 12,
   "id": "a080b7c5-37ef-437a-8b85-b9c74874a0e8",
   "metadata": {},
   "outputs": [],
   "source": [
    "daily_train_loader = DataLoader(\n",
    "    daily_train_dataset, batch_size=32, \n",
    "    shuffle=True, collate_fn=collate_fn)\n",
    "\n",
    "daily_test_loader = DataLoader(\n",
    "    daily_test_dataset, batch_size=32, \n",
    "    shuffle=False, collate_fn=collate_fn)"
   ]
  },
  {
   "cell_type": "code",
   "execution_count": 13,
   "id": "641218ad-fb6b-40f0-9065-f3bacdb2e028",
   "metadata": {},
   "outputs": [
    {
     "data": {
      "text/plain": [
       "(torch.Size([32, 999]), torch.Size([32, 3]))"
      ]
     },
     "execution_count": 13,
     "metadata": {},
     "output_type": "execute_result"
    }
   ],
   "source": [
    "for x, y in daily_train_loader:\n",
    "    break\n",
    "\n",
    "x.shape, y.shape"
   ]
  },
  {
   "cell_type": "code",
   "execution_count": 14,
   "id": "bde54de5-ec1e-4471-95a7-b51872a6982c",
   "metadata": {},
   "outputs": [
    {
     "data": {
      "application/vnd.jupyter.widget-view+json": {
       "model_id": "a7718cdbef9e446098e03ea822a47743",
       "version_major": 2,
       "version_minor": 0
      },
      "text/plain": [
       "Testing:   0%|          | 0/1881 [00:00<?, ?it/s]"
      ]
     },
     "metadata": {},
     "output_type": "display_data"
    }
   ],
   "source": [
    "progress_bar = tqdm(total=len(daily_train_loader.dataset), desc='Testing')\n",
    "\n",
    "for batch in daily_train_loader:\n",
    "    progress_bar.update(batch[0].size(0))\n",
    "    \n",
    "progress_bar.close()"
   ]
  },
  {
   "cell_type": "code",
   "execution_count": 15,
   "id": "ff0b4410-008d-4f6c-98a8-aa45a55d182e",
   "metadata": {},
   "outputs": [
    {
     "data": {
      "application/vnd.jupyter.widget-view+json": {
       "model_id": "3f2d60b483a54d9ca86881749939e05b",
       "version_major": 2,
       "version_minor": 0
      },
      "text/plain": [
       "Testing:   0%|          | 0/471 [00:00<?, ?it/s]"
      ]
     },
     "metadata": {},
     "output_type": "display_data"
    }
   ],
   "source": [
    "progress_bar = tqdm(total=len(daily_test_loader.dataset), desc='Testing')\n",
    "\n",
    "for batch in daily_test_loader:\n",
    "    progress_bar.update(batch[0].size(0))\n",
    "    \n",
    "progress_bar.close()"
   ]
  },
  {
   "cell_type": "markdown",
   "id": "497b4f30-3f43-499d-be5e-b30c591057e9",
   "metadata": {
    "tags": []
   },
   "source": [
    "### Midas"
   ]
  },
  {
   "cell_type": "code",
   "execution_count": 16,
   "id": "941f3175-4ec8-4bcd-a214-283243b1dceb",
   "metadata": {},
   "outputs": [
    {
     "data": {
      "text/plain": [
       "BaseModel(\n",
       "  (linear_in): Linear(in_features=999, out_features=512, bias=True)\n",
       "  (relu): ReLU()\n",
       "  (clf): Linear(in_features=512, out_features=12, bias=True)\n",
       ")"
      ]
     },
     "execution_count": 16,
     "metadata": {},
     "output_type": "execute_result"
    }
   ],
   "source": [
    "model = BaseModel(\n",
    "    input_size=batch[0].shape[1],\n",
    "    hidden_size=512,\n",
    "    n_classes=len(daily_labels_map['target_midas2id']),\n",
    "    batch_size=daily_train_loader.batch_size\n",
    ")\n",
    "\n",
    "model.to(DEVICE)"
   ]
  },
  {
   "cell_type": "code",
   "execution_count": 17,
   "id": "72e22da2-7fc0-429e-98dd-510e59cf1ca1",
   "metadata": {},
   "outputs": [],
   "source": [
    "criterion = nn.CrossEntropyLoss()\n",
    "optimizer = torch.optim.Adam(params=model.parameters())"
   ]
  },
  {
   "cell_type": "code",
   "execution_count": 18,
   "id": "c8eb8fb1-4b0a-4ce6-893b-393b566d779a",
   "metadata": {},
   "outputs": [],
   "source": [
    "# train loop\n",
    "NUM_EPOCHS = 10  # Задайте количество эпох\n",
    "\n",
    "TRAIN_SIZE = int(np.ceil(len(daily_train_loader.dataset) / daily_train_loader.batch_size))\n",
    "TEST_SIZE = int(np.ceil(len(daily_test_loader.dataset) / daily_test_loader.batch_size))\n",
    "\n",
    "train_losses = list()\n",
    "test_losses = list()\n",
    "\n",
    "test_f1 = list()\n",
    "test_acc = list()"
   ]
  },
  {
   "cell_type": "code",
   "execution_count": 19,
   "id": "cacdf8d4-e6f9-4b39-bffe-2340b65e2338",
   "metadata": {
    "tags": []
   },
   "outputs": [
    {
     "data": {
      "application/vnd.jupyter.widget-view+json": {
       "model_id": "eb1469376f5640a28aa3b7a7ff631ce6",
       "version_major": 2,
       "version_minor": 0
      },
      "text/plain": [
       "Train epoch 1:   0%|          | 0/59 [00:00<?, ?it/s]"
      ]
     },
     "metadata": {},
     "output_type": "display_data"
    },
    {
     "data": {
      "application/vnd.jupyter.widget-view+json": {
       "model_id": "13ce2ae3cee44bd199eb37708d0af543",
       "version_major": 2,
       "version_minor": 0
      },
      "text/plain": [
       "Val epoch 1:   0%|          | 0/15 [00:00<?, ?it/s]"
      ]
     },
     "metadata": {},
     "output_type": "display_data"
    },
    {
     "name": "stdout",
     "output_type": "stream",
     "text": [
      "Epoch: 1\n",
      "Train loss - 1.5033 | Test loss - 1.1732\n",
      "TEST: f1 weighted - 0.5133 | accuracy - 0.6476\n",
      "\n"
     ]
    },
    {
     "data": {
      "application/vnd.jupyter.widget-view+json": {
       "model_id": "20ef6b2da15f40109e9070b32a6cb1c2",
       "version_major": 2,
       "version_minor": 0
      },
      "text/plain": [
       "Train epoch 2:   0%|          | 0/59 [00:00<?, ?it/s]"
      ]
     },
     "metadata": {},
     "output_type": "display_data"
    },
    {
     "data": {
      "application/vnd.jupyter.widget-view+json": {
       "model_id": "dc3b7724a06b4013afe6406d2cc6d3cd",
       "version_major": 2,
       "version_minor": 0
      },
      "text/plain": [
       "Val epoch 2:   0%|          | 0/15 [00:00<?, ?it/s]"
      ]
     },
     "metadata": {},
     "output_type": "display_data"
    },
    {
     "name": "stdout",
     "output_type": "stream",
     "text": [
      "Epoch: 2\n",
      "Train loss - 1.0924 | Test loss - 1.0528\n",
      "TEST: f1 weighted - 0.5780 | accuracy - 0.6709\n",
      "\n"
     ]
    },
    {
     "data": {
      "application/vnd.jupyter.widget-view+json": {
       "model_id": "492426b7135b4abcbeea3dacbb47850c",
       "version_major": 2,
       "version_minor": 0
      },
      "text/plain": [
       "Train epoch 3:   0%|          | 0/59 [00:00<?, ?it/s]"
      ]
     },
     "metadata": {},
     "output_type": "display_data"
    },
    {
     "data": {
      "application/vnd.jupyter.widget-view+json": {
       "model_id": "3219790db9aa487c80095c9bc315b9c4",
       "version_major": 2,
       "version_minor": 0
      },
      "text/plain": [
       "Val epoch 3:   0%|          | 0/15 [00:00<?, ?it/s]"
      ]
     },
     "metadata": {},
     "output_type": "display_data"
    },
    {
     "name": "stdout",
     "output_type": "stream",
     "text": [
      "Epoch: 3\n",
      "Train loss - 0.9033 | Test loss - 1.0107\n",
      "TEST: f1 weighted - 0.6155 | accuracy - 0.6815\n",
      "\n"
     ]
    },
    {
     "data": {
      "application/vnd.jupyter.widget-view+json": {
       "model_id": "d86e63087f184928a26dbe27186b1bd0",
       "version_major": 2,
       "version_minor": 0
      },
      "text/plain": [
       "Train epoch 4:   0%|          | 0/59 [00:00<?, ?it/s]"
      ]
     },
     "metadata": {},
     "output_type": "display_data"
    },
    {
     "data": {
      "application/vnd.jupyter.widget-view+json": {
       "model_id": "54c6d423f2394f43bdbd870144be3b35",
       "version_major": 2,
       "version_minor": 0
      },
      "text/plain": [
       "Val epoch 4:   0%|          | 0/15 [00:00<?, ?it/s]"
      ]
     },
     "metadata": {},
     "output_type": "display_data"
    },
    {
     "name": "stdout",
     "output_type": "stream",
     "text": [
      "Epoch: 4\n",
      "Train loss - 0.7257 | Test loss - 1.0217\n",
      "TEST: f1 weighted - 0.6440 | accuracy - 0.6837\n",
      "\n"
     ]
    },
    {
     "data": {
      "application/vnd.jupyter.widget-view+json": {
       "model_id": "02474b2d04c04b8d8925783b14f60d2c",
       "version_major": 2,
       "version_minor": 0
      },
      "text/plain": [
       "Train epoch 5:   0%|          | 0/59 [00:00<?, ?it/s]"
      ]
     },
     "metadata": {},
     "output_type": "display_data"
    },
    {
     "data": {
      "application/vnd.jupyter.widget-view+json": {
       "model_id": "81ae81623d2d47b585f2e0e77dcd1f7d",
       "version_major": 2,
       "version_minor": 0
      },
      "text/plain": [
       "Val epoch 5:   0%|          | 0/15 [00:00<?, ?it/s]"
      ]
     },
     "metadata": {},
     "output_type": "display_data"
    },
    {
     "name": "stdout",
     "output_type": "stream",
     "text": [
      "Epoch: 5\n",
      "Train loss - 0.5544 | Test loss - 1.0566\n",
      "TEST: f1 weighted - 0.6632 | accuracy - 0.6879\n",
      "\n"
     ]
    },
    {
     "data": {
      "application/vnd.jupyter.widget-view+json": {
       "model_id": "b251f5f531cd425f98b8f917c25a0b94",
       "version_major": 2,
       "version_minor": 0
      },
      "text/plain": [
       "Train epoch 6:   0%|          | 0/59 [00:00<?, ?it/s]"
      ]
     },
     "metadata": {},
     "output_type": "display_data"
    },
    {
     "data": {
      "application/vnd.jupyter.widget-view+json": {
       "model_id": "7efd637cb0e94246871482ede79ef5ad",
       "version_major": 2,
       "version_minor": 0
      },
      "text/plain": [
       "Val epoch 6:   0%|          | 0/15 [00:00<?, ?it/s]"
      ]
     },
     "metadata": {},
     "output_type": "display_data"
    },
    {
     "name": "stdout",
     "output_type": "stream",
     "text": [
      "Epoch: 6\n",
      "Train loss - 0.4127 | Test loss - 1.0939\n",
      "TEST: f1 weighted - 0.6518 | accuracy - 0.6773\n",
      "\n"
     ]
    },
    {
     "data": {
      "application/vnd.jupyter.widget-view+json": {
       "model_id": "fce675479f2f4e8b9d5fc1311e7e54ae",
       "version_major": 2,
       "version_minor": 0
      },
      "text/plain": [
       "Train epoch 7:   0%|          | 0/59 [00:00<?, ?it/s]"
      ]
     },
     "metadata": {},
     "output_type": "display_data"
    },
    {
     "data": {
      "application/vnd.jupyter.widget-view+json": {
       "model_id": "924144fab85d4d71b171c3cc3b01bca7",
       "version_major": 2,
       "version_minor": 0
      },
      "text/plain": [
       "Val epoch 7:   0%|          | 0/15 [00:00<?, ?it/s]"
      ]
     },
     "metadata": {},
     "output_type": "display_data"
    },
    {
     "name": "stdout",
     "output_type": "stream",
     "text": [
      "Epoch: 7\n",
      "Train loss - 0.2861 | Test loss - 1.1532\n",
      "TEST: f1 weighted - 0.6645 | accuracy - 0.6815\n",
      "\n"
     ]
    },
    {
     "data": {
      "application/vnd.jupyter.widget-view+json": {
       "model_id": "c726419b4b574b13ad303f78f00e9fdc",
       "version_major": 2,
       "version_minor": 0
      },
      "text/plain": [
       "Train epoch 8:   0%|          | 0/59 [00:00<?, ?it/s]"
      ]
     },
     "metadata": {},
     "output_type": "display_data"
    },
    {
     "data": {
      "application/vnd.jupyter.widget-view+json": {
       "model_id": "29a36882eda0482ea4e4871f581e4e47",
       "version_major": 2,
       "version_minor": 0
      },
      "text/plain": [
       "Val epoch 8:   0%|          | 0/15 [00:00<?, ?it/s]"
      ]
     },
     "metadata": {},
     "output_type": "display_data"
    },
    {
     "name": "stdout",
     "output_type": "stream",
     "text": [
      "Epoch: 8\n",
      "Train loss - 0.1936 | Test loss - 1.2128\n",
      "TEST: f1 weighted - 0.6671 | accuracy - 0.6879\n",
      "\n"
     ]
    },
    {
     "data": {
      "application/vnd.jupyter.widget-view+json": {
       "model_id": "3cfc16d40b9149ad98df5e1895189f52",
       "version_major": 2,
       "version_minor": 0
      },
      "text/plain": [
       "Train epoch 9:   0%|          | 0/59 [00:00<?, ?it/s]"
      ]
     },
     "metadata": {},
     "output_type": "display_data"
    },
    {
     "data": {
      "application/vnd.jupyter.widget-view+json": {
       "model_id": "8337b6edb7e849f090041b7da611e809",
       "version_major": 2,
       "version_minor": 0
      },
      "text/plain": [
       "Val epoch 9:   0%|          | 0/15 [00:00<?, ?it/s]"
      ]
     },
     "metadata": {},
     "output_type": "display_data"
    },
    {
     "name": "stdout",
     "output_type": "stream",
     "text": [
      "Epoch: 9\n",
      "Train loss - 0.1285 | Test loss - 1.2768\n",
      "TEST: f1 weighted - 0.6695 | accuracy - 0.6900\n",
      "\n"
     ]
    },
    {
     "data": {
      "application/vnd.jupyter.widget-view+json": {
       "model_id": "87b4be3246f64d91ac6d0c24feaadc76",
       "version_major": 2,
       "version_minor": 0
      },
      "text/plain": [
       "Train epoch 10:   0%|          | 0/59 [00:00<?, ?it/s]"
      ]
     },
     "metadata": {},
     "output_type": "display_data"
    },
    {
     "data": {
      "application/vnd.jupyter.widget-view+json": {
       "model_id": "7b71caf410394b69800f3ecfa7ffe413",
       "version_major": 2,
       "version_minor": 0
      },
      "text/plain": [
       "Val epoch 10:   0%|          | 0/15 [00:00<?, ?it/s]"
      ]
     },
     "metadata": {},
     "output_type": "display_data"
    },
    {
     "name": "stdout",
     "output_type": "stream",
     "text": [
      "Epoch: 10\n",
      "Train loss - 0.0853 | Test loss - 1.3461\n",
      "TEST: f1 weighted - 0.6674 | accuracy - 0.6879\n",
      "\n"
     ]
    }
   ],
   "source": [
    "for e in range(1, NUM_EPOCHS+1):\n",
    "    \n",
    "    epoch_train_losses = train_single_model(\n",
    "        model=model, device=DEVICE, dataloader=daily_train_loader, \n",
    "        n_batches=TRAIN_SIZE, epoch=e,\n",
    "        loss_fn=criterion, optimizer=optimizer,\n",
    "        clip=3., label_type='midas')\n",
    "    \n",
    "    epoch_test_losses, epoch_f1, epoch_acc = evaluate_single_model(\n",
    "        model=model, device=DEVICE, dataloader=daily_test_loader, \n",
    "        n_batches=TEST_SIZE, epoch=e, loss_fn=criterion, label_type='midas')\n",
    "    \n",
    "    message = f'Epoch: {e}\\n'\n",
    "    message += f'Train loss - {np.mean(epoch_train_losses):.4f} | Test loss - {np.mean(epoch_test_losses):.4f}\\n'\n",
    "    message += f'TEST: f1 weighted - {epoch_f1:.4f} | accuracy - {epoch_acc:.4f}\\n'\n",
    "\n",
    "    print(message)"
   ]
  },
  {
   "cell_type": "markdown",
   "id": "80aa6c3a-59f7-4efb-878f-f5fe4e091360",
   "metadata": {
    "tags": []
   },
   "source": [
    "### Entity"
   ]
  },
  {
   "cell_type": "code",
   "execution_count": 20,
   "id": "8205c039-fdfc-4a8f-8d81-63f0215b1516",
   "metadata": {},
   "outputs": [
    {
     "data": {
      "text/plain": [
       "BaseModel(\n",
       "  (linear_in): Linear(in_features=999, out_features=512, bias=True)\n",
       "  (relu): ReLU()\n",
       "  (clf): Linear(in_features=512, out_features=18, bias=True)\n",
       ")"
      ]
     },
     "execution_count": 20,
     "metadata": {},
     "output_type": "execute_result"
    }
   ],
   "source": [
    "model = BaseModel(\n",
    "    input_size=batch[0].shape[1],\n",
    "    hidden_size=512,\n",
    "    n_classes=len(daily_labels_map['target_entity2id']),\n",
    "    batch_size=daily_train_loader.batch_size\n",
    ")\n",
    "\n",
    "model.to(DEVICE)"
   ]
  },
  {
   "cell_type": "code",
   "execution_count": 21,
   "id": "65b3a434-df84-404b-9d71-b7e503b67c36",
   "metadata": {},
   "outputs": [],
   "source": [
    "criterion = nn.CrossEntropyLoss()\n",
    "optimizer = torch.optim.Adam(params=model.parameters())"
   ]
  },
  {
   "cell_type": "code",
   "execution_count": 22,
   "id": "810f284b-d557-4ccb-bd6a-65f5fdd45172",
   "metadata": {},
   "outputs": [],
   "source": [
    "# train loop\n",
    "NUM_EPOCHS = 10  # Задайте количество эпох\n",
    "\n",
    "TRAIN_SIZE = int(np.ceil(len(daily_train_loader.dataset) / daily_train_loader.batch_size))\n",
    "TEST_SIZE = int(np.ceil(len(daily_test_loader.dataset) / daily_test_loader.batch_size))\n",
    "\n",
    "train_losses = list()\n",
    "test_losses = list()\n",
    "\n",
    "test_f1 = list()\n",
    "test_acc = list()"
   ]
  },
  {
   "cell_type": "code",
   "execution_count": 23,
   "id": "c0ba566b-5140-43c6-ba01-624e4762e247",
   "metadata": {
    "tags": []
   },
   "outputs": [
    {
     "data": {
      "application/vnd.jupyter.widget-view+json": {
       "model_id": "9ab4de0382aa40619552d2f9d23e3da7",
       "version_major": 2,
       "version_minor": 0
      },
      "text/plain": [
       "Train epoch 1:   0%|          | 0/59 [00:00<?, ?it/s]"
      ]
     },
     "metadata": {},
     "output_type": "display_data"
    },
    {
     "data": {
      "application/vnd.jupyter.widget-view+json": {
       "model_id": "3e465f625e6d47f581103185729e747f",
       "version_major": 2,
       "version_minor": 0
      },
      "text/plain": [
       "Val epoch 1:   0%|          | 0/15 [00:00<?, ?it/s]"
      ]
     },
     "metadata": {},
     "output_type": "display_data"
    },
    {
     "name": "stdout",
     "output_type": "stream",
     "text": [
      "Epoch: 1\n",
      "Train loss - 2.3557 | Test loss - 2.0531\n",
      "TEST: f1 weighted - 0.2608 | accuracy - 0.3546\n",
      "\n"
     ]
    },
    {
     "data": {
      "application/vnd.jupyter.widget-view+json": {
       "model_id": "bfcf5c8377304896aa313ec777836c78",
       "version_major": 2,
       "version_minor": 0
      },
      "text/plain": [
       "Train epoch 2:   0%|          | 0/59 [00:00<?, ?it/s]"
      ]
     },
     "metadata": {},
     "output_type": "display_data"
    },
    {
     "data": {
      "application/vnd.jupyter.widget-view+json": {
       "model_id": "782b4133496b461daa627d1997204517",
       "version_major": 2,
       "version_minor": 0
      },
      "text/plain": [
       "Val epoch 2:   0%|          | 0/15 [00:00<?, ?it/s]"
      ]
     },
     "metadata": {},
     "output_type": "display_data"
    },
    {
     "name": "stdout",
     "output_type": "stream",
     "text": [
      "Epoch: 2\n",
      "Train loss - 1.7832 | Test loss - 1.7193\n",
      "TEST: f1 weighted - 0.4419 | accuracy - 0.4841\n",
      "\n"
     ]
    },
    {
     "data": {
      "application/vnd.jupyter.widget-view+json": {
       "model_id": "d7bc111b91eb4c509f9ca4507519afb8",
       "version_major": 2,
       "version_minor": 0
      },
      "text/plain": [
       "Train epoch 3:   0%|          | 0/59 [00:00<?, ?it/s]"
      ]
     },
     "metadata": {},
     "output_type": "display_data"
    },
    {
     "data": {
      "application/vnd.jupyter.widget-view+json": {
       "model_id": "555375f43be3494bbc3913dbcec5ba6b",
       "version_major": 2,
       "version_minor": 0
      },
      "text/plain": [
       "Val epoch 3:   0%|          | 0/15 [00:00<?, ?it/s]"
      ]
     },
     "metadata": {},
     "output_type": "display_data"
    },
    {
     "name": "stdout",
     "output_type": "stream",
     "text": [
      "Epoch: 3\n",
      "Train loss - 1.3127 | Test loss - 1.5092\n",
      "TEST: f1 weighted - 0.5071 | accuracy - 0.5435\n",
      "\n"
     ]
    },
    {
     "data": {
      "application/vnd.jupyter.widget-view+json": {
       "model_id": "ae1588e2a16d4a169086e459c4b8348f",
       "version_major": 2,
       "version_minor": 0
      },
      "text/plain": [
       "Train epoch 4:   0%|          | 0/59 [00:00<?, ?it/s]"
      ]
     },
     "metadata": {},
     "output_type": "display_data"
    },
    {
     "data": {
      "application/vnd.jupyter.widget-view+json": {
       "model_id": "f400474f84c34af49abb49a15d2c6c5f",
       "version_major": 2,
       "version_minor": 0
      },
      "text/plain": [
       "Val epoch 4:   0%|          | 0/15 [00:00<?, ?it/s]"
      ]
     },
     "metadata": {},
     "output_type": "display_data"
    },
    {
     "name": "stdout",
     "output_type": "stream",
     "text": [
      "Epoch: 4\n",
      "Train loss - 0.9755 | Test loss - 1.4482\n",
      "TEST: f1 weighted - 0.5651 | accuracy - 0.5690\n",
      "\n"
     ]
    },
    {
     "data": {
      "application/vnd.jupyter.widget-view+json": {
       "model_id": "1b06b376c0e04cdf863764a6b8725780",
       "version_major": 2,
       "version_minor": 0
      },
      "text/plain": [
       "Train epoch 5:   0%|          | 0/59 [00:00<?, ?it/s]"
      ]
     },
     "metadata": {},
     "output_type": "display_data"
    },
    {
     "data": {
      "application/vnd.jupyter.widget-view+json": {
       "model_id": "3f92fd1ba09a4caaaf0d51bbe5661850",
       "version_major": 2,
       "version_minor": 0
      },
      "text/plain": [
       "Val epoch 5:   0%|          | 0/15 [00:00<?, ?it/s]"
      ]
     },
     "metadata": {},
     "output_type": "display_data"
    },
    {
     "name": "stdout",
     "output_type": "stream",
     "text": [
      "Epoch: 5\n",
      "Train loss - 0.7284 | Test loss - 1.4348\n",
      "TEST: f1 weighted - 0.5519 | accuracy - 0.5626\n",
      "\n"
     ]
    },
    {
     "data": {
      "application/vnd.jupyter.widget-view+json": {
       "model_id": "1fb0db5eda4f461fba831f75ede318fb",
       "version_major": 2,
       "version_minor": 0
      },
      "text/plain": [
       "Train epoch 6:   0%|          | 0/59 [00:00<?, ?it/s]"
      ]
     },
     "metadata": {},
     "output_type": "display_data"
    },
    {
     "data": {
      "application/vnd.jupyter.widget-view+json": {
       "model_id": "fb976b64d5994ae39143277ae49da7f0",
       "version_major": 2,
       "version_minor": 0
      },
      "text/plain": [
       "Val epoch 6:   0%|          | 0/15 [00:00<?, ?it/s]"
      ]
     },
     "metadata": {},
     "output_type": "display_data"
    },
    {
     "name": "stdout",
     "output_type": "stream",
     "text": [
      "Epoch: 6\n",
      "Train loss - 0.5268 | Test loss - 1.4381\n",
      "TEST: f1 weighted - 0.5612 | accuracy - 0.5690\n",
      "\n"
     ]
    },
    {
     "data": {
      "application/vnd.jupyter.widget-view+json": {
       "model_id": "4d2b646272f84250878a0c420eca099a",
       "version_major": 2,
       "version_minor": 0
      },
      "text/plain": [
       "Train epoch 7:   0%|          | 0/59 [00:00<?, ?it/s]"
      ]
     },
     "metadata": {},
     "output_type": "display_data"
    },
    {
     "data": {
      "application/vnd.jupyter.widget-view+json": {
       "model_id": "1e23e459aefc486d9da54bb5c9c6e0e6",
       "version_major": 2,
       "version_minor": 0
      },
      "text/plain": [
       "Val epoch 7:   0%|          | 0/15 [00:00<?, ?it/s]"
      ]
     },
     "metadata": {},
     "output_type": "display_data"
    },
    {
     "name": "stdout",
     "output_type": "stream",
     "text": [
      "Epoch: 7\n",
      "Train loss - 0.3768 | Test loss - 1.4948\n",
      "TEST: f1 weighted - 0.5653 | accuracy - 0.5711\n",
      "\n"
     ]
    },
    {
     "data": {
      "application/vnd.jupyter.widget-view+json": {
       "model_id": "ade4ef8e5d5f40fd84944eb46ce8b9b5",
       "version_major": 2,
       "version_minor": 0
      },
      "text/plain": [
       "Train epoch 8:   0%|          | 0/59 [00:00<?, ?it/s]"
      ]
     },
     "metadata": {},
     "output_type": "display_data"
    },
    {
     "data": {
      "application/vnd.jupyter.widget-view+json": {
       "model_id": "79f82c7ad34140ce8687906d65d359c3",
       "version_major": 2,
       "version_minor": 0
      },
      "text/plain": [
       "Val epoch 8:   0%|          | 0/15 [00:00<?, ?it/s]"
      ]
     },
     "metadata": {},
     "output_type": "display_data"
    },
    {
     "name": "stdout",
     "output_type": "stream",
     "text": [
      "Epoch: 8\n",
      "Train loss - 0.2693 | Test loss - 1.5586\n",
      "TEST: f1 weighted - 0.5755 | accuracy - 0.5796\n",
      "\n"
     ]
    },
    {
     "data": {
      "application/vnd.jupyter.widget-view+json": {
       "model_id": "02f52c885f324e7eb1ed642777152b07",
       "version_major": 2,
       "version_minor": 0
      },
      "text/plain": [
       "Train epoch 9:   0%|          | 0/59 [00:00<?, ?it/s]"
      ]
     },
     "metadata": {},
     "output_type": "display_data"
    },
    {
     "data": {
      "application/vnd.jupyter.widget-view+json": {
       "model_id": "fc3efb112ce74ee2963d78c725917003",
       "version_major": 2,
       "version_minor": 0
      },
      "text/plain": [
       "Val epoch 9:   0%|          | 0/15 [00:00<?, ?it/s]"
      ]
     },
     "metadata": {},
     "output_type": "display_data"
    },
    {
     "name": "stdout",
     "output_type": "stream",
     "text": [
      "Epoch: 9\n",
      "Train loss - 0.1872 | Test loss - 1.6070\n",
      "TEST: f1 weighted - 0.5749 | accuracy - 0.5817\n",
      "\n"
     ]
    },
    {
     "data": {
      "application/vnd.jupyter.widget-view+json": {
       "model_id": "79024d50ef1b433fb500a30bef788bf2",
       "version_major": 2,
       "version_minor": 0
      },
      "text/plain": [
       "Train epoch 10:   0%|          | 0/59 [00:00<?, ?it/s]"
      ]
     },
     "metadata": {},
     "output_type": "display_data"
    },
    {
     "data": {
      "application/vnd.jupyter.widget-view+json": {
       "model_id": "d2e6e54a31994ac5a37a31f69bed3f5a",
       "version_major": 2,
       "version_minor": 0
      },
      "text/plain": [
       "Val epoch 10:   0%|          | 0/15 [00:00<?, ?it/s]"
      ]
     },
     "metadata": {},
     "output_type": "display_data"
    },
    {
     "name": "stdout",
     "output_type": "stream",
     "text": [
      "Epoch: 10\n",
      "Train loss - 0.1360 | Test loss - 1.6682\n",
      "TEST: f1 weighted - 0.5799 | accuracy - 0.5839\n",
      "\n"
     ]
    }
   ],
   "source": [
    "for e in range(1, NUM_EPOCHS+1):\n",
    "    \n",
    "    epoch_train_losses = train_single_model(\n",
    "        model=model, device=DEVICE, dataloader=daily_train_loader, \n",
    "        n_batches=TRAIN_SIZE, epoch=e,\n",
    "        loss_fn=criterion, optimizer=optimizer,\n",
    "        clip=3., label_type='entity')\n",
    "    \n",
    "    epoch_test_losses, epoch_f1, epoch_acc = evaluate_single_model(\n",
    "        model=model, device=DEVICE, dataloader=daily_test_loader, \n",
    "        n_batches=TEST_SIZE, epoch=e, loss_fn=criterion, label_type='entity')\n",
    "    \n",
    "    message = f'Epoch: {e}\\n'\n",
    "    message += f'Train loss - {np.mean(epoch_train_losses):.4f} | Test loss - {np.mean(epoch_test_losses):.4f}\\n'\n",
    "    message += f'TEST: f1 weighted - {epoch_f1:.4f} | accuracy - {epoch_acc:.4f}\\n'\n",
    "\n",
    "    print(message)"
   ]
  },
  {
   "cell_type": "markdown",
   "id": "5a5f70d8-d2b5-47cd-b59d-014886b5abcd",
   "metadata": {
    "tags": []
   },
   "source": [
    "### Concatenation"
   ]
  },
  {
   "cell_type": "code",
   "execution_count": 24,
   "id": "2fceb433-f197-413e-a5d6-5eebb73090ef",
   "metadata": {},
   "outputs": [
    {
     "data": {
      "text/plain": [
       "BaseModel(\n",
       "  (linear_in): Linear(in_features=999, out_features=512, bias=True)\n",
       "  (relu): ReLU()\n",
       "  (clf): Linear(in_features=512, out_features=120, bias=True)\n",
       ")"
      ]
     },
     "execution_count": 24,
     "metadata": {},
     "output_type": "execute_result"
    }
   ],
   "source": [
    "model = BaseModel(\n",
    "    input_size=batch[0].shape[1],\n",
    "    hidden_size=512,\n",
    "    n_classes=len(daily_labels_map['target_midas_and_entity2id']),\n",
    "    batch_size=daily_train_loader.batch_size\n",
    ")\n",
    "\n",
    "model.to(DEVICE)"
   ]
  },
  {
   "cell_type": "code",
   "execution_count": 25,
   "id": "8b52f1f6-2304-460b-9485-482f022ed4b8",
   "metadata": {},
   "outputs": [],
   "source": [
    "criterion = nn.CrossEntropyLoss()\n",
    "optimizer = torch.optim.Adam(params=model.parameters())"
   ]
  },
  {
   "cell_type": "code",
   "execution_count": 26,
   "id": "ac2a58d1-3ccc-4f6d-a87f-6885aa1796cb",
   "metadata": {},
   "outputs": [],
   "source": [
    "# train loop\n",
    "NUM_EPOCHS = 10  # Задайте количество эпох\n",
    "\n",
    "TRAIN_SIZE = int(np.ceil(len(daily_train_loader.dataset) / daily_train_loader.batch_size))\n",
    "TEST_SIZE = int(np.ceil(len(daily_test_loader.dataset) / daily_test_loader.batch_size))\n",
    "\n",
    "train_losses = list()\n",
    "test_losses = list()\n",
    "\n",
    "test_f1 = list()\n",
    "test_acc = list()"
   ]
  },
  {
   "cell_type": "code",
   "execution_count": 27,
   "id": "904935d7-e77f-4798-928f-da792b66c196",
   "metadata": {
    "tags": []
   },
   "outputs": [
    {
     "data": {
      "application/vnd.jupyter.widget-view+json": {
       "model_id": "5237e210c3c44e6f9e9c9c13fc01f51d",
       "version_major": 2,
       "version_minor": 0
      },
      "text/plain": [
       "Train epoch 1:   0%|          | 0/59 [00:00<?, ?it/s]"
      ]
     },
     "metadata": {},
     "output_type": "display_data"
    },
    {
     "data": {
      "application/vnd.jupyter.widget-view+json": {
       "model_id": "5887413b2eed48e6966f410143737ca1",
       "version_major": 2,
       "version_minor": 0
      },
      "text/plain": [
       "Val epoch 1:   0%|          | 0/15 [00:00<?, ?it/s]"
      ]
     },
     "metadata": {},
     "output_type": "display_data"
    },
    {
     "name": "stdout",
     "output_type": "stream",
     "text": [
      "Epoch: 1\n",
      "Train loss - 3.8350 | Test loss - 3.2671\n",
      "TEST: f1 weighted - 0.1252 | accuracy - 0.2505\n",
      "\n"
     ]
    },
    {
     "data": {
      "application/vnd.jupyter.widget-view+json": {
       "model_id": "3e8cbd165a7c43028bebd4a6b6526363",
       "version_major": 2,
       "version_minor": 0
      },
      "text/plain": [
       "Train epoch 2:   0%|          | 0/59 [00:00<?, ?it/s]"
      ]
     },
     "metadata": {},
     "output_type": "display_data"
    },
    {
     "data": {
      "application/vnd.jupyter.widget-view+json": {
       "model_id": "8352d95aa7594b4eb8f04a64363b7c88",
       "version_major": 2,
       "version_minor": 0
      },
      "text/plain": [
       "Val epoch 2:   0%|          | 0/15 [00:00<?, ?it/s]"
      ]
     },
     "metadata": {},
     "output_type": "display_data"
    },
    {
     "name": "stdout",
     "output_type": "stream",
     "text": [
      "Epoch: 2\n",
      "Train loss - 3.0736 | Test loss - 2.9968\n",
      "TEST: f1 weighted - 0.2077 | accuracy - 0.3206\n",
      "\n"
     ]
    },
    {
     "data": {
      "application/vnd.jupyter.widget-view+json": {
       "model_id": "0e165226bf2e4224b6b2784ce74d5f66",
       "version_major": 2,
       "version_minor": 0
      },
      "text/plain": [
       "Train epoch 3:   0%|          | 0/59 [00:00<?, ?it/s]"
      ]
     },
     "metadata": {},
     "output_type": "display_data"
    },
    {
     "data": {
      "application/vnd.jupyter.widget-view+json": {
       "model_id": "718cdca7335b4d409050c86b60d90717",
       "version_major": 2,
       "version_minor": 0
      },
      "text/plain": [
       "Val epoch 3:   0%|          | 0/15 [00:00<?, ?it/s]"
      ]
     },
     "metadata": {},
     "output_type": "display_data"
    },
    {
     "name": "stdout",
     "output_type": "stream",
     "text": [
      "Epoch: 3\n",
      "Train loss - 2.5982 | Test loss - 2.7862\n",
      "TEST: f1 weighted - 0.2901 | accuracy - 0.3758\n",
      "\n"
     ]
    },
    {
     "data": {
      "application/vnd.jupyter.widget-view+json": {
       "model_id": "4daf0cd6c4d04f2fbe319bb78665a2d3",
       "version_major": 2,
       "version_minor": 0
      },
      "text/plain": [
       "Train epoch 4:   0%|          | 0/59 [00:00<?, ?it/s]"
      ]
     },
     "metadata": {},
     "output_type": "display_data"
    },
    {
     "data": {
      "application/vnd.jupyter.widget-view+json": {
       "model_id": "f3c86bac0a634438bbf79584fda4204e",
       "version_major": 2,
       "version_minor": 0
      },
      "text/plain": [
       "Val epoch 4:   0%|          | 0/15 [00:00<?, ?it/s]"
      ]
     },
     "metadata": {},
     "output_type": "display_data"
    },
    {
     "name": "stdout",
     "output_type": "stream",
     "text": [
      "Epoch: 4\n",
      "Train loss - 2.1431 | Test loss - 2.6670\n",
      "TEST: f1 weighted - 0.3265 | accuracy - 0.3970\n",
      "\n"
     ]
    },
    {
     "data": {
      "application/vnd.jupyter.widget-view+json": {
       "model_id": "109bd43e6de544e9b88699d7eaea5db5",
       "version_major": 2,
       "version_minor": 0
      },
      "text/plain": [
       "Train epoch 5:   0%|          | 0/59 [00:00<?, ?it/s]"
      ]
     },
     "metadata": {},
     "output_type": "display_data"
    },
    {
     "data": {
      "application/vnd.jupyter.widget-view+json": {
       "model_id": "41d600d42a014cf9904d07345e0ae78b",
       "version_major": 2,
       "version_minor": 0
      },
      "text/plain": [
       "Val epoch 5:   0%|          | 0/15 [00:00<?, ?it/s]"
      ]
     },
     "metadata": {},
     "output_type": "display_data"
    },
    {
     "name": "stdout",
     "output_type": "stream",
     "text": [
      "Epoch: 5\n",
      "Train loss - 1.7331 | Test loss - 2.5791\n",
      "TEST: f1 weighted - 0.3540 | accuracy - 0.4246\n",
      "\n"
     ]
    },
    {
     "data": {
      "application/vnd.jupyter.widget-view+json": {
       "model_id": "61fdbbdf9bb442609c58831bd52c0429",
       "version_major": 2,
       "version_minor": 0
      },
      "text/plain": [
       "Train epoch 6:   0%|          | 0/59 [00:00<?, ?it/s]"
      ]
     },
     "metadata": {},
     "output_type": "display_data"
    },
    {
     "data": {
      "application/vnd.jupyter.widget-view+json": {
       "model_id": "307ae73b90774d01936f5b76981e9008",
       "version_major": 2,
       "version_minor": 0
      },
      "text/plain": [
       "Val epoch 6:   0%|          | 0/15 [00:00<?, ?it/s]"
      ]
     },
     "metadata": {},
     "output_type": "display_data"
    },
    {
     "name": "stdout",
     "output_type": "stream",
     "text": [
      "Epoch: 6\n",
      "Train loss - 1.3598 | Test loss - 2.5301\n",
      "TEST: f1 weighted - 0.4046 | accuracy - 0.4565\n",
      "\n"
     ]
    },
    {
     "data": {
      "application/vnd.jupyter.widget-view+json": {
       "model_id": "fc52bfd8c49144ccbf7aadeb4723457b",
       "version_major": 2,
       "version_minor": 0
      },
      "text/plain": [
       "Train epoch 7:   0%|          | 0/59 [00:00<?, ?it/s]"
      ]
     },
     "metadata": {},
     "output_type": "display_data"
    },
    {
     "data": {
      "application/vnd.jupyter.widget-view+json": {
       "model_id": "412f84a9198049c2805e04d56f16594f",
       "version_major": 2,
       "version_minor": 0
      },
      "text/plain": [
       "Val epoch 7:   0%|          | 0/15 [00:00<?, ?it/s]"
      ]
     },
     "metadata": {},
     "output_type": "display_data"
    },
    {
     "name": "stdout",
     "output_type": "stream",
     "text": [
      "Epoch: 7\n",
      "Train loss - 1.0080 | Test loss - 2.5171\n",
      "TEST: f1 weighted - 0.4015 | accuracy - 0.4501\n",
      "\n"
     ]
    },
    {
     "data": {
      "application/vnd.jupyter.widget-view+json": {
       "model_id": "8f250d5ee36b4460ba1bbfe72bbcc825",
       "version_major": 2,
       "version_minor": 0
      },
      "text/plain": [
       "Train epoch 8:   0%|          | 0/59 [00:00<?, ?it/s]"
      ]
     },
     "metadata": {},
     "output_type": "display_data"
    },
    {
     "data": {
      "application/vnd.jupyter.widget-view+json": {
       "model_id": "cd32748d789e43a7b438e4526bc93557",
       "version_major": 2,
       "version_minor": 0
      },
      "text/plain": [
       "Val epoch 8:   0%|          | 0/15 [00:00<?, ?it/s]"
      ]
     },
     "metadata": {},
     "output_type": "display_data"
    },
    {
     "name": "stdout",
     "output_type": "stream",
     "text": [
      "Epoch: 8\n",
      "Train loss - 0.7256 | Test loss - 2.5165\n",
      "TEST: f1 weighted - 0.4255 | accuracy - 0.4565\n",
      "\n"
     ]
    },
    {
     "data": {
      "application/vnd.jupyter.widget-view+json": {
       "model_id": "2572943d73384d4aadb6a09624224672",
       "version_major": 2,
       "version_minor": 0
      },
      "text/plain": [
       "Train epoch 9:   0%|          | 0/59 [00:00<?, ?it/s]"
      ]
     },
     "metadata": {},
     "output_type": "display_data"
    },
    {
     "data": {
      "application/vnd.jupyter.widget-view+json": {
       "model_id": "dcc9742b7d7146dcae025eb77326a04d",
       "version_major": 2,
       "version_minor": 0
      },
      "text/plain": [
       "Val epoch 9:   0%|          | 0/15 [00:00<?, ?it/s]"
      ]
     },
     "metadata": {},
     "output_type": "display_data"
    },
    {
     "name": "stdout",
     "output_type": "stream",
     "text": [
      "Epoch: 9\n",
      "Train loss - 0.5017 | Test loss - 2.5462\n",
      "TEST: f1 weighted - 0.4316 | accuracy - 0.4586\n",
      "\n"
     ]
    },
    {
     "data": {
      "application/vnd.jupyter.widget-view+json": {
       "model_id": "fd93821586b14c80ba4f37147cea9fa2",
       "version_major": 2,
       "version_minor": 0
      },
      "text/plain": [
       "Train epoch 10:   0%|          | 0/59 [00:00<?, ?it/s]"
      ]
     },
     "metadata": {},
     "output_type": "display_data"
    },
    {
     "data": {
      "application/vnd.jupyter.widget-view+json": {
       "model_id": "d2f57382d03743b4a938e6e96f08e9b7",
       "version_major": 2,
       "version_minor": 0
      },
      "text/plain": [
       "Val epoch 10:   0%|          | 0/15 [00:00<?, ?it/s]"
      ]
     },
     "metadata": {},
     "output_type": "display_data"
    },
    {
     "name": "stdout",
     "output_type": "stream",
     "text": [
      "Epoch: 10\n",
      "Train loss - 0.3392 | Test loss - 2.6038\n",
      "TEST: f1 weighted - 0.4323 | accuracy - 0.4565\n",
      "\n"
     ]
    }
   ],
   "source": [
    "for e in range(1, NUM_EPOCHS+1):\n",
    "    \n",
    "    epoch_train_losses = train_single_model(\n",
    "        model=model, device=DEVICE, dataloader=daily_train_loader, \n",
    "        n_batches=TRAIN_SIZE, epoch=e,\n",
    "        loss_fn=criterion, optimizer=optimizer,\n",
    "        clip=3., label_type='concatenation')\n",
    "    \n",
    "    epoch_test_losses, epoch_f1, epoch_acc = evaluate_single_model(\n",
    "        model=model, device=DEVICE, dataloader=daily_test_loader, \n",
    "        n_batches=TEST_SIZE, epoch=e, loss_fn=criterion, label_type='concatenation')\n",
    "    \n",
    "    message = f'Epoch: {e}\\n'\n",
    "    message += f'Train loss - {np.mean(epoch_train_losses):.4f} | Test loss - {np.mean(epoch_test_losses):.4f}\\n'\n",
    "    message += f'TEST: f1 weighted - {epoch_f1:.4f} | accuracy - {epoch_acc:.4f}\\n'\n",
    "\n",
    "    print(message)"
   ]
  },
  {
   "cell_type": "markdown",
   "id": "4a423b2d-f4b4-4aab-8199-4f0477e2d882",
   "metadata": {
    "tags": []
   },
   "source": [
    "## Topical Chat"
   ]
  },
  {
   "cell_type": "code",
   "execution_count": 6,
   "id": "72abec03-9429-4f2c-ad47-518288f99660",
   "metadata": {},
   "outputs": [
    {
     "data": {
      "text/plain": [
       "(8093, 2024)"
      ]
     },
     "execution_count": 6,
     "metadata": {},
     "output_type": "execute_result"
    }
   ],
   "source": [
    "topical_train, topical_test = train_test_split(topical, test_size=0.2, random_state=42)\n",
    "len(topical_train), len(topical_test)"
   ]
  },
  {
   "cell_type": "code",
   "execution_count": 7,
   "id": "f4c1c4af-ce28-4b8e-9ba0-87fda2796af4",
   "metadata": {},
   "outputs": [
    {
     "data": {
      "text/plain": [
       "TfidfVectorizer(lowercase=False, max_df=0.7, max_features=300, min_df=3,\n",
       "                preprocessor=<function dummy_fn at 0x00000275C37A45E0>,\n",
       "                token_pattern=None,\n",
       "                tokenizer=<function dummy_fn at 0x00000275C37A45E0>)"
      ]
     },
     "execution_count": 7,
     "metadata": {},
     "output_type": "execute_result"
    }
   ],
   "source": [
    "tokenizer = English().tokenizer\n",
    "topical_tfidf = pickle.load(open(\"models/topical_tfidf_3_08_300.pkl\", 'rb'))\n",
    "topical_tfidf"
   ]
  },
  {
   "cell_type": "code",
   "execution_count": 8,
   "id": "47bd6109-0fa1-441a-b8eb-a1bc2b28e7f4",
   "metadata": {},
   "outputs": [
    {
     "data": {
      "text/plain": [
       "8093"
      ]
     },
     "execution_count": 8,
     "metadata": {},
     "output_type": "execute_result"
    }
   ],
   "source": [
    "topical_train_dataset = SkillDataset(\n",
    "    topical_train, topical_labels_map, \n",
    "    tokenizer=tokenizer,\n",
    "    tfidf_model=topical_tfidf\n",
    ")\n",
    "\n",
    "len(topical_train_dataset)"
   ]
  },
  {
   "cell_type": "code",
   "execution_count": 9,
   "id": "09f551cd-69f6-47e7-a60c-0212e9736693",
   "metadata": {},
   "outputs": [
    {
     "name": "stdout",
     "output_type": "stream",
     "text": [
      "(1005,) \n",
      "\n",
      "[2, 1, 6] \n",
      "\n"
     ]
    }
   ],
   "source": [
    "print(topical_train_dataset[42][0].shape, '\\n') # x_vec\n",
    "print(topical_train_dataset[42][1], '\\n') # y labels: ([midas_id, entity_id], midas_and_entity_id)"
   ]
  },
  {
   "cell_type": "code",
   "execution_count": 10,
   "id": "e4d23db6-57f4-485f-9136-2d6eb9157c4c",
   "metadata": {},
   "outputs": [
    {
     "data": {
      "text/plain": [
       "2024"
      ]
     },
     "execution_count": 10,
     "metadata": {},
     "output_type": "execute_result"
    }
   ],
   "source": [
    "topical_test_dataset = SkillDataset(\n",
    "    topical_test, topical_labels_map, \n",
    "    tokenizer=tokenizer,\n",
    "    tfidf_model=topical_tfidf\n",
    ")\n",
    "\n",
    "len(topical_test_dataset)"
   ]
  },
  {
   "cell_type": "code",
   "execution_count": 11,
   "id": "db30d9a6-9a7e-48f6-8a07-6255e54d5fd2",
   "metadata": {},
   "outputs": [],
   "source": [
    "topical_train_loader = DataLoader(\n",
    "    topical_train_dataset, batch_size=32, \n",
    "    shuffle=True, collate_fn=collate_fn)\n",
    "\n",
    "topical_test_loader = DataLoader(\n",
    "    topical_test_dataset, batch_size=32, \n",
    "    shuffle=False, collate_fn=collate_fn)"
   ]
  },
  {
   "cell_type": "code",
   "execution_count": 12,
   "id": "b8e200d1-3ae6-4010-9922-c51b3b4c9b72",
   "metadata": {},
   "outputs": [
    {
     "data": {
      "text/plain": [
       "(torch.Size([32, 1005]), torch.Size([32, 3]))"
      ]
     },
     "execution_count": 12,
     "metadata": {},
     "output_type": "execute_result"
    }
   ],
   "source": [
    "for x, y in topical_train_loader:\n",
    "    break\n",
    "\n",
    "x.shape, y.shape"
   ]
  },
  {
   "cell_type": "code",
   "execution_count": 13,
   "id": "b140f3a4-faed-4c22-9b4d-e9353f2b356d",
   "metadata": {},
   "outputs": [
    {
     "data": {
      "application/vnd.jupyter.widget-view+json": {
       "model_id": "327009bb4b5b4812bfcc2111c4f72b59",
       "version_major": 2,
       "version_minor": 0
      },
      "text/plain": [
       "Testing:   0%|          | 0/8093 [00:00<?, ?it/s]"
      ]
     },
     "metadata": {},
     "output_type": "display_data"
    }
   ],
   "source": [
    "progress_bar = tqdm(total=len(topical_train_loader.dataset), desc='Testing')\n",
    "\n",
    "for batch in topical_train_loader:\n",
    "    progress_bar.update(batch[0].size(0))\n",
    "    \n",
    "progress_bar.close()"
   ]
  },
  {
   "cell_type": "code",
   "execution_count": 14,
   "id": "7eb6087a-d92c-4ff2-bc74-00488c5ea4fe",
   "metadata": {},
   "outputs": [
    {
     "data": {
      "application/vnd.jupyter.widget-view+json": {
       "model_id": "daed4816f4624de7a82e049d62c48447",
       "version_major": 2,
       "version_minor": 0
      },
      "text/plain": [
       "Testing:   0%|          | 0/2024 [00:00<?, ?it/s]"
      ]
     },
     "metadata": {},
     "output_type": "display_data"
    }
   ],
   "source": [
    "progress_bar = tqdm(total=len(topical_test_loader.dataset), desc='Testing')\n",
    "\n",
    "for batch in topical_test_loader:\n",
    "    progress_bar.update(batch[0].size(0))\n",
    "    \n",
    "progress_bar.close()"
   ]
  },
  {
   "cell_type": "markdown",
   "id": "dcd35380-4f8b-4567-ae7c-49be57b4e5c3",
   "metadata": {
    "tags": []
   },
   "source": [
    "### MIDAS"
   ]
  },
  {
   "cell_type": "code",
   "execution_count": 15,
   "id": "13f4a572-790d-4104-86bd-37eb32964fe9",
   "metadata": {},
   "outputs": [
    {
     "data": {
      "text/plain": [
       "BaseModel(\n",
       "  (linear_in): Linear(in_features=1005, out_features=512, bias=True)\n",
       "  (relu): ReLU()\n",
       "  (clf): Linear(in_features=512, out_features=13, bias=True)\n",
       ")"
      ]
     },
     "execution_count": 15,
     "metadata": {},
     "output_type": "execute_result"
    }
   ],
   "source": [
    "model = BaseModel(\n",
    "    input_size=batch[0].shape[1],\n",
    "    hidden_size=512,\n",
    "    n_classes=len(topical_labels_map['target_midas2id']),\n",
    "    batch_size=topical_train_loader.batch_size\n",
    ")\n",
    "\n",
    "model.to(DEVICE)"
   ]
  },
  {
   "cell_type": "code",
   "execution_count": 16,
   "id": "6ab6bdb6-3811-4485-b405-5aa05273d170",
   "metadata": {},
   "outputs": [],
   "source": [
    "criterion = nn.CrossEntropyLoss()\n",
    "optimizer = torch.optim.Adam(params=model.parameters())"
   ]
  },
  {
   "cell_type": "code",
   "execution_count": 17,
   "id": "513cf1ae-0204-490c-a54a-dbcc4fe02b80",
   "metadata": {},
   "outputs": [],
   "source": [
    "# train loop\n",
    "NUM_EPOCHS = 5  # Задайте количество эпох\n",
    "\n",
    "TRAIN_SIZE = int(np.ceil(len(topical_train_loader.dataset) / topical_train_loader.batch_size))\n",
    "TEST_SIZE = int(np.ceil(len(topical_test_loader.dataset) / topical_test_loader.batch_size))\n",
    "\n",
    "train_losses = list()\n",
    "test_losses = list()\n",
    "\n",
    "test_f1 = list()\n",
    "test_acc = list()"
   ]
  },
  {
   "cell_type": "code",
   "execution_count": 18,
   "id": "57ae2caf-d1f3-4f89-9a51-78efd702fa5b",
   "metadata": {
    "tags": []
   },
   "outputs": [
    {
     "data": {
      "application/vnd.jupyter.widget-view+json": {
       "model_id": "8baecb84191442e6b2bce6624a6b1bd9",
       "version_major": 2,
       "version_minor": 0
      },
      "text/plain": [
       "Train epoch 1:   0%|          | 0/253 [00:00<?, ?it/s]"
      ]
     },
     "metadata": {},
     "output_type": "display_data"
    },
    {
     "ename": "KeyboardInterrupt",
     "evalue": "",
     "output_type": "error",
     "traceback": [
      "\u001b[1;31m---------------------------------------------------------------------------\u001b[0m",
      "\u001b[1;31mKeyboardInterrupt\u001b[0m                         Traceback (most recent call last)",
      "\u001b[1;32m~\\AppData\\Local\\Temp/ipykernel_12648/2417607642.py\u001b[0m in \u001b[0;36m<module>\u001b[1;34m\u001b[0m\n\u001b[0;32m      1\u001b[0m \u001b[1;32mfor\u001b[0m \u001b[0me\u001b[0m \u001b[1;32min\u001b[0m \u001b[0mrange\u001b[0m\u001b[1;33m(\u001b[0m\u001b[1;36m1\u001b[0m\u001b[1;33m,\u001b[0m \u001b[0mNUM_EPOCHS\u001b[0m\u001b[1;33m+\u001b[0m\u001b[1;36m1\u001b[0m\u001b[1;33m)\u001b[0m\u001b[1;33m:\u001b[0m\u001b[1;33m\u001b[0m\u001b[1;33m\u001b[0m\u001b[0m\n\u001b[0;32m      2\u001b[0m \u001b[1;33m\u001b[0m\u001b[0m\n\u001b[1;32m----> 3\u001b[1;33m     epoch_train_losses = train_single_model(\n\u001b[0m\u001b[0;32m      4\u001b[0m         \u001b[0mmodel\u001b[0m\u001b[1;33m=\u001b[0m\u001b[0mmodel\u001b[0m\u001b[1;33m,\u001b[0m \u001b[0mdevice\u001b[0m\u001b[1;33m=\u001b[0m\u001b[0mDEVICE\u001b[0m\u001b[1;33m,\u001b[0m \u001b[0mdataloader\u001b[0m\u001b[1;33m=\u001b[0m\u001b[0mtopical_train_loader\u001b[0m\u001b[1;33m,\u001b[0m\u001b[1;33m\u001b[0m\u001b[1;33m\u001b[0m\u001b[0m\n\u001b[0;32m      5\u001b[0m         \u001b[0mn_batches\u001b[0m\u001b[1;33m=\u001b[0m\u001b[0mTRAIN_SIZE\u001b[0m\u001b[1;33m,\u001b[0m \u001b[0mepoch\u001b[0m\u001b[1;33m=\u001b[0m\u001b[0me\u001b[0m\u001b[1;33m,\u001b[0m\u001b[1;33m\u001b[0m\u001b[1;33m\u001b[0m\u001b[0m\n",
      "\u001b[1;32m~\\Documents\\hse\\deeppavlov\\autoskill\\utils\\base_torch_utils.py\u001b[0m in \u001b[0;36mtrain_single_model\u001b[1;34m(model, device, dataloader, n_batches, epoch, loss_fn, optimizer, label_type, clip, last_n_losses, verbose)\u001b[0m\n\u001b[0;32m     48\u001b[0m     \u001b[0mmodel\u001b[0m\u001b[1;33m.\u001b[0m\u001b[0mtrain\u001b[0m\u001b[1;33m(\u001b[0m\u001b[1;33m)\u001b[0m\u001b[1;33m\u001b[0m\u001b[1;33m\u001b[0m\u001b[0m\n\u001b[0;32m     49\u001b[0m \u001b[1;33m\u001b[0m\u001b[0m\n\u001b[1;32m---> 50\u001b[1;33m     \u001b[1;32mfor\u001b[0m \u001b[0mx\u001b[0m\u001b[1;33m,\u001b[0m \u001b[0mlabels\u001b[0m \u001b[1;32min\u001b[0m \u001b[0mdataloader\u001b[0m\u001b[1;33m:\u001b[0m\u001b[1;33m\u001b[0m\u001b[1;33m\u001b[0m\u001b[0m\n\u001b[0m\u001b[0;32m     51\u001b[0m \u001b[1;33m\u001b[0m\u001b[0m\n\u001b[0;32m     52\u001b[0m         \u001b[0moptimizer\u001b[0m\u001b[1;33m.\u001b[0m\u001b[0mzero_grad\u001b[0m\u001b[1;33m(\u001b[0m\u001b[1;33m)\u001b[0m\u001b[1;33m\u001b[0m\u001b[1;33m\u001b[0m\u001b[0m\n",
      "\u001b[1;32mc:\\users\\denis\\documents\\hse\\deeppavlov\\autoskill\\venv\\lib\\site-packages\\torch\\utils\\data\\dataloader.py\u001b[0m in \u001b[0;36m__next__\u001b[1;34m(self)\u001b[0m\n\u001b[0;32m    519\u001b[0m             \u001b[1;32mif\u001b[0m \u001b[0mself\u001b[0m\u001b[1;33m.\u001b[0m\u001b[0m_sampler_iter\u001b[0m \u001b[1;32mis\u001b[0m \u001b[1;32mNone\u001b[0m\u001b[1;33m:\u001b[0m\u001b[1;33m\u001b[0m\u001b[1;33m\u001b[0m\u001b[0m\n\u001b[0;32m    520\u001b[0m                 \u001b[0mself\u001b[0m\u001b[1;33m.\u001b[0m\u001b[0m_reset\u001b[0m\u001b[1;33m(\u001b[0m\u001b[1;33m)\u001b[0m\u001b[1;33m\u001b[0m\u001b[1;33m\u001b[0m\u001b[0m\n\u001b[1;32m--> 521\u001b[1;33m             \u001b[0mdata\u001b[0m \u001b[1;33m=\u001b[0m \u001b[0mself\u001b[0m\u001b[1;33m.\u001b[0m\u001b[0m_next_data\u001b[0m\u001b[1;33m(\u001b[0m\u001b[1;33m)\u001b[0m\u001b[1;33m\u001b[0m\u001b[1;33m\u001b[0m\u001b[0m\n\u001b[0m\u001b[0;32m    522\u001b[0m             \u001b[0mself\u001b[0m\u001b[1;33m.\u001b[0m\u001b[0m_num_yielded\u001b[0m \u001b[1;33m+=\u001b[0m \u001b[1;36m1\u001b[0m\u001b[1;33m\u001b[0m\u001b[1;33m\u001b[0m\u001b[0m\n\u001b[0;32m    523\u001b[0m             \u001b[1;32mif\u001b[0m \u001b[0mself\u001b[0m\u001b[1;33m.\u001b[0m\u001b[0m_dataset_kind\u001b[0m \u001b[1;33m==\u001b[0m \u001b[0m_DatasetKind\u001b[0m\u001b[1;33m.\u001b[0m\u001b[0mIterable\u001b[0m \u001b[1;32mand\u001b[0m\u001b[0;31m \u001b[0m\u001b[0;31m\\\u001b[0m\u001b[1;33m\u001b[0m\u001b[1;33m\u001b[0m\u001b[0m\n",
      "\u001b[1;32mc:\\users\\denis\\documents\\hse\\deeppavlov\\autoskill\\venv\\lib\\site-packages\\torch\\utils\\data\\dataloader.py\u001b[0m in \u001b[0;36m_next_data\u001b[1;34m(self)\u001b[0m\n\u001b[0;32m    559\u001b[0m     \u001b[1;32mdef\u001b[0m \u001b[0m_next_data\u001b[0m\u001b[1;33m(\u001b[0m\u001b[0mself\u001b[0m\u001b[1;33m)\u001b[0m\u001b[1;33m:\u001b[0m\u001b[1;33m\u001b[0m\u001b[1;33m\u001b[0m\u001b[0m\n\u001b[0;32m    560\u001b[0m         \u001b[0mindex\u001b[0m \u001b[1;33m=\u001b[0m \u001b[0mself\u001b[0m\u001b[1;33m.\u001b[0m\u001b[0m_next_index\u001b[0m\u001b[1;33m(\u001b[0m\u001b[1;33m)\u001b[0m  \u001b[1;31m# may raise StopIteration\u001b[0m\u001b[1;33m\u001b[0m\u001b[1;33m\u001b[0m\u001b[0m\n\u001b[1;32m--> 561\u001b[1;33m         \u001b[0mdata\u001b[0m \u001b[1;33m=\u001b[0m \u001b[0mself\u001b[0m\u001b[1;33m.\u001b[0m\u001b[0m_dataset_fetcher\u001b[0m\u001b[1;33m.\u001b[0m\u001b[0mfetch\u001b[0m\u001b[1;33m(\u001b[0m\u001b[0mindex\u001b[0m\u001b[1;33m)\u001b[0m  \u001b[1;31m# may raise StopIteration\u001b[0m\u001b[1;33m\u001b[0m\u001b[1;33m\u001b[0m\u001b[0m\n\u001b[0m\u001b[0;32m    562\u001b[0m         \u001b[1;32mif\u001b[0m \u001b[0mself\u001b[0m\u001b[1;33m.\u001b[0m\u001b[0m_pin_memory\u001b[0m\u001b[1;33m:\u001b[0m\u001b[1;33m\u001b[0m\u001b[1;33m\u001b[0m\u001b[0m\n\u001b[0;32m    563\u001b[0m             \u001b[0mdata\u001b[0m \u001b[1;33m=\u001b[0m \u001b[0m_utils\u001b[0m\u001b[1;33m.\u001b[0m\u001b[0mpin_memory\u001b[0m\u001b[1;33m.\u001b[0m\u001b[0mpin_memory\u001b[0m\u001b[1;33m(\u001b[0m\u001b[0mdata\u001b[0m\u001b[1;33m)\u001b[0m\u001b[1;33m\u001b[0m\u001b[1;33m\u001b[0m\u001b[0m\n",
      "\u001b[1;32mc:\\users\\denis\\documents\\hse\\deeppavlov\\autoskill\\venv\\lib\\site-packages\\torch\\utils\\data\\_utils\\fetch.py\u001b[0m in \u001b[0;36mfetch\u001b[1;34m(self, possibly_batched_index)\u001b[0m\n\u001b[0;32m     47\u001b[0m     \u001b[1;32mdef\u001b[0m \u001b[0mfetch\u001b[0m\u001b[1;33m(\u001b[0m\u001b[0mself\u001b[0m\u001b[1;33m,\u001b[0m \u001b[0mpossibly_batched_index\u001b[0m\u001b[1;33m)\u001b[0m\u001b[1;33m:\u001b[0m\u001b[1;33m\u001b[0m\u001b[1;33m\u001b[0m\u001b[0m\n\u001b[0;32m     48\u001b[0m         \u001b[1;32mif\u001b[0m \u001b[0mself\u001b[0m\u001b[1;33m.\u001b[0m\u001b[0mauto_collation\u001b[0m\u001b[1;33m:\u001b[0m\u001b[1;33m\u001b[0m\u001b[1;33m\u001b[0m\u001b[0m\n\u001b[1;32m---> 49\u001b[1;33m             \u001b[0mdata\u001b[0m \u001b[1;33m=\u001b[0m \u001b[1;33m[\u001b[0m\u001b[0mself\u001b[0m\u001b[1;33m.\u001b[0m\u001b[0mdataset\u001b[0m\u001b[1;33m[\u001b[0m\u001b[0midx\u001b[0m\u001b[1;33m]\u001b[0m \u001b[1;32mfor\u001b[0m \u001b[0midx\u001b[0m \u001b[1;32min\u001b[0m \u001b[0mpossibly_batched_index\u001b[0m\u001b[1;33m]\u001b[0m\u001b[1;33m\u001b[0m\u001b[1;33m\u001b[0m\u001b[0m\n\u001b[0m\u001b[0;32m     50\u001b[0m         \u001b[1;32melse\u001b[0m\u001b[1;33m:\u001b[0m\u001b[1;33m\u001b[0m\u001b[1;33m\u001b[0m\u001b[0m\n\u001b[0;32m     51\u001b[0m             \u001b[0mdata\u001b[0m \u001b[1;33m=\u001b[0m \u001b[0mself\u001b[0m\u001b[1;33m.\u001b[0m\u001b[0mdataset\u001b[0m\u001b[1;33m[\u001b[0m\u001b[0mpossibly_batched_index\u001b[0m\u001b[1;33m]\u001b[0m\u001b[1;33m\u001b[0m\u001b[1;33m\u001b[0m\u001b[0m\n",
      "\u001b[1;32mc:\\users\\denis\\documents\\hse\\deeppavlov\\autoskill\\venv\\lib\\site-packages\\torch\\utils\\data\\_utils\\fetch.py\u001b[0m in \u001b[0;36m<listcomp>\u001b[1;34m(.0)\u001b[0m\n\u001b[0;32m     47\u001b[0m     \u001b[1;32mdef\u001b[0m \u001b[0mfetch\u001b[0m\u001b[1;33m(\u001b[0m\u001b[0mself\u001b[0m\u001b[1;33m,\u001b[0m \u001b[0mpossibly_batched_index\u001b[0m\u001b[1;33m)\u001b[0m\u001b[1;33m:\u001b[0m\u001b[1;33m\u001b[0m\u001b[1;33m\u001b[0m\u001b[0m\n\u001b[0;32m     48\u001b[0m         \u001b[1;32mif\u001b[0m \u001b[0mself\u001b[0m\u001b[1;33m.\u001b[0m\u001b[0mauto_collation\u001b[0m\u001b[1;33m:\u001b[0m\u001b[1;33m\u001b[0m\u001b[1;33m\u001b[0m\u001b[0m\n\u001b[1;32m---> 49\u001b[1;33m             \u001b[0mdata\u001b[0m \u001b[1;33m=\u001b[0m \u001b[1;33m[\u001b[0m\u001b[0mself\u001b[0m\u001b[1;33m.\u001b[0m\u001b[0mdataset\u001b[0m\u001b[1;33m[\u001b[0m\u001b[0midx\u001b[0m\u001b[1;33m]\u001b[0m \u001b[1;32mfor\u001b[0m \u001b[0midx\u001b[0m \u001b[1;32min\u001b[0m \u001b[0mpossibly_batched_index\u001b[0m\u001b[1;33m]\u001b[0m\u001b[1;33m\u001b[0m\u001b[1;33m\u001b[0m\u001b[0m\n\u001b[0m\u001b[0;32m     50\u001b[0m         \u001b[1;32melse\u001b[0m\u001b[1;33m:\u001b[0m\u001b[1;33m\u001b[0m\u001b[1;33m\u001b[0m\u001b[0m\n\u001b[0;32m     51\u001b[0m             \u001b[0mdata\u001b[0m \u001b[1;33m=\u001b[0m \u001b[0mself\u001b[0m\u001b[1;33m.\u001b[0m\u001b[0mdataset\u001b[0m\u001b[1;33m[\u001b[0m\u001b[0mpossibly_batched_index\u001b[0m\u001b[1;33m]\u001b[0m\u001b[1;33m\u001b[0m\u001b[1;33m\u001b[0m\u001b[0m\n",
      "\u001b[1;32m~\\Documents\\hse\\deeppavlov\\autoskill\\utils\\autoskill_torch.py\u001b[0m in \u001b[0;36m__getitem__\u001b[1;34m(self, index)\u001b[0m\n\u001b[0;32m     20\u001b[0m         \u001b[0msample\u001b[0m \u001b[1;33m=\u001b[0m \u001b[0mself\u001b[0m\u001b[1;33m.\u001b[0m\u001b[0mdata\u001b[0m\u001b[1;33m[\u001b[0m\u001b[0mindex\u001b[0m\u001b[1;33m]\u001b[0m\u001b[1;33m\u001b[0m\u001b[1;33m\u001b[0m\u001b[0m\n\u001b[0;32m     21\u001b[0m \u001b[1;33m\u001b[0m\u001b[0m\n\u001b[1;32m---> 22\u001b[1;33m         \u001b[0mx_tfidf\u001b[0m \u001b[1;33m=\u001b[0m \u001b[0mself\u001b[0m\u001b[1;33m.\u001b[0m\u001b[0m__vectorize\u001b[0m\u001b[1;33m(\u001b[0m\u001b[0msample\u001b[0m\u001b[1;33m[\u001b[0m\u001b[1;34m'previous_text'\u001b[0m\u001b[1;33m]\u001b[0m\u001b[1;33m)\u001b[0m\u001b[1;33m\u001b[0m\u001b[1;33m\u001b[0m\u001b[0m\n\u001b[0m\u001b[0;32m     23\u001b[0m         \u001b[0mx_midas\u001b[0m \u001b[1;33m=\u001b[0m \u001b[0mself\u001b[0m\u001b[1;33m.\u001b[0m\u001b[0m__norm_midas\u001b[0m\u001b[1;33m(\u001b[0m\u001b[0msample\u001b[0m\u001b[1;33m[\u001b[0m\u001b[1;34m'midas_vectors'\u001b[0m\u001b[1;33m]\u001b[0m\u001b[1;33m)\u001b[0m\u001b[1;33m\u001b[0m\u001b[1;33m\u001b[0m\u001b[0m\n\u001b[0;32m     24\u001b[0m         \u001b[0mx_entities\u001b[0m \u001b[1;33m=\u001b[0m \u001b[0mself\u001b[0m\u001b[1;33m.\u001b[0m\u001b[0m__ohencode\u001b[0m\u001b[1;33m(\u001b[0m\u001b[0msample\u001b[0m\u001b[1;33m[\u001b[0m\u001b[1;34m'previous_entities'\u001b[0m\u001b[1;33m]\u001b[0m\u001b[1;33m)\u001b[0m\u001b[1;33m\u001b[0m\u001b[1;33m\u001b[0m\u001b[0m\n",
      "\u001b[1;32m~\\Documents\\hse\\deeppavlov\\autoskill\\utils\\autoskill_torch.py\u001b[0m in \u001b[0;36m__vectorize\u001b[1;34m(self, texts)\u001b[0m\n\u001b[0;32m     64\u001b[0m         \u001b[0mtexts\u001b[0m \u001b[1;33m=\u001b[0m \u001b[0mself\u001b[0m\u001b[1;33m.\u001b[0m\u001b[0m__tokenize\u001b[0m\u001b[1;33m(\u001b[0m\u001b[0mtexts\u001b[0m\u001b[1;33m)\u001b[0m\u001b[1;33m\u001b[0m\u001b[1;33m\u001b[0m\u001b[0m\n\u001b[0;32m     65\u001b[0m         \u001b[0mmatrix\u001b[0m \u001b[1;33m=\u001b[0m \u001b[0mself\u001b[0m\u001b[1;33m.\u001b[0m\u001b[0mtfidf_model\u001b[0m\u001b[1;33m.\u001b[0m\u001b[0mtransform\u001b[0m\u001b[1;33m(\u001b[0m\u001b[0mtexts\u001b[0m\u001b[1;33m)\u001b[0m\u001b[1;33m\u001b[0m\u001b[1;33m\u001b[0m\u001b[0m\n\u001b[1;32m---> 66\u001b[1;33m         \u001b[1;32mreturn\u001b[0m \u001b[0mmatrix\u001b[0m\u001b[1;33m.\u001b[0m\u001b[0mtodense\u001b[0m\u001b[1;33m(\u001b[0m\u001b[1;33m)\u001b[0m\u001b[1;33m\u001b[0m\u001b[1;33m\u001b[0m\u001b[0m\n\u001b[0m\u001b[0;32m     67\u001b[0m \u001b[1;33m\u001b[0m\u001b[0m\n\u001b[0;32m     68\u001b[0m     \u001b[1;32mdef\u001b[0m \u001b[0m__ohencode\u001b[0m\u001b[1;33m(\u001b[0m\u001b[0mself\u001b[0m\u001b[1;33m,\u001b[0m \u001b[0mentities\u001b[0m\u001b[1;33m)\u001b[0m \u001b[1;33m->\u001b[0m \u001b[0mtorch\u001b[0m\u001b[1;33m.\u001b[0m\u001b[0mTensor\u001b[0m\u001b[1;33m:\u001b[0m\u001b[1;33m\u001b[0m\u001b[1;33m\u001b[0m\u001b[0m\n",
      "\u001b[1;32mc:\\users\\denis\\documents\\hse\\deeppavlov\\autoskill\\venv\\lib\\site-packages\\scipy\\sparse\\base.py\u001b[0m in \u001b[0;36mtodense\u001b[1;34m(self, order, out)\u001b[0m\n\u001b[0;32m    862\u001b[0m             \u001b[0;31m`\u001b[0m\u001b[0mnumpy\u001b[0m\u001b[1;33m.\u001b[0m\u001b[0mmatrix\u001b[0m\u001b[0;31m`\u001b[0m \u001b[0mobject\u001b[0m \u001b[0mthat\u001b[0m \u001b[0mshares\u001b[0m \u001b[0mthe\u001b[0m \u001b[0msame\u001b[0m \u001b[0mmemory\u001b[0m\u001b[1;33m.\u001b[0m\u001b[1;33m\u001b[0m\u001b[1;33m\u001b[0m\u001b[0m\n\u001b[0;32m    863\u001b[0m         \"\"\"\n\u001b[1;32m--> 864\u001b[1;33m         \u001b[1;32mreturn\u001b[0m \u001b[0masmatrix\u001b[0m\u001b[1;33m(\u001b[0m\u001b[0mself\u001b[0m\u001b[1;33m.\u001b[0m\u001b[0mtoarray\u001b[0m\u001b[1;33m(\u001b[0m\u001b[0morder\u001b[0m\u001b[1;33m=\u001b[0m\u001b[0morder\u001b[0m\u001b[1;33m,\u001b[0m \u001b[0mout\u001b[0m\u001b[1;33m=\u001b[0m\u001b[0mout\u001b[0m\u001b[1;33m)\u001b[0m\u001b[1;33m)\u001b[0m\u001b[1;33m\u001b[0m\u001b[1;33m\u001b[0m\u001b[0m\n\u001b[0m\u001b[0;32m    865\u001b[0m \u001b[1;33m\u001b[0m\u001b[0m\n\u001b[0;32m    866\u001b[0m     \u001b[1;32mdef\u001b[0m \u001b[0mtoarray\u001b[0m\u001b[1;33m(\u001b[0m\u001b[0mself\u001b[0m\u001b[1;33m,\u001b[0m \u001b[0morder\u001b[0m\u001b[1;33m=\u001b[0m\u001b[1;32mNone\u001b[0m\u001b[1;33m,\u001b[0m \u001b[0mout\u001b[0m\u001b[1;33m=\u001b[0m\u001b[1;32mNone\u001b[0m\u001b[1;33m)\u001b[0m\u001b[1;33m:\u001b[0m\u001b[1;33m\u001b[0m\u001b[1;33m\u001b[0m\u001b[0m\n",
      "\u001b[1;32mc:\\users\\denis\\documents\\hse\\deeppavlov\\autoskill\\venv\\lib\\site-packages\\scipy\\sparse\\compressed.py\u001b[0m in \u001b[0;36mtoarray\u001b[1;34m(self, order, out)\u001b[0m\n\u001b[0;32m   1048\u001b[0m             \u001b[0my\u001b[0m \u001b[1;33m=\u001b[0m \u001b[0mout\u001b[0m\u001b[1;33m.\u001b[0m\u001b[0mT\u001b[0m\u001b[1;33m\u001b[0m\u001b[1;33m\u001b[0m\u001b[0m\n\u001b[0;32m   1049\u001b[0m         \u001b[0mM\u001b[0m\u001b[1;33m,\u001b[0m \u001b[0mN\u001b[0m \u001b[1;33m=\u001b[0m \u001b[0mx\u001b[0m\u001b[1;33m.\u001b[0m\u001b[0m_swap\u001b[0m\u001b[1;33m(\u001b[0m\u001b[0mx\u001b[0m\u001b[1;33m.\u001b[0m\u001b[0mshape\u001b[0m\u001b[1;33m)\u001b[0m\u001b[1;33m\u001b[0m\u001b[1;33m\u001b[0m\u001b[0m\n\u001b[1;32m-> 1050\u001b[1;33m         \u001b[0mcsr_todense\u001b[0m\u001b[1;33m(\u001b[0m\u001b[0mM\u001b[0m\u001b[1;33m,\u001b[0m \u001b[0mN\u001b[0m\u001b[1;33m,\u001b[0m \u001b[0mx\u001b[0m\u001b[1;33m.\u001b[0m\u001b[0mindptr\u001b[0m\u001b[1;33m,\u001b[0m \u001b[0mx\u001b[0m\u001b[1;33m.\u001b[0m\u001b[0mindices\u001b[0m\u001b[1;33m,\u001b[0m \u001b[0mx\u001b[0m\u001b[1;33m.\u001b[0m\u001b[0mdata\u001b[0m\u001b[1;33m,\u001b[0m \u001b[0my\u001b[0m\u001b[1;33m)\u001b[0m\u001b[1;33m\u001b[0m\u001b[1;33m\u001b[0m\u001b[0m\n\u001b[0m\u001b[0;32m   1051\u001b[0m         \u001b[1;32mreturn\u001b[0m \u001b[0mout\u001b[0m\u001b[1;33m\u001b[0m\u001b[1;33m\u001b[0m\u001b[0m\n\u001b[0;32m   1052\u001b[0m \u001b[1;33m\u001b[0m\u001b[0m\n",
      "\u001b[1;31mKeyboardInterrupt\u001b[0m: "
     ]
    }
   ],
   "source": [
    "for e in range(1, NUM_EPOCHS+1):\n",
    "    \n",
    "    epoch_train_losses = train_single_model(\n",
    "        model=model, device=DEVICE, dataloader=topical_train_loader, \n",
    "        n_batches=TRAIN_SIZE, epoch=e,\n",
    "        loss_fn=criterion, optimizer=optimizer,\n",
    "        clip=3., label_type='midas')\n",
    "    \n",
    "    epoch_test_losses, epoch_f1, epoch_acc = evaluate_single_model(\n",
    "        model=model, device=DEVICE, dataloader=topical_test_loader, \n",
    "        n_batches=TEST_SIZE, epoch=e, loss_fn=criterion, label_type='midas')\n",
    "    \n",
    "    message = f'Epoch: {e}\\n'\n",
    "    message += f'Train loss - {np.mean(epoch_train_losses):.4f} | Test loss - {np.mean(epoch_test_losses):.4f}\\n'\n",
    "    message += f'TEST: f1 weighted - {epoch_f1:.4f} | accuracy - {epoch_acc:.4f}\\n'\n",
    "\n",
    "    print(message)"
   ]
  },
  {
   "cell_type": "markdown",
   "id": "1216407e-24e5-49db-b09a-df5ff1c16d75",
   "metadata": {
    "tags": []
   },
   "source": [
    "### Entity"
   ]
  },
  {
   "cell_type": "code",
   "execution_count": null,
   "id": "dc8299a8-6d0c-49bd-b7b9-e18624909f5d",
   "metadata": {},
   "outputs": [],
   "source": [
    "model = BaseModel(\n",
    "    input_size=batch[0].shape[1],\n",
    "    hidden_size=512,\n",
    "    n_classes=len(topical_labels_map['target_entity2id']),\n",
    "    batch_size=topical_train_loader.batch_size\n",
    ")\n",
    "\n",
    "model.to(DEVICE)"
   ]
  },
  {
   "cell_type": "code",
   "execution_count": null,
   "id": "e4ef7057-9c70-4feb-962d-40399aa2f07b",
   "metadata": {},
   "outputs": [],
   "source": [
    "criterion = nn.CrossEntropyLoss()\n",
    "optimizer = torch.optim.Adam(params=model.parameters())"
   ]
  },
  {
   "cell_type": "code",
   "execution_count": null,
   "id": "acdd5bfb-7c77-4199-a0a3-86144557962f",
   "metadata": {},
   "outputs": [],
   "source": [
    "# train loop\n",
    "NUM_EPOCHS = 5  # Задайте количество эпох\n",
    "\n",
    "TRAIN_SIZE = int(np.ceil(len(topical_train_loader.dataset) / topical_train_loader.batch_size))\n",
    "TEST_SIZE = int(np.ceil(len(topical_test_loader.dataset) / topical_test_loader.batch_size))\n",
    "\n",
    "train_losses = list()\n",
    "test_losses = list()\n",
    "\n",
    "test_f1 = list()\n",
    "test_acc = list()"
   ]
  },
  {
   "cell_type": "code",
   "execution_count": null,
   "id": "e1ed258c-7370-40f4-815f-f73344fd3879",
   "metadata": {
    "tags": []
   },
   "outputs": [],
   "source": [
    "for e in range(1, NUM_EPOCHS+1):\n",
    "    \n",
    "    epoch_train_losses = train_single_model(\n",
    "        model=model, device=DEVICE, dataloader=topical_train_loader, \n",
    "        n_batches=TRAIN_SIZE, epoch=e,\n",
    "        loss_fn=criterion, optimizer=optimizer,\n",
    "        clip=3., label_type='entity')\n",
    "    \n",
    "    epoch_test_losses, epoch_f1, epoch_acc = evaluate_single_model(\n",
    "        model=model, device=DEVICE, dataloader=topical_test_loader, \n",
    "        n_batches=TEST_SIZE, epoch=e, loss_fn=criterion, label_type='entity')\n",
    "    \n",
    "    message = f'Epoch: {e}\\n'\n",
    "    message += f'Train loss - {np.mean(epoch_train_losses):.4f} | Test loss - {np.mean(epoch_test_losses):.4f}\\n'\n",
    "    message += f'TEST: f1 weighted - {epoch_f1:.4f} | accuracy - {epoch_acc:.4f}\\n'\n",
    "\n",
    "    print(message)"
   ]
  },
  {
   "cell_type": "markdown",
   "id": "3e5c84fb-aa07-489f-b180-ac8d43819314",
   "metadata": {
    "tags": []
   },
   "source": [
    "### Concatenation"
   ]
  },
  {
   "cell_type": "code",
   "execution_count": null,
   "id": "1c9a9750-d539-41b9-866e-9ec197e62ff1",
   "metadata": {},
   "outputs": [],
   "source": [
    "model = BaseModel(\n",
    "    input_size=batch[0].shape[1],\n",
    "    hidden_size=512,\n",
    "    n_classes=len(topical_labels_map['target_midas_and_entity2id']),\n",
    "    batch_size=topical_train_loader.batch_size\n",
    ")\n",
    "\n",
    "model.to(DEVICE)"
   ]
  },
  {
   "cell_type": "code",
   "execution_count": null,
   "id": "7cea124b-df3f-413b-ac8b-ca2503212c19",
   "metadata": {},
   "outputs": [],
   "source": [
    "criterion = nn.CrossEntropyLoss()\n",
    "optimizer = torch.optim.Adam(params=model.parameters())"
   ]
  },
  {
   "cell_type": "code",
   "execution_count": null,
   "id": "cb66c902-ad0d-4063-882c-ee962fc40a60",
   "metadata": {},
   "outputs": [],
   "source": [
    "# train loop\n",
    "NUM_EPOCHS = 5  # Задайте количество эпох\n",
    "\n",
    "TRAIN_SIZE = int(np.ceil(len(topical_train_loader.dataset) / topical_train_loader.batch_size))\n",
    "TEST_SIZE = int(np.ceil(len(topical_test_loader.dataset) / topical_test_loader.batch_size))\n",
    "\n",
    "train_losses = list()\n",
    "test_losses = list()\n",
    "\n",
    "test_f1 = list()\n",
    "test_acc = list()"
   ]
  },
  {
   "cell_type": "code",
   "execution_count": null,
   "id": "633078a2-832b-4247-8527-a0668131a05a",
   "metadata": {
    "tags": []
   },
   "outputs": [],
   "source": [
    "for e in range(1, NUM_EPOCHS+1):\n",
    "    \n",
    "    epoch_train_losses = train_single_model(\n",
    "        model=model, device=DEVICE, dataloader=topical_train_loader, \n",
    "        n_batches=TRAIN_SIZE, epoch=e,\n",
    "        loss_fn=criterion, optimizer=optimizer,\n",
    "        clip=3., label_type='concatenation')\n",
    "    \n",
    "    epoch_test_losses, epoch_f1, epoch_acc = evaluate_single_model(\n",
    "        model=model, device=DEVICE, dataloader=topical_test_loader, \n",
    "        n_batches=TEST_SIZE, epoch=e, loss_fn=criterion, label_type='concatenation')\n",
    "    \n",
    "    message = f'Epoch: {e}\\n'\n",
    "    message += f'Train loss - {np.mean(epoch_train_losses):.4f} | Test loss - {np.mean(epoch_test_losses):.4f}\\n'\n",
    "    message += f'TEST: f1 weighted - {epoch_f1:.4f} | accuracy - {epoch_acc:.4f}\\n'\n",
    "\n",
    "    print(message)"
   ]
  },
  {
   "cell_type": "markdown",
   "id": "0ab75a92-0bf7-4ee0-9a9d-6a4156a29f47",
   "metadata": {},
   "source": [
    "# TFIDF + Catboost / LinearRegression / RandomForest"
   ]
  },
  {
   "cell_type": "markdown",
   "id": "ce2cb024-9bdc-457f-b2ce-7fdec356451f",
   "metadata": {
    "tags": []
   },
   "source": [
    "## DailyDialog"
   ]
  },
  {
   "cell_type": "code",
   "execution_count": 6,
   "id": "0d73ad42-99b0-48fd-b32c-e6ecc8cd563b",
   "metadata": {},
   "outputs": [
    {
     "data": {
      "text/plain": [
       "TfidfVectorizer(lowercase=False, max_df=0.7, max_features=300, min_df=3,\n",
       "                preprocessor=<function dummy_fn at 0x00000266668A45E0>,\n",
       "                token_pattern=None,\n",
       "                tokenizer=<function dummy_fn at 0x00000266668A45E0>)"
      ]
     },
     "execution_count": 6,
     "metadata": {},
     "output_type": "execute_result"
    }
   ],
   "source": [
    "daily_tfidf = pickle.load(open(\"models/daily_tfidf_3_08_300.pkl\", 'rb'))\n",
    "daily_tfidf"
   ]
  },
  {
   "cell_type": "code",
   "execution_count": 7,
   "id": "2a53cf3e-d228-4f2c-b5e2-13f14089347f",
   "metadata": {},
   "outputs": [],
   "source": [
    "daily_dataset = SkillDataset(\n",
    "    daily, daily_labels_map, \n",
    "    tokenizer=tokenizer,\n",
    "    tfidf_model=daily_tfidf\n",
    ")"
   ]
  },
  {
   "cell_type": "code",
   "execution_count": 8,
   "id": "8538554c-117a-442c-bbd9-6ce8d04d4930",
   "metadata": {},
   "outputs": [],
   "source": [
    "daily_loader = DataLoader(\n",
    "    daily_dataset, batch_size=len(daily_dataset), \n",
    "    shuffle=False, collate_fn=collate_fn)"
   ]
  },
  {
   "cell_type": "code",
   "execution_count": 9,
   "id": "724d9868-5a1b-421e-975d-41982cef341e",
   "metadata": {},
   "outputs": [],
   "source": [
    "for X, y in daily_loader:\n",
    "    break"
   ]
  },
  {
   "cell_type": "code",
   "execution_count": 10,
   "id": "153c1727-c2bc-42aa-8355-7407ad7af6ea",
   "metadata": {},
   "outputs": [
    {
     "data": {
      "text/plain": [
       "(torch.Size([2352, 999]), torch.Size([2352, 3]))"
      ]
     },
     "execution_count": 10,
     "metadata": {},
     "output_type": "execute_result"
    }
   ],
   "source": [
    "X.shape, y.shape"
   ]
  },
  {
   "cell_type": "code",
   "execution_count": 11,
   "id": "ffc28cc8-f477-4b36-9d75-03a59ff23ebd",
   "metadata": {},
   "outputs": [],
   "source": [
    "X, y = X.numpy(), y.numpy()\n",
    "X_train, X_test, y_train, y_test = train_test_split(X, y, test_size=0.2, random_state=42)"
   ]
  },
  {
   "cell_type": "code",
   "execution_count": 12,
   "id": "675dd61e-a25c-48b7-a260-99004f6094ed",
   "metadata": {},
   "outputs": [],
   "source": [
    "y_train_midas, y_train_entity, y_train_concat = y_train[:,0], y_train[:,1], y_train[:,2]\n",
    "y_test_midas, y_test_entity, y_test_concat = y_test[:,0], y_test[:,1], y_test[:,2]"
   ]
  },
  {
   "cell_type": "markdown",
   "id": "2cbf2789-95c5-4a67-89b9-3b660e64ea8e",
   "metadata": {
    "tags": []
   },
   "source": [
    "### Midas"
   ]
  },
  {
   "cell_type": "code",
   "execution_count": 13,
   "id": "725bcfcb-3761-4f18-af95-8ff527af8391",
   "metadata": {},
   "outputs": [
    {
     "data": {
      "text/plain": [
       "array([0.72599681, 0.08867624, 0.05677831, 0.2169059 , 0.00574163,\n",
       "       0.        , 0.01339713, 0.0414673 , 0.00574163, 0.03189793,\n",
       "       0.00829346, 0.00510367])"
      ]
     },
     "execution_count": 13,
     "metadata": {},
     "output_type": "execute_result"
    }
   ],
   "source": [
    "n_bins = len(daily_labels_map['target_midas2id'])\n",
    "class_weights, _ = np.histogram(y_train_midas, bins=n_bins, density=True)\n",
    "class_weights"
   ]
  },
  {
   "cell_type": "markdown",
   "id": "8a682129-2ea1-47da-a742-92ad3a5765aa",
   "metadata": {},
   "source": [
    "#### Catboost"
   ]
  },
  {
   "cell_type": "code",
   "execution_count": 14,
   "id": "2f53ada7-4cd3-462d-a941-65c2302031f7",
   "metadata": {},
   "outputs": [
    {
     "name": "stdout",
     "output_type": "stream",
     "text": [
      "0:\tlearn: 0.6049973\ttotal: 174ms\tremaining: 2.43s\n",
      "1:\tlearn: 0.6049973\ttotal: 202ms\tremaining: 1.31s\n",
      "2:\tlearn: 0.6049973\ttotal: 228ms\tremaining: 913ms\n",
      "3:\tlearn: 0.6049973\ttotal: 254ms\tremaining: 698ms\n",
      "4:\tlearn: 0.6049973\ttotal: 282ms\tremaining: 564ms\n",
      "5:\tlearn: 0.6049973\ttotal: 308ms\tremaining: 462ms\n",
      "6:\tlearn: 0.6049973\ttotal: 333ms\tremaining: 380ms\n",
      "7:\tlearn: 0.6049973\ttotal: 359ms\tremaining: 314ms\n",
      "8:\tlearn: 0.6049973\ttotal: 387ms\tremaining: 258ms\n",
      "9:\tlearn: 0.6049973\ttotal: 415ms\tremaining: 207ms\n",
      "10:\tlearn: 0.6049973\ttotal: 439ms\tremaining: 160ms\n",
      "11:\tlearn: 0.6049973\ttotal: 464ms\tremaining: 116ms\n",
      "12:\tlearn: 0.6049973\ttotal: 491ms\tremaining: 75.6ms\n",
      "13:\tlearn: 0.6049973\ttotal: 517ms\tremaining: 36.9ms\n",
      "14:\tlearn: 0.6049973\ttotal: 542ms\tremaining: 0us\n",
      "class =  (471, 1)\n"
     ]
    }
   ],
   "source": [
    "cb_train = Pool(X_train, label=y_train_midas)\n",
    "cb_eval = Pool(X_test, label=y_test_midas)\n",
    "\n",
    "model_params = {\n",
    "    'task_type': 'CPU',\n",
    "    'iterations': 15,\n",
    "    'learning_rate': 0.001,\n",
    "    'depth': 3,\n",
    "    'verbose': True,\n",
    "    'loss_function': 'MultiClass',\n",
    "    'eval_metric': 'Accuracy',\n",
    "    # 'use_best_model': True,\n",
    "    # 'class_weights': class_weights\n",
    "}\n",
    "\n",
    "fit_params = {\n",
    "    # 'use_best_model': True,\n",
    "    'early_stopping_rounds': 5,\n",
    "}\n",
    "\n",
    "model = CatBoostClassifier(**model_params)\n",
    "model.fit(cb_train, **fit_params)\n",
    "\n",
    "cb_pred = model.predict(cb_eval)\n",
    "print(\"class = \", cb_pred.shape)"
   ]
  },
  {
   "cell_type": "code",
   "execution_count": 15,
   "id": "c2427389-cfe6-4e93-a4ac-7181b46598a5",
   "metadata": {},
   "outputs": [
    {
     "name": "stdout",
     "output_type": "stream",
     "text": [
      "class =  (471, 1)\n"
     ]
    }
   ],
   "source": [
    "cb_pred = model.predict(cb_eval)\n",
    "print(\"class = \", cb_pred.shape)"
   ]
  },
  {
   "cell_type": "code",
   "execution_count": 16,
   "id": "9d82e573-4412-40f9-86ac-99de7196db09",
   "metadata": {},
   "outputs": [
    {
     "data": {
      "text/plain": [
       "Counter({0: 471})"
      ]
     },
     "execution_count": 16,
     "metadata": {},
     "output_type": "execute_result"
    }
   ],
   "source": [
    "Counter(cb_pred.squeeze())"
   ]
  },
  {
   "cell_type": "code",
   "execution_count": 17,
   "id": "3986c09a-03ce-4ffc-9473-a4bf614e5df6",
   "metadata": {},
   "outputs": [
    {
     "data": {
      "text/plain": [
       "0.643312101910828"
      ]
     },
     "execution_count": 17,
     "metadata": {},
     "output_type": "execute_result"
    }
   ],
   "source": [
    "accuracy_score(y_test_midas, cb_pred.squeeze())"
   ]
  },
  {
   "cell_type": "code",
   "execution_count": 18,
   "id": "1b9879ef-0f0f-4596-9d88-8c0f1aa6a05a",
   "metadata": {},
   "outputs": [
    {
     "data": {
      "text/plain": [
       "0.643312101910828"
      ]
     },
     "execution_count": 18,
     "metadata": {},
     "output_type": "execute_result"
    }
   ],
   "source": [
    "model.score(cb_eval)"
   ]
  },
  {
   "cell_type": "code",
   "execution_count": 19,
   "id": "3adc68f1-68de-4e70-a14c-0a4bcb2e3faf",
   "metadata": {},
   "outputs": [
    {
     "data": {
      "text/plain": [
       "0.5036784673875475"
      ]
     },
     "execution_count": 19,
     "metadata": {},
     "output_type": "execute_result"
    }
   ],
   "source": [
    "f1_score(y_test_midas, cb_pred.squeeze(), average='weighted')"
   ]
  },
  {
   "cell_type": "markdown",
   "id": "49dcb8db-414a-44df-ab4c-e3036574a84d",
   "metadata": {},
   "source": [
    "#### LogReg"
   ]
  },
  {
   "cell_type": "code",
   "execution_count": 20,
   "id": "a215cc32-a449-43ab-8f9b-b8ab8d689025",
   "metadata": {
    "tags": []
   },
   "outputs": [
    {
     "data": {
      "text/plain": [
       "LogisticRegression(max_iter=500, random_state=42)"
      ]
     },
     "execution_count": 20,
     "metadata": {},
     "output_type": "execute_result"
    }
   ],
   "source": [
    "lg = LogisticRegression(random_state=42, max_iter=500)\n",
    "lg.fit(X_train, y_train_midas)"
   ]
  },
  {
   "cell_type": "code",
   "execution_count": 21,
   "id": "fb84b8e4-7b30-4f36-966b-3144fa811596",
   "metadata": {},
   "outputs": [],
   "source": [
    "logreg_pred = lg.predict(X_test)"
   ]
  },
  {
   "cell_type": "code",
   "execution_count": 22,
   "id": "fb8b1250-df59-4bcd-a0cc-3b95bbe85144",
   "metadata": {},
   "outputs": [
    {
     "data": {
      "text/plain": [
       "Counter({0: 361, 3: 62, 1: 33, 6: 6, 8: 1, 2: 5, 9: 2, 5: 1})"
      ]
     },
     "execution_count": 22,
     "metadata": {},
     "output_type": "execute_result"
    }
   ],
   "source": [
    "Counter(logreg_pred)"
   ]
  },
  {
   "cell_type": "code",
   "execution_count": 23,
   "id": "bec77712-069d-4aee-9d30-eff3f028cbcc",
   "metadata": {},
   "outputs": [
    {
     "data": {
      "text/plain": [
       "0.673036093418259"
      ]
     },
     "execution_count": 23,
     "metadata": {},
     "output_type": "execute_result"
    }
   ],
   "source": [
    "accuracy_score(y_test_midas, logreg_pred)"
   ]
  },
  {
   "cell_type": "code",
   "execution_count": 24,
   "id": "cf4cf1e9-ebca-454e-afd9-7ba1c8d28301",
   "metadata": {},
   "outputs": [
    {
     "data": {
      "text/plain": [
       "0.6356860621078079"
      ]
     },
     "execution_count": 24,
     "metadata": {},
     "output_type": "execute_result"
    }
   ],
   "source": [
    "f1_score(y_test_midas, logreg_pred, average='weighted')"
   ]
  },
  {
   "cell_type": "markdown",
   "id": "111ab568-210f-44bf-a0d0-6a2e8ad19c36",
   "metadata": {},
   "source": [
    "#### RandomForest"
   ]
  },
  {
   "cell_type": "code",
   "execution_count": 25,
   "id": "ec2f01a6-71c3-4371-8ef0-43754af8a4f0",
   "metadata": {},
   "outputs": [],
   "source": [
    "rf = RandomForestClassifier(max_depth=10, random_state=42)"
   ]
  },
  {
   "cell_type": "code",
   "execution_count": 26,
   "id": "5710b144-ee0e-4acf-b060-f0abd5f5e833",
   "metadata": {},
   "outputs": [
    {
     "data": {
      "text/plain": [
       "RandomForestClassifier(max_depth=10, random_state=42)"
      ]
     },
     "execution_count": 26,
     "metadata": {},
     "output_type": "execute_result"
    }
   ],
   "source": [
    "rf.fit(X_train, y_train_midas)"
   ]
  },
  {
   "cell_type": "code",
   "execution_count": 27,
   "id": "0561fab7-dff1-49fe-b024-b58a6cc616df",
   "metadata": {},
   "outputs": [],
   "source": [
    "rf_preds = rf.predict(X_test)"
   ]
  },
  {
   "cell_type": "code",
   "execution_count": 28,
   "id": "976e8c5d-9592-4fd1-8afb-d7d4dedcbf83",
   "metadata": {
    "tags": []
   },
   "outputs": [
    {
     "data": {
      "text/plain": [
       "Counter({0: 458, 3: 11, 9: 1, 6: 1})"
      ]
     },
     "execution_count": 28,
     "metadata": {},
     "output_type": "execute_result"
    }
   ],
   "source": [
    "Counter(rf_preds)"
   ]
  },
  {
   "cell_type": "code",
   "execution_count": 29,
   "id": "510247d4-34c9-45b5-92a4-821e89a04423",
   "metadata": {},
   "outputs": [
    {
     "data": {
      "text/plain": [
       "0.6709129511677282"
      ]
     },
     "execution_count": 29,
     "metadata": {},
     "output_type": "execute_result"
    }
   ],
   "source": [
    "accuracy_score(y_test_midas, rf_preds)"
   ]
  },
  {
   "cell_type": "code",
   "execution_count": 30,
   "id": "71113f3d-c77f-484b-af3f-0017382761e3",
   "metadata": {},
   "outputs": [
    {
     "data": {
      "text/plain": [
       "0.5604248121389984"
      ]
     },
     "execution_count": 30,
     "metadata": {},
     "output_type": "execute_result"
    }
   ],
   "source": [
    "f1_score(y_test_midas, rf_preds, average='weighted')"
   ]
  },
  {
   "cell_type": "markdown",
   "id": "fa7347d5-e794-475b-8098-f47045c824a8",
   "metadata": {
    "tags": []
   },
   "source": [
    "### Entity"
   ]
  },
  {
   "cell_type": "code",
   "execution_count": 31,
   "id": "0518036f-c911-4896-b707-56525fb76c1e",
   "metadata": {},
   "outputs": [
    {
     "data": {
      "text/plain": [
       "array([0.15592457, 0.15761328, 0.23754574, 0.08893892, 0.10357444,\n",
       "       0.09513088, 0.05797917, 0.04503237, 0.02589361, 0.03321137,\n",
       "       0.02983394, 0.00168871, 0.00394033, 0.00900647, 0.00844357,\n",
       "       0.0005629 , 0.00394033, 0.0005629 ])"
      ]
     },
     "execution_count": 31,
     "metadata": {},
     "output_type": "execute_result"
    }
   ],
   "source": [
    "n_bins = len(daily_labels_map['target_entity2id'])\n",
    "class_weights, _ = np.histogram(y_train_entity, bins=n_bins, density=True)\n",
    "class_weights"
   ]
  },
  {
   "cell_type": "markdown",
   "id": "6c5ab458-e2e9-48e2-99a1-1445994d6bd8",
   "metadata": {},
   "source": [
    "#### Catboost"
   ]
  },
  {
   "cell_type": "code",
   "execution_count": 32,
   "id": "57fed2b2-62b4-4505-8a37-5817dc603f77",
   "metadata": {},
   "outputs": [
    {
     "name": "stdout",
     "output_type": "stream",
     "text": [
      "0:\tlearn: 0.4610467\ttest: 0.4937825\tbest: 0.4937825 (0)\ttotal: 51.2ms\tremaining: 717ms\n",
      "1:\tlearn: 0.4859751\ttest: 0.5281193\tbest: 0.5281193 (1)\ttotal: 95.4ms\tremaining: 620ms\n",
      "2:\tlearn: 0.4782904\ttest: 0.4862280\tbest: 0.5281193 (1)\ttotal: 135ms\tremaining: 541ms\n",
      "3:\tlearn: 0.4946227\ttest: 0.5057156\tbest: 0.5281193 (1)\ttotal: 180ms\tremaining: 494ms\n",
      "4:\tlearn: 0.5054960\ttest: 0.5464646\tbest: 0.5464646 (4)\ttotal: 221ms\tremaining: 442ms\n",
      "5:\tlearn: 0.4946294\ttest: 0.5008956\tbest: 0.5464646 (4)\ttotal: 264ms\tremaining: 396ms\n",
      "6:\tlearn: 0.4940024\ttest: 0.5033186\tbest: 0.5464646 (4)\ttotal: 307ms\tremaining: 351ms\n",
      "7:\tlearn: 0.4761318\ttest: 0.5084501\tbest: 0.5464646 (4)\ttotal: 353ms\tremaining: 309ms\n",
      "8:\tlearn: 0.4952564\ttest: 0.5081645\tbest: 0.5464646 (4)\ttotal: 394ms\tremaining: 263ms\n",
      "9:\tlearn: 0.4958833\ttest: 0.5081645\tbest: 0.5464646 (4)\ttotal: 439ms\tremaining: 219ms\n",
      "Stopped by overfitting detector  (5 iterations wait)\n",
      "\n",
      "bestTest = 0.5464646322\n",
      "bestIteration = 4\n",
      "\n",
      "Shrink model to first 5 iterations.\n",
      "class =  (471, 1)\n"
     ]
    }
   ],
   "source": [
    "cb_train = Pool(X_train, label=y_train_entity)\n",
    "cb_eval = Pool(X_test, label=y_test_entity)\n",
    "\n",
    "model_params = {\n",
    "    'task_type': 'CPU',\n",
    "    'iterations': 15,\n",
    "    'learning_rate': 0.001,\n",
    "    'depth': 3,\n",
    "    'verbose': True,\n",
    "    'loss_function': 'MultiClass',\n",
    "    'eval_metric': 'Accuracy',\n",
    "    'use_best_model': True,\n",
    "    'class_weights': class_weights\n",
    "}\n",
    "\n",
    "fit_params = {\n",
    "    'use_best_model': True,\n",
    "    'early_stopping_rounds': 5,\n",
    "    'eval_set': cb_eval, \n",
    "}\n",
    "\n",
    "model = CatBoostClassifier(**model_params)\n",
    "model.fit(cb_train, **fit_params)\n",
    "\n",
    "cb_pred = model.predict(cb_eval)\n",
    "print(\"class = \", cb_pred.shape)"
   ]
  },
  {
   "cell_type": "code",
   "execution_count": 33,
   "id": "5d10498e-3778-490d-b791-82f502651d8f",
   "metadata": {},
   "outputs": [
    {
     "name": "stdout",
     "output_type": "stream",
     "text": [
      "class =  (471, 1)\n"
     ]
    }
   ],
   "source": [
    "cb_pred = model.predict(cb_eval)\n",
    "print(\"class = \", cb_pred.shape)"
   ]
  },
  {
   "cell_type": "code",
   "execution_count": 34,
   "id": "3fad91d6-160f-4c8b-8ee8-08250b768b0c",
   "metadata": {},
   "outputs": [
    {
     "data": {
      "text/plain": [
       "Counter({2: 391, 1: 42, 0: 38})"
      ]
     },
     "execution_count": 34,
     "metadata": {},
     "output_type": "execute_result"
    }
   ],
   "source": [
    "Counter(cb_pred.squeeze())"
   ]
  },
  {
   "cell_type": "code",
   "execution_count": 35,
   "id": "71d58b5b-0074-48c2-a9d7-8a78655ae570",
   "metadata": {},
   "outputs": [
    {
     "data": {
      "text/plain": [
       "0.35668789808917195"
      ]
     },
     "execution_count": 35,
     "metadata": {},
     "output_type": "execute_result"
    }
   ],
   "source": [
    "accuracy_score(y_test_entity, cb_pred.squeeze())"
   ]
  },
  {
   "cell_type": "code",
   "execution_count": 36,
   "id": "2e554da7-3b73-47e9-bc7e-c8026692e12e",
   "metadata": {},
   "outputs": [
    {
     "data": {
      "text/plain": [
       "0.35668789808917195"
      ]
     },
     "execution_count": 36,
     "metadata": {},
     "output_type": "execute_result"
    }
   ],
   "source": [
    "model.score(cb_eval)"
   ]
  },
  {
   "cell_type": "code",
   "execution_count": 37,
   "id": "083cc4df-9b08-4fa8-a060-6ca839f8808d",
   "metadata": {},
   "outputs": [
    {
     "data": {
      "text/plain": [
       "0.25978650845685963"
      ]
     },
     "execution_count": 37,
     "metadata": {},
     "output_type": "execute_result"
    }
   ],
   "source": [
    "f1_score(y_test_entity, cb_pred.squeeze(), average='weighted')"
   ]
  },
  {
   "cell_type": "markdown",
   "id": "ee233f38-8b9d-4eb5-8e2a-9952cd36394d",
   "metadata": {},
   "source": [
    "#### LogReg"
   ]
  },
  {
   "cell_type": "code",
   "execution_count": 38,
   "id": "df17ab72-814b-41d3-bb95-4b46d0d153ba",
   "metadata": {
    "tags": []
   },
   "outputs": [
    {
     "data": {
      "text/plain": [
       "LogisticRegression(max_iter=500, random_state=42)"
      ]
     },
     "execution_count": 38,
     "metadata": {},
     "output_type": "execute_result"
    }
   ],
   "source": [
    "lg = LogisticRegression(random_state=42, max_iter=500)\n",
    "lg.fit(X_train, y_train_entity)"
   ]
  },
  {
   "cell_type": "code",
   "execution_count": 39,
   "id": "af06370c-9c74-43c5-b3c9-eedcb1a8f0ed",
   "metadata": {},
   "outputs": [],
   "source": [
    "logreg_pred = lg.predict(X_test)"
   ]
  },
  {
   "cell_type": "code",
   "execution_count": 40,
   "id": "953bb3d7-b493-4fe7-8b5f-ba625fd3e37b",
   "metadata": {},
   "outputs": [
    {
     "data": {
      "text/plain": [
       "Counter({3: 35,\n",
       "         1: 69,\n",
       "         2: 144,\n",
       "         0: 77,\n",
       "         5: 42,\n",
       "         4: 42,\n",
       "         6: 23,\n",
       "         7: 18,\n",
       "         9: 5,\n",
       "         8: 5,\n",
       "         10: 10,\n",
       "         12: 1})"
      ]
     },
     "execution_count": 40,
     "metadata": {},
     "output_type": "execute_result"
    }
   ],
   "source": [
    "Counter(logreg_pred)"
   ]
  },
  {
   "cell_type": "code",
   "execution_count": 41,
   "id": "1a2df24d-e883-4d82-a890-104a1862b67a",
   "metadata": {},
   "outputs": [
    {
     "data": {
      "text/plain": [
       "0.5668789808917197"
      ]
     },
     "execution_count": 41,
     "metadata": {},
     "output_type": "execute_result"
    }
   ],
   "source": [
    "accuracy_score(y_test_entity, logreg_pred)"
   ]
  },
  {
   "cell_type": "code",
   "execution_count": 42,
   "id": "701db29c-88e7-4737-8353-05de863c204c",
   "metadata": {},
   "outputs": [
    {
     "data": {
      "text/plain": [
       "0.5580237049289674"
      ]
     },
     "execution_count": 42,
     "metadata": {},
     "output_type": "execute_result"
    }
   ],
   "source": [
    "f1_score(y_test_entity, logreg_pred, average='weighted')"
   ]
  },
  {
   "cell_type": "markdown",
   "id": "d155dfeb-e443-483b-9ce7-bb464088f62c",
   "metadata": {},
   "source": [
    "#### RandomForest"
   ]
  },
  {
   "cell_type": "code",
   "execution_count": 43,
   "id": "bb739fba-d88a-48b2-80df-d2457f816107",
   "metadata": {},
   "outputs": [],
   "source": [
    "rf = RandomForestClassifier(max_depth=10, random_state=42)"
   ]
  },
  {
   "cell_type": "code",
   "execution_count": 44,
   "id": "ea2df68d-72a5-4a09-9615-e8cf838925b1",
   "metadata": {},
   "outputs": [
    {
     "data": {
      "text/plain": [
       "RandomForestClassifier(max_depth=10, random_state=42)"
      ]
     },
     "execution_count": 44,
     "metadata": {},
     "output_type": "execute_result"
    }
   ],
   "source": [
    "rf.fit(X_train, y_train_entity)"
   ]
  },
  {
   "cell_type": "code",
   "execution_count": 45,
   "id": "ce03898a-6b8b-4d83-9485-c28f742e4bb2",
   "metadata": {},
   "outputs": [],
   "source": [
    "rf_preds = rf.predict(X_test)"
   ]
  },
  {
   "cell_type": "code",
   "execution_count": 46,
   "id": "a8b123a0-fba5-4079-b73f-b38434a3b864",
   "metadata": {
    "tags": []
   },
   "outputs": [
    {
     "data": {
      "text/plain": [
       "Counter({2: 303, 1: 63, 0: 44, 4: 21, 5: 15, 6: 11, 10: 5, 7: 6, 8: 3})"
      ]
     },
     "execution_count": 46,
     "metadata": {},
     "output_type": "execute_result"
    }
   ],
   "source": [
    "Counter(rf_preds)"
   ]
  },
  {
   "cell_type": "code",
   "execution_count": 47,
   "id": "27d44e0b-3892-4003-9ea3-caa5a86925a9",
   "metadata": {},
   "outputs": [
    {
     "data": {
      "text/plain": [
       "0.49469214437367304"
      ]
     },
     "execution_count": 47,
     "metadata": {},
     "output_type": "execute_result"
    }
   ],
   "source": [
    "accuracy_score(y_test_entity, rf_preds)"
   ]
  },
  {
   "cell_type": "code",
   "execution_count": 48,
   "id": "e6e852ad-d882-465a-a117-3b603b5d6db4",
   "metadata": {},
   "outputs": [
    {
     "data": {
      "text/plain": [
       "0.45174358189713515"
      ]
     },
     "execution_count": 48,
     "metadata": {},
     "output_type": "execute_result"
    }
   ],
   "source": [
    "f1_score(y_test_entity, rf_preds, average='weighted')"
   ]
  },
  {
   "cell_type": "markdown",
   "id": "18ba26cf-c96e-4b14-92d6-8d6ef454f61c",
   "metadata": {
    "tags": []
   },
   "source": [
    "### Concatenation"
   ]
  },
  {
   "cell_type": "code",
   "execution_count": 49,
   "id": "791a6e1d-8fad-482a-9141-a0c64b148d06",
   "metadata": {},
   "outputs": [
    {
     "data": {
      "text/plain": [
       "array([0.12488849, 0.01351607, 0.08920607, 0.18327792, 0.00162193,\n",
       "       0.01730057, 0.0189225 , 0.00162193, 0.03676371, 0.00108129,\n",
       "       0.00702836, 0.00432514, 0.01243478, 0.00054064, 0.02378828,\n",
       "       0.00540643, 0.00270321, 0.0491985 , 0.02054443, 0.0416295 ,\n",
       "       0.01621928, 0.00919093, 0.00540643, 0.0189225 , 0.00648771,\n",
       "       0.00162193, 0.00919093, 0.03838564, 0.00865029, 0.01081286,\n",
       "       0.02973536, 0.00540643, 0.00270321, 0.00270321, 0.00108129,\n",
       "       0.00432514, 0.01621928, 0.00486579, 0.01946314, 0.00216257,\n",
       "       0.00919093, 0.0037845 , 0.00270321, 0.00162193, 0.00108129,\n",
       "       0.0037845 , 0.00162193, 0.00162193, 0.00162193, 0.00108129,\n",
       "       0.00324386, 0.0037845 , 0.00324386, 0.00648771, 0.0037845 ,\n",
       "       0.00054064, 0.00648771, 0.00540643, 0.00486579, 0.        ,\n",
       "       0.00270321, 0.00054064, 0.00648771, 0.00919093, 0.00108129,\n",
       "       0.00054064, 0.00540643, 0.00270321, 0.00216257, 0.00108129,\n",
       "       0.00054064, 0.00054064, 0.00054064, 0.00054064, 0.00594707,\n",
       "       0.00540643, 0.00054064, 0.00216257, 0.00108129, 0.00108129,\n",
       "       0.00108129, 0.00162193, 0.00054064, 0.00054064, 0.00054064,\n",
       "       0.00054064, 0.00108129, 0.00162193, 0.00054064, 0.00054064,\n",
       "       0.00054064, 0.00054064, 0.00162193, 0.00054064, 0.00108129,\n",
       "       0.00162193, 0.00054064, 0.00054064, 0.        , 0.00108129,\n",
       "       0.        , 0.        , 0.00162193, 0.00162193, 0.00054064,\n",
       "       0.00162193, 0.00162193, 0.00054064, 0.00054064, 0.00108129,\n",
       "       0.00054064, 0.00054064, 0.        , 0.00054064, 0.00054064,\n",
       "       0.00054064, 0.00162193, 0.00054064, 0.        , 0.00054064])"
      ]
     },
     "execution_count": 49,
     "metadata": {},
     "output_type": "execute_result"
    }
   ],
   "source": [
    "n_bins = len(daily_labels_map['target_midas_and_entity2id'])\n",
    "class_weights, _ = np.histogram(y_train_concat, bins=n_bins, density=True)\n",
    "class_weights"
   ]
  },
  {
   "cell_type": "markdown",
   "id": "5b80e8dc-c2f3-493b-ada7-ff2277ee1963",
   "metadata": {},
   "source": [
    "#### Catboost"
   ]
  },
  {
   "cell_type": "code",
   "execution_count": 50,
   "id": "36fe1649-5a7d-49ec-8579-b553ed81bfc1",
   "metadata": {},
   "outputs": [
    {
     "name": "stdout",
     "output_type": "stream",
     "text": [
      "0:\tlearn: 0.1866029\ttotal: 397ms\tremaining: 5.56s\n",
      "1:\tlearn: 0.1818182\ttotal: 829ms\tremaining: 5.39s\n",
      "2:\tlearn: 0.1802233\ttotal: 1.25s\tremaining: 5.02s\n",
      "3:\tlearn: 0.2020202\ttotal: 1.68s\tremaining: 4.62s\n",
      "4:\tlearn: 0.1993620\ttotal: 2.1s\tremaining: 4.21s\n",
      "5:\tlearn: 0.2126528\ttotal: 2.53s\tremaining: 3.8s\n",
      "6:\tlearn: 0.2025518\ttotal: 2.96s\tremaining: 3.38s\n",
      "7:\tlearn: 0.2014886\ttotal: 3.39s\tremaining: 2.96s\n",
      "8:\tlearn: 0.2036151\ttotal: 3.81s\tremaining: 2.54s\n",
      "9:\tlearn: 0.2349814\ttotal: 4.24s\tremaining: 2.12s\n",
      "10:\tlearn: 0.2349814\ttotal: 4.64s\tremaining: 1.69s\n",
      "11:\tlearn: 0.2408293\ttotal: 5.04s\tremaining: 1.26s\n",
      "12:\tlearn: 0.2402977\ttotal: 5.44s\tremaining: 837ms\n",
      "13:\tlearn: 0.2402977\ttotal: 5.94s\tremaining: 424ms\n",
      "14:\tlearn: 0.2365763\ttotal: 6.48s\tremaining: 0us\n",
      "class =  (471, 1)\n"
     ]
    }
   ],
   "source": [
    "cb_train = Pool(X_train, label=y_train_concat)\n",
    "cb_eval = Pool(X_test, label=y_test_concat)\n",
    "\n",
    "model_params = {\n",
    "    'task_type': 'CPU',\n",
    "    'iterations': 15,\n",
    "    'learning_rate': 0.001,\n",
    "    'depth': 3,\n",
    "    'verbose': True,\n",
    "    'loss_function': 'MultiClass',\n",
    "    'eval_metric': 'Accuracy',\n",
    "    # 'use_best_model': True,\n",
    "    # 'class_weights': class_weights\n",
    "}\n",
    "\n",
    "fit_params = {\n",
    "    # 'use_best_model': True,\n",
    "    # 'early_stopping_rounds': 5,\n",
    "    # 'eval_set': cb_eval, \n",
    "}\n",
    "\n",
    "model = CatBoostClassifier(**model_params)\n",
    "model.fit(cb_train, **fit_params)\n",
    "\n",
    "cb_pred = model.predict(cb_eval)\n",
    "print(\"class = \", cb_pred.shape)"
   ]
  },
  {
   "cell_type": "code",
   "execution_count": 51,
   "id": "4dd9f222-5f1b-4577-bdc9-d6fdab178aad",
   "metadata": {},
   "outputs": [
    {
     "name": "stdout",
     "output_type": "stream",
     "text": [
      "class =  (471, 1)\n"
     ]
    }
   ],
   "source": [
    "cb_pred = model.predict(cb_eval)\n",
    "print(\"class = \", cb_pred.shape)"
   ]
  },
  {
   "cell_type": "code",
   "execution_count": 52,
   "id": "50e9793e-6634-4e05-a924-26abb340c680",
   "metadata": {},
   "outputs": [
    {
     "data": {
      "text/plain": [
       "Counter({3: 416, 0: 44, 2: 11})"
      ]
     },
     "execution_count": 52,
     "metadata": {},
     "output_type": "execute_result"
    }
   ],
   "source": [
    "Counter(cb_pred.squeeze())"
   ]
  },
  {
   "cell_type": "code",
   "execution_count": 53,
   "id": "8d7bd29d-98ef-4216-b408-a66f086d3001",
   "metadata": {},
   "outputs": [
    {
     "data": {
      "text/plain": [
       "0.2781316348195329"
      ]
     },
     "execution_count": 53,
     "metadata": {},
     "output_type": "execute_result"
    }
   ],
   "source": [
    "accuracy_score(y_test_concat, cb_pred.squeeze())"
   ]
  },
  {
   "cell_type": "code",
   "execution_count": 54,
   "id": "c7ab1eeb-66cd-4318-ad08-a329b6426899",
   "metadata": {},
   "outputs": [
    {
     "data": {
      "text/plain": [
       "0.2781316348195329"
      ]
     },
     "execution_count": 54,
     "metadata": {},
     "output_type": "execute_result"
    }
   ],
   "source": [
    "model.score(cb_eval)"
   ]
  },
  {
   "cell_type": "code",
   "execution_count": 55,
   "id": "2a3daea7-5b71-4cc2-b0ef-912070987d2c",
   "metadata": {},
   "outputs": [
    {
     "data": {
      "text/plain": [
       "0.17032043526799548"
      ]
     },
     "execution_count": 55,
     "metadata": {},
     "output_type": "execute_result"
    }
   ],
   "source": [
    "f1_score(y_test_concat, cb_pred.squeeze(), average='weighted')"
   ]
  },
  {
   "cell_type": "markdown",
   "id": "3f957b72-eab5-45fa-9e02-e2f3c59817db",
   "metadata": {},
   "source": [
    "#### LogReg"
   ]
  },
  {
   "cell_type": "code",
   "execution_count": 56,
   "id": "5fdda689-0881-49f3-8b90-888acefbbc85",
   "metadata": {
    "tags": []
   },
   "outputs": [
    {
     "data": {
      "text/plain": [
       "LogisticRegression(max_iter=500, random_state=42)"
      ]
     },
     "execution_count": 56,
     "metadata": {},
     "output_type": "execute_result"
    }
   ],
   "source": [
    "lg = LogisticRegression(random_state=42, max_iter=500)\n",
    "lg.fit(X_train, y_train_concat)"
   ]
  },
  {
   "cell_type": "code",
   "execution_count": 57,
   "id": "e80273d2-3140-43ae-8a38-83db0c7e07da",
   "metadata": {},
   "outputs": [],
   "source": [
    "logreg_pred = lg.predict(X_test)"
   ]
  },
  {
   "cell_type": "code",
   "execution_count": 58,
   "id": "e32d7506-6301-4b29-8f8e-5dbb1835bf1a",
   "metadata": {},
   "outputs": [
    {
     "data": {
      "text/plain": [
       "Counter({3: 154,\n",
       "         0: 97,\n",
       "         2: 53,\n",
       "         23: 3,\n",
       "         17: 35,\n",
       "         27: 19,\n",
       "         14: 11,\n",
       "         20: 6,\n",
       "         19: 20,\n",
       "         8: 10,\n",
       "         6: 4,\n",
       "         38: 10,\n",
       "         18: 3,\n",
       "         28: 3,\n",
       "         56: 2,\n",
       "         78: 1,\n",
       "         5: 6,\n",
       "         1: 5,\n",
       "         12: 3,\n",
       "         67: 1,\n",
       "         21: 2,\n",
       "         77: 1,\n",
       "         30: 11,\n",
       "         66: 1,\n",
       "         74: 2,\n",
       "         98: 1,\n",
       "         10: 2,\n",
       "         15: 1,\n",
       "         40: 1,\n",
       "         26: 1,\n",
       "         58: 1,\n",
       "         29: 1})"
      ]
     },
     "execution_count": 58,
     "metadata": {},
     "output_type": "execute_result"
    }
   ],
   "source": [
    "Counter(logreg_pred)"
   ]
  },
  {
   "cell_type": "code",
   "execution_count": 59,
   "id": "15e6ab68-a206-4361-ad04-19ebb964cb62",
   "metadata": {},
   "outputs": [
    {
     "data": {
      "text/plain": [
       "0.45010615711252655"
      ]
     },
     "execution_count": 59,
     "metadata": {},
     "output_type": "execute_result"
    }
   ],
   "source": [
    "accuracy_score(y_test_concat, logreg_pred)"
   ]
  },
  {
   "cell_type": "code",
   "execution_count": 60,
   "id": "92d4d3fb-6531-47a6-9597-afb0703c26d7",
   "metadata": {},
   "outputs": [
    {
     "data": {
      "text/plain": [
       "0.3940860475574395"
      ]
     },
     "execution_count": 60,
     "metadata": {},
     "output_type": "execute_result"
    }
   ],
   "source": [
    "f1_score(y_test_concat, logreg_pred, average='weighted')"
   ]
  },
  {
   "cell_type": "markdown",
   "id": "3e36bbde-589f-4695-9167-1aa9458d290d",
   "metadata": {},
   "source": [
    "#### RandomForest"
   ]
  },
  {
   "cell_type": "code",
   "execution_count": 61,
   "id": "3e79a6cd-66cd-40e4-80c1-08c6d93d9c18",
   "metadata": {},
   "outputs": [],
   "source": [
    "rf = RandomForestClassifier(max_depth=10, random_state=42)"
   ]
  },
  {
   "cell_type": "code",
   "execution_count": 62,
   "id": "90aad18e-b6b7-4b7c-a547-8a3252a97d27",
   "metadata": {},
   "outputs": [
    {
     "data": {
      "text/plain": [
       "RandomForestClassifier(max_depth=10, random_state=42)"
      ]
     },
     "execution_count": 62,
     "metadata": {},
     "output_type": "execute_result"
    }
   ],
   "source": [
    "rf.fit(X_train, y_train_concat)"
   ]
  },
  {
   "cell_type": "code",
   "execution_count": 63,
   "id": "7e072ee1-d157-4e93-9aa9-9caff51099ea",
   "metadata": {},
   "outputs": [],
   "source": [
    "rf_preds = rf.predict(X_test)"
   ]
  },
  {
   "cell_type": "code",
   "execution_count": 64,
   "id": "a7b7cc91-b68c-4081-9c49-51f44c181729",
   "metadata": {
    "tags": []
   },
   "outputs": [
    {
     "data": {
      "text/plain": [
       "Counter({3: 349,\n",
       "         0: 60,\n",
       "         2: 40,\n",
       "         17: 12,\n",
       "         38: 4,\n",
       "         19: 1,\n",
       "         66: 1,\n",
       "         98: 1,\n",
       "         15: 1,\n",
       "         40: 1,\n",
       "         30: 1})"
      ]
     },
     "execution_count": 64,
     "metadata": {},
     "output_type": "execute_result"
    }
   ],
   "source": [
    "Counter(rf_preds)"
   ]
  },
  {
   "cell_type": "code",
   "execution_count": 65,
   "id": "3c1d8911-5ad3-4dee-82ad-4db4a58ff674",
   "metadata": {},
   "outputs": [
    {
     "data": {
      "text/plain": [
       "0.37154989384288745"
      ]
     },
     "execution_count": 65,
     "metadata": {},
     "output_type": "execute_result"
    }
   ],
   "source": [
    "accuracy_score(y_test_concat, rf_preds)"
   ]
  },
  {
   "cell_type": "code",
   "execution_count": 66,
   "id": "70daf2a5-e265-47f7-aa0f-6a818a6f52e4",
   "metadata": {},
   "outputs": [
    {
     "data": {
      "text/plain": [
       "0.26456882329679"
      ]
     },
     "execution_count": 66,
     "metadata": {},
     "output_type": "execute_result"
    }
   ],
   "source": [
    "f1_score(y_test_concat, rf_preds, average='weighted')"
   ]
  },
  {
   "cell_type": "markdown",
   "id": "5b6b38e8-8a52-4e42-83e1-c5fed5819cd6",
   "metadata": {
    "tags": []
   },
   "source": [
    "## Topical Chat"
   ]
  },
  {
   "cell_type": "code",
   "execution_count": 198,
   "id": "c8154cc1-b5b8-458c-81f2-e8dba46348ad",
   "metadata": {},
   "outputs": [
    {
     "data": {
      "text/plain": [
       "TfidfVectorizer(lowercase=False, max_df=0.7, max_features=300, min_df=3,\n",
       "                preprocessor=<function dummy_fn at 0x00000290DA2CF790>,\n",
       "                token_pattern=None,\n",
       "                tokenizer=<function dummy_fn at 0x00000290DA2CF790>)"
      ]
     },
     "execution_count": 198,
     "metadata": {},
     "output_type": "execute_result"
    }
   ],
   "source": [
    "topical_tfidf = pickle.load(open(\"models/topical_tfidf_3_08_300.pkl\", 'rb'))\n",
    "topical_tfidf"
   ]
  },
  {
   "cell_type": "code",
   "execution_count": 199,
   "id": "7a756b1a-ab8c-41c7-bad8-7d93bd4d3e6b",
   "metadata": {},
   "outputs": [],
   "source": [
    "topical_dataset = SkillDataset(\n",
    "    topical, topical_labels_map, \n",
    "    tokenizer=tokenizer,\n",
    "    tfidf_model=topical_tfidf\n",
    ")"
   ]
  },
  {
   "cell_type": "code",
   "execution_count": 200,
   "id": "de740087-196b-4722-bca8-c4de8a06ea2d",
   "metadata": {},
   "outputs": [],
   "source": [
    "topical_loader = DataLoader(\n",
    "    topical_dataset, batch_size=len(topical_dataset), \n",
    "    shuffle=False, collate_fn=collate_fn)"
   ]
  },
  {
   "cell_type": "code",
   "execution_count": 201,
   "id": "1b8410ba-c1b2-44b1-b851-3963b6e81218",
   "metadata": {},
   "outputs": [],
   "source": [
    "for X, y in topical_loader:\n",
    "    break"
   ]
  },
  {
   "cell_type": "code",
   "execution_count": 202,
   "id": "c9726354-d35a-4436-bc36-ce01f6f9e2e1",
   "metadata": {},
   "outputs": [
    {
     "data": {
      "text/plain": [
       "(torch.Size([10117, 1005]), torch.Size([10117, 3]))"
      ]
     },
     "execution_count": 202,
     "metadata": {},
     "output_type": "execute_result"
    }
   ],
   "source": [
    "X.shape, y.shape"
   ]
  },
  {
   "cell_type": "code",
   "execution_count": 203,
   "id": "8f54470a-8445-411a-9440-752d9875dc0e",
   "metadata": {},
   "outputs": [],
   "source": [
    "X, y = X.numpy(), y.numpy()\n",
    "X_train, X_test, y_train, y_test = train_test_split(X, y, test_size=0.2, random_state=42)"
   ]
  },
  {
   "cell_type": "code",
   "execution_count": 204,
   "id": "4a0336b8-a095-4cd7-bad3-6f1d9f7f59f3",
   "metadata": {},
   "outputs": [],
   "source": [
    "y_train_midas, y_train_entity, y_train_concat = y_train[:,0], y_train[:,1], y_train[:,2]\n",
    "y_test_midas, y_test_entity, y_test_concat = y_test[:,0], y_test[:,1], y_test[:,2]"
   ]
  },
  {
   "cell_type": "markdown",
   "id": "c30dd016-b1c7-4cc3-9798-b3b1117f464a",
   "metadata": {
    "tags": []
   },
   "source": [
    "### Midas"
   ]
  },
  {
   "cell_type": "code",
   "execution_count": 207,
   "id": "513c6e29-bd8d-4a03-a687-194fec45d3ea",
   "metadata": {},
   "outputs": [
    {
     "data": {
      "text/plain": [
       "array([3.86187652e-01, 3.27958318e-02, 4.91937477e-01, 9.63795873e-02,\n",
       "       7.63005066e-03, 1.68664278e-02, 1.19135879e-02, 1.20474484e-02,\n",
       "       2.30240125e-02, 2.94493183e-03, 9.37023765e-04, 4.01581614e-04,\n",
       "       2.67721076e-04])"
      ]
     },
     "execution_count": 207,
     "metadata": {},
     "output_type": "execute_result"
    }
   ],
   "source": [
    "n_bins = len(topical_labels_map['target_midas2id'])\n",
    "class_weights, _ = np.histogram(y_train_midas, bins=n_bins, density=True)\n",
    "class_weights"
   ]
  },
  {
   "cell_type": "markdown",
   "id": "e78ca87d-710b-44ec-b1ea-017cb1ebe3ae",
   "metadata": {},
   "source": [
    "#### Catboost"
   ]
  },
  {
   "cell_type": "code",
   "execution_count": 208,
   "id": "9560cc10-984c-4e11-b999-9d1e53a45d9c",
   "metadata": {},
   "outputs": [
    {
     "name": "stdout",
     "output_type": "stream",
     "text": [
      "0:\tlearn: 0.6012048\ttest: 0.6155530\tbest: 0.6155530 (0)\ttotal: 161ms\tremaining: 2.25s\n",
      "1:\tlearn: 0.6009832\ttest: 0.6161942\tbest: 0.6161942 (1)\ttotal: 291ms\tremaining: 1.89s\n",
      "2:\tlearn: 0.6009832\ttest: 0.6161942\tbest: 0.6161942 (1)\ttotal: 427ms\tremaining: 1.71s\n",
      "3:\tlearn: 0.6009832\ttest: 0.6161942\tbest: 0.6161942 (1)\ttotal: 564ms\tremaining: 1.55s\n",
      "4:\tlearn: 0.6009832\ttest: 0.6161942\tbest: 0.6161942 (1)\ttotal: 691ms\tremaining: 1.38s\n",
      "5:\tlearn: 0.6009832\ttest: 0.6161942\tbest: 0.6161942 (1)\ttotal: 845ms\tremaining: 1.27s\n",
      "6:\tlearn: 0.6009832\ttest: 0.6161942\tbest: 0.6161942 (1)\ttotal: 978ms\tremaining: 1.12s\n",
      "Stopped by overfitting detector  (5 iterations wait)\n",
      "\n",
      "bestTest = 0.6161941837\n",
      "bestIteration = 1\n",
      "\n",
      "Shrink model to first 2 iterations.\n",
      "class =  (2024, 1)\n"
     ]
    }
   ],
   "source": [
    "cb_train = Pool(X_train, label=y_train_midas)\n",
    "cb_eval = Pool(X_test, label=y_test_midas)\n",
    "\n",
    "model_params = {\n",
    "    'task_type': 'CPU',\n",
    "    'iterations': 15,\n",
    "    'learning_rate': 0.001,\n",
    "    'depth': 3,\n",
    "    'verbose': True,\n",
    "    'loss_function': 'MultiClass',\n",
    "    'eval_metric': 'Accuracy',\n",
    "    'use_best_model': True,\n",
    "    'class_weights': class_weights\n",
    "}\n",
    "\n",
    "fit_params = {\n",
    "    'use_best_model': True,\n",
    "    'early_stopping_rounds': 5,\n",
    "    'eval_set': cb_eval, \n",
    "}\n",
    "\n",
    "model = CatBoostClassifier(**model_params)\n",
    "model.fit(cb_train, **fit_params)\n",
    "\n",
    "cb_pred = model.predict(cb_eval)\n",
    "print(\"class = \", cb_pred.shape)"
   ]
  },
  {
   "cell_type": "code",
   "execution_count": 209,
   "id": "2c1d06cf-5039-43d4-8748-ec5940f574d8",
   "metadata": {},
   "outputs": [
    {
     "name": "stdout",
     "output_type": "stream",
     "text": [
      "class =  (2024, 1)\n"
     ]
    }
   ],
   "source": [
    "cb_pred = model.predict(cb_eval)\n",
    "print(\"class = \", cb_pred.shape)"
   ]
  },
  {
   "cell_type": "code",
   "execution_count": 210,
   "id": "d46c5d06-3b26-4646-819a-937a91e112ff",
   "metadata": {},
   "outputs": [
    {
     "data": {
      "text/plain": [
       "Counter({2: 2024})"
      ]
     },
     "execution_count": 210,
     "metadata": {},
     "output_type": "execute_result"
    }
   ],
   "source": [
    "Counter(cb_pred.squeeze())"
   ]
  },
  {
   "cell_type": "code",
   "execution_count": 211,
   "id": "2bd26c7e-7d1e-4ff4-b185-c2d7adaa00c4",
   "metadata": {},
   "outputs": [
    {
     "data": {
      "text/plain": [
       "0.47480237154150196"
      ]
     },
     "execution_count": 211,
     "metadata": {},
     "output_type": "execute_result"
    }
   ],
   "source": [
    "accuracy_score(y_test_midas, cb_pred.squeeze())"
   ]
  },
  {
   "cell_type": "code",
   "execution_count": 212,
   "id": "3ce2704b-850e-428a-aaea-8ee0c8395dd4",
   "metadata": {},
   "outputs": [
    {
     "data": {
      "text/plain": [
       "0.47480237154150196"
      ]
     },
     "execution_count": 212,
     "metadata": {},
     "output_type": "execute_result"
    }
   ],
   "source": [
    "model.score(cb_eval)"
   ]
  },
  {
   "cell_type": "code",
   "execution_count": 213,
   "id": "41f8937c-1df8-4871-a2ea-ac27b8666e86",
   "metadata": {},
   "outputs": [
    {
     "data": {
      "text/plain": [
       "0.30571864593057513"
      ]
     },
     "execution_count": 213,
     "metadata": {},
     "output_type": "execute_result"
    }
   ],
   "source": [
    "f1_score(y_test_midas, cb_pred.squeeze(), average='weighted')"
   ]
  },
  {
   "cell_type": "markdown",
   "id": "32c39151-826d-4964-b7a7-a72a59c1522f",
   "metadata": {
    "tags": []
   },
   "source": [
    "#### LogReg"
   ]
  },
  {
   "cell_type": "code",
   "execution_count": 214,
   "id": "424fff0e-08ec-444e-8113-39db5d0d599d",
   "metadata": {
    "tags": []
   },
   "outputs": [
    {
     "data": {
      "text/plain": [
       "LogisticRegression(max_iter=500, random_state=42)"
      ]
     },
     "execution_count": 214,
     "metadata": {},
     "output_type": "execute_result"
    }
   ],
   "source": [
    "lg = LogisticRegression(random_state=42, max_iter=500)\n",
    "lg.fit(X_train, y_train_midas)"
   ]
  },
  {
   "cell_type": "code",
   "execution_count": 215,
   "id": "d75fb366-24d6-4d09-8da6-dda4c3846f06",
   "metadata": {},
   "outputs": [],
   "source": [
    "logreg_pred = lg.predict(X_test)"
   ]
  },
  {
   "cell_type": "code",
   "execution_count": 216,
   "id": "fb96deaa-b76b-41cf-97ec-f9e065a0d982",
   "metadata": {},
   "outputs": [
    {
     "data": {
      "text/plain": [
       "Counter({0: 777, 2: 1160, 3: 53, 1: 27, 8: 4, 7: 1, 5: 2})"
      ]
     },
     "execution_count": 216,
     "metadata": {},
     "output_type": "execute_result"
    }
   ],
   "source": [
    "Counter(logreg_pred)"
   ]
  },
  {
   "cell_type": "code",
   "execution_count": 217,
   "id": "7ee04e99-4107-4aad-a038-00852666e243",
   "metadata": {},
   "outputs": [
    {
     "data": {
      "text/plain": [
       "0.4881422924901186"
      ]
     },
     "execution_count": 217,
     "metadata": {},
     "output_type": "execute_result"
    }
   ],
   "source": [
    "accuracy_score(y_test_midas, logreg_pred)"
   ]
  },
  {
   "cell_type": "code",
   "execution_count": 218,
   "id": "9a90323b-8711-4f90-b3e9-5d7816739aa2",
   "metadata": {},
   "outputs": [
    {
     "data": {
      "text/plain": [
       "0.45664922988596107"
      ]
     },
     "execution_count": 218,
     "metadata": {},
     "output_type": "execute_result"
    }
   ],
   "source": [
    "f1_score(y_test_midas, logreg_pred, average='weighted')"
   ]
  },
  {
   "cell_type": "markdown",
   "id": "575275f6-1c11-4d58-a119-6d63625540a3",
   "metadata": {},
   "source": [
    "#### RandomForest"
   ]
  },
  {
   "cell_type": "code",
   "execution_count": 219,
   "id": "c837e0bd-e495-4c98-af65-d07a4aeb3684",
   "metadata": {},
   "outputs": [],
   "source": [
    "rf = RandomForestClassifier(max_depth=10, random_state=42)"
   ]
  },
  {
   "cell_type": "code",
   "execution_count": 220,
   "id": "c8ea80d4-d04b-49fa-80a1-8ce5a017f7ff",
   "metadata": {},
   "outputs": [
    {
     "data": {
      "text/plain": [
       "RandomForestClassifier(max_depth=10, random_state=42)"
      ]
     },
     "execution_count": 220,
     "metadata": {},
     "output_type": "execute_result"
    }
   ],
   "source": [
    "rf.fit(X_train, y_train_midas)"
   ]
  },
  {
   "cell_type": "code",
   "execution_count": 221,
   "id": "54638db9-6b74-49d2-9703-f741ee59179d",
   "metadata": {},
   "outputs": [],
   "source": [
    "rf_preds = rf.predict(X_test)"
   ]
  },
  {
   "cell_type": "code",
   "execution_count": 222,
   "id": "08f58ea0-7b93-4ed8-b96b-da7999c3cfd0",
   "metadata": {
    "tags": []
   },
   "outputs": [
    {
     "data": {
      "text/plain": [
       "Counter({2: 1675, 0: 349})"
      ]
     },
     "execution_count": 222,
     "metadata": {},
     "output_type": "execute_result"
    }
   ],
   "source": [
    "Counter(rf_preds)"
   ]
  },
  {
   "cell_type": "code",
   "execution_count": 223,
   "id": "93b456c2-6e5f-4e2d-b94c-7b40d10c2462",
   "metadata": {},
   "outputs": [
    {
     "data": {
      "text/plain": [
       "0.5177865612648221"
      ]
     },
     "execution_count": 223,
     "metadata": {},
     "output_type": "execute_result"
    }
   ],
   "source": [
    "accuracy_score(y_test_midas, rf_preds)"
   ]
  },
  {
   "cell_type": "code",
   "execution_count": 224,
   "id": "d2444481-06ec-46b9-be35-7c33de355682",
   "metadata": {},
   "outputs": [
    {
     "data": {
      "text/plain": [
       "0.4339993924562257"
      ]
     },
     "execution_count": 224,
     "metadata": {},
     "output_type": "execute_result"
    }
   ],
   "source": [
    "f1_score(y_test_midas, rf_preds, average='weighted')"
   ]
  },
  {
   "cell_type": "markdown",
   "id": "955b07fc-d67f-41e1-ae1f-193e45670e51",
   "metadata": {
    "tags": []
   },
   "source": [
    "### Entity"
   ]
  },
  {
   "cell_type": "code",
   "execution_count": 225,
   "id": "e46b1225-7af9-4e12-bacb-5193d040b0f5",
   "metadata": {},
   "outputs": [
    {
     "data": {
      "text/plain": [
       "array([0.17363934, 0.27340066, 0.11549942, 0.06815507, 0.05983078,\n",
       "       0.09598939, 0.00429221, 0.05931052, 0.04162141, 0.02419245,\n",
       "       0.02510292, 0.0165185 , 0.04773456, 0.00650335, 0.01027529,\n",
       "       0.01053542, 0.0003902 , 0.01560803, 0.0011706 , 0.00286147])"
      ]
     },
     "execution_count": 225,
     "metadata": {},
     "output_type": "execute_result"
    }
   ],
   "source": [
    "n_bins = len(topical_labels_map['target_entity2id'])\n",
    "class_weights, _ = np.histogram(y_train_entity, bins=n_bins, density=True)\n",
    "class_weights"
   ]
  },
  {
   "cell_type": "markdown",
   "id": "bc74a98f-f14c-4f1b-a560-b8ebfc06d046",
   "metadata": {},
   "source": [
    "#### Catboost"
   ]
  },
  {
   "cell_type": "code",
   "execution_count": 226,
   "id": "5b0fa747-0d95-4534-93ec-128285b61a39",
   "metadata": {},
   "outputs": [
    {
     "name": "stdout",
     "output_type": "stream",
     "text": [
      "0:\tlearn: 0.5439662\ttest: 0.5318617\tbest: 0.5318617 (0)\ttotal: 228ms\tremaining: 3.19s\n",
      "1:\tlearn: 0.5438802\ttest: 0.5318617\tbest: 0.5318617 (0)\ttotal: 432ms\tremaining: 2.81s\n",
      "2:\tlearn: 0.5438802\ttest: 0.5318617\tbest: 0.5318617 (0)\ttotal: 636ms\tremaining: 2.54s\n",
      "3:\tlearn: 0.5438802\ttest: 0.5318617\tbest: 0.5318617 (0)\ttotal: 828ms\tremaining: 2.28s\n",
      "4:\tlearn: 0.5438802\ttest: 0.5318617\tbest: 0.5318617 (0)\ttotal: 1.03s\tremaining: 2.06s\n",
      "5:\tlearn: 0.5438802\ttest: 0.5318617\tbest: 0.5318617 (0)\ttotal: 1.22s\tremaining: 1.82s\n",
      "Stopped by overfitting detector  (5 iterations wait)\n",
      "\n",
      "bestTest = 0.5318617065\n",
      "bestIteration = 0\n",
      "\n",
      "Shrink model to first 1 iterations.\n",
      "class =  (2024, 1)\n"
     ]
    }
   ],
   "source": [
    "cb_train = Pool(X_train, label=y_train_entity)\n",
    "cb_eval = Pool(X_test, label=y_test_entity)\n",
    "\n",
    "model_params = {\n",
    "    'task_type': 'CPU',\n",
    "    'iterations': 15,\n",
    "    'learning_rate': 0.001,\n",
    "    'depth': 3,\n",
    "    'verbose': True,\n",
    "    'loss_function': 'MultiClass',\n",
    "    'eval_metric': 'Accuracy',\n",
    "    'use_best_model': True,\n",
    "    'class_weights': class_weights\n",
    "}\n",
    "\n",
    "fit_params = {\n",
    "    'use_best_model': True,\n",
    "    'early_stopping_rounds': 5,\n",
    "    'eval_set': cb_eval, \n",
    "}\n",
    "\n",
    "model = CatBoostClassifier(**model_params)\n",
    "model.fit(cb_train, **fit_params)\n",
    "\n",
    "cb_pred = model.predict(cb_eval)\n",
    "print(\"class = \", cb_pred.shape)"
   ]
  },
  {
   "cell_type": "code",
   "execution_count": 227,
   "id": "ce329a87-3544-4de3-8b4f-a950bae7dced",
   "metadata": {},
   "outputs": [
    {
     "name": "stdout",
     "output_type": "stream",
     "text": [
      "class =  (2024, 1)\n"
     ]
    }
   ],
   "source": [
    "cb_pred = model.predict(cb_eval)\n",
    "print(\"class = \", cb_pred.shape)"
   ]
  },
  {
   "cell_type": "code",
   "execution_count": 228,
   "id": "22f6d020-5820-4f60-ad0d-fbf65b6820c7",
   "metadata": {},
   "outputs": [
    {
     "data": {
      "text/plain": [
       "Counter({1: 1839, 0: 184, 5: 1})"
      ]
     },
     "execution_count": 228,
     "metadata": {},
     "output_type": "execute_result"
    }
   ],
   "source": [
    "Counter(cb_pred.squeeze())"
   ]
  },
  {
   "cell_type": "code",
   "execution_count": 229,
   "id": "c212dd63-3e76-491e-b297-6ec141636bbf",
   "metadata": {},
   "outputs": [
    {
     "data": {
      "text/plain": [
       "0.2885375494071146"
      ]
     },
     "execution_count": 229,
     "metadata": {},
     "output_type": "execute_result"
    }
   ],
   "source": [
    "accuracy_score(y_test_entity, cb_pred.squeeze())"
   ]
  },
  {
   "cell_type": "code",
   "execution_count": 230,
   "id": "47b82eff-1123-4855-a193-c7527cb1b400",
   "metadata": {},
   "outputs": [
    {
     "data": {
      "text/plain": [
       "0.2885375494071146"
      ]
     },
     "execution_count": 230,
     "metadata": {},
     "output_type": "execute_result"
    }
   ],
   "source": [
    "model.score(cb_eval)"
   ]
  },
  {
   "cell_type": "code",
   "execution_count": 231,
   "id": "12f849c7-a309-4433-810e-039d855e8aba",
   "metadata": {},
   "outputs": [
    {
     "data": {
      "text/plain": [
       "0.17329069484306936"
      ]
     },
     "execution_count": 231,
     "metadata": {},
     "output_type": "execute_result"
    }
   ],
   "source": [
    "f1_score(y_test_entity, cb_pred.squeeze(), average='weighted')"
   ]
  },
  {
   "cell_type": "markdown",
   "id": "159c64f1-92bb-4ae7-ba7c-a03070bb3117",
   "metadata": {},
   "source": [
    "#### LogReg"
   ]
  },
  {
   "cell_type": "code",
   "execution_count": 232,
   "id": "cd58c9e7-c116-4595-bf55-c7285e39a1ae",
   "metadata": {
    "tags": []
   },
   "outputs": [
    {
     "data": {
      "text/plain": [
       "LogisticRegression(max_iter=500, random_state=42)"
      ]
     },
     "execution_count": 232,
     "metadata": {},
     "output_type": "execute_result"
    }
   ],
   "source": [
    "lg = LogisticRegression(random_state=42, max_iter=500)\n",
    "lg.fit(X_train, y_train_entity)"
   ]
  },
  {
   "cell_type": "code",
   "execution_count": 233,
   "id": "56ed0e29-0909-4cc1-ab2c-de4dbf18867d",
   "metadata": {},
   "outputs": [],
   "source": [
    "logreg_pred = lg.predict(X_test)"
   ]
  },
  {
   "cell_type": "code",
   "execution_count": 234,
   "id": "70fe593b-3b98-4cdc-b8ed-056d618aae87",
   "metadata": {},
   "outputs": [
    {
     "data": {
      "text/plain": [
       "Counter({12: 84,\n",
       "         1: 720,\n",
       "         5: 190,\n",
       "         4: 90,\n",
       "         0: 355,\n",
       "         2: 252,\n",
       "         7: 101,\n",
       "         10: 30,\n",
       "         3: 87,\n",
       "         9: 22,\n",
       "         11: 12,\n",
       "         8: 56,\n",
       "         6: 5,\n",
       "         15: 11,\n",
       "         17: 8,\n",
       "         13: 1})"
      ]
     },
     "execution_count": 234,
     "metadata": {},
     "output_type": "execute_result"
    }
   ],
   "source": [
    "Counter(logreg_pred)"
   ]
  },
  {
   "cell_type": "code",
   "execution_count": 235,
   "id": "e80f40ec-a02b-4b52-9d22-4ce88f6804cb",
   "metadata": {},
   "outputs": [
    {
     "data": {
      "text/plain": [
       "0.43478260869565216"
      ]
     },
     "execution_count": 235,
     "metadata": {},
     "output_type": "execute_result"
    }
   ],
   "source": [
    "accuracy_score(y_test_entity, logreg_pred)"
   ]
  },
  {
   "cell_type": "code",
   "execution_count": 236,
   "id": "2767f74a-c37e-4909-bdd5-66faeec7ced2",
   "metadata": {},
   "outputs": [
    {
     "data": {
      "text/plain": [
       "0.4183170730559262"
      ]
     },
     "execution_count": 236,
     "metadata": {},
     "output_type": "execute_result"
    }
   ],
   "source": [
    "f1_score(y_test_entity, logreg_pred, average='weighted')"
   ]
  },
  {
   "cell_type": "markdown",
   "id": "3ec2ecd2-34e2-4e5c-af6f-f5f24cf68e6e",
   "metadata": {},
   "source": [
    "#### RandomForest"
   ]
  },
  {
   "cell_type": "code",
   "execution_count": 237,
   "id": "540761fe-7bad-41cf-a95a-a60f1fa13215",
   "metadata": {},
   "outputs": [],
   "source": [
    "rf = RandomForestClassifier(max_depth=10, random_state=42)"
   ]
  },
  {
   "cell_type": "code",
   "execution_count": 238,
   "id": "d721bcd5-44fe-43ad-9955-b27393bcb0d4",
   "metadata": {},
   "outputs": [
    {
     "data": {
      "text/plain": [
       "RandomForestClassifier(max_depth=10, random_state=42)"
      ]
     },
     "execution_count": 238,
     "metadata": {},
     "output_type": "execute_result"
    }
   ],
   "source": [
    "rf.fit(X_train, y_train_entity)"
   ]
  },
  {
   "cell_type": "code",
   "execution_count": 239,
   "id": "caa6b353-4a5d-49c9-bdc7-c5f5416bdd9d",
   "metadata": {},
   "outputs": [],
   "source": [
    "rf_preds = rf.predict(X_test)"
   ]
  },
  {
   "cell_type": "code",
   "execution_count": 240,
   "id": "eb1927cc-cf6c-4443-9b86-982594ef988e",
   "metadata": {
    "tags": []
   },
   "outputs": [
    {
     "data": {
      "text/plain": [
       "Counter({7: 79, 1: 1619, 0: 123, 4: 35, 2: 65, 5: 56, 12: 20, 8: 11, 3: 16})"
      ]
     },
     "execution_count": 240,
     "metadata": {},
     "output_type": "execute_result"
    }
   ],
   "source": [
    "Counter(rf_preds)"
   ]
  },
  {
   "cell_type": "code",
   "execution_count": 241,
   "id": "230cc224-66de-4c82-97fa-58a49c3f0f78",
   "metadata": {},
   "outputs": [
    {
     "data": {
      "text/plain": [
       "0.3601778656126482"
      ]
     },
     "execution_count": 241,
     "metadata": {},
     "output_type": "execute_result"
    }
   ],
   "source": [
    "accuracy_score(y_test_entity, rf_preds)"
   ]
  },
  {
   "cell_type": "code",
   "execution_count": 242,
   "id": "1586ce3a-5d43-4d4f-96a0-e5d0905bc657",
   "metadata": {},
   "outputs": [
    {
     "data": {
      "text/plain": [
       "0.2934047444061142"
      ]
     },
     "execution_count": 242,
     "metadata": {},
     "output_type": "execute_result"
    }
   ],
   "source": [
    "f1_score(y_test_entity, rf_preds, average='weighted')"
   ]
  },
  {
   "cell_type": "markdown",
   "id": "88981ee9-4c23-40db-a8fc-dd862036988d",
   "metadata": {
    "tags": []
   },
   "source": [
    "### Concatenation"
   ]
  },
  {
   "cell_type": "code",
   "execution_count": 243,
   "id": "5a11749e-3e85-496e-83e8-96a39a075c7f",
   "metadata": {},
   "outputs": [
    {
     "data": {
      "text/plain": [
       "array([5.50765560e-02, 3.60546304e-03, 7.69579869e-02, 8.11850815e-02,\n",
       "       5.10981141e-02, 3.68005882e-02, 1.31785890e-01, 1.18109996e-02,\n",
       "       2.39949781e-02, 2.30003676e-02, 4.32655564e-02, 9.94610493e-04,\n",
       "       2.76004412e-02, 1.80273152e-02, 2.08868203e-02, 6.09198927e-03,\n",
       "       2.17571045e-02, 1.56651153e-02, 1.72813573e-02, 1.61624205e-03,\n",
       "       4.42601669e-02, 1.36758943e-03, 4.10276828e-03, 1.74056836e-03,\n",
       "       6.21631558e-04, 3.85411566e-03, 1.49191574e-02, 1.11893680e-03,\n",
       "       6.09198927e-03, 3.12059042e-02, 9.94610493e-04, 1.54164626e-02,\n",
       "       2.48652623e-03, 5.09737877e-03, 7.83255763e-03, 4.35142090e-03,\n",
       "       2.52382412e-02, 2.48652623e-03, 2.73517885e-03, 6.21631558e-03,\n",
       "       3.10815779e-03, 3.23248410e-03, 1.24326312e-04, 3.72978935e-04,\n",
       "       3.72978935e-03, 3.23248410e-03, 6.34064189e-03, 2.85950517e-03,\n",
       "       5.59468402e-03, 6.46496820e-03, 6.96227345e-03, 9.94610493e-04,\n",
       "       4.35142090e-03, 1.24326312e-03, 4.47574722e-03, 7.45957869e-04,\n",
       "       6.09198927e-03, 0.00000000e+00, 1.36758943e-03, 1.38002206e-02,\n",
       "       4.10276828e-03, 3.60546304e-03, 9.94610493e-04, 2.48652623e-04,\n",
       "       2.11354730e-03, 1.11893680e-03, 1.86489467e-03, 3.60546304e-03,\n",
       "       6.21631558e-04, 6.21631558e-04, 1.24326312e-04, 7.45957869e-04,\n",
       "       4.97305246e-04, 1.11893680e-03, 7.45957869e-04, 7.45957869e-04,\n",
       "       4.72439984e-03, 3.72978935e-04, 3.72978935e-04, 1.24326312e-04,\n",
       "       1.61624205e-03, 1.36758943e-03, 1.36758943e-03, 3.72978935e-04,\n",
       "       6.21631558e-04, 7.45957869e-04, 1.49191574e-03, 6.21631558e-04,\n",
       "       7.45957869e-04, 1.11893680e-03, 8.70284181e-04, 2.98383148e-03,\n",
       "       1.49191574e-03, 6.46496820e-03, 4.97305246e-04, 8.70284181e-04,\n",
       "       1.61624205e-03, 2.48652623e-04, 2.48652623e-04, 1.11893680e-03,\n",
       "       7.45957869e-04, 3.72978935e-04, 3.72978935e-04, 8.70284181e-04,\n",
       "       9.94610493e-04, 8.70284181e-04, 8.70284181e-04, 1.24326312e-04,\n",
       "       1.49191574e-03, 3.72978935e-04, 8.70284181e-04, 7.45957869e-04,\n",
       "       2.11354730e-03, 2.48652623e-04, 1.24326312e-04, 3.72978935e-04,\n",
       "       4.97305246e-04, 2.48652623e-04, 3.72978935e-04, 3.72978935e-04,\n",
       "       2.48652623e-04, 1.36758943e-03, 2.48652623e-04, 1.24326312e-03,\n",
       "       2.48652623e-04, 3.72978935e-04, 1.24326312e-04, 1.24326312e-04,\n",
       "       2.48652623e-04, 1.24326312e-04, 2.48652623e-04, 1.24326312e-04,\n",
       "       1.24326312e-04, 2.11354730e-03, 4.97305246e-04, 3.72978935e-04,\n",
       "       1.24326312e-04, 3.72978935e-04, 1.24326312e-04, 1.24326312e-04,\n",
       "       1.24326312e-04, 1.24326312e-04, 1.24326312e-04, 7.45957869e-04,\n",
       "       1.24326312e-04, 1.24326312e-04, 1.24326312e-04, 4.97305246e-04,\n",
       "       1.24326312e-04, 1.24326312e-04, 1.24326312e-04, 1.24326312e-04,\n",
       "       1.24326312e-04, 1.24326312e-04, 1.24326312e-04, 1.24326312e-04,\n",
       "       0.00000000e+00, 2.48652623e-04, 1.24326312e-04, 2.48652623e-04,\n",
       "       0.00000000e+00, 1.24326312e-04, 1.24326312e-04])"
      ]
     },
     "execution_count": 243,
     "metadata": {},
     "output_type": "execute_result"
    }
   ],
   "source": [
    "n_bins = len(topical_labels_map['target_midas_and_entity2id'])\n",
    "class_weights, _ = np.histogram(y_train_concat, bins=n_bins, density=True)\n",
    "class_weights"
   ]
  },
  {
   "cell_type": "markdown",
   "id": "a4c0542f-20e1-4e3a-b26a-1b63490f8747",
   "metadata": {},
   "source": [
    "#### Catboost"
   ]
  },
  {
   "cell_type": "code",
   "execution_count": 251,
   "id": "507278dd-11cd-4d4b-a7d8-f8354646e71f",
   "metadata": {},
   "outputs": [
    {
     "name": "stdout",
     "output_type": "stream",
     "text": [
      "0:\tlearn: 0.1497591\ttotal: 2.76s\tremaining: 38.6s\n",
      "1:\tlearn: 0.1495119\ttotal: 5.65s\tremaining: 36.7s\n",
      "2:\tlearn: 0.1497591\ttotal: 8.45s\tremaining: 33.8s\n",
      "3:\tlearn: 0.1495119\ttotal: 11.1s\tremaining: 30.6s\n",
      "4:\tlearn: 0.1354257\ttotal: 13.8s\tremaining: 27.6s\n",
      "5:\tlearn: 0.1485234\ttotal: 16.9s\tremaining: 25.4s\n",
      "6:\tlearn: 0.1479056\ttotal: 20.2s\tremaining: 23.1s\n",
      "7:\tlearn: 0.1479056\ttotal: 23.5s\tremaining: 20.6s\n",
      "8:\tlearn: 0.1397504\ttotal: 27.2s\tremaining: 18.1s\n",
      "9:\tlearn: 0.1398740\ttotal: 30.9s\tremaining: 15.5s\n",
      "10:\tlearn: 0.1365377\ttotal: 34.2s\tremaining: 12.5s\n",
      "11:\tlearn: 0.1365377\ttotal: 37.5s\tremaining: 9.38s\n",
      "12:\tlearn: 0.1323366\ttotal: 40.7s\tremaining: 6.27s\n",
      "13:\tlearn: 0.1309774\ttotal: 44s\tremaining: 3.14s\n",
      "14:\tlearn: 0.1309774\ttotal: 47.3s\tremaining: 0us\n",
      "class =  (2024, 1)\n"
     ]
    }
   ],
   "source": [
    "cb_train = Pool(X_train, label=y_train_concat)\n",
    "cb_eval = Pool(X_test, label=y_test_concat)\n",
    "\n",
    "model_params = {\n",
    "    'task_type': 'CPU',\n",
    "    'iterations': 15,\n",
    "    'learning_rate': 0.001,\n",
    "    'depth': 3,\n",
    "    'verbose': True,\n",
    "    'loss_function': 'MultiClass',\n",
    "    'eval_metric': 'Accuracy',\n",
    "    # 'use_best_model': True,\n",
    "    # 'class_weights': class_weights\n",
    "}\n",
    "\n",
    "fit_params = {\n",
    "    # 'use_best_model': True,\n",
    "    # 'early_stopping_rounds': 5,\n",
    "    # 'eval_set': cb_eval, \n",
    "}\n",
    "\n",
    "model = CatBoostClassifier(**model_params)\n",
    "model.fit(cb_train, **fit_params)\n",
    "\n",
    "cb_pred = model.predict(cb_eval)\n",
    "print(\"class = \", cb_pred.shape)"
   ]
  },
  {
   "cell_type": "code",
   "execution_count": 252,
   "id": "30a14184-4917-47e0-9291-0011e3c07ec3",
   "metadata": {},
   "outputs": [
    {
     "name": "stdout",
     "output_type": "stream",
     "text": [
      "class =  (2024, 1)\n"
     ]
    }
   ],
   "source": [
    "cb_pred = model.predict(cb_eval)\n",
    "print(\"class = \", cb_pred.shape)"
   ]
  },
  {
   "cell_type": "code",
   "execution_count": 253,
   "id": "6b015df6-7a91-49df-91e3-f8707acf8909",
   "metadata": {},
   "outputs": [
    {
     "data": {
      "text/plain": [
       "Counter({6: 2024})"
      ]
     },
     "execution_count": 253,
     "metadata": {},
     "output_type": "execute_result"
    }
   ],
   "source": [
    "Counter(cb_pred.squeeze())"
   ]
  },
  {
   "cell_type": "code",
   "execution_count": 254,
   "id": "52c5445e-9b79-414d-84ee-7113a504d350",
   "metadata": {},
   "outputs": [
    {
     "data": {
      "text/plain": [
       "0.13537549407114624"
      ]
     },
     "execution_count": 254,
     "metadata": {},
     "output_type": "execute_result"
    }
   ],
   "source": [
    "accuracy_score(y_test_concat, cb_pred.squeeze())"
   ]
  },
  {
   "cell_type": "code",
   "execution_count": 255,
   "id": "d7457d73-5f1e-4ff1-ae77-229c57c5a49f",
   "metadata": {},
   "outputs": [
    {
     "data": {
      "text/plain": [
       "0.13537549407114624"
      ]
     },
     "execution_count": 255,
     "metadata": {},
     "output_type": "execute_result"
    }
   ],
   "source": [
    "model.score(cb_eval)"
   ]
  },
  {
   "cell_type": "code",
   "execution_count": 256,
   "id": "3bb955c9-39f5-4b91-8960-b3057d6fded6",
   "metadata": {},
   "outputs": [
    {
     "data": {
      "text/plain": [
       "0.03228275489599136"
      ]
     },
     "execution_count": 256,
     "metadata": {},
     "output_type": "execute_result"
    }
   ],
   "source": [
    "f1_score(y_test_concat, cb_pred.squeeze(), average='weighted')"
   ]
  },
  {
   "cell_type": "markdown",
   "id": "432fad13-0999-498b-8def-319125b5545b",
   "metadata": {},
   "source": [
    "#### LogReg"
   ]
  },
  {
   "cell_type": "code",
   "execution_count": 257,
   "id": "cb1c4c72-283f-43d6-aad2-c449495ad0d0",
   "metadata": {
    "tags": []
   },
   "outputs": [
    {
     "data": {
      "text/plain": [
       "LogisticRegression(max_iter=500, random_state=42)"
      ]
     },
     "execution_count": 257,
     "metadata": {},
     "output_type": "execute_result"
    }
   ],
   "source": [
    "lg = LogisticRegression(random_state=42, max_iter=500)\n",
    "lg.fit(X_train, y_train_concat)"
   ]
  },
  {
   "cell_type": "code",
   "execution_count": 258,
   "id": "494ce3d7-92d8-483a-8557-d7042e55f3e4",
   "metadata": {},
   "outputs": [],
   "source": [
    "logreg_pred = lg.predict(X_test)"
   ]
  },
  {
   "cell_type": "code",
   "execution_count": 259,
   "id": "910c9140-19d4-4dfb-acec-c074d672d123",
   "metadata": {},
   "outputs": [
    {
     "data": {
      "text/plain": [
       "Counter({12: 66,\n",
       "         3: 218,\n",
       "         10: 123,\n",
       "         36: 53,\n",
       "         6: 481,\n",
       "         8: 53,\n",
       "         29: 66,\n",
       "         0: 121,\n",
       "         2: 219,\n",
       "         16: 22,\n",
       "         4: 145,\n",
       "         20: 111,\n",
       "         5: 74,\n",
       "         7: 9,\n",
       "         39: 2,\n",
       "         9: 21,\n",
       "         17: 23,\n",
       "         14: 32,\n",
       "         49: 2,\n",
       "         13: 34,\n",
       "         34: 1,\n",
       "         59: 14,\n",
       "         18: 36,\n",
       "         31: 27,\n",
       "         28: 3,\n",
       "         26: 28,\n",
       "         46: 6,\n",
       "         100: 3,\n",
       "         67: 3,\n",
       "         50: 4,\n",
       "         22: 3,\n",
       "         66: 1,\n",
       "         64: 2,\n",
       "         44: 4,\n",
       "         33: 3,\n",
       "         93: 3,\n",
       "         54: 2,\n",
       "         35: 1,\n",
       "         48: 1,\n",
       "         45: 2,\n",
       "         121: 1,\n",
       "         25: 1})"
      ]
     },
     "execution_count": 259,
     "metadata": {},
     "output_type": "execute_result"
    }
   ],
   "source": [
    "Counter(logreg_pred)"
   ]
  },
  {
   "cell_type": "code",
   "execution_count": 260,
   "id": "b8748f11-7b9f-455e-be16-4f8111e4aec7",
   "metadata": {},
   "outputs": [
    {
     "data": {
      "text/plain": [
       "0.22529644268774704"
      ]
     },
     "execution_count": 260,
     "metadata": {},
     "output_type": "execute_result"
    }
   ],
   "source": [
    "accuracy_score(y_test_concat, logreg_pred)"
   ]
  },
  {
   "cell_type": "code",
   "execution_count": 261,
   "id": "57d63b6d-2fa5-45c6-aff1-bb9aaa5070b0",
   "metadata": {},
   "outputs": [
    {
     "data": {
      "text/plain": [
       "0.1946221711091106"
      ]
     },
     "execution_count": 261,
     "metadata": {},
     "output_type": "execute_result"
    }
   ],
   "source": [
    "f1_score(y_test_concat, logreg_pred, average='weighted')"
   ]
  },
  {
   "cell_type": "markdown",
   "id": "ad2c306f-bf9b-4de5-8a3f-7ae46eec9a0c",
   "metadata": {},
   "source": [
    "#### RandomForest"
   ]
  },
  {
   "cell_type": "code",
   "execution_count": 262,
   "id": "dc52f812-cae2-4179-a2e8-ae07f49544a2",
   "metadata": {},
   "outputs": [],
   "source": [
    "rf = RandomForestClassifier(max_depth=10, random_state=42)"
   ]
  },
  {
   "cell_type": "code",
   "execution_count": 263,
   "id": "00c5caad-4e6d-411a-9eb6-4f9de552c50d",
   "metadata": {},
   "outputs": [
    {
     "data": {
      "text/plain": [
       "RandomForestClassifier(max_depth=10, random_state=42)"
      ]
     },
     "execution_count": 263,
     "metadata": {},
     "output_type": "execute_result"
    }
   ],
   "source": [
    "rf.fit(X_train, y_train_concat)"
   ]
  },
  {
   "cell_type": "code",
   "execution_count": 264,
   "id": "0ffe62f0-40c4-415d-b48d-d46dc514f30d",
   "metadata": {},
   "outputs": [],
   "source": [
    "rf_preds = rf.predict(X_test)"
   ]
  },
  {
   "cell_type": "code",
   "execution_count": 265,
   "id": "1e6804b9-68fb-419e-ae0e-d4e01fae5966",
   "metadata": {
    "tags": []
   },
   "outputs": [
    {
     "data": {
      "text/plain": [
       "Counter({12: 73,\n",
       "         6: 1585,\n",
       "         36: 28,\n",
       "         2: 97,\n",
       "         8: 29,\n",
       "         20: 19,\n",
       "         4: 34,\n",
       "         3: 83,\n",
       "         10: 39,\n",
       "         5: 21,\n",
       "         0: 6,\n",
       "         44: 1,\n",
       "         13: 7,\n",
       "         14: 1,\n",
       "         18: 1})"
      ]
     },
     "execution_count": 265,
     "metadata": {},
     "output_type": "execute_result"
    }
   ],
   "source": [
    "Counter(rf_preds)"
   ]
  },
  {
   "cell_type": "code",
   "execution_count": 266,
   "id": "c2acfe51-b62f-4fda-98ad-07b35ab7e21e",
   "metadata": {},
   "outputs": [
    {
     "data": {
      "text/plain": [
       "0.19812252964426877"
      ]
     },
     "execution_count": 266,
     "metadata": {},
     "output_type": "execute_result"
    }
   ],
   "source": [
    "accuracy_score(y_test_concat, rf_preds)"
   ]
  },
  {
   "cell_type": "code",
   "execution_count": 267,
   "id": "0e3b51eb-6703-41dd-b88b-8a38aaf441e9",
   "metadata": {},
   "outputs": [
    {
     "data": {
      "text/plain": [
       "0.13548179096806773"
      ]
     },
     "execution_count": 267,
     "metadata": {},
     "output_type": "execute_result"
    }
   ],
   "source": [
    "f1_score(y_test_concat, rf_preds, average='weighted')"
   ]
  },
  {
   "cell_type": "code",
   "execution_count": null,
   "id": "0cb6db48-7c0e-4190-b2bd-0408ee7d9ee0",
   "metadata": {},
   "outputs": [],
   "source": []
  },
  {
   "cell_type": "code",
   "execution_count": null,
   "id": "c59779cb-5720-4535-b256-a3ebdbe86d27",
   "metadata": {},
   "outputs": [],
   "source": []
  }
 ],
 "metadata": {
  "kernelspec": {
   "display_name": "Python 3 (ipykernel)",
   "language": "python",
   "name": "python3"
  },
  "language_info": {
   "codemirror_mode": {
    "name": "ipython",
    "version": 3
   },
   "file_extension": ".py",
   "mimetype": "text/x-python",
   "name": "python",
   "nbconvert_exporter": "python",
   "pygments_lexer": "ipython3",
   "version": "3.8.2"
  }
 },
 "nbformat": 4,
 "nbformat_minor": 5
}
