{
 "cells": [
  {
   "cell_type": "code",
   "execution_count": 1,
   "id": "9863d095-2c51-49b6-9b00-45f0f045141a",
   "metadata": {},
   "outputs": [],
   "source": [
    "import json\n",
    "import pickle\n",
    "\n",
    "import numpy as np\n",
    "import pandas as pd\n",
    "\n",
    "from spacy.lang.en import English\n",
    "from sklearn.model_selection import train_test_split\n",
    "from sklearn.feature_extraction.text import TfidfVectorizer\n",
    "\n",
    "from utils.preprocessing import spacy_tokenize, dummy_fn"
   ]
  },
  {
   "cell_type": "markdown",
   "id": "fc0f62bf-4eb0-4b18-8d6e-f917d1a67166",
   "metadata": {
    "tags": []
   },
   "source": [
    "## Daily Dialogue"
   ]
  },
  {
   "cell_type": "code",
   "execution_count": 2,
   "id": "127cd224-6382-44fb-baf0-3f9d4c6853ff",
   "metadata": {},
   "outputs": [],
   "source": [
    "with open('data/daily_dataset_v3.json', 'r', encoding=\"utf8\") as f:\n",
    "    daily = json.load(f)\n",
    "    \n",
    "daily_train, daily_test = train_test_split(daily, test_size=0.2, random_state=42)"
   ]
  },
  {
   "cell_type": "code",
   "execution_count": 4,
   "id": "72abec03-9429-4f2c-ad47-518288f99660",
   "metadata": {},
   "outputs": [
    {
     "data": {
      "text/plain": [
       "(48869, 12218)"
      ]
     },
     "execution_count": 4,
     "metadata": {},
     "output_type": "execute_result"
    }
   ],
   "source": [
    "len(daily_train), len(daily_test)"
   ]
  },
  {
   "cell_type": "code",
   "execution_count": 3,
   "id": "f4c1c4af-ce28-4b8e-9ba0-87fda2796af4",
   "metadata": {},
   "outputs": [],
   "source": [
    "tokenizer = English().tokenizer\n",
    "texts = [\" \".join(ut) for sample in daily_train for ut in sample['previous_text']]\n",
    "texts = [spacy_tokenize(ut, tokenizer) for ut in texts]\n",
    "\n",
    "# tfidf = TfidfVectorizer(\n",
    "#     lowercase=False,\n",
    "#     analyzer='word',\n",
    "#     tokenizer=dummy_fn,\n",
    "#     preprocessor=dummy_fn,\n",
    "#     token_pattern=None,\n",
    "#     min_df=3,\n",
    "#     max_df=0.7,\n",
    "#     max_features = 300,\n",
    "# )"
   ]
  },
  {
   "cell_type": "code",
   "execution_count": 21,
   "id": "c0125c07-a44c-4f67-80c6-1aefeee63476",
   "metadata": {},
   "outputs": [
    {
     "data": {
      "text/plain": [
       "TfidfVectorizer(lowercase=False, max_df=0.7, max_features=300, min_df=3,\n",
       "                preprocessor=<function dummy_fn at 0x0000022238E4E5E0>,\n",
       "                token_pattern=None,\n",
       "                tokenizer=<function dummy_fn at 0x0000022238E4E5E0>)"
      ]
     },
     "execution_count": 21,
     "metadata": {},
     "output_type": "execute_result"
    }
   ],
   "source": [
    "tfidf.fit(texts)"
   ]
  },
  {
   "cell_type": "code",
   "execution_count": 22,
   "id": "b0085997-fca8-4160-bc65-695f21d4770e",
   "metadata": {},
   "outputs": [
    {
     "data": {
      "text/plain": [
       "(1, 300)"
      ]
     },
     "execution_count": 22,
     "metadata": {},
     "output_type": "execute_result"
    }
   ],
   "source": [
    "tfidf.transform(texts[34:35]).todense().shape"
   ]
  },
  {
   "cell_type": "code",
   "execution_count": 23,
   "id": "919279d1-06db-4d3e-b94a-1e62dfc6150f",
   "metadata": {},
   "outputs": [],
   "source": [
    "pickle.dump(tfidf, open(\"models/daily_tfidf_3_08_300.pkl\", \"wb\"))"
   ]
  },
  {
   "cell_type": "code",
   "execution_count": 4,
   "id": "9ef87765-02cd-45ee-bcaa-48cb5db13d51",
   "metadata": {},
   "outputs": [
    {
     "data": {
      "text/plain": [
       "TfidfVectorizer(lowercase=False, max_df=0.7, max_features=300, min_df=3,\n",
       "                preprocessor=<function dummy_fn at 0x000001BDA9C47EE0>,\n",
       "                token_pattern=None,\n",
       "                tokenizer=<function dummy_fn at 0x000001BDA9C47EE0>)"
      ]
     },
     "execution_count": 4,
     "metadata": {},
     "output_type": "execute_result"
    }
   ],
   "source": [
    "tf_loaded = pickle.load(open(\"models/daily_tfidf_3_08_300.pkl\", 'rb'))\n",
    "tf_loaded"
   ]
  },
  {
   "cell_type": "code",
   "execution_count": 25,
   "id": "d04d681b-37e8-40cf-bc0d-d134403c9776",
   "metadata": {},
   "outputs": [
    {
     "data": {
      "text/plain": [
       "True"
      ]
     },
     "execution_count": 25,
     "metadata": {},
     "output_type": "execute_result"
    }
   ],
   "source": [
    "np.all(tfidf.transform(texts[34:35]).todense() == tf_loaded.transform(texts[34:35]).todense())"
   ]
  },
  {
   "cell_type": "code",
   "execution_count": 7,
   "id": "f07fc96c-099e-4062-835f-f5dba3d53d63",
   "metadata": {},
   "outputs": [
    {
     "data": {
      "text/plain": [
       "<1x300 sparse matrix of type '<class 'numpy.float64'>'\n",
       "\twith 15 stored elements in Compressed Sparse Row format>"
      ]
     },
     "execution_count": 8,
     "metadata": {},
     "output_type": "execute_result"
    }
   ],
   "source": [
    "tf_loaded.transform(texts[34:35]).todense()"
   ]
  },
  {
   "cell_type": "code",
   "execution_count": 26,
   "id": "20b24947-46fd-454f-92b2-95f941198ca3",
   "metadata": {},
   "outputs": [
    {
     "data": {
      "text/plain": [
       "300"
      ]
     },
     "execution_count": 26,
     "metadata": {},
     "output_type": "execute_result"
    }
   ],
   "source": [
    "len(tfidf.vocabulary_)"
   ]
  },
  {
   "cell_type": "markdown",
   "id": "b6d9375d-b3a7-4403-a1f9-29200c96ea5f",
   "metadata": {
    "tags": []
   },
   "source": [
    "## Topical Dataset"
   ]
  },
  {
   "cell_type": "code",
   "execution_count": 27,
   "id": "8fb7dd7c-0355-4c08-a348-943d49ea9d5f",
   "metadata": {},
   "outputs": [],
   "source": [
    "with open('data/topical_dataset_v3.json', 'r', encoding=\"utf8\") as f:\n",
    "    topical = json.load(f)\n",
    "    \n",
    "topical_train, topical_test = train_test_split(topical, test_size=0.2, random_state=42)"
   ]
  },
  {
   "cell_type": "code",
   "execution_count": 28,
   "id": "63c4338b-d99e-4552-ad2e-e04a55449632",
   "metadata": {},
   "outputs": [
    {
     "data": {
      "text/plain": [
       "(129995, 32499)"
      ]
     },
     "execution_count": 28,
     "metadata": {},
     "output_type": "execute_result"
    }
   ],
   "source": [
    "len(topical_train), len(topical_test)"
   ]
  },
  {
   "cell_type": "code",
   "execution_count": 29,
   "id": "319f6111-757e-47f5-9129-783f6a32e284",
   "metadata": {},
   "outputs": [],
   "source": [
    "tokenizer = English().tokenizer\n",
    "texts = [\" \".join(ut) for sample in topical_train for ut in sample['previous_text']]\n",
    "texts = [spacy_tokenize(ut, tokenizer) for ut in texts]\n",
    "\n",
    "tfidf = TfidfVectorizer(\n",
    "    lowercase=False,\n",
    "    analyzer='word',\n",
    "    tokenizer=dummy_fn,\n",
    "    preprocessor=dummy_fn,\n",
    "    token_pattern=None,\n",
    "    min_df=3,\n",
    "    max_df=0.7,\n",
    "    max_features = 300,\n",
    ")"
   ]
  },
  {
   "cell_type": "code",
   "execution_count": 30,
   "id": "ac026829-6f6b-4a86-b542-a1b0d7301a84",
   "metadata": {},
   "outputs": [
    {
     "data": {
      "text/plain": [
       "TfidfVectorizer(lowercase=False, max_df=0.7, max_features=300, min_df=3,\n",
       "                preprocessor=<function dummy_fn at 0x0000022238E4E5E0>,\n",
       "                token_pattern=None,\n",
       "                tokenizer=<function dummy_fn at 0x0000022238E4E5E0>)"
      ]
     },
     "execution_count": 30,
     "metadata": {},
     "output_type": "execute_result"
    }
   ],
   "source": [
    "tfidf.fit(texts)"
   ]
  },
  {
   "cell_type": "code",
   "execution_count": 31,
   "id": "53dc0490-93ce-4583-9d8c-5840872d5091",
   "metadata": {},
   "outputs": [
    {
     "data": {
      "text/plain": [
       "(1, 300)"
      ]
     },
     "execution_count": 31,
     "metadata": {},
     "output_type": "execute_result"
    }
   ],
   "source": [
    "tfidf.transform(texts[34:35]).todense().shape"
   ]
  },
  {
   "cell_type": "code",
   "execution_count": 32,
   "id": "c0f82a5b-d1d8-4197-a5c7-b89979ba5d80",
   "metadata": {},
   "outputs": [],
   "source": [
    "pickle.dump(tfidf, open(\"models/topical_tfidf_3_08_300.pkl\", \"wb\"))"
   ]
  },
  {
   "cell_type": "code",
   "execution_count": 33,
   "id": "d589fff0-7437-439f-bcbd-7d79f537046e",
   "metadata": {},
   "outputs": [
    {
     "data": {
      "text/plain": [
       "TfidfVectorizer(lowercase=False, max_df=0.7, max_features=300, min_df=3,\n",
       "                preprocessor=<function dummy_fn at 0x0000022238E4E5E0>,\n",
       "                token_pattern=None,\n",
       "                tokenizer=<function dummy_fn at 0x0000022238E4E5E0>)"
      ]
     },
     "execution_count": 33,
     "metadata": {},
     "output_type": "execute_result"
    }
   ],
   "source": [
    "tf_loaded = pickle.load(open(\"models/topical_tfidf_3_08_300.pkl\", 'rb'))\n",
    "tf_loaded"
   ]
  },
  {
   "cell_type": "code",
   "execution_count": 34,
   "id": "0abb99d6-40b3-4a8e-ad9b-f22a0129bb82",
   "metadata": {},
   "outputs": [
    {
     "data": {
      "text/plain": [
       "True"
      ]
     },
     "execution_count": 34,
     "metadata": {},
     "output_type": "execute_result"
    }
   ],
   "source": [
    "np.all(tfidf.transform(texts[34:35]).todense() == tf_loaded.transform(texts[34:35]).todense())"
   ]
  },
  {
   "cell_type": "code",
   "execution_count": 38,
   "id": "f51d48d6-3cbc-4f49-9abf-5604cf0a8bf5",
   "metadata": {},
   "outputs": [
    {
     "data": {
      "text/plain": [
       "300"
      ]
     },
     "execution_count": 38,
     "metadata": {},
     "output_type": "execute_result"
    }
   ],
   "source": [
    "len(tfidf.vocabulary_)"
   ]
  },
  {
   "cell_type": "code",
   "execution_count": null,
   "id": "af2daca7-0f2c-4d61-bba6-e01bc56941ae",
   "metadata": {},
   "outputs": [],
   "source": []
  }
 ],
 "metadata": {
  "kernelspec": {
   "display_name": "Python 3 (ipykernel)",
   "language": "python",
   "name": "python3"
  },
  "language_info": {
   "codemirror_mode": {
    "name": "ipython",
    "version": 3
   },
   "file_extension": ".py",
   "mimetype": "text/x-python",
   "name": "python",
   "nbconvert_exporter": "python",
   "pygments_lexer": "ipython3",
   "version": "3.8.2"
  }
 },
 "nbformat": 4,
 "nbformat_minor": 5
}
