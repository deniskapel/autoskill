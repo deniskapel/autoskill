{
 "cells": [
  {
   "cell_type": "code",
   "execution_count": 45,
   "id": "d7407b7f-6925-4b80-8041-5a14a5934e3e",
   "metadata": {},
   "outputs": [],
   "source": [
    "import json\n",
    "from collections import Counter\n",
    "\n",
    "from utils.data2seq import Dial2seq"
   ]
  },
  {
   "cell_type": "code",
   "execution_count": 46,
   "id": "42c3b9d6-9dda-40c5-aba7-4c608b02ec12",
   "metadata": {},
   "outputs": [],
   "source": [
    "topical_sequencer = Dial2seq('data/topical_chat_annotated_v3.json', 3)\n",
    "daily_sequencer = Dial2seq('data/daily_dialogue_annotated_v3.json', 3)"
   ]
  },
  {
   "cell_type": "code",
   "execution_count": 47,
   "id": "5bd9ba7d-115e-42a1-834c-f7b5c4b2bd5a",
   "metadata": {},
   "outputs": [
    {
     "data": {
      "text/plain": [
       "(12376, 8628)"
      ]
     },
     "execution_count": 47,
     "metadata": {},
     "output_type": "execute_result"
    }
   ],
   "source": [
    "len(daily_sequencer.data), len(topical_sequencer.data)"
   ]
  },
  {
   "cell_type": "code",
   "execution_count": 48,
   "id": "4716129f-9ca4-4c83-b61c-2dd5f397bfe3",
   "metadata": {},
   "outputs": [],
   "source": [
    "class SequencePreprocessor():\n",
    "    \"\"\"\n",
    "    preprocesses sequences\n",
    "    to filter only those that are relevant for the task\n",
    "\n",
    "    params:\n",
    "    stoplist_labels: MIDAS labels to ignore\n",
    "    seq_validator: None or similar to one of seq_validation classes or\n",
    "    similar\n",
    "    \"\"\"\n",
    "\n",
    "    def __init__(self, \n",
    "                 stoplist_labels: list = ['misc', 'anaphor', \n",
    "                                          # 'film', 'song', \"literary_work\",\n",
    "                                          # 'association_football_club', 'championship'\n",
    "                                         ],\n",
    "                 seq_validator=None):\n",
    "        self.stoplist_labels = stoplist_labels\n",
    "        self.seq_validator = seq_validator\n",
    "\n",
    "    def transform(self, sequences: list) -> list:\n",
    "        \"\"\" extract only necessary data from sequences \"\"\"\n",
    "        seqs = list()\n",
    "\n",
    "        for seq in sequences:\n",
    "            if self.seq_validator and not self.seq_validator.is_valid(seq[-1]):\n",
    "                # validate final utterance if necessary\n",
    "                continue\n",
    "            sample = self.__get_dict_entry(self.__shape_output(seq))\n",
    "            seqs.append(sample)\n",
    "\n",
    "        return seqs\n",
    "\n",
    "\n",
    "    def __shape_output(self, seq: list) -> list:\n",
    "        \"\"\" shapes sequence in order to keep only the necessary data \"\"\"\n",
    "        output = list()\n",
    "\n",
    "        # preprocess context\n",
    "        for ut in seq[:-1]:\n",
    "            midas_labels, midas_vectors = self.__get_midas(ut['midas'])\n",
    "            output.append((\n",
    "                ut['text'], midas_labels, midas_vectors, ut['entities']))\n",
    "\n",
    "        # preprocess target: only the first sentence of\n",
    "        # the last utterance in the sequence\n",
    "        midas_labels, midas_vectors = self.__get_midas(seq[-1]['midas'])\n",
    "        midas_labels, midas_vectors = midas_labels[0:1], midas_vectors[0:1]\n",
    "        sentence = seq[-1]['text'][0].lower()\n",
    "        entities = seq[-1]['entities'][0]\n",
    "\n",
    "        if entities:\n",
    "            # filter out labels from stoplist\n",
    "            entities = [e for e in entities if e['label'] not in self.stoplist_labels]\n",
    "            # pre-sort them -> longest first to prevent mess with overlapping entities\n",
    "            entities = sorted(entities, key=lambda x: len(x['text']), reverse=True)\n",
    "\n",
    "        ## replace entities with their labels\n",
    "        for ent in entities:\n",
    "            sentence = sentence.replace(ent['text'].lower(), ent['label'].upper())\n",
    "\n",
    "        output.append(\n",
    "            (sentence, midas_labels[0], entities))\n",
    "\n",
    "        return output\n",
    "\n",
    "\n",
    "    def __get_dict_entry(self, seq) -> dict:\n",
    "        \"\"\" creates a proper dict entry to dump into a file \"\"\"\n",
    "        entry = dict()\n",
    "        entry['previous_text'] = [s[0] for s in seq[:-1]]\n",
    "        entry['previous_midas'] = [s[1] for s in seq[:-1]]\n",
    "        entry['midas_vectors'] = [s[2] for s in seq[:-1]]\n",
    "        entry['previous_entities'] = [s[-1] for s in seq[:-1]]\n",
    "        entry['predict'] = {}\n",
    "        entry['predict']['text'] = seq[-1][0]\n",
    "        entry['predict']['midas'] = seq[-1][1]\n",
    "        entry['predict']['entities'] = seq[-1][2]\n",
    "\n",
    "        return entry\n",
    "\n",
    "\n",
    "    def __get_midas(self, midas_labels: list) -> tuple:\n",
    "        \"\"\"\n",
    "        extracts midas labels with max value per each sentence in an utterance\n",
    "        and return a midas vector per each sentence\n",
    "        \"\"\"\n",
    "        labels = []\n",
    "        vectors = []\n",
    "\n",
    "        for sentence_labels in midas_labels:\n",
    "            labels.append(max(sentence_labels, key=sentence_labels.get))\n",
    "            vectors.append(list(sentence_labels.values()))\n",
    "\n",
    "        return labels, vectors"
   ]
  },
  {
   "cell_type": "code",
   "execution_count": 49,
   "id": "4bdd3ea3-366f-4435-967d-3a9f9b2db0d5",
   "metadata": {},
   "outputs": [],
   "source": [
    "from abc import ABC, abstractmethod\n",
    "\n",
    "class Validator(ABC):\n",
    "\n",
    "    @abstractmethod\n",
    "    def is_valid(self, seq: dict):\n",
    "        pass\n",
    "\n",
    "\n",
    "class OneEntity(Validator):\n",
    "\n",
    "    def __init__(self, stoplist: list = ['misc', 'anaphor', 'film', 'song', \"literary_work\"]):\n",
    "        self.stoplist = stoplist\n",
    "\n",
    "    def is_valid(self, seq:dict) -> bool:\n",
    "        \"\"\"\n",
    "        checks if the first sentence of the sequence has\n",
    "        one annotated entity and it is not in the stoplist\n",
    "        \"\"\"\n",
    "        if len(seq['entities'][0]) != 1:\n",
    "            return False\n",
    "\n",
    "        return seq['entities'][0][0]['label'] not in self.stoplist"
   ]
  },
  {
   "cell_type": "markdown",
   "id": "446ea328-d22c-4caa-b284-225a049df544",
   "metadata": {
    "tags": []
   },
   "source": [
    "## Daily Dialogue"
   ]
  },
  {
   "cell_type": "code",
   "execution_count": 50,
   "id": "23235657-03bd-4818-9ebe-aab09a1f58df",
   "metadata": {},
   "outputs": [],
   "source": [
    "daily = daily_sequencer.transform()"
   ]
  },
  {
   "cell_type": "code",
   "execution_count": 51,
   "id": "ff77dac1-4a55-4415-9496-a184d8745c01",
   "metadata": {},
   "outputs": [
    {
     "data": {
      "text/plain": [
       "61087"
      ]
     },
     "execution_count": 51,
     "metadata": {},
     "output_type": "execute_result"
    }
   ],
   "source": [
    "len(daily)"
   ]
  },
  {
   "cell_type": "code",
   "execution_count": 52,
   "id": "3d119ce2-45f6-4352-a2ac-d3aed5e99515",
   "metadata": {},
   "outputs": [],
   "source": [
    "daily_preproc = SequencePreprocessor()"
   ]
  },
  {
   "cell_type": "code",
   "execution_count": 53,
   "id": "e17aaf5b-daad-4fac-901f-8aabcc7322f0",
   "metadata": {
    "tags": []
   },
   "outputs": [
    {
     "data": {
      "text/plain": [
       "61087"
      ]
     },
     "execution_count": 53,
     "metadata": {},
     "output_type": "execute_result"
    }
   ],
   "source": [
    "daily_dataset = daily_preproc.transform(daily)\n",
    "len(daily_dataset)"
   ]
  },
  {
   "cell_type": "code",
   "execution_count": 54,
   "id": "d1f15bc5-bcdc-4f31-b00f-f820432b5abc",
   "metadata": {},
   "outputs": [],
   "source": [
    "with open('data/daily_dataset_v3.json', 'w', encoding='utf-8') as f:\n",
    "    json.dump(daily_dataset, f, ensure_ascii=False, indent=2)"
   ]
  },
  {
   "cell_type": "code",
   "execution_count": 55,
   "id": "79598da2-6db2-4b87-aa1d-f1ae9e7e306f",
   "metadata": {},
   "outputs": [
    {
     "data": {
      "text/plain": [
       "3894"
      ]
     },
     "execution_count": 55,
     "metadata": {},
     "output_type": "execute_result"
    }
   ],
   "source": [
    "daily_preproc = SequencePreprocessor(seq_validator=OneEntity())\n",
    "daily_dataset = daily_preproc.transform(daily)\n",
    "len(daily_dataset)"
   ]
  },
  {
   "cell_type": "code",
   "execution_count": 56,
   "id": "7a10595f-e007-4d86-821e-3495d91b5688",
   "metadata": {},
   "outputs": [],
   "source": [
    "with open('data/single_entity_daily_dataset_v3.json', 'w', encoding='utf-8') as f:\n",
    "    json.dump(daily_dataset, f, ensure_ascii=False, indent=2)"
   ]
  },
  {
   "cell_type": "markdown",
   "id": "ccd30dac-9aa7-40b1-a16a-adbf241ab493",
   "metadata": {
    "tags": []
   },
   "source": [
    "## Topical Chat"
   ]
  },
  {
   "cell_type": "code",
   "execution_count": 57,
   "id": "06871908-13f2-4bbb-a220-95f781400585",
   "metadata": {},
   "outputs": [],
   "source": [
    "topical = topical_sequencer.transform()"
   ]
  },
  {
   "cell_type": "code",
   "execution_count": 58,
   "id": "71ee2f9e-f30c-461c-abe1-f923b505873e",
   "metadata": {},
   "outputs": [
    {
     "data": {
      "text/plain": [
       "162494"
      ]
     },
     "execution_count": 58,
     "metadata": {},
     "output_type": "execute_result"
    }
   ],
   "source": [
    "len(topical)"
   ]
  },
  {
   "cell_type": "code",
   "execution_count": 59,
   "id": "1713fb1b-7550-49b1-9919-43ba330fbb16",
   "metadata": {},
   "outputs": [],
   "source": [
    "topical_preproc = SequencePreprocessor()"
   ]
  },
  {
   "cell_type": "code",
   "execution_count": 60,
   "id": "5beb2195-c6ec-44a4-ac2b-69e75b882b5b",
   "metadata": {
    "tags": []
   },
   "outputs": [
    {
     "data": {
      "text/plain": [
       "162494"
      ]
     },
     "execution_count": 60,
     "metadata": {},
     "output_type": "execute_result"
    }
   ],
   "source": [
    "topical_dataset = topical_preproc.transform(topical)\n",
    "len(topical_dataset)"
   ]
  },
  {
   "cell_type": "code",
   "execution_count": 61,
   "id": "e272008c-ded5-409c-9fd0-f7e39c862f2c",
   "metadata": {},
   "outputs": [],
   "source": [
    "with open('data/topical_dataset_v3.json', 'w', encoding='utf-8') as f:\n",
    "    json.dump(topical_dataset, f, ensure_ascii=False, indent=2)"
   ]
  },
  {
   "cell_type": "code",
   "execution_count": 62,
   "id": "f3a00aa0-3060-454a-9aa5-f86ba6b804f0",
   "metadata": {},
   "outputs": [
    {
     "data": {
      "text/plain": [
       "7800"
      ]
     },
     "execution_count": 62,
     "metadata": {},
     "output_type": "execute_result"
    }
   ],
   "source": [
    "topical_preproc = SequencePreprocessor(seq_validator=OneEntity())\n",
    "topical_dataset = topical_preproc.transform(topical)\n",
    "len(topical_dataset)"
   ]
  },
  {
   "cell_type": "code",
   "execution_count": 63,
   "id": "ad49aba6-394c-44e3-a8c9-515cede80f4a",
   "metadata": {},
   "outputs": [],
   "source": [
    "with open('data/single_entity_topical_dataset_v3.json', 'w', encoding='utf-8') as f:\n",
    "    json.dump(topical_dataset, f, ensure_ascii=False, indent=2)"
   ]
  },
  {
   "cell_type": "code",
   "execution_count": null,
   "id": "7ca1c331-ed1a-4f54-b654-663c9e140421",
   "metadata": {},
   "outputs": [],
   "source": []
  }
 ],
 "metadata": {
  "kernelspec": {
   "display_name": "Python 3 (ipykernel)",
   "language": "python",
   "name": "python3"
  },
  "language_info": {
   "codemirror_mode": {
    "name": "ipython",
    "version": 3
   },
   "file_extension": ".py",
   "mimetype": "text/x-python",
   "name": "python",
   "nbconvert_exporter": "python",
   "pygments_lexer": "ipython3",
   "version": "3.8.2"
  }
 },
 "nbformat": 4,
 "nbformat_minor": 5
}
