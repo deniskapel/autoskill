{
 "cells": [
  {
   "cell_type": "code",
   "execution_count": 1,
   "id": "eb98d908-317c-41d4-985e-3d00f33d9219",
   "metadata": {},
   "outputs": [],
   "source": [
    "import json\n",
    "import random\n",
    "import os\n",
    "import pandas as pd\n",
    "from sklearn.model_selection import train_test_split\n",
    "\n",
    "\n",
    "from utils.data2seq import Dial2seq, SequencePreprocessor"
   ]
  },
  {
   "cell_type": "markdown",
   "id": "6c95da74-bd0f-4dba-b61e-4c3a64e220fe",
   "metadata": {
    "tags": []
   },
   "source": [
    "# Data preprocessing (skip if preprocessed)"
   ]
  },
  {
   "cell_type": "code",
   "execution_count": 2,
   "id": "5da54a00-c262-4ece-a0c9-83717b970b9b",
   "metadata": {},
   "outputs": [
    {
     "name": "stdout",
     "output_type": "stream",
     "text": [
      "Total number of sequences in the DailyDialog dataset is 61087\n",
      "Total number of sequences in the Topical Chat dataset is 162494\n"
     ]
    }
   ],
   "source": [
    "# topical_sequencer = Dial2seq('data/topical_chat_annotated.json', 3)\n",
    "daily_sequencer = Dial2seq('data/daily_dialogue_annotated.json', 3)\n",
    "daily_seqs = daily_sequencer.transform()\n",
    "print('Total number of sequences in the DailyDialog dataset is', len(daily_seqs))\n",
    "topical_sequencer = Dial2seq('data/topical_chat_annotated.json', 3)\n",
    "topical_seqs = topical_sequencer.transform()\n",
    "print('Total number of sequences in the Topical Chat dataset is', len(topical_seqs))"
   ]
  },
  {
   "cell_type": "code",
   "execution_count": 3,
   "id": "0291945a-cfdf-4fe9-acde-d8721fc35d8d",
   "metadata": {},
   "outputs": [
    {
     "data": {
      "text/plain": [
       "223581"
      ]
     },
     "execution_count": 3,
     "metadata": {},
     "output_type": "execute_result"
    }
   ],
   "source": [
    "preproc = SequencePreprocessor()\n",
    "midas_dataset = preproc.transform(daily_seqs + topical_seqs)\n",
    "len(midas_dataset)"
   ]
  },
  {
   "cell_type": "code",
   "execution_count": 4,
   "id": "26a47e06-c4a2-4c61-b311-243f08932f67",
   "metadata": {},
   "outputs": [],
   "source": [
    "train, val_test = train_test_split(midas_dataset, test_size=0.2, random_state=42)\n",
    "val, test = train_test_split(val_test, test_size=0.5, random_state=42)"
   ]
  },
  {
   "cell_type": "markdown",
   "id": "98f9ccd7-732c-44f2-8f0d-5523820f9a3a",
   "metadata": {},
   "source": [
    "#### stats for train/val/test"
   ]
  },
  {
   "cell_type": "code",
   "execution_count": 5,
   "id": "aa63f02d-18a8-4e94-a16b-b71e99000e13",
   "metadata": {},
   "outputs": [],
   "source": [
    "target_train = [sample['predict'] for sample in train]\n",
    "target_val = [sample['predict'] for sample in val]\n",
    "target_test = [sample['predict'] for sample in test]"
   ]
  },
  {
   "cell_type": "code",
   "execution_count": 7,
   "id": "2561f96b-2674-4d16-92ce-3c77450f01a7",
   "metadata": {},
   "outputs": [],
   "source": [
    "target_train = pd.json_normalize(target_train)\n",
    "target_val = pd.json_normalize(target_val)\n",
    "target_test = pd.json_normalize(target_test)"
   ]
  },
  {
   "cell_type": "markdown",
   "id": "db4710c6-0d99-4dff-969d-95c740e51b0f",
   "metadata": {},
   "source": [
    "validate all midas labels from test and val are in train"
   ]
  },
  {
   "cell_type": "code",
   "execution_count": 9,
   "id": "61ad7b87-3a63-499c-81c3-7dac51bd2ea5",
   "metadata": {},
   "outputs": [
    {
     "data": {
      "text/plain": [
       "set()"
      ]
     },
     "execution_count": 9,
     "metadata": {},
     "output_type": "execute_result"
    }
   ],
   "source": [
    "set(target_val['midas'].value_counts().index.tolist()) -set(target_train['midas'].value_counts().index.tolist())"
   ]
  },
  {
   "cell_type": "code",
   "execution_count": 10,
   "id": "0fa93f9d-6d4a-48f5-b2da-f83b963f4dcc",
   "metadata": {},
   "outputs": [
    {
     "data": {
      "text/plain": [
       "set()"
      ]
     },
     "execution_count": 10,
     "metadata": {},
     "output_type": "execute_result"
    }
   ],
   "source": [
    "set(target_test['midas'].value_counts().index.tolist()) - set(target_train['midas'].value_counts().index.tolist())"
   ]
  },
  {
   "cell_type": "code",
   "execution_count": 11,
   "id": "d0f6093b-84f4-4538-9e6b-24f23049b3c8",
   "metadata": {},
   "outputs": [
    {
     "data": {
      "text/plain": [
       "opinion                  0.320344\n",
       "statement                0.278278\n",
       "pos_answer               0.117285\n",
       "comment                  0.101395\n",
       "yes_no_question          0.042105\n",
       "neg_answer               0.031812\n",
       "appreciation             0.026624\n",
       "open_question_factual    0.021514\n",
       "complaint                0.021228\n",
       "command                  0.016521\n",
       "open_question_opinion    0.012982\n",
       "other_answers            0.008062\n",
       "dev_command              0.001851\n",
       "Name: midas, dtype: float64"
      ]
     },
     "execution_count": 11,
     "metadata": {},
     "output_type": "execute_result"
    }
   ],
   "source": [
    "target_train['midas'].value_counts(normalize=True)"
   ]
  },
  {
   "cell_type": "code",
   "execution_count": 12,
   "id": "24c9dd3c-38b9-47ee-9d40-bb004eeecb2a",
   "metadata": {},
   "outputs": [
    {
     "data": {
      "text/plain": [
       "opinion                  0.314026\n",
       "statement                0.284104\n",
       "pos_answer               0.115350\n",
       "comment                  0.102648\n",
       "yes_no_question          0.040925\n",
       "neg_answer               0.032159\n",
       "appreciation             0.028625\n",
       "open_question_factual    0.021603\n",
       "complaint                0.021558\n",
       "command                  0.016594\n",
       "open_question_opinion    0.011897\n",
       "other_answers            0.008811\n",
       "dev_command              0.001700\n",
       "Name: midas, dtype: float64"
      ]
     },
     "execution_count": 12,
     "metadata": {},
     "output_type": "execute_result"
    }
   ],
   "source": [
    "target_val['midas'].value_counts(normalize=True)"
   ]
  },
  {
   "cell_type": "code",
   "execution_count": 13,
   "id": "a6b959bf-f0bf-433e-b658-48584fa9218a",
   "metadata": {},
   "outputs": [
    {
     "data": {
      "text/plain": [
       "opinion                  0.315041\n",
       "statement                0.283957\n",
       "pos_answer               0.115792\n",
       "comment                  0.100720\n",
       "yes_no_question          0.041191\n",
       "neg_answer               0.033499\n",
       "appreciation             0.026790\n",
       "complaint                0.021602\n",
       "open_question_factual    0.021200\n",
       "command                  0.017711\n",
       "open_question_opinion    0.013060\n",
       "other_answers            0.008274\n",
       "dev_command              0.001163\n",
       "Name: midas, dtype: float64"
      ]
     },
     "execution_count": 13,
     "metadata": {},
     "output_type": "execute_result"
    }
   ],
   "source": [
    "target_test['midas'].value_counts(normalize=True)"
   ]
  },
  {
   "cell_type": "code",
   "execution_count": 14,
   "id": "0bfd2559-6e1c-4b85-a898-61cd4e45b23c",
   "metadata": {},
   "outputs": [],
   "source": [
    "with open('data/annotated/midas_train.json', 'w', encoding='utf-8') as f:\n",
    "    json.dump(train, f, ensure_ascii=False, indent=2)\n",
    "    \n",
    "with open('data/annotated/midas_val.json', 'w', encoding='utf-8') as f:\n",
    "    json.dump(val, f, ensure_ascii=False, indent=2)\n",
    "    \n",
    "with open('data/annotated/midas_test.json', 'w', encoding='utf-8') as f:\n",
    "    json.dump(test, f, ensure_ascii=False, indent=2)"
   ]
  },
  {
   "cell_type": "markdown",
   "id": "e3bef3fb-7300-40b8-a99e-19a66845280b",
   "metadata": {},
   "source": [
    "# Load Data and models"
   ]
  },
  {
   "cell_type": "markdown",
   "id": "128a4cc0-33da-4594-8493-89ab97da9820",
   "metadata": {},
   "source": [
    "### Data"
   ]
  },
  {
   "cell_type": "code",
   "execution_count": 2,
   "id": "650e70ea-75a7-48b4-a241-f8eeed777b18",
   "metadata": {},
   "outputs": [],
   "source": [
    "Midas2Id = {\n",
    "    \"appreciation\": 0, \"command\": 1, \"comment\": 2,\"complaint\": 3,\n",
    "    \"dev_command\": 4, \"neg_answer\": 5, \"open_question_factual\": 6,\n",
    "    \"open_question_opinion\": 7, \"opinion\": 8, \"other_answers\": 9,\n",
    "    \"pos_answer\": 10, \"statement\": 11, \"yes_no_question\": 12,\n",
    "}"
   ]
  },
  {
   "cell_type": "code",
   "execution_count": 3,
   "id": "e36a208f-e60a-43b2-a07d-4beaf83f0598",
   "metadata": {},
   "outputs": [],
   "source": [
    "with open('data/annotated/midas_train.json', 'r', encoding='utf8') as f:\n",
    "    train = json.load(f)\n",
    "    \n",
    "with open('data/annotated/midas_val.json', 'r', encoding='utf8') as f:\n",
    "    val = json.load(f)\n",
    "\n",
    "with open('data/annotated/midas_test.json', 'r', encoding='utf8') as f:\n",
    "    test = json.load(f)"
   ]
  },
  {
   "cell_type": "code",
   "execution_count": 5,
   "id": "2feccc85-105c-430a-9460-fa972ff646e0",
   "metadata": {},
   "outputs": [
    {
     "data": {
      "text/plain": [
       "(178864, 22358, 22359)"
      ]
     },
     "execution_count": 5,
     "metadata": {},
     "output_type": "execute_result"
    }
   ],
   "source": [
    "len(train), len(val), len(test)"
   ]
  },
  {
   "cell_type": "markdown",
   "id": "a8460669-e330-460d-bd39-447a3d3f9c6a",
   "metadata": {},
   "source": [
    "### Models"
   ]
  },
  {
   "cell_type": "code",
   "execution_count": 6,
   "id": "e7232ae8-716a-49d4-a750-b6885f746a38",
   "metadata": {},
   "outputs": [],
   "source": [
    "import pickle\n",
    "\n",
    "from collections import Counter\n",
    "\n",
    "import matplotlib.pyplot as plt\n",
    "import numpy as np\n",
    "import tensorflow_hub as hub\n",
    "\n",
    "from sklearn.ensemble import RandomForestClassifier\n",
    "from sklearn.metrics import f1_score, accuracy_score\n",
    "from sklearn.metrics import confusion_matrix\n",
    "from utils.midas_dataset import MidasDataset, MidasVectorizer"
   ]
  },
  {
   "cell_type": "code",
   "execution_count": 7,
   "id": "f6f88bf3-4c93-453f-916a-59234acaee88",
   "metadata": {},
   "outputs": [
    {
     "name": "stdout",
     "output_type": "stream",
     "text": [
      "module https://tfhub.dev/google/universal-sentence-encoder/4 loaded\n"
     ]
    }
   ],
   "source": [
    "os.environ['TFHUB_CACHE_DIR'] = './models/tf_cache'\n",
    "module_url = \"https://tfhub.dev/google/universal-sentence-encoder/4\"\n",
    "encoder = hub.load(module_url)\n",
    "print (\"module %s loaded\" % module_url)"
   ]
  },
  {
   "cell_type": "code",
   "execution_count": 8,
   "id": "14d993fc-537c-46c2-8a8c-b6d00bb75d08",
   "metadata": {},
   "outputs": [],
   "source": [
    "midas_vectorizer = MidasVectorizer(\n",
    "    text_vectorizer=encoder, # USE\n",
    "    midas2id=Midas2Id,\n",
    "    context_len=3,\n",
    "    embed_dim=512 # USE vector size\n",
    ")"
   ]
  },
  {
   "cell_type": "code",
   "execution_count": 9,
   "id": "c049e299-14ee-466e-929b-4cf119daf5c4",
   "metadata": {},
   "outputs": [
    {
     "data": {
      "text/plain": [
       "array([-0.01867618, -0.10222048, -0.07162994, ...,  0.05140803,\n",
       "        0.86425042,  0.03094536])"
      ]
     },
     "execution_count": 9,
     "metadata": {},
     "output_type": "execute_result"
    }
   ],
   "source": [
    "midas_vectorizer.context_vector(train[0]['previous_text'], train[0]['midas_vectors'])"
   ]
  },
  {
   "cell_type": "code",
   "execution_count": 10,
   "id": "70eee7cc-428b-4281-8725-687d6aea379f",
   "metadata": {},
   "outputs": [],
   "source": [
    "train_dataloader = MidasDataset(\n",
    "    data=train,\n",
    "    vectorizer=midas_vectorizer,\n",
    "    batch_size= len(train),\n",
    "    shuffle=False)\n",
    "\n",
    "val_dataloader = MidasDataset(\n",
    "    data=val,\n",
    "    vectorizer=midas_vectorizer,\n",
    "    batch_size= len(val),\n",
    "    shuffle=False)\n",
    "\n",
    "test_dataloader = MidasDataset(\n",
    "    data=test,\n",
    "    vectorizer=midas_vectorizer,\n",
    "    batch_size= len(test),\n",
    "    shuffle=False)"
   ]
  },
  {
   "cell_type": "code",
   "execution_count": 11,
   "id": "ea52639b-f775-4929-958f-c05cac8ff556",
   "metadata": {},
   "outputs": [],
   "source": [
    "for X_train, y_train in train_dataloader:\n",
    "    break"
   ]
  },
  {
   "cell_type": "code",
   "execution_count": 12,
   "id": "e01bed84-22d1-4219-8d7f-bc4cbe8089e4",
   "metadata": {},
   "outputs": [
    {
     "data": {
      "text/plain": [
       "((178864, 1575), 178864)"
      ]
     },
     "execution_count": 12,
     "metadata": {},
     "output_type": "execute_result"
    }
   ],
   "source": [
    "X_train.shape, len(y_train)"
   ]
  },
  {
   "cell_type": "code",
   "execution_count": 13,
   "id": "e56bff2a-6f2a-4aa2-bac7-1dc8100d9f25",
   "metadata": {},
   "outputs": [],
   "source": [
    "for X_val, y_val in val_dataloader:\n",
    "    break"
   ]
  },
  {
   "cell_type": "code",
   "execution_count": 14,
   "id": "4fd3688c-5a4a-44e5-b242-0e1380a9cf05",
   "metadata": {},
   "outputs": [
    {
     "data": {
      "text/plain": [
       "((22358, 1575), 22358)"
      ]
     },
     "execution_count": 14,
     "metadata": {},
     "output_type": "execute_result"
    }
   ],
   "source": [
    "X_val.shape, len(y_val)"
   ]
  },
  {
   "cell_type": "code",
   "execution_count": 15,
   "id": "6f12ff52-6270-48e0-8dda-61a72f9a9fc8",
   "metadata": {},
   "outputs": [],
   "source": [
    "for X_test, y_test in test_dataloader:\n",
    "    break"
   ]
  },
  {
   "cell_type": "code",
   "execution_count": 16,
   "id": "4c16d7ce-4232-42b0-aec0-baabcddfdd9b",
   "metadata": {},
   "outputs": [
    {
     "data": {
      "text/plain": [
       "((22359, 1575), 22359)"
      ]
     },
     "execution_count": 16,
     "metadata": {},
     "output_type": "execute_result"
    }
   ],
   "source": [
    "X_test.shape, len(y_test)"
   ]
  },
  {
   "cell_type": "markdown",
   "id": "74b1f6dd-357c-4d35-b2bc-646c7b03c3a1",
   "metadata": {},
   "source": [
    "### train and eval"
   ]
  },
  {
   "cell_type": "code",
   "execution_count": 266,
   "id": "4c46f32d-77e6-4a5c-a41a-9c798bb86545",
   "metadata": {},
   "outputs": [],
   "source": [
    "rfc_model = RandomForestClassifier(max_depth=20, max_samples=0.60, random_state=42)"
   ]
  },
  {
   "cell_type": "code",
   "execution_count": 267,
   "id": "c23f7801-66f0-4a0b-b7fe-fa584428ffa3",
   "metadata": {},
   "outputs": [
    {
     "data": {
      "text/plain": [
       "RandomForestClassifier(max_depth=20, max_samples=0.6, random_state=42)"
      ]
     },
     "execution_count": 267,
     "metadata": {},
     "output_type": "execute_result"
    }
   ],
   "source": [
    "rfc_model.fit(X_train, y_train)"
   ]
  },
  {
   "cell_type": "code",
   "execution_count": 268,
   "id": "d5b51375-ec12-46b4-9d23-ff7f9fab85c5",
   "metadata": {},
   "outputs": [],
   "source": [
    "val_preds = rfc_model.predict(X_val)"
   ]
  },
  {
   "cell_type": "code",
   "execution_count": 269,
   "id": "7621d987-1cb9-4107-8fdf-06b5100bb0ad",
   "metadata": {},
   "outputs": [
    {
     "data": {
      "text/plain": [
       "Counter({8: 14870,\n",
       "         6: 44,\n",
       "         11: 7070,\n",
       "         10: 151,\n",
       "         3: 28,\n",
       "         7: 11,\n",
       "         2: 66,\n",
       "         12: 56,\n",
       "         1: 27,\n",
       "         5: 22,\n",
       "         0: 7,\n",
       "         9: 3,\n",
       "         4: 3})"
      ]
     },
     "execution_count": 269,
     "metadata": {},
     "output_type": "execute_result"
    }
   ],
   "source": [
    "Counter(val_preds)"
   ]
  },
  {
   "cell_type": "code",
   "execution_count": 270,
   "id": "9a25fc1b-9c03-41c2-8c63-40f9d02e8752",
   "metadata": {},
   "outputs": [
    {
     "data": {
      "text/plain": [
       "0.40459790678951607"
      ]
     },
     "execution_count": 270,
     "metadata": {},
     "output_type": "execute_result"
    }
   ],
   "source": [
    "accuracy_score(y_val, val_preds)"
   ]
  },
  {
   "cell_type": "code",
   "execution_count": 271,
   "id": "821cddc8-3851-4d93-9cfa-19841537398c",
   "metadata": {},
   "outputs": [
    {
     "data": {
      "text/plain": [
       "0.3192996037601866"
      ]
     },
     "execution_count": 271,
     "metadata": {},
     "output_type": "execute_result"
    }
   ],
   "source": [
    "f1_score(y_val, val_preds, average='weighted')"
   ]
  },
  {
   "cell_type": "code",
   "execution_count": 272,
   "id": "194ff138-fed3-4dc0-8913-9e6b11a7ebc7",
   "metadata": {},
   "outputs": [
    {
     "data": {
      "image/png": "[encoded data removed]",
      "text/plain": [
       "<Figure size 1080x1080 with 1 Axes>"
      ]
     },
     "metadata": {
      "needs_background": "light"
     },
     "output_type": "display_data"
    }
   ],
   "source": [
    "conf_matrix = confusion_matrix(\n",
    "    [list(Midas2Id)[i] for i in y_val],\n",
    "    [list(Midas2Id)[i] for i in val_preds],\n",
    "    labels=list(Midas2Id))\n",
    "\n",
    "fig, ax = plt.subplots(figsize=(15, 15))\n",
    "\n",
    "ax.matshow(conf_matrix, cmap=plt.cm.Blues, alpha=0.3)\n",
    "\n",
    "for i in range(conf_matrix.shape[0]):\n",
    "    for j in range(conf_matrix.shape[1]):\n",
    "        ax.text(x=j, y=i,s=conf_matrix[i, j], va='center', ha='center', size='xx-large')\n",
    "\n",
    "plt.xlabel('Predictions', fontsize=14)\n",
    "plt.ylabel('Actuals', fontsize=18)\n",
    "plt.title('MIDAS Confusion Matrix', fontsize=18)\n",
    "plt.show()"
   ]
  },
  {
   "cell_type": "code",
   "execution_count": 273,
   "id": "575671dd-75e8-4639-bac2-37bf920b347a",
   "metadata": {},
   "outputs": [],
   "source": [
    "# Store data (serialize)\n",
    "with open('models/rfc_depth20_maxsample06.pickle', 'wb') as f:\n",
    "    pickle.dump(rfc_model, f, protocol=pickle.HIGHEST_PROTOCOL)"
   ]
  },
  {
   "cell_type": "code",
   "execution_count": 54,
   "id": "597fa4dd-8417-4d03-9c27-dffcc70e462b",
   "metadata": {},
   "outputs": [],
   "source": [
    "# Load data (deserialize)\n",
    "with open('models/rfc_depth20.pickle', 'rb') as f:\n",
    "    loaded_model = pickle.load(f)"
   ]
  },
  {
   "cell_type": "markdown",
   "id": "9664d81a-b1da-4851-b547-5f84ce88029e",
   "metadata": {},
   "source": [
    "### Inference"
   ]
  },
  {
   "cell_type": "code",
   "execution_count": null,
   "id": "59a040fc-7099-4459-a34f-b5fdd5b9c908",
   "metadata": {},
   "outputs": [],
   "source": [
    "midas_vectorizer = MidasVectorizer(\n",
    "    text_vectorizer=encoder, # USE\n",
    "    midas2id=Midas2Id,\n",
    "    context_len=3,\n",
    "    embed_dim=512 # USE vector size\n",
    ")"
   ]
  },
  {
   "cell_type": "code",
   "execution_count": 128,
   "id": "ca5edac8-7819-419b-a6c1-bc1eb7641983",
   "metadata": {},
   "outputs": [],
   "source": [
    "def inference(context: list, midas: list, clf, vectorizer) -> np.ndarray:\n",
    "    \"\"\"\n",
    "    context: list of utterances (string)\n",
    "    midas: list of lists of midas dicts {midas_label_1: prob, ..., midas_label_n, proba}\n",
    "            1D : number of utterances = 3, 2D: number of sentences in the utterance: N\n",
    "    clf: sklearn classifier trained to predict next midas label\n",
    "    vectorizer: Vectorizer to concatenate text embeddings with midas proba distribution\n",
    "    \n",
    "    output: probability distribution for the next utterance\n",
    "    \"\"\"\n",
    "    # extract vectors\n",
    "    midas_vectors = list()\n",
    "\n",
    "    for ut in test_midas:\n",
    "        utterance_vec = list()\n",
    "        for sent in ut:\n",
    "            utterance_vec.append(list(sent.values()))\n",
    "        midas_vectors.append(utterance_vec)\n",
    "\n",
    "    assert len(context) == len(midas_vectors)\n",
    "    vec = vectorizer.context_vector(context, midas_vectors)[None, :]\n",
    "    \n",
    "    pred_probas = clf.predict_proba(vec)\n",
    "    \n",
    "    return pred_probas.squeeze()"
   ]
  },
  {
   "cell_type": "markdown",
   "id": "3fbc22dc-7f57-46ff-97f5-53ba8aa2da17",
   "metadata": {},
   "source": [
    "test on a dummy data"
   ]
  },
  {
   "cell_type": "code",
   "execution_count": 129,
   "id": "56c83123-a299-4053-996a-8c3717a357b6",
   "metadata": {},
   "outputs": [
    {
     "name": "stdout",
     "output_type": "stream",
     "text": [
      "Yeah I think the original is going to be the best. Did you know that Stephen King actually thinks that the movie Bambi should be a horror movie?\n",
      "Utterance len:  2\n",
      "[{'appreciation': 0.0022430846001952887, 'command': 0.0024833311326801777, 'comment': 0.007560018915683031, 'complaint': 0.0010543332900851965, 'dev_command': 0.001281813019886613, 'neg_answer': 0.0013224049471318722, 'open_question_factual': 0.0015646334504708648, 'open_question_opinion': 0.0012719057267531753, 'opinion': 0.9702610373497009, 'other_answers': 0.0010310874786227942, 'pos_answer': 0.0032127194572240114, 'statement': 0.005328143946826458, 'yes_no_question': 0.001385452225804329}, {'appreciation': 0.01672188937664032, 'command': 0.08160554617643356, 'comment': 0.020263012498617172, 'complaint': 0.0159416776150465, 'dev_command': 0.05004351958632469, 'neg_answer': 0.0061445110477507114, 'open_question_factual': 0.011150079779326916, 'open_question_opinion': 0.012583243660628796, 'opinion': 0.020224809646606445, 'other_answers': 0.006914180237799883, 'pos_answer': 0.048117928206920624, 'statement': 0.2340209186077118, 'yes_no_question': 0.47626861929893494}] \n",
      "\n",
      "He was traumatized as a child. That movie did have death. so it could be scary. Anyway. he turned his trauma into a career.\n",
      "Utterance len:  5\n",
      "[{'appreciation': 0.002246711403131485, 'command': 0.005077107809484005, 'comment': 0.02533615380525589, 'complaint': 0.007918080314993858, 'dev_command': 0.00241276272572577, 'neg_answer': 0.00475143501535058, 'open_question_factual': 0.0035267367493361235, 'open_question_opinion': 0.0012203038204461336, 'opinion': 0.09563934803009033, 'other_answers': 0.002128361025825143, 'pos_answer': 0.007190752308815718, 'statement': 0.8379921913146973, 'yes_no_question': 0.004560035653412342}, {'appreciation': 0.006216045934706926, 'command': 0.005543326959013939, 'comment': 0.06726537644863129, 'complaint': 0.007902280427515507, 'dev_command': 0.004591816570609808, 'neg_answer': 0.002997414441779256, 'open_question_factual': 0.0029070409946143627, 'open_question_opinion': 0.00128675636369735, 'opinion': 0.2027738243341446, 'other_answers': 0.003800278529524803, 'pos_answer': 0.012216942384839058, 'statement': 0.6755129098892212, 'yes_no_question': 0.006985979154706001}, {'appreciation': 0.001438494655303657, 'command': 0.005702972877770662, 'comment': 0.0038838894106447697, 'complaint': 0.0013019181787967682, 'dev_command': 0.0018319272203370929, 'neg_answer': 0.0020134036894887686, 'open_question_factual': 0.002612639218568802, 'open_question_opinion': 0.00164798682089895, 'opinion': 0.8713271617889404, 'other_answers': 0.001823732629418373, 'pos_answer': 0.003724748734384775, 'statement': 0.10119263827800751, 'yes_no_question': 0.0014985863817855716}, {'appreciation': 0.0055086081847548485, 'command': 0.07090222835540771, 'comment': 0.01538943499326706, 'complaint': 0.010987231507897377, 'dev_command': 0.01964181289076805, 'neg_answer': 0.0024901616852730513, 'open_question_factual': 0.0071478900499641895, 'open_question_opinion': 0.004698585718870163, 'opinion': 0.3182574212551117, 'other_answers': 0.004986622836440802, 'pos_answer': 0.00771094998344779, 'statement': 0.525722324848175, 'yes_no_question': 0.006556767504662275}, {'appreciation': 0.001215822878293693, 'command': 0.00546902185305953, 'comment': 0.004529287572950125, 'complaint': 0.003424491500481963, 'dev_command': 0.00217980844900012, 'neg_answer': 0.001817267038859427, 'open_question_factual': 0.001144880661740899, 'open_question_opinion': 0.0006617264007218182, 'opinion': 0.040585290640592575, 'other_answers': 0.0010065673850476742, 'pos_answer': 0.002216659253463149, 'statement': 0.9343385100364685, 'yes_no_question': 0.0014106010785326362}] \n",
      "\n",
      "Well that's really good for him! Do you think that horror movies actually burn almost 200 calories per movie? If so I should watch more to lose weight LOL\n",
      "Utterance len:  3\n",
      "[{'appreciation': 0.09347952157258987, 'command': 0.006450179032981396, 'comment': 0.46117645502090454, 'complaint': 0.010680354200303555, 'dev_command': 0.008279232308268547, 'neg_answer': 0.006361437030136585, 'open_question_factual': 0.006619233638048172, 'open_question_opinion': 0.00458379415795207, 'opinion': 0.3307962715625763, 'other_answers': 0.004309769254177809, 'pos_answer': 0.02680644765496254, 'statement': 0.03480440378189087, 'yes_no_question': 0.005652919877320528}, {'appreciation': 0.004521476104855537, 'command': 0.01839742437005043, 'comment': 0.005754577461630106, 'complaint': 0.004364632535725832, 'dev_command': 0.011832351796329021, 'neg_answer': 0.001966299721971154, 'open_question_factual': 0.01047328021377325, 'open_question_opinion': 0.014498980715870857, 'opinion': 0.0026700459420681, 'other_answers': 0.002797020599246025, 'pos_answer': 0.0032684991601854563, 'statement': 0.0030919418204575777, 'yes_no_question': 0.9163634181022644}, {'appreciation': 0.0016003294149413705, 'command': 0.0026942265685647726, 'comment': 0.0074625820852816105, 'complaint': 0.0014226329512894154, 'dev_command': 0.0013552558375522494, 'neg_answer': 0.0009789837058633566, 'open_question_factual': 0.0014742454513907433, 'open_question_opinion': 0.0009957224829122424, 'opinion': 0.8757975697517395, 'other_answers': 0.001341403927654028, 'pos_answer': 0.0030241692438721657, 'statement': 0.10065410286188126, 'yes_no_question': 0.0011989130871370435}] \n",
      "\n"
     ]
    }
   ],
   "source": [
    "test_context = [\" \".join(ut) for ut in train[13]['previous_text']]\n",
    "\n",
    "test_midas = list()\n",
    "for ut in train[13]['midas_vectors']:\n",
    "    ut_midas = list()\n",
    "    for sent in ut:\n",
    "        ut_midas.append(dict(zip(Midas2Id, sent)))\n",
    "    test_midas.append(ut_midas)\n",
    "    \n",
    "for text, ut in zip(test_context, test_midas):\n",
    "    print(text)    \n",
    "    print('Utterance len: ', len(ut))    \n",
    "    print(ut, '\\n')"
   ]
  },
  {
   "cell_type": "code",
   "execution_count": 145,
   "id": "e0cf05c3-3575-4f5b-86d6-3c8a3298fecf",
   "metadata": {},
   "outputs": [
    {
     "data": {
      "text/plain": [
       "11"
      ]
     },
     "execution_count": 145,
     "metadata": {},
     "output_type": "execute_result"
    }
   ],
   "source": [
    "np.argmax(inference(test_context, test_midas, rfc_model, midas_vectorizer), axis=-1)"
   ]
  },
  {
   "cell_type": "code",
   "execution_count": 133,
   "id": "7d0a55a5-bdb7-4597-ac0d-a01959fa53f4",
   "metadata": {},
   "outputs": [
    {
     "data": {
      "text/plain": [
       "8"
      ]
     },
     "execution_count": 133,
     "metadata": {},
     "output_type": "execute_result"
    }
   ],
   "source": [
    "np.argmax(inference(test_context, test_midas, loaded_model, midas_vectorizer), axis=-1)"
   ]
  },
  {
   "cell_type": "markdown",
   "id": "a50287b3-2297-4c73-af12-e40bdb73b9c5",
   "metadata": {},
   "source": [
    "## GridSearchCV"
   ]
  },
  {
   "cell_type": "code",
   "execution_count": 17,
   "id": "cf547f6e-f295-41bd-9f8c-0a9a0f3df60a",
   "metadata": {},
   "outputs": [],
   "source": [
    "from sklearn.model_selection import GridSearchCV"
   ]
  },
  {
   "cell_type": "code",
   "execution_count": 37,
   "id": "1983133c-55ac-4be0-a359-a92bc8cfdeb8",
   "metadata": {},
   "outputs": [],
   "source": [
    "rfc = RandomForestClassifier()"
   ]
  },
  {
   "cell_type": "code",
   "execution_count": 38,
   "id": "bdf7adc1-f133-44d1-b2f8-bd9dcfa03977",
   "metadata": {},
   "outputs": [],
   "source": [
    "forest_params = [{\n",
    "    'max_depth': list(range(5, 35, 5)), \n",
    "    'n_estimators': list(range(20,100,20)),\n",
    "    'criterion' : [\"gini\", \"entropy\"],\n",
    "    'min_samples_split': list(range(2,5)),\n",
    "    'random_state': [42],\n",
    "    'max_samples': [x / 10.0 for x in range(2, 12, 2)],\n",
    "    'class_weight': ['balanced', \"balanced_subsample\", None]\n",
    "}]"
   ]
  },
  {
   "cell_type": "code",
   "execution_count": 40,
   "id": "9a5d511c-47d7-43e6-b07f-9c82f390fed5",
   "metadata": {},
   "outputs": [
    {
     "name": "stderr",
     "output_type": "stream",
     "text": [
      "c:\\users\\denis\\documents\\hse\\deeppavlov\\autoskill\\venv\\lib\\site-packages\\sklearn\\model_selection\\_split.py:676: UserWarning: The least populated class in y has only 2 members, which is less than n_splits=5.\n",
      "  warnings.warn(\n"
     ]
    },
    {
     "data": {
      "text/plain": [
       "GridSearchCV(estimator=RandomForestClassifier(),\n",
       "             param_grid=[{'class_weight': ['balanced', 'balanced_subsample',\n",
       "                                           None],\n",
       "                          'criterion': ['gini', 'entropy'],\n",
       "                          'max_depth': [5, 10, 15, 20, 25, 30],\n",
       "                          'max_samples': [0.2, 0.4, 0.6, 0.8, 1.0],\n",
       "                          'min_samples_split': [2, 3, 4],\n",
       "                          'n_estimators': [20, 40, 60, 80],\n",
       "                          'random_state': [42]}],\n",
       "             scoring='accuracy')"
      ]
     },
     "execution_count": 40,
     "metadata": {},
     "output_type": "execute_result"
    }
   ],
   "source": [
    "clf = GridSearchCV(rfc, forest_params, scoring='accuracy')\n",
    "\n",
    "clf.fit(X_train, y_train)"
   ]
  },
  {
   "cell_type": "code",
   "execution_count": 32,
   "id": "2d456ee8-2b63-45ee-93f8-8d8fd418613d",
   "metadata": {},
   "outputs": [
    {
     "data": {
      "text/plain": [
       "[{'max_depth': [5, 10, 15, 20, 25, 30],\n",
       "  'n_estimators': [20, 40, 60, 80],\n",
       "  'criterion': ['gini', 'entropy'],\n",
       "  'min_samples_split': [2, 3, 4],\n",
       "  'random_state': 42,\n",
       "  'max_samples': [0.2, 0.4, 0.6, 0.8, 1.0],\n",
       "  'class_weight': ['balanced', 'balanced_subsample', None]}]"
      ]
     },
     "execution_count": 32,
     "metadata": {},
     "output_type": "execute_result"
    }
   ],
   "source": [
    "forest_params"
   ]
  },
  {
   "cell_type": "code",
   "execution_count": 41,
   "id": "d7b2161c-0e3e-4cd5-8f3d-360eb5b9f309",
   "metadata": {},
   "outputs": [
    {
     "data": {
      "text/plain": [
       "RandomForestClassifier(class_weight='balanced_subsample', criterion='entropy',\n",
       "                       max_depth=10, max_samples=0.4, n_estimators=60,\n",
       "                       random_state=42)"
      ]
     },
     "execution_count": 41,
     "metadata": {},
     "output_type": "execute_result"
    }
   ],
   "source": [
    "clf.best_estimator_"
   ]
  },
  {
   "cell_type": "code",
   "execution_count": null,
   "id": "50873765-1f98-430f-a37c-9ef12c9a2f52",
   "metadata": {},
   "outputs": [],
   "source": []
  }
 ],
 "metadata": {
  "kernelspec": {
   "display_name": "Python 3 (ipykernel)",
   "language": "python",
   "name": "python3"
  },
  "language_info": {
   "codemirror_mode": {
    "name": "ipython",
    "version": 3
   },
   "file_extension": ".py",
   "mimetype": "text/x-python",
   "name": "python",
   "nbconvert_exporter": "python",
   "pygments_lexer": "ipython3",
   "version": "3.8.2"
  }
 },
 "nbformat": 4,
 "nbformat_minor": 5
}
