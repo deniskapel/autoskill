{
  "nbformat": 4,
  "nbformat_minor": 0,
  "metadata": {
    "colab": {
      "name": "test_dialog_rpt",
      "provenance": [],
      "collapsed_sections": [
        "PQvTV8CwYkRe"
      ],
      "include_colab_link": true
    },
    "kernelspec": {
      "name": "python3",
      "display_name": "Python 3"
    },
    "widgets": {
      "application/vnd.jupyter.widget-state+json": {
        "5cfdeeb27af04e5bb1b93126bf468577": {
          "model_module": "@jupyter-widgets/controls",
          "model_name": "HBoxModel",
          "model_module_version": "1.5.0",
          "state": {
            "_dom_classes": [],
            "_model_module": "@jupyter-widgets/controls",
            "_model_module_version": "1.5.0",
            "_model_name": "HBoxModel",
            "_view_count": null,
            "_view_module": "@jupyter-widgets/controls",
            "_view_module_version": "1.5.0",
            "_view_name": "HBoxView",
            "box_style": "",
            "children": [
              "IPY_MODEL_bbedcdefee81470ca65f7855e8707a7b",
              "IPY_MODEL_10c803a3ac0a4e0780131b4c31c9bc04",
              "IPY_MODEL_e284c72b3fa54b73a6cd5d47d4fdeb34"
            ],
            "layout": "IPY_MODEL_f3d5d2d7eb8f4e769774fe5cd5aab6c6"
          }
        },
        "bbedcdefee81470ca65f7855e8707a7b": {
          "model_module": "@jupyter-widgets/controls",
          "model_name": "HTMLModel",
          "model_module_version": "1.5.0",
          "state": {
            "_dom_classes": [],
            "_model_module": "@jupyter-widgets/controls",
            "_model_module_version": "1.5.0",
            "_model_name": "HTMLModel",
            "_view_count": null,
            "_view_module": "@jupyter-widgets/controls",
            "_view_module_version": "1.5.0",
            "_view_name": "HTMLView",
            "description": "",
            "description_tooltip": null,
            "layout": "IPY_MODEL_4b6d33d6d4fe493394d755302238bbbb",
            "placeholder": "​",
            "style": "IPY_MODEL_63959d1f82d84abaa7e67705a4f33267",
            "value": "100%"
          }
        },
        "10c803a3ac0a4e0780131b4c31c9bc04": {
          "model_module": "@jupyter-widgets/controls",
          "model_name": "FloatProgressModel",
          "model_module_version": "1.5.0",
          "state": {
            "_dom_classes": [],
            "_model_module": "@jupyter-widgets/controls",
            "_model_module_version": "1.5.0",
            "_model_name": "FloatProgressModel",
            "_view_count": null,
            "_view_module": "@jupyter-widgets/controls",
            "_view_module_version": "1.5.0",
            "_view_name": "ProgressView",
            "bar_style": "success",
            "description": "",
            "description_tooltip": null,
            "layout": "IPY_MODEL_ee7055b4e08044f98e4d2d6aba9385fd",
            "max": 5206,
            "min": 0,
            "orientation": "horizontal",
            "style": "IPY_MODEL_f9319e726fcf4fc6ac3a547892dca1d3",
            "value": 5206
          }
        },
        "e284c72b3fa54b73a6cd5d47d4fdeb34": {
          "model_module": "@jupyter-widgets/controls",
          "model_name": "HTMLModel",
          "model_module_version": "1.5.0",
          "state": {
            "_dom_classes": [],
            "_model_module": "@jupyter-widgets/controls",
            "_model_module_version": "1.5.0",
            "_model_name": "HTMLModel",
            "_view_count": null,
            "_view_module": "@jupyter-widgets/controls",
            "_view_module_version": "1.5.0",
            "_view_name": "HTMLView",
            "description": "",
            "description_tooltip": null,
            "layout": "IPY_MODEL_7d35b12d0d83433199d0073cb46f81ec",
            "placeholder": "​",
            "style": "IPY_MODEL_c4fa37bba5cc43b887e495f303edc266",
            "value": " 5206/5206 [2:04:17&lt;00:00,  1.75s/it]"
          }
        },
        "f3d5d2d7eb8f4e769774fe5cd5aab6c6": {
          "model_module": "@jupyter-widgets/base",
          "model_name": "LayoutModel",
          "model_module_version": "1.2.0",
          "state": {
            "_model_module": "@jupyter-widgets/base",
            "_model_module_version": "1.2.0",
            "_model_name": "LayoutModel",
            "_view_count": null,
            "_view_module": "@jupyter-widgets/base",
            "_view_module_version": "1.2.0",
            "_view_name": "LayoutView",
            "align_content": null,
            "align_items": null,
            "align_self": null,
            "border": null,
            "bottom": null,
            "display": null,
            "flex": null,
            "flex_flow": null,
            "grid_area": null,
            "grid_auto_columns": null,
            "grid_auto_flow": null,
            "grid_auto_rows": null,
            "grid_column": null,
            "grid_gap": null,
            "grid_row": null,
            "grid_template_areas": null,
            "grid_template_columns": null,
            "grid_template_rows": null,
            "height": null,
            "justify_content": null,
            "justify_items": null,
            "left": null,
            "margin": null,
            "max_height": null,
            "max_width": null,
            "min_height": null,
            "min_width": null,
            "object_fit": null,
            "object_position": null,
            "order": null,
            "overflow": null,
            "overflow_x": null,
            "overflow_y": null,
            "padding": null,
            "right": null,
            "top": null,
            "visibility": null,
            "width": null
          }
        },
        "4b6d33d6d4fe493394d755302238bbbb": {
          "model_module": "@jupyter-widgets/base",
          "model_name": "LayoutModel",
          "model_module_version": "1.2.0",
          "state": {
            "_model_module": "@jupyter-widgets/base",
            "_model_module_version": "1.2.0",
            "_model_name": "LayoutModel",
            "_view_count": null,
            "_view_module": "@jupyter-widgets/base",
            "_view_module_version": "1.2.0",
            "_view_name": "LayoutView",
            "align_content": null,
            "align_items": null,
            "align_self": null,
            "border": null,
            "bottom": null,
            "display": null,
            "flex": null,
            "flex_flow": null,
            "grid_area": null,
            "grid_auto_columns": null,
            "grid_auto_flow": null,
            "grid_auto_rows": null,
            "grid_column": null,
            "grid_gap": null,
            "grid_row": null,
            "grid_template_areas": null,
            "grid_template_columns": null,
            "grid_template_rows": null,
            "height": null,
            "justify_content": null,
            "justify_items": null,
            "left": null,
            "margin": null,
            "max_height": null,
            "max_width": null,
            "min_height": null,
            "min_width": null,
            "object_fit": null,
            "object_position": null,
            "order": null,
            "overflow": null,
            "overflow_x": null,
            "overflow_y": null,
            "padding": null,
            "right": null,
            "top": null,
            "visibility": null,
            "width": null
          }
        },
        "63959d1f82d84abaa7e67705a4f33267": {
          "model_module": "@jupyter-widgets/controls",
          "model_name": "DescriptionStyleModel",
          "model_module_version": "1.5.0",
          "state": {
            "_model_module": "@jupyter-widgets/controls",
            "_model_module_version": "1.5.0",
            "_model_name": "DescriptionStyleModel",
            "_view_count": null,
            "_view_module": "@jupyter-widgets/base",
            "_view_module_version": "1.2.0",
            "_view_name": "StyleView",
            "description_width": ""
          }
        },
        "ee7055b4e08044f98e4d2d6aba9385fd": {
          "model_module": "@jupyter-widgets/base",
          "model_name": "LayoutModel",
          "model_module_version": "1.2.0",
          "state": {
            "_model_module": "@jupyter-widgets/base",
            "_model_module_version": "1.2.0",
            "_model_name": "LayoutModel",
            "_view_count": null,
            "_view_module": "@jupyter-widgets/base",
            "_view_module_version": "1.2.0",
            "_view_name": "LayoutView",
            "align_content": null,
            "align_items": null,
            "align_self": null,
            "border": null,
            "bottom": null,
            "display": null,
            "flex": null,
            "flex_flow": null,
            "grid_area": null,
            "grid_auto_columns": null,
            "grid_auto_flow": null,
            "grid_auto_rows": null,
            "grid_column": null,
            "grid_gap": null,
            "grid_row": null,
            "grid_template_areas": null,
            "grid_template_columns": null,
            "grid_template_rows": null,
            "height": null,
            "justify_content": null,
            "justify_items": null,
            "left": null,
            "margin": null,
            "max_height": null,
            "max_width": null,
            "min_height": null,
            "min_width": null,
            "object_fit": null,
            "object_position": null,
            "order": null,
            "overflow": null,
            "overflow_x": null,
            "overflow_y": null,
            "padding": null,
            "right": null,
            "top": null,
            "visibility": null,
            "width": null
          }
        },
        "f9319e726fcf4fc6ac3a547892dca1d3": {
          "model_module": "@jupyter-widgets/controls",
          "model_name": "ProgressStyleModel",
          "model_module_version": "1.5.0",
          "state": {
            "_model_module": "@jupyter-widgets/controls",
            "_model_module_version": "1.5.0",
            "_model_name": "ProgressStyleModel",
            "_view_count": null,
            "_view_module": "@jupyter-widgets/base",
            "_view_module_version": "1.2.0",
            "_view_name": "StyleView",
            "bar_color": null,
            "description_width": ""
          }
        },
        "7d35b12d0d83433199d0073cb46f81ec": {
          "model_module": "@jupyter-widgets/base",
          "model_name": "LayoutModel",
          "model_module_version": "1.2.0",
          "state": {
            "_model_module": "@jupyter-widgets/base",
            "_model_module_version": "1.2.0",
            "_model_name": "LayoutModel",
            "_view_count": null,
            "_view_module": "@jupyter-widgets/base",
            "_view_module_version": "1.2.0",
            "_view_name": "LayoutView",
            "align_content": null,
            "align_items": null,
            "align_self": null,
            "border": null,
            "bottom": null,
            "display": null,
            "flex": null,
            "flex_flow": null,
            "grid_area": null,
            "grid_auto_columns": null,
            "grid_auto_flow": null,
            "grid_auto_rows": null,
            "grid_column": null,
            "grid_gap": null,
            "grid_row": null,
            "grid_template_areas": null,
            "grid_template_columns": null,
            "grid_template_rows": null,
            "height": null,
            "justify_content": null,
            "justify_items": null,
            "left": null,
            "margin": null,
            "max_height": null,
            "max_width": null,
            "min_height": null,
            "min_width": null,
            "object_fit": null,
            "object_position": null,
            "order": null,
            "overflow": null,
            "overflow_x": null,
            "overflow_y": null,
            "padding": null,
            "right": null,
            "top": null,
            "visibility": null,
            "width": null
          }
        },
        "c4fa37bba5cc43b887e495f303edc266": {
          "model_module": "@jupyter-widgets/controls",
          "model_name": "DescriptionStyleModel",
          "model_module_version": "1.5.0",
          "state": {
            "_model_module": "@jupyter-widgets/controls",
            "_model_module_version": "1.5.0",
            "_model_name": "DescriptionStyleModel",
            "_view_count": null,
            "_view_module": "@jupyter-widgets/base",
            "_view_module_version": "1.2.0",
            "_view_name": "StyleView",
            "description_width": ""
          }
        }
      }
    },
    "accelerator": "GPU"
  },
  "cells": [
    {
      "cell_type": "markdown",
      "metadata": {
        "id": "view-in-github",
        "colab_type": "text"
      },
      "source": [
        "<a href=\"https://colab.research.google.com/github/deniskapel/autoskill/blob/main/rpt_evaluation.ipynb\" target=\"_parent\"><img src=\"https://colab.research.google.com/assets/colab-badge.svg\" alt=\"Open In Colab\"/></a>"
      ]
    },
    {
      "cell_type": "markdown",
      "metadata": {
        "id": "9Tglm0Fg2oQD"
      },
      "source": [
        "**Step 1**. Get the latest Hugging Face Transformers (`pip install` may NOT give you the latest version)"
      ]
    },
    {
      "cell_type": "code",
      "metadata": {
        "id": "e06zq1Bj174W"
      },
      "source": [
        "!git clone https://github.com/huggingface/transformers.git\n",
        "%cd transformers\n",
        "!pip install -e .\n",
        "%cd src"
      ],
      "execution_count": null,
      "outputs": []
    },
    {
      "cell_type": "markdown",
      "metadata": {
        "id": "uNL6aSfCB4rL"
      },
      "source": [
        "**Step 2**. Set up the `DialogRPT` model using Hugging Face model card"
      ]
    },
    {
      "cell_type": "code",
      "metadata": {
        "id": "rieqyiuQQKmy"
      },
      "source": [
        "from transformers import AutoTokenizer, AutoModelForSequenceClassification\n",
        "import torch\n",
        "\n",
        "device = \"cuda:0\" if torch.cuda.is_available() else \"cpu\"\n",
        "\n",
        "cards = [\"microsoft/DialogRPT-updown\",\n",
        "         \"microsoft/DialogRPT-depth\",\n",
        "         \"microsoft/DialogRPT-width\",\n",
        "         \"microsoft/DialogRPT-human-vs-rand\",\n",
        "         \"microsoft/DialogRPT-human-vs-machine\"]\n",
        "\n",
        "tokenizers = [AutoTokenizer.from_pretrained(card) for card in cards]\n",
        "models = [AutoModelForSequenceClassification.from_pretrained(card).to(device) for card in cards]"
      ],
      "execution_count": null,
      "outputs": []
    },
    {
      "cell_type": "markdown",
      "source": [
        "## testing"
      ],
      "metadata": {
        "id": "PQvTV8CwYkRe"
      }
    },
    {
      "cell_type": "code",
      "source": [
        "from torch.nn.functional import pad\n",
        "\n",
        "def score(cxt, hyp, tknzr, ranker):\n",
        "    model_input = tknzr.encode(cxt + \"<|endoftext|>\" + hyp, return_tensors=\"pt\")\n",
        "    with torch.no_grad():\n",
        "        ranker.eval()\n",
        "        result = ranker(model_input, return_dict=True)\n",
        "        \n",
        "    return torch.sigmoid(result.logits)\n",
        "\n",
        "def score_as_batch(cxts, hyps, tknzr, ranker):\n",
        "    all_results = []\n",
        "    model_inputs = []\n",
        "    for cxt, hyp in zip(cxts, hyps):\n",
        "        model_inputs += [tknzr.encode(cxt + \"<|endoftext|>\" + hyp, padding=\"max_length\", max_length=64, return_tensors=\"pt\")]\n",
        "\n",
        "    model_input = torch.cat(model_inputs, dim=0)\n",
        "    with torch.no_grad():\n",
        "        ranker.eval()\n",
        "        result = ranker(model_input, return_dict=True)\n",
        "\n",
        "    return torch.sigmoid(result.logits)"
      ],
      "metadata": {
        "id": "6mpxnUgvnBoL"
      },
      "execution_count": null,
      "outputs": []
    },
    {
      "cell_type": "markdown",
      "metadata": {
        "id": "mlcxh77QFFEu"
      },
      "source": [
        "**Step 3**. Play!\n",
        "\n",
        "In the following example, the model predicts that, given the same context \"I love NLP!\", response B is gets more upvotes than response A.\n",
        "\n",
        "|  | Response of \"I love NLP!\"  | Score |\n",
        "| :-----------: | : ----------- | :----------- : |\n",
        "|  A |  Me too! | 0.111|\n",
        "|  B |  Here’s a free textbook (URL) in case anyone needs it. | 0.613|\n"
      ]
    },
    {
      "cell_type": "code",
      "metadata": {
        "id": "subSxS6BEF1k",
        "outputId": "f220d830-720d-47f1-f341-99e86746d89a",
        "colab": {
          "base_uri": "https://localhost:8080/"
        }
      },
      "source": [
        "cxt = \"I love NLP!\"\n",
        "\n",
        "hyp_A = \"Me too!\"\n",
        "hyp_B = \"Here’s a free textbook (URL) in case anyone needs it.\"\n",
        "hyp_C = \"I studied it in college\"\n",
        "\n",
        "print(score_as_batch([cxt, cxt, cxt], [hyp_A, hyp_B, hyp_C], tokenizer1, model1))\n",
        "print(score_as_batch([cxt, cxt, cxt], [hyp_A, hyp_B, hyp_C], tokenizer2, model2))"
      ],
      "execution_count": null,
      "outputs": [
        {
          "output_type": "stream",
          "name": "stdout",
          "text": [
            "tensor([[0.1252],\n",
            "        [0.6395],\n",
            "        [0.2652]])\n",
            "tensor([[0.5964],\n",
            "        [0.8397],\n",
            "        [0.9092]])\n"
          ]
        }
      ]
    },
    {
      "cell_type": "code",
      "source": [
        "from torch.nn.functional import pad\n",
        "\n",
        "def score(cxt, hyp, tknzr, ranker):\n",
        "  model_input = tknzr.encode(cxt + \"<|endoftext|>\" + hyp, return_tensors=\"pt\")\n",
        "  result = ranker(model_input, return_dict=True)\n",
        "  return torch.sigmoid(result.logits)\n",
        "\n",
        "def score_as_batch(cxts, hyps, tknzr, ranker):\n",
        "    all_results = []\n",
        "    model_inputs = []\n",
        "    for cxt, hyp in zip(cxts, hyps):\n",
        "        model_inputs += [tknzr.encode(cxt + \"<|endoftext|>\" + hyp, padding=\"max_length\", max_length=64, return_tensors=\"pt\")]\n",
        "\n",
        "    model_input = torch.cat(model_inputs, dim=0)\n",
        "    with torch.no_grad():\n",
        "        ranker.eval()\n",
        "        result = ranker(model_input, return_dict=True)\n",
        "\n",
        "    return torch.sigmoid(result.logits)"
      ],
      "metadata": {
        "id": "NWmDq74zudwN"
      },
      "execution_count": null,
      "outputs": []
    },
    {
      "cell_type": "code",
      "source": [
        ""
      ],
      "metadata": {
        "id": "prFu9BQaonFv"
      },
      "execution_count": null,
      "outputs": []
    },
    {
      "cell_type": "markdown",
      "source": [
        "## Data"
      ],
      "metadata": {
        "id": "ZdQdoBa4YpRd"
      }
    },
    {
      "cell_type": "code",
      "source": [
        "import json\n",
        "from tqdm.notebook import tqdm\n",
        "\n",
        "with open('../../data/merged_preds.json', 'r', encoding='utf8') as f:\n",
        "    predictions = json.load(f)"
      ],
      "metadata": {
        "id": "Cko-BfOrYrB_"
      },
      "execution_count": null,
      "outputs": []
    },
    {
      "cell_type": "code",
      "source": [
        "def score(cxt, hyp, tknzr, ranker):\n",
        "  model_input = tknzr.encode(cxt + \"<|endoftext|>\" + hyp, return_tensors=\"pt\").to(device)\n",
        "  result = ranker(model_input, return_dict=True)\n",
        "  return torch.sigmoid(result.logits).squeeze().cpu().detach().item()\n",
        "\n",
        "scores = []"
      ],
      "metadata": {
        "id": "tUpOqkWPdiWd"
      },
      "execution_count": null,
      "outputs": []
    },
    {
      "cell_type": "code",
      "source": [
        "scored_preds = []\n",
        "\n",
        "for sample in tqdm(predictions):\n",
        "    evaluated = {}\n",
        "    \n",
        "    ctx = \" [SEP] \".join(sample['context'].split(' __eou__ ')) \n",
        "    preds = sample['preds']\n",
        "\n",
        "    scored = {'context': ctx,\n",
        "              'preds': preds,\n",
        "              'scores': {}\n",
        "              }\n",
        "    \n",
        "    for name, tokenizer, model in zip(cards, tokenizers, models):\n",
        "        name = name[20:]\n",
        "        scored['scores'][name] = {}\n",
        "        evaluated = {}\n",
        "        for algo, hyp in preds.items():\n",
        "\n",
        "            if hyp in evaluated:\n",
        "                scored['scores'][name][algo] = evaluated[hyp]\n",
        "                continue\n",
        "\n",
        "            val = score(ctx, hyp, tokenizer, model)\n",
        "            val = round(val,3)\n",
        "            scored['scores'][name][algo] = val\n",
        "            evaluated[hyp] = val\n",
        "\n",
        "    scored_preds.append(scored)"
      ],
      "metadata": {
        "colab": {
          "base_uri": "https://localhost:8080/",
          "height": 49,
          "referenced_widgets": [
            "5cfdeeb27af04e5bb1b93126bf468577",
            "bbedcdefee81470ca65f7855e8707a7b",
            "10c803a3ac0a4e0780131b4c31c9bc04",
            "e284c72b3fa54b73a6cd5d47d4fdeb34",
            "f3d5d2d7eb8f4e769774fe5cd5aab6c6",
            "4b6d33d6d4fe493394d755302238bbbb",
            "63959d1f82d84abaa7e67705a4f33267",
            "ee7055b4e08044f98e4d2d6aba9385fd",
            "f9319e726fcf4fc6ac3a547892dca1d3",
            "7d35b12d0d83433199d0073cb46f81ec",
            "c4fa37bba5cc43b887e495f303edc266"
          ]
        },
        "id": "oNpA5QnadPzZ",
        "outputId": "1f1794f6-d51e-4c84-a5a4-71f7fc5a0458"
      },
      "execution_count": null,
      "outputs": [
        {
          "output_type": "display_data",
          "data": {
            "text/plain": [
              "  0%|          | 0/5206 [00:00<?, ?it/s]"
            ],
            "application/vnd.jupyter.widget-view+json": {
              "version_major": 2,
              "version_minor": 0,
              "model_id": "5cfdeeb27af04e5bb1b93126bf468577"
            }
          },
          "metadata": {}
        }
      ]
    },
    {
      "cell_type": "code",
      "source": [
        "# scored_preds[0]['scores']['depth']['algo_convert']\n",
        "scored_preds[0]['scores']"
      ],
      "metadata": {
        "id": "hdiAiYkFdX8p"
      },
      "execution_count": null,
      "outputs": []
    },
    {
      "cell_type": "code",
      "source": [
        "with open('../../data/scored_merged_preds.json', \"w\", encoding=\"UTF-8\") as f:\n",
        "    json.dump(scored_preds, f, ensure_ascii=False, indent=2)"
      ],
      "metadata": {
        "id": "Huw1_WEDj3Tq"
      },
      "execution_count": null,
      "outputs": []
    },
    {
      "cell_type": "code",
      "source": [
        ""
      ],
      "metadata": {
        "id": "01B0savB0pB1"
      },
      "execution_count": null,
      "outputs": []
    },
    {
      "cell_type": "markdown",
      "source": [
        "asd"
      ],
      "metadata": {
        "id": "YwOfU54xdAG-"
      }
    },
    {
      "cell_type": "code",
      "source": [
        ""
      ],
      "metadata": {
        "id": "9LVzCA0OwYka"
      },
      "execution_count": null,
      "outputs": []
    }
  ]
}