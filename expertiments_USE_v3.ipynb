{
 "cells": [
  {
   "cell_type": "code",
   "execution_count": 1,
   "id": "899ed118-2493-413b-9fdc-bf994b8feb7b",
   "metadata": {},
   "outputs": [],
   "source": [
    "import json\n",
    "import pickle\n",
    "import os\n",
    "from collections import Counter\n",
    "\n",
    "import numpy as np\n",
    "import tensorflow as tf\n",
    "import tensorflow_hub as hub\n",
    "\n",
    "from catboost import CatBoostClassifier, Pool\n",
    "from sklearn.linear_model import LogisticRegression\n",
    "from sklearn.ensemble import RandomForestClassifier\n",
    "from sklearn.model_selection import train_test_split\n",
    "from sklearn.metrics import f1_score, accuracy_score\n",
    "from tqdm.notebook import tqdm\n",
    "\n",
    "from utils.preprocessing import LabelEncoder\n",
    "# from utils.tensorflow_utils import SkillDataset"
   ]
  },
  {
   "cell_type": "code",
   "execution_count": 2,
   "id": "aefbb6a4-e559-4044-a4df-73b413487dc3",
   "metadata": {},
   "outputs": [
    {
     "name": "stdout",
     "output_type": "stream",
     "text": [
      "module https://tfhub.dev/google/universal-sentence-encoder/4 loaded\n"
     ]
    }
   ],
   "source": [
    "os.environ['TFHUB_CACHE_DIR'] = './models/tf_cache'\n",
    "module_url = \"https://tfhub.dev/google/universal-sentence-encoder/4\"\n",
    "encoder = hub.load(module_url)\n",
    "print (\"module %s loaded\" % module_url)"
   ]
  },
  {
   "cell_type": "code",
   "execution_count": 3,
   "id": "21fc496f-6ea7-41c8-a371-180b4c1dc133",
   "metadata": {},
   "outputs": [],
   "source": [
    "Midas2ID = {\n",
    "    \"appreciation\": 0, \"command\": 1, \"comment\": 2,\"complaint\": 3,\n",
    "    \"dev_command\": 4, \"neg_answer\": 5, \"open_question_factual\": 6,\n",
    "    \"open_question_opinion\": 7, \"opinion\": 8, \"other_answers\": 9,\n",
    "    \"pos_answer\": 10, \"statement\": 11, \"yes_no_question\": 12,\n",
    "}\n",
    "\n",
    "ID2Midas = list(Midas2ID.keys())\n",
    "\n",
    "Entity2ID = {'misc': 0, 'product': 1, 'food': 2, 'location': 3, 'business': 4,\n",
    "             'event': 5, 'work_of_art': 6, 'org': 7, 'occupation': 8, 'fac': 9,\n",
    "             'academic_discipline': 10, 'law': 11, 'film': 12, 'person': 13,\n",
    "             'language': 14, 'type_of_sport': 15, 'nation': 16, 'literary_work': 17,\n",
    "             'norp': 18, 'music_genre': 19, 'sports_event': 20, 'song': 21,\n",
    "             'animal': 22, 'sports_venue': 23, 'sports_season': 24,\n",
    "             'chemical_element': 25, 'political_party': 26, 'sport_team': 27,\n",
    "             'national': 28, 'championship': 29, 'association_football_club': 30,\n",
    "             'sports_league': 31}\n",
    "\n",
    "EntityTargets2ID = {'product': 0, 'food': 1, 'location': 2, 'business': 3,\n",
    "                    'event': 4, 'work_of_art': 5, 'org': 6, 'occupation': 7,\n",
    "                    'fac': 8, 'academic_discipline': 9, 'law': 10, 'person': 11,\n",
    "                    'language': 12, 'type_of_sport': 13, 'nation': 14,\n",
    "                    'norp': 15, 'music_genre': 16, 'sports_event': 17,\n",
    "                    'animal': 18, 'sports_venue': 19, 'sports_season': 20,\n",
    "                    'chemical_element': 21, 'political_party': 22,\n",
    "                    'sport_team': 23, 'national': 24, 'championship': 25,\n",
    "                    'association_football_club': 26, 'sports_league': 27}\n",
    "\n",
    "from itertools import product\n",
    "midas_entity2id = list(product(list(Midas2ID.keys()), list(EntityTargets2ID.keys())))\n",
    "midas_entity2id = {f'{labels[0]}_{labels[1]}': i for i, labels in enumerate(midas_entity2id)}\n",
    "\n",
    "labels_map = { \n",
    "    'midas2id': Midas2ID,\n",
    "    'entity2id': Entity2ID,\n",
    "    'target_entity2id': EntityTargets2ID,\n",
    "    'target_midas2id': Midas2ID,\n",
    "    'target_midas_and_entity2id': midas_entity2id\n",
    "}"
   ]
  },
  {
   "cell_type": "code",
   "execution_count": 4,
   "id": "d9f0a1c6-e989-42c5-834f-19eefbef7fab",
   "metadata": {},
   "outputs": [],
   "source": [
    "import math\n",
    "import numpy as np\n",
    "import tensorflow as tf\n",
    "\n",
    "from tensorflow.keras.utils import Sequence\n",
    "\n",
    "class SkillDataset(Sequence):\n",
    "    \n",
    "    \"\"\" customized Dataset class from torch \"\"\"\n",
    "    \n",
    "    def __init__(\n",
    "        self, data: list, vars2id: dict, \n",
    "        text_vectorizer, label_encoder,\n",
    "        n_previous: int=3, embed_dim: int = 512, \n",
    "        batch_size: int = 32, shuffle: bool = False):\n",
    "        \n",
    "        self.data = data\n",
    "        self.indexes = np.arange(len(self.data))\n",
    "        self.vars2id = vars2id\n",
    "        self.vectorizer = text_vectorizer\n",
    "        self.label_encoder = label_encoder\n",
    "        self.n_previous = n_previous\n",
    "        self.utterance_dim = (\n",
    "            embed_dim + \n",
    "            len(vars2id['midas2id']) + \n",
    "            len(vars2id['entity2id']))\n",
    "        \n",
    "        self.batch_size = batch_size\n",
    "        self.shuffle=shuffle\n",
    "        \n",
    "    def __len__(self):\n",
    "        \"\"\"\n",
    "        Denotes the number of batches per epoch\n",
    "        A common practice is to set this value to [num_samples / batch size⌋\n",
    "        so that the model sees the training samples at most once per epoch.\n",
    "        \"\"\"\n",
    "        return int(np.ceil(len(self.data) / self.batch_size))\n",
    "\n",
    "    \n",
    "    def on_epoch_end(self):\n",
    "        \"\"\"\n",
    "        Updates indexes after each epoch\n",
    "        Shuffling the order so that batches between epochs do not look alike.\n",
    "        It can make a model more robust.\n",
    "        \"\"\"\n",
    "        if self.shuffle:\n",
    "            np.random.shuffle(self.indexes)\n",
    "    \n",
    "    def __getitem__(self, idx: int):\n",
    "        \"\"\" get batch_id and return its vectorized representation \"\"\"\n",
    "        indexes = self.indexes[idx * self.batch_size:(idx + 1) * self.batch_size]\n",
    "        batch = [self.data[index] for index in indexes]\n",
    "        \n",
    "        x_batch, y_batch = self.__extract_features(batch)\n",
    "        \n",
    "        return x_batch, y_batch\n",
    "    \n",
    "    \n",
    "    def __extract_features(self, batch) -> tuple:\n",
    "        \"\"\" \n",
    "        transaforms raw data into vectorized features and encoded labels\n",
    "        and collate them into batches\n",
    "        \"\"\"\n",
    "        x_batch = np.zeros([len(batch), self.n_previous*self.utterance_dim])\n",
    "        y_batch = list()\n",
    "        \n",
    "        for i, sample in enumerate(batch):\n",
    "            embedding = self.__embed(sample['previous_text'])\n",
    "            x_midas = self.__norm_midas(sample['midas_vectors'])\n",
    "            x_entities = self.__oh_encode(sample['previous_entities'])\n",
    "            x_batch[i,:] = self.__concat_vecs(embedding, x_midas, x_entities)\n",
    "            y_batch.append(\n",
    "                (sample['predict']['midas'], sample['predict']['entities'][0]['label'])\n",
    "            )\n",
    "            \n",
    "        y_batch = self.label_encoder.to_categorical(y_batch)\n",
    "            \n",
    "        return x_batch, y_batch\n",
    "            \n",
    "\n",
    "    def __embed(self, utterances: list) -> np.ndarray:\n",
    "        \"\"\" \n",
    "        vectorizes a list of N previous utterances using a provided encoder\n",
    "        \n",
    "        USE returns Tensors but item assignment is performed downstream,\n",
    "        thus it is converted to numpy as EagerTensor objects \n",
    "        do not support item assignment\n",
    "        \n",
    "        input: List[str]\n",
    "        output: numpy array (len(utterance), embed_dim)\n",
    "        \"\"\"\n",
    "        return self.vectorizer([\" \".join(ut) for ut in utterances]).numpy()\n",
    "    \n",
    "    def __norm_midas(self, midas_vectors: list) -> np.ndarray:\n",
    "        \"\"\" \n",
    "        takes midas vectors of all sentences in the utterance\n",
    "        and returns a vector with max values per midas label\n",
    "        \"\"\"\n",
    "        vecs = np.zeros((len(midas_vectors), 13))\n",
    "        \n",
    "        for i, vec in enumerate(midas_vectors):\n",
    "            # get max probability per each midas labels\n",
    "            vecs[i] = np.max(np.array(vec), axis=0)\n",
    "\n",
    "        # return normalized\n",
    "        return vecs\n",
    "\n",
    "    def __oh_encode(self, entities) -> np.ndarray:\n",
    "        \"\"\" \n",
    "        one-hot encoding of entities per each sample \n",
    "        \n",
    "        TODO: replace with sklearn MultiLabelBinarizer\n",
    "        \"\"\"\n",
    "        entities = [[ent['label'] for sent in ut for ent in sent] for ut in entities]\n",
    "        ohe_vec = np.zeros((len(entities), len(self.vars2id['entity2id'])))\n",
    "        \n",
    "        for i, ut in enumerate(entities):\n",
    "            for ent in set(ut):\n",
    "                ohe_vec[i][self.vars2id['entity2id'][ent]] = 1\n",
    "                \n",
    "        return ohe_vec\n",
    "    \n",
    "      \n",
    "    def __concat_vecs(self, embedding: tf.Tensor,\n",
    "                      midas_vec: np.array, \n",
    "                      ohe_vec: np.array) -> tf.Tensor:\n",
    "        \"\"\" \n",
    "        concatenates text embeddings with midas vectors \n",
    "        and one-hot encoded entities\n",
    "        \n",
    "        The output vector will be (n_utterances, self.vector_dim)\n",
    "        Vector dim comes from:\n",
    "        1. [tfidf utterance(i-2)]\n",
    "        2. [midas proba distribution utterance(i-2)]\n",
    "        3. [entity type one-hot utterance(i-2)]\n",
    "        4. [tfidf (i-1)]\n",
    "        5. [midas (i-1)][entity (i-1)]\n",
    "        6. [tfidf (i)] \n",
    "        7. [midas (i)]\n",
    "        8. [entity (i)]\n",
    "        \"\"\"\n",
    "        assert embedding.shape[0] == midas_vec.shape[0] == ohe_vec.shape[0]\n",
    "        \n",
    "        vecs = np.zeros((self.n_previous, self.utterance_dim))\n",
    "        \n",
    "        vecs[:,:embedding.shape[1]] = embedding\n",
    "        vecs[:,embedding.shape[1]:embedding.shape[1]+midas_vec.shape[1]] = midas_vec\n",
    "        vecs[:,embedding.shape[1]+midas_vec.shape[1]:] = ohe_vec\n",
    "\n",
    "        # returned one utterance vectors shaped from its sentences\n",
    "        return tf.reshape(vecs, [-1])"
   ]
  },
  {
   "cell_type": "code",
   "execution_count": 5,
   "id": "bedb7960-b0d3-4537-913b-608a369a7a4c",
   "metadata": {},
   "outputs": [
    {
     "ename": "NameError",
     "evalue": "name 'nn' is not defined",
     "output_type": "error",
     "traceback": [
      "\u001b[1;31m---------------------------------------------------------------------------\u001b[0m",
      "\u001b[1;31mNameError\u001b[0m                                 Traceback (most recent call last)",
      "\u001b[1;32m~\\AppData\\Local\\Temp/ipykernel_20156/219948629.py\u001b[0m in \u001b[0;36m<module>\u001b[1;34m\u001b[0m\n\u001b[1;32m----> 1\u001b[1;33m \u001b[1;32mclass\u001b[0m \u001b[0mBaseModel\u001b[0m\u001b[1;33m(\u001b[0m\u001b[0mnn\u001b[0m\u001b[1;33m.\u001b[0m\u001b[0mModule\u001b[0m\u001b[1;33m)\u001b[0m\u001b[1;33m:\u001b[0m\u001b[1;33m\u001b[0m\u001b[1;33m\u001b[0m\u001b[0m\n\u001b[0m\u001b[0;32m      2\u001b[0m     def __init__(\n\u001b[0;32m      3\u001b[0m         self, input_size: int, hidden_size: int, n_classes: int, batch_size: int = 32):\n\u001b[0;32m      4\u001b[0m         \u001b[0msuper\u001b[0m\u001b[1;33m(\u001b[0m\u001b[1;33m)\u001b[0m\u001b[1;33m.\u001b[0m\u001b[0m__init__\u001b[0m\u001b[1;33m(\u001b[0m\u001b[1;33m)\u001b[0m\u001b[1;33m\u001b[0m\u001b[1;33m\u001b[0m\u001b[0m\n\u001b[0;32m      5\u001b[0m \u001b[1;33m\u001b[0m\u001b[0m\n",
      "\u001b[1;31mNameError\u001b[0m: name 'nn' is not defined"
     ]
    }
   ],
   "source": [
    "class BaseModel(nn.Module):\n",
    "    def __init__(\n",
    "        self, input_size: int, hidden_size: int, n_classes: int, batch_size: int = 32):\n",
    "        super().__init__()\n",
    "        \n",
    "        # parameters\n",
    "        self.input_size = input_size\n",
    "        self.output_size = n_classes\n",
    "        self.batch_size = batch_size\n",
    "\n",
    "        # layers\n",
    "        self.linear_in = nn.Linear(input_size, hidden_size)\n",
    "        self.relu = nn.ReLU()\n",
    "        \n",
    "        # classifiers\n",
    "        self.clf = nn.Linear(hidden_size, n_classes)\n",
    "        \n",
    "\n",
    "    def forward(self, x: torch.Tensor):\n",
    "        x = self.linear_in(x)\n",
    "        x = self.relu(x)\n",
    "        pred = self.clf(x)\n",
    "        return pred"
   ]
  },
  {
   "cell_type": "markdown",
   "id": "e965aa23-0eae-4133-86f6-14f6317e140f",
   "metadata": {
    "tags": []
   },
   "source": [
    "# Daily"
   ]
  },
  {
   "cell_type": "code",
   "execution_count": 13,
   "id": "7ca6ee9b-8893-4cb4-bde0-32f2194bf85b",
   "metadata": {},
   "outputs": [],
   "source": [
    "with open('data/single_entity_daily_dataset_v3.json', 'r', encoding=\"utf8\") as f:\n",
    "    daily = json.load(f)"
   ]
  },
  {
   "cell_type": "code",
   "execution_count": 14,
   "id": "c9571a03-5795-49f2-b3a2-e087f7bdafe0",
   "metadata": {},
   "outputs": [],
   "source": [
    "PARAMS = {\n",
    "    'embed_dim': 512,\n",
    "    'n_previous': 3\n",
    "}"
   ]
  },
  {
   "cell_type": "markdown",
   "id": "607ba62f-573f-4997-914c-d406c1304411",
   "metadata": {
    "tags": []
   },
   "source": [
    "## Midas"
   ]
  },
  {
   "cell_type": "code",
   "execution_count": 15,
   "id": "553b65ee-c405-4f62-be1a-82d7cd459c15",
   "metadata": {},
   "outputs": [],
   "source": [
    "daily_dataset = SkillDataset(\n",
    "    data=daily, vars2id=labels_map,\n",
    "    text_vectorizer=encoder,\n",
    "    label_encoder=LabelEncoder(\n",
    "        list(labels_map['target_midas2id']),\n",
    "        'midas'),\n",
    "    shuffle=False, batch_size=len(daily), **PARAMS)"
   ]
  },
  {
   "cell_type": "code",
   "execution_count": 16,
   "id": "0da53383-8b81-429e-be13-80e5ab460865",
   "metadata": {},
   "outputs": [],
   "source": [
    "for X, y in daily_dataset:\n",
    "    break"
   ]
  },
  {
   "cell_type": "code",
   "execution_count": 26,
   "id": "72eb684b-4f59-4c4e-ade4-35829d0307c0",
   "metadata": {},
   "outputs": [
    {
     "data": {
      "text/plain": [
       "((3894, 1671), (3894, 13))"
      ]
     },
     "execution_count": 26,
     "metadata": {},
     "output_type": "execute_result"
    }
   ],
   "source": [
    "X.shape, y.shape"
   ]
  },
  {
   "cell_type": "code",
   "execution_count": 27,
   "id": "a83e7ae5-9012-438d-8d05-b9c0cf6bf145",
   "metadata": {},
   "outputs": [],
   "source": [
    "X_train, X_test, y_train, y_test = train_test_split(X, y, test_size=0.2, random_state=42)"
   ]
  },
  {
   "cell_type": "code",
   "execution_count": 28,
   "id": "e88d26f5-c055-4713-8550-37713ac197de",
   "metadata": {},
   "outputs": [
    {
     "data": {
      "text/plain": [
       "((3115, 1671), (779, 1671), (3115, 13), (779, 13))"
      ]
     },
     "execution_count": 28,
     "metadata": {},
     "output_type": "execute_result"
    }
   ],
   "source": [
    "X_train.shape, X_test.shape, y_train.shape, y_test.shape"
   ]
  },
  {
   "cell_type": "code",
   "execution_count": 29,
   "id": "c695f276-23d3-438a-aa70-fee5083f1daa",
   "metadata": {},
   "outputs": [
    {
     "data": {
      "text/plain": [
       "array([0., 0., 1., 0., 0., 0., 0., 0., 0., 0., 0., 0., 0., 0., 0.])"
      ]
     },
     "execution_count": 29,
     "metadata": {},
     "output_type": "execute_result"
    }
   ],
   "source": [
    "X[0,525:540]"
   ]
  },
  {
   "cell_type": "code",
   "execution_count": 31,
   "id": "47a7439b-2409-4f83-aeb7-f1959338742c",
   "metadata": {},
   "outputs": [
    {
     "data": {
      "text/plain": [
       "array([6.67736758e-02, 1.85903984e-02, 7.96731359e-03, 1.21406683e-02,\n",
       "       1.36582519e-02, 7.43615935e-02, 0.00000000e+00, 5.95651539e-02,\n",
       "       2.64059536e-01, 3.79395885e-04, 1.17612724e-02, 4.95491026e-01,\n",
       "       1.57069896e-01])"
      ]
     },
     "execution_count": 31,
     "metadata": {},
     "output_type": "execute_result"
    }
   ],
   "source": [
    "n_bins = len(labels_map['target_midas2id'])\n",
    "class_weights, _ = np.histogram(np.argmax(y_train, axis=-1), bins=n_bins, density=True)\n",
    "class_weights"
   ]
  },
  {
   "cell_type": "markdown",
   "id": "07ee4761-e51c-4845-9c04-63804f564cb3",
   "metadata": {
    "jp-MarkdownHeadingCollapsed": true,
    "tags": []
   },
   "source": [
    "### Catboost"
   ]
  },
  {
   "cell_type": "code",
   "execution_count": 32,
   "id": "e2b8e82c-d1ba-4690-b739-6849683fa718",
   "metadata": {
    "tags": []
   },
   "outputs": [],
   "source": [
    "cb_train = Pool(np.float32(X_train), label=np.argmax(y_train, axis=-1).tolist())\n",
    "cb_eval = Pool(np.float32(X_test), label=np.argmax(y_test, axis=-1).tolist())"
   ]
  },
  {
   "cell_type": "code",
   "execution_count": 33,
   "id": "04291d76-5ab6-41a0-b9a4-0233c6a601d1",
   "metadata": {},
   "outputs": [
    {
     "name": "stdout",
     "output_type": "stream",
     "text": [
      "Learning rate set to 0.5\n",
      "0:\tlearn: 0.4340289\ttotal: 2.76s\tremaining: 38.6s\n",
      "1:\tlearn: 0.4430177\ttotal: 5.3s\tremaining: 34.5s\n",
      "2:\tlearn: 0.4520064\ttotal: 7.82s\tremaining: 31.3s\n",
      "3:\tlearn: 0.4799358\ttotal: 10.3s\tremaining: 28.4s\n",
      "4:\tlearn: 0.4927769\ttotal: 13s\tremaining: 26s\n",
      "5:\tlearn: 0.5014446\ttotal: 16.3s\tremaining: 24.5s\n",
      "6:\tlearn: 0.5133226\ttotal: 19.7s\tremaining: 22.5s\n",
      "7:\tlearn: 0.5242376\ttotal: 22.8s\tremaining: 19.9s\n",
      "8:\tlearn: 0.5354735\ttotal: 25.8s\tremaining: 17.2s\n",
      "9:\tlearn: 0.5473515\ttotal: 28.7s\tremaining: 14.4s\n",
      "10:\tlearn: 0.5579454\ttotal: 31.7s\tremaining: 11.5s\n",
      "11:\tlearn: 0.5704655\ttotal: 34.7s\tremaining: 8.68s\n",
      "12:\tlearn: 0.5874799\ttotal: 37.8s\tremaining: 5.82s\n",
      "13:\tlearn: 0.5987159\ttotal: 40.9s\tremaining: 2.92s\n",
      "14:\tlearn: 0.6025682\ttotal: 43.8s\tremaining: 0us\n"
     ]
    },
    {
     "data": {
      "text/plain": [
       "<catboost.core.CatBoostClassifier at 0x2382d8be6d0>"
      ]
     },
     "execution_count": 33,
     "metadata": {},
     "output_type": "execute_result"
    }
   ],
   "source": [
    "model_params = {\n",
    "    'task_type': 'CPU',\n",
    "    'iterations': 15,\n",
    "    'verbose': True,\n",
    "    'loss_function': 'MultiClass',\n",
    "    'eval_metric': 'Accuracy',\n",
    "    # 'use_best_model': True,\n",
    "    # 'class_weights': class_weights\n",
    "}\n",
    "\n",
    "fit_params = {\n",
    "    # 'use_best_model': True,\n",
    "    'early_stopping_rounds': 5,\n",
    "    # 'eval_set': cb_eval, \n",
    "    \n",
    "}\n",
    "\n",
    "model = CatBoostClassifier(**model_params)\n",
    "model.fit(cb_train, **fit_params)"
   ]
  },
  {
   "cell_type": "code",
   "execution_count": 34,
   "id": "2e6b0ac5-f724-47d8-97ef-8b45ba61effe",
   "metadata": {},
   "outputs": [
    {
     "name": "stdout",
     "output_type": "stream",
     "text": [
      "class =  (779, 1)\n"
     ]
    }
   ],
   "source": [
    "cb_pred = model.predict(cb_eval)\n",
    "print(\"class = \", cb_pred.shape)"
   ]
  },
  {
   "cell_type": "code",
   "execution_count": 35,
   "id": "2318345b-157b-4b46-984a-d1b95a1583e4",
   "metadata": {},
   "outputs": [
    {
     "data": {
      "text/plain": [
       "Counter({11: 523, 8: 160, 12: 84, 1: 2, 6: 5, 7: 4, 2: 1})"
      ]
     },
     "execution_count": 35,
     "metadata": {},
     "output_type": "execute_result"
    }
   ],
   "source": [
    "Counter(cb_pred.squeeze())"
   ]
  },
  {
   "cell_type": "code",
   "execution_count": 36,
   "id": "4fad23ef-8eea-4482-953a-6f9785355529",
   "metadata": {},
   "outputs": [
    {
     "data": {
      "text/plain": [
       "0.4544287548138639"
      ]
     },
     "execution_count": 36,
     "metadata": {},
     "output_type": "execute_result"
    }
   ],
   "source": [
    "accuracy_score(np.argmax(y_test, axis=-1), cb_pred.squeeze())"
   ]
  },
  {
   "cell_type": "code",
   "execution_count": 37,
   "id": "7d5faf5e-069d-44c3-8ab9-987f764e15ab",
   "metadata": {},
   "outputs": [
    {
     "data": {
      "text/plain": [
       "0.4544287548138639"
      ]
     },
     "execution_count": 37,
     "metadata": {},
     "output_type": "execute_result"
    }
   ],
   "source": [
    "model.score(cb_eval)"
   ]
  },
  {
   "cell_type": "code",
   "execution_count": 38,
   "id": "02dac0ab-c303-4aed-a4a3-3bfe46002efe",
   "metadata": {},
   "outputs": [
    {
     "data": {
      "text/plain": [
       "0.38912798332323656"
      ]
     },
     "execution_count": 38,
     "metadata": {},
     "output_type": "execute_result"
    }
   ],
   "source": [
    "f1_score(np.argmax(y_test, axis=-1), cb_pred.squeeze(), average='weighted')"
   ]
  },
  {
   "cell_type": "markdown",
   "id": "b3d29ca1-8c75-446c-82dc-fe8089e54e3d",
   "metadata": {
    "jp-MarkdownHeadingCollapsed": true,
    "tags": []
   },
   "source": [
    "### LogisticRegression"
   ]
  },
  {
   "cell_type": "code",
   "execution_count": 39,
   "id": "a215cc32-a449-43ab-8f9b-b8ab8d689025",
   "metadata": {
    "tags": []
   },
   "outputs": [
    {
     "data": {
      "text/plain": [
       "LogisticRegression(max_iter=500, random_state=42)"
      ]
     },
     "execution_count": 39,
     "metadata": {},
     "output_type": "execute_result"
    }
   ],
   "source": [
    "lg = LogisticRegression(random_state=42, max_iter=500)\n",
    "lg.fit(X_train, np.argmax(y_train, axis=-1))"
   ]
  },
  {
   "cell_type": "code",
   "execution_count": 40,
   "id": "fb84b8e4-7b30-4f36-966b-3144fa811596",
   "metadata": {},
   "outputs": [],
   "source": [
    "logreg_pred = lg.predict(X_test)"
   ]
  },
  {
   "cell_type": "code",
   "execution_count": 41,
   "id": "fb8b1250-df59-4bcd-a0cc-3b95bbe85144",
   "metadata": {},
   "outputs": [
    {
     "data": {
      "text/plain": [
       "Counter({11: 430,\n",
       "         12: 115,\n",
       "         8: 159,\n",
       "         7: 19,\n",
       "         6: 32,\n",
       "         10: 3,\n",
       "         2: 3,\n",
       "         1: 13,\n",
       "         5: 4,\n",
       "         4: 1})"
      ]
     },
     "execution_count": 41,
     "metadata": {},
     "output_type": "execute_result"
    }
   ],
   "source": [
    "Counter(logreg_pred)"
   ]
  },
  {
   "cell_type": "code",
   "execution_count": 42,
   "id": "bec77712-069d-4aee-9d30-eff3f028cbcc",
   "metadata": {},
   "outputs": [
    {
     "data": {
      "text/plain": [
       "0.4980744544287548"
      ]
     },
     "execution_count": 42,
     "metadata": {},
     "output_type": "execute_result"
    }
   ],
   "source": [
    "accuracy_score(np.argmax(y_test, axis=-1), logreg_pred)"
   ]
  },
  {
   "cell_type": "code",
   "execution_count": 43,
   "id": "cf4cf1e9-ebca-454e-afd9-7ba1c8d28301",
   "metadata": {},
   "outputs": [
    {
     "data": {
      "text/plain": [
       "0.47392818568634326"
      ]
     },
     "execution_count": 43,
     "metadata": {},
     "output_type": "execute_result"
    }
   ],
   "source": [
    "f1_score(np.argmax(y_test, axis=-1), logreg_pred, average='weighted')"
   ]
  },
  {
   "cell_type": "markdown",
   "id": "6ce06000-49f4-4353-a43e-4636cc9922a6",
   "metadata": {
    "jp-MarkdownHeadingCollapsed": true,
    "tags": []
   },
   "source": [
    "### RandomForeset"
   ]
  },
  {
   "cell_type": "code",
   "execution_count": 44,
   "id": "ec2f01a6-71c3-4371-8ef0-43754af8a4f0",
   "metadata": {},
   "outputs": [],
   "source": [
    "rf = RandomForestClassifier(max_depth=10, random_state=42)"
   ]
  },
  {
   "cell_type": "code",
   "execution_count": 45,
   "id": "5710b144-ee0e-4acf-b060-f0abd5f5e833",
   "metadata": {},
   "outputs": [
    {
     "data": {
      "text/plain": [
       "RandomForestClassifier(max_depth=10, random_state=42)"
      ]
     },
     "execution_count": 45,
     "metadata": {},
     "output_type": "execute_result"
    }
   ],
   "source": [
    "rf.fit(X_train, np.argmax(y_train, axis=-1))"
   ]
  },
  {
   "cell_type": "code",
   "execution_count": 46,
   "id": "0561fab7-dff1-49fe-b024-b58a6cc616df",
   "metadata": {},
   "outputs": [],
   "source": [
    "rf_preds = rf.predict(X_test)"
   ]
  },
  {
   "cell_type": "code",
   "execution_count": 47,
   "id": "976e8c5d-9592-4fd1-8afb-d7d4dedcbf83",
   "metadata": {
    "tags": []
   },
   "outputs": [
    {
     "data": {
      "text/plain": [
       "Counter({11: 688, 8: 56, 12: 25, 1: 2, 6: 3, 7: 3, 2: 1, 4: 1})"
      ]
     },
     "execution_count": 47,
     "metadata": {},
     "output_type": "execute_result"
    }
   ],
   "source": [
    "Counter(rf_preds)"
   ]
  },
  {
   "cell_type": "code",
   "execution_count": 48,
   "id": "510247d4-34c9-45b5-92a4-821e89a04423",
   "metadata": {},
   "outputs": [
    {
     "data": {
      "text/plain": [
       "0.5096277278562259"
      ]
     },
     "execution_count": 48,
     "metadata": {},
     "output_type": "execute_result"
    }
   ],
   "source": [
    "accuracy_score(np.argmax(y_test, axis=-1), rf_preds)"
   ]
  },
  {
   "cell_type": "code",
   "execution_count": 49,
   "id": "71113f3d-c77f-484b-af3f-0017382761e3",
   "metadata": {},
   "outputs": [
    {
     "data": {
      "text/plain": [
       "0.4186111684338658"
      ]
     },
     "execution_count": 49,
     "metadata": {},
     "output_type": "execute_result"
    }
   ],
   "source": [
    "f1_score(np.argmax(y_test, axis=-1), rf_preds, average='weighted')"
   ]
  },
  {
   "cell_type": "markdown",
   "id": "3e8c182f-7b70-43af-98bd-45bb14b2ff2b",
   "metadata": {
    "tags": []
   },
   "source": [
    "### Tensorflow"
   ]
  },
  {
   "cell_type": "code",
   "execution_count": null,
   "id": "78baa3b9-1c88-4be2-846a-b34eb228895a",
   "metadata": {},
   "outputs": [],
   "source": [
    "daily_dataset = SkillDataset(\n",
    "    data=daily, vars2id=labels_map,\n",
    "    text_vectorizer=encoder,\n",
    "    label_encoder=LabelEncoder(\n",
    "        list(labels_map['target_entity2id']),\n",
    "        'entity'),\n",
    "    shuffle=False, batch_size=32, **PARAMS)"
   ]
  },
  {
   "cell_type": "markdown",
   "id": "b3c75faf-48b1-495d-86bc-1ddaf482aee0",
   "metadata": {
    "jp-MarkdownHeadingCollapsed": true,
    "tags": []
   },
   "source": [
    "## Entities"
   ]
  },
  {
   "cell_type": "code",
   "execution_count": 50,
   "id": "48d93e37-a4dd-4665-9745-365757cf2409",
   "metadata": {},
   "outputs": [],
   "source": [
    "daily_dataset = SkillDataset(\n",
    "    data=daily, vars2id=labels_map,\n",
    "    text_vectorizer=encoder,\n",
    "    label_encoder=LabelEncoder(\n",
    "        list(labels_map['target_entity2id']),\n",
    "        'entity'),\n",
    "    shuffle=False, batch_size=len(daily), **PARAMS)"
   ]
  },
  {
   "cell_type": "code",
   "execution_count": 51,
   "id": "6cc960e3-05ba-4f06-9ba7-0073361311e3",
   "metadata": {},
   "outputs": [],
   "source": [
    "for X, y in daily_dataset:\n",
    "    break"
   ]
  },
  {
   "cell_type": "code",
   "execution_count": 52,
   "id": "e6a9b18c-baf9-4046-ba55-026c7eff4975",
   "metadata": {},
   "outputs": [],
   "source": [
    "X_train, X_test, y_train, y_test = train_test_split(X, y, test_size=0.2, random_state=42)"
   ]
  },
  {
   "cell_type": "code",
   "execution_count": 53,
   "id": "19050e97-cfc5-4abe-b531-58e2322775b2",
   "metadata": {},
   "outputs": [
    {
     "data": {
      "text/plain": [
       "((3115, 1671), (779, 1671), (3115, 28), (779, 28))"
      ]
     },
     "execution_count": 53,
     "metadata": {},
     "output_type": "execute_result"
    }
   ],
   "source": [
    "X_train.shape, X_test.shape, y_train.shape, y_test.shape"
   ]
  },
  {
   "cell_type": "code",
   "execution_count": 54,
   "id": "22f0382a-90d1-4c12-a84a-bb525fe2084c",
   "metadata": {},
   "outputs": [
    {
     "data": {
      "text/plain": [
       "array([0., 0., 1., 0., 0., 0., 0., 0., 0., 0., 0., 0., 0., 0., 0.])"
      ]
     },
     "execution_count": 54,
     "metadata": {},
     "output_type": "execute_result"
    }
   ],
   "source": [
    "X[0,525:540]"
   ]
  },
  {
   "cell_type": "code",
   "execution_count": 56,
   "id": "2b8f15e7-6ed4-4afd-ba80-36a9517a6918",
   "metadata": {},
   "outputs": [
    {
     "data": {
      "text/plain": [
       "array([0.3974597 , 0.17117733, 0.16336102, 0.07464582, 0.05236932,\n",
       "       0.        , 0.05627748, 0.06331216, 0.0371275 , 0.03790914,\n",
       "       0.0246214 , 0.        , 0.04064485, 0.02305813, 0.03165608,\n",
       "       0.01211529, 0.        , 0.00547142, 0.01133366, 0.00273571,\n",
       "       0.00390816, 0.00195408, 0.        , 0.00156326, 0.00117245,\n",
       "       0.00078163, 0.00078163, 0.00195408])"
      ]
     },
     "execution_count": 56,
     "metadata": {},
     "output_type": "execute_result"
    }
   ],
   "source": [
    "n_bins = len(labels_map['target_entity2id'])\n",
    "class_weights, _ = np.histogram(np.argmax(y_train, axis=-1), bins=n_bins, density=True)\n",
    "class_weights"
   ]
  },
  {
   "cell_type": "markdown",
   "id": "d967f27a-6013-4f9a-aa0a-bf64132c6250",
   "metadata": {
    "tags": []
   },
   "source": [
    "### Catboost"
   ]
  },
  {
   "cell_type": "code",
   "execution_count": 58,
   "id": "df2f637e-6124-465d-91de-fd56dad2d56a",
   "metadata": {},
   "outputs": [
    {
     "name": "stderr",
     "output_type": "stream",
     "text": [
      "Custom logger is already specified. Specify more than one logger at same time is not thread safe."
     ]
    },
    {
     "name": "stdout",
     "output_type": "stream",
     "text": [
      "Learning rate set to 0.5\n",
      "0:\tlearn: 0.4102729\ttotal: 5.79s\tremaining: 1m 21s\n",
      "1:\tlearn: 0.4093098\ttotal: 11.3s\tremaining: 1m 13s\n",
      "2:\tlearn: 0.4388443\ttotal: 17.3s\tremaining: 1m 9s\n",
      "3:\tlearn: 0.4465490\ttotal: 23.5s\tremaining: 1m 4s\n",
      "4:\tlearn: 0.4529695\ttotal: 30.2s\tremaining: 1m\n",
      "5:\tlearn: 0.4651685\ttotal: 36.7s\tremaining: 55.1s\n",
      "6:\tlearn: 0.4699839\ttotal: 42.7s\tremaining: 48.8s\n",
      "7:\tlearn: 0.4889246\ttotal: 49.9s\tremaining: 43.7s\n",
      "8:\tlearn: 0.5030498\ttotal: 56.7s\tremaining: 37.8s\n",
      "9:\tlearn: 0.5126806\ttotal: 1m 3s\tremaining: 31.9s\n",
      "10:\tlearn: 0.5258427\ttotal: 1m 10s\tremaining: 25.7s\n",
      "11:\tlearn: 0.5399679\ttotal: 1m 16s\tremaining: 19.2s\n",
      "12:\tlearn: 0.5585875\ttotal: 1m 23s\tremaining: 12.8s\n",
      "13:\tlearn: 0.5701445\ttotal: 1m 29s\tremaining: 6.41s\n",
      "14:\tlearn: 0.5861958\ttotal: 1m 36s\tremaining: 0us\n",
      "class =  (779, 1)\n"
     ]
    }
   ],
   "source": [
    "cb_train = Pool(np.float32(X_train), label=np.argmax(y_train, axis=-1).tolist())\n",
    "cb_eval = Pool(np.float32(X_test), label=np.argmax(y_test, axis=-1).tolist())\n",
    "\n",
    "model_params = {\n",
    "    'task_type': 'CPU',\n",
    "    'iterations': 15,\n",
    "    'verbose': True,\n",
    "    'loss_function': 'MultiClass',\n",
    "    'eval_metric': 'Accuracy',\n",
    "    # 'use_best_model': True,\n",
    "    # 'class_weights': class_weights\n",
    "}\n",
    "\n",
    "fit_params = {\n",
    "    # 'use_best_model': True,\n",
    "    'early_stopping_rounds': 5,\n",
    "    # 'eval_set': cb_eval, \n",
    "}\n",
    "\n",
    "model = CatBoostClassifier(**model_params)\n",
    "model.fit(cb_train, **fit_params)\n",
    "\n",
    "cb_pred = model.predict(cb_eval)\n",
    "print(\"class = \", cb_pred.shape)"
   ]
  },
  {
   "cell_type": "code",
   "execution_count": 59,
   "id": "2c327bf0-b08d-4a72-9527-18680a558bd6",
   "metadata": {},
   "outputs": [
    {
     "data": {
      "text/plain": [
       "Counter({2: 166,\n",
       "         0: 380,\n",
       "         3: 22,\n",
       "         1: 131,\n",
       "         6: 27,\n",
       "         5: 8,\n",
       "         12: 12,\n",
       "         4: 11,\n",
       "         10: 15,\n",
       "         9: 1,\n",
       "         11: 2,\n",
       "         7: 2,\n",
       "         8: 2})"
      ]
     },
     "execution_count": 59,
     "metadata": {},
     "output_type": "execute_result"
    }
   ],
   "source": [
    "Counter(cb_pred.squeeze())"
   ]
  },
  {
   "cell_type": "code",
   "execution_count": 60,
   "id": "0e93b3f3-d0e3-4a4d-a858-a90a24216027",
   "metadata": {},
   "outputs": [
    {
     "data": {
      "text/plain": [
       "0.4197689345314506"
      ]
     },
     "execution_count": 60,
     "metadata": {},
     "output_type": "execute_result"
    }
   ],
   "source": [
    "accuracy_score(np.argmax(y_test, axis=-1), cb_pred)"
   ]
  },
  {
   "cell_type": "code",
   "execution_count": 61,
   "id": "a51fdd9a-b841-4dc6-921d-f8007754e96a",
   "metadata": {},
   "outputs": [
    {
     "data": {
      "text/plain": [
       "0.35701463669236133"
      ]
     },
     "execution_count": 61,
     "metadata": {},
     "output_type": "execute_result"
    }
   ],
   "source": [
    "f1_score(np.argmax(y_test, axis=-1), cb_pred.squeeze(), average='weighted')"
   ]
  },
  {
   "cell_type": "markdown",
   "id": "db19dff0-5168-4677-aab6-5d4bf44fee32",
   "metadata": {
    "tags": []
   },
   "source": [
    "### LogisticRegression"
   ]
  },
  {
   "cell_type": "code",
   "execution_count": 62,
   "id": "f470b582-5217-4f1c-a686-42c0a8d56af6",
   "metadata": {},
   "outputs": [
    {
     "data": {
      "text/plain": [
       "LogisticRegression(max_iter=500, random_state=42)"
      ]
     },
     "execution_count": 62,
     "metadata": {},
     "output_type": "execute_result"
    }
   ],
   "source": [
    "lg = LogisticRegression(random_state=42, max_iter=500)\n",
    "lg.fit(X_train, np.argmax(y_train, axis=-1))"
   ]
  },
  {
   "cell_type": "code",
   "execution_count": 63,
   "id": "81a4c387-3487-44b2-8190-288f6b711a9d",
   "metadata": {},
   "outputs": [],
   "source": [
    "logreg_pred = lg.predict(X_test)"
   ]
  },
  {
   "cell_type": "code",
   "execution_count": 64,
   "id": "51100925-eece-4774-b4e1-1ba1719c1518",
   "metadata": {},
   "outputs": [
    {
     "data": {
      "text/plain": [
       "Counter({2: 132,\n",
       "         0: 336,\n",
       "         10: 10,\n",
       "         1: 120,\n",
       "         4: 29,\n",
       "         9: 9,\n",
       "         3: 34,\n",
       "         6: 39,\n",
       "         7: 13,\n",
       "         11: 9,\n",
       "         8: 7,\n",
       "         5: 19,\n",
       "         12: 16,\n",
       "         13: 4,\n",
       "         16: 2})"
      ]
     },
     "execution_count": 64,
     "metadata": {},
     "output_type": "execute_result"
    }
   ],
   "source": [
    "Counter(logreg_pred)"
   ]
  },
  {
   "cell_type": "code",
   "execution_count": 65,
   "id": "7c34cc36-2632-4ac4-9c4e-afd39c580c4a",
   "metadata": {},
   "outputs": [
    {
     "data": {
      "text/plain": [
       "0.540436456996149"
      ]
     },
     "execution_count": 65,
     "metadata": {},
     "output_type": "execute_result"
    }
   ],
   "source": [
    "accuracy_score(np.argmax(y_test, axis=-1), logreg_pred)"
   ]
  },
  {
   "cell_type": "code",
   "execution_count": 66,
   "id": "9982da60-a1a2-4159-947b-9c42b779dfbc",
   "metadata": {},
   "outputs": [
    {
     "data": {
      "text/plain": [
       "0.5114560467649589"
      ]
     },
     "execution_count": 66,
     "metadata": {},
     "output_type": "execute_result"
    }
   ],
   "source": [
    "f1_score(np.argmax(y_test, axis=-1), logreg_pred, average='weighted')"
   ]
  },
  {
   "cell_type": "markdown",
   "id": "b6143669-2304-4d25-a2f3-d253c2e39c0a",
   "metadata": {
    "tags": []
   },
   "source": [
    "### RandomForest"
   ]
  },
  {
   "cell_type": "code",
   "execution_count": 67,
   "id": "7247be1b-f4f1-424e-9f5b-c692cb571bef",
   "metadata": {},
   "outputs": [],
   "source": [
    "rf = RandomForestClassifier(max_depth=10, random_state=42)"
   ]
  },
  {
   "cell_type": "code",
   "execution_count": 68,
   "id": "f6117dfe-9df4-4b21-841a-ea7af355cac3",
   "metadata": {},
   "outputs": [
    {
     "data": {
      "text/plain": [
       "RandomForestClassifier(max_depth=10, random_state=42)"
      ]
     },
     "execution_count": 68,
     "metadata": {},
     "output_type": "execute_result"
    }
   ],
   "source": [
    "rf.fit(X_train, np.argmax(y_train, axis=-1))"
   ]
  },
  {
   "cell_type": "code",
   "execution_count": 69,
   "id": "5a698ab4-ec04-4776-af6a-983457ffaeeb",
   "metadata": {},
   "outputs": [],
   "source": [
    "rf_preds = rf.predict(X_test)"
   ]
  },
  {
   "cell_type": "code",
   "execution_count": 70,
   "id": "d01e49d9-2ed3-4a15-ba4e-b5170a76a365",
   "metadata": {
    "tags": []
   },
   "outputs": [
    {
     "data": {
      "text/plain": [
       "Counter({2: 55, 0: 589, 1: 115, 8: 1, 12: 9, 3: 3, 10: 2, 6: 3, 7: 1, 4: 1})"
      ]
     },
     "execution_count": 70,
     "metadata": {},
     "output_type": "execute_result"
    }
   ],
   "source": [
    "Counter(rf_preds)"
   ]
  },
  {
   "cell_type": "code",
   "execution_count": 71,
   "id": "02abf297-c188-48e8-9d5e-ddc6d14a6c17",
   "metadata": {},
   "outputs": [
    {
     "data": {
      "text/plain": [
       "0.46598202824133506"
      ]
     },
     "execution_count": 71,
     "metadata": {},
     "output_type": "execute_result"
    }
   ],
   "source": [
    "accuracy_score(np.argmax(y_test, axis=-1), rf_preds)"
   ]
  },
  {
   "cell_type": "code",
   "execution_count": 72,
   "id": "7b5efe82-585b-4b95-b9c8-893d9a8d6b80",
   "metadata": {},
   "outputs": [
    {
     "data": {
      "text/plain": [
       "0.37133969884685114"
      ]
     },
     "execution_count": 72,
     "metadata": {},
     "output_type": "execute_result"
    }
   ],
   "source": [
    "f1_score(np.argmax(y_test, axis=-1), rf_preds, average='weighted')"
   ]
  },
  {
   "cell_type": "markdown",
   "id": "be215a60-3b70-46eb-8a71-d6535c9d8312",
   "metadata": {
    "tags": []
   },
   "source": [
    "## Concatenation"
   ]
  },
  {
   "cell_type": "code",
   "execution_count": 73,
   "id": "8a01d122-eedb-4ccc-9b3c-b3f0243738f9",
   "metadata": {},
   "outputs": [],
   "source": [
    "daily_dataset = SkillDataset(\n",
    "    data=daily, vars2id=labels_map,\n",
    "    text_vectorizer=encoder,\n",
    "    label_encoder=LabelEncoder(\n",
    "        list(labels_map['target_midas_and_entity2id']),\n",
    "        'concatenation'),\n",
    "    shuffle=False, batch_size=len(daily), **PARAMS)"
   ]
  },
  {
   "cell_type": "code",
   "execution_count": 74,
   "id": "7f576511-7dfc-4b4a-baab-9552e4c87394",
   "metadata": {},
   "outputs": [],
   "source": [
    "for X, y in daily_dataset:\n",
    "    break"
   ]
  },
  {
   "cell_type": "code",
   "execution_count": 75,
   "id": "2edb4b69-ba55-4c5a-a140-1ded3bbd84e9",
   "metadata": {},
   "outputs": [
    {
     "data": {
      "text/plain": [
       "((3894, 1671), (3894, 364))"
      ]
     },
     "execution_count": 75,
     "metadata": {},
     "output_type": "execute_result"
    }
   ],
   "source": [
    "X.shape, y.shape"
   ]
  },
  {
   "cell_type": "code",
   "execution_count": 76,
   "id": "384dbe86-f810-4891-87ee-d67381cce5f4",
   "metadata": {},
   "outputs": [],
   "source": [
    "X_train, X_test, y_train, y_test = train_test_split(X, y, test_size=0.2, random_state=42)"
   ]
  },
  {
   "cell_type": "code",
   "execution_count": 77,
   "id": "847be53b-7e09-4232-b41b-2155a9c81a9d",
   "metadata": {},
   "outputs": [
    {
     "data": {
      "text/plain": [
       "((3115, 1671), (779, 1671), (3115, 364), (779, 364))"
      ]
     },
     "execution_count": 77,
     "metadata": {},
     "output_type": "execute_result"
    }
   ],
   "source": [
    "X_train.shape, X_test.shape, y_train.shape, y_test.shape"
   ]
  },
  {
   "cell_type": "code",
   "execution_count": 78,
   "id": "72370096-2e77-494a-97b3-2a2e8e0a8041",
   "metadata": {},
   "outputs": [
    {
     "data": {
      "text/plain": [
       "array([0., 0., 1., 0., 0., 0., 0., 0., 0., 0., 0., 0., 0., 0., 0.])"
      ]
     },
     "execution_count": 78,
     "metadata": {},
     "output_type": "execute_result"
    }
   ],
   "source": [
    "X[0,525:540]"
   ]
  },
  {
   "cell_type": "code",
   "execution_count": 80,
   "id": "a7aff40a-b315-4799-ad03-4b5f591a7225",
   "metadata": {},
   "outputs": [
    {
     "data": {
      "text/plain": [
       "array([0.02471231, 0.01270919, 0.00494246, 0.0031773 , 0.00141213,\n",
       "       0.00494246, 0.0021182 , 0.00141213, 0.0010591 , 0.00176517,\n",
       "       0.0021182 , 0.        , 0.00141213, 0.        , 0.        ,\n",
       "       0.        , 0.        , 0.        , 0.        , 0.        ,\n",
       "       0.00035303, 0.        , 0.        , 0.        , 0.        ,\n",
       "       0.        , 0.        , 0.        , 0.        , 0.        ,\n",
       "       0.00564853, 0.00282426, 0.00282426, 0.        , 0.00035303,\n",
       "       0.0010591 , 0.00035303, 0.00070607, 0.00247123, 0.        ,\n",
       "       0.00035303, 0.        , 0.        , 0.00035303, 0.        ,\n",
       "       0.00035303, 0.        , 0.        , 0.        , 0.        ,\n",
       "       0.        , 0.        , 0.        , 0.        , 0.        ,\n",
       "       0.        , 0.        , 0.        , 0.        , 0.        ,\n",
       "       0.        , 0.00353033, 0.00035303, 0.        , 0.        ,\n",
       "       0.00070607, 0.        , 0.00070607, 0.00035303, 0.        ,\n",
       "       0.00070607, 0.        , 0.        , 0.        , 0.        ,\n",
       "       0.        , 0.        , 0.        , 0.00035303, 0.        ,\n",
       "       0.00070607, 0.        , 0.        , 0.        , 0.        ,\n",
       "       0.        , 0.        , 0.        , 0.        , 0.        ,\n",
       "       0.        , 0.        , 0.00811976, 0.00070607, 0.00141213,\n",
       "       0.        , 0.        , 0.        , 0.        , 0.        ,\n",
       "       0.        , 0.00035303, 0.        , 0.00035303, 0.        ,\n",
       "       0.        , 0.        , 0.        , 0.        , 0.00035303,\n",
       "       0.        , 0.        , 0.        , 0.        , 0.        ,\n",
       "       0.        , 0.        , 0.        , 0.        , 0.        ,\n",
       "       0.        , 0.        , 0.        , 0.0031773 , 0.00247123,\n",
       "       0.00282426, 0.00035303, 0.0010591 , 0.        , 0.00035303,\n",
       "       0.        , 0.00035303, 0.        , 0.        , 0.00070607,\n",
       "       0.00035303, 0.00035303, 0.00035303, 0.00035303, 0.        ,\n",
       "       0.        , 0.        , 0.        , 0.        , 0.        ,\n",
       "       0.        , 0.        , 0.        , 0.        , 0.        ,\n",
       "       0.        , 0.        , 0.        , 0.02082895, 0.        ,\n",
       "       0.00388336, 0.01059099, 0.00494246, 0.0031773 , 0.00247123,\n",
       "       0.00494246, 0.00247123, 0.00176517, 0.00247123, 0.00741369,\n",
       "       0.        , 0.        , 0.00176517, 0.00070607, 0.        ,\n",
       "       0.00035303, 0.        , 0.00070607, 0.        , 0.        ,\n",
       "       0.00070607, 0.        , 0.        , 0.        , 0.        ,\n",
       "       0.        , 0.        , 0.        , 0.        , 0.01871075,\n",
       "       0.01341526, 0.00564853, 0.        , 0.00388336, 0.00176517,\n",
       "       0.00141213, 0.00353033, 0.00070607, 0.00070607, 0.00070607,\n",
       "       0.00035303, 0.00070607, 0.0021182 , 0.        , 0.00035303,\n",
       "       0.        , 0.00035303, 0.        , 0.00035303, 0.        ,\n",
       "       0.        , 0.        , 0.        , 0.        , 0.        ,\n",
       "       0.00070607, 0.        , 0.        , 0.        , 0.        ,\n",
       "       0.06460504, 0.05048372, 0.02541838, 0.01376829, 0.01376829,\n",
       "       0.        , 0.01553345, 0.01306222, 0.01059099, 0.0052955 ,\n",
       "       0.00741369, 0.00282426, 0.00353033, 0.00635459, 0.00600156,\n",
       "       0.00035303, 0.        , 0.00353033, 0.0010591 , 0.0010591 ,\n",
       "       0.        , 0.00035303, 0.        , 0.        , 0.        ,\n",
       "       0.00070607, 0.        , 0.        , 0.        , 0.        ,\n",
       "       0.        , 0.        , 0.        , 0.        , 0.        ,\n",
       "       0.        , 0.        , 0.        , 0.        , 0.        ,\n",
       "       0.        , 0.        , 0.00035303, 0.        , 0.        ,\n",
       "       0.        , 0.        , 0.        , 0.        , 0.        ,\n",
       "       0.        , 0.        , 0.        , 0.        , 0.        ,\n",
       "       0.        , 0.        , 0.        , 0.        , 0.        ,\n",
       "       0.        , 0.        , 0.00388336, 0.00353033, 0.0010591 ,\n",
       "       0.0010591 , 0.        , 0.        , 0.00070607, 0.        ,\n",
       "       0.        , 0.        , 0.        , 0.00035303, 0.        ,\n",
       "       0.        , 0.        , 0.        , 0.00035303, 0.        ,\n",
       "       0.        , 0.        , 0.        , 0.        , 0.        ,\n",
       "       0.        , 0.        , 0.        , 0.        , 0.        ,\n",
       "       0.        , 0.        , 0.15745273, 0.        , 0.042717  ,\n",
       "       0.0759021 , 0.03212601, 0.01659255, 0.02047592, 0.02330018,\n",
       "       0.01270919, 0.01871075, 0.00811976, 0.01412132, 0.        ,\n",
       "       0.01412132, 0.01235616, 0.00141213, 0.00247123, 0.00388336,\n",
       "       0.0010591 , 0.00035303, 0.00070607, 0.00070607, 0.00035303,\n",
       "       0.        , 0.00070607, 0.00070607, 0.        , 0.        ,\n",
       "       0.        , 0.        , 0.        , 0.04836552, 0.02153501,\n",
       "       0.01694559, 0.        , 0.00776673, 0.00776673, 0.00494246,\n",
       "       0.00811976, 0.0031773 , 0.0052955 , 0.00141213, 0.00811976,\n",
       "       0.00070607, 0.0052955 , 0.        , 0.00176517, 0.00176517,\n",
       "       0.00141213, 0.        , 0.00035303, 0.0010591 , 0.        ,\n",
       "       0.        , 0.        , 0.        , 0.00035303])"
      ]
     },
     "execution_count": 80,
     "metadata": {},
     "output_type": "execute_result"
    }
   ],
   "source": [
    "n_bins = len(labels_map['target_midas_and_entity2id'])\n",
    "class_weights, _ = np.histogram(np.argmax(y_train, axis=-1), bins=n_bins, density=True)\n",
    "class_weights"
   ]
  },
  {
   "cell_type": "markdown",
   "id": "bb20f41e-b8ca-4029-baf6-8c5e280bb166",
   "metadata": {
    "tags": []
   },
   "source": [
    "### Catboost"
   ]
  },
  {
   "cell_type": "code",
   "execution_count": 81,
   "id": "222834c5-9d3a-4fb6-bc31-536745be4356",
   "metadata": {
    "tags": []
   },
   "outputs": [],
   "source": [
    "cb_train = Pool(np.float32(X_train), label=np.argmax(y_train, axis=-1).tolist())\n",
    "cb_eval = Pool(np.float32(X_test), label=np.argmax(y_test, axis=-1).tolist())"
   ]
  },
  {
   "cell_type": "code",
   "execution_count": 82,
   "id": "e0b08291-211f-4ee4-82a6-9abcd6fb7236",
   "metadata": {},
   "outputs": [
    {
     "name": "stdout",
     "output_type": "stream",
     "text": [
      "Learning rate set to 0.5\n",
      "0:\tlearn: 0.1733547\ttotal: 40.2s\tremaining: 9m 22s\n",
      "1:\tlearn: 0.1601926\ttotal: 1m 22s\tremaining: 8m 58s\n",
      "2:\tlearn: 0.1656501\ttotal: 2m 9s\tremaining: 8m 36s\n",
      "3:\tlearn: 0.1858748\ttotal: 2m 50s\tremaining: 7m 50s\n",
      "4:\tlearn: 0.2025682\ttotal: 3m 32s\tremaining: 7m 5s\n",
      "5:\tlearn: 0.2237560\ttotal: 4m 14s\tremaining: 6m 21s\n",
      "6:\tlearn: 0.2369181\ttotal: 4m 58s\tremaining: 5m 40s\n",
      "7:\tlearn: 0.2571429\ttotal: 5m 40s\tremaining: 4m 58s\n",
      "8:\tlearn: 0.2792937\ttotal: 6m 23s\tremaining: 4m 15s\n",
      "9:\tlearn: 0.2991974\ttotal: 7m 7s\tremaining: 3m 33s\n",
      "10:\tlearn: 0.3174960\ttotal: 7m 51s\tremaining: 2m 51s\n",
      "11:\tlearn: 0.3428571\ttotal: 8m 35s\tremaining: 2m 8s\n",
      "12:\tlearn: 0.3707865\ttotal: 9m 18s\tremaining: 1m 25s\n",
      "13:\tlearn: 0.3955056\ttotal: 10m 3s\tremaining: 43.1s\n",
      "14:\tlearn: 0.4157303\ttotal: 10m 45s\tremaining: 0us\n"
     ]
    },
    {
     "data": {
      "text/plain": [
       "<catboost.core.CatBoostClassifier at 0x2382e4bb2b0>"
      ]
     },
     "execution_count": 82,
     "metadata": {},
     "output_type": "execute_result"
    }
   ],
   "source": [
    "model_params = {\n",
    "    'task_type': 'CPU',\n",
    "    'iterations': 15,\n",
    "    'verbose': True,\n",
    "    'loss_function': 'MultiClass',\n",
    "    'eval_metric': 'Accuracy',\n",
    "    # 'use_best_model': True,\n",
    "    # 'class_weights': class_weights\n",
    "}\n",
    "\n",
    "fit_params = {\n",
    "    # 'use_best_model': True,\n",
    "    'early_stopping_rounds': 5,\n",
    "    # 'eval_set': cb_eval, \n",
    "    \n",
    "}\n",
    "\n",
    "model = CatBoostClassifier(**model_params)\n",
    "model.fit(cb_train, **fit_params)"
   ]
  },
  {
   "cell_type": "code",
   "execution_count": 83,
   "id": "fe4e9948-63e1-4c88-91c3-0b73e73e7b30",
   "metadata": {},
   "outputs": [
    {
     "name": "stdout",
     "output_type": "stream",
     "text": [
      "class =  (779, 1)\n"
     ]
    }
   ],
   "source": [
    "cb_pred = model.predict(cb_eval)\n",
    "print(\"class = \", cb_pred.shape)"
   ]
  },
  {
   "cell_type": "code",
   "execution_count": 84,
   "id": "8d85f18c-1ce0-4c09-9d5c-4e1a68055a68",
   "metadata": {},
   "outputs": [
    {
     "data": {
      "text/plain": [
       "Counter({225: 83,\n",
       "         308: 314,\n",
       "         311: 18,\n",
       "         313: 7,\n",
       "         309: 38,\n",
       "         310: 101,\n",
       "         224: 61,\n",
       "         314: 12,\n",
       "         28: 11,\n",
       "         318: 4,\n",
       "         336: 42,\n",
       "         316: 4,\n",
       "         229: 4,\n",
       "         196: 6,\n",
       "         197: 5,\n",
       "         226: 12,\n",
       "         230: 10,\n",
       "         315: 2,\n",
       "         337: 13,\n",
       "         237: 2,\n",
       "         169: 1,\n",
       "         227: 2,\n",
       "         346: 1,\n",
       "         338: 3,\n",
       "         168: 7,\n",
       "         312: 3,\n",
       "         342: 1,\n",
       "         63: 1,\n",
       "         112: 1,\n",
       "         228: 3,\n",
       "         200: 1,\n",
       "         317: 1,\n",
       "         339: 1,\n",
       "         29: 1,\n",
       "         281: 1,\n",
       "         319: 2})"
      ]
     },
     "execution_count": 84,
     "metadata": {},
     "output_type": "execute_result"
    }
   ],
   "source": [
    "Counter(cb_pred.squeeze())"
   ]
  },
  {
   "cell_type": "code",
   "execution_count": 85,
   "id": "b46a7546-8de7-48c6-af71-be211df640ec",
   "metadata": {},
   "outputs": [
    {
     "data": {
      "text/plain": [
       "0.1643132220795892"
      ]
     },
     "execution_count": 85,
     "metadata": {},
     "output_type": "execute_result"
    }
   ],
   "source": [
    "accuracy_score(np.argmax(y_test, axis=-1), cb_pred.squeeze())"
   ]
  },
  {
   "cell_type": "code",
   "execution_count": 86,
   "id": "2f26e157-0235-4d63-a775-bc0fddeef425",
   "metadata": {},
   "outputs": [
    {
     "data": {
      "text/plain": [
       "0.1643132220795892"
      ]
     },
     "execution_count": 86,
     "metadata": {},
     "output_type": "execute_result"
    }
   ],
   "source": [
    "model.score(cb_eval)"
   ]
  },
  {
   "cell_type": "code",
   "execution_count": 87,
   "id": "4d6408d5-d657-4fd1-a2c0-bbbd8bd76bcc",
   "metadata": {},
   "outputs": [
    {
     "data": {
      "text/plain": [
       "0.1241032189680418"
      ]
     },
     "execution_count": 87,
     "metadata": {},
     "output_type": "execute_result"
    }
   ],
   "source": [
    "f1_score(np.argmax(y_test, axis=-1), cb_pred.squeeze(), average='weighted')"
   ]
  },
  {
   "cell_type": "markdown",
   "id": "9a338e86-120a-4e64-9075-0dd418dd1623",
   "metadata": {
    "jp-MarkdownHeadingCollapsed": true,
    "tags": []
   },
   "source": [
    "### LogisticRegression"
   ]
  },
  {
   "cell_type": "code",
   "execution_count": 88,
   "id": "1c0e2482-1dcb-4d80-99f2-8d789d22b419",
   "metadata": {},
   "outputs": [
    {
     "data": {
      "text/plain": [
       "LogisticRegression(max_iter=500, random_state=42)"
      ]
     },
     "execution_count": 88,
     "metadata": {},
     "output_type": "execute_result"
    }
   ],
   "source": [
    "lg = LogisticRegression(random_state=42, max_iter=500)\n",
    "lg.fit(X_train, np.argmax(y_train, axis=-1))"
   ]
  },
  {
   "cell_type": "code",
   "execution_count": 89,
   "id": "aa4bf17a-148a-4c17-a1b1-29f51d62512b",
   "metadata": {},
   "outputs": [],
   "source": [
    "logreg_pred = lg.predict(X_test)"
   ]
  },
  {
   "cell_type": "code",
   "execution_count": 90,
   "id": "3bacd057-ee5a-415a-81f8-0a439a89cf5e",
   "metadata": {},
   "outputs": [
    {
     "data": {
      "text/plain": [
       "Counter({310: 98,\n",
       "         308: 244,\n",
       "         336: 44,\n",
       "         168: 11,\n",
       "         225: 47,\n",
       "         204: 1,\n",
       "         338: 12,\n",
       "         309: 39,\n",
       "         316: 6,\n",
       "         224: 43,\n",
       "         233: 2,\n",
       "         199: 1,\n",
       "         311: 20,\n",
       "         342: 6,\n",
       "         315: 3,\n",
       "         226: 23,\n",
       "         314: 14,\n",
       "         337: 11,\n",
       "         170: 9,\n",
       "         29: 5,\n",
       "         319: 11,\n",
       "         229: 10,\n",
       "         228: 8,\n",
       "         313: 9,\n",
       "         236: 10,\n",
       "         227: 10,\n",
       "         197: 6,\n",
       "         232: 1,\n",
       "         324: 1,\n",
       "         174: 2,\n",
       "         196: 3,\n",
       "         28: 14,\n",
       "         237: 3,\n",
       "         312: 6,\n",
       "         230: 8,\n",
       "         346: 2,\n",
       "         339: 4,\n",
       "         320: 3,\n",
       "         198: 2,\n",
       "         30: 1,\n",
       "         231: 3,\n",
       "         341: 1,\n",
       "         59: 1,\n",
       "         318: 4,\n",
       "         63: 1,\n",
       "         112: 1,\n",
       "         178: 2,\n",
       "         317: 1,\n",
       "         180: 1,\n",
       "         200: 1,\n",
       "         140: 1,\n",
       "         172: 1,\n",
       "         114: 1,\n",
       "         56: 1,\n",
       "         348: 1,\n",
       "         340: 1,\n",
       "         281: 2,\n",
       "         144: 1,\n",
       "         171: 1})"
      ]
     },
     "execution_count": 90,
     "metadata": {},
     "output_type": "execute_result"
    }
   ],
   "source": [
    "Counter(logreg_pred)"
   ]
  },
  {
   "cell_type": "code",
   "execution_count": 91,
   "id": "4e273627-89c7-4463-9d68-65edd68c47de",
   "metadata": {},
   "outputs": [
    {
     "data": {
      "text/plain": [
       "0.3042362002567394"
      ]
     },
     "execution_count": 91,
     "metadata": {},
     "output_type": "execute_result"
    }
   ],
   "source": [
    "accuracy_score(np.argmax(y_test, axis=-1), logreg_pred)"
   ]
  },
  {
   "cell_type": "code",
   "execution_count": 92,
   "id": "72e7df7e-9888-4b2f-965e-a93360a7c889",
   "metadata": {},
   "outputs": [
    {
     "data": {
      "text/plain": [
       "0.27114958499533515"
      ]
     },
     "execution_count": 92,
     "metadata": {},
     "output_type": "execute_result"
    }
   ],
   "source": [
    "f1_score(np.argmax(y_test, axis=-1), logreg_pred, average='weighted')"
   ]
  },
  {
   "cell_type": "markdown",
   "id": "02d9720f-67c9-4614-870f-bed418984917",
   "metadata": {
    "jp-MarkdownHeadingCollapsed": true,
    "tags": []
   },
   "source": [
    "### RandomForest"
   ]
  },
  {
   "cell_type": "code",
   "execution_count": 93,
   "id": "7478948d-796e-4386-a7f4-238d5d7f5d60",
   "metadata": {},
   "outputs": [],
   "source": [
    "rf = RandomForestClassifier(max_depth=10, random_state=42)"
   ]
  },
  {
   "cell_type": "code",
   "execution_count": 94,
   "id": "f2690be4-1bb6-464b-a2ba-012e4b91cc24",
   "metadata": {},
   "outputs": [
    {
     "data": {
      "text/plain": [
       "RandomForestClassifier(max_depth=10, random_state=42)"
      ]
     },
     "execution_count": 94,
     "metadata": {},
     "output_type": "execute_result"
    }
   ],
   "source": [
    "rf.fit(X_train, np.argmax(y_train, axis=-1))"
   ]
  },
  {
   "cell_type": "code",
   "execution_count": 95,
   "id": "fb15dfb8-0ee3-43bc-bc69-4004522b98c4",
   "metadata": {},
   "outputs": [],
   "source": [
    "rf_preds = rf.predict(X_test)"
   ]
  },
  {
   "cell_type": "code",
   "execution_count": 96,
   "id": "3e72b7b9-d064-42f2-897e-25ebec31008d",
   "metadata": {
    "tags": []
   },
   "outputs": [
    {
     "data": {
      "text/plain": [
       "Counter({310: 55,\n",
       "         308: 589,\n",
       "         225: 70,\n",
       "         309: 20,\n",
       "         224: 9,\n",
       "         337: 3,\n",
       "         29: 1,\n",
       "         319: 5,\n",
       "         236: 2,\n",
       "         348: 1,\n",
       "         311: 1,\n",
       "         197: 1,\n",
       "         168: 1,\n",
       "         336: 5,\n",
       "         141: 1,\n",
       "         63: 1,\n",
       "         112: 1,\n",
       "         318: 2,\n",
       "         28: 2,\n",
       "         200: 1,\n",
       "         339: 1,\n",
       "         196: 1,\n",
       "         226: 2,\n",
       "         228: 1,\n",
       "         314: 1,\n",
       "         281: 2})"
      ]
     },
     "execution_count": 96,
     "metadata": {},
     "output_type": "execute_result"
    }
   ],
   "source": [
    "Counter(rf_preds)"
   ]
  },
  {
   "cell_type": "code",
   "execution_count": 97,
   "id": "5bf5b296-aa13-48b9-bf67-f932c1f74a8c",
   "metadata": {},
   "outputs": [
    {
     "data": {
      "text/plain": [
       "0.25288831835686776"
      ]
     },
     "execution_count": 97,
     "metadata": {},
     "output_type": "execute_result"
    }
   ],
   "source": [
    "accuracy_score(np.argmax(y_test, axis=-1), rf_preds)"
   ]
  },
  {
   "cell_type": "code",
   "execution_count": 98,
   "id": "93971e73-8e0c-4fb7-9db1-a4aa8dfcca2a",
   "metadata": {},
   "outputs": [
    {
     "data": {
      "text/plain": [
       "0.18235982874868165"
      ]
     },
     "execution_count": 98,
     "metadata": {},
     "output_type": "execute_result"
    }
   ],
   "source": [
    "f1_score(np.argmax(y_test, axis=-1), rf_preds, average='weighted')"
   ]
  },
  {
   "cell_type": "code",
   "execution_count": null,
   "id": "e2c33cda-b915-465f-8d38-9a8154340cbe",
   "metadata": {},
   "outputs": [],
   "source": []
  },
  {
   "cell_type": "markdown",
   "id": "35cf04ac-9ea8-4980-9aba-6b9392dcb901",
   "metadata": {
    "jp-MarkdownHeadingCollapsed": true,
    "tags": []
   },
   "source": [
    "# Topical"
   ]
  },
  {
   "cell_type": "code",
   "execution_count": 99,
   "id": "157443f6-434c-46de-a8fe-570ddaab22d8",
   "metadata": {},
   "outputs": [],
   "source": [
    "with open('data/single_entity_topical_dataset_v3.json', 'r', encoding=\"utf8\") as f:\n",
    "    topical = json.load(f)"
   ]
  },
  {
   "cell_type": "code",
   "execution_count": 100,
   "id": "8474957d-64cf-4d44-b0fd-cf989324ddf4",
   "metadata": {},
   "outputs": [],
   "source": [
    "PARAMS = {\n",
    "    'embed_dim': 512,\n",
    "    'n_previous': 3\n",
    "}"
   ]
  },
  {
   "cell_type": "markdown",
   "id": "36bfb4e4-c5a0-4d74-b164-14855ef25e42",
   "metadata": {
    "tags": []
   },
   "source": [
    "### Midas"
   ]
  },
  {
   "cell_type": "code",
   "execution_count": 101,
   "id": "f66d509f-8f5b-4c7f-922b-4c5968179264",
   "metadata": {},
   "outputs": [],
   "source": [
    "topical_dataset = SkillDataset(\n",
    "    data=topical, vars2id=labels_map,\n",
    "    text_vectorizer=encoder,\n",
    "    label_encoder=LabelEncoder(\n",
    "        list(labels_map['target_midas2id']),\n",
    "        'midas'),\n",
    "    shuffle=False, batch_size=len(topical), **PARAMS)"
   ]
  },
  {
   "cell_type": "code",
   "execution_count": 102,
   "id": "09a38330-917e-4956-b55a-aef5cb3d72bf",
   "metadata": {},
   "outputs": [],
   "source": [
    "for X, y in topical_dataset:\n",
    "    break"
   ]
  },
  {
   "cell_type": "code",
   "execution_count": 103,
   "id": "a858832d-e5a6-4f65-8b03-2eee1b925a6a",
   "metadata": {},
   "outputs": [
    {
     "data": {
      "text/plain": [
       "((7800, 1671), (7800, 13))"
      ]
     },
     "execution_count": 103,
     "metadata": {},
     "output_type": "execute_result"
    }
   ],
   "source": [
    "X.shape, y.shape"
   ]
  },
  {
   "cell_type": "code",
   "execution_count": 104,
   "id": "cb16d41f-f181-46c7-b9b5-e7a3b92abe75",
   "metadata": {},
   "outputs": [],
   "source": [
    "X_train, X_test, y_train, y_test = train_test_split(X, y, test_size=0.2, random_state=42)"
   ]
  },
  {
   "cell_type": "code",
   "execution_count": 105,
   "id": "73bc3dff-2f78-42a3-b4df-7d819966c4e1",
   "metadata": {},
   "outputs": [
    {
     "data": {
      "text/plain": [
       "((6240, 1671), (1560, 1671), (6240, 13), (1560, 13))"
      ]
     },
     "execution_count": 105,
     "metadata": {},
     "output_type": "execute_result"
    }
   ],
   "source": [
    "X_train.shape, X_test.shape, y_train.shape, y_test.shape"
   ]
  },
  {
   "cell_type": "code",
   "execution_count": 106,
   "id": "ac6a1267-7286-4124-97a2-97cecbc656cb",
   "metadata": {},
   "outputs": [
    {
     "data": {
      "text/plain": [
       "array([0., 1., 0., 0., 1., 0., 0., 0., 1., 0., 0., 0., 0., 0., 0.])"
      ]
     },
     "execution_count": 106,
     "metadata": {},
     "output_type": "execute_result"
    }
   ],
   "source": [
    "X[0,525:540]"
   ]
  },
  {
   "cell_type": "code",
   "execution_count": 107,
   "id": "1aff425b-fba2-499e-bdc1-de03a0a36a4c",
   "metadata": {},
   "outputs": [
    {
     "data": {
      "text/plain": [
       "array([0.00069444, 0.01944444, 0.0578125 , 0.00173611, 0.00138889,\n",
       "       0.00798611, 0.01614583, 0.01111111, 0.47395833, 0.00052083,\n",
       "       0.02083333, 0.39739583, 0.07430556])"
      ]
     },
     "execution_count": 107,
     "metadata": {},
     "output_type": "execute_result"
    }
   ],
   "source": [
    "n_bins = len(labels_map['target_midas2id'])\n",
    "class_weights, _ = np.histogram(np.argmax(y_train, axis=-1), bins=n_bins, density=True)\n",
    "class_weights"
   ]
  },
  {
   "cell_type": "markdown",
   "id": "fda667f8-5c4f-45dc-bf25-b814bf36a9be",
   "metadata": {
    "tags": []
   },
   "source": [
    "### Catboost"
   ]
  },
  {
   "cell_type": "code",
   "execution_count": 108,
   "id": "f25e632d-5364-4fcf-a928-498a980375cc",
   "metadata": {
    "tags": []
   },
   "outputs": [],
   "source": [
    "cb_train = Pool(np.float32(X_train), label=np.argmax(y_train, axis=-1).tolist())\n",
    "cb_eval = Pool(np.float32(X_test), label=np.argmax(y_test, axis=-1).tolist())"
   ]
  },
  {
   "cell_type": "code",
   "execution_count": 109,
   "id": "256fb6cf-1b98-4d6d-b400-34077f86b133",
   "metadata": {},
   "outputs": [
    {
     "name": "stdout",
     "output_type": "stream",
     "text": [
      "Learning rate set to 0.5\n",
      "0:\tlearn: 0.5793843\ttest: 0.5610284\tbest: 0.5610284 (0)\ttotal: 3.85s\tremaining: 53.9s\n",
      "1:\tlearn: 0.5763291\ttest: 0.5630017\tbest: 0.5630017 (1)\ttotal: 7.65s\tremaining: 49.7s\n",
      "2:\tlearn: 0.6032970\ttest: 0.5780767\tbest: 0.5780767 (2)\ttotal: 11.5s\tremaining: 45.8s\n",
      "3:\tlearn: 0.6231744\ttest: 0.5932358\tbest: 0.5932358 (3)\ttotal: 15.3s\tremaining: 42s\n",
      "4:\tlearn: 0.6320444\ttest: 0.5926341\tbest: 0.5932358 (3)\ttotal: 19.1s\tremaining: 38.1s\n",
      "5:\tlearn: 0.6383419\ttest: 0.6047587\tbest: 0.6047587 (5)\ttotal: 22.8s\tremaining: 34.2s\n",
      "6:\tlearn: 0.6440721\ttest: 0.6016661\tbest: 0.6047587 (5)\ttotal: 26.5s\tremaining: 30.3s\n",
      "7:\tlearn: 0.6507774\ttest: 0.6002557\tbest: 0.6047587 (5)\ttotal: 30.7s\tremaining: 26.8s\n",
      "8:\tlearn: 0.6604211\ttest: 0.6019637\tbest: 0.6047587 (5)\ttotal: 34.3s\tremaining: 22.9s\n",
      "9:\tlearn: 0.6621167\ttest: 0.6035100\tbest: 0.6047587 (5)\ttotal: 38.1s\tremaining: 19s\n",
      "10:\tlearn: 0.6708949\ttest: 0.6070362\tbest: 0.6070362 (10)\ttotal: 41.8s\tremaining: 15.2s\n",
      "11:\tlearn: 0.6766186\ttest: 0.6026948\tbest: 0.6070362 (10)\ttotal: 45.8s\tremaining: 11.4s\n",
      "12:\tlearn: 0.6848906\ttest: 0.6027207\tbest: 0.6070362 (10)\ttotal: 49.8s\tremaining: 7.66s\n",
      "13:\tlearn: 0.6939395\ttest: 0.5924658\tbest: 0.6070362 (10)\ttotal: 53.7s\tremaining: 3.83s\n",
      "14:\tlearn: 0.7009882\ttest: 0.5891015\tbest: 0.6070362 (10)\ttotal: 58.3s\tremaining: 0us\n",
      "\n",
      "bestTest = 0.6070361637\n",
      "bestIteration = 10\n",
      "\n",
      "Shrink model to first 11 iterations.\n"
     ]
    },
    {
     "data": {
      "text/plain": [
       "<catboost.core.CatBoostClassifier at 0x2382e4bbac0>"
      ]
     },
     "execution_count": 109,
     "metadata": {},
     "output_type": "execute_result"
    }
   ],
   "source": [
    "model_params = {\n",
    "    'task_type': 'CPU',\n",
    "    'iterations': 15,\n",
    "    'verbose': True,\n",
    "    'loss_function': 'MultiClass',\n",
    "    'eval_metric': 'Accuracy',\n",
    "    'use_best_model': True,\n",
    "    'class_weights': class_weights\n",
    "}\n",
    "\n",
    "fit_params = {\n",
    "    'use_best_model': True,\n",
    "    'early_stopping_rounds': 5,\n",
    "    'eval_set': cb_eval, \n",
    "}\n",
    "\n",
    "model = CatBoostClassifier(**model_params)\n",
    "model.fit(cb_train, **fit_params)"
   ]
  },
  {
   "cell_type": "code",
   "execution_count": 110,
   "id": "a86f3451-83e1-4d91-a256-5940a99b9207",
   "metadata": {},
   "outputs": [
    {
     "name": "stdout",
     "output_type": "stream",
     "text": [
      "class =  (1560, 1)\n"
     ]
    }
   ],
   "source": [
    "cb_pred = model.predict(cb_eval)\n",
    "print(\"class = \", cb_pred.shape)"
   ]
  },
  {
   "cell_type": "code",
   "execution_count": 111,
   "id": "71b2d2df-619a-41d2-9f5a-5ed32125b290",
   "metadata": {},
   "outputs": [
    {
     "data": {
      "text/plain": [
       "Counter({8: 1133, 11: 427})"
      ]
     },
     "execution_count": 111,
     "metadata": {},
     "output_type": "execute_result"
    }
   ],
   "source": [
    "Counter(cb_pred.squeeze())"
   ]
  },
  {
   "cell_type": "code",
   "execution_count": 112,
   "id": "0ffdef5a-ef94-4612-b62a-bf32ee044a42",
   "metadata": {},
   "outputs": [
    {
     "data": {
      "text/plain": [
       "0.483974358974359"
      ]
     },
     "execution_count": 112,
     "metadata": {},
     "output_type": "execute_result"
    }
   ],
   "source": [
    "accuracy_score(np.argmax(y_test, axis=-1), cb_pred.squeeze())"
   ]
  },
  {
   "cell_type": "code",
   "execution_count": 113,
   "id": "67a02ea8-1f9c-476a-a056-1e0ac45a6b42",
   "metadata": {},
   "outputs": [
    {
     "data": {
      "text/plain": [
       "0.483974358974359"
      ]
     },
     "execution_count": 113,
     "metadata": {},
     "output_type": "execute_result"
    }
   ],
   "source": [
    "model.score(cb_eval)"
   ]
  },
  {
   "cell_type": "code",
   "execution_count": 114,
   "id": "9a5b263d-22ad-4bae-b794-fa4ae8073ac8",
   "metadata": {},
   "outputs": [
    {
     "data": {
      "text/plain": [
       "0.41507885888945495"
      ]
     },
     "execution_count": 114,
     "metadata": {},
     "output_type": "execute_result"
    }
   ],
   "source": [
    "f1_score(np.argmax(y_test, axis=-1), cb_pred.squeeze(), average='weighted')"
   ]
  },
  {
   "cell_type": "markdown",
   "id": "51338ea1-a88b-4eb1-a151-ffa074881605",
   "metadata": {
    "tags": []
   },
   "source": [
    "### LogisticRegression"
   ]
  },
  {
   "cell_type": "code",
   "execution_count": 115,
   "id": "68d3023a-9483-451d-a06d-fd2b8a0da164",
   "metadata": {},
   "outputs": [
    {
     "data": {
      "text/plain": [
       "LogisticRegression(max_iter=500, random_state=42)"
      ]
     },
     "execution_count": 115,
     "metadata": {},
     "output_type": "execute_result"
    }
   ],
   "source": [
    "lg = LogisticRegression(random_state=42, max_iter=500)\n",
    "lg.fit(X_train, np.argmax(y_train, axis=-1))"
   ]
  },
  {
   "cell_type": "code",
   "execution_count": 116,
   "id": "43a7f942-877d-42b2-a3d2-b0587096245a",
   "metadata": {},
   "outputs": [],
   "source": [
    "logreg_pred = lg.predict(X_test)"
   ]
  },
  {
   "cell_type": "code",
   "execution_count": 117,
   "id": "7c6a78ee-606f-4a02-a95d-7bb7f6e44ad2",
   "metadata": {},
   "outputs": [
    {
     "data": {
      "text/plain": [
       "Counter({8: 885, 11: 614, 2: 19, 5: 1, 12: 29, 10: 8, 7: 1, 1: 2, 6: 1})"
      ]
     },
     "execution_count": 117,
     "metadata": {},
     "output_type": "execute_result"
    }
   ],
   "source": [
    "Counter(logreg_pred)"
   ]
  },
  {
   "cell_type": "code",
   "execution_count": 118,
   "id": "ce296ca3-726f-4132-93ef-9a1c5d58d090",
   "metadata": {},
   "outputs": [
    {
     "data": {
      "text/plain": [
       "0.4666666666666667"
      ]
     },
     "execution_count": 118,
     "metadata": {},
     "output_type": "execute_result"
    }
   ],
   "source": [
    "accuracy_score(np.argmax(y_test, axis=-1), logreg_pred)"
   ]
  },
  {
   "cell_type": "code",
   "execution_count": 119,
   "id": "493148bb-f061-447e-947b-22239abf15a7",
   "metadata": {},
   "outputs": [
    {
     "data": {
      "text/plain": [
       "0.4266231486809739"
      ]
     },
     "execution_count": 119,
     "metadata": {},
     "output_type": "execute_result"
    }
   ],
   "source": [
    "f1_score(np.argmax(y_test, axis=-1), logreg_pred, average='weighted')"
   ]
  },
  {
   "cell_type": "markdown",
   "id": "a8ce0f23-a35c-400a-ae39-4bfaca5ee641",
   "metadata": {
    "tags": []
   },
   "source": [
    "### RandomForeset"
   ]
  },
  {
   "cell_type": "code",
   "execution_count": 120,
   "id": "9ffe0918-1f1d-4b2a-b539-c10f85535eab",
   "metadata": {},
   "outputs": [],
   "source": [
    "rf = RandomForestClassifier(max_depth=10, random_state=42)"
   ]
  },
  {
   "cell_type": "code",
   "execution_count": 121,
   "id": "cc60603b-c7fc-419d-b370-247dc90b9a8b",
   "metadata": {},
   "outputs": [
    {
     "data": {
      "text/plain": [
       "RandomForestClassifier(max_depth=10, random_state=42)"
      ]
     },
     "execution_count": 121,
     "metadata": {},
     "output_type": "execute_result"
    }
   ],
   "source": [
    "rf.fit(X_train, np.argmax(y_train, axis=-1))"
   ]
  },
  {
   "cell_type": "code",
   "execution_count": 122,
   "id": "73f91f16-5e43-4d84-8c5d-85be9283a6f1",
   "metadata": {},
   "outputs": [],
   "source": [
    "rf_preds = rf.predict(X_test)"
   ]
  },
  {
   "cell_type": "code",
   "execution_count": 123,
   "id": "361fe370-851d-4cc2-806a-608c412017b6",
   "metadata": {
    "tags": []
   },
   "outputs": [
    {
     "data": {
      "text/plain": [
       "Counter({8: 1233, 11: 327})"
      ]
     },
     "execution_count": 123,
     "metadata": {},
     "output_type": "execute_result"
    }
   ],
   "source": [
    "Counter(rf_preds)"
   ]
  },
  {
   "cell_type": "code",
   "execution_count": 124,
   "id": "84aa5bd2-86d5-4e69-a818-62e4fdb5bd17",
   "metadata": {},
   "outputs": [
    {
     "data": {
      "text/plain": [
       "0.48846153846153845"
      ]
     },
     "execution_count": 124,
     "metadata": {},
     "output_type": "execute_result"
    }
   ],
   "source": [
    "accuracy_score(np.argmax(y_test, axis=-1), rf_preds)"
   ]
  },
  {
   "cell_type": "code",
   "execution_count": 125,
   "id": "e49af0cd-feb1-4fd7-b331-97572dfba516",
   "metadata": {},
   "outputs": [
    {
     "data": {
      "text/plain": [
       "0.4082918499445696"
      ]
     },
     "execution_count": 125,
     "metadata": {},
     "output_type": "execute_result"
    }
   ],
   "source": [
    "f1_score(np.argmax(y_test, axis=-1), rf_preds, average='weighted')"
   ]
  },
  {
   "cell_type": "markdown",
   "id": "e48b3b54-0f21-4a4e-866e-a4c37221114f",
   "metadata": {
    "tags": []
   },
   "source": [
    "## Entities"
   ]
  },
  {
   "cell_type": "code",
   "execution_count": 137,
   "id": "f517a82e-b5ea-4bc1-918c-94b4f3acc17e",
   "metadata": {},
   "outputs": [],
   "source": [
    "topical_dataset = SkillDataset(\n",
    "    data=topical, vars2id=labels_map,\n",
    "    text_vectorizer=encoder,\n",
    "    label_encoder=LabelEncoder(\n",
    "        list(labels_map['target_entity2id']),\n",
    "        'entity'),\n",
    "    shuffle=False, batch_size=len(topical), **PARAMS)"
   ]
  },
  {
   "cell_type": "code",
   "execution_count": 138,
   "id": "ef56fa4a-17b9-4d3d-9ee5-6986ed71d0f3",
   "metadata": {},
   "outputs": [],
   "source": [
    "for X, y in topical_dataset:\n",
    "    break"
   ]
  },
  {
   "cell_type": "code",
   "execution_count": 139,
   "id": "57f4964d-dbad-47a2-b2ae-3bf9669393ac",
   "metadata": {},
   "outputs": [],
   "source": [
    "X_train, X_test, y_train, y_test = train_test_split(X, y, test_size=0.2, random_state=42)"
   ]
  },
  {
   "cell_type": "code",
   "execution_count": 140,
   "id": "09f8e103-7bbc-4507-8390-07f97486cdd5",
   "metadata": {},
   "outputs": [
    {
     "data": {
      "text/plain": [
       "((6240, 1671), (1560, 1671), (6240, 28), (1560, 28))"
      ]
     },
     "execution_count": 140,
     "metadata": {},
     "output_type": "execute_result"
    }
   ],
   "source": [
    "X_train.shape, X_test.shape, y_train.shape, y_test.shape"
   ]
  },
  {
   "cell_type": "code",
   "execution_count": 141,
   "id": "84c5158d-f4e3-4df2-a37b-625e9aaca31f",
   "metadata": {},
   "outputs": [
    {
     "data": {
      "text/plain": [
       "array([0., 1., 0., 0., 1., 0., 0., 0., 1., 0., 0., 0., 0., 0., 0.])"
      ]
     },
     "execution_count": 141,
     "metadata": {},
     "output_type": "execute_result"
    }
   ],
   "source": [
    "X[0,525:540]"
   ]
  },
  {
   "cell_type": "code",
   "execution_count": 142,
   "id": "84f01c4e-e2b9-4aaa-94c0-bacad5d1f1ad",
   "metadata": {},
   "outputs": [
    {
     "data": {
      "text/plain": [
       "array([2.61585945e-01, 1.99430199e-02, 1.39767331e-01, 6.96343780e-02,\n",
       "       2.74216524e-02, 1.04202279e-01, 6.88034188e-02, 5.84995252e-02,\n",
       "       1.32953466e-02, 1.99430199e-02, 1.87796771e-02, 6.91358025e-02,\n",
       "       1.09686610e-02, 5.05223172e-02, 6.64767331e-03, 1.91120608e-02,\n",
       "       1.86134853e-02, 4.65337132e-03, 1.81149098e-02, 2.16049383e-03,\n",
       "       3.32383666e-03, 1.66191833e-04, 6.81386515e-03, 1.91120608e-02,\n",
       "       4.98575499e-04, 3.49002849e-03, 3.32383666e-04, 1.49572650e-03])"
      ]
     },
     "execution_count": 142,
     "metadata": {},
     "output_type": "execute_result"
    }
   ],
   "source": [
    "n_bins = len(labels_map['target_entity2id'])\n",
    "class_weights, _ = np.histogram(np.argmax(y_train, axis=-1), bins=n_bins, density=True)\n",
    "class_weights"
   ]
  },
  {
   "cell_type": "markdown",
   "id": "9a6c45f9-778d-4ff3-908d-021e3fa65b8b",
   "metadata": {
    "tags": []
   },
   "source": [
    "### Catboost"
   ]
  },
  {
   "cell_type": "code",
   "execution_count": 143,
   "id": "f3e2e496-2910-4d3c-85e7-2ee82011bd74",
   "metadata": {},
   "outputs": [
    {
     "name": "stdout",
     "output_type": "stream",
     "text": [
      "Learning rate set to 0.5\n",
      "0:\tlearn: 0.2884615\ttest: 0.2967949\tbest: 0.2967949 (0)\ttotal: 7.79s\tremaining: 1m 49s\n",
      "1:\tlearn: 0.2910256\ttest: 0.2967949\tbest: 0.2967949 (0)\ttotal: 16.4s\tremaining: 1m 46s\n",
      "2:\tlearn: 0.3322115\ttest: 0.3294872\tbest: 0.3294872 (2)\ttotal: 25.3s\tremaining: 1m 41s\n",
      "3:\tlearn: 0.3495192\ttest: 0.3378205\tbest: 0.3378205 (3)\ttotal: 33.9s\tremaining: 1m 33s\n",
      "4:\tlearn: 0.3533654\ttest: 0.3397436\tbest: 0.3397436 (4)\ttotal: 42.6s\tremaining: 1m 25s\n",
      "5:\tlearn: 0.3639423\ttest: 0.3493590\tbest: 0.3493590 (5)\ttotal: 51.5s\tremaining: 1m 17s\n",
      "6:\tlearn: 0.3671474\ttest: 0.3500000\tbest: 0.3500000 (6)\ttotal: 1m 1s\tremaining: 1m 9s\n",
      "7:\tlearn: 0.3759615\ttest: 0.3487179\tbest: 0.3500000 (6)\ttotal: 1m 10s\tremaining: 1m 1s\n",
      "8:\tlearn: 0.3793269\ttest: 0.3532051\tbest: 0.3532051 (8)\ttotal: 1m 18s\tremaining: 52.3s\n",
      "9:\tlearn: 0.3899038\ttest: 0.3544872\tbest: 0.3544872 (9)\ttotal: 1m 26s\tremaining: 43.4s\n",
      "10:\tlearn: 0.3940705\ttest: 0.3519231\tbest: 0.3544872 (9)\ttotal: 1m 34s\tremaining: 34.5s\n",
      "11:\tlearn: 0.4036859\ttest: 0.3525641\tbest: 0.3544872 (9)\ttotal: 1m 43s\tremaining: 25.8s\n",
      "12:\tlearn: 0.4139423\ttest: 0.3564103\tbest: 0.3564103 (12)\ttotal: 1m 51s\tremaining: 17.2s\n",
      "13:\tlearn: 0.4197115\ttest: 0.3647436\tbest: 0.3647436 (13)\ttotal: 2m\tremaining: 8.59s\n",
      "14:\tlearn: 0.4219551\ttest: 0.3564103\tbest: 0.3647436 (13)\ttotal: 2m 8s\tremaining: 0us\n",
      "\n",
      "bestTest = 0.3647435897\n",
      "bestIteration = 13\n",
      "\n",
      "Shrink model to first 14 iterations.\n",
      "class =  (1560, 1)\n"
     ]
    }
   ],
   "source": [
    "cb_train = Pool(np.float32(X_train), label=np.argmax(y_train, axis=-1).tolist())\n",
    "cb_eval = Pool(np.float32(X_test), label=np.argmax(y_test, axis=-1).tolist())\n",
    "\n",
    "model_params = {\n",
    "    'task_type': 'CPU',\n",
    "    'iterations': 15,\n",
    "    'verbose': True,\n",
    "    'loss_function': 'MultiClass',\n",
    "    'eval_metric': 'Accuracy',\n",
    "    'use_best_model': True,\n",
    "    # 'class_weights': class_weights\n",
    "}\n",
    "\n",
    "fit_params = {\n",
    "    'use_best_model': True,\n",
    "    'early_stopping_rounds': 5,\n",
    "    'eval_set': cb_eval, \n",
    "}\n",
    "\n",
    "model = CatBoostClassifier(**model_params)\n",
    "model.fit(cb_train, **fit_params)\n",
    "\n",
    "cb_pred = model.predict(cb_eval)\n",
    "print(\"class = \", cb_pred.shape)"
   ]
  },
  {
   "cell_type": "code",
   "execution_count": 144,
   "id": "3ecc4ea6-4a47-40e3-80c0-680ede0acba1",
   "metadata": {},
   "outputs": [
    {
     "data": {
      "text/plain": [
       "Counter({18: 12,\n",
       "         11: 126,\n",
       "         0: 702,\n",
       "         2: 281,\n",
       "         13: 84,\n",
       "         7: 51,\n",
       "         5: 183,\n",
       "         6: 27,\n",
       "         3: 57,\n",
       "         4: 6,\n",
       "         23: 22,\n",
       "         16: 9})"
      ]
     },
     "execution_count": 144,
     "metadata": {},
     "output_type": "execute_result"
    }
   ],
   "source": [
    "Counter(cb_pred.squeeze())"
   ]
  },
  {
   "cell_type": "code",
   "execution_count": 145,
   "id": "7fcbc32d-b0db-4d8d-9777-420a140b3ec5",
   "metadata": {},
   "outputs": [
    {
     "data": {
      "text/plain": [
       "0.3647435897435897"
      ]
     },
     "execution_count": 145,
     "metadata": {},
     "output_type": "execute_result"
    }
   ],
   "source": [
    "accuracy_score(np.argmax(y_test, axis=-1), cb_pred)"
   ]
  },
  {
   "cell_type": "code",
   "execution_count": 146,
   "id": "a2e44f09-ec57-4ca1-8e5c-4747ef74b97a",
   "metadata": {},
   "outputs": [
    {
     "data": {
      "text/plain": [
       "0.3115672105128657"
      ]
     },
     "execution_count": 146,
     "metadata": {},
     "output_type": "execute_result"
    }
   ],
   "source": [
    "f1_score(np.argmax(y_test, axis=-1), cb_pred.squeeze(), average='weighted')"
   ]
  },
  {
   "cell_type": "markdown",
   "id": "810ffb13-a31f-4a18-98a5-c044f2714291",
   "metadata": {
    "tags": []
   },
   "source": [
    "### LogisticRegression"
   ]
  },
  {
   "cell_type": "code",
   "execution_count": 147,
   "id": "4d1d81e6-5392-43db-81e7-dc86ed854b55",
   "metadata": {},
   "outputs": [
    {
     "data": {
      "text/plain": [
       "LogisticRegression(max_iter=500, random_state=42)"
      ]
     },
     "execution_count": 147,
     "metadata": {},
     "output_type": "execute_result"
    }
   ],
   "source": [
    "lg = LogisticRegression(random_state=42, max_iter=500)\n",
    "lg.fit(X_train, np.argmax(y_train, axis=-1))"
   ]
  },
  {
   "cell_type": "code",
   "execution_count": 148,
   "id": "6273c680-303f-4598-84bd-d82c4ee30d8f",
   "metadata": {},
   "outputs": [],
   "source": [
    "logreg_pred = lg.predict(X_test)"
   ]
  },
  {
   "cell_type": "code",
   "execution_count": 149,
   "id": "6e90727e-2410-463a-a4c0-301642a371c4",
   "metadata": {},
   "outputs": [
    {
     "data": {
      "text/plain": [
       "Counter({18: 19,\n",
       "         11: 123,\n",
       "         2: 216,\n",
       "         0: 556,\n",
       "         4: 25,\n",
       "         5: 178,\n",
       "         3: 72,\n",
       "         16: 18,\n",
       "         7: 91,\n",
       "         6: 93,\n",
       "         8: 7,\n",
       "         13: 78,\n",
       "         15: 13,\n",
       "         1: 14,\n",
       "         12: 14,\n",
       "         23: 19,\n",
       "         10: 8,\n",
       "         9: 11,\n",
       "         22: 5})"
      ]
     },
     "execution_count": 149,
     "metadata": {},
     "output_type": "execute_result"
    }
   ],
   "source": [
    "Counter(logreg_pred)"
   ]
  },
  {
   "cell_type": "code",
   "execution_count": 150,
   "id": "27ce9c85-6cb6-4395-b02b-40ec62f8a1b4",
   "metadata": {},
   "outputs": [
    {
     "data": {
      "text/plain": [
       "0.40064102564102566"
      ]
     },
     "execution_count": 150,
     "metadata": {},
     "output_type": "execute_result"
    }
   ],
   "source": [
    "accuracy_score(np.argmax(y_test, axis=-1), logreg_pred)"
   ]
  },
  {
   "cell_type": "code",
   "execution_count": 151,
   "id": "b8b3e433-4246-4482-8a92-5d0fac254b32",
   "metadata": {},
   "outputs": [
    {
     "data": {
      "text/plain": [
       "0.3788650515375682"
      ]
     },
     "execution_count": 151,
     "metadata": {},
     "output_type": "execute_result"
    }
   ],
   "source": [
    "f1_score(np.argmax(y_test, axis=-1), logreg_pred, average='weighted')"
   ]
  },
  {
   "cell_type": "markdown",
   "id": "d23aef8e-1735-4c35-8851-431739838134",
   "metadata": {
    "tags": []
   },
   "source": [
    "### RandomForest"
   ]
  },
  {
   "cell_type": "code",
   "execution_count": 152,
   "id": "96fb4cc7-3cb9-40cf-b56b-c847f533a63e",
   "metadata": {},
   "outputs": [],
   "source": [
    "rf = RandomForestClassifier(max_depth=10, random_state=42)"
   ]
  },
  {
   "cell_type": "code",
   "execution_count": 153,
   "id": "dc565f88-3ae9-4cee-8867-33245dfaf0f9",
   "metadata": {},
   "outputs": [
    {
     "data": {
      "text/plain": [
       "RandomForestClassifier(max_depth=10, random_state=42)"
      ]
     },
     "execution_count": 153,
     "metadata": {},
     "output_type": "execute_result"
    }
   ],
   "source": [
    "rf.fit(X_train, np.argmax(y_train, axis=-1))"
   ]
  },
  {
   "cell_type": "code",
   "execution_count": 154,
   "id": "56932727-771f-4565-a7d6-a45390b26b93",
   "metadata": {},
   "outputs": [],
   "source": [
    "rf_preds = rf.predict(X_test)"
   ]
  },
  {
   "cell_type": "code",
   "execution_count": 155,
   "id": "a3295ac9-49f5-4501-b268-1d96ebe12ac0",
   "metadata": {
    "tags": []
   },
   "outputs": [
    {
     "data": {
      "text/plain": [
       "Counter({18: 20,\n",
       "         11: 21,\n",
       "         2: 153,\n",
       "         0: 1104,\n",
       "         7: 44,\n",
       "         5: 124,\n",
       "         13: 83,\n",
       "         3: 1,\n",
       "         23: 8,\n",
       "         6: 2})"
      ]
     },
     "execution_count": 155,
     "metadata": {},
     "output_type": "execute_result"
    }
   ],
   "source": [
    "Counter(rf_preds)"
   ]
  },
  {
   "cell_type": "code",
   "execution_count": 156,
   "id": "68075810-ddd8-42dd-9961-ab9545409064",
   "metadata": {},
   "outputs": [
    {
     "data": {
      "text/plain": [
       "0.3685897435897436"
      ]
     },
     "execution_count": 156,
     "metadata": {},
     "output_type": "execute_result"
    }
   ],
   "source": [
    "accuracy_score(np.argmax(y_test, axis=-1), rf_preds)"
   ]
  },
  {
   "cell_type": "code",
   "execution_count": 157,
   "id": "42440eb6-a492-487f-8448-6d60a0c3352f",
   "metadata": {},
   "outputs": [
    {
     "data": {
      "text/plain": [
       "0.2771521450831389"
      ]
     },
     "execution_count": 157,
     "metadata": {},
     "output_type": "execute_result"
    }
   ],
   "source": [
    "f1_score(np.argmax(y_test, axis=-1), rf_preds, average='weighted')"
   ]
  },
  {
   "cell_type": "markdown",
   "id": "b33820b6-8888-4adc-8c6e-38caaedf4432",
   "metadata": {
    "tags": []
   },
   "source": [
    "## Concatenation"
   ]
  },
  {
   "cell_type": "code",
   "execution_count": 158,
   "id": "98c26fda-14ba-4765-8c6f-2bb900c399c0",
   "metadata": {},
   "outputs": [],
   "source": [
    "topical_dataset = SkillDataset(\n",
    "    data=topical, vars2id=labels_map,\n",
    "    text_vectorizer=encoder,\n",
    "    label_encoder=LabelEncoder(\n",
    "        list(labels_map['target_midas_and_entity2id']),\n",
    "        'concatenation'),\n",
    "    shuffle=False, batch_size=len(topical), **PARAMS)"
   ]
  },
  {
   "cell_type": "code",
   "execution_count": 159,
   "id": "c3c3bf7e-04d9-4a44-acac-16e0aa10df74",
   "metadata": {},
   "outputs": [],
   "source": [
    "for X, y in topical_dataset:\n",
    "    break"
   ]
  },
  {
   "cell_type": "code",
   "execution_count": 160,
   "id": "3c4e9836-7dba-4d53-830c-1d4c8b76acd2",
   "metadata": {},
   "outputs": [
    {
     "data": {
      "text/plain": [
       "((7800, 1671), (7800, 364))"
      ]
     },
     "execution_count": 160,
     "metadata": {},
     "output_type": "execute_result"
    }
   ],
   "source": [
    "X.shape, y.shape"
   ]
  },
  {
   "cell_type": "code",
   "execution_count": 161,
   "id": "3a513003-0e72-47ef-947e-0bf2a912c5ba",
   "metadata": {},
   "outputs": [],
   "source": [
    "X_train, X_test, y_train, y_test = train_test_split(X, y, test_size=0.2, random_state=42)"
   ]
  },
  {
   "cell_type": "code",
   "execution_count": 162,
   "id": "325c34c5-600a-470c-b4c8-588c5e65d281",
   "metadata": {},
   "outputs": [
    {
     "data": {
      "text/plain": [
       "((6240, 1671), (1560, 1671), (6240, 364), (1560, 364))"
      ]
     },
     "execution_count": 162,
     "metadata": {},
     "output_type": "execute_result"
    }
   ],
   "source": [
    "X_train.shape, X_test.shape, y_train.shape, y_test.shape"
   ]
  },
  {
   "cell_type": "code",
   "execution_count": 163,
   "id": "a4ff7cd2-d6e6-44d3-8818-e7fbb4c42dc6",
   "metadata": {},
   "outputs": [
    {
     "data": {
      "text/plain": [
       "array([0., 1., 0., 0., 1., 0., 0., 0., 1., 0., 0., 0., 0., 0., 0.])"
      ]
     },
     "execution_count": 163,
     "metadata": {},
     "output_type": "execute_result"
    }
   ],
   "source": [
    "X[0,525:540]"
   ]
  },
  {
   "cell_type": "code",
   "execution_count": 164,
   "id": "0ffdffa5-b28d-4e39-a142-a03d5c335f45",
   "metadata": {},
   "outputs": [
    {
     "data": {
      "text/plain": [
       "array([0.0003214 , 0.        , 0.        , 0.0001607 , 0.        ,\n",
       "       0.0001607 , 0.        , 0.        , 0.        , 0.        ,\n",
       "       0.        , 0.        , 0.        , 0.        , 0.        ,\n",
       "       0.        , 0.        , 0.        , 0.        , 0.        ,\n",
       "       0.        , 0.        , 0.        , 0.        , 0.        ,\n",
       "       0.        , 0.        , 0.        , 0.00482094, 0.00064279,\n",
       "       0.0003214 , 0.00144628, 0.0003214 , 0.00080349, 0.00144628,\n",
       "       0.00305326, 0.        , 0.00224977, 0.0003214 , 0.00112489,\n",
       "       0.0001607 , 0.00096419, 0.        , 0.        , 0.        ,\n",
       "       0.        , 0.        , 0.        , 0.        , 0.        ,\n",
       "       0.        , 0.0001607 , 0.        , 0.0001607 , 0.        ,\n",
       "       0.        , 0.01060606, 0.00096419, 0.00530303, 0.00176768,\n",
       "       0.00385675, 0.00883838, 0.00401745, 0.0078742 , 0.0001607 ,\n",
       "       0.00128558, 0.00192837, 0.00128558, 0.        , 0.00112489,\n",
       "       0.0003214 , 0.00208907, 0.0003214 , 0.0001607 , 0.0001607 ,\n",
       "       0.0001607 , 0.0001607 , 0.        , 0.0003214 , 0.00064279,\n",
       "       0.        , 0.0001607 , 0.        , 0.        , 0.00080349,\n",
       "       0.0001607 , 0.0003214 , 0.        , 0.        , 0.        ,\n",
       "       0.        , 0.        , 0.        , 0.        , 0.        ,\n",
       "       0.        , 0.        , 0.        , 0.        , 0.0001607 ,\n",
       "       0.        , 0.        , 0.        , 0.        , 0.        ,\n",
       "       0.        , 0.0001607 , 0.        , 0.        , 0.        ,\n",
       "       0.        , 0.        , 0.00096419, 0.0001607 , 0.        ,\n",
       "       0.        , 0.        , 0.        , 0.        , 0.        ,\n",
       "       0.        , 0.        , 0.        , 0.        , 0.        ,\n",
       "       0.0001607 , 0.        , 0.        , 0.        , 0.        ,\n",
       "       0.        , 0.        , 0.        , 0.        , 0.        ,\n",
       "       0.        , 0.        , 0.        , 0.        , 0.        ,\n",
       "       0.00160698, 0.        , 0.00160698, 0.00112489, 0.0003214 ,\n",
       "       0.0003214 , 0.0003214 , 0.0001607 , 0.0001607 , 0.0001607 ,\n",
       "       0.        , 0.        , 0.0001607 , 0.00064279, 0.        ,\n",
       "       0.0003214 , 0.0001607 , 0.        , 0.0003214 , 0.        ,\n",
       "       0.        , 0.        , 0.        , 0.        , 0.        ,\n",
       "       0.        , 0.        , 0.        , 0.00433884, 0.0003214 ,\n",
       "       0.00289256, 0.0003214 , 0.00048209, 0.00048209, 0.00064279,\n",
       "       0.00176768, 0.00048209, 0.0003214 , 0.00064279, 0.0003214 ,\n",
       "       0.0001607 , 0.0003214 , 0.0001607 , 0.        , 0.0003214 ,\n",
       "       0.0001607 , 0.        , 0.        , 0.0001607 , 0.        ,\n",
       "       0.        , 0.00064279, 0.        , 0.        , 0.        ,\n",
       "       0.        , 0.00192837, 0.0003214 , 0.00064279, 0.0003214 ,\n",
       "       0.0003214 , 0.00048209, 0.00096419, 0.00128558, 0.        ,\n",
       "       0.0003214 , 0.0003214 , 0.00096419, 0.        , 0.00096419,\n",
       "       0.        , 0.0001607 , 0.0003214 , 0.0001607 , 0.0001607 ,\n",
       "       0.        , 0.        , 0.        , 0.        , 0.00064279,\n",
       "       0.        , 0.        , 0.        , 0.        , 0.09513315,\n",
       "       0.01108815, 0.05190542, 0.02715794, 0.01189164, 0.0535124 ,\n",
       "       0.03278237, 0.02137282, 0.00546373, 0.01044536, 0.0078742 ,\n",
       "       0.03085399, 0.00691001, 0.02458678, 0.00273186, 0.00996327,\n",
       "       0.01124885, 0.00241047, 0.00594582, 0.00048209, 0.00128558,\n",
       "       0.        , 0.00337466, 0.00835629, 0.0001607 , 0.00080349,\n",
       "       0.0003214 , 0.00064279, 0.0001607 , 0.        , 0.        ,\n",
       "       0.        , 0.        , 0.        , 0.        , 0.        ,\n",
       "       0.        , 0.        , 0.        , 0.        , 0.        ,\n",
       "       0.        , 0.        , 0.        , 0.        , 0.        ,\n",
       "       0.        , 0.        , 0.        , 0.        , 0.        ,\n",
       "       0.0003214 , 0.        , 0.        , 0.        , 0.        ,\n",
       "       0.00546373, 0.00048209, 0.00048209, 0.00192837, 0.0003214 ,\n",
       "       0.00144628, 0.00096419, 0.00128558, 0.        , 0.0001607 ,\n",
       "       0.0001607 , 0.0001607 , 0.        , 0.00353535, 0.        ,\n",
       "       0.00064279, 0.00128558, 0.        , 0.00048209, 0.        ,\n",
       "       0.        , 0.        , 0.0003214 , 0.0001607 , 0.        ,\n",
       "       0.        , 0.        , 0.        , 0.10445363, 0.00449954,\n",
       "       0.06443985, 0.02812213, 0.00674931, 0.02988981, 0.0228191 ,\n",
       "       0.01799816, 0.00594582, 0.00305326, 0.00642792, 0.02506887,\n",
       "       0.00305326, 0.01044536, 0.00289256, 0.00466024, 0.00369605,\n",
       "       0.00112489, 0.00835629, 0.00128558, 0.00160698, 0.0001607 ,\n",
       "       0.00192837, 0.00658861, 0.0001607 , 0.00192837, 0.        ,\n",
       "       0.00048209, 0.02233701, 0.00064279, 0.0072314 , 0.00498163,\n",
       "       0.00224977, 0.00482094, 0.00257117, 0.00176768, 0.00064279,\n",
       "       0.00128558, 0.00048209, 0.00707071, 0.0001607 , 0.00610652,\n",
       "       0.0003214 , 0.00048209, 0.00064279, 0.00048209, 0.00208907,\n",
       "       0.0001607 , 0.        , 0.        , 0.00048209, 0.00096419,\n",
       "       0.0001607 , 0.0003214 , 0.        , 0.0003214 ])"
      ]
     },
     "execution_count": 164,
     "metadata": {},
     "output_type": "execute_result"
    }
   ],
   "source": [
    "n_bins = len(labels_map['target_midas_and_entity2id'])\n",
    "class_weights, _ = np.histogram(np.argmax(y_train, axis=-1), bins=n_bins, density=True)\n",
    "class_weights"
   ]
  },
  {
   "cell_type": "markdown",
   "id": "4e859df9-bd54-4154-9060-8c3487d50a26",
   "metadata": {
    "tags": []
   },
   "source": [
    "### Catboost"
   ]
  },
  {
   "cell_type": "code",
   "execution_count": 165,
   "id": "8f941ff8-4467-4321-94c8-58b44a51b8d0",
   "metadata": {
    "tags": []
   },
   "outputs": [],
   "source": [
    "cb_train = Pool(np.float32(X_train), label=np.argmax(y_train, axis=-1).tolist())\n",
    "cb_eval = Pool(np.float32(X_test), label=np.argmax(y_test, axis=-1).tolist())"
   ]
  },
  {
   "cell_type": "code",
   "execution_count": 166,
   "id": "fe4abc57-d6b5-4495-8faf-f28da515d698",
   "metadata": {},
   "outputs": [
    {
     "name": "stdout",
     "output_type": "stream",
     "text": [
      "Learning rate set to 0.5\n",
      "0:\tlearn: 0.1245192\ttotal: 1m 4s\tremaining: 15m 7s\n",
      "1:\tlearn: 0.1189103\ttotal: 2m 10s\tremaining: 14m 5s\n",
      "2:\tlearn: 0.1253205\ttotal: 3m 12s\tremaining: 12m 48s\n",
      "3:\tlearn: 0.1331731\ttotal: 4m 13s\tremaining: 11m 37s\n",
      "4:\tlearn: 0.1485577\ttotal: 5m 18s\tremaining: 10m 37s\n",
      "5:\tlearn: 0.1621795\ttotal: 6m 22s\tremaining: 9m 33s\n",
      "6:\tlearn: 0.1790064\ttotal: 7m 25s\tremaining: 8m 29s\n",
      "7:\tlearn: 0.1939103\ttotal: 8m 30s\tremaining: 7m 26s\n",
      "8:\tlearn: 0.2022436\ttotal: 9m 33s\tremaining: 6m 22s\n",
      "9:\tlearn: 0.2142628\ttotal: 10m 38s\tremaining: 5m 19s\n",
      "10:\tlearn: 0.2285256\ttotal: 11m 40s\tremaining: 4m 14s\n",
      "11:\tlearn: 0.2354167\ttotal: 12m 45s\tremaining: 3m 11s\n",
      "12:\tlearn: 0.2493590\ttotal: 13m 48s\tremaining: 2m 7s\n",
      "13:\tlearn: 0.2647436\ttotal: 14m 48s\tremaining: 1m 3s\n",
      "14:\tlearn: 0.2759615\ttotal: 15m 53s\tremaining: 0us\n"
     ]
    },
    {
     "data": {
      "text/plain": [
       "<catboost.core.CatBoostClassifier at 0x2382d8d5400>"
      ]
     },
     "execution_count": 166,
     "metadata": {},
     "output_type": "execute_result"
    }
   ],
   "source": [
    "model_params = {\n",
    "    'task_type': 'CPU',\n",
    "    'iterations': 15,\n",
    "    'verbose': True,\n",
    "    'loss_function': 'MultiClass',\n",
    "    'eval_metric': 'Accuracy',\n",
    "    # 'use_best_model': True,\n",
    "    # 'class_weights': class_weights\n",
    "}\n",
    "\n",
    "fit_params = {\n",
    "    # 'use_best_model': True,\n",
    "    'early_stopping_rounds': 5,\n",
    "    # 'eval_set': cb_eval, \n",
    "}\n",
    "\n",
    "model = CatBoostClassifier(**model_params)\n",
    "model.fit(cb_train, **fit_params)"
   ]
  },
  {
   "cell_type": "code",
   "execution_count": 167,
   "id": "0f0d16ec-c3cc-4a2d-bed2-4e3971bae10c",
   "metadata": {},
   "outputs": [
    {
     "name": "stdout",
     "output_type": "stream",
     "text": [
      "class =  (1560, 1)\n"
     ]
    }
   ],
   "source": [
    "cb_pred = model.predict(cb_eval)\n",
    "print(\"class = \", cb_pred.shape)"
   ]
  },
  {
   "cell_type": "code",
   "execution_count": 168,
   "id": "d9c94a1b-ac21-42dd-a032-6f970c4b14e9",
   "metadata": {},
   "outputs": [
    {
     "data": {
      "text/plain": [
       "Counter({310: 244,\n",
       "         235: 117,\n",
       "         224: 245,\n",
       "         308: 294,\n",
       "         229: 132,\n",
       "         228: 4,\n",
       "         226: 132,\n",
       "         319: 58,\n",
       "         227: 30,\n",
       "         315: 42,\n",
       "         336: 16,\n",
       "         230: 34,\n",
       "         237: 48,\n",
       "         311: 19,\n",
       "         313: 41,\n",
       "         233: 5,\n",
       "         314: 13,\n",
       "         56: 3,\n",
       "         240: 14,\n",
       "         247: 9,\n",
       "         231: 20,\n",
       "         61: 1,\n",
       "         236: 2,\n",
       "         326: 10,\n",
       "         242: 7,\n",
       "         60: 1,\n",
       "         331: 4,\n",
       "         239: 2,\n",
       "         321: 3,\n",
       "         280: 5,\n",
       "         225: 2,\n",
       "         63: 2,\n",
       "         338: 1})"
      ]
     },
     "execution_count": 168,
     "metadata": {},
     "output_type": "execute_result"
    }
   ],
   "source": [
    "Counter(cb_pred.squeeze())"
   ]
  },
  {
   "cell_type": "code",
   "execution_count": 169,
   "id": "909b8286-6058-49e6-81a2-2357b3e87c77",
   "metadata": {},
   "outputs": [
    {
     "data": {
      "text/plain": [
       "0.1391025641025641"
      ]
     },
     "execution_count": 169,
     "metadata": {},
     "output_type": "execute_result"
    }
   ],
   "source": [
    "accuracy_score(np.argmax(y_test, axis=-1), cb_pred.squeeze())"
   ]
  },
  {
   "cell_type": "code",
   "execution_count": 170,
   "id": "5799bf91-5ad3-40a7-aabf-1fc934c64586",
   "metadata": {},
   "outputs": [
    {
     "data": {
      "text/plain": [
       "0.1391025641025641"
      ]
     },
     "execution_count": 170,
     "metadata": {},
     "output_type": "execute_result"
    }
   ],
   "source": [
    "model.score(cb_eval)"
   ]
  },
  {
   "cell_type": "code",
   "execution_count": 171,
   "id": "47db976e-32cd-4e58-af5c-21dfaf0f671e",
   "metadata": {},
   "outputs": [
    {
     "data": {
      "text/plain": [
       "0.10974946365446388"
      ]
     },
     "execution_count": 171,
     "metadata": {},
     "output_type": "execute_result"
    }
   ],
   "source": [
    "f1_score(np.argmax(y_test, axis=-1), cb_pred.squeeze(), average='weighted')"
   ]
  },
  {
   "cell_type": "markdown",
   "id": "7f4558df-ae34-48e7-8dc9-f9bed7fc129d",
   "metadata": {
    "tags": []
   },
   "source": [
    "### LogisticRegression"
   ]
  },
  {
   "cell_type": "code",
   "execution_count": 172,
   "id": "61d9023f-a5c2-4609-a921-1b9f5fd8d6e3",
   "metadata": {},
   "outputs": [
    {
     "data": {
      "text/plain": [
       "LogisticRegression(max_iter=500, random_state=42)"
      ]
     },
     "execution_count": 172,
     "metadata": {},
     "output_type": "execute_result"
    }
   ],
   "source": [
    "lg = LogisticRegression(random_state=42, max_iter=500)\n",
    "lg.fit(X_train, np.argmax(y_train, axis=-1))"
   ]
  },
  {
   "cell_type": "code",
   "execution_count": 173,
   "id": "670bfd04-6e1b-4de7-8a1c-eed28ba1ffbe",
   "metadata": {},
   "outputs": [],
   "source": [
    "logreg_pred = lg.predict(X_test)"
   ]
  },
  {
   "cell_type": "code",
   "execution_count": 174,
   "id": "01e9fa85-7c4b-43ab-b34f-c2caf0ed55dc",
   "metadata": {},
   "outputs": [
    {
     "data": {
      "text/plain": [
       "Counter({242: 6,\n",
       "         235: 78,\n",
       "         225: 12,\n",
       "         308: 274,\n",
       "         224: 246,\n",
       "         310: 139,\n",
       "         226: 102,\n",
       "         230: 69,\n",
       "         240: 14,\n",
       "         229: 146,\n",
       "         313: 48,\n",
       "         227: 45,\n",
       "         315: 35,\n",
       "         232: 4,\n",
       "         314: 24,\n",
       "         319: 38,\n",
       "         321: 3,\n",
       "         237: 65,\n",
       "         231: 33,\n",
       "         311: 36,\n",
       "         336: 20,\n",
       "         323: 5,\n",
       "         280: 2,\n",
       "         236: 14,\n",
       "         331: 5,\n",
       "         239: 7,\n",
       "         228: 15,\n",
       "         318: 5,\n",
       "         287: 2,\n",
       "         326: 9,\n",
       "         234: 2,\n",
       "         247: 10,\n",
       "         58: 2,\n",
       "         61: 5,\n",
       "         324: 4,\n",
       "         56: 4,\n",
       "         312: 4,\n",
       "         293: 2,\n",
       "         63: 2,\n",
       "         339: 2,\n",
       "         233: 2,\n",
       "         330: 1,\n",
       "         342: 1,\n",
       "         320: 2,\n",
       "         347: 3,\n",
       "         309: 1,\n",
       "         202: 1,\n",
       "         349: 2,\n",
       "         338: 1,\n",
       "         170: 1,\n",
       "         246: 3,\n",
       "         316: 2,\n",
       "         66: 1,\n",
       "         28: 1})"
      ]
     },
     "execution_count": 174,
     "metadata": {},
     "output_type": "execute_result"
    }
   ],
   "source": [
    "Counter(logreg_pred)"
   ]
  },
  {
   "cell_type": "code",
   "execution_count": 175,
   "id": "bcf9b1e4-6470-4a10-91ff-323391bc995b",
   "metadata": {},
   "outputs": [
    {
     "data": {
      "text/plain": [
       "0.20256410256410257"
      ]
     },
     "execution_count": 175,
     "metadata": {},
     "output_type": "execute_result"
    }
   ],
   "source": [
    "accuracy_score(np.argmax(y_test, axis=-1), logreg_pred)"
   ]
  },
  {
   "cell_type": "code",
   "execution_count": 176,
   "id": "b886db15-9b44-4fe2-81ac-a4c512a90e52",
   "metadata": {},
   "outputs": [
    {
     "data": {
      "text/plain": [
       "0.17200188697629604"
      ]
     },
     "execution_count": 176,
     "metadata": {},
     "output_type": "execute_result"
    }
   ],
   "source": [
    "f1_score(np.argmax(y_test, axis=-1), logreg_pred, average='weighted')"
   ]
  },
  {
   "cell_type": "markdown",
   "id": "347efa63-ce07-40d5-9293-41c2e1acc897",
   "metadata": {},
   "source": [
    "### RandomForest"
   ]
  },
  {
   "cell_type": "code",
   "execution_count": 177,
   "id": "fab60104-a344-42a3-8bb0-aeee1c04812f",
   "metadata": {},
   "outputs": [],
   "source": [
    "rf = RandomForestClassifier(max_depth=10, random_state=42)"
   ]
  },
  {
   "cell_type": "code",
   "execution_count": 178,
   "id": "ee17f960-f080-494f-94b9-3634571fe53d",
   "metadata": {},
   "outputs": [
    {
     "data": {
      "text/plain": [
       "RandomForestClassifier(max_depth=10, random_state=42)"
      ]
     },
     "execution_count": 178,
     "metadata": {},
     "output_type": "execute_result"
    }
   ],
   "source": [
    "rf.fit(X_train, np.argmax(y_train, axis=-1))"
   ]
  },
  {
   "cell_type": "code",
   "execution_count": 179,
   "id": "6b30873a-18e8-4ed4-b2d0-e91a223b9515",
   "metadata": {},
   "outputs": [],
   "source": [
    "rf_preds = rf.predict(X_test)"
   ]
  },
  {
   "cell_type": "code",
   "execution_count": 180,
   "id": "cad32f7c-10c3-4496-bae5-1752f1172704",
   "metadata": {
    "tags": []
   },
   "outputs": [
    {
     "data": {
      "text/plain": [
       "Counter({326: 13,\n",
       "         229: 185,\n",
       "         310: 166,\n",
       "         224: 411,\n",
       "         308: 592,\n",
       "         226: 37,\n",
       "         235: 33,\n",
       "         315: 8,\n",
       "         237: 78,\n",
       "         287: 4,\n",
       "         242: 5,\n",
       "         231: 8,\n",
       "         247: 10,\n",
       "         314: 2,\n",
       "         319: 1,\n",
       "         236: 1,\n",
       "         230: 3,\n",
       "         331: 2,\n",
       "         313: 1})"
      ]
     },
     "execution_count": 180,
     "metadata": {},
     "output_type": "execute_result"
    }
   ],
   "source": [
    "Counter(rf_preds)"
   ]
  },
  {
   "cell_type": "code",
   "execution_count": 181,
   "id": "a6c34824-97b3-4186-8022-db89545fcdf5",
   "metadata": {},
   "outputs": [
    {
     "data": {
      "text/plain": [
       "0.16666666666666666"
      ]
     },
     "execution_count": 181,
     "metadata": {},
     "output_type": "execute_result"
    }
   ],
   "source": [
    "accuracy_score(np.argmax(y_test, axis=-1), rf_preds)"
   ]
  },
  {
   "cell_type": "code",
   "execution_count": 182,
   "id": "3fd99dc1-9ddc-4e0d-91d0-b38ceeae8166",
   "metadata": {
    "tags": []
   },
   "outputs": [
    {
     "data": {
      "text/plain": [
       "0.10530037101421616"
      ]
     },
     "execution_count": 182,
     "metadata": {},
     "output_type": "execute_result"
    }
   ],
   "source": [
    "f1_score(np.argmax(y_test, axis=-1), rf_preds, average='weighted')"
   ]
  },
  {
   "cell_type": "code",
   "execution_count": null,
   "id": "53926a47-b277-4898-9df1-9eb1758a2b15",
   "metadata": {},
   "outputs": [],
   "source": []
  },
  {
   "cell_type": "code",
   "execution_count": null,
   "id": "bc709b6e-41fd-4f57-bc0f-1e2ed86ccffd",
   "metadata": {},
   "outputs": [],
   "source": []
  },
  {
   "cell_type": "code",
   "execution_count": null,
   "id": "455f268f-78cf-4917-af01-a81925dafcf7",
   "metadata": {},
   "outputs": [],
   "source": []
  }
 ],
 "metadata": {
  "kernelspec": {
   "display_name": "Python 3 (ipykernel)",
   "language": "python",
   "name": "python3"
  },
  "language_info": {
   "codemirror_mode": {
    "name": "ipython",
    "version": 3
   },
   "file_extension": ".py",
   "mimetype": "text/x-python",
   "name": "python",
   "nbconvert_exporter": "python",
   "pygments_lexer": "ipython3",
   "version": "3.8.2"
  }
 },
 "nbformat": 4,
 "nbformat_minor": 5
}
